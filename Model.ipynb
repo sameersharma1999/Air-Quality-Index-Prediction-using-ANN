{
 "cells": [
  {
   "cell_type": "code",
   "execution_count": 1,
   "metadata": {},
   "outputs": [],
   "source": [
    "import pandas as pd\n",
    "import numpy as np\n",
    "import tensorflow as tf\n",
    "\n",
    "from tensorflow import keras\n",
    "from tensorflow.keras import layers\n",
    "from kerastuner.tuners import RandomSearch\n",
    "\n",
    "import warnings \n",
    "warnings.filterwarnings('ignore')"
   ]
  },
  {
   "cell_type": "code",
   "execution_count": 2,
   "metadata": {},
   "outputs": [],
   "source": [
    "df = pd.read_csv('AIQ.csv')"
   ]
  },
  {
   "cell_type": "code",
   "execution_count": 3,
   "metadata": {},
   "outputs": [
    {
     "name": "stdout",
     "output_type": "stream",
     "text": [
      "<class 'pandas.core.frame.DataFrame'>\n",
      "RangeIndex: 1093 entries, 0 to 1092\n",
      "Data columns (total 9 columns):\n",
      " #   Column  Non-Null Count  Dtype  \n",
      "---  ------  --------------  -----  \n",
      " 0   T       1093 non-null   float64\n",
      " 1   TM      1093 non-null   float64\n",
      " 2   Tm      1093 non-null   float64\n",
      " 3   SLP     1093 non-null   float64\n",
      " 4   H       1093 non-null   float64\n",
      " 5   VV      1093 non-null   float64\n",
      " 6   V       1093 non-null   float64\n",
      " 7   VM      1093 non-null   float64\n",
      " 8   PM 2.5  1092 non-null   float64\n",
      "dtypes: float64(9)\n",
      "memory usage: 77.0 KB\n"
     ]
    }
   ],
   "source": [
    "df.info()"
   ]
  },
  {
   "cell_type": "code",
   "execution_count": 4,
   "metadata": {},
   "outputs": [
    {
     "data": {
      "text/html": [
       "<div>\n",
       "<style scoped>\n",
       "    .dataframe tbody tr th:only-of-type {\n",
       "        vertical-align: middle;\n",
       "    }\n",
       "\n",
       "    .dataframe tbody tr th {\n",
       "        vertical-align: top;\n",
       "    }\n",
       "\n",
       "    .dataframe thead th {\n",
       "        text-align: right;\n",
       "    }\n",
       "</style>\n",
       "<table border=\"1\" class=\"dataframe\">\n",
       "  <thead>\n",
       "    <tr style=\"text-align: right;\">\n",
       "      <th></th>\n",
       "      <th>T</th>\n",
       "      <th>TM</th>\n",
       "      <th>Tm</th>\n",
       "      <th>SLP</th>\n",
       "      <th>H</th>\n",
       "      <th>VV</th>\n",
       "      <th>V</th>\n",
       "      <th>VM</th>\n",
       "      <th>PM 2.5</th>\n",
       "    </tr>\n",
       "  </thead>\n",
       "  <tbody>\n",
       "    <tr>\n",
       "      <th>0</th>\n",
       "      <td>7.4</td>\n",
       "      <td>9.8</td>\n",
       "      <td>4.8</td>\n",
       "      <td>1017.6</td>\n",
       "      <td>93.0</td>\n",
       "      <td>0.5</td>\n",
       "      <td>4.3</td>\n",
       "      <td>9.4</td>\n",
       "      <td>219.720833</td>\n",
       "    </tr>\n",
       "    <tr>\n",
       "      <th>1</th>\n",
       "      <td>7.8</td>\n",
       "      <td>12.7</td>\n",
       "      <td>4.4</td>\n",
       "      <td>1018.5</td>\n",
       "      <td>87.0</td>\n",
       "      <td>0.6</td>\n",
       "      <td>4.4</td>\n",
       "      <td>11.1</td>\n",
       "      <td>182.187500</td>\n",
       "    </tr>\n",
       "    <tr>\n",
       "      <th>2</th>\n",
       "      <td>6.7</td>\n",
       "      <td>13.4</td>\n",
       "      <td>2.4</td>\n",
       "      <td>1019.4</td>\n",
       "      <td>82.0</td>\n",
       "      <td>0.6</td>\n",
       "      <td>4.8</td>\n",
       "      <td>11.1</td>\n",
       "      <td>154.037500</td>\n",
       "    </tr>\n",
       "    <tr>\n",
       "      <th>3</th>\n",
       "      <td>8.6</td>\n",
       "      <td>15.5</td>\n",
       "      <td>3.3</td>\n",
       "      <td>1018.7</td>\n",
       "      <td>72.0</td>\n",
       "      <td>0.8</td>\n",
       "      <td>8.1</td>\n",
       "      <td>20.6</td>\n",
       "      <td>223.208333</td>\n",
       "    </tr>\n",
       "    <tr>\n",
       "      <th>4</th>\n",
       "      <td>12.4</td>\n",
       "      <td>20.9</td>\n",
       "      <td>4.4</td>\n",
       "      <td>1017.3</td>\n",
       "      <td>61.0</td>\n",
       "      <td>1.3</td>\n",
       "      <td>8.7</td>\n",
       "      <td>22.2</td>\n",
       "      <td>200.645833</td>\n",
       "    </tr>\n",
       "  </tbody>\n",
       "</table>\n",
       "</div>"
      ],
      "text/plain": [
       "      T    TM   Tm     SLP     H   VV    V    VM      PM 2.5\n",
       "0   7.4   9.8  4.8  1017.6  93.0  0.5  4.3   9.4  219.720833\n",
       "1   7.8  12.7  4.4  1018.5  87.0  0.6  4.4  11.1  182.187500\n",
       "2   6.7  13.4  2.4  1019.4  82.0  0.6  4.8  11.1  154.037500\n",
       "3   8.6  15.5  3.3  1018.7  72.0  0.8  8.1  20.6  223.208333\n",
       "4  12.4  20.9  4.4  1017.3  61.0  1.3  8.7  22.2  200.645833"
      ]
     },
     "execution_count": 4,
     "metadata": {},
     "output_type": "execute_result"
    }
   ],
   "source": [
    "df.head()"
   ]
  },
  {
   "cell_type": "code",
   "execution_count": 5,
   "metadata": {},
   "outputs": [],
   "source": [
    "# <<--- Independent and Dependent Variables --->>\n",
    "\n",
    "X = df.iloc[:, :-1]\n",
    "Y = df['PM 2.5']"
   ]
  },
  {
   "cell_type": "code",
   "execution_count": 6,
   "metadata": {},
   "outputs": [],
   "source": [
    "# <<-- Train Test Split -->>\n",
    "\n",
    "from sklearn.model_selection import train_test_split\n",
    "\n",
    "x_train, x_test, y_train, y_test = train_test_split(X, Y, train_size=0.8, test_size=0.2, random_state=0)"
   ]
  },
  {
   "cell_type": "code",
   "execution_count": 7,
   "metadata": {},
   "outputs": [],
   "source": [
    "# <<-- Scale Data -->>\n",
    "\n",
    "from sklearn.preprocessing import StandardScaler\n",
    "\n",
    "ss = StandardScaler()\n",
    "x_train = ss.fit_transform(x_train)\n",
    "x_test = ss.transform(x_test)"
   ]
  },
  {
   "cell_type": "markdown",
   "metadata": {},
   "source": [
    "## Model Building by Hyperparameter Tuning"
   ]
  },
  {
   "cell_type": "code",
   "execution_count": 8,
   "metadata": {},
   "outputs": [],
   "source": [
    "def build_model(hp):\n",
    "    model = keras.Sequential()\n",
    "    \n",
    "    for i in range(hp.Int('num_layers', 2, 20)):\n",
    "        model.add(layers.Dense(units=hp.Int('units_' + str(i),\n",
    "                                            min_value=32,\n",
    "                                            max_value=512,\n",
    "                                            step=32),\n",
    "                               activation='relu'))\n",
    "        \n",
    "    model.add(layers.Dense(1))\n",
    "    \n",
    "    model.compile(\n",
    "        optimizer=keras.optimizers.Adam(\n",
    "            hp.Choice('learning_rate', [1e-2, 1e-3, 1e-4])),\n",
    "            loss='mean_absolute_error',\n",
    "            metrics=['mean_absolute_error'])\n",
    "    \n",
    "    return model"
   ]
  },
  {
   "cell_type": "code",
   "execution_count": 9,
   "metadata": {},
   "outputs": [],
   "source": [
    "tuner = RandomSearch(\n",
    "    build_model,\n",
    "    objective='val_mean_absolute_error',\n",
    "    max_trials=5,\n",
    "    executions_per_trial=3,\n",
    "    directory='my_dir',\n",
    "    project_name='Models')"
   ]
  },
  {
   "cell_type": "code",
   "execution_count": 10,
   "metadata": {},
   "outputs": [
    {
     "name": "stdout",
     "output_type": "stream",
     "text": [
      "\n"
     ]
    }
   ],
   "source": [
    "'''\n",
    "max_trials represents the number of hyperparameter combinations that will be tested by the tuner, while execution_per_trial is\n",
    "the number of models that should be built and fit for each trial for robustness purposes.\n",
    "\n",
    "For example, let's imagine you have a shallow network (one hidden layer) with the following parameter search space:\n",
    "\n",
    "Number of Hidden units: 16, 32, 48, 64\n",
    "Choice of activation functions: ReLu, Sigmoid, TanH\n",
    "You have a total of 12 combinations (4 times 3).\n",
    "\n",
    "Then, at this point, when you set up max_trials = 40, you configure the tuner to find 40 random tuples of the \n",
    "Hidden units and activation functions, e.g. (16, ReLu), (32, Sigmoid), (16, TanH)... up until 40 tuples. For each tuple you \n",
    "will run as many executions as you also set up in execution_per_trial variable, given that depending on how the model runs the\n",
    "optimization process, final results could be very different. For each trial and execution, the tuner will fit the model with \n",
    "as many epochs as you configure in the script.\n",
    "'''\n",
    "print()"
   ]
  },
  {
   "cell_type": "code",
   "execution_count": 11,
   "metadata": {},
   "outputs": [
    {
     "data": {
      "text/html": [
       "<span style=\"color:#4527A0\"><h1 style=\"font-size:18px\">Search space summary</h1></span>"
      ],
      "text/plain": [
       "<IPython.core.display.HTML object>"
      ]
     },
     "metadata": {},
     "output_type": "display_data"
    },
    {
     "data": {
      "text/html": [
       "<span style=\"color:cyan\"> |-Default search space size: 4</span>"
      ],
      "text/plain": [
       "<IPython.core.display.HTML object>"
      ]
     },
     "metadata": {},
     "output_type": "display_data"
    },
    {
     "data": {
      "text/html": [
       "<span style=\"color:#7E57C2\"><h2 style=\"font-size:16px\">num_layers (Int)</h2></span>"
      ],
      "text/plain": [
       "<IPython.core.display.HTML object>"
      ]
     },
     "metadata": {},
     "output_type": "display_data"
    },
    {
     "data": {
      "text/html": [
       "<span style=\"color:cyan\"> |-default: None</span>"
      ],
      "text/plain": [
       "<IPython.core.display.HTML object>"
      ]
     },
     "metadata": {},
     "output_type": "display_data"
    },
    {
     "data": {
      "text/html": [
       "<span style=\"color:blue\"> |-max_value: 20</span>"
      ],
      "text/plain": [
       "<IPython.core.display.HTML object>"
      ]
     },
     "metadata": {},
     "output_type": "display_data"
    },
    {
     "data": {
      "text/html": [
       "<span style=\"color:cyan\"> |-min_value: 2</span>"
      ],
      "text/plain": [
       "<IPython.core.display.HTML object>"
      ]
     },
     "metadata": {},
     "output_type": "display_data"
    },
    {
     "data": {
      "text/html": [
       "<span style=\"color:blue\"> |-sampling: None</span>"
      ],
      "text/plain": [
       "<IPython.core.display.HTML object>"
      ]
     },
     "metadata": {},
     "output_type": "display_data"
    },
    {
     "data": {
      "text/html": [
       "<span style=\"color:cyan\"> |-step: 1</span>"
      ],
      "text/plain": [
       "<IPython.core.display.HTML object>"
      ]
     },
     "metadata": {},
     "output_type": "display_data"
    },
    {
     "data": {
      "text/html": [
       "<span style=\"color:#7E57C2\"><h2 style=\"font-size:16px\">units_0 (Int)</h2></span>"
      ],
      "text/plain": [
       "<IPython.core.display.HTML object>"
      ]
     },
     "metadata": {},
     "output_type": "display_data"
    },
    {
     "data": {
      "text/html": [
       "<span style=\"color:cyan\"> |-default: None</span>"
      ],
      "text/plain": [
       "<IPython.core.display.HTML object>"
      ]
     },
     "metadata": {},
     "output_type": "display_data"
    },
    {
     "data": {
      "text/html": [
       "<span style=\"color:blue\"> |-max_value: 512</span>"
      ],
      "text/plain": [
       "<IPython.core.display.HTML object>"
      ]
     },
     "metadata": {},
     "output_type": "display_data"
    },
    {
     "data": {
      "text/html": [
       "<span style=\"color:cyan\"> |-min_value: 32</span>"
      ],
      "text/plain": [
       "<IPython.core.display.HTML object>"
      ]
     },
     "metadata": {},
     "output_type": "display_data"
    },
    {
     "data": {
      "text/html": [
       "<span style=\"color:blue\"> |-sampling: None</span>"
      ],
      "text/plain": [
       "<IPython.core.display.HTML object>"
      ]
     },
     "metadata": {},
     "output_type": "display_data"
    },
    {
     "data": {
      "text/html": [
       "<span style=\"color:cyan\"> |-step: 32</span>"
      ],
      "text/plain": [
       "<IPython.core.display.HTML object>"
      ]
     },
     "metadata": {},
     "output_type": "display_data"
    },
    {
     "data": {
      "text/html": [
       "<span style=\"color:#7E57C2\"><h2 style=\"font-size:16px\">units_1 (Int)</h2></span>"
      ],
      "text/plain": [
       "<IPython.core.display.HTML object>"
      ]
     },
     "metadata": {},
     "output_type": "display_data"
    },
    {
     "data": {
      "text/html": [
       "<span style=\"color:cyan\"> |-default: None</span>"
      ],
      "text/plain": [
       "<IPython.core.display.HTML object>"
      ]
     },
     "metadata": {},
     "output_type": "display_data"
    },
    {
     "data": {
      "text/html": [
       "<span style=\"color:blue\"> |-max_value: 512</span>"
      ],
      "text/plain": [
       "<IPython.core.display.HTML object>"
      ]
     },
     "metadata": {},
     "output_type": "display_data"
    },
    {
     "data": {
      "text/html": [
       "<span style=\"color:cyan\"> |-min_value: 32</span>"
      ],
      "text/plain": [
       "<IPython.core.display.HTML object>"
      ]
     },
     "metadata": {},
     "output_type": "display_data"
    },
    {
     "data": {
      "text/html": [
       "<span style=\"color:blue\"> |-sampling: None</span>"
      ],
      "text/plain": [
       "<IPython.core.display.HTML object>"
      ]
     },
     "metadata": {},
     "output_type": "display_data"
    },
    {
     "data": {
      "text/html": [
       "<span style=\"color:cyan\"> |-step: 32</span>"
      ],
      "text/plain": [
       "<IPython.core.display.HTML object>"
      ]
     },
     "metadata": {},
     "output_type": "display_data"
    },
    {
     "data": {
      "text/html": [
       "<span style=\"color:#7E57C2\"><h2 style=\"font-size:16px\">learning_rate (Choice)</h2></span>"
      ],
      "text/plain": [
       "<IPython.core.display.HTML object>"
      ]
     },
     "metadata": {},
     "output_type": "display_data"
    },
    {
     "data": {
      "text/html": [
       "<span style=\"color:cyan\"> |-default: 0.01</span>"
      ],
      "text/plain": [
       "<IPython.core.display.HTML object>"
      ]
     },
     "metadata": {},
     "output_type": "display_data"
    },
    {
     "data": {
      "text/html": [
       "<span style=\"color:blue\"> |-ordered: True</span>"
      ],
      "text/plain": [
       "<IPython.core.display.HTML object>"
      ]
     },
     "metadata": {},
     "output_type": "display_data"
    },
    {
     "data": {
      "text/html": [
       "<span style=\"color:cyan\"> |-values: [0.01, 0.001, 0.0001]</span>"
      ],
      "text/plain": [
       "<IPython.core.display.HTML object>"
      ]
     },
     "metadata": {},
     "output_type": "display_data"
    }
   ],
   "source": [
    "tuner.search_space_summary()"
   ]
  },
  {
   "cell_type": "code",
   "execution_count": 12,
   "metadata": {},
   "outputs": [
    {
     "name": "stdout",
     "output_type": "stream",
     "text": [
      "Epoch 1/100\n",
      "28/28 [==============================] - ETA: 0s - loss: 114.3863 - mean_absolute_error: 114.386 - ETA: 0s - loss: nan - mean_absolute_error: nan          - 0s 18ms/step - loss: nan - mean_absolute_error: nan - val_loss: 95.6578 - val_mean_absolute_error: 95.6578\n",
      "Epoch 2/100\n",
      "28/28 [==============================] - ETA: 0s - loss: 99.0629 - mean_absolute_error: 99.062 - ETA: 0s - loss: 85.8861 - mean_absolute_error: 85.886 - 0s 10ms/step - loss: nan - mean_absolute_error: nan - val_loss: 49.1108 - val_mean_absolute_error: 49.1108\n",
      "Epoch 3/100\n",
      "28/28 [==============================] - ETA: 0s - loss: 37.2408 - mean_absolute_error: 37.240 - ETA: 0s - loss: 47.3637 - mean_absolute_error: 47.363 - 0s 11ms/step - loss: nan - mean_absolute_error: nan - val_loss: 42.8954 - val_mean_absolute_error: 42.8954\n",
      "Epoch 4/100\n",
      "28/28 [==============================] - ETA: 0s - loss: 39.1970 - mean_absolute_error: 39.197 - ETA: 0s - loss: nan - mean_absolute_error: nan        - 0s 10ms/step - loss: nan - mean_absolute_error: nan - val_loss: 41.9891 - val_mean_absolute_error: 41.9891\n",
      "Epoch 5/100\n",
      "28/28 [==============================] - ETA: 0s - loss: 41.7741 - mean_absolute_error: 41.774 - ETA: 0s - loss: 40.9304 - mean_absolute_error: 40.930 - 0s 14ms/step - loss: nan - mean_absolute_error: nan - val_loss: 40.2365 - val_mean_absolute_error: 40.2365\n",
      "Epoch 6/100\n",
      "28/28 [==============================] - ETA: 0s - loss: 43.1715 - mean_absolute_error: 43.171 - ETA: 0s - loss: 43.1213 - mean_absolute_error: 43.121 - 0s 10ms/step - loss: nan - mean_absolute_error: nan - val_loss: 39.0359 - val_mean_absolute_error: 39.0359\n",
      "Epoch 7/100\n",
      "28/28 [==============================] - ETA: 0s - loss: 45.6209 - mean_absolute_error: 45.620 - ETA: 0s - loss: 38.3519 - mean_absolute_error: 38.351 - 0s 10ms/step - loss: nan - mean_absolute_error: nan - val_loss: 38.9845 - val_mean_absolute_error: 38.9845\n",
      "Epoch 8/100\n",
      "28/28 [==============================] - ETA: 0s - loss: 35.7751 - mean_absolute_error: 35.775 - ETA: 0s - loss: 40.6801 - mean_absolute_error: 40.680 - 0s 5ms/step - loss: nan - mean_absolute_error: nan - val_loss: 39.2631 - val_mean_absolute_error: 39.2631\n",
      "Epoch 9/100\n",
      "28/28 [==============================] - ETA: 0s - loss: 40.7635 - mean_absolute_error: 40.763 - ETA: 0s - loss: 38.2644 - mean_absolute_error: 38.264 - 0s 12ms/step - loss: nan - mean_absolute_error: nan - val_loss: 37.8687 - val_mean_absolute_error: 37.8687\n",
      "Epoch 10/100\n",
      "28/28 [==============================] - ETA: 0s - loss: 35.4721 - mean_absolute_error: 35.472 - ETA: 0s - loss: nan - mean_absolute_error: nan        - 0s 5ms/step - loss: nan - mean_absolute_error: nan - val_loss: 38.3389 - val_mean_absolute_error: 38.3389\n",
      "Epoch 11/100\n",
      "28/28 [==============================] - ETA: 0s - loss: 25.0405 - mean_absolute_error: 25.040 - ETA: 0s - loss: 39.6369 - mean_absolute_error: 39.636 - 0s 10ms/step - loss: nan - mean_absolute_error: nan - val_loss: 37.3232 - val_mean_absolute_error: 37.3232\n",
      "Epoch 12/100\n",
      "28/28 [==============================] - ETA: 0s - loss: 38.9912 - mean_absolute_error: 38.991 - ETA: 0s - loss: 34.0962 - mean_absolute_error: 34.096 - 0s 10ms/step - loss: nan - mean_absolute_error: nan - val_loss: 36.9974 - val_mean_absolute_error: 36.9974\n",
      "Epoch 13/100\n",
      "28/28 [==============================] - ETA: 0s - loss: 35.1376 - mean_absolute_error: 35.137 - ETA: 0s - loss: nan - mean_absolute_error: nan        - 0s 5ms/step - loss: nan - mean_absolute_error: nan - val_loss: 37.2072 - val_mean_absolute_error: 37.2072\n",
      "Epoch 14/100\n",
      "28/28 [==============================] - ETA: 0s - loss: 39.9534 - mean_absolute_error: 39.953 - ETA: 0s - loss: 36.5080 - mean_absolute_error: 36.508 - 0s 5ms/step - loss: nan - mean_absolute_error: nan - val_loss: 37.0799 - val_mean_absolute_error: 37.0799\n",
      "Epoch 15/100\n",
      "28/28 [==============================] - ETA: 0s - loss: 40.8597 - mean_absolute_error: 40.859 - ETA: 0s - loss: nan - mean_absolute_error: nan        - 0s 10ms/step - loss: nan - mean_absolute_error: nan - val_loss: 36.6363 - val_mean_absolute_error: 36.6363\n",
      "Epoch 16/100\n",
      "28/28 [==============================] - ETA: 0s - loss: 28.5074 - mean_absolute_error: 28.507 - ETA: 0s - loss: 36.4166 - mean_absolute_error: 36.416 - 0s 10ms/step - loss: nan - mean_absolute_error: nan - val_loss: 36.3768 - val_mean_absolute_error: 36.3768\n",
      "Epoch 17/100\n",
      "28/28 [==============================] - ETA: 0s - loss: 33.5121 - mean_absolute_error: 33.512 - ETA: 0s - loss: 35.2024 - mean_absolute_error: 35.202 - 0s 5ms/step - loss: nan - mean_absolute_error: nan - val_loss: 36.4020 - val_mean_absolute_error: 36.4020\n",
      "Epoch 18/100\n",
      "28/28 [==============================] - ETA: 0s - loss: 31.8428 - mean_absolute_error: 31.842 - ETA: 0s - loss: nan - mean_absolute_error: nan        - 0s 10ms/step - loss: nan - mean_absolute_error: nan - val_loss: 35.9061 - val_mean_absolute_error: 35.9061\n",
      "Epoch 19/100\n",
      "28/28 [==============================] - ETA: 0s - loss: 36.0854 - mean_absolute_error: 36.085 - ETA: 0s - loss: nan - mean_absolute_error: nan        - 0s 6ms/step - loss: nan - mean_absolute_error: nan - val_loss: 35.9125 - val_mean_absolute_error: 35.9125\n",
      "Epoch 20/100\n",
      "28/28 [==============================] - ETA: 0s - loss: 35.1983 - mean_absolute_error: 35.198 - ETA: 0s - loss: nan - mean_absolute_error: nan        - 0s 5ms/step - loss: nan - mean_absolute_error: nan - val_loss: 36.9994 - val_mean_absolute_error: 36.9994\n",
      "Epoch 21/100\n",
      "28/28 [==============================] - ETA: 0s - loss: 39.5261 - mean_absolute_error: 39.526 - ETA: 0s - loss: 35.2238 - mean_absolute_error: 35.223 - 0s 5ms/step - loss: nan - mean_absolute_error: nan - val_loss: 36.5718 - val_mean_absolute_error: 36.5718\n",
      "Epoch 22/100\n",
      "28/28 [==============================] - ETA: 0s - loss: 36.0577 - mean_absolute_error: 36.057 - ETA: 0s - loss: nan - mean_absolute_error: nan        - 0s 9ms/step - loss: nan - mean_absolute_error: nan - val_loss: 35.2936 - val_mean_absolute_error: 35.2936\n",
      "Epoch 23/100\n",
      "28/28 [==============================] - ETA: 0s - loss: 34.7216 - mean_absolute_error: 34.721 - ETA: 0s - loss: nan - mean_absolute_error: nan        - 0s 10ms/step - loss: nan - mean_absolute_error: nan - val_loss: 35.1585 - val_mean_absolute_error: 35.1585\n",
      "Epoch 24/100\n",
      "28/28 [==============================] - ETA: 0s - loss: 30.3734 - mean_absolute_error: 30.373 - ETA: 0s - loss: nan - mean_absolute_error: nan        - 0s 5ms/step - loss: nan - mean_absolute_error: nan - val_loss: 35.4840 - val_mean_absolute_error: 35.4840\n",
      "Epoch 25/100\n",
      "28/28 [==============================] - ETA: 0s - loss: 27.2094 - mean_absolute_error: 27.209 - ETA: 0s - loss: 33.3181 - mean_absolute_error: 33.318 - 0s 10ms/step - loss: nan - mean_absolute_error: nan - val_loss: 34.9970 - val_mean_absolute_error: 34.9970\n",
      "Epoch 26/100\n",
      "28/28 [==============================] - ETA: 0s - loss: 27.0793 - mean_absolute_error: 27.079 - ETA: 0s - loss: nan - mean_absolute_error: nan        - 0s 10ms/step - loss: nan - mean_absolute_error: nan - val_loss: 34.7314 - val_mean_absolute_error: 34.7314\n",
      "Epoch 27/100\n",
      "28/28 [==============================] - ETA: 0s - loss: 38.4365 - mean_absolute_error: 38.436 - ETA: 0s - loss: 36.3818 - mean_absolute_error: 36.381 - 0s 5ms/step - loss: nan - mean_absolute_error: nan - val_loss: 34.9893 - val_mean_absolute_error: 34.9893\n",
      "Epoch 28/100\n",
      "28/28 [==============================] - ETA: 0s - loss: 31.6019 - mean_absolute_error: 31.601 - ETA: 0s - loss: 33.4436 - mean_absolute_error: 33.443 - 0s 10ms/step - loss: nan - mean_absolute_error: nan - val_loss: 34.2669 - val_mean_absolute_error: 34.2669\n",
      "Epoch 29/100\n",
      "28/28 [==============================] - ETA: 0s - loss: 28.7353 - mean_absolute_error: 28.735 - ETA: 0s - loss: 35.6539 - mean_absolute_error: 35.653 - 0s 5ms/step - loss: nan - mean_absolute_error: nan - val_loss: 35.0229 - val_mean_absolute_error: 35.0229\n",
      "Epoch 30/100\n",
      "28/28 [==============================] - ETA: 0s - loss: 45.6052 - mean_absolute_error: 45.605 - ETA: 0s - loss: nan - mean_absolute_error: nan        - 0s 10ms/step - loss: nan - mean_absolute_error: nan - val_loss: 34.1869 - val_mean_absolute_error: 34.1869\n",
      "Epoch 31/100\n"
     ]
    },
    {
     "name": "stdout",
     "output_type": "stream",
     "text": [
      "28/28 [==============================] - ETA: 0s - loss: 29.0301 - mean_absolute_error: 29.030 - ETA: 0s - loss: 33.9982 - mean_absolute_error: 33.998 - 0s 5ms/step - loss: nan - mean_absolute_error: nan - val_loss: 35.0280 - val_mean_absolute_error: 35.0280\n",
      "Epoch 32/100\n",
      "28/28 [==============================] - ETA: 0s - loss: 38.5534 - mean_absolute_error: 38.553 - ETA: 0s - loss: 32.7767 - mean_absolute_error: 32.776 - 0s 5ms/step - loss: nan - mean_absolute_error: nan - val_loss: 34.7386 - val_mean_absolute_error: 34.7386\n",
      "Epoch 33/100\n",
      "28/28 [==============================] - ETA: 0s - loss: 30.9135 - mean_absolute_error: 30.913 - ETA: 0s - loss: nan - mean_absolute_error: nan        - 0s 9ms/step - loss: nan - mean_absolute_error: nan - val_loss: 33.4599 - val_mean_absolute_error: 33.4599\n",
      "Epoch 34/100\n",
      "28/28 [==============================] - ETA: 0s - loss: 37.1600 - mean_absolute_error: 37.160 - ETA: 0s - loss: nan - mean_absolute_error: nan        - 0s 5ms/step - loss: nan - mean_absolute_error: nan - val_loss: 33.7841 - val_mean_absolute_error: 33.7841\n",
      "Epoch 35/100\n",
      "28/28 [==============================] - ETA: 0s - loss: 33.9152 - mean_absolute_error: 33.915 - ETA: 0s - loss: nan - mean_absolute_error: nan        - 0s 5ms/step - loss: nan - mean_absolute_error: nan - val_loss: 33.5893 - val_mean_absolute_error: 33.5893\n",
      "Epoch 36/100\n",
      "28/28 [==============================] - ETA: 0s - loss: 24.7517 - mean_absolute_error: 24.751 - ETA: 0s - loss: nan - mean_absolute_error: nan        - 0s 5ms/step - loss: nan - mean_absolute_error: nan - val_loss: 33.7626 - val_mean_absolute_error: 33.7626\n",
      "Epoch 37/100\n",
      "28/28 [==============================] - ETA: 0s - loss: 28.3785 - mean_absolute_error: 28.378 - ETA: 0s - loss: nan - mean_absolute_error: nan        - 0s 5ms/step - loss: nan - mean_absolute_error: nan - val_loss: 33.6710 - val_mean_absolute_error: 33.6710\n",
      "Epoch 38/100\n",
      "28/28 [==============================] - ETA: 0s - loss: 45.5761 - mean_absolute_error: 45.576 - ETA: 0s - loss: nan - mean_absolute_error: nan        - 0s 5ms/step - loss: nan - mean_absolute_error: nan - val_loss: 33.5333 - val_mean_absolute_error: 33.5333\n",
      "Epoch 39/100\n",
      "28/28 [==============================] - ETA: 0s - loss: 32.0160 - mean_absolute_error: 32.016 - ETA: 0s - loss: nan - mean_absolute_error: nan        - 0s 5ms/step - loss: nan - mean_absolute_error: nan - val_loss: 34.1413 - val_mean_absolute_error: 34.1413\n",
      "Epoch 40/100\n",
      "28/28 [==============================] - ETA: 0s - loss: 31.9323 - mean_absolute_error: 31.932 - ETA: 0s - loss: nan - mean_absolute_error: nan        - 0s 9ms/step - loss: nan - mean_absolute_error: nan - val_loss: 33.2849 - val_mean_absolute_error: 33.2849\n",
      "Epoch 41/100\n",
      "28/28 [==============================] - ETA: 0s - loss: 28.6460 - mean_absolute_error: 28.646 - ETA: 0s - loss: 31.6262 - mean_absolute_error: 31.626 - 0s 5ms/step - loss: nan - mean_absolute_error: nan - val_loss: 33.3707 - val_mean_absolute_error: 33.3707\n",
      "Epoch 42/100\n",
      "28/28 [==============================] - ETA: 0s - loss: 26.4958 - mean_absolute_error: 26.495 - ETA: 0s - loss: nan - mean_absolute_error: nan        - 0s 5ms/step - loss: nan - mean_absolute_error: nan - val_loss: 34.2795 - val_mean_absolute_error: 34.2795\n",
      "Epoch 43/100\n",
      "28/28 [==============================] - ETA: 0s - loss: 21.4757 - mean_absolute_error: 21.475 - ETA: 0s - loss: 32.3606 - mean_absolute_error: 32.360 - 0s 10ms/step - loss: nan - mean_absolute_error: nan - val_loss: 33.2081 - val_mean_absolute_error: 33.2081\n",
      "Epoch 44/100\n",
      "28/28 [==============================] - ETA: 0s - loss: 25.6879 - mean_absolute_error: 25.687 - ETA: 0s - loss: nan - mean_absolute_error: nan        - 0s 10ms/step - loss: nan - mean_absolute_error: nan - val_loss: 33.0057 - val_mean_absolute_error: 33.0057\n",
      "Epoch 45/100\n",
      "28/28 [==============================] - ETA: 0s - loss: 30.7960 - mean_absolute_error: 30.796 - ETA: 0s - loss: nan - mean_absolute_error: nan        - 0s 5ms/step - loss: nan - mean_absolute_error: nan - val_loss: 33.9014 - val_mean_absolute_error: 33.9014\n",
      "Epoch 46/100\n",
      "28/28 [==============================] - ETA: 0s - loss: 21.9939 - mean_absolute_error: 21.993 - ETA: 0s - loss: nan - mean_absolute_error: nan        - 0s 5ms/step - loss: nan - mean_absolute_error: nan - val_loss: 34.9425 - val_mean_absolute_error: 34.9425\n",
      "Epoch 47/100\n",
      "28/28 [==============================] - ETA: 0s - loss: 35.3197 - mean_absolute_error: 35.319 - ETA: 0s - loss: nan - mean_absolute_error: nan        - 0s 9ms/step - loss: nan - mean_absolute_error: nan - val_loss: 32.3652 - val_mean_absolute_error: 32.3652\n",
      "Epoch 48/100\n",
      "28/28 [==============================] - ETA: 0s - loss: 38.2370 - mean_absolute_error: 38.237 - ETA: 0s - loss: nan - mean_absolute_error: nan        - 0s 5ms/step - loss: nan - mean_absolute_error: nan - val_loss: 33.3749 - val_mean_absolute_error: 33.3749\n",
      "Epoch 49/100\n",
      "28/28 [==============================] - ETA: 0s - loss: 32.3940 - mean_absolute_error: 32.394 - ETA: 0s - loss: 30.7956 - mean_absolute_error: 30.795 - 0s 5ms/step - loss: nan - mean_absolute_error: nan - val_loss: 33.0305 - val_mean_absolute_error: 33.0305\n",
      "Epoch 50/100\n",
      "28/28 [==============================] - ETA: 0s - loss: 39.9346 - mean_absolute_error: 39.934 - ETA: 0s - loss: nan - mean_absolute_error: nan        - 0s 5ms/step - loss: nan - mean_absolute_error: nan - val_loss: 33.4715 - val_mean_absolute_error: 33.4715\n",
      "Epoch 51/100\n",
      "28/28 [==============================] - ETA: 0s - loss: 29.3747 - mean_absolute_error: 29.374 - ETA: 0s - loss: nan - mean_absolute_error: nan        - 0s 5ms/step - loss: nan - mean_absolute_error: nan - val_loss: 34.1739 - val_mean_absolute_error: 34.1739\n",
      "Epoch 52/100\n",
      "28/28 [==============================] - ETA: 0s - loss: 28.0645 - mean_absolute_error: 28.064 - ETA: 0s - loss: nan - mean_absolute_error: nan        - 0s 5ms/step - loss: nan - mean_absolute_error: nan - val_loss: 33.0551 - val_mean_absolute_error: 33.0551\n",
      "Epoch 53/100\n",
      "28/28 [==============================] - ETA: 0s - loss: nan - mean_absolute_error: na - ETA: 0s - loss: nan - mean_absolute_error: na - 0s 5ms/step - loss: nan - mean_absolute_error: nan - val_loss: 32.6228 - val_mean_absolute_error: 32.6228\n",
      "Epoch 54/100\n",
      "28/28 [==============================] - ETA: 0s - loss: 34.7297 - mean_absolute_error: 34.729 - ETA: 0s - loss: 31.6264 - mean_absolute_error: 31.626 - 0s 5ms/step - loss: nan - mean_absolute_error: nan - val_loss: 33.0976 - val_mean_absolute_error: 33.0976\n",
      "Epoch 55/100\n",
      "28/28 [==============================] - ETA: 0s - loss: 34.2544 - mean_absolute_error: 34.254 - ETA: 0s - loss: 32.3802 - mean_absolute_error: 32.380 - 0s 5ms/step - loss: nan - mean_absolute_error: nan - val_loss: 32.3911 - val_mean_absolute_error: 32.3911\n",
      "Epoch 56/100\n",
      "28/28 [==============================] - ETA: 0s - loss: 22.3000 - mean_absolute_error: 22.300 - ETA: 0s - loss: nan - mean_absolute_error: nan        - 0s 5ms/step - loss: nan - mean_absolute_error: nan - val_loss: 33.5746 - val_mean_absolute_error: 33.5746\n",
      "Epoch 57/100\n",
      "28/28 [==============================] - ETA: 0s - loss: 29.9575 - mean_absolute_error: 29.957 - ETA: 0s - loss: 31.6102 - mean_absolute_error: 31.610 - 0s 5ms/step - loss: nan - mean_absolute_error: nan - val_loss: 32.4140 - val_mean_absolute_error: 32.4140\n",
      "Epoch 58/100\n",
      "28/28 [==============================] - ETA: 0s - loss: 24.6299 - mean_absolute_error: 24.629 - ETA: 0s - loss: 31.6062 - mean_absolute_error: 31.606 - 0s 9ms/step - loss: nan - mean_absolute_error: nan - val_loss: 32.2293 - val_mean_absolute_error: 32.2293\n",
      "Epoch 59/100\n",
      "28/28 [==============================] - ETA: 0s - loss: 28.6010 - mean_absolute_error: 28.601 - ETA: 0s - loss: 29.5082 - mean_absolute_error: 29.508 - 0s 5ms/step - loss: nan - mean_absolute_error: nan - val_loss: 32.5634 - val_mean_absolute_error: 32.5634\n",
      "Epoch 60/100\n",
      "28/28 [==============================] - ETA: 0s - loss: 37.3567 - mean_absolute_error: 37.356 - ETA: 0s - loss: 31.0540 - mean_absolute_error: 31.054 - 0s 5ms/step - loss: nan - mean_absolute_error: nan - val_loss: 32.8082 - val_mean_absolute_error: 32.8082\n",
      "Epoch 61/100\n"
     ]
    },
    {
     "name": "stdout",
     "output_type": "stream",
     "text": [
      "28/28 [==============================] - ETA: 0s - loss: 35.2069 - mean_absolute_error: 35.206 - ETA: 0s - loss: nan - mean_absolute_error: nan        - 0s 5ms/step - loss: nan - mean_absolute_error: nan - val_loss: 32.6615 - val_mean_absolute_error: 32.6615\n",
      "Epoch 62/100\n",
      "28/28 [==============================] - ETA: 0s - loss: 25.7697 - mean_absolute_error: 25.769 - ETA: 0s - loss: nan - mean_absolute_error: nan        - 0s 5ms/step - loss: nan - mean_absolute_error: nan - val_loss: 34.2068 - val_mean_absolute_error: 34.2068\n",
      "Epoch 63/100\n",
      "28/28 [==============================] - ETA: 0s - loss: 29.6686 - mean_absolute_error: 29.668 - ETA: 0s - loss: 30.6232 - mean_absolute_error: 30.623 - 0s 9ms/step - loss: nan - mean_absolute_error: nan - val_loss: 31.2575 - val_mean_absolute_error: 31.2575\n",
      "Epoch 64/100\n",
      "28/28 [==============================] - ETA: 0s - loss: 27.3130 - mean_absolute_error: 27.313 - ETA: 0s - loss: nan - mean_absolute_error: nan        - 0s 5ms/step - loss: nan - mean_absolute_error: nan - val_loss: 32.1160 - val_mean_absolute_error: 32.1160\n",
      "Epoch 65/100\n",
      "28/28 [==============================] - ETA: 0s - loss: 25.1100 - mean_absolute_error: 25.110 - ETA: 0s - loss: nan - mean_absolute_error: nan        - 0s 5ms/step - loss: nan - mean_absolute_error: nan - val_loss: 31.7812 - val_mean_absolute_error: 31.7812\n",
      "Epoch 66/100\n",
      "28/28 [==============================] - ETA: 0s - loss: 22.3754 - mean_absolute_error: 22.375 - ETA: 0s - loss: nan - mean_absolute_error: nan        - 0s 5ms/step - loss: nan - mean_absolute_error: nan - val_loss: 32.1223 - val_mean_absolute_error: 32.1223\n",
      "Epoch 67/100\n",
      "28/28 [==============================] - ETA: 0s - loss: 22.4403 - mean_absolute_error: 22.440 - ETA: 0s - loss: nan - mean_absolute_error: nan        - 0s 5ms/step - loss: nan - mean_absolute_error: nan - val_loss: 31.7083 - val_mean_absolute_error: 31.7083\n",
      "Epoch 68/100\n",
      "28/28 [==============================] - ETA: 0s - loss: 31.0533 - mean_absolute_error: 31.053 - ETA: 0s - loss: nan - mean_absolute_error: nan        - 0s 5ms/step - loss: nan - mean_absolute_error: nan - val_loss: 32.3211 - val_mean_absolute_error: 32.3211\n",
      "Epoch 69/100\n",
      "28/28 [==============================] - ETA: 0s - loss: 25.8015 - mean_absolute_error: 25.801 - ETA: 0s - loss: 33.1491 - mean_absolute_error: 33.149 - 0s 5ms/step - loss: nan - mean_absolute_error: nan - val_loss: 32.1117 - val_mean_absolute_error: 32.1117\n",
      "Epoch 70/100\n",
      "28/28 [==============================] - ETA: 0s - loss: 35.6959 - mean_absolute_error: 35.695 - ETA: 0s - loss: nan - mean_absolute_error: nan        - 0s 5ms/step - loss: nan - mean_absolute_error: nan - val_loss: 31.3407 - val_mean_absolute_error: 31.3407\n",
      "Epoch 71/100\n",
      "28/28 [==============================] - ETA: 0s - loss: 28.4078 - mean_absolute_error: 28.407 - ETA: 0s - loss: 29.7048 - mean_absolute_error: 29.704 - 0s 5ms/step - loss: nan - mean_absolute_error: nan - val_loss: 31.6896 - val_mean_absolute_error: 31.6896\n",
      "Epoch 72/100\n",
      "28/28 [==============================] - ETA: 0s - loss: 33.5495 - mean_absolute_error: 33.549 - ETA: 0s - loss: nan - mean_absolute_error: nan        - 0s 5ms/step - loss: nan - mean_absolute_error: nan - val_loss: 31.9953 - val_mean_absolute_error: 31.9953\n",
      "Epoch 73/100\n",
      "28/28 [==============================] - ETA: 0s - loss: 24.2495 - mean_absolute_error: 24.249 - ETA: 0s - loss: nan - mean_absolute_error: nan        - 0s 5ms/step - loss: nan - mean_absolute_error: nan - val_loss: 31.6881 - val_mean_absolute_error: 31.6881\n",
      "Epoch 74/100\n",
      "28/28 [==============================] - ETA: 0s - loss: 29.2901 - mean_absolute_error: 29.290 - ETA: 0s - loss: 28.9500 - mean_absolute_error: 28.950 - 0s 5ms/step - loss: nan - mean_absolute_error: nan - val_loss: 32.7934 - val_mean_absolute_error: 32.7934\n",
      "Epoch 75/100\n",
      "28/28 [==============================] - ETA: 0s - loss: 25.4998 - mean_absolute_error: 25.499 - ETA: 0s - loss: nan - mean_absolute_error: nan        - 0s 5ms/step - loss: nan - mean_absolute_error: nan - val_loss: 31.6805 - val_mean_absolute_error: 31.6805\n",
      "Epoch 76/100\n",
      "28/28 [==============================] - ETA: 0s - loss: 26.0224 - mean_absolute_error: 26.022 - ETA: 0s - loss: nan - mean_absolute_error: nan        - 0s 5ms/step - loss: nan - mean_absolute_error: nan - val_loss: 31.6586 - val_mean_absolute_error: 31.6586\n",
      "Epoch 77/100\n",
      "28/28 [==============================] - ETA: 0s - loss: 22.7823 - mean_absolute_error: 22.782 - ETA: 0s - loss: nan - mean_absolute_error: nan        - 0s 10ms/step - loss: nan - mean_absolute_error: nan - val_loss: 31.1894 - val_mean_absolute_error: 31.1894\n",
      "Epoch 78/100\n",
      "28/28 [==============================] - ETA: 0s - loss: 31.3182 - mean_absolute_error: 31.318 - ETA: 0s - loss: nan - mean_absolute_error: nan        - 0s 10ms/step - loss: nan - mean_absolute_error: nan - val_loss: 31.0906 - val_mean_absolute_error: 31.0906\n",
      "Epoch 79/100\n",
      "28/28 [==============================] - ETA: 0s - loss: nan - mean_absolute_error: na - ETA: 0s - loss: nan - mean_absolute_error: na - 0s 5ms/step - loss: nan - mean_absolute_error: nan - val_loss: 32.0609 - val_mean_absolute_error: 32.0609\n",
      "Epoch 80/100\n",
      "28/28 [==============================] - ETA: 0s - loss: 27.4221 - mean_absolute_error: 27.422 - ETA: 0s - loss: nan - mean_absolute_error: nan        - 0s 10ms/step - loss: nan - mean_absolute_error: nan - val_loss: 31.0222 - val_mean_absolute_error: 31.0222\n",
      "Epoch 81/100\n",
      "28/28 [==============================] - ETA: 0s - loss: 26.9945 - mean_absolute_error: 26.994 - ETA: 0s - loss: nan - mean_absolute_error: nan        - 0s 5ms/step - loss: nan - mean_absolute_error: nan - val_loss: 33.3985 - val_mean_absolute_error: 33.3985\n",
      "Epoch 82/100\n",
      "28/28 [==============================] - ETA: 0s - loss: 37.6811 - mean_absolute_error: 37.681 - ETA: 0s - loss: nan - mean_absolute_error: nan        - 0s 5ms/step - loss: nan - mean_absolute_error: nan - val_loss: 31.6639 - val_mean_absolute_error: 31.6639\n",
      "Epoch 83/100\n",
      "28/28 [==============================] - ETA: 0s - loss: 25.3400 - mean_absolute_error: 25.340 - ETA: 0s - loss: 26.4365 - mean_absolute_error: 26.436 - 0s 13ms/step - loss: nan - mean_absolute_error: nan - val_loss: 31.0112 - val_mean_absolute_error: 31.0112\n",
      "Epoch 84/100\n",
      "28/28 [==============================] - ETA: 0s - loss: 25.0365 - mean_absolute_error: 25.036 - ETA: 0s - loss: 29.0967 - mean_absolute_error: 29.096 - 0s 5ms/step - loss: nan - mean_absolute_error: nan - val_loss: 31.7563 - val_mean_absolute_error: 31.7563\n",
      "Epoch 85/100\n",
      "28/28 [==============================] - ETA: 0s - loss: 44.7256 - mean_absolute_error: 44.725 - ETA: 0s - loss: 29.5976 - mean_absolute_error: 29.597 - 0s 5ms/step - loss: nan - mean_absolute_error: nan - val_loss: 31.0463 - val_mean_absolute_error: 31.0463\n",
      "Epoch 86/100\n",
      "28/28 [==============================] - ETA: 0s - loss: 21.8401 - mean_absolute_error: 21.840 - ETA: 0s - loss: 26.8964 - mean_absolute_error: 26.896 - 0s 5ms/step - loss: nan - mean_absolute_error: nan - val_loss: 31.1636 - val_mean_absolute_error: 31.1636\n",
      "Epoch 87/100\n",
      "28/28 [==============================] - ETA: 0s - loss: 32.7646 - mean_absolute_error: 32.764 - ETA: 0s - loss: 28.3914 - mean_absolute_error: 28.391 - 0s 10ms/step - loss: nan - mean_absolute_error: nan - val_loss: 30.9388 - val_mean_absolute_error: 30.9388\n",
      "Epoch 88/100\n",
      "28/28 [==============================] - ETA: 0s - loss: 25.4323 - mean_absolute_error: 25.432 - ETA: 0s - loss: 27.2678 - mean_absolute_error: 27.267 - 0s 5ms/step - loss: nan - mean_absolute_error: nan - val_loss: 31.2805 - val_mean_absolute_error: 31.2805\n",
      "Epoch 89/100\n",
      "28/28 [==============================] - ETA: 0s - loss: 34.5782 - mean_absolute_error: 34.578 - ETA: 0s - loss: 28.2504 - mean_absolute_error: 28.250 - 0s 5ms/step - loss: nan - mean_absolute_error: nan - val_loss: 31.9738 - val_mean_absolute_error: 31.9738\n",
      "Epoch 90/100\n",
      "28/28 [==============================] - ETA: 0s - loss: 27.7246 - mean_absolute_error: 27.724 - ETA: 0s - loss: nan - mean_absolute_error: nan        - 0s 5ms/step - loss: nan - mean_absolute_error: nan - val_loss: 31.2372 - val_mean_absolute_error: 31.2372\n",
      "Epoch 91/100\n"
     ]
    },
    {
     "name": "stdout",
     "output_type": "stream",
     "text": [
      "28/28 [==============================] - ETA: 0s - loss: 30.0175 - mean_absolute_error: 30.017 - ETA: 0s - loss: nan - mean_absolute_error: nan        - 0s 5ms/step - loss: nan - mean_absolute_error: nan - val_loss: 31.2547 - val_mean_absolute_error: 31.2547\n",
      "Epoch 92/100\n",
      "28/28 [==============================] - ETA: 0s - loss: 17.8306 - mean_absolute_error: 17.830 - ETA: 0s - loss: nan - mean_absolute_error: nan        - 0s 5ms/step - loss: nan - mean_absolute_error: nan - val_loss: 31.7757 - val_mean_absolute_error: 31.7757\n",
      "Epoch 93/100\n",
      "28/28 [==============================] - ETA: 0s - loss: 18.3196 - mean_absolute_error: 18.319 - ETA: 0s - loss: nan - mean_absolute_error: nan        - 0s 5ms/step - loss: nan - mean_absolute_error: nan - val_loss: 33.6159 - val_mean_absolute_error: 33.6159\n",
      "Epoch 94/100\n",
      "28/28 [==============================] - ETA: 0s - loss: 19.8140 - mean_absolute_error: 19.814 - ETA: 0s - loss: nan - mean_absolute_error: nan        - 0s 5ms/step - loss: nan - mean_absolute_error: nan - val_loss: 31.4021 - val_mean_absolute_error: 31.4021\n",
      "Epoch 95/100\n",
      "28/28 [==============================] - ETA: 0s - loss: 20.2862 - mean_absolute_error: 20.286 - ETA: 0s - loss: 27.3643 - mean_absolute_error: 27.364 - 0s 6ms/step - loss: nan - mean_absolute_error: nan - val_loss: 31.5943 - val_mean_absolute_error: 31.5943\n",
      "Epoch 96/100\n",
      "28/28 [==============================] - ETA: 0s - loss: 19.7857 - mean_absolute_error: 19.785 - ETA: 0s - loss: nan - mean_absolute_error: nan        - 0s 9ms/step - loss: nan - mean_absolute_error: nan - val_loss: 30.8020 - val_mean_absolute_error: 30.8020\n",
      "Epoch 97/100\n",
      "28/28 [==============================] - ETA: 0s - loss: 24.2076 - mean_absolute_error: 24.207 - ETA: 0s - loss: 28.4786 - mean_absolute_error: 28.478 - 0s 5ms/step - loss: nan - mean_absolute_error: nan - val_loss: 34.2423 - val_mean_absolute_error: 34.2423\n",
      "Epoch 98/100\n",
      "28/28 [==============================] - ETA: 0s - loss: 33.6796 - mean_absolute_error: 33.679 - ETA: 0s - loss: nan - mean_absolute_error: nan        - 0s 4ms/step - loss: nan - mean_absolute_error: nan - val_loss: 31.3836 - val_mean_absolute_error: 31.3836\n",
      "Epoch 99/100\n",
      "28/28 [==============================] - ETA: 0s - loss: 25.3299 - mean_absolute_error: 25.329 - ETA: 0s - loss: nan - mean_absolute_error: nan        - 0s 5ms/step - loss: nan - mean_absolute_error: nan - val_loss: 31.8225 - val_mean_absolute_error: 31.8225\n",
      "Epoch 100/100\n",
      "28/28 [==============================] - ETA: 0s - loss: 24.8441 - mean_absolute_error: 24.844 - ETA: 0s - loss: nan - mean_absolute_error: nan        - ETA: 0s - loss: nan - mean_absolute_error: na - 0s 10ms/step - loss: nan - mean_absolute_error: nan - val_loss: 30.5253 - val_mean_absolute_error: 30.5253\n",
      "Epoch 1/100\n",
      "28/28 [==============================] - ETA: 0s - loss: 98.5363 - mean_absolute_error: 98.536 - ETA: 0s - loss: nan - mean_absolute_error: nan        - 0s 10ms/step - loss: nan - mean_absolute_error: nan - val_loss: 83.1578 - val_mean_absolute_error: 83.1578\n",
      "Epoch 2/100\n",
      "28/28 [==============================] - ETA: 0s - loss: 67.0757 - mean_absolute_error: 67.075 - ETA: 0s - loss: nan - mean_absolute_error: nan        - 0s 5ms/step - loss: nan - mean_absolute_error: nan - val_loss: 46.3416 - val_mean_absolute_error: 46.3416\n",
      "Epoch 3/100\n",
      "28/28 [==============================] - ETA: 0s - loss: 44.2576 - mean_absolute_error: 44.257 - ETA: 0s - loss: 46.4506 - mean_absolute_error: 46.450 - 0s 5ms/step - loss: nan - mean_absolute_error: nan - val_loss: 43.2568 - val_mean_absolute_error: 43.2568\n",
      "Epoch 4/100\n",
      "28/28 [==============================] - ETA: 0s - loss: 43.5508 - mean_absolute_error: 43.550 - ETA: 0s - loss: nan - mean_absolute_error: nan        - 0s 5ms/step - loss: nan - mean_absolute_error: nan - val_loss: 41.1405 - val_mean_absolute_error: 41.1405\n",
      "Epoch 5/100\n",
      "28/28 [==============================] - ETA: 0s - loss: 52.4005 - mean_absolute_error: 52.400 - ETA: 0s - loss: nan - mean_absolute_error: nan        - 0s 5ms/step - loss: nan - mean_absolute_error: nan - val_loss: 40.1502 - val_mean_absolute_error: 40.1502\n",
      "Epoch 6/100\n",
      "28/28 [==============================] - ETA: 0s - loss: 38.6881 - mean_absolute_error: 38.688 - ETA: 0s - loss: nan - mean_absolute_error: nan        - 0s 5ms/step - loss: nan - mean_absolute_error: nan - val_loss: 39.6596 - val_mean_absolute_error: 39.6596\n",
      "Epoch 7/100\n",
      "28/28 [==============================] - ETA: 0s - loss: 48.1540 - mean_absolute_error: 48.154 - ETA: 0s - loss: 39.7271 - mean_absolute_error: 39.727 - 0s 5ms/step - loss: nan - mean_absolute_error: nan - val_loss: 39.3902 - val_mean_absolute_error: 39.3902\n",
      "Epoch 8/100\n",
      "28/28 [==============================] - ETA: 0s - loss: 46.6544 - mean_absolute_error: 46.654 - ETA: 0s - loss: nan - mean_absolute_error: nan        - 0s 5ms/step - loss: nan - mean_absolute_error: nan - val_loss: 38.2442 - val_mean_absolute_error: 38.2442\n",
      "Epoch 9/100\n",
      "28/28 [==============================] - ETA: 0s - loss: 41.3845 - mean_absolute_error: 41.384 - ETA: 0s - loss: nan - mean_absolute_error: nan        - 0s 5ms/step - loss: nan - mean_absolute_error: nan - val_loss: 38.0783 - val_mean_absolute_error: 38.0783\n",
      "Epoch 10/100\n",
      "28/28 [==============================] - ETA: 0s - loss: 34.0369 - mean_absolute_error: 34.036 - ETA: 0s - loss: nan - mean_absolute_error: nan        - 0s 5ms/step - loss: nan - mean_absolute_error: nan - val_loss: 37.5209 - val_mean_absolute_error: 37.5209\n",
      "Epoch 11/100\n",
      "28/28 [==============================] - ETA: 0s - loss: 50.6249 - mean_absolute_error: 50.624 - ETA: 0s - loss: nan - mean_absolute_error: nan        - 0s 5ms/step - loss: nan - mean_absolute_error: nan - val_loss: 37.8081 - val_mean_absolute_error: 37.8081\n",
      "Epoch 12/100\n",
      "28/28 [==============================] - ETA: 0s - loss: 33.0590 - mean_absolute_error: 33.059 - ETA: 0s - loss: nan - mean_absolute_error: nan        - 0s 5ms/step - loss: nan - mean_absolute_error: nan - val_loss: 37.2671 - val_mean_absolute_error: 37.2671\n",
      "Epoch 13/100\n",
      "28/28 [==============================] - ETA: 0s - loss: 40.8082 - mean_absolute_error: 40.808 - ETA: 0s - loss: nan - mean_absolute_error: nan        - 0s 4ms/step - loss: nan - mean_absolute_error: nan - val_loss: 36.8475 - val_mean_absolute_error: 36.8475\n",
      "Epoch 14/100\n",
      "28/28 [==============================] - ETA: 0s - loss: 45.9561 - mean_absolute_error: 45.956 - ETA: 0s - loss: nan - mean_absolute_error: nan        - 0s 5ms/step - loss: nan - mean_absolute_error: nan - val_loss: 36.9701 - val_mean_absolute_error: 36.9701\n",
      "Epoch 15/100\n",
      "28/28 [==============================] - ETA: 0s - loss: 31.4134 - mean_absolute_error: 31.413 - ETA: 0s - loss: nan - mean_absolute_error: nan        - 0s 5ms/step - loss: nan - mean_absolute_error: nan - val_loss: 36.9996 - val_mean_absolute_error: 36.9996\n",
      "Epoch 16/100\n",
      "28/28 [==============================] - ETA: 0s - loss: nan - mean_absolute_error: na - ETA: 0s - loss: nan - mean_absolute_error: na - 0s 5ms/step - loss: nan - mean_absolute_error: nan - val_loss: 36.5967 - val_mean_absolute_error: 36.5967\n",
      "Epoch 17/100\n",
      "28/28 [==============================] - ETA: 0s - loss: 36.7279 - mean_absolute_error: 36.727 - ETA: 0s - loss: nan - mean_absolute_error: nan        - 0s 4ms/step - loss: nan - mean_absolute_error: nan - val_loss: 37.0576 - val_mean_absolute_error: 37.0576\n",
      "Epoch 18/100\n",
      "28/28 [==============================] - ETA: 0s - loss: nan - mean_absolute_error: na - ETA: 0s - loss: nan - mean_absolute_error: na - 0s 5ms/step - loss: nan - mean_absolute_error: nan - val_loss: 36.3845 - val_mean_absolute_error: 36.3845\n",
      "Epoch 19/100\n",
      "28/28 [==============================] - ETA: 0s - loss: 42.9445 - mean_absolute_error: 42.944 - ETA: 0s - loss: nan - mean_absolute_error: nan        - 0s 5ms/step - loss: nan - mean_absolute_error: nan - val_loss: 36.0244 - val_mean_absolute_error: 36.0244\n",
      "Epoch 20/100\n",
      "28/28 [==============================] - ETA: 0s - loss: nan - mean_absolute_error: na - ETA: 0s - loss: nan - mean_absolute_error: na - 0s 5ms/step - loss: nan - mean_absolute_error: nan - val_loss: 36.0501 - val_mean_absolute_error: 36.0501\n",
      "Epoch 21/100\n"
     ]
    },
    {
     "name": "stdout",
     "output_type": "stream",
     "text": [
      "28/28 [==============================] - ETA: 0s - loss: 41.5616 - mean_absolute_error: 41.561 - ETA: 0s - loss: nan - mean_absolute_error: nan        - 0s 5ms/step - loss: nan - mean_absolute_error: nan - val_loss: 35.3908 - val_mean_absolute_error: 35.3908\n",
      "Epoch 22/100\n",
      "28/28 [==============================] - ETA: 0s - loss: 31.4665 - mean_absolute_error: 31.466 - ETA: 0s - loss: nan - mean_absolute_error: nan        - 0s 5ms/step - loss: nan - mean_absolute_error: nan - val_loss: 35.2611 - val_mean_absolute_error: 35.2611\n",
      "Epoch 23/100\n",
      "28/28 [==============================] - ETA: 0s - loss: 27.2499 - mean_absolute_error: 27.249 - ETA: 0s - loss: 35.9983 - mean_absolute_error: 35.998 - 0s 5ms/step - loss: nan - mean_absolute_error: nan - val_loss: 36.8404 - val_mean_absolute_error: 36.8404\n",
      "Epoch 24/100\n",
      "28/28 [==============================] - ETA: 0s - loss: 38.2997 - mean_absolute_error: 38.299 - ETA: 0s - loss: nan - mean_absolute_error: nan        - 0s 5ms/step - loss: nan - mean_absolute_error: nan - val_loss: 35.3032 - val_mean_absolute_error: 35.3032\n",
      "Epoch 25/100\n",
      "28/28 [==============================] - ETA: 0s - loss: 33.9613 - mean_absolute_error: 33.961 - ETA: 0s - loss: nan - mean_absolute_error: nan        - 0s 5ms/step - loss: nan - mean_absolute_error: nan - val_loss: 35.6641 - val_mean_absolute_error: 35.6641\n",
      "Epoch 26/100\n",
      "28/28 [==============================] - ETA: 0s - loss: 38.8923 - mean_absolute_error: 38.892 - ETA: 0s - loss: nan - mean_absolute_error: nan        - 0s 5ms/step - loss: nan - mean_absolute_error: nan - val_loss: 34.8117 - val_mean_absolute_error: 34.8117\n",
      "Epoch 27/100\n",
      "28/28 [==============================] - ETA: 0s - loss: 22.4816 - mean_absolute_error: 22.481 - ETA: 0s - loss: 34.9260 - mean_absolute_error: 34.926 - 0s 5ms/step - loss: nan - mean_absolute_error: nan - val_loss: 35.4031 - val_mean_absolute_error: 35.4031\n",
      "Epoch 28/100\n",
      "28/28 [==============================] - ETA: 0s - loss: 41.8373 - mean_absolute_error: 41.837 - ETA: 0s - loss: 33.3377 - mean_absolute_error: 33.337 - 0s 4ms/step - loss: nan - mean_absolute_error: nan - val_loss: 34.1752 - val_mean_absolute_error: 34.1752\n",
      "Epoch 29/100\n",
      "28/28 [==============================] - ETA: 0s - loss: nan - mean_absolute_error: na - ETA: 0s - loss: nan - mean_absolute_error: na - 0s 5ms/step - loss: nan - mean_absolute_error: nan - val_loss: 34.3863 - val_mean_absolute_error: 34.3863\n",
      "Epoch 30/100\n",
      "28/28 [==============================] - ETA: 0s - loss: 45.2204 - mean_absolute_error: 45.220 - ETA: 0s - loss: nan - mean_absolute_error: nan        - 0s 5ms/step - loss: nan - mean_absolute_error: nan - val_loss: 34.6404 - val_mean_absolute_error: 34.6404\n",
      "Epoch 31/100\n",
      "28/28 [==============================] - ETA: 0s - loss: 31.1102 - mean_absolute_error: 31.110 - ETA: 0s - loss: 34.9534 - mean_absolute_error: 34.953 - 0s 5ms/step - loss: nan - mean_absolute_error: nan - val_loss: 34.0891 - val_mean_absolute_error: 34.0891\n",
      "Epoch 32/100\n",
      "28/28 [==============================] - ETA: 0s - loss: 38.9459 - mean_absolute_error: 38.945 - ETA: 0s - loss: nan - mean_absolute_error: nan        - 0s 5ms/step - loss: nan - mean_absolute_error: nan - val_loss: 34.4062 - val_mean_absolute_error: 34.4062\n",
      "Epoch 33/100\n",
      "28/28 [==============================] - ETA: 0s - loss: 29.3889 - mean_absolute_error: 29.388 - ETA: 0s - loss: nan - mean_absolute_error: nan        - 0s 5ms/step - loss: nan - mean_absolute_error: nan - val_loss: 36.1406 - val_mean_absolute_error: 36.1406\n",
      "Epoch 34/100\n",
      "28/28 [==============================] - ETA: 0s - loss: 35.9851 - mean_absolute_error: 35.985 - ETA: 0s - loss: 37.6000 - mean_absolute_error: 37.600 - 0s 5ms/step - loss: nan - mean_absolute_error: nan - val_loss: 33.3267 - val_mean_absolute_error: 33.3267\n",
      "Epoch 35/100\n",
      "28/28 [==============================] - ETA: 0s - loss: 32.2189 - mean_absolute_error: 32.218 - ETA: 0s - loss: nan - mean_absolute_error: nan        - 0s 5ms/step - loss: nan - mean_absolute_error: nan - val_loss: 34.5773 - val_mean_absolute_error: 34.5773\n",
      "Epoch 36/100\n",
      "28/28 [==============================] - ETA: 0s - loss: 33.3042 - mean_absolute_error: 33.304 - ETA: 0s - loss: nan - mean_absolute_error: nan        - 0s 5ms/step - loss: nan - mean_absolute_error: nan - val_loss: 34.0097 - val_mean_absolute_error: 34.0097\n",
      "Epoch 37/100\n",
      "28/28 [==============================] - ETA: 0s - loss: 35.4635 - mean_absolute_error: 35.463 - ETA: 0s - loss: nan - mean_absolute_error: nan        - 0s 5ms/step - loss: nan - mean_absolute_error: nan - val_loss: 33.1066 - val_mean_absolute_error: 33.1066\n",
      "Epoch 38/100\n",
      "28/28 [==============================] - ETA: 0s - loss: 30.6881 - mean_absolute_error: 30.688 - ETA: 0s - loss: 33.3452 - mean_absolute_error: 33.345 - 0s 5ms/step - loss: nan - mean_absolute_error: nan - val_loss: 33.6820 - val_mean_absolute_error: 33.6820\n",
      "Epoch 39/100\n",
      "28/28 [==============================] - ETA: 0s - loss: 31.0699 - mean_absolute_error: 31.069 - ETA: 0s - loss: nan - mean_absolute_error: nan        - 0s 5ms/step - loss: nan - mean_absolute_error: nan - val_loss: 33.5893 - val_mean_absolute_error: 33.5893\n",
      "Epoch 40/100\n",
      "28/28 [==============================] - ETA: 0s - loss: 41.4493 - mean_absolute_error: 41.449 - ETA: 0s - loss: nan - mean_absolute_error: nan        - 0s 5ms/step - loss: nan - mean_absolute_error: nan - val_loss: 33.2415 - val_mean_absolute_error: 33.2415\n",
      "Epoch 41/100\n",
      "28/28 [==============================] - ETA: 0s - loss: 33.7353 - mean_absolute_error: 33.735 - ETA: 0s - loss: nan - mean_absolute_error: nan        - 0s 5ms/step - loss: nan - mean_absolute_error: nan - val_loss: 32.9177 - val_mean_absolute_error: 32.9177\n",
      "Epoch 42/100\n",
      "28/28 [==============================] - ETA: 0s - loss: 30.8211 - mean_absolute_error: 30.821 - ETA: 0s - loss: 33.4343 - mean_absolute_error: 33.434 - 0s 5ms/step - loss: nan - mean_absolute_error: nan - val_loss: 33.5336 - val_mean_absolute_error: 33.5336\n",
      "Epoch 43/100\n",
      "28/28 [==============================] - ETA: 0s - loss: 36.3442 - mean_absolute_error: 36.344 - ETA: 0s - loss: nan - mean_absolute_error: nan        - 0s 4ms/step - loss: nan - mean_absolute_error: nan - val_loss: 33.0378 - val_mean_absolute_error: 33.0378\n",
      "Epoch 44/100\n",
      "28/28 [==============================] - ETA: 0s - loss: 38.7287 - mean_absolute_error: 38.728 - ETA: 0s - loss: nan - mean_absolute_error: nan        - 0s 5ms/step - loss: nan - mean_absolute_error: nan - val_loss: 33.8608 - val_mean_absolute_error: 33.8608\n",
      "Epoch 45/100\n",
      "28/28 [==============================] - ETA: 0s - loss: 32.0445 - mean_absolute_error: 32.044 - ETA: 0s - loss: nan - mean_absolute_error: nan        - 0s 5ms/step - loss: nan - mean_absolute_error: nan - val_loss: 32.6542 - val_mean_absolute_error: 32.6542\n",
      "Epoch 46/100\n",
      "28/28 [==============================] - ETA: 0s - loss: 30.5273 - mean_absolute_error: 30.527 - ETA: 0s - loss: 33.2504 - mean_absolute_error: 33.250 - 0s 5ms/step - loss: nan - mean_absolute_error: nan - val_loss: 32.4870 - val_mean_absolute_error: 32.4870\n",
      "Epoch 47/100\n",
      "28/28 [==============================] - ETA: 0s - loss: 46.0925 - mean_absolute_error: 46.092 - ETA: 0s - loss: nan - mean_absolute_error: nan        - 0s 5ms/step - loss: nan - mean_absolute_error: nan - val_loss: 33.2411 - val_mean_absolute_error: 33.2411\n",
      "Epoch 48/100\n",
      "28/28 [==============================] - ETA: 0s - loss: 32.4228 - mean_absolute_error: 32.422 - ETA: 0s - loss: nan - mean_absolute_error: nan        - 0s 5ms/step - loss: nan - mean_absolute_error: nan - val_loss: 32.9542 - val_mean_absolute_error: 32.9542\n",
      "Epoch 49/100\n",
      "28/28 [==============================] - ETA: 0s - loss: 31.9922 - mean_absolute_error: 31.992 - ETA: 0s - loss: nan - mean_absolute_error: nan        - 0s 5ms/step - loss: nan - mean_absolute_error: nan - val_loss: 33.0504 - val_mean_absolute_error: 33.0504\n",
      "Epoch 50/100\n",
      "28/28 [==============================] - ETA: 0s - loss: 34.7355 - mean_absolute_error: 34.735 - ETA: 0s - loss: nan - mean_absolute_error: nan        - 0s 5ms/step - loss: nan - mean_absolute_error: nan - val_loss: 33.0119 - val_mean_absolute_error: 33.0119\n",
      "Epoch 51/100\n"
     ]
    },
    {
     "name": "stdout",
     "output_type": "stream",
     "text": [
      "28/28 [==============================] - ETA: 0s - loss: 37.8757 - mean_absolute_error: 37.875 - ETA: 0s - loss: nan - mean_absolute_error: nan        - 0s 4ms/step - loss: nan - mean_absolute_error: nan - val_loss: 32.9295 - val_mean_absolute_error: 32.9295\n",
      "Epoch 52/100\n",
      "28/28 [==============================] - ETA: 0s - loss: 28.3977 - mean_absolute_error: 28.397 - ETA: 0s - loss: 32.6875 - mean_absolute_error: 32.687 - 0s 4ms/step - loss: nan - mean_absolute_error: nan - val_loss: 32.4701 - val_mean_absolute_error: 32.4701\n",
      "Epoch 53/100\n",
      "28/28 [==============================] - ETA: 0s - loss: 36.2860 - mean_absolute_error: 36.286 - ETA: 0s - loss: nan - mean_absolute_error: nan        - 0s 4ms/step - loss: nan - mean_absolute_error: nan - val_loss: 33.1537 - val_mean_absolute_error: 33.1537\n",
      "Epoch 54/100\n",
      "28/28 [==============================] - ETA: 0s - loss: 26.3692 - mean_absolute_error: 26.369 - ETA: 0s - loss: nan - mean_absolute_error: nan        - 0s 5ms/step - loss: nan - mean_absolute_error: nan - val_loss: 32.0205 - val_mean_absolute_error: 32.0205\n",
      "Epoch 55/100\n",
      "28/28 [==============================] - ETA: 0s - loss: 30.8996 - mean_absolute_error: 30.899 - ETA: 0s - loss: 33.1122 - mean_absolute_error: 33.112 - 0s 4ms/step - loss: nan - mean_absolute_error: nan - val_loss: 32.9760 - val_mean_absolute_error: 32.9760\n",
      "Epoch 56/100\n",
      "28/28 [==============================] - ETA: 0s - loss: 37.2155 - mean_absolute_error: 37.215 - ETA: 0s - loss: 30.4644 - mean_absolute_error: 30.464 - 0s 5ms/step - loss: nan - mean_absolute_error: nan - val_loss: 31.9451 - val_mean_absolute_error: 31.9451\n",
      "Epoch 57/100\n",
      "28/28 [==============================] - ETA: 0s - loss: 24.4064 - mean_absolute_error: 24.406 - ETA: 0s - loss: 30.0700 - mean_absolute_error: 30.070 - 0s 5ms/step - loss: nan - mean_absolute_error: nan - val_loss: 32.6870 - val_mean_absolute_error: 32.6870\n",
      "Epoch 58/100\n",
      "28/28 [==============================] - ETA: 0s - loss: 22.8179 - mean_absolute_error: 22.817 - ETA: 0s - loss: 31.0516 - mean_absolute_error: 31.051 - 0s 5ms/step - loss: nan - mean_absolute_error: nan - val_loss: 32.6246 - val_mean_absolute_error: 32.6246\n",
      "Epoch 59/100\n",
      "28/28 [==============================] - ETA: 0s - loss: 33.4475 - mean_absolute_error: 33.447 - ETA: 0s - loss: 31.5410 - mean_absolute_error: 31.541 - 0s 4ms/step - loss: nan - mean_absolute_error: nan - val_loss: 32.7205 - val_mean_absolute_error: 32.7205\n",
      "Epoch 60/100\n",
      "28/28 [==============================] - ETA: 0s - loss: 37.4455 - mean_absolute_error: 37.445 - ETA: 0s - loss: 29.1805 - mean_absolute_error: 29.180 - 0s 5ms/step - loss: nan - mean_absolute_error: nan - val_loss: 32.3465 - val_mean_absolute_error: 32.3465\n",
      "Epoch 61/100\n",
      "28/28 [==============================] - ETA: 0s - loss: 32.2468 - mean_absolute_error: 32.246 - ETA: 0s - loss: 29.8625 - mean_absolute_error: 29.862 - 0s 5ms/step - loss: nan - mean_absolute_error: nan - val_loss: 31.9559 - val_mean_absolute_error: 31.9559\n",
      "Epoch 62/100\n",
      "28/28 [==============================] - ETA: 0s - loss: 29.6968 - mean_absolute_error: 29.696 - ETA: 0s - loss: nan - mean_absolute_error: nan        - 0s 5ms/step - loss: nan - mean_absolute_error: nan - val_loss: 33.1299 - val_mean_absolute_error: 33.1299\n",
      "Epoch 63/100\n",
      "28/28 [==============================] - ETA: 0s - loss: 27.2278 - mean_absolute_error: 27.227 - ETA: 0s - loss: nan - mean_absolute_error: nan        - 0s 5ms/step - loss: nan - mean_absolute_error: nan - val_loss: 31.9160 - val_mean_absolute_error: 31.9160\n",
      "Epoch 64/100\n",
      "28/28 [==============================] - ETA: 0s - loss: 27.5403 - mean_absolute_error: 27.540 - ETA: 0s - loss: nan - mean_absolute_error: nan        - 0s 5ms/step - loss: nan - mean_absolute_error: nan - val_loss: 31.8456 - val_mean_absolute_error: 31.8456\n",
      "Epoch 65/100\n",
      "28/28 [==============================] - ETA: 0s - loss: 38.2224 - mean_absolute_error: 38.222 - ETA: 0s - loss: nan - mean_absolute_error: nan        - 0s 5ms/step - loss: nan - mean_absolute_error: nan - val_loss: 33.3508 - val_mean_absolute_error: 33.3508\n",
      "Epoch 66/100\n",
      "28/28 [==============================] - ETA: 0s - loss: 41.7075 - mean_absolute_error: 41.707 - ETA: 0s - loss: nan - mean_absolute_error: nan        - 0s 5ms/step - loss: nan - mean_absolute_error: nan - val_loss: 31.5593 - val_mean_absolute_error: 31.5593\n",
      "Epoch 67/100\n",
      "28/28 [==============================] - ETA: 0s - loss: 43.0110 - mean_absolute_error: 43.011 - ETA: 0s - loss: nan - mean_absolute_error: nan        - 0s 5ms/step - loss: nan - mean_absolute_error: nan - val_loss: 32.3344 - val_mean_absolute_error: 32.3344\n",
      "Epoch 68/100\n",
      "28/28 [==============================] - ETA: 0s - loss: 40.3055 - mean_absolute_error: 40.305 - ETA: 0s - loss: 30.6581 - mean_absolute_error: 30.658 - 0s 5ms/step - loss: nan - mean_absolute_error: nan - val_loss: 31.5640 - val_mean_absolute_error: 31.5640\n",
      "Epoch 69/100\n",
      "28/28 [==============================] - ETA: 0s - loss: 30.6412 - mean_absolute_error: 30.641 - ETA: 0s - loss: nan - mean_absolute_error: nan        - 0s 4ms/step - loss: nan - mean_absolute_error: nan - val_loss: 31.9265 - val_mean_absolute_error: 31.9265\n",
      "Epoch 70/100\n",
      "28/28 [==============================] - ETA: 0s - loss: 37.1097 - mean_absolute_error: 37.109 - ETA: 0s - loss: 29.2266 - mean_absolute_error: 29.226 - 0s 5ms/step - loss: nan - mean_absolute_error: nan - val_loss: 31.8606 - val_mean_absolute_error: 31.8606\n",
      "Epoch 71/100\n",
      "28/28 [==============================] - ETA: 0s - loss: 22.3484 - mean_absolute_error: 22.348 - ETA: 0s - loss: 27.2443 - mean_absolute_error: 27.244 - 0s 5ms/step - loss: nan - mean_absolute_error: nan - val_loss: 31.2420 - val_mean_absolute_error: 31.2420\n",
      "Epoch 72/100\n",
      "28/28 [==============================] - ETA: 0s - loss: 33.0109 - mean_absolute_error: 33.010 - ETA: 0s - loss: nan - mean_absolute_error: nan        - 0s 5ms/step - loss: nan - mean_absolute_error: nan - val_loss: 32.0365 - val_mean_absolute_error: 32.0365\n",
      "Epoch 73/100\n",
      "28/28 [==============================] - ETA: 0s - loss: 22.4425 - mean_absolute_error: 22.442 - ETA: 0s - loss: 30.7484 - mean_absolute_error: 30.748 - 0s 5ms/step - loss: nan - mean_absolute_error: nan - val_loss: 34.2541 - val_mean_absolute_error: 34.2541\n",
      "Epoch 74/100\n",
      "28/28 [==============================] - ETA: 0s - loss: 38.4461 - mean_absolute_error: 38.446 - ETA: 0s - loss: nan - mean_absolute_error: nan        - 0s 5ms/step - loss: nan - mean_absolute_error: nan - val_loss: 32.3701 - val_mean_absolute_error: 32.3701\n",
      "Epoch 75/100\n",
      "28/28 [==============================] - ETA: 0s - loss: 26.5547 - mean_absolute_error: 26.554 - ETA: 0s - loss: nan - mean_absolute_error: nan        - 0s 5ms/step - loss: nan - mean_absolute_error: nan - val_loss: 32.2294 - val_mean_absolute_error: 32.2294\n",
      "Epoch 76/100\n",
      "28/28 [==============================] - ETA: 0s - loss: 21.6027 - mean_absolute_error: 21.602 - ETA: 0s - loss: nan - mean_absolute_error: nan        - 0s 5ms/step - loss: nan - mean_absolute_error: nan - val_loss: 31.4318 - val_mean_absolute_error: 31.4318\n",
      "Epoch 77/100\n",
      "28/28 [==============================] - ETA: 0s - loss: 38.9552 - mean_absolute_error: 38.955 - ETA: 0s - loss: nan - mean_absolute_error: nan        - 0s 5ms/step - loss: nan - mean_absolute_error: nan - val_loss: 31.2524 - val_mean_absolute_error: 31.2524\n",
      "Epoch 78/100\n",
      "28/28 [==============================] - ETA: 0s - loss: 17.9061 - mean_absolute_error: 17.906 - ETA: 0s - loss: nan - mean_absolute_error: nan        - 0s 10ms/step - loss: nan - mean_absolute_error: nan - val_loss: 30.5196 - val_mean_absolute_error: 30.5196\n",
      "Epoch 79/100\n",
      "28/28 [==============================] - ETA: 0s - loss: 33.2383 - mean_absolute_error: 33.238 - ETA: 0s - loss: 29.4998 - mean_absolute_error: 29.499 - 0s 5ms/step - loss: nan - mean_absolute_error: nan - val_loss: 31.3350 - val_mean_absolute_error: 31.3350\n",
      "Epoch 80/100\n",
      "28/28 [==============================] - ETA: 0s - loss: 20.2778 - mean_absolute_error: 20.277 - ETA: 0s - loss: nan - mean_absolute_error: nan        - 0s 5ms/step - loss: nan - mean_absolute_error: nan - val_loss: 31.4786 - val_mean_absolute_error: 31.4786\n",
      "Epoch 81/100\n"
     ]
    },
    {
     "name": "stdout",
     "output_type": "stream",
     "text": [
      "28/28 [==============================] - ETA: 0s - loss: 30.1535 - mean_absolute_error: 30.153 - ETA: 0s - loss: 28.8373 - mean_absolute_error: 28.837 - 0s 5ms/step - loss: nan - mean_absolute_error: nan - val_loss: 31.0877 - val_mean_absolute_error: 31.0877\n",
      "Epoch 82/100\n",
      "28/28 [==============================] - ETA: 0s - loss: 33.0671 - mean_absolute_error: 33.067 - ETA: 0s - loss: 28.5749 - mean_absolute_error: 28.574 - 0s 5ms/step - loss: nan - mean_absolute_error: nan - val_loss: 31.1577 - val_mean_absolute_error: 31.1577\n",
      "Epoch 83/100\n",
      "28/28 [==============================] - ETA: 0s - loss: 31.2864 - mean_absolute_error: 31.286 - ETA: 0s - loss: nan - mean_absolute_error: nan        - 0s 5ms/step - loss: nan - mean_absolute_error: nan - val_loss: 32.4736 - val_mean_absolute_error: 32.4736\n",
      "Epoch 84/100\n",
      "28/28 [==============================] - ETA: 0s - loss: 35.4108 - mean_absolute_error: 35.410 - ETA: 0s - loss: 28.8015 - mean_absolute_error: 28.801 - 0s 5ms/step - loss: nan - mean_absolute_error: nan - val_loss: 33.3045 - val_mean_absolute_error: 33.3045\n",
      "Epoch 85/100\n",
      "28/28 [==============================] - ETA: 0s - loss: 27.3679 - mean_absolute_error: 27.367 - ETA: 0s - loss: 28.5183 - mean_absolute_error: 28.518 - 0s 5ms/step - loss: nan - mean_absolute_error: nan - val_loss: 32.0885 - val_mean_absolute_error: 32.0885\n",
      "Epoch 86/100\n",
      "28/28 [==============================] - ETA: 0s - loss: 24.8534 - mean_absolute_error: 24.853 - ETA: 0s - loss: nan - mean_absolute_error: nan        - 0s 9ms/step - loss: nan - mean_absolute_error: nan - val_loss: 29.6256 - val_mean_absolute_error: 29.6256\n",
      "Epoch 87/100\n",
      "28/28 [==============================] - ETA: 0s - loss: 38.1264 - mean_absolute_error: 38.126 - ETA: 0s - loss: nan - mean_absolute_error: nan        - 0s 5ms/step - loss: nan - mean_absolute_error: nan - val_loss: 34.7474 - val_mean_absolute_error: 34.7474\n",
      "Epoch 88/100\n",
      "28/28 [==============================] - ETA: 0s - loss: 21.1206 - mean_absolute_error: 21.120 - ETA: 0s - loss: nan - mean_absolute_error: nan        - 0s 5ms/step - loss: nan - mean_absolute_error: nan - val_loss: 32.1204 - val_mean_absolute_error: 32.1204\n",
      "Epoch 89/100\n",
      "28/28 [==============================] - ETA: 0s - loss: 23.9327 - mean_absolute_error: 23.932 - ETA: 0s - loss: nan - mean_absolute_error: nan        - 0s 5ms/step - loss: nan - mean_absolute_error: nan - val_loss: 31.6417 - val_mean_absolute_error: 31.6417\n",
      "Epoch 90/100\n",
      "28/28 [==============================] - ETA: 0s - loss: 35.5472 - mean_absolute_error: 35.547 - ETA: 0s - loss: 28.6067 - mean_absolute_error: 28.606 - 0s 5ms/step - loss: nan - mean_absolute_error: nan - val_loss: 31.7102 - val_mean_absolute_error: 31.7102\n",
      "Epoch 91/100\n",
      "28/28 [==============================] - ETA: 0s - loss: 24.6627 - mean_absolute_error: 24.662 - ETA: 0s - loss: 28.5012 - mean_absolute_error: 28.501 - 0s 5ms/step - loss: nan - mean_absolute_error: nan - val_loss: 30.5765 - val_mean_absolute_error: 30.5765\n",
      "Epoch 92/100\n",
      "28/28 [==============================] - ETA: 0s - loss: 23.0168 - mean_absolute_error: 23.016 - ETA: 0s - loss: nan - mean_absolute_error: nan        - 0s 5ms/step - loss: nan - mean_absolute_error: nan - val_loss: 30.5965 - val_mean_absolute_error: 30.5965\n",
      "Epoch 93/100\n",
      "28/28 [==============================] - ETA: 0s - loss: 33.9371 - mean_absolute_error: 33.937 - ETA: 0s - loss: nan - mean_absolute_error: nan        - 0s 5ms/step - loss: nan - mean_absolute_error: nan - val_loss: 30.3607 - val_mean_absolute_error: 30.3607\n",
      "Epoch 94/100\n",
      "28/28 [==============================] - ETA: 0s - loss: 18.4002 - mean_absolute_error: 18.400 - ETA: 0s - loss: nan - mean_absolute_error: nan        - 0s 5ms/step - loss: nan - mean_absolute_error: nan - val_loss: 30.5062 - val_mean_absolute_error: 30.5062\n",
      "Epoch 95/100\n",
      "28/28 [==============================] - ETA: 0s - loss: 26.4033 - mean_absolute_error: 26.403 - ETA: 0s - loss: nan - mean_absolute_error: nan        - 0s 9ms/step - loss: nan - mean_absolute_error: nan - val_loss: 29.5513 - val_mean_absolute_error: 29.5513\n",
      "Epoch 96/100\n",
      "28/28 [==============================] - ETA: 0s - loss: 39.1524 - mean_absolute_error: 39.152 - ETA: 0s - loss: nan - mean_absolute_error: nan        - 0s 5ms/step - loss: nan - mean_absolute_error: nan - val_loss: 30.4442 - val_mean_absolute_error: 30.4442\n",
      "Epoch 97/100\n",
      "28/28 [==============================] - ETA: 0s - loss: 42.9910 - mean_absolute_error: 42.991 - ETA: 0s - loss: nan - mean_absolute_error: nan        - 0s 5ms/step - loss: nan - mean_absolute_error: nan - val_loss: 29.7039 - val_mean_absolute_error: 29.7039\n",
      "Epoch 98/100\n",
      "28/28 [==============================] - ETA: 0s - loss: 28.6193 - mean_absolute_error: 28.619 - ETA: 0s - loss: 26.6800 - mean_absolute_error: 26.680 - 0s 5ms/step - loss: nan - mean_absolute_error: nan - val_loss: 31.1450 - val_mean_absolute_error: 31.1450\n",
      "Epoch 99/100\n",
      "28/28 [==============================] - ETA: 0s - loss: 24.3002 - mean_absolute_error: 24.300 - ETA: 0s - loss: nan - mean_absolute_error: nan        - 0s 4ms/step - loss: nan - mean_absolute_error: nan - val_loss: 30.9567 - val_mean_absolute_error: 30.9567\n",
      "Epoch 100/100\n",
      "28/28 [==============================] - ETA: 0s - loss: 25.4464 - mean_absolute_error: 25.446 - ETA: 0s - loss: nan - mean_absolute_error: nan        - 0s 5ms/step - loss: nan - mean_absolute_error: nan - val_loss: 30.9841 - val_mean_absolute_error: 30.9841\n",
      "Epoch 1/100\n",
      "28/28 [==============================] - ETA: 0s - loss: 113.7255 - mean_absolute_error: 113.725 - ETA: 0s - loss: 107.1719 - mean_absolute_error: 107.171 - 0s 10ms/step - loss: nan - mean_absolute_error: nan - val_loss: 88.4588 - val_mean_absolute_error: 88.4588\n",
      "Epoch 2/100\n",
      "28/28 [==============================] - ETA: 0s - loss: 105.1790 - mean_absolute_error: 105.179 - ETA: 0s - loss: 73.0113 - mean_absolute_error: 73.0113  - 0s 5ms/step - loss: nan - mean_absolute_error: nan - val_loss: 46.4986 - val_mean_absolute_error: 46.4986\n",
      "Epoch 3/100\n",
      "28/28 [==============================] - ETA: 0s - loss: 36.6711 - mean_absolute_error: 36.671 - ETA: 0s - loss: nan - mean_absolute_error: nan        - 0s 5ms/step - loss: nan - mean_absolute_error: nan - val_loss: 43.4419 - val_mean_absolute_error: 43.4419\n",
      "Epoch 4/100\n",
      "28/28 [==============================] - ETA: 0s - loss: 46.0437 - mean_absolute_error: 46.043 - ETA: 0s - loss: 43.5868 - mean_absolute_error: 43.586 - 0s 5ms/step - loss: nan - mean_absolute_error: nan - val_loss: 42.2062 - val_mean_absolute_error: 42.2062\n",
      "Epoch 5/100\n",
      "28/28 [==============================] - ETA: 0s - loss: 46.1125 - mean_absolute_error: 46.112 - ETA: 0s - loss: 42.1585 - mean_absolute_error: 42.158 - 0s 5ms/step - loss: nan - mean_absolute_error: nan - val_loss: 40.2314 - val_mean_absolute_error: 40.2314\n",
      "Epoch 6/100\n",
      "28/28 [==============================] - ETA: 0s - loss: 43.7142 - mean_absolute_error: 43.714 - ETA: 0s - loss: nan - mean_absolute_error: nan        - 0s 5ms/step - loss: nan - mean_absolute_error: nan - val_loss: 39.8917 - val_mean_absolute_error: 39.8917\n",
      "Epoch 7/100\n",
      "28/28 [==============================] - ETA: 0s - loss: 29.6570 - mean_absolute_error: 29.657 - ETA: 0s - loss: nan - mean_absolute_error: nan        - 0s 5ms/step - loss: nan - mean_absolute_error: nan - val_loss: 38.9358 - val_mean_absolute_error: 38.9358\n",
      "Epoch 8/100\n",
      "28/28 [==============================] - ETA: 0s - loss: 56.3948 - mean_absolute_error: 56.394 - ETA: 0s - loss: 41.0575 - mean_absolute_error: 41.057 - 0s 5ms/step - loss: nan - mean_absolute_error: nan - val_loss: 38.9576 - val_mean_absolute_error: 38.9576\n",
      "Epoch 9/100\n",
      "28/28 [==============================] - ETA: 0s - loss: 43.2968 - mean_absolute_error: 43.296 - ETA: 0s - loss: 38.1040 - mean_absolute_error: 38.104 - 0s 5ms/step - loss: nan - mean_absolute_error: nan - val_loss: 37.9603 - val_mean_absolute_error: 37.9603\n",
      "Epoch 10/100\n",
      "28/28 [==============================] - ETA: 0s - loss: 32.3290 - mean_absolute_error: 32.329 - ETA: 0s - loss: 38.1521 - mean_absolute_error: 38.152 - 0s 4ms/step - loss: nan - mean_absolute_error: nan - val_loss: 37.9992 - val_mean_absolute_error: 37.9992\n",
      "Epoch 11/100\n"
     ]
    },
    {
     "name": "stdout",
     "output_type": "stream",
     "text": [
      "28/28 [==============================] - ETA: 0s - loss: 35.5240 - mean_absolute_error: 35.524 - ETA: 0s - loss: 36.7897 - mean_absolute_error: 36.789 - 0s 5ms/step - loss: nan - mean_absolute_error: nan - val_loss: 37.6743 - val_mean_absolute_error: 37.6743\n",
      "Epoch 12/100\n",
      "28/28 [==============================] - ETA: 0s - loss: 39.2927 - mean_absolute_error: 39.292 - ETA: 0s - loss: nan - mean_absolute_error: nan        - 0s 5ms/step - loss: nan - mean_absolute_error: nan - val_loss: 37.3998 - val_mean_absolute_error: 37.3998\n",
      "Epoch 13/100\n",
      "28/28 [==============================] - ETA: 0s - loss: 39.0352 - mean_absolute_error: 39.035 - ETA: 0s - loss: nan - mean_absolute_error: nan        - 0s 5ms/step - loss: nan - mean_absolute_error: nan - val_loss: 37.4763 - val_mean_absolute_error: 37.4763\n",
      "Epoch 14/100\n",
      "28/28 [==============================] - ETA: 0s - loss: 32.4235 - mean_absolute_error: 32.423 - ETA: 0s - loss: nan - mean_absolute_error: nan        - 0s 4ms/step - loss: nan - mean_absolute_error: nan - val_loss: 38.0901 - val_mean_absolute_error: 38.0901\n",
      "Epoch 15/100\n",
      "28/28 [==============================] - ETA: 0s - loss: 29.6109 - mean_absolute_error: 29.610 - ETA: 0s - loss: nan - mean_absolute_error: nan        - 0s 5ms/step - loss: nan - mean_absolute_error: nan - val_loss: 37.3741 - val_mean_absolute_error: 37.3741\n",
      "Epoch 16/100\n",
      "28/28 [==============================] - ETA: 0s - loss: 48.5903 - mean_absolute_error: 48.590 - ETA: 0s - loss: nan - mean_absolute_error: nan        - 0s 5ms/step - loss: nan - mean_absolute_error: nan - val_loss: 36.9244 - val_mean_absolute_error: 36.9244\n",
      "Epoch 17/100\n",
      "28/28 [==============================] - ETA: 0s - loss: 33.8400 - mean_absolute_error: 33.840 - ETA: 0s - loss: nan - mean_absolute_error: nan        - 0s 4ms/step - loss: nan - mean_absolute_error: nan - val_loss: 37.1586 - val_mean_absolute_error: 37.1586\n",
      "Epoch 18/100\n",
      "28/28 [==============================] - ETA: 0s - loss: 33.8225 - mean_absolute_error: 33.822 - ETA: 0s - loss: nan - mean_absolute_error: nan        - 0s 4ms/step - loss: nan - mean_absolute_error: nan - val_loss: 36.2328 - val_mean_absolute_error: 36.2328\n",
      "Epoch 19/100\n",
      "28/28 [==============================] - ETA: 0s - loss: 26.1977 - mean_absolute_error: 26.197 - ETA: 0s - loss: 34.2871 - mean_absolute_error: 34.287 - 0s 5ms/step - loss: nan - mean_absolute_error: nan - val_loss: 36.4294 - val_mean_absolute_error: 36.4294\n",
      "Epoch 20/100\n",
      "28/28 [==============================] - ETA: 0s - loss: 35.2001 - mean_absolute_error: 35.200 - ETA: 0s - loss: 36.5660 - mean_absolute_error: 36.566 - 0s 5ms/step - loss: nan - mean_absolute_error: nan - val_loss: 36.4406 - val_mean_absolute_error: 36.4406\n",
      "Epoch 21/100\n",
      "28/28 [==============================] - ETA: 0s - loss: 29.8249 - mean_absolute_error: 29.824 - ETA: 0s - loss: 35.9639 - mean_absolute_error: 35.963 - 0s 5ms/step - loss: nan - mean_absolute_error: nan - val_loss: 35.8384 - val_mean_absolute_error: 35.8384\n",
      "Epoch 22/100\n",
      "28/28 [==============================] - ETA: 0s - loss: 33.9382 - mean_absolute_error: 33.938 - ETA: 0s - loss: nan - mean_absolute_error: nan        - 0s 4ms/step - loss: nan - mean_absolute_error: nan - val_loss: 36.1989 - val_mean_absolute_error: 36.1989\n",
      "Epoch 23/100\n",
      "28/28 [==============================] - ETA: 0s - loss: 46.5365 - mean_absolute_error: 46.536 - ETA: 0s - loss: 37.0237 - mean_absolute_error: 37.023 - 0s 5ms/step - loss: nan - mean_absolute_error: nan - val_loss: 36.1433 - val_mean_absolute_error: 36.1433\n",
      "Epoch 24/100\n",
      "28/28 [==============================] - ETA: 0s - loss: 45.9621 - mean_absolute_error: 45.962 - ETA: 0s - loss: nan - mean_absolute_error: nan        - 0s 5ms/step - loss: nan - mean_absolute_error: nan - val_loss: 36.7339 - val_mean_absolute_error: 36.7339\n",
      "Epoch 25/100\n",
      "28/28 [==============================] - ETA: 0s - loss: 39.2491 - mean_absolute_error: 39.249 - ETA: 0s - loss: nan - mean_absolute_error: nan        - 0s 4ms/step - loss: nan - mean_absolute_error: nan - val_loss: 35.5593 - val_mean_absolute_error: 35.5593\n",
      "Epoch 26/100\n",
      "28/28 [==============================] - ETA: 0s - loss: 34.0211 - mean_absolute_error: 34.021 - ETA: 0s - loss: nan - mean_absolute_error: nan        - 0s 5ms/step - loss: nan - mean_absolute_error: nan - val_loss: 35.4330 - val_mean_absolute_error: 35.4330\n",
      "Epoch 27/100\n",
      "28/28 [==============================] - ETA: 0s - loss: 32.0065 - mean_absolute_error: 32.006 - ETA: 0s - loss: nan - mean_absolute_error: nan        - 0s 5ms/step - loss: nan - mean_absolute_error: nan - val_loss: 35.3447 - val_mean_absolute_error: 35.3447\n",
      "Epoch 28/100\n",
      "28/28 [==============================] - ETA: 0s - loss: 29.3847 - mean_absolute_error: 29.384 - ETA: 0s - loss: 33.3142 - mean_absolute_error: 33.314 - 0s 5ms/step - loss: nan - mean_absolute_error: nan - val_loss: 35.8239 - val_mean_absolute_error: 35.8239\n",
      "Epoch 29/100\n",
      "28/28 [==============================] - ETA: 0s - loss: 38.5366 - mean_absolute_error: 38.536 - ETA: 0s - loss: nan - mean_absolute_error: nan        - 0s 4ms/step - loss: nan - mean_absolute_error: nan - val_loss: 34.7432 - val_mean_absolute_error: 34.7432\n",
      "Epoch 30/100\n",
      "28/28 [==============================] - ETA: 0s - loss: 27.2200 - mean_absolute_error: 27.220 - ETA: 0s - loss: nan - mean_absolute_error: nan        - 0s 5ms/step - loss: nan - mean_absolute_error: nan - val_loss: 34.9151 - val_mean_absolute_error: 34.9151\n",
      "Epoch 31/100\n",
      "28/28 [==============================] - ETA: 0s - loss: 26.1780 - mean_absolute_error: 26.178 - ETA: 0s - loss: 33.9606 - mean_absolute_error: 33.960 - 0s 5ms/step - loss: nan - mean_absolute_error: nan - val_loss: 34.6824 - val_mean_absolute_error: 34.6824\n",
      "Epoch 32/100\n",
      "28/28 [==============================] - ETA: 0s - loss: 28.0038 - mean_absolute_error: 28.003 - ETA: 0s - loss: nan - mean_absolute_error: nan        - 0s 5ms/step - loss: nan - mean_absolute_error: nan - val_loss: 34.6709 - val_mean_absolute_error: 34.6709\n",
      "Epoch 33/100\n",
      "28/28 [==============================] - ETA: 0s - loss: 36.3423 - mean_absolute_error: 36.342 - ETA: 0s - loss: nan - mean_absolute_error: nan        - 0s 5ms/step - loss: nan - mean_absolute_error: nan - val_loss: 33.9843 - val_mean_absolute_error: 33.9843\n",
      "Epoch 34/100\n",
      "28/28 [==============================] - ETA: 0s - loss: 34.5932 - mean_absolute_error: 34.593 - ETA: 0s - loss: 34.2409 - mean_absolute_error: 34.240 - 0s 5ms/step - loss: nan - mean_absolute_error: nan - val_loss: 34.0559 - val_mean_absolute_error: 34.0559\n",
      "Epoch 35/100\n",
      "28/28 [==============================] - ETA: 0s - loss: 37.2120 - mean_absolute_error: 37.212 - ETA: 0s - loss: 33.3668 - mean_absolute_error: 33.366 - 0s 5ms/step - loss: nan - mean_absolute_error: nan - val_loss: 34.2601 - val_mean_absolute_error: 34.2601\n",
      "Epoch 36/100\n",
      "28/28 [==============================] - ETA: 0s - loss: 51.2244 - mean_absolute_error: 51.224 - ETA: 0s - loss: 35.0718 - mean_absolute_error: 35.071 - 0s 5ms/step - loss: nan - mean_absolute_error: nan - val_loss: 34.1951 - val_mean_absolute_error: 34.1951\n",
      "Epoch 37/100\n",
      "28/28 [==============================] - ETA: 0s - loss: 33.6048 - mean_absolute_error: 33.604 - ETA: 0s - loss: nan - mean_absolute_error: nan        - 0s 5ms/step - loss: nan - mean_absolute_error: nan - val_loss: 33.4582 - val_mean_absolute_error: 33.4582\n",
      "Epoch 38/100\n",
      "28/28 [==============================] - ETA: 0s - loss: nan - mean_absolute_error: na - ETA: 0s - loss: nan - mean_absolute_error: na - 0s 5ms/step - loss: nan - mean_absolute_error: nan - val_loss: 34.0019 - val_mean_absolute_error: 34.0019\n",
      "Epoch 39/100\n",
      "28/28 [==============================] - ETA: 0s - loss: 33.6031 - mean_absolute_error: 33.603 - ETA: 0s - loss: nan - mean_absolute_error: nan        - 0s 5ms/step - loss: nan - mean_absolute_error: nan - val_loss: 34.6609 - val_mean_absolute_error: 34.6609\n",
      "Epoch 40/100\n",
      "28/28 [==============================] - ETA: 0s - loss: 32.5865 - mean_absolute_error: 32.586 - ETA: 0s - loss: nan - mean_absolute_error: nan        - 0s 4ms/step - loss: nan - mean_absolute_error: nan - val_loss: 33.7909 - val_mean_absolute_error: 33.7909\n",
      "Epoch 41/100\n"
     ]
    },
    {
     "name": "stdout",
     "output_type": "stream",
     "text": [
      "28/28 [==============================] - ETA: 0s - loss: 22.8140 - mean_absolute_error: 22.814 - ETA: 0s - loss: nan - mean_absolute_error: nan        - 0s 5ms/step - loss: nan - mean_absolute_error: nan - val_loss: 34.8919 - val_mean_absolute_error: 34.8919\n",
      "Epoch 42/100\n",
      "28/28 [==============================] - ETA: 0s - loss: 25.0209 - mean_absolute_error: 25.020 - ETA: 0s - loss: 29.8580 - mean_absolute_error: 29.858 - 0s 5ms/step - loss: nan - mean_absolute_error: nan - val_loss: 33.4243 - val_mean_absolute_error: 33.4243\n",
      "Epoch 43/100\n",
      "28/28 [==============================] - ETA: 0s - loss: 39.2331 - mean_absolute_error: 39.233 - ETA: 0s - loss: 33.6204 - mean_absolute_error: 33.620 - 0s 5ms/step - loss: nan - mean_absolute_error: nan - val_loss: 32.8520 - val_mean_absolute_error: 32.8520\n",
      "Epoch 44/100\n",
      "28/28 [==============================] - ETA: 0s - loss: 34.2269 - mean_absolute_error: 34.226 - ETA: 0s - loss: nan - mean_absolute_error: nan        - 0s 5ms/step - loss: nan - mean_absolute_error: nan - val_loss: 33.2315 - val_mean_absolute_error: 33.2315\n",
      "Epoch 45/100\n",
      "28/28 [==============================] - ETA: 0s - loss: 28.8970 - mean_absolute_error: 28.897 - ETA: 0s - loss: nan - mean_absolute_error: nan        - 0s 5ms/step - loss: nan - mean_absolute_error: nan - val_loss: 33.4187 - val_mean_absolute_error: 33.4187\n",
      "Epoch 46/100\n",
      "28/28 [==============================] - ETA: 0s - loss: 46.1210 - mean_absolute_error: 46.121 - ETA: 0s - loss: 35.3905 - mean_absolute_error: 35.390 - 0s 5ms/step - loss: nan - mean_absolute_error: nan - val_loss: 32.4907 - val_mean_absolute_error: 32.4907\n",
      "Epoch 47/100\n",
      "28/28 [==============================] - ETA: 0s - loss: 28.8699 - mean_absolute_error: 28.869 - ETA: 0s - loss: nan - mean_absolute_error: nan        - 0s 5ms/step - loss: nan - mean_absolute_error: nan - val_loss: 32.6906 - val_mean_absolute_error: 32.6906\n",
      "Epoch 48/100\n",
      "28/28 [==============================] - ETA: 0s - loss: 32.3569 - mean_absolute_error: 32.356 - ETA: 0s - loss: nan - mean_absolute_error: nan        - 0s 5ms/step - loss: nan - mean_absolute_error: nan - val_loss: 34.7707 - val_mean_absolute_error: 34.7707\n",
      "Epoch 49/100\n",
      "28/28 [==============================] - ETA: 0s - loss: 29.7440 - mean_absolute_error: 29.744 - ETA: 0s - loss: 31.7039 - mean_absolute_error: 31.703 - 0s 5ms/step - loss: nan - mean_absolute_error: nan - val_loss: 32.5657 - val_mean_absolute_error: 32.5657\n",
      "Epoch 50/100\n",
      "28/28 [==============================] - ETA: 0s - loss: 26.7555 - mean_absolute_error: 26.755 - ETA: 0s - loss: nan - mean_absolute_error: nan        - 0s 4ms/step - loss: nan - mean_absolute_error: nan - val_loss: 32.4917 - val_mean_absolute_error: 32.4917\n",
      "Epoch 51/100\n",
      "28/28 [==============================] - ETA: 0s - loss: 29.8945 - mean_absolute_error: 29.894 - ETA: 0s - loss: 30.7050 - mean_absolute_error: 30.705 - 0s 5ms/step - loss: nan - mean_absolute_error: nan - val_loss: 32.0645 - val_mean_absolute_error: 32.0645\n",
      "Epoch 52/100\n",
      "28/28 [==============================] - ETA: 0s - loss: 22.0822 - mean_absolute_error: 22.082 - ETA: 0s - loss: 31.1980 - mean_absolute_error: 31.198 - 0s 5ms/step - loss: nan - mean_absolute_error: nan - val_loss: 32.2935 - val_mean_absolute_error: 32.2935\n",
      "Epoch 53/100\n",
      "28/28 [==============================] - ETA: 0s - loss: 20.6646 - mean_absolute_error: 20.664 - ETA: 0s - loss: nan - mean_absolute_error: nan        - 0s 5ms/step - loss: nan - mean_absolute_error: nan - val_loss: 32.5113 - val_mean_absolute_error: 32.5113\n",
      "Epoch 54/100\n",
      "28/28 [==============================] - ETA: 0s - loss: 24.7836 - mean_absolute_error: 24.783 - ETA: 0s - loss: nan - mean_absolute_error: nan        - 0s 5ms/step - loss: nan - mean_absolute_error: nan - val_loss: 33.2215 - val_mean_absolute_error: 33.2215\n",
      "Epoch 55/100\n",
      "28/28 [==============================] - ETA: 0s - loss: 30.3051 - mean_absolute_error: 30.305 - ETA: 0s - loss: nan - mean_absolute_error: nan        - 0s 5ms/step - loss: nan - mean_absolute_error: nan - val_loss: 31.5467 - val_mean_absolute_error: 31.5467\n",
      "Epoch 56/100\n",
      "28/28 [==============================] - ETA: 0s - loss: 35.2442 - mean_absolute_error: 35.244 - ETA: 0s - loss: nan - mean_absolute_error: nan        - 0s 5ms/step - loss: nan - mean_absolute_error: nan - val_loss: 33.3923 - val_mean_absolute_error: 33.3923\n",
      "Epoch 57/100\n",
      "28/28 [==============================] - ETA: 0s - loss: 33.1480 - mean_absolute_error: 33.148 - ETA: 0s - loss: nan - mean_absolute_error: nan        - 0s 5ms/step - loss: nan - mean_absolute_error: nan - val_loss: 31.8136 - val_mean_absolute_error: 31.8136\n",
      "Epoch 58/100\n",
      "28/28 [==============================] - ETA: 0s - loss: 26.6307 - mean_absolute_error: 26.630 - ETA: 0s - loss: nan - mean_absolute_error: nan        - 0s 5ms/step - loss: nan - mean_absolute_error: nan - val_loss: 31.9633 - val_mean_absolute_error: 31.9633\n",
      "Epoch 59/100\n",
      "28/28 [==============================] - ETA: 0s - loss: 22.4372 - mean_absolute_error: 22.437 - ETA: 0s - loss: 31.5878 - mean_absolute_error: 31.587 - 0s 5ms/step - loss: nan - mean_absolute_error: nan - val_loss: 31.5958 - val_mean_absolute_error: 31.5958\n",
      "Epoch 60/100\n",
      "28/28 [==============================] - ETA: 0s - loss: 26.0193 - mean_absolute_error: 26.019 - ETA: 0s - loss: nan - mean_absolute_error: nan        - 0s 4ms/step - loss: nan - mean_absolute_error: nan - val_loss: 31.6949 - val_mean_absolute_error: 31.6949\n",
      "Epoch 61/100\n",
      "28/28 [==============================] - ETA: 0s - loss: 38.1514 - mean_absolute_error: 38.151 - ETA: 0s - loss: nan - mean_absolute_error: nan        - 0s 5ms/step - loss: nan - mean_absolute_error: nan - val_loss: 30.9145 - val_mean_absolute_error: 30.9145\n",
      "Epoch 62/100\n",
      "28/28 [==============================] - ETA: 0s - loss: 32.1445 - mean_absolute_error: 32.144 - ETA: 0s - loss: 29.8593 - mean_absolute_error: 29.859 - 0s 5ms/step - loss: nan - mean_absolute_error: nan - val_loss: 32.4618 - val_mean_absolute_error: 32.4618\n",
      "Epoch 63/100\n",
      "28/28 [==============================] - ETA: 0s - loss: 32.9406 - mean_absolute_error: 32.940 - ETA: 0s - loss: nan - mean_absolute_error: nan        - 0s 5ms/step - loss: nan - mean_absolute_error: nan - val_loss: 31.7637 - val_mean_absolute_error: 31.7637\n",
      "Epoch 64/100\n",
      "28/28 [==============================] - ETA: 0s - loss: 28.1616 - mean_absolute_error: 28.161 - ETA: 0s - loss: nan - mean_absolute_error: nan        - 0s 5ms/step - loss: nan - mean_absolute_error: nan - val_loss: 31.8184 - val_mean_absolute_error: 31.8184\n",
      "Epoch 65/100\n",
      "28/28 [==============================] - ETA: 0s - loss: 37.6056 - mean_absolute_error: 37.605 - ETA: 0s - loss: nan - mean_absolute_error: nan        - 0s 4ms/step - loss: nan - mean_absolute_error: nan - val_loss: 30.9539 - val_mean_absolute_error: 30.9539\n",
      "Epoch 66/100\n",
      "28/28 [==============================] - ETA: 0s - loss: 23.5664 - mean_absolute_error: 23.566 - ETA: 0s - loss: 29.1391 - mean_absolute_error: 29.139 - 0s 5ms/step - loss: nan - mean_absolute_error: nan - val_loss: 31.9663 - val_mean_absolute_error: 31.9663\n",
      "Epoch 67/100\n",
      "28/28 [==============================] - ETA: 0s - loss: 16.6523 - mean_absolute_error: 16.652 - ETA: 0s - loss: nan - mean_absolute_error: nan        - 0s 4ms/step - loss: nan - mean_absolute_error: nan - val_loss: 33.6638 - val_mean_absolute_error: 33.6638\n",
      "Epoch 68/100\n",
      "28/28 [==============================] - ETA: 0s - loss: 39.1479 - mean_absolute_error: 39.147 - ETA: 0s - loss: nan - mean_absolute_error: nan        - 0s 5ms/step - loss: nan - mean_absolute_error: nan - val_loss: 31.2556 - val_mean_absolute_error: 31.2556\n",
      "Epoch 69/100\n",
      "28/28 [==============================] - ETA: 0s - loss: 37.3698 - mean_absolute_error: 37.369 - ETA: 0s - loss: 31.9212 - mean_absolute_error: 31.921 - 0s 5ms/step - loss: nan - mean_absolute_error: nan - val_loss: 31.3273 - val_mean_absolute_error: 31.3273\n",
      "Epoch 70/100\n",
      "28/28 [==============================] - ETA: 0s - loss: 25.1311 - mean_absolute_error: 25.131 - ETA: 0s - loss: nan - mean_absolute_error: nan        - 0s 5ms/step - loss: nan - mean_absolute_error: nan - val_loss: 30.7038 - val_mean_absolute_error: 30.7038\n",
      "Epoch 71/100\n"
     ]
    },
    {
     "name": "stdout",
     "output_type": "stream",
     "text": [
      "28/28 [==============================] - ETA: 0s - loss: nan - mean_absolute_error: na - ETA: 0s - loss: nan - mean_absolute_error: na - 0s 4ms/step - loss: nan - mean_absolute_error: nan - val_loss: 30.9663 - val_mean_absolute_error: 30.9663\n",
      "Epoch 72/100\n",
      "28/28 [==============================] - ETA: 0s - loss: 28.4504 - mean_absolute_error: 28.450 - ETA: 0s - loss: nan - mean_absolute_error: nan        - 0s 5ms/step - loss: nan - mean_absolute_error: nan - val_loss: 31.1703 - val_mean_absolute_error: 31.1703\n",
      "Epoch 73/100\n",
      "28/28 [==============================] - ETA: 0s - loss: 20.5684 - mean_absolute_error: 20.568 - ETA: 0s - loss: nan - mean_absolute_error: nan        - 0s 5ms/step - loss: nan - mean_absolute_error: nan - val_loss: 31.2140 - val_mean_absolute_error: 31.2140\n",
      "Epoch 74/100\n",
      "28/28 [==============================] - ETA: 0s - loss: 38.3968 - mean_absolute_error: 38.396 - ETA: 0s - loss: 29.4314 - mean_absolute_error: 29.431 - 0s 4ms/step - loss: nan - mean_absolute_error: nan - val_loss: 30.4953 - val_mean_absolute_error: 30.4953\n",
      "Epoch 75/100\n",
      "28/28 [==============================] - ETA: 0s - loss: 26.3419 - mean_absolute_error: 26.341 - ETA: 0s - loss: nan - mean_absolute_error: nan        - 0s 5ms/step - loss: nan - mean_absolute_error: nan - val_loss: 30.6403 - val_mean_absolute_error: 30.6403\n",
      "Epoch 76/100\n",
      "28/28 [==============================] - ETA: 0s - loss: 34.7413 - mean_absolute_error: 34.741 - ETA: 0s - loss: nan - mean_absolute_error: nan        - 0s 5ms/step - loss: nan - mean_absolute_error: nan - val_loss: 31.6784 - val_mean_absolute_error: 31.6784\n",
      "Epoch 77/100\n",
      "28/28 [==============================] - ETA: 0s - loss: 31.1825 - mean_absolute_error: 31.182 - ETA: 0s - loss: 28.1922 - mean_absolute_error: 28.192 - 0s 4ms/step - loss: nan - mean_absolute_error: nan - val_loss: 31.4143 - val_mean_absolute_error: 31.4143\n",
      "Epoch 78/100\n",
      "28/28 [==============================] - ETA: 0s - loss: 35.0833 - mean_absolute_error: 35.083 - ETA: 0s - loss: 29.9971 - mean_absolute_error: 29.997 - 0s 5ms/step - loss: nan - mean_absolute_error: nan - val_loss: 30.6574 - val_mean_absolute_error: 30.6574\n",
      "Epoch 79/100\n",
      "28/28 [==============================] - ETA: 0s - loss: 21.3656 - mean_absolute_error: 21.365 - ETA: 0s - loss: nan - mean_absolute_error: nan        - 0s 5ms/step - loss: nan - mean_absolute_error: nan - val_loss: 30.8567 - val_mean_absolute_error: 30.8567\n",
      "Epoch 80/100\n",
      "28/28 [==============================] - ETA: 0s - loss: 28.8204 - mean_absolute_error: 28.820 - ETA: 0s - loss: nan - mean_absolute_error: nan        - 0s 5ms/step - loss: nan - mean_absolute_error: nan - val_loss: 31.9023 - val_mean_absolute_error: 31.9023\n",
      "Epoch 81/100\n",
      "28/28 [==============================] - ETA: 0s - loss: nan - mean_absolute_error: na - ETA: 0s - loss: nan - mean_absolute_error: na - ETA: 0s - loss: nan - mean_absolute_error: na - 0s 6ms/step - loss: nan - mean_absolute_error: nan - val_loss: 30.1062 - val_mean_absolute_error: 30.1062\n",
      "Epoch 82/100\n",
      "28/28 [==============================] - ETA: 0s - loss: 25.9404 - mean_absolute_error: 25.940 - ETA: 0s - loss: nan - mean_absolute_error: nan        - 0s 4ms/step - loss: nan - mean_absolute_error: nan - val_loss: 30.9053 - val_mean_absolute_error: 30.9053\n",
      "Epoch 83/100\n",
      "28/28 [==============================] - ETA: 0s - loss: 28.5137 - mean_absolute_error: 28.513 - ETA: 0s - loss: 27.6155 - mean_absolute_error: 27.615 - 0s 5ms/step - loss: nan - mean_absolute_error: nan - val_loss: 31.3587 - val_mean_absolute_error: 31.3587\n",
      "Epoch 84/100\n",
      "28/28 [==============================] - ETA: 0s - loss: 33.2313 - mean_absolute_error: 33.231 - ETA: 0s - loss: 28.2373 - mean_absolute_error: 28.237 - 0s 5ms/step - loss: nan - mean_absolute_error: nan - val_loss: 30.8141 - val_mean_absolute_error: 30.8141\n",
      "Epoch 85/100\n",
      "28/28 [==============================] - ETA: 0s - loss: 27.9590 - mean_absolute_error: 27.959 - ETA: 0s - loss: nan - mean_absolute_error: nan        - 0s 10ms/step - loss: nan - mean_absolute_error: nan - val_loss: 29.3700 - val_mean_absolute_error: 29.3700\n",
      "Epoch 86/100\n",
      "28/28 [==============================] - ETA: 0s - loss: 30.6792 - mean_absolute_error: 30.679 - ETA: 0s - loss: 27.4042 - mean_absolute_error: 27.404 - 0s 5ms/step - loss: nan - mean_absolute_error: nan - val_loss: 30.4881 - val_mean_absolute_error: 30.4881\n",
      "Epoch 87/100\n",
      "28/28 [==============================] - ETA: 0s - loss: 27.9868 - mean_absolute_error: 27.986 - ETA: 0s - loss: 29.2566 - mean_absolute_error: 29.256 - 0s 5ms/step - loss: nan - mean_absolute_error: nan - val_loss: 32.1140 - val_mean_absolute_error: 32.1140\n",
      "Epoch 88/100\n",
      "28/28 [==============================] - ETA: 0s - loss: 31.5557 - mean_absolute_error: 31.555 - ETA: 0s - loss: 28.4102 - mean_absolute_error: 28.410 - 0s 4ms/step - loss: nan - mean_absolute_error: nan - val_loss: 30.1221 - val_mean_absolute_error: 30.1221\n",
      "Epoch 89/100\n",
      "28/28 [==============================] - ETA: 0s - loss: 31.4060 - mean_absolute_error: 31.406 - ETA: 0s - loss: nan - mean_absolute_error: nan        - 0s 5ms/step - loss: nan - mean_absolute_error: nan - val_loss: 31.8978 - val_mean_absolute_error: 31.8978\n",
      "Epoch 90/100\n",
      "28/28 [==============================] - ETA: 0s - loss: 30.3132 - mean_absolute_error: 30.313 - ETA: 0s - loss: nan - mean_absolute_error: nan        - 0s 4ms/step - loss: nan - mean_absolute_error: nan - val_loss: 31.2611 - val_mean_absolute_error: 31.2611\n",
      "Epoch 91/100\n",
      "28/28 [==============================] - ETA: 0s - loss: 34.9625 - mean_absolute_error: 34.962 - ETA: 0s - loss: nan - mean_absolute_error: nan        - 0s 5ms/step - loss: nan - mean_absolute_error: nan - val_loss: 32.1317 - val_mean_absolute_error: 32.1317\n",
      "Epoch 92/100\n",
      "28/28 [==============================] - ETA: 0s - loss: 31.5169 - mean_absolute_error: 31.516 - ETA: 0s - loss: 29.7835 - mean_absolute_error: 29.783 - 0s 4ms/step - loss: nan - mean_absolute_error: nan - val_loss: 29.9049 - val_mean_absolute_error: 29.9049\n",
      "Epoch 93/100\n",
      "28/28 [==============================] - ETA: 0s - loss: 18.8680 - mean_absolute_error: 18.868 - ETA: 0s - loss: 28.7007 - mean_absolute_error: 28.700 - 0s 5ms/step - loss: nan - mean_absolute_error: nan - val_loss: 30.5041 - val_mean_absolute_error: 30.5041\n",
      "Epoch 94/100\n",
      "28/28 [==============================] - ETA: 0s - loss: 20.8452 - mean_absolute_error: 20.845 - ETA: 0s - loss: nan - mean_absolute_error: nan        - 0s 5ms/step - loss: nan - mean_absolute_error: nan - val_loss: 30.5453 - val_mean_absolute_error: 30.5453\n",
      "Epoch 95/100\n",
      "28/28 [==============================] - ETA: 0s - loss: 31.0089 - mean_absolute_error: 31.008 - ETA: 0s - loss: nan - mean_absolute_error: nan        - 0s 5ms/step - loss: nan - mean_absolute_error: nan - val_loss: 31.4435 - val_mean_absolute_error: 31.4435\n",
      "Epoch 96/100\n",
      "28/28 [==============================] - ETA: 0s - loss: 29.4464 - mean_absolute_error: 29.446 - ETA: 0s - loss: 26.5638 - mean_absolute_error: 26.563 - 0s 4ms/step - loss: nan - mean_absolute_error: nan - val_loss: 30.2104 - val_mean_absolute_error: 30.2104\n",
      "Epoch 97/100\n",
      "28/28 [==============================] - ETA: 0s - loss: 26.8943 - mean_absolute_error: 26.894 - ETA: 0s - loss: 25.3914 - mean_absolute_error: 25.391 - 0s 5ms/step - loss: nan - mean_absolute_error: nan - val_loss: 29.9574 - val_mean_absolute_error: 29.9574\n",
      "Epoch 98/100\n",
      "28/28 [==============================] - ETA: 0s - loss: 19.5408 - mean_absolute_error: 19.540 - ETA: 0s - loss: nan - mean_absolute_error: nan        - 0s 5ms/step - loss: nan - mean_absolute_error: nan - val_loss: 30.0670 - val_mean_absolute_error: 30.0670\n",
      "Epoch 99/100\n",
      "28/28 [==============================] - ETA: 0s - loss: 24.6163 - mean_absolute_error: 24.616 - ETA: 0s - loss: 25.5359 - mean_absolute_error: 25.535 - 0s 5ms/step - loss: nan - mean_absolute_error: nan - val_loss: 29.7366 - val_mean_absolute_error: 29.7366\n",
      "Epoch 100/100\n",
      "28/28 [==============================] - ETA: 0s - loss: 35.1869 - mean_absolute_error: 35.186 - ETA: 0s - loss: 27.3080 - mean_absolute_error: 27.308 - 0s 5ms/step - loss: nan - mean_absolute_error: nan - val_loss: 30.2285 - val_mean_absolute_error: 30.2285\n"
     ]
    },
    {
     "data": {
      "text/html": [
       "<span style=\"color:#4527A0\"><h1 style=\"font-size:18px\">Trial complete</h1></span>"
      ],
      "text/plain": [
       "<IPython.core.display.HTML object>"
      ]
     },
     "metadata": {},
     "output_type": "display_data"
    },
    {
     "data": {
      "text/html": [
       "<span style=\"color:#4527A0\"><h1 style=\"font-size:18px\">Trial summary</h1></span>"
      ],
      "text/plain": [
       "<IPython.core.display.HTML object>"
      ]
     },
     "metadata": {},
     "output_type": "display_data"
    },
    {
     "data": {
      "text/html": [
       "<span style=\"color:cyan\"> |-Trial ID: 13eb66a04a75014f5ce9c07856da2fa8</span>"
      ],
      "text/plain": [
       "<IPython.core.display.HTML object>"
      ]
     },
     "metadata": {},
     "output_type": "display_data"
    },
    {
     "data": {
      "text/html": [
       "<span style=\"color:cyan\"> |-Score: 29.81553840637207</span>"
      ],
      "text/plain": [
       "<IPython.core.display.HTML object>"
      ]
     },
     "metadata": {},
     "output_type": "display_data"
    },
    {
     "data": {
      "text/html": [
       "<span style=\"color:cyan\"> |-Best step: 0</span>"
      ],
      "text/plain": [
       "<IPython.core.display.HTML object>"
      ]
     },
     "metadata": {},
     "output_type": "display_data"
    },
    {
     "data": {
      "text/html": [
       "<span style=\"color:#7E57C2\"><h2 style=\"font-size:16px\">Hyperparameters:</h2></span>"
      ],
      "text/plain": [
       "<IPython.core.display.HTML object>"
      ]
     },
     "metadata": {},
     "output_type": "display_data"
    },
    {
     "data": {
      "text/html": [
       "<span style=\"color:cyan\"> |-learning_rate: 0.001</span>"
      ],
      "text/plain": [
       "<IPython.core.display.HTML object>"
      ]
     },
     "metadata": {},
     "output_type": "display_data"
    },
    {
     "data": {
      "text/html": [
       "<span style=\"color:blue\"> |-num_layers: 5</span>"
      ],
      "text/plain": [
       "<IPython.core.display.HTML object>"
      ]
     },
     "metadata": {},
     "output_type": "display_data"
    },
    {
     "data": {
      "text/html": [
       "<span style=\"color:cyan\"> |-units_0: 320</span>"
      ],
      "text/plain": [
       "<IPython.core.display.HTML object>"
      ]
     },
     "metadata": {},
     "output_type": "display_data"
    },
    {
     "data": {
      "text/html": [
       "<span style=\"color:blue\"> |-units_1: 128</span>"
      ],
      "text/plain": [
       "<IPython.core.display.HTML object>"
      ]
     },
     "metadata": {},
     "output_type": "display_data"
    },
    {
     "data": {
      "text/html": [
       "<span style=\"color:cyan\"> |-units_2: 32</span>"
      ],
      "text/plain": [
       "<IPython.core.display.HTML object>"
      ]
     },
     "metadata": {},
     "output_type": "display_data"
    },
    {
     "data": {
      "text/html": [
       "<span style=\"color:blue\"> |-units_3: 32</span>"
      ],
      "text/plain": [
       "<IPython.core.display.HTML object>"
      ]
     },
     "metadata": {},
     "output_type": "display_data"
    },
    {
     "data": {
      "text/html": [
       "<span style=\"color:cyan\"> |-units_4: 32</span>"
      ],
      "text/plain": [
       "<IPython.core.display.HTML object>"
      ]
     },
     "metadata": {},
     "output_type": "display_data"
    },
    {
     "name": "stdout",
     "output_type": "stream",
     "text": [
      "Epoch 1/100\n",
      "28/28 [==============================] - ETA: 0s - loss: 142.7588 - mean_absolute_error: 142.758 - ETA: 0s - loss: 114.1591 - mean_absolute_error: 114.159 - ETA: 0s - loss: 110.0314 - mean_absolute_error: 110.031 - ETA: 0s - loss: 108.7349 - mean_absolute_error: 108.734 - ETA: 0s - loss: nan - mean_absolute_error: nan          - 1s 25ms/step - loss: nan - mean_absolute_error: nan - val_loss: 103.8143 - val_mean_absolute_error: 103.8143\n",
      "Epoch 2/100\n",
      "28/28 [==============================] - ETA: 0s - loss: 122.8958 - mean_absolute_error: 122.895 - ETA: 0s - loss: 109.8309 - mean_absolute_error: 109.830 - ETA: 0s - loss: nan - mean_absolute_error: nan          - ETA: 0s - loss: nan - mean_absolute_error: na - ETA: 0s - loss: nan - mean_absolute_error: na - 1s 19ms/step - loss: nan - mean_absolute_error: nan - val_loss: 90.3930 - val_mean_absolute_error: 90.3930\n",
      "Epoch 3/100\n",
      "28/28 [==============================] - ETA: 0s - loss: 95.4414 - mean_absolute_error: 95.441 - ETA: 0s - loss: 91.1514 - mean_absolute_error: 91.151 - ETA: 0s - loss: 86.5141 - mean_absolute_error: 86.514 - ETA: 0s - loss: 79.9982 - mean_absolute_error: 79.998 - ETA: 0s - loss: 75.1662 - mean_absolute_error: 75.166 - 1s 18ms/step - loss: nan - mean_absolute_error: nan - val_loss: 53.4930 - val_mean_absolute_error: 53.4930\n",
      "Epoch 4/100\n",
      "28/28 [==============================] - ETA: 0s - loss: 55.8369 - mean_absolute_error: 55.836 - ETA: 0s - loss: 56.1249 - mean_absolute_error: 56.124 - ETA: 0s - loss: nan - mean_absolute_error: nan        - ETA: 0s - loss: nan - mean_absolute_error: na - ETA: 0s - loss: nan - mean_absolute_error: na - 1s 18ms/step - loss: nan - mean_absolute_error: nan - val_loss: 45.3253 - val_mean_absolute_error: 45.3253\n",
      "Epoch 5/100\n",
      "28/28 [==============================] - ETA: 0s - loss: 57.4715 - mean_absolute_error: 57.471 - ETA: 0s - loss: nan - mean_absolute_error: nan        - ETA: 0s - loss: nan - mean_absolute_error: na - ETA: 0s - loss: nan - mean_absolute_error: na - ETA: 0s - loss: nan - mean_absolute_error: na - 1s 19ms/step - loss: nan - mean_absolute_error: nan - val_loss: 43.3868 - val_mean_absolute_error: 43.3868\n",
      "Epoch 6/100\n",
      "28/28 [==============================] - ETA: 0s - loss: 42.3857 - mean_absolute_error: 42.385 - ETA: 0s - loss: 44.5130 - mean_absolute_error: 44.513 - ETA: 0s - loss: 42.2632 - mean_absolute_error: 42.263 - ETA: 0s - loss: 44.2244 - mean_absolute_error: 44.224 - ETA: 0s - loss: nan - mean_absolute_error: nan        - 1s 19ms/step - loss: nan - mean_absolute_error: nan - val_loss: 42.3053 - val_mean_absolute_error: 42.3053\n",
      "Epoch 7/100\n",
      "28/28 [==============================] - ETA: 0s - loss: 55.1888 - mean_absolute_error: 55.188 - ETA: 0s - loss: nan - mean_absolute_error: nan        - ETA: 0s - loss: nan - mean_absolute_error: na - ETA: 0s - loss: nan - mean_absolute_error: na - ETA: 0s - loss: nan - mean_absolute_error: na - 0s 10ms/step - loss: nan - mean_absolute_error: nan - val_loss: 43.5145 - val_mean_absolute_error: 43.5145\n",
      "Epoch 8/100\n",
      "28/28 [==============================] - ETA: 0s - loss: 41.0402 - mean_absolute_error: 41.040 - ETA: 0s - loss: 44.4774 - mean_absolute_error: 44.477 - ETA: 0s - loss: 43.2399 - mean_absolute_error: 43.239 - ETA: 0s - loss: nan - mean_absolute_error: nan        - 1s 20ms/step - loss: nan - mean_absolute_error: nan - val_loss: 41.3554 - val_mean_absolute_error: 41.3554\n",
      "Epoch 9/100\n",
      "28/28 [==============================] - ETA: 0s - loss: 43.3849 - mean_absolute_error: 43.384 - ETA: 0s - loss: nan - mean_absolute_error: nan        - ETA: 0s - loss: nan - mean_absolute_error: na - ETA: 0s - loss: nan - mean_absolute_error: na - ETA: 0s - loss: nan - mean_absolute_error: na - 1s 19ms/step - loss: nan - mean_absolute_error: nan - val_loss: 40.4781 - val_mean_absolute_error: 40.4781\n",
      "Epoch 10/100\n",
      "28/28 [==============================] - ETA: 0s - loss: 34.0375 - mean_absolute_error: 34.037 - ETA: 0s - loss: 37.5535 - mean_absolute_error: 37.553 - ETA: 0s - loss: 38.8321 - mean_absolute_error: 38.832 - ETA: 0s - loss: 38.9470 - mean_absolute_error: 38.947 - ETA: 0s - loss: nan - mean_absolute_error: nan        - 1s 22ms/step - loss: nan - mean_absolute_error: nan - val_loss: 39.9503 - val_mean_absolute_error: 39.9503\n",
      "Epoch 11/100\n",
      "28/28 [==============================] - ETA: 0s - loss: 42.4578 - mean_absolute_error: 42.457 - ETA: 0s - loss: nan - mean_absolute_error: nan        - ETA: 0s - loss: nan - mean_absolute_error: na - ETA: 0s - loss: nan - mean_absolute_error: na - 1s 18ms/step - loss: nan - mean_absolute_error: nan - val_loss: 39.4658 - val_mean_absolute_error: 39.4658\n",
      "Epoch 12/100\n",
      "28/28 [==============================] - ETA: 0s - loss: 36.7561 - mean_absolute_error: 36.756 - ETA: 0s - loss: nan - mean_absolute_error: nan        - ETA: 0s - loss: nan - mean_absolute_error: na - ETA: 0s - loss: nan - mean_absolute_error: na - ETA: 0s - loss: nan - mean_absolute_error: na - 1s 18ms/step - loss: nan - mean_absolute_error: nan - val_loss: 38.8556 - val_mean_absolute_error: 38.8556\n",
      "Epoch 13/100\n",
      "28/28 [==============================] - ETA: 0s - loss: 33.2141 - mean_absolute_error: 33.214 - ETA: 0s - loss: 37.6371 - mean_absolute_error: 37.637 - ETA: 0s - loss: 38.6720 - mean_absolute_error: 38.672 - ETA: 0s - loss: nan - mean_absolute_error: nan        - ETA: 0s - loss: nan - mean_absolute_error: na - 0s 18ms/step - loss: nan - mean_absolute_error: nan - val_loss: 38.4046 - val_mean_absolute_error: 38.4046\n",
      "Epoch 14/100\n",
      "28/28 [==============================] - ETA: 0s - loss: 37.9006 - mean_absolute_error: 37.900 - ETA: 0s - loss: 34.2539 - mean_absolute_error: 34.253 - ETA: 0s - loss: 36.5849 - mean_absolute_error: 36.584 - ETA: 0s - loss: 39.8620 - mean_absolute_error: 39.862 - ETA: 0s - loss: nan - mean_absolute_error: nan        - 1s 18ms/step - loss: nan - mean_absolute_error: nan - val_loss: 38.1415 - val_mean_absolute_error: 38.1415\n",
      "Epoch 15/100\n",
      "28/28 [==============================] - ETA: 0s - loss: 36.1822 - mean_absolute_error: 36.182 - ETA: 0s - loss: 38.1291 - mean_absolute_error: 38.129 - ETA: 0s - loss: nan - mean_absolute_error: nan        - ETA: 0s - loss: nan - mean_absolute_error: na - ETA: 0s - loss: nan - mean_absolute_error: na - 1s 18ms/step - loss: nan - mean_absolute_error: nan - val_loss: 37.4356 - val_mean_absolute_error: 37.4356\n",
      "Epoch 16/100\n",
      "28/28 [==============================] - ETA: 0s - loss: 31.6576 - mean_absolute_error: 31.657 - ETA: 0s - loss: 32.5257 - mean_absolute_error: 32.525 - ETA: 0s - loss: 34.7825 - mean_absolute_error: 34.782 - ETA: 0s - loss: nan - mean_absolute_error: nan        - ETA: 0s - loss: nan - mean_absolute_error: na - 0s 17ms/step - loss: nan - mean_absolute_error: nan - val_loss: 36.9472 - val_mean_absolute_error: 36.9472\n",
      "Epoch 17/100\n",
      "28/28 [==============================] - ETA: 0s - loss: 48.7255 - mean_absolute_error: 48.725 - ETA: 0s - loss: 35.2743 - mean_absolute_error: 35.274 - ETA: 0s - loss: 36.4429 - mean_absolute_error: 36.442 - ETA: 0s - loss: 36.6980 - mean_absolute_error: 36.698 - 1s 20ms/step - loss: nan - mean_absolute_error: nan - val_loss: 36.3316 - val_mean_absolute_error: 36.3316\n",
      "Epoch 18/100\n",
      "28/28 [==============================] - ETA: 0s - loss: 41.4245 - mean_absolute_error: 41.424 - ETA: 0s - loss: 35.1909 - mean_absolute_error: 35.190 - ETA: 0s - loss: 37.0518 - mean_absolute_error: 37.051 - ETA: 0s - loss: 36.6385 - mean_absolute_error: 36.638 - 0s 18ms/step - loss: nan - mean_absolute_error: nan - val_loss: 36.0710 - val_mean_absolute_error: 36.0710\n",
      "Epoch 19/100\n",
      "28/28 [==============================] - ETA: 0s - loss: 32.6003 - mean_absolute_error: 32.600 - ETA: 0s - loss: 33.0967 - mean_absolute_error: 33.096 - ETA: 0s - loss: nan - mean_absolute_error: nan        - ETA: 0s - loss: nan - mean_absolute_error: na - 0s 16ms/step - loss: nan - mean_absolute_error: nan - val_loss: 35.7030 - val_mean_absolute_error: 35.7030\n",
      "Epoch 20/100\n"
     ]
    },
    {
     "name": "stdout",
     "output_type": "stream",
     "text": [
      "28/28 [==============================] - ETA: 0s - loss: nan - mean_absolute_error: na - ETA: 0s - loss: nan - mean_absolute_error: na - ETA: 0s - loss: nan - mean_absolute_error: na - ETA: 0s - loss: nan - mean_absolute_error: na - ETA: 0s - loss: nan - mean_absolute_error: na - 0s 17ms/step - loss: nan - mean_absolute_error: nan - val_loss: 35.3463 - val_mean_absolute_error: 35.3463\n",
      "Epoch 21/100\n",
      "28/28 [==============================] - ETA: 0s - loss: 43.0389 - mean_absolute_error: 43.038 - ETA: 0s - loss: 36.0425 - mean_absolute_error: 36.042 - ETA: 0s - loss: nan - mean_absolute_error: nan        - ETA: 0s - loss: nan - mean_absolute_error: na - ETA: 0s - loss: nan - mean_absolute_error: na - 1s 18ms/step - loss: nan - mean_absolute_error: nan - val_loss: 34.9013 - val_mean_absolute_error: 34.9013\n",
      "Epoch 22/100\n",
      "28/28 [==============================] - ETA: 0s - loss: 32.2469 - mean_absolute_error: 32.246 - ETA: 0s - loss: 36.3484 - mean_absolute_error: 36.348 - ETA: 0s - loss: nan - mean_absolute_error: nan        - ETA: 0s - loss: nan - mean_absolute_error: na - ETA: 0s - loss: nan - mean_absolute_error: na - 1s 18ms/step - loss: nan - mean_absolute_error: nan - val_loss: 34.5575 - val_mean_absolute_error: 34.5575\n",
      "Epoch 23/100\n",
      "28/28 [==============================] - ETA: 0s - loss: 27.3911 - mean_absolute_error: 27.391 - ETA: 0s - loss: nan - mean_absolute_error: nan        - ETA: 0s - loss: nan - mean_absolute_error: na - ETA: 0s - loss: nan - mean_absolute_error: na - 0s 9ms/step - loss: nan - mean_absolute_error: nan - val_loss: 34.7614 - val_mean_absolute_error: 34.7614\n",
      "Epoch 24/100\n",
      "28/28 [==============================] - ETA: 0s - loss: 40.5511 - mean_absolute_error: 40.551 - ETA: 0s - loss: 35.7743 - mean_absolute_error: 35.774 - ETA: 0s - loss: nan - mean_absolute_error: nan        - ETA: 0s - loss: nan - mean_absolute_error: na - ETA: 0s - loss: nan - mean_absolute_error: na - 1s 18ms/step - loss: nan - mean_absolute_error: nan - val_loss: 34.3456 - val_mean_absolute_error: 34.3456\n",
      "Epoch 25/100\n",
      "28/28 [==============================] - ETA: 0s - loss: 32.1928 - mean_absolute_error: 32.192 - ETA: 0s - loss: 37.1509 - mean_absolute_error: 37.150 - ETA: 0s - loss: nan - mean_absolute_error: nan        - ETA: 0s - loss: nan - mean_absolute_error: na - ETA: 0s - loss: nan - mean_absolute_error: na - 1s 18ms/step - loss: nan - mean_absolute_error: nan - val_loss: 33.9919 - val_mean_absolute_error: 33.9919\n",
      "Epoch 26/100\n",
      "28/28 [==============================] - ETA: 0s - loss: 41.5266 - mean_absolute_error: 41.526 - ETA: 0s - loss: 33.7701 - mean_absolute_error: 33.770 - ETA: 0s - loss: 33.0462 - mean_absolute_error: 33.046 - ETA: 0s - loss: nan - mean_absolute_error: nan        - ETA: 0s - loss: nan - mean_absolute_error: na - 0s 18ms/step - loss: nan - mean_absolute_error: nan - val_loss: 33.8058 - val_mean_absolute_error: 33.8058\n",
      "Epoch 27/100\n",
      "28/28 [==============================] - ETA: 0s - loss: 38.2945 - mean_absolute_error: 38.294 - ETA: 0s - loss: 38.3472 - mean_absolute_error: 38.347 - ETA: 0s - loss: nan - mean_absolute_error: nan        - ETA: 0s - loss: nan - mean_absolute_error: na - ETA: 0s - loss: nan - mean_absolute_error: na - 1s 20ms/step - loss: nan - mean_absolute_error: nan - val_loss: 33.7584 - val_mean_absolute_error: 33.7584\n",
      "Epoch 28/100\n",
      "28/28 [==============================] - ETA: 0s - loss: 30.7515 - mean_absolute_error: 30.751 - ETA: 0s - loss: nan - mean_absolute_error: nan        - ETA: 0s - loss: nan - mean_absolute_error: na - ETA: 0s - loss: nan - mean_absolute_error: na - ETA: 0s - loss: nan - mean_absolute_error: na - 0s 10ms/step - loss: nan - mean_absolute_error: nan - val_loss: 33.7953 - val_mean_absolute_error: 33.7953\n",
      "Epoch 29/100\n",
      "28/28 [==============================] - ETA: 0s - loss: 38.7102 - mean_absolute_error: 38.710 - ETA: 0s - loss: 36.4510 - mean_absolute_error: 36.451 - ETA: 0s - loss: 35.2359 - mean_absolute_error: 35.235 - ETA: 0s - loss: nan - mean_absolute_error: nan        - ETA: 0s - loss: nan - mean_absolute_error: na - 0s 17ms/step - loss: nan - mean_absolute_error: nan - val_loss: 33.4677 - val_mean_absolute_error: 33.4677\n",
      "Epoch 30/100\n",
      "28/28 [==============================] - ETA: 0s - loss: 35.2234 - mean_absolute_error: 35.223 - ETA: 0s - loss: nan - mean_absolute_error: nan        - ETA: 0s - loss: nan - mean_absolute_error: na - ETA: 0s - loss: nan - mean_absolute_error: na - 1s 18ms/step - loss: nan - mean_absolute_error: nan - val_loss: 33.4226 - val_mean_absolute_error: 33.4226\n",
      "Epoch 31/100\n",
      "28/28 [==============================] - ETA: 0s - loss: 26.7988 - mean_absolute_error: 26.798 - ETA: 0s - loss: 37.7974 - mean_absolute_error: 37.797 - ETA: 0s - loss: 35.0949 - mean_absolute_error: 35.094 - ETA: 0s - loss: nan - mean_absolute_error: nan        - 0s 10ms/step - loss: nan - mean_absolute_error: nan - val_loss: 33.8005 - val_mean_absolute_error: 33.8005\n",
      "Epoch 32/100\n",
      "28/28 [==============================] - ETA: 0s - loss: 24.9304 - mean_absolute_error: 24.930 - ETA: 0s - loss: 33.8657 - mean_absolute_error: 33.865 - ETA: 0s - loss: nan - mean_absolute_error: nan        - ETA: 0s - loss: nan - mean_absolute_error: na - ETA: 0s - loss: nan - mean_absolute_error: na - 0s 11ms/step - loss: nan - mean_absolute_error: nan - val_loss: 33.5008 - val_mean_absolute_error: 33.5008\n",
      "Epoch 33/100\n",
      "28/28 [==============================] - ETA: 0s - loss: 35.1457 - mean_absolute_error: 35.145 - ETA: 0s - loss: 35.3325 - mean_absolute_error: 35.332 - ETA: 0s - loss: 34.8266 - mean_absolute_error: 34.826 - ETA: 0s - loss: 33.0407 - mean_absolute_error: 33.040 - ETA: 0s - loss: nan - mean_absolute_error: nan        - 1s 19ms/step - loss: nan - mean_absolute_error: nan - val_loss: 33.2321 - val_mean_absolute_error: 33.2321\n",
      "Epoch 34/100\n",
      "28/28 [==============================] - ETA: 0s - loss: nan - mean_absolute_error: na - ETA: 0s - loss: nan - mean_absolute_error: na - ETA: 0s - loss: nan - mean_absolute_error: na - ETA: 0s - loss: nan - mean_absolute_error: na - ETA: 0s - loss: nan - mean_absolute_error: na - 1s 18ms/step - loss: nan - mean_absolute_error: nan - val_loss: 32.5710 - val_mean_absolute_error: 32.5710\n",
      "Epoch 35/100\n",
      "28/28 [==============================] - ETA: 0s - loss: 33.0393 - mean_absolute_error: 33.039 - ETA: 0s - loss: nan - mean_absolute_error: nan        - ETA: 0s - loss: nan - mean_absolute_error: na - ETA: 0s - loss: nan - mean_absolute_error: na - ETA: 0s - loss: nan - mean_absolute_error: na - 0s 10ms/step - loss: nan - mean_absolute_error: nan - val_loss: 32.9833 - val_mean_absolute_error: 32.9833\n",
      "Epoch 36/100\n",
      "28/28 [==============================] - ETA: 0s - loss: 38.2298 - mean_absolute_error: 38.229 - ETA: 0s - loss: 34.5370 - mean_absolute_error: 34.537 - ETA: 0s - loss: 35.4258 - mean_absolute_error: 35.425 - ETA: 0s - loss: 32.5743 - mean_absolute_error: 32.574 - 0s 10ms/step - loss: nan - mean_absolute_error: nan - val_loss: 32.7031 - val_mean_absolute_error: 32.7031\n",
      "Epoch 37/100\n",
      "28/28 [==============================] - ETA: 0s - loss: 28.2205 - mean_absolute_error: 28.220 - ETA: 0s - loss: 30.0016 - mean_absolute_error: 30.001 - ETA: 0s - loss: nan - mean_absolute_error: nan        - ETA: 0s - loss: nan - mean_absolute_error: na - ETA: 0s - loss: nan - mean_absolute_error: na - 0s 17ms/step - loss: nan - mean_absolute_error: nan - val_loss: 32.4146 - val_mean_absolute_error: 32.4146\n",
      "Epoch 38/100\n",
      "28/28 [==============================] - ETA: 0s - loss: 17.2398 - mean_absolute_error: 17.239 - ETA: 0s - loss: 32.2338 - mean_absolute_error: 32.233 - ETA: 0s - loss: 30.6983 - mean_absolute_error: 30.698 - ETA: 0s - loss: nan - mean_absolute_error: nan        - ETA: 0s - loss: nan - mean_absolute_error: na - 0s 10ms/step - loss: nan - mean_absolute_error: nan - val_loss: 32.5449 - val_mean_absolute_error: 32.5449\n",
      "Epoch 39/100\n",
      "28/28 [==============================] - ETA: 0s - loss: 37.3685 - mean_absolute_error: 37.368 - ETA: 0s - loss: 29.5443 - mean_absolute_error: 29.544 - ETA: 0s - loss: 29.8091 - mean_absolute_error: 29.809 - ETA: 0s - loss: nan - mean_absolute_error: nan        - ETA: 0s - loss: nan - mean_absolute_error: na - 0s 18ms/step - loss: nan - mean_absolute_error: nan - val_loss: 32.3230 - val_mean_absolute_error: 32.3230\n"
     ]
    },
    {
     "name": "stdout",
     "output_type": "stream",
     "text": [
      "Epoch 40/100\n",
      "28/28 [==============================] - ETA: 0s - loss: 25.5268 - mean_absolute_error: 25.526 - ETA: 0s - loss: 31.1437 - mean_absolute_error: 31.143 - ETA: 0s - loss: 33.8628 - mean_absolute_error: 33.862 - ETA: 0s - loss: nan - mean_absolute_error: nan        - ETA: 0s - loss: nan - mean_absolute_error: na - 0s 10ms/step - loss: nan - mean_absolute_error: nan - val_loss: 32.3741 - val_mean_absolute_error: 32.3741\n",
      "Epoch 41/100\n",
      "28/28 [==============================] - ETA: 0s - loss: 25.1485 - mean_absolute_error: 25.148 - ETA: 0s - loss: 32.4621 - mean_absolute_error: 32.462 - ETA: 0s - loss: 33.4774 - mean_absolute_error: 33.477 - ETA: 0s - loss: nan - mean_absolute_error: nan        - 0s 16ms/step - loss: nan - mean_absolute_error: nan - val_loss: 31.7179 - val_mean_absolute_error: 31.7179\n",
      "Epoch 42/100\n",
      "28/28 [==============================] - ETA: 0s - loss: 25.7133 - mean_absolute_error: 25.713 - ETA: 0s - loss: nan - mean_absolute_error: nan        - ETA: 0s - loss: nan - mean_absolute_error: na - ETA: 0s - loss: nan - mean_absolute_error: na - 0s 9ms/step - loss: nan - mean_absolute_error: nan - val_loss: 32.1161 - val_mean_absolute_error: 32.1161\n",
      "Epoch 43/100\n",
      "28/28 [==============================] - ETA: 0s - loss: 37.5369 - mean_absolute_error: 37.536 - ETA: 0s - loss: 32.7593 - mean_absolute_error: 32.759 - ETA: 0s - loss: nan - mean_absolute_error: nan        - ETA: 0s - loss: nan - mean_absolute_error: na - 0s 9ms/step - loss: nan - mean_absolute_error: nan - val_loss: 32.5358 - val_mean_absolute_error: 32.5358\n",
      "Epoch 44/100\n",
      "28/28 [==============================] - ETA: 0s - loss: 32.5596 - mean_absolute_error: 32.559 - ETA: 0s - loss: nan - mean_absolute_error: nan        - ETA: 0s - loss: nan - mean_absolute_error: na - ETA: 0s - loss: nan - mean_absolute_error: na - 0s 9ms/step - loss: nan - mean_absolute_error: nan - val_loss: 32.3711 - val_mean_absolute_error: 32.3711\n",
      "Epoch 45/100\n",
      "28/28 [==============================] - ETA: 0s - loss: 30.2273 - mean_absolute_error: 30.227 - ETA: 0s - loss: 28.7326 - mean_absolute_error: 28.732 - ETA: 0s - loss: 29.5805 - mean_absolute_error: 29.580 - ETA: 0s - loss: 31.3492 - mean_absolute_error: 31.349 - 0s 16ms/step - loss: nan - mean_absolute_error: nan - val_loss: 31.5433 - val_mean_absolute_error: 31.5433\n",
      "Epoch 46/100\n",
      "28/28 [==============================] - ETA: 0s - loss: 21.2813 - mean_absolute_error: 21.281 - ETA: 0s - loss: 27.9941 - mean_absolute_error: 27.994 - ETA: 0s - loss: nan - mean_absolute_error: nan        - ETA: 0s - loss: nan - mean_absolute_error: na - 0s 10ms/step - loss: nan - mean_absolute_error: nan - val_loss: 31.6532 - val_mean_absolute_error: 31.6532\n",
      "Epoch 47/100\n",
      "28/28 [==============================] - ETA: 0s - loss: 25.8950 - mean_absolute_error: 25.895 - ETA: 0s - loss: 30.8268 - mean_absolute_error: 30.826 - ETA: 0s - loss: 29.2677 - mean_absolute_error: 29.267 - ETA: 0s - loss: nan - mean_absolute_error: nan        - ETA: 0s - loss: nan - mean_absolute_error: na - 0s 16ms/step - loss: nan - mean_absolute_error: nan - val_loss: 31.1256 - val_mean_absolute_error: 31.1256\n",
      "Epoch 48/100\n",
      "28/28 [==============================] - ETA: 0s - loss: 30.1563 - mean_absolute_error: 30.156 - ETA: 0s - loss: nan - mean_absolute_error: nan        - ETA: 0s - loss: nan - mean_absolute_error: na - ETA: 0s - loss: nan - mean_absolute_error: na - ETA: 0s - loss: nan - mean_absolute_error: na - 0s 11ms/step - loss: nan - mean_absolute_error: nan - val_loss: 32.3552 - val_mean_absolute_error: 32.3552\n",
      "Epoch 49/100\n",
      "28/28 [==============================] - ETA: 0s - loss: 32.5985 - mean_absolute_error: 32.598 - ETA: 0s - loss: 32.1927 - mean_absolute_error: 32.192 - ETA: 0s - loss: nan - mean_absolute_error: nan        - ETA: 0s - loss: nan - mean_absolute_error: na - 0s 9ms/step - loss: nan - mean_absolute_error: nan - val_loss: 31.1814 - val_mean_absolute_error: 31.1814\n",
      "Epoch 50/100\n",
      "28/28 [==============================] - ETA: 0s - loss: 27.7835 - mean_absolute_error: 27.783 - ETA: 0s - loss: nan - mean_absolute_error: nan        - ETA: 0s - loss: nan - mean_absolute_error: na - ETA: 0s - loss: nan - mean_absolute_error: na - 0s 16ms/step - loss: nan - mean_absolute_error: nan - val_loss: 31.0738 - val_mean_absolute_error: 31.0738\n",
      "Epoch 51/100\n",
      "28/28 [==============================] - ETA: 0s - loss: 25.2757 - mean_absolute_error: 25.275 - ETA: 0s - loss: 27.4144 - mean_absolute_error: 27.414 - ETA: 0s - loss: 29.6627 - mean_absolute_error: 29.662 - ETA: 0s - loss: 29.9330 - mean_absolute_error: 29.933 - 0s 11ms/step - loss: nan - mean_absolute_error: nan - val_loss: 31.3904 - val_mean_absolute_error: 31.3904\n",
      "Epoch 52/100\n",
      "28/28 [==============================] - ETA: 0s - loss: 25.9120 - mean_absolute_error: 25.912 - ETA: 0s - loss: 32.2967 - mean_absolute_error: 32.296 - ETA: 0s - loss: nan - mean_absolute_error: nan        - ETA: 0s - loss: nan - mean_absolute_error: na - ETA: 0s - loss: nan - mean_absolute_error: na - 0s 17ms/step - loss: nan - mean_absolute_error: nan - val_loss: 30.7199 - val_mean_absolute_error: 30.7199\n",
      "Epoch 53/100\n",
      "28/28 [==============================] - ETA: 0s - loss: 28.2988 - mean_absolute_error: 28.298 - ETA: 0s - loss: nan - mean_absolute_error: nan        - ETA: 0s - loss: nan - mean_absolute_error: na - ETA: 0s - loss: nan - mean_absolute_error: na - ETA: 0s - loss: nan - mean_absolute_error: na - 0s 11ms/step - loss: nan - mean_absolute_error: nan - val_loss: 30.8341 - val_mean_absolute_error: 30.8341\n",
      "Epoch 54/100\n",
      "28/28 [==============================] - ETA: 0s - loss: 26.3633 - mean_absolute_error: 26.363 - ETA: 0s - loss: 30.3980 - mean_absolute_error: 30.398 - ETA: 0s - loss: 28.7900 - mean_absolute_error: 28.790 - ETA: 0s - loss: nan - mean_absolute_error: nan        - ETA: 0s - loss: nan - mean_absolute_error: na - 0s 11ms/step - loss: nan - mean_absolute_error: nan - val_loss: 31.4049 - val_mean_absolute_error: 31.4049\n",
      "Epoch 55/100\n",
      "28/28 [==============================] - ETA: 0s - loss: 20.0317 - mean_absolute_error: 20.031 - ETA: 0s - loss: 28.3758 - mean_absolute_error: 28.375 - ETA: 0s - loss: 28.7238 - mean_absolute_error: 28.723 - ETA: 0s - loss: nan - mean_absolute_error: nan        - 0s 17ms/step - loss: nan - mean_absolute_error: nan - val_loss: 30.3807 - val_mean_absolute_error: 30.3807\n",
      "Epoch 56/100\n",
      "28/28 [==============================] - ETA: 0s - loss: 31.2081 - mean_absolute_error: 31.208 - ETA: 0s - loss: nan - mean_absolute_error: nan        - ETA: 0s - loss: nan - mean_absolute_error: na - ETA: 0s - loss: nan - mean_absolute_error: na - ETA: 0s - loss: nan - mean_absolute_error: na - 0s 10ms/step - loss: nan - mean_absolute_error: nan - val_loss: 30.6534 - val_mean_absolute_error: 30.6534\n",
      "Epoch 57/100\n",
      "28/28 [==============================] - ETA: 0s - loss: 31.3514 - mean_absolute_error: 31.351 - ETA: 0s - loss: nan - mean_absolute_error: nan        - ETA: 0s - loss: nan - mean_absolute_error: na - ETA: 0s - loss: nan - mean_absolute_error: na - 0s 9ms/step - loss: nan - mean_absolute_error: nan - val_loss: 31.0733 - val_mean_absolute_error: 31.0733\n",
      "Epoch 58/100\n",
      "28/28 [==============================] - ETA: 0s - loss: 25.0747 - mean_absolute_error: 25.074 - ETA: 0s - loss: nan - mean_absolute_error: nan        - ETA: 0s - loss: nan - mean_absolute_error: na - ETA: 0s - loss: nan - mean_absolute_error: na - 0s 10ms/step - loss: nan - mean_absolute_error: nan - val_loss: 30.5714 - val_mean_absolute_error: 30.5714\n",
      "Epoch 59/100\n",
      "28/28 [==============================] - ETA: 0s - loss: 35.7924 - mean_absolute_error: 35.792 - ETA: 0s - loss: 31.2261 - mean_absolute_error: 31.226 - ETA: 0s - loss: 30.4487 - mean_absolute_error: 30.448 - ETA: 0s - loss: nan - mean_absolute_error: nan        - 0s 9ms/step - loss: nan - mean_absolute_error: nan - val_loss: 30.9321 - val_mean_absolute_error: 30.9321\n",
      "Epoch 60/100\n",
      "28/28 [==============================] - ETA: 0s - loss: 33.8273 - mean_absolute_error: 33.827 - ETA: 0s - loss: 28.6253 - mean_absolute_error: 28.625 - ETA: 0s - loss: 27.6692 - mean_absolute_error: 27.669 - ETA: 0s - loss: nan - mean_absolute_error: nan        - 1s 19ms/step - loss: nan - mean_absolute_error: nan - val_loss: 29.8675 - val_mean_absolute_error: 29.8675\n"
     ]
    },
    {
     "name": "stdout",
     "output_type": "stream",
     "text": [
      "Epoch 61/100\n",
      "28/28 [==============================] - ETA: 0s - loss: 35.6799 - mean_absolute_error: 35.679 - ETA: 0s - loss: 33.1673 - mean_absolute_error: 33.167 - ETA: 0s - loss: nan - mean_absolute_error: nan        - ETA: 0s - loss: nan - mean_absolute_error: na - ETA: 0s - loss: nan - mean_absolute_error: na - 0s 10ms/step - loss: nan - mean_absolute_error: nan - val_loss: 29.8750 - val_mean_absolute_error: 29.8750\n",
      "Epoch 62/100\n",
      "28/28 [==============================] - ETA: 0s - loss: 25.7896 - mean_absolute_error: 25.789 - ETA: 0s - loss: 26.8575 - mean_absolute_error: 26.857 - ETA: 0s - loss: 27.9927 - mean_absolute_error: 27.992 - ETA: 0s - loss: 29.0003 - mean_absolute_error: 29.000 - ETA: 0s - loss: nan - mean_absolute_error: nan        - 1s 19ms/step - loss: nan - mean_absolute_error: nan - val_loss: 29.8308 - val_mean_absolute_error: 29.8308\n",
      "Epoch 63/100\n",
      "28/28 [==============================] - ETA: 0s - loss: 36.7245 - mean_absolute_error: 36.724 - ETA: 0s - loss: 33.5126 - mean_absolute_error: 33.512 - ETA: 0s - loss: 29.9024 - mean_absolute_error: 29.902 - ETA: 0s - loss: 29.2420 - mean_absolute_error: 29.242 - ETA: 0s - loss: nan - mean_absolute_error: nan        - 0s 10ms/step - loss: nan - mean_absolute_error: nan - val_loss: 29.9497 - val_mean_absolute_error: 29.9497\n",
      "Epoch 64/100\n",
      "28/28 [==============================] - ETA: 0s - loss: 37.9503 - mean_absolute_error: 37.950 - ETA: 0s - loss: 29.0006 - mean_absolute_error: 29.000 - ETA: 0s - loss: 28.8609 - mean_absolute_error: 28.860 - ETA: 0s - loss: nan - mean_absolute_error: nan        - 0s 9ms/step - loss: nan - mean_absolute_error: nan - val_loss: 30.6117 - val_mean_absolute_error: 30.6117\n",
      "Epoch 65/100\n",
      "28/28 [==============================] - ETA: 0s - loss: 27.4730 - mean_absolute_error: 27.473 - ETA: 0s - loss: 29.6954 - mean_absolute_error: 29.695 - ETA: 0s - loss: 28.4365 - mean_absolute_error: 28.436 - ETA: 0s - loss: 28.6383 - mean_absolute_error: 28.638 - 0s 9ms/step - loss: nan - mean_absolute_error: nan - val_loss: 30.5630 - val_mean_absolute_error: 30.5630\n",
      "Epoch 66/100\n",
      "28/28 [==============================] - ETA: 0s - loss: 29.8968 - mean_absolute_error: 29.896 - ETA: 0s - loss: nan - mean_absolute_error: nan        - ETA: 0s - loss: nan - mean_absolute_error: na - ETA: 0s - loss: nan - mean_absolute_error: na - 1s 19ms/step - loss: nan - mean_absolute_error: nan - val_loss: 29.4769 - val_mean_absolute_error: 29.4769\n",
      "Epoch 67/100\n",
      "28/28 [==============================] - ETA: 0s - loss: 25.4039 - mean_absolute_error: 25.403 - ETA: 0s - loss: 29.4690 - mean_absolute_error: 29.469 - ETA: 0s - loss: 28.3318 - mean_absolute_error: 28.331 - ETA: 0s - loss: nan - mean_absolute_error: nan        - 0s 9ms/step - loss: nan - mean_absolute_error: nan - val_loss: 29.7973 - val_mean_absolute_error: 29.7973\n",
      "Epoch 68/100\n",
      "28/28 [==============================] - ETA: 0s - loss: 41.4803 - mean_absolute_error: 41.480 - ETA: 0s - loss: 32.5352 - mean_absolute_error: 32.535 - ETA: 0s - loss: 29.5460 - mean_absolute_error: 29.546 - ETA: 0s - loss: nan - mean_absolute_error: nan        - ETA: 0s - loss: nan - mean_absolute_error: na - 0s 10ms/step - loss: nan - mean_absolute_error: nan - val_loss: 29.7900 - val_mean_absolute_error: 29.7900\n",
      "Epoch 69/100\n",
      "28/28 [==============================] - ETA: 0s - loss: 18.1245 - mean_absolute_error: 18.124 - ETA: 0s - loss: nan - mean_absolute_error: nan        - ETA: 0s - loss: nan - mean_absolute_error: na - ETA: 0s - loss: nan - mean_absolute_error: na - 0s 17ms/step - loss: nan - mean_absolute_error: nan - val_loss: 29.4376 - val_mean_absolute_error: 29.4376\n",
      "Epoch 70/100\n",
      "28/28 [==============================] - ETA: 0s - loss: 27.0375 - mean_absolute_error: 27.037 - ETA: 0s - loss: 26.6402 - mean_absolute_error: 26.640 - ETA: 0s - loss: 28.9853 - mean_absolute_error: 28.985 - ETA: 0s - loss: nan - mean_absolute_error: nan        - ETA: 0s - loss: nan - mean_absolute_error: na - 0s 10ms/step - loss: nan - mean_absolute_error: nan - val_loss: 29.8675 - val_mean_absolute_error: 29.8675\n",
      "Epoch 71/100\n",
      "28/28 [==============================] - ETA: 0s - loss: 24.0434 - mean_absolute_error: 24.043 - ETA: 0s - loss: 26.6051 - mean_absolute_error: 26.605 - ETA: 0s - loss: 29.0588 - mean_absolute_error: 29.058 - ETA: 0s - loss: nan - mean_absolute_error: nan        - ETA: 0s - loss: nan - mean_absolute_error: na - 1s 19ms/step - loss: nan - mean_absolute_error: nan - val_loss: 29.2662 - val_mean_absolute_error: 29.2662\n",
      "Epoch 72/100\n",
      "28/28 [==============================] - ETA: 0s - loss: 25.2276 - mean_absolute_error: 25.227 - ETA: 0s - loss: 29.5713 - mean_absolute_error: 29.571 - ETA: 0s - loss: 27.9115 - mean_absolute_error: 27.911 - ETA: 0s - loss: 27.0415 - mean_absolute_error: 27.041 - ETA: 0s - loss: nan - mean_absolute_error: nan        - 0s 10ms/step - loss: nan - mean_absolute_error: nan - val_loss: 29.7265 - val_mean_absolute_error: 29.7265\n",
      "Epoch 73/100\n",
      "28/28 [==============================] - ETA: 0s - loss: 33.8812 - mean_absolute_error: 33.881 - ETA: 0s - loss: nan - mean_absolute_error: nan        - ETA: 0s - loss: nan - mean_absolute_error: na - ETA: 0s - loss: nan - mean_absolute_error: na - ETA: 0s - loss: nan - mean_absolute_error: na - 1s 21ms/step - loss: nan - mean_absolute_error: nan - val_loss: 29.1415 - val_mean_absolute_error: 29.1415\n",
      "Epoch 74/100\n",
      "28/28 [==============================] - ETA: 0s - loss: 29.2965 - mean_absolute_error: 29.296 - ETA: 0s - loss: 27.6007 - mean_absolute_error: 27.600 - ETA: 0s - loss: nan - mean_absolute_error: nan        - ETA: 0s - loss: nan - mean_absolute_error: na - 0s 9ms/step - loss: nan - mean_absolute_error: nan - val_loss: 30.0048 - val_mean_absolute_error: 30.0048\n",
      "Epoch 75/100\n",
      "28/28 [==============================] - ETA: 0s - loss: nan - mean_absolute_error: na - ETA: 0s - loss: nan - mean_absolute_error: na - ETA: 0s - loss: nan - mean_absolute_error: na - ETA: 0s - loss: nan - mean_absolute_error: na - 0s 17ms/step - loss: nan - mean_absolute_error: nan - val_loss: 29.0827 - val_mean_absolute_error: 29.0827\n",
      "Epoch 76/100\n",
      "28/28 [==============================] - ETA: 0s - loss: 30.5789 - mean_absolute_error: 30.578 - ETA: 0s - loss: 24.5610 - mean_absolute_error: 24.561 - ETA: 0s - loss: 23.5267 - mean_absolute_error: 23.526 - ETA: 0s - loss: 25.0327 - mean_absolute_error: 25.032 - ETA: 0s - loss: nan - mean_absolute_error: nan        - 0s 10ms/step - loss: nan - mean_absolute_error: nan - val_loss: 29.2669 - val_mean_absolute_error: 29.2669\n",
      "Epoch 77/100\n",
      "28/28 [==============================] - ETA: 0s - loss: 18.7524 - mean_absolute_error: 18.752 - ETA: 0s - loss: 26.1906 - mean_absolute_error: 26.190 - ETA: 0s - loss: 26.5743 - mean_absolute_error: 26.574 - ETA: 0s - loss: nan - mean_absolute_error: nan        - 0s 9ms/step - loss: nan - mean_absolute_error: nan - val_loss: 29.2081 - val_mean_absolute_error: 29.2081\n",
      "Epoch 78/100\n",
      "28/28 [==============================] - ETA: 0s - loss: 29.0780 - mean_absolute_error: 29.078 - ETA: 0s - loss: 27.1786 - mean_absolute_error: 27.178 - ETA: 0s - loss: nan - mean_absolute_error: nan        - ETA: 0s - loss: nan - mean_absolute_error: na - 0s 9ms/step - loss: nan - mean_absolute_error: nan - val_loss: 29.2280 - val_mean_absolute_error: 29.2280\n",
      "Epoch 79/100\n",
      "28/28 [==============================] - ETA: 0s - loss: 29.8174 - mean_absolute_error: 29.817 - ETA: 0s - loss: nan - mean_absolute_error: nan        - ETA: 0s - loss: nan - mean_absolute_error: na - ETA: 0s - loss: nan - mean_absolute_error: na - 0s 9ms/step - loss: nan - mean_absolute_error: nan - val_loss: 29.8909 - val_mean_absolute_error: 29.8909\n",
      "Epoch 80/100\n",
      "28/28 [==============================] - ETA: 0s - loss: 32.1130 - mean_absolute_error: 32.113 - ETA: 0s - loss: 27.4238 - mean_absolute_error: 27.423 - ETA: 0s - loss: nan - mean_absolute_error: nan        - ETA: 0s - loss: nan - mean_absolute_error: na - ETA: 0s - loss: nan - mean_absolute_error: na - 0s 11ms/step - loss: nan - mean_absolute_error: nan - val_loss: 29.2355 - val_mean_absolute_error: 29.2355\n",
      "Epoch 81/100\n"
     ]
    },
    {
     "name": "stdout",
     "output_type": "stream",
     "text": [
      "28/28 [==============================] - ETA: 0s - loss: 19.8823 - mean_absolute_error: 19.882 - ETA: 0s - loss: 22.4072 - mean_absolute_error: 22.407 - ETA: 0s - loss: nan - mean_absolute_error: nan        - ETA: 0s - loss: nan - mean_absolute_error: na - ETA: 0s - loss: nan - mean_absolute_error: na - 1s 19ms/step - loss: nan - mean_absolute_error: nan - val_loss: 28.8113 - val_mean_absolute_error: 28.8113\n",
      "Epoch 82/100\n",
      "28/28 [==============================] - ETA: 0s - loss: 33.3476 - mean_absolute_error: 33.347 - ETA: 0s - loss: 26.0360 - mean_absolute_error: 26.036 - ETA: 0s - loss: 26.6933 - mean_absolute_error: 26.693 - ETA: 0s - loss: 26.5797 - mean_absolute_error: 26.579 - ETA: 0s - loss: nan - mean_absolute_error: nan        - 0s 11ms/step - loss: nan - mean_absolute_error: nan - val_loss: 29.1298 - val_mean_absolute_error: 29.1298\n",
      "Epoch 83/100\n",
      "28/28 [==============================] - ETA: 0s - loss: 16.0893 - mean_absolute_error: 16.089 - ETA: 0s - loss: 23.1094 - mean_absolute_error: 23.109 - ETA: 0s - loss: 22.9277 - mean_absolute_error: 22.927 - ETA: 0s - loss: nan - mean_absolute_error: nan        - 0s 9ms/step - loss: nan - mean_absolute_error: nan - val_loss: 29.3823 - val_mean_absolute_error: 29.3823\n",
      "Epoch 84/100\n",
      "28/28 [==============================] - ETA: 0s - loss: 19.7377 - mean_absolute_error: 19.737 - ETA: 0s - loss: nan - mean_absolute_error: nan        - ETA: 0s - loss: nan - mean_absolute_error: na - ETA: 0s - loss: nan - mean_absolute_error: na - ETA: 0s - loss: nan - mean_absolute_error: na - 0s 10ms/step - loss: nan - mean_absolute_error: nan - val_loss: 29.1370 - val_mean_absolute_error: 29.1370\n",
      "Epoch 85/100\n",
      "28/28 [==============================] - ETA: 0s - loss: nan - mean_absolute_error: na - ETA: 0s - loss: nan - mean_absolute_error: na - ETA: 0s - loss: nan - mean_absolute_error: na - ETA: 0s - loss: nan - mean_absolute_error: na - ETA: 0s - loss: nan - mean_absolute_error: na - 1s 19ms/step - loss: nan - mean_absolute_error: nan - val_loss: 28.7866 - val_mean_absolute_error: 28.7866\n",
      "Epoch 86/100\n",
      "28/28 [==============================] - ETA: 0s - loss: 16.7797 - mean_absolute_error: 16.779 - ETA: 0s - loss: 24.0425 - mean_absolute_error: 24.042 - ETA: 0s - loss: nan - mean_absolute_error: nan        - ETA: 0s - loss: nan - mean_absolute_error: na - ETA: 0s - loss: nan - mean_absolute_error: na - 0s 11ms/step - loss: nan - mean_absolute_error: nan - val_loss: 29.3866 - val_mean_absolute_error: 29.3866\n",
      "Epoch 87/100\n",
      "28/28 [==============================] - ETA: 0s - loss: 32.3769 - mean_absolute_error: 32.376 - ETA: 0s - loss: 23.1124 - mean_absolute_error: 23.112 - ETA: 0s - loss: 23.4015 - mean_absolute_error: 23.401 - ETA: 0s - loss: nan - mean_absolute_error: nan        - ETA: 0s - loss: nan - mean_absolute_error: na - 1s 21ms/step - loss: nan - mean_absolute_error: nan - val_loss: 28.7474 - val_mean_absolute_error: 28.7474\n",
      "Epoch 88/100\n",
      "28/28 [==============================] - ETA: 0s - loss: 20.0178 - mean_absolute_error: 20.017 - ETA: 0s - loss: 23.1881 - mean_absolute_error: 23.188 - ETA: 0s - loss: 23.4679 - mean_absolute_error: 23.467 - ETA: 0s - loss: nan - mean_absolute_error: nan        - ETA: 0s - loss: nan - mean_absolute_error: na - 0s 10ms/step - loss: nan - mean_absolute_error: nan - val_loss: 29.4173 - val_mean_absolute_error: 29.4173\n",
      "Epoch 89/100\n",
      "28/28 [==============================] - ETA: 0s - loss: 25.7542 - mean_absolute_error: 25.754 - ETA: 0s - loss: nan - mean_absolute_error: nan        - ETA: 0s - loss: nan - mean_absolute_error: na - ETA: 0s - loss: nan - mean_absolute_error: na - ETA: 0s - loss: nan - mean_absolute_error: na - 0s 18ms/step - loss: nan - mean_absolute_error: nan - val_loss: 28.4707 - val_mean_absolute_error: 28.4707\n",
      "Epoch 90/100\n",
      "28/28 [==============================] - ETA: 0s - loss: 32.2880 - mean_absolute_error: 32.288 - ETA: 0s - loss: 25.5521 - mean_absolute_error: 25.552 - ETA: 0s - loss: 26.3968 - mean_absolute_error: 26.396 - ETA: 0s - loss: 23.8424 - mean_absolute_error: 23.842 - ETA: 0s - loss: nan - mean_absolute_error: nan        - 0s 10ms/step - loss: nan - mean_absolute_error: nan - val_loss: 29.0554 - val_mean_absolute_error: 29.0554\n",
      "Epoch 91/100\n",
      "28/28 [==============================] - ETA: 0s - loss: 26.1683 - mean_absolute_error: 26.168 - ETA: 0s - loss: 25.5924 - mean_absolute_error: 25.592 - ETA: 0s - loss: 25.5107 - mean_absolute_error: 25.510 - ETA: 0s - loss: 24.2030 - mean_absolute_error: 24.203 - ETA: 0s - loss: nan - mean_absolute_error: nan        - 0s 10ms/step - loss: nan - mean_absolute_error: nan - val_loss: 28.6381 - val_mean_absolute_error: 28.6381\n",
      "Epoch 92/100\n",
      "28/28 [==============================] - ETA: 0s - loss: 26.5163 - mean_absolute_error: 26.516 - ETA: 0s - loss: 22.4251 - mean_absolute_error: 22.425 - ETA: 0s - loss: nan - mean_absolute_error: nan        - ETA: 0s - loss: nan - mean_absolute_error: na - 0s 17ms/step - loss: nan - mean_absolute_error: nan - val_loss: 28.4114 - val_mean_absolute_error: 28.4114\n",
      "Epoch 93/100\n",
      "28/28 [==============================] - ETA: 0s - loss: 23.4023 - mean_absolute_error: 23.402 - ETA: 0s - loss: nan - mean_absolute_error: nan        - ETA: 0s - loss: nan - mean_absolute_error: na - ETA: 0s - loss: nan - mean_absolute_error: na - 0s 10ms/step - loss: nan - mean_absolute_error: nan - val_loss: 28.6378 - val_mean_absolute_error: 28.6378\n",
      "Epoch 94/100\n",
      "28/28 [==============================] - ETA: 0s - loss: 28.9355 - mean_absolute_error: 28.935 - ETA: 0s - loss: 24.1599 - mean_absolute_error: 24.159 - ETA: 0s - loss: nan - mean_absolute_error: nan        - ETA: 0s - loss: nan - mean_absolute_error: na - ETA: 0s - loss: nan - mean_absolute_error: na - 1s 19ms/step - loss: nan - mean_absolute_error: nan - val_loss: 28.3182 - val_mean_absolute_error: 28.3182\n",
      "Epoch 95/100\n",
      "28/28 [==============================] - ETA: 0s - loss: nan - mean_absolute_error: na - ETA: 0s - loss: nan - mean_absolute_error: na - ETA: 0s - loss: nan - mean_absolute_error: na - ETA: 0s - loss: nan - mean_absolute_error: na - 0s 17ms/step - loss: nan - mean_absolute_error: nan - val_loss: 28.0746 - val_mean_absolute_error: 28.0746\n",
      "Epoch 96/100\n",
      "28/28 [==============================] - ETA: 0s - loss: 26.6632 - mean_absolute_error: 26.663 - ETA: 0s - loss: 23.1878 - mean_absolute_error: 23.187 - ETA: 0s - loss: nan - mean_absolute_error: nan        - ETA: 0s - loss: nan - mean_absolute_error: na - 1s 21ms/step - loss: nan - mean_absolute_error: nan - val_loss: 27.6745 - val_mean_absolute_error: 27.6745\n",
      "Epoch 97/100\n",
      "28/28 [==============================] - ETA: 0s - loss: 29.7267 - mean_absolute_error: 29.726 - ETA: 0s - loss: 20.8876 - mean_absolute_error: 20.887 - ETA: 0s - loss: 21.7580 - mean_absolute_error: 21.758 - ETA: 0s - loss: nan - mean_absolute_error: nan        - ETA: 0s - loss: nan - mean_absolute_error: na - 0s 10ms/step - loss: nan - mean_absolute_error: nan - val_loss: 28.7993 - val_mean_absolute_error: 28.7993\n",
      "Epoch 98/100\n",
      "28/28 [==============================] - ETA: 0s - loss: 20.1485 - mean_absolute_error: 20.148 - ETA: 0s - loss: 18.8550 - mean_absolute_error: 18.855 - ETA: 0s - loss: nan - mean_absolute_error: nan        - ETA: 0s - loss: nan - mean_absolute_error: na - ETA: 0s - loss: nan - mean_absolute_error: na - 0s 10ms/step - loss: nan - mean_absolute_error: nan - val_loss: 28.0569 - val_mean_absolute_error: 28.0569\n",
      "Epoch 99/100\n",
      "28/28 [==============================] - ETA: 0s - loss: 21.7701 - mean_absolute_error: 21.770 - ETA: 0s - loss: 19.9265 - mean_absolute_error: 19.926 - ETA: 0s - loss: 22.3996 - mean_absolute_error: 22.399 - ETA: 0s - loss: nan - mean_absolute_error: nan        - 0s 16ms/step - loss: nan - mean_absolute_error: nan - val_loss: 27.5846 - val_mean_absolute_error: 27.5846\n",
      "Epoch 100/100\n",
      "28/28 [==============================] - ETA: 0s - loss: 18.9152 - mean_absolute_error: 18.915 - ETA: 0s - loss: nan - mean_absolute_error: nan        - ETA: 0s - loss: nan - mean_absolute_error: na - ETA: 0s - loss: nan - mean_absolute_error: na - ETA: 0s - loss: nan - mean_absolute_error: na - 1s 19ms/step - loss: nan - mean_absolute_error: nan - val_loss: 27.5113 - val_mean_absolute_error: 27.5113\n"
     ]
    },
    {
     "name": "stdout",
     "output_type": "stream",
     "text": [
      "Epoch 1/100\n",
      "28/28 [==============================] - ETA: 0s - loss: 112.3451 - mean_absolute_error: 112.345 - ETA: 0s - loss: 104.7013 - mean_absolute_error: 104.701 - ETA: 0s - loss: nan - mean_absolute_error: nan          - ETA: 0s - loss: nan - mean_absolute_error: na - ETA: 0s - loss: nan - mean_absolute_error: na - 0s 17ms/step - loss: nan - mean_absolute_error: nan - val_loss: 103.9313 - val_mean_absolute_error: 103.9313\n",
      "Epoch 2/100\n",
      "28/28 [==============================] - ETA: 0s - loss: 78.9067 - mean_absolute_error: 78.906 - ETA: 0s - loss: 101.3630 - mean_absolute_error: 101.363 - ETA: 0s - loss: 105.6710 - mean_absolute_error: 105.671 - ETA: 0s - loss: 108.7314 - mean_absolute_error: 108.731 - ETA: 0s - loss: nan - mean_absolute_error: nan          - 0s 10ms/step - loss: nan - mean_absolute_error: nan - val_loss: 90.5664 - val_mean_absolute_error: 90.5664\n",
      "Epoch 3/100\n",
      "28/28 [==============================] - ETA: 0s - loss: 90.0220 - mean_absolute_error: 90.022 - ETA: 0s - loss: 93.5000 - mean_absolute_error: 93.500 - ETA: 0s - loss: 88.9730 - mean_absolute_error: 88.973 - ETA: 0s - loss: 80.0085 - mean_absolute_error: 80.008 - 0s 9ms/step - loss: nan - mean_absolute_error: nan - val_loss: 53.5526 - val_mean_absolute_error: 53.5526\n",
      "Epoch 4/100\n",
      "28/28 [==============================] - ETA: 0s - loss: 51.1088 - mean_absolute_error: 51.108 - ETA: 0s - loss: nan - mean_absolute_error: nan        - ETA: 0s - loss: nan - mean_absolute_error: na - ETA: 0s - loss: nan - mean_absolute_error: na - 0s 9ms/step - loss: nan - mean_absolute_error: nan - val_loss: 45.1348 - val_mean_absolute_error: 45.1348\n",
      "Epoch 5/100\n",
      "28/28 [==============================] - ETA: 0s - loss: 45.3900 - mean_absolute_error: 45.390 - ETA: 0s - loss: 46.1620 - mean_absolute_error: 46.162 - ETA: 0s - loss: 44.0102 - mean_absolute_error: 44.010 - ETA: 0s - loss: nan - mean_absolute_error: nan        - ETA: 0s - loss: nan - mean_absolute_error: na - 0s 10ms/step - loss: nan - mean_absolute_error: nan - val_loss: 43.2338 - val_mean_absolute_error: 43.2338\n",
      "Epoch 6/100\n",
      "28/28 [==============================] - ETA: 0s - loss: 45.9360 - mean_absolute_error: 45.936 - ETA: 0s - loss: 43.7294 - mean_absolute_error: 43.729 - ETA: 0s - loss: nan - mean_absolute_error: nan        - ETA: 0s - loss: nan - mean_absolute_error: na - ETA: 0s - loss: nan - mean_absolute_error: na - 0s 10ms/step - loss: nan - mean_absolute_error: nan - val_loss: 42.2769 - val_mean_absolute_error: 42.2769\n",
      "Epoch 7/100\n",
      "28/28 [==============================] - ETA: 0s - loss: 44.1026 - mean_absolute_error: 44.102 - ETA: 0s - loss: 43.1109 - mean_absolute_error: 43.110 - ETA: 0s - loss: 42.2783 - mean_absolute_error: 42.278 - ETA: 0s - loss: nan - mean_absolute_error: nan        - 0s 9ms/step - loss: nan - mean_absolute_error: nan - val_loss: 41.4338 - val_mean_absolute_error: 41.4338\n",
      "Epoch 8/100\n",
      "28/28 [==============================] - ETA: 0s - loss: 43.8306 - mean_absolute_error: 43.830 - ETA: 0s - loss: nan - mean_absolute_error: nan        - ETA: 0s - loss: nan - mean_absolute_error: na - ETA: 0s - loss: nan - mean_absolute_error: na - ETA: 0s - loss: nan - mean_absolute_error: na - 0s 10ms/step - loss: nan - mean_absolute_error: nan - val_loss: 40.9598 - val_mean_absolute_error: 40.9598\n",
      "Epoch 9/100\n",
      "28/28 [==============================] - ETA: 0s - loss: 41.1226 - mean_absolute_error: 41.122 - ETA: 0s - loss: 43.0736 - mean_absolute_error: 43.073 - ETA: 0s - loss: 40.4074 - mean_absolute_error: 40.407 - ETA: 0s - loss: 40.9238 - mean_absolute_error: 40.923 - ETA: 0s - loss: nan - mean_absolute_error: nan        - 0s 11ms/step - loss: nan - mean_absolute_error: nan - val_loss: 40.5563 - val_mean_absolute_error: 40.5563\n",
      "Epoch 10/100\n",
      "28/28 [==============================] - ETA: 0s - loss: 34.1038 - mean_absolute_error: 34.103 - ETA: 0s - loss: 39.4735 - mean_absolute_error: 39.473 - ETA: 0s - loss: 42.2940 - mean_absolute_error: 42.294 - ETA: 0s - loss: nan - mean_absolute_error: nan        - 0s 9ms/step - loss: nan - mean_absolute_error: nan - val_loss: 39.7140 - val_mean_absolute_error: 39.7140\n",
      "Epoch 11/100\n",
      "28/28 [==============================] - ETA: 0s - loss: 40.2256 - mean_absolute_error: 40.225 - ETA: 0s - loss: nan - mean_absolute_error: nan        - ETA: 0s - loss: nan - mean_absolute_error: na - ETA: 0s - loss: nan - mean_absolute_error: na - 0s 10ms/step - loss: nan - mean_absolute_error: nan - val_loss: 39.3679 - val_mean_absolute_error: 39.3679\n",
      "Epoch 12/100\n",
      "28/28 [==============================] - ETA: 0s - loss: 48.8314 - mean_absolute_error: 48.831 - ETA: 0s - loss: 39.6647 - mean_absolute_error: 39.664 - ETA: 0s - loss: 39.6577 - mean_absolute_error: 39.657 - ETA: 0s - loss: nan - mean_absolute_error: nan        - 0s 10ms/step - loss: nan - mean_absolute_error: nan - val_loss: 38.8441 - val_mean_absolute_error: 38.8441\n",
      "Epoch 13/100\n",
      "28/28 [==============================] - ETA: 0s - loss: 26.0978 - mean_absolute_error: 26.097 - ETA: 0s - loss: nan - mean_absolute_error: nan        - ETA: 0s - loss: nan - mean_absolute_error: na - ETA: 0s - loss: nan - mean_absolute_error: na - 0s 9ms/step - loss: nan - mean_absolute_error: nan - val_loss: 38.2785 - val_mean_absolute_error: 38.2785\n",
      "Epoch 14/100\n",
      "28/28 [==============================] - ETA: 0s - loss: 27.3054 - mean_absolute_error: 27.305 - ETA: 0s - loss: 38.6610 - mean_absolute_error: 38.661 - ETA: 0s - loss: 37.1885 - mean_absolute_error: 37.188 - ETA: 0s - loss: nan - mean_absolute_error: nan        - ETA: 0s - loss: nan - mean_absolute_error: na - 0s 10ms/step - loss: nan - mean_absolute_error: nan - val_loss: 38.8395 - val_mean_absolute_error: 38.8395\n",
      "Epoch 15/100\n",
      "28/28 [==============================] - ETA: 0s - loss: 27.8778 - mean_absolute_error: 27.877 - ETA: 0s - loss: 37.9089 - mean_absolute_error: 37.908 - ETA: 0s - loss: 36.8145 - mean_absolute_error: 36.814 - ETA: 0s - loss: nan - mean_absolute_error: nan        - 0s 10ms/step - loss: nan - mean_absolute_error: nan - val_loss: 38.1104 - val_mean_absolute_error: 38.1104\n",
      "Epoch 16/100\n",
      "28/28 [==============================] - ETA: 0s - loss: 45.2841 - mean_absolute_error: 45.284 - ETA: 0s - loss: 35.9013 - mean_absolute_error: 35.901 - ETA: 0s - loss: 35.8410 - mean_absolute_error: 35.841 - ETA: 0s - loss: nan - mean_absolute_error: nan        - 0s 9ms/step - loss: nan - mean_absolute_error: nan - val_loss: 37.1624 - val_mean_absolute_error: 37.1624\n",
      "Epoch 17/100\n",
      "28/28 [==============================] - ETA: 0s - loss: 46.5099 - mean_absolute_error: 46.509 - ETA: 0s - loss: nan - mean_absolute_error: nan        - ETA: 0s - loss: nan - mean_absolute_error: na - ETA: 0s - loss: nan - mean_absolute_error: na - ETA: 0s - loss: nan - mean_absolute_error: na - 0s 11ms/step - loss: nan - mean_absolute_error: nan - val_loss: 36.6405 - val_mean_absolute_error: 36.6405\n",
      "Epoch 18/100\n",
      "28/28 [==============================] - ETA: 0s - loss: 35.6131 - mean_absolute_error: 35.613 - ETA: 0s - loss: 34.0082 - mean_absolute_error: 34.008 - ETA: 0s - loss: 34.2104 - mean_absolute_error: 34.210 - ETA: 0s - loss: nan - mean_absolute_error: nan        - 0s 10ms/step - loss: nan - mean_absolute_error: nan - val_loss: 36.2832 - val_mean_absolute_error: 36.2832\n",
      "Epoch 19/100\n",
      "28/28 [==============================] - ETA: 0s - loss: 32.8582 - mean_absolute_error: 32.858 - ETA: 0s - loss: 34.0507 - mean_absolute_error: 34.050 - ETA: 0s - loss: nan - mean_absolute_error: nan        - ETA: 0s - loss: nan - mean_absolute_error: na - 0s 10ms/step - loss: nan - mean_absolute_error: nan - val_loss: 36.0932 - val_mean_absolute_error: 36.0932\n",
      "Epoch 20/100\n",
      "28/28 [==============================] - ETA: 0s - loss: 44.0653 - mean_absolute_error: 44.065 - ETA: 0s - loss: 37.1634 - mean_absolute_error: 37.163 - ETA: 0s - loss: nan - mean_absolute_error: nan        - ETA: 0s - loss: nan - mean_absolute_error: na - 0s 9ms/step - loss: nan - mean_absolute_error: nan - val_loss: 36.2938 - val_mean_absolute_error: 36.2938\n",
      "Epoch 21/100\n"
     ]
    },
    {
     "name": "stdout",
     "output_type": "stream",
     "text": [
      "28/28 [==============================] - ETA: 0s - loss: 33.2634 - mean_absolute_error: 33.263 - ETA: 0s - loss: nan - mean_absolute_error: nan        - ETA: 0s - loss: nan - mean_absolute_error: na - ETA: 0s - loss: nan - mean_absolute_error: na - 0s 9ms/step - loss: nan - mean_absolute_error: nan - val_loss: 35.4671 - val_mean_absolute_error: 35.4671\n",
      "Epoch 22/100\n",
      "28/28 [==============================] - ETA: 0s - loss: nan - mean_absolute_error: na - ETA: 0s - loss: nan - mean_absolute_error: na - ETA: 0s - loss: nan - mean_absolute_error: na - ETA: 0s - loss: nan - mean_absolute_error: na - ETA: 0s - loss: nan - mean_absolute_error: na - 0s 10ms/step - loss: nan - mean_absolute_error: nan - val_loss: 35.1184 - val_mean_absolute_error: 35.1184\n",
      "Epoch 23/100\n",
      "28/28 [==============================] - ETA: 0s - loss: 41.7224 - mean_absolute_error: 41.722 - ETA: 0s - loss: 36.9195 - mean_absolute_error: 36.919 - ETA: 0s - loss: 34.2841 - mean_absolute_error: 34.284 - ETA: 0s - loss: 34.9568 - mean_absolute_error: 34.956 - 0s 10ms/step - loss: nan - mean_absolute_error: nan - val_loss: 34.6739 - val_mean_absolute_error: 34.6739\n",
      "Epoch 24/100\n",
      "28/28 [==============================] - ETA: 0s - loss: 28.3173 - mean_absolute_error: 28.317 - ETA: 0s - loss: 35.1352 - mean_absolute_error: 35.135 - ETA: 0s - loss: 34.6022 - mean_absolute_error: 34.602 - ETA: 0s - loss: nan - mean_absolute_error: nan        - ETA: 0s - loss: nan - mean_absolute_error: na - 0s 10ms/step - loss: nan - mean_absolute_error: nan - val_loss: 34.4410 - val_mean_absolute_error: 34.4410\n",
      "Epoch 25/100\n",
      "28/28 [==============================] - ETA: 0s - loss: 36.5772 - mean_absolute_error: 36.577 - ETA: 0s - loss: 33.2559 - mean_absolute_error: 33.255 - ETA: 0s - loss: nan - mean_absolute_error: nan        - ETA: 0s - loss: nan - mean_absolute_error: na - ETA: 0s - loss: nan - mean_absolute_error: na - 0s 10ms/step - loss: nan - mean_absolute_error: nan - val_loss: 34.3223 - val_mean_absolute_error: 34.3223\n",
      "Epoch 26/100\n",
      "28/28 [==============================] - ETA: 0s - loss: 30.9566 - mean_absolute_error: 30.956 - ETA: 0s - loss: 31.2272 - mean_absolute_error: 31.227 - ETA: 0s - loss: 34.6189 - mean_absolute_error: 34.618 - ETA: 0s - loss: 33.8677 - mean_absolute_error: 33.867 - 0s 9ms/step - loss: nan - mean_absolute_error: nan - val_loss: 34.2631 - val_mean_absolute_error: 34.2631\n",
      "Epoch 27/100\n",
      "28/28 [==============================] - ETA: 0s - loss: 30.2637 - mean_absolute_error: 30.263 - ETA: 0s - loss: nan - mean_absolute_error: nan        - ETA: 0s - loss: nan - mean_absolute_error: na - ETA: 0s - loss: nan - mean_absolute_error: na - 0s 10ms/step - loss: nan - mean_absolute_error: nan - val_loss: 34.0004 - val_mean_absolute_error: 34.0004\n",
      "Epoch 28/100\n",
      "28/28 [==============================] - ETA: 0s - loss: 48.2849 - mean_absolute_error: 48.284 - ETA: 0s - loss: nan - mean_absolute_error: nan        - ETA: 0s - loss: nan - mean_absolute_error: na - ETA: 0s - loss: nan - mean_absolute_error: na - 0s 9ms/step - loss: nan - mean_absolute_error: nan - val_loss: 33.4494 - val_mean_absolute_error: 33.4494\n",
      "Epoch 29/100\n",
      "28/28 [==============================] - ETA: 0s - loss: 47.4958 - mean_absolute_error: 47.495 - ETA: 0s - loss: 37.1280 - mean_absolute_error: 37.128 - ETA: 0s - loss: 34.2367 - mean_absolute_error: 34.236 - ETA: 0s - loss: nan - mean_absolute_error: nan        - 0s 9ms/step - loss: nan - mean_absolute_error: nan - val_loss: 33.4444 - val_mean_absolute_error: 33.4444\n",
      "Epoch 30/100\n",
      "28/28 [==============================] - ETA: 0s - loss: 40.0635 - mean_absolute_error: 40.063 - ETA: 0s - loss: 36.2265 - mean_absolute_error: 36.226 - ETA: 0s - loss: 35.1533 - mean_absolute_error: 35.153 - ETA: 0s - loss: 34.4238 - mean_absolute_error: 34.423 - 0s 9ms/step - loss: nan - mean_absolute_error: nan - val_loss: 33.3163 - val_mean_absolute_error: 33.3163\n",
      "Epoch 31/100\n",
      "28/28 [==============================] - ETA: 0s - loss: 23.6672 - mean_absolute_error: 23.667 - ETA: 0s - loss: nan - mean_absolute_error: nan        - ETA: 0s - loss: nan - mean_absolute_error: na - ETA: 0s - loss: nan - mean_absolute_error: na - 0s 9ms/step - loss: nan - mean_absolute_error: nan - val_loss: 33.2744 - val_mean_absolute_error: 33.2744\n",
      "Epoch 32/100\n",
      "28/28 [==============================] - ETA: 0s - loss: 39.3826 - mean_absolute_error: 39.382 - ETA: 0s - loss: nan - mean_absolute_error: nan        - ETA: 0s - loss: nan - mean_absolute_error: na - ETA: 0s - loss: nan - mean_absolute_error: na - 0s 9ms/step - loss: nan - mean_absolute_error: nan - val_loss: 32.8947 - val_mean_absolute_error: 32.8947\n",
      "Epoch 33/100\n",
      "28/28 [==============================] - ETA: 0s - loss: 45.2798 - mean_absolute_error: 45.279 - ETA: 0s - loss: 36.1723 - mean_absolute_error: 36.172 - ETA: 0s - loss: 33.3439 - mean_absolute_error: 33.343 - ETA: 0s - loss: nan - mean_absolute_error: nan        - 0s 9ms/step - loss: nan - mean_absolute_error: nan - val_loss: 32.6870 - val_mean_absolute_error: 32.6870\n",
      "Epoch 34/100\n",
      "28/28 [==============================] - ETA: 0s - loss: 23.9479 - mean_absolute_error: 23.947 - ETA: 0s - loss: nan - mean_absolute_error: nan        - ETA: 0s - loss: nan - mean_absolute_error: na - ETA: 0s - loss: nan - mean_absolute_error: na - ETA: 0s - loss: nan - mean_absolute_error: na - 0s 10ms/step - loss: nan - mean_absolute_error: nan - val_loss: 32.7941 - val_mean_absolute_error: 32.7941\n",
      "Epoch 35/100\n",
      "28/28 [==============================] - ETA: 0s - loss: 31.1808 - mean_absolute_error: 31.180 - ETA: 0s - loss: 35.0700 - mean_absolute_error: 35.070 - ETA: 0s - loss: nan - mean_absolute_error: nan        - ETA: 0s - loss: nan - mean_absolute_error: na - 0s 9ms/step - loss: nan - mean_absolute_error: nan - val_loss: 32.3938 - val_mean_absolute_error: 32.3938\n",
      "Epoch 36/100\n",
      "28/28 [==============================] - ETA: 0s - loss: 36.1241 - mean_absolute_error: 36.124 - ETA: 0s - loss: 29.8998 - mean_absolute_error: 29.899 - ETA: 0s - loss: 30.5398 - mean_absolute_error: 30.539 - ETA: 0s - loss: nan - mean_absolute_error: nan        - 0s 9ms/step - loss: nan - mean_absolute_error: nan - val_loss: 32.3438 - val_mean_absolute_error: 32.3438\n",
      "Epoch 37/100\n",
      "28/28 [==============================] - ETA: 0s - loss: 49.7298 - mean_absolute_error: 49.729 - ETA: 0s - loss: nan - mean_absolute_error: nan        - ETA: 0s - loss: nan - mean_absolute_error: na - ETA: 0s - loss: nan - mean_absolute_error: na - ETA: 0s - loss: nan - mean_absolute_error: na - 0s 10ms/step - loss: nan - mean_absolute_error: nan - val_loss: 32.3349 - val_mean_absolute_error: 32.3349\n",
      "Epoch 38/100\n",
      "28/28 [==============================] - ETA: 0s - loss: 34.0128 - mean_absolute_error: 34.012 - ETA: 0s - loss: nan - mean_absolute_error: nan        - ETA: 0s - loss: nan - mean_absolute_error: na - ETA: 0s - loss: nan - mean_absolute_error: na - 0s 9ms/step - loss: nan - mean_absolute_error: nan - val_loss: 31.9934 - val_mean_absolute_error: 31.9934\n",
      "Epoch 39/100\n",
      "28/28 [==============================] - ETA: 0s - loss: 38.1147 - mean_absolute_error: 38.114 - ETA: 0s - loss: nan - mean_absolute_error: nan        - ETA: 0s - loss: nan - mean_absolute_error: na - 0s 7ms/step - loss: nan - mean_absolute_error: nan - val_loss: 31.8555 - val_mean_absolute_error: 31.8555\n",
      "Epoch 40/100\n",
      "28/28 [==============================] - ETA: 0s - loss: 38.7604 - mean_absolute_error: 38.760 - ETA: 0s - loss: 32.6190 - mean_absolute_error: 32.619 - ETA: 0s - loss: nan - mean_absolute_error: nan        - ETA: 0s - loss: nan - mean_absolute_error: na - 0s 9ms/step - loss: nan - mean_absolute_error: nan - val_loss: 31.6056 - val_mean_absolute_error: 31.6056\n",
      "Epoch 41/100\n",
      "28/28 [==============================] - ETA: 0s - loss: 27.0283 - mean_absolute_error: 27.028 - ETA: 0s - loss: nan - mean_absolute_error: nan        - ETA: 0s - loss: nan - mean_absolute_error: na - ETA: 0s - loss: nan - mean_absolute_error: na - 0s 9ms/step - loss: nan - mean_absolute_error: nan - val_loss: 32.0669 - val_mean_absolute_error: 32.0669\n",
      "Epoch 42/100\n"
     ]
    },
    {
     "name": "stdout",
     "output_type": "stream",
     "text": [
      "28/28 [==============================] - ETA: 0s - loss: 33.4065 - mean_absolute_error: 33.406 - ETA: 0s - loss: 31.8933 - mean_absolute_error: 31.893 - ETA: 0s - loss: nan - mean_absolute_error: nan        - ETA: 0s - loss: nan - mean_absolute_error: na - 0s 9ms/step - loss: nan - mean_absolute_error: nan - val_loss: 32.3372 - val_mean_absolute_error: 32.3372\n",
      "Epoch 43/100\n",
      "28/28 [==============================] - ETA: 0s - loss: 28.7082 - mean_absolute_error: 28.708 - ETA: 0s - loss: nan - mean_absolute_error: nan        - ETA: 0s - loss: nan - mean_absolute_error: na - ETA: 0s - loss: nan - mean_absolute_error: na - ETA: 0s - loss: nan - mean_absolute_error: na - 0s 10ms/step - loss: nan - mean_absolute_error: nan - val_loss: 31.6180 - val_mean_absolute_error: 31.6180\n",
      "Epoch 44/100\n",
      "28/28 [==============================] - ETA: 0s - loss: 32.1283 - mean_absolute_error: 32.128 - ETA: 0s - loss: nan - mean_absolute_error: nan        - ETA: 0s - loss: nan - mean_absolute_error: na - ETA: 0s - loss: nan - mean_absolute_error: na - 0s 9ms/step - loss: nan - mean_absolute_error: nan - val_loss: 31.5642 - val_mean_absolute_error: 31.5642\n",
      "Epoch 45/100\n",
      "28/28 [==============================] - ETA: 0s - loss: 27.1024 - mean_absolute_error: 27.102 - ETA: 0s - loss: 35.7509 - mean_absolute_error: 35.750 - ETA: 0s - loss: nan - mean_absolute_error: nan        - ETA: 0s - loss: nan - mean_absolute_error: na - ETA: 0s - loss: nan - mean_absolute_error: na - 0s 10ms/step - loss: nan - mean_absolute_error: nan - val_loss: 31.7308 - val_mean_absolute_error: 31.7308\n",
      "Epoch 46/100\n",
      "28/28 [==============================] - ETA: 0s - loss: 26.8799 - mean_absolute_error: 26.879 - ETA: 0s - loss: 30.0953 - mean_absolute_error: 30.095 - ETA: 0s - loss: 31.1553 - mean_absolute_error: 31.155 - ETA: 0s - loss: nan - mean_absolute_error: nan        - 0s 9ms/step - loss: nan - mean_absolute_error: nan - val_loss: 31.3041 - val_mean_absolute_error: 31.3041\n",
      "Epoch 47/100\n",
      "28/28 [==============================] - ETA: 0s - loss: 21.7566 - mean_absolute_error: 21.756 - ETA: 0s - loss: nan - mean_absolute_error: nan        - ETA: 0s - loss: nan - mean_absolute_error: na - ETA: 0s - loss: nan - mean_absolute_error: na - ETA: 0s - loss: nan - mean_absolute_error: na - 0s 10ms/step - loss: nan - mean_absolute_error: nan - val_loss: 31.4126 - val_mean_absolute_error: 31.4126\n",
      "Epoch 48/100\n",
      "28/28 [==============================] - ETA: 0s - loss: 33.2140 - mean_absolute_error: 33.214 - ETA: 0s - loss: 29.8836 - mean_absolute_error: 29.883 - ETA: 0s - loss: nan - mean_absolute_error: nan        - ETA: 0s - loss: nan - mean_absolute_error: na - 0s 10ms/step - loss: nan - mean_absolute_error: nan - val_loss: 31.4864 - val_mean_absolute_error: 31.4864\n",
      "Epoch 49/100\n",
      "28/28 [==============================] - ETA: 0s - loss: 40.9900 - mean_absolute_error: 40.990 - ETA: 0s - loss: nan - mean_absolute_error: nan        - ETA: 0s - loss: nan - mean_absolute_error: na - ETA: 0s - loss: nan - mean_absolute_error: na - ETA: 0s - loss: nan - mean_absolute_error: na - 0s 10ms/step - loss: nan - mean_absolute_error: nan - val_loss: 31.7040 - val_mean_absolute_error: 31.7040\n",
      "Epoch 50/100\n",
      "28/28 [==============================] - ETA: 0s - loss: 28.7056 - mean_absolute_error: 28.705 - ETA: 0s - loss: 29.4652 - mean_absolute_error: 29.465 - ETA: 0s - loss: 30.2156 - mean_absolute_error: 30.215 - ETA: 0s - loss: nan - mean_absolute_error: nan        - 0s 10ms/step - loss: nan - mean_absolute_error: nan - val_loss: 31.0376 - val_mean_absolute_error: 31.0376\n",
      "Epoch 51/100\n",
      "28/28 [==============================] - ETA: 0s - loss: 35.5941 - mean_absolute_error: 35.594 - ETA: 0s - loss: 28.2686 - mean_absolute_error: 28.268 - ETA: 0s - loss: 29.2741 - mean_absolute_error: 29.274 - ETA: 0s - loss: 30.4931 - mean_absolute_error: 30.493 - ETA: 0s - loss: nan - mean_absolute_error: nan        - 0s 10ms/step - loss: nan - mean_absolute_error: nan - val_loss: 31.2709 - val_mean_absolute_error: 31.2709\n",
      "Epoch 52/100\n",
      "28/28 [==============================] - ETA: 0s - loss: 33.4160 - mean_absolute_error: 33.416 - ETA: 0s - loss: 31.8903 - mean_absolute_error: 31.890 - ETA: 0s - loss: nan - mean_absolute_error: nan        - ETA: 0s - loss: nan - mean_absolute_error: na - ETA: 0s - loss: nan - mean_absolute_error: na - 0s 10ms/step - loss: nan - mean_absolute_error: nan - val_loss: 30.7375 - val_mean_absolute_error: 30.7375\n",
      "Epoch 53/100\n",
      "28/28 [==============================] - ETA: 0s - loss: 24.2333 - mean_absolute_error: 24.233 - ETA: 0s - loss: 26.6115 - mean_absolute_error: 26.611 - ETA: 0s - loss: 28.8113 - mean_absolute_error: 28.811 - ETA: 0s - loss: 29.8134 - mean_absolute_error: 29.813 - ETA: 0s - loss: nan - mean_absolute_error: nan        - 0s 10ms/step - loss: nan - mean_absolute_error: nan - val_loss: 31.0583 - val_mean_absolute_error: 31.0583\n",
      "Epoch 54/100\n",
      "28/28 [==============================] - ETA: 0s - loss: 38.4110 - mean_absolute_error: 38.411 - ETA: 0s - loss: 31.0366 - mean_absolute_error: 31.036 - ETA: 0s - loss: nan - mean_absolute_error: nan        - ETA: 0s - loss: nan - mean_absolute_error: na - 0s 10ms/step - loss: nan - mean_absolute_error: nan - val_loss: 30.4772 - val_mean_absolute_error: 30.4772\n",
      "Epoch 55/100\n",
      "28/28 [==============================] - ETA: 0s - loss: 35.0245 - mean_absolute_error: 35.024 - ETA: 0s - loss: 28.5453 - mean_absolute_error: 28.545 - ETA: 0s - loss: 28.9539 - mean_absolute_error: 28.953 - ETA: 0s - loss: 28.9662 - mean_absolute_error: 28.966 - ETA: 0s - loss: nan - mean_absolute_error: nan        - 0s 10ms/step - loss: nan - mean_absolute_error: nan - val_loss: 31.2941 - val_mean_absolute_error: 31.2941\n",
      "Epoch 56/100\n",
      "28/28 [==============================] - ETA: 0s - loss: 36.4126 - mean_absolute_error: 36.412 - ETA: 0s - loss: 31.0605 - mean_absolute_error: 31.060 - ETA: 0s - loss: nan - mean_absolute_error: nan        - ETA: 0s - loss: nan - mean_absolute_error: na - 0s 9ms/step - loss: nan - mean_absolute_error: nan - val_loss: 30.1523 - val_mean_absolute_error: 30.1523\n",
      "Epoch 57/100\n",
      "28/28 [==============================] - ETA: 0s - loss: 33.5407 - mean_absolute_error: 33.540 - ETA: 0s - loss: 29.0526 - mean_absolute_error: 29.052 - ETA: 0s - loss: 28.7941 - mean_absolute_error: 28.794 - ETA: 0s - loss: nan - mean_absolute_error: nan        - 0s 9ms/step - loss: nan - mean_absolute_error: nan - val_loss: 30.5351 - val_mean_absolute_error: 30.5351\n",
      "Epoch 58/100\n",
      "28/28 [==============================] - ETA: 0s - loss: 26.6091 - mean_absolute_error: 26.609 - ETA: 0s - loss: nan - mean_absolute_error: nan        - ETA: 0s - loss: nan - mean_absolute_error: na - ETA: 0s - loss: nan - mean_absolute_error: na - 0s 9ms/step - loss: nan - mean_absolute_error: nan - val_loss: 31.2885 - val_mean_absolute_error: 31.2885\n",
      "Epoch 59/100\n",
      "28/28 [==============================] - ETA: 0s - loss: 30.9663 - mean_absolute_error: 30.966 - ETA: 0s - loss: 31.7462 - mean_absolute_error: 31.746 - ETA: 0s - loss: nan - mean_absolute_error: nan        - ETA: 0s - loss: nan - mean_absolute_error: na - 0s 9ms/step - loss: nan - mean_absolute_error: nan - val_loss: 29.8988 - val_mean_absolute_error: 29.8988\n",
      "Epoch 60/100\n",
      "28/28 [==============================] - ETA: 0s - loss: 29.2373 - mean_absolute_error: 29.237 - ETA: 0s - loss: 33.1676 - mean_absolute_error: 33.167 - ETA: 0s - loss: 31.6038 - mean_absolute_error: 31.603 - ETA: 0s - loss: nan - mean_absolute_error: nan        - 0s 8ms/step - loss: nan - mean_absolute_error: nan - val_loss: 30.2890 - val_mean_absolute_error: 30.2890\n",
      "Epoch 61/100\n",
      "28/28 [==============================] - ETA: 0s - loss: 23.2541 - mean_absolute_error: 23.254 - ETA: 0s - loss: 27.5516 - mean_absolute_error: 27.551 - ETA: 0s - loss: nan - mean_absolute_error: nan        - ETA: 0s - loss: nan - mean_absolute_error: na - 0s 10ms/step - loss: nan - mean_absolute_error: nan - val_loss: 30.3845 - val_mean_absolute_error: 30.3845\n",
      "Epoch 62/100\n"
     ]
    },
    {
     "name": "stdout",
     "output_type": "stream",
     "text": [
      "28/28 [==============================] - ETA: 0s - loss: 34.8567 - mean_absolute_error: 34.856 - ETA: 0s - loss: 25.4457 - mean_absolute_error: 25.445 - ETA: 0s - loss: nan - mean_absolute_error: nan        - ETA: 0s - loss: nan - mean_absolute_error: na - ETA: 0s - loss: nan - mean_absolute_error: na - 0s 11ms/step - loss: nan - mean_absolute_error: nan - val_loss: 30.0146 - val_mean_absolute_error: 30.0146\n",
      "Epoch 63/100\n",
      "28/28 [==============================] - ETA: 0s - loss: 29.4596 - mean_absolute_error: 29.459 - ETA: 0s - loss: nan - mean_absolute_error: nan        - ETA: 0s - loss: nan - mean_absolute_error: na - 0s 8ms/step - loss: nan - mean_absolute_error: nan - val_loss: 29.7829 - val_mean_absolute_error: 29.7829\n",
      "Epoch 64/100\n",
      "28/28 [==============================] - ETA: 0s - loss: 29.2769 - mean_absolute_error: 29.276 - ETA: 0s - loss: 25.0103 - mean_absolute_error: 25.010 - ETA: 0s - loss: nan - mean_absolute_error: nan        - ETA: 0s - loss: nan - mean_absolute_error: na - 0s 10ms/step - loss: nan - mean_absolute_error: nan - val_loss: 29.9958 - val_mean_absolute_error: 29.9958\n",
      "Epoch 65/100\n",
      "28/28 [==============================] - ETA: 0s - loss: 29.9405 - mean_absolute_error: 29.940 - ETA: 0s - loss: nan - mean_absolute_error: nan        - ETA: 0s - loss: nan - mean_absolute_error: na - ETA: 0s - loss: nan - mean_absolute_error: na - 0s 9ms/step - loss: nan - mean_absolute_error: nan - val_loss: 30.1102 - val_mean_absolute_error: 30.1102\n",
      "Epoch 66/100\n",
      "28/28 [==============================] - ETA: 0s - loss: 28.6942 - mean_absolute_error: 28.694 - ETA: 0s - loss: 28.6105 - mean_absolute_error: 28.610 - ETA: 0s - loss: 27.5205 - mean_absolute_error: 27.520 - ETA: 0s - loss: nan - mean_absolute_error: nan        - ETA: 0s - loss: nan - mean_absolute_error: na - 0s 10ms/step - loss: nan - mean_absolute_error: nan - val_loss: 29.7537 - val_mean_absolute_error: 29.7537\n",
      "Epoch 67/100\n",
      "28/28 [==============================] - ETA: 0s - loss: 25.3917 - mean_absolute_error: 25.391 - ETA: 0s - loss: 29.4200 - mean_absolute_error: 29.420 - ETA: 0s - loss: nan - mean_absolute_error: nan        - ETA: 0s - loss: nan - mean_absolute_error: na - 0s 10ms/step - loss: nan - mean_absolute_error: nan - val_loss: 29.7535 - val_mean_absolute_error: 29.7535\n",
      "Epoch 68/100\n",
      "28/28 [==============================] - ETA: 0s - loss: 26.6818 - mean_absolute_error: 26.681 - ETA: 0s - loss: nan - mean_absolute_error: nan        - ETA: 0s - loss: nan - mean_absolute_error: na - ETA: 0s - loss: nan - mean_absolute_error: na - ETA: 0s - loss: nan - mean_absolute_error: na - 0s 11ms/step - loss: nan - mean_absolute_error: nan - val_loss: 29.3774 - val_mean_absolute_error: 29.3774\n",
      "Epoch 69/100\n",
      "28/28 [==============================] - ETA: 0s - loss: 28.3684 - mean_absolute_error: 28.368 - ETA: 0s - loss: 26.6043 - mean_absolute_error: 26.604 - ETA: 0s - loss: 27.6718 - mean_absolute_error: 27.671 - ETA: 0s - loss: 27.8013 - mean_absolute_error: 27.801 - ETA: 0s - loss: nan - mean_absolute_error: nan        - 0s 11ms/step - loss: nan - mean_absolute_error: nan - val_loss: 29.4894 - val_mean_absolute_error: 29.4894\n",
      "Epoch 70/100\n",
      "28/28 [==============================] - ETA: 0s - loss: 25.6040 - mean_absolute_error: 25.604 - ETA: 0s - loss: 25.6942 - mean_absolute_error: 25.694 - ETA: 0s - loss: nan - mean_absolute_error: nan        - ETA: 0s - loss: nan - mean_absolute_error: na - 0s 9ms/step - loss: nan - mean_absolute_error: nan - val_loss: 28.9613 - val_mean_absolute_error: 28.9613\n",
      "Epoch 71/100\n",
      "28/28 [==============================] - ETA: 0s - loss: 24.1646 - mean_absolute_error: 24.164 - ETA: 0s - loss: 25.7402 - mean_absolute_error: 25.740 - ETA: 0s - loss: 26.2329 - mean_absolute_error: 26.232 - ETA: 0s - loss: 27.2654 - mean_absolute_error: 27.265 - 0s 9ms/step - loss: nan - mean_absolute_error: nan - val_loss: 29.9318 - val_mean_absolute_error: 29.9318\n",
      "Epoch 72/100\n",
      "28/28 [==============================] - ETA: 0s - loss: nan - mean_absolute_error: na - ETA: 0s - loss: nan - mean_absolute_error: na - ETA: 0s - loss: nan - mean_absolute_error: na - ETA: 0s - loss: nan - mean_absolute_error: na - 0s 9ms/step - loss: nan - mean_absolute_error: nan - val_loss: 29.2856 - val_mean_absolute_error: 29.2856\n",
      "Epoch 73/100\n",
      "28/28 [==============================] - ETA: 0s - loss: 22.7883 - mean_absolute_error: 22.788 - ETA: 0s - loss: nan - mean_absolute_error: nan        - ETA: 0s - loss: nan - mean_absolute_error: na - ETA: 0s - loss: nan - mean_absolute_error: na - 0s 9ms/step - loss: nan - mean_absolute_error: nan - val_loss: 29.0346 - val_mean_absolute_error: 29.0346\n",
      "Epoch 74/100\n",
      "28/28 [==============================] - ETA: 0s - loss: 33.1714 - mean_absolute_error: 33.171 - ETA: 0s - loss: nan - mean_absolute_error: nan        - ETA: 0s - loss: nan - mean_absolute_error: na - ETA: 0s - loss: nan - mean_absolute_error: na - 0s 9ms/step - loss: nan - mean_absolute_error: nan - val_loss: 28.7309 - val_mean_absolute_error: 28.7309\n",
      "Epoch 75/100\n",
      "28/28 [==============================] - ETA: 0s - loss: 29.3736 - mean_absolute_error: 29.373 - ETA: 0s - loss: 27.7424 - mean_absolute_error: 27.742 - ETA: 0s - loss: 27.3221 - mean_absolute_error: 27.322 - ETA: 0s - loss: nan - mean_absolute_error: nan        - ETA: 0s - loss: nan - mean_absolute_error: na - 0s 10ms/step - loss: nan - mean_absolute_error: nan - val_loss: 29.9161 - val_mean_absolute_error: 29.9161\n",
      "Epoch 76/100\n",
      "28/28 [==============================] - ETA: 0s - loss: 31.8780 - mean_absolute_error: 31.878 - ETA: 0s - loss: 25.9202 - mean_absolute_error: 25.920 - ETA: 0s - loss: 25.5968 - mean_absolute_error: 25.596 - ETA: 0s - loss: 26.8505 - mean_absolute_error: 26.850 - 0s 10ms/step - loss: nan - mean_absolute_error: nan - val_loss: 29.4847 - val_mean_absolute_error: 29.4847\n",
      "Epoch 77/100\n",
      "28/28 [==============================] - ETA: 0s - loss: 27.9306 - mean_absolute_error: 27.930 - ETA: 0s - loss: 26.3696 - mean_absolute_error: 26.369 - ETA: 0s - loss: nan - mean_absolute_error: nan        - ETA: 0s - loss: nan - mean_absolute_error: na - 0s 9ms/step - loss: nan - mean_absolute_error: nan - val_loss: 29.8266 - val_mean_absolute_error: 29.8266\n",
      "Epoch 78/100\n",
      "28/28 [==============================] - ETA: 0s - loss: 25.1688 - mean_absolute_error: 25.168 - ETA: 0s - loss: 27.8431 - mean_absolute_error: 27.843 - ETA: 0s - loss: nan - mean_absolute_error: nan        - ETA: 0s - loss: nan - mean_absolute_error: na - ETA: 0s - loss: nan - mean_absolute_error: na - 0s 11ms/step - loss: nan - mean_absolute_error: nan - val_loss: 29.3452 - val_mean_absolute_error: 29.3452\n",
      "Epoch 79/100\n",
      "28/28 [==============================] - ETA: 0s - loss: 31.5266 - mean_absolute_error: 31.526 - ETA: 0s - loss: 24.7938 - mean_absolute_error: 24.793 - ETA: 0s - loss: nan - mean_absolute_error: nan        - ETA: 0s - loss: nan - mean_absolute_error: na - ETA: 0s - loss: nan - mean_absolute_error: na - 0s 10ms/step - loss: nan - mean_absolute_error: nan - val_loss: 29.9288 - val_mean_absolute_error: 29.9288\n",
      "Epoch 80/100\n",
      "28/28 [==============================] - ETA: 0s - loss: 20.9591 - mean_absolute_error: 20.959 - ETA: 0s - loss: nan - mean_absolute_error: nan        - ETA: 0s - loss: nan - mean_absolute_error: na - ETA: 0s - loss: nan - mean_absolute_error: na - 0s 9ms/step - loss: nan - mean_absolute_error: nan - val_loss: 28.7176 - val_mean_absolute_error: 28.7176\n",
      "Epoch 81/100\n",
      "28/28 [==============================] - ETA: 0s - loss: 25.0455 - mean_absolute_error: 25.045 - ETA: 0s - loss: nan - mean_absolute_error: nan        - ETA: 0s - loss: nan - mean_absolute_error: na - ETA: 0s - loss: nan - mean_absolute_error: na - 0s 9ms/step - loss: nan - mean_absolute_error: nan - val_loss: 29.0507 - val_mean_absolute_error: 29.0507\n",
      "Epoch 82/100\n",
      "28/28 [==============================] - ETA: 0s - loss: 25.2310 - mean_absolute_error: 25.231 - ETA: 0s - loss: 27.6227 - mean_absolute_error: 27.622 - ETA: 0s - loss: 26.5809 - mean_absolute_error: 26.580 - ETA: 0s - loss: nan - mean_absolute_error: nan        - 0s 9ms/step - loss: nan - mean_absolute_error: nan - val_loss: 28.5148 - val_mean_absolute_error: 28.5148\n",
      "Epoch 83/100\n"
     ]
    },
    {
     "name": "stdout",
     "output_type": "stream",
     "text": [
      "28/28 [==============================] - ETA: 0s - loss: nan - mean_absolute_error: na - ETA: 0s - loss: nan - mean_absolute_error: na - ETA: 0s - loss: nan - mean_absolute_error: na - ETA: 0s - loss: nan - mean_absolute_error: na - 0s 9ms/step - loss: nan - mean_absolute_error: nan - val_loss: 28.8326 - val_mean_absolute_error: 28.8326\n",
      "Epoch 84/100\n",
      "28/28 [==============================] - ETA: 0s - loss: 17.5866 - mean_absolute_error: 17.586 - ETA: 0s - loss: nan - mean_absolute_error: nan        - ETA: 0s - loss: nan - mean_absolute_error: na - ETA: 0s - loss: nan - mean_absolute_error: na - ETA: 0s - loss: nan - mean_absolute_error: na - 0s 10ms/step - loss: nan - mean_absolute_error: nan - val_loss: 29.7022 - val_mean_absolute_error: 29.7022\n",
      "Epoch 85/100\n",
      "28/28 [==============================] - ETA: 0s - loss: 25.4437 - mean_absolute_error: 25.443 - ETA: 0s - loss: 24.3396 - mean_absolute_error: 24.339 - ETA: 0s - loss: nan - mean_absolute_error: nan        - ETA: 0s - loss: nan - mean_absolute_error: na - ETA: 0s - loss: nan - mean_absolute_error: na - 0s 10ms/step - loss: nan - mean_absolute_error: nan - val_loss: 28.7429 - val_mean_absolute_error: 28.7429\n",
      "Epoch 86/100\n",
      "28/28 [==============================] - ETA: 0s - loss: 25.9018 - mean_absolute_error: 25.901 - ETA: 0s - loss: nan - mean_absolute_error: nan        - ETA: 0s - loss: nan - mean_absolute_error: na - ETA: 0s - loss: nan - mean_absolute_error: na - 0s 10ms/step - loss: nan - mean_absolute_error: nan - val_loss: 28.5566 - val_mean_absolute_error: 28.5566\n",
      "Epoch 87/100\n",
      "28/28 [==============================] - ETA: 0s - loss: 20.9699 - mean_absolute_error: 20.969 - ETA: 0s - loss: 30.2703 - mean_absolute_error: 30.270 - ETA: 0s - loss: 26.9771 - mean_absolute_error: 26.977 - ETA: 0s - loss: nan - mean_absolute_error: nan        - ETA: 0s - loss: nan - mean_absolute_error: na - 0s 10ms/step - loss: nan - mean_absolute_error: nan - val_loss: 28.6575 - val_mean_absolute_error: 28.6575\n",
      "Epoch 88/100\n",
      "28/28 [==============================] - ETA: 0s - loss: 30.3293 - mean_absolute_error: 30.329 - ETA: 0s - loss: 26.0502 - mean_absolute_error: 26.050 - ETA: 0s - loss: 25.6845 - mean_absolute_error: 25.684 - ETA: 0s - loss: nan - mean_absolute_error: nan        - ETA: 0s - loss: nan - mean_absolute_error: na - 0s 10ms/step - loss: nan - mean_absolute_error: nan - val_loss: 28.4305 - val_mean_absolute_error: 28.4305\n",
      "Epoch 89/100\n",
      "28/28 [==============================] - ETA: 0s - loss: 24.6336 - mean_absolute_error: 24.633 - ETA: 0s - loss: 25.6615 - mean_absolute_error: 25.661 - ETA: 0s - loss: 24.9242 - mean_absolute_error: 24.924 - ETA: 0s - loss: nan - mean_absolute_error: nan        - 0s 9ms/step - loss: nan - mean_absolute_error: nan - val_loss: 28.6099 - val_mean_absolute_error: 28.6099\n",
      "Epoch 90/100\n",
      "28/28 [==============================] - ETA: 0s - loss: 23.0424 - mean_absolute_error: 23.042 - ETA: 0s - loss: 24.0848 - mean_absolute_error: 24.084 - ETA: 0s - loss: 23.9411 - mean_absolute_error: 23.941 - ETA: 0s - loss: nan - mean_absolute_error: nan        - ETA: 0s - loss: nan - mean_absolute_error: na - 0s 10ms/step - loss: nan - mean_absolute_error: nan - val_loss: 28.3757 - val_mean_absolute_error: 28.3757\n",
      "Epoch 91/100\n",
      "28/28 [==============================] - ETA: 0s - loss: 20.8811 - mean_absolute_error: 20.881 - ETA: 0s - loss: 24.9986 - mean_absolute_error: 24.998 - ETA: 0s - loss: 23.7905 - mean_absolute_error: 23.790 - ETA: 0s - loss: nan - mean_absolute_error: nan        - 0s 9ms/step - loss: nan - mean_absolute_error: nan - val_loss: 28.0348 - val_mean_absolute_error: 28.0348\n",
      "Epoch 92/100\n",
      "28/28 [==============================] - ETA: 0s - loss: 24.2149 - mean_absolute_error: 24.214 - ETA: 0s - loss: 23.5697 - mean_absolute_error: 23.569 - ETA: 0s - loss: nan - mean_absolute_error: nan        - ETA: 0s - loss: nan - mean_absolute_error: na - 0s 9ms/step - loss: nan - mean_absolute_error: nan - val_loss: 29.4491 - val_mean_absolute_error: 29.4491\n",
      "Epoch 93/100\n",
      "28/28 [==============================] - ETA: 0s - loss: 25.6015 - mean_absolute_error: 25.601 - ETA: 0s - loss: 26.9698 - mean_absolute_error: 26.969 - ETA: 0s - loss: 24.1162 - mean_absolute_error: 24.116 - ETA: 0s - loss: nan - mean_absolute_error: nan        - 0s 9ms/step - loss: nan - mean_absolute_error: nan - val_loss: 27.9658 - val_mean_absolute_error: 27.9658\n",
      "Epoch 94/100\n",
      "28/28 [==============================] - ETA: 0s - loss: 17.3632 - mean_absolute_error: 17.363 - ETA: 0s - loss: 22.8053 - mean_absolute_error: 22.805 - ETA: 0s - loss: 23.7166 - mean_absolute_error: 23.716 - ETA: 0s - loss: 23.2982 - mean_absolute_error: 23.298 - ETA: 0s - loss: nan - mean_absolute_error: nan        - 0s 10ms/step - loss: nan - mean_absolute_error: nan - val_loss: 28.3877 - val_mean_absolute_error: 28.3877\n",
      "Epoch 95/100\n",
      "28/28 [==============================] - ETA: 0s - loss: 15.5370 - mean_absolute_error: 15.537 - ETA: 0s - loss: 20.9726 - mean_absolute_error: 20.972 - ETA: 0s - loss: nan - mean_absolute_error: nan        - ETA: 0s - loss: nan - mean_absolute_error: na - 0s 9ms/step - loss: nan - mean_absolute_error: nan - val_loss: 28.7200 - val_mean_absolute_error: 28.7200\n",
      "Epoch 96/100\n",
      "28/28 [==============================] - ETA: 0s - loss: 17.6627 - mean_absolute_error: 17.662 - ETA: 0s - loss: 22.5347 - mean_absolute_error: 22.534 - ETA: 0s - loss: nan - mean_absolute_error: nan        - ETA: 0s - loss: nan - mean_absolute_error: na - ETA: 0s - loss: nan - mean_absolute_error: na - 0s 11ms/step - loss: nan - mean_absolute_error: nan - val_loss: 27.8402 - val_mean_absolute_error: 27.8402\n",
      "Epoch 97/100\n",
      "28/28 [==============================] - ETA: 0s - loss: 18.4415 - mean_absolute_error: 18.441 - ETA: 0s - loss: 21.3773 - mean_absolute_error: 21.377 - ETA: 0s - loss: nan - mean_absolute_error: nan        - ETA: 0s - loss: nan - mean_absolute_error: na - ETA: 0s - loss: nan - mean_absolute_error: na - 0s 10ms/step - loss: nan - mean_absolute_error: nan - val_loss: 28.1259 - val_mean_absolute_error: 28.1259\n",
      "Epoch 98/100\n",
      "28/28 [==============================] - ETA: 0s - loss: 19.4435 - mean_absolute_error: 19.443 - ETA: 0s - loss: 23.4099 - mean_absolute_error: 23.409 - ETA: 0s - loss: nan - mean_absolute_error: nan        - ETA: 0s - loss: nan - mean_absolute_error: na - 0s 9ms/step - loss: nan - mean_absolute_error: nan - val_loss: 28.1112 - val_mean_absolute_error: 28.1112\n",
      "Epoch 99/100\n",
      "28/28 [==============================] - ETA: 0s - loss: 16.8703 - mean_absolute_error: 16.870 - ETA: 0s - loss: 20.7451 - mean_absolute_error: 20.745 - ETA: 0s - loss: nan - mean_absolute_error: nan        - ETA: 0s - loss: nan - mean_absolute_error: na - 0s 9ms/step - loss: nan - mean_absolute_error: nan - val_loss: 28.9031 - val_mean_absolute_error: 28.9031\n",
      "Epoch 100/100\n",
      "28/28 [==============================] - ETA: 0s - loss: 21.5232 - mean_absolute_error: 21.523 - ETA: 0s - loss: 22.7021 - mean_absolute_error: 22.702 - ETA: 0s - loss: 22.4510 - mean_absolute_error: 22.451 - ETA: 0s - loss: 22.4525 - mean_absolute_error: 22.452 - ETA: 0s - loss: nan - mean_absolute_error: nan        - 0s 10ms/step - loss: nan - mean_absolute_error: nan - val_loss: 27.6878 - val_mean_absolute_error: 27.6878\n",
      "Epoch 1/100\n",
      "28/28 [==============================] - ETA: 0s - loss: 89.8705 - mean_absolute_error: 89.870 - ETA: 0s - loss: 107.4777 - mean_absolute_error: 107.477 - ETA: 0s - loss: 109.7515 - mean_absolute_error: 109.751 - ETA: 0s - loss: nan - mean_absolute_error: nan          - ETA: 0s - loss: nan - mean_absolute_error: na - 0s 16ms/step - loss: nan - mean_absolute_error: nan - val_loss: 104.5861 - val_mean_absolute_error: 104.5861\n",
      "Epoch 2/100\n",
      "28/28 [==============================] - ETA: 0s - loss: 96.1891 - mean_absolute_error: 96.189 - ETA: 0s - loss: 106.1921 - mean_absolute_error: 106.192 - ETA: 0s - loss: nan - mean_absolute_error: nan          - ETA: 0s - loss: nan - mean_absolute_error: na - 0s 9ms/step - loss: nan - mean_absolute_error: nan - val_loss: 98.9380 - val_mean_absolute_error: 98.9380\n",
      "Epoch 3/100\n"
     ]
    },
    {
     "name": "stdout",
     "output_type": "stream",
     "text": [
      "28/28 [==============================] - ETA: 0s - loss: 126.2376 - mean_absolute_error: 126.237 - ETA: 0s - loss: 96.7312 - mean_absolute_error: 96.7312  - ETA: 0s - loss: 95.1723 - mean_absolute_error: 95.172 - ETA: 0s - loss: nan - mean_absolute_error: nan        - 0s 9ms/step - loss: nan - mean_absolute_error: nan - val_loss: 63.2936 - val_mean_absolute_error: 63.2936\n",
      "Epoch 4/100\n",
      "28/28 [==============================] - ETA: 0s - loss: 76.6273 - mean_absolute_error: 76.627 - ETA: 0s - loss: nan - mean_absolute_error: nan        - ETA: 0s - loss: nan - mean_absolute_error: na - ETA: 0s - loss: nan - mean_absolute_error: na - 0s 10ms/step - loss: nan - mean_absolute_error: nan - val_loss: 48.5416 - val_mean_absolute_error: 48.5416\n",
      "Epoch 5/100\n",
      "28/28 [==============================] - ETA: 0s - loss: 54.7706 - mean_absolute_error: 54.770 - ETA: 0s - loss: 52.8823 - mean_absolute_error: 52.882 - ETA: 0s - loss: nan - mean_absolute_error: nan        - ETA: 0s - loss: nan - mean_absolute_error: na - ETA: 0s - loss: nan - mean_absolute_error: na - 0s 10ms/step - loss: nan - mean_absolute_error: nan - val_loss: 46.6700 - val_mean_absolute_error: 46.6700\n",
      "Epoch 6/100\n",
      "28/28 [==============================] - ETA: 0s - loss: 32.4334 - mean_absolute_error: 32.433 - ETA: 0s - loss: nan - mean_absolute_error: nan        - ETA: 0s - loss: nan - mean_absolute_error: na - ETA: 0s - loss: nan - mean_absolute_error: na - ETA: 0s - loss: nan - mean_absolute_error: na - 0s 10ms/step - loss: nan - mean_absolute_error: nan - val_loss: 44.4690 - val_mean_absolute_error: 44.4690\n",
      "Epoch 7/100\n",
      "28/28 [==============================] - ETA: 0s - loss: 44.0921 - mean_absolute_error: 44.092 - ETA: 0s - loss: 45.0959 - mean_absolute_error: 45.095 - ETA: 0s - loss: nan - mean_absolute_error: nan        - ETA: 0s - loss: nan - mean_absolute_error: na - 0s 9ms/step - loss: nan - mean_absolute_error: nan - val_loss: 43.0007 - val_mean_absolute_error: 43.0007\n",
      "Epoch 8/100\n",
      "28/28 [==============================] - ETA: 0s - loss: 42.7051 - mean_absolute_error: 42.705 - ETA: 0s - loss: 45.2687 - mean_absolute_error: 45.268 - ETA: 0s - loss: nan - mean_absolute_error: nan        - ETA: 0s - loss: nan - mean_absolute_error: na - ETA: 0s - loss: nan - mean_absolute_error: na - 0s 10ms/step - loss: nan - mean_absolute_error: nan - val_loss: 42.1253 - val_mean_absolute_error: 42.1253\n",
      "Epoch 9/100\n",
      "28/28 [==============================] - ETA: 0s - loss: 41.1208 - mean_absolute_error: 41.120 - ETA: 0s - loss: 42.1200 - mean_absolute_error: 42.120 - ETA: 0s - loss: 42.9364 - mean_absolute_error: 42.936 - ETA: 0s - loss: 41.4508 - mean_absolute_error: 41.450 - 0s 9ms/step - loss: nan - mean_absolute_error: nan - val_loss: 41.4830 - val_mean_absolute_error: 41.4830\n",
      "Epoch 10/100\n",
      "28/28 [==============================] - ETA: 0s - loss: 50.4921 - mean_absolute_error: 50.492 - ETA: 0s - loss: 40.5588 - mean_absolute_error: 40.558 - ETA: 0s - loss: 41.6273 - mean_absolute_error: 41.627 - ETA: 0s - loss: 41.7431 - mean_absolute_error: 41.743 - ETA: 0s - loss: nan - mean_absolute_error: nan        - 0s 10ms/step - loss: nan - mean_absolute_error: nan - val_loss: 40.8520 - val_mean_absolute_error: 40.8520\n",
      "Epoch 11/100\n",
      "28/28 [==============================] - ETA: 0s - loss: 38.6313 - mean_absolute_error: 38.631 - ETA: 0s - loss: 38.6918 - mean_absolute_error: 38.691 - ETA: 0s - loss: 40.5149 - mean_absolute_error: 40.514 - ETA: 0s - loss: nan - mean_absolute_error: nan        - 0s 10ms/step - loss: nan - mean_absolute_error: nan - val_loss: 40.5692 - val_mean_absolute_error: 40.5692\n",
      "Epoch 12/100\n",
      "28/28 [==============================] - ETA: 0s - loss: 38.8433 - mean_absolute_error: 38.843 - ETA: 0s - loss: nan - mean_absolute_error: nan        - ETA: 0s - loss: nan - mean_absolute_error: na - ETA: 0s - loss: nan - mean_absolute_error: na - 0s 9ms/step - loss: nan - mean_absolute_error: nan - val_loss: 39.8127 - val_mean_absolute_error: 39.8127\n",
      "Epoch 13/100\n",
      "28/28 [==============================] - ETA: 0s - loss: 52.1094 - mean_absolute_error: 52.109 - ETA: 0s - loss: 40.6850 - mean_absolute_error: 40.685 - ETA: 0s - loss: nan - mean_absolute_error: nan        - ETA: 0s - loss: nan - mean_absolute_error: na - 0s 9ms/step - loss: nan - mean_absolute_error: nan - val_loss: 39.5518 - val_mean_absolute_error: 39.5518\n",
      "Epoch 14/100\n",
      "28/28 [==============================] - ETA: 0s - loss: 33.0255 - mean_absolute_error: 33.025 - ETA: 0s - loss: 42.2396 - mean_absolute_error: 42.239 - ETA: 0s - loss: 39.4602 - mean_absolute_error: 39.460 - ETA: 0s - loss: nan - mean_absolute_error: nan        - 0s 10ms/step - loss: nan - mean_absolute_error: nan - val_loss: 39.1040 - val_mean_absolute_error: 39.1040\n",
      "Epoch 15/100\n",
      "28/28 [==============================] - ETA: 0s - loss: 40.0540 - mean_absolute_error: 40.054 - ETA: 0s - loss: 37.8076 - mean_absolute_error: 37.807 - ETA: 0s - loss: nan - mean_absolute_error: nan        - ETA: 0s - loss: nan - mean_absolute_error: na - 0s 9ms/step - loss: nan - mean_absolute_error: nan - val_loss: 38.6097 - val_mean_absolute_error: 38.6097\n",
      "Epoch 16/100\n",
      "28/28 [==============================] - ETA: 0s - loss: 37.6644 - mean_absolute_error: 37.664 - ETA: 0s - loss: 40.3178 - mean_absolute_error: 40.317 - ETA: 0s - loss: 39.4562 - mean_absolute_error: 39.456 - ETA: 0s - loss: 39.2197 - mean_absolute_error: 39.219 - 0s 9ms/step - loss: nan - mean_absolute_error: nan - val_loss: 38.2693 - val_mean_absolute_error: 38.2693\n",
      "Epoch 17/100\n",
      "28/28 [==============================] - ETA: 0s - loss: 40.2962 - mean_absolute_error: 40.296 - ETA: 0s - loss: 37.9149 - mean_absolute_error: 37.914 - ETA: 0s - loss: 38.5439 - mean_absolute_error: 38.543 - ETA: 0s - loss: nan - mean_absolute_error: nan        - 0s 9ms/step - loss: nan - mean_absolute_error: nan - val_loss: 37.8693 - val_mean_absolute_error: 37.8693\n",
      "Epoch 18/100\n",
      "28/28 [==============================] - ETA: 0s - loss: 27.2184 - mean_absolute_error: 27.218 - ETA: 0s - loss: nan - mean_absolute_error: nan        - ETA: 0s - loss: nan - mean_absolute_error: na - ETA: 0s - loss: nan - mean_absolute_error: na - 0s 9ms/step - loss: nan - mean_absolute_error: nan - val_loss: 37.4077 - val_mean_absolute_error: 37.4077\n",
      "Epoch 19/100\n",
      "28/28 [==============================] - ETA: 0s - loss: 44.8340 - mean_absolute_error: 44.834 - ETA: 0s - loss: 36.3169 - mean_absolute_error: 36.316 - ETA: 0s - loss: nan - mean_absolute_error: nan        - ETA: 0s - loss: nan - mean_absolute_error: na - 0s 9ms/step - loss: nan - mean_absolute_error: nan - val_loss: 37.0573 - val_mean_absolute_error: 37.0573\n",
      "Epoch 20/100\n",
      "28/28 [==============================] - ETA: 0s - loss: 42.3768 - mean_absolute_error: 42.376 - ETA: 0s - loss: nan - mean_absolute_error: nan        - ETA: 0s - loss: nan - mean_absolute_error: na - ETA: 0s - loss: nan - mean_absolute_error: na - 0s 8ms/step - loss: nan - mean_absolute_error: nan - val_loss: 36.6645 - val_mean_absolute_error: 36.6645\n",
      "Epoch 21/100\n",
      "28/28 [==============================] - ETA: 0s - loss: 23.4196 - mean_absolute_error: 23.419 - ETA: 0s - loss: 36.9983 - mean_absolute_error: 36.998 - ETA: 0s - loss: 39.0423 - mean_absolute_error: 39.042 - ETA: 0s - loss: nan - mean_absolute_error: nan        - 0s 9ms/step - loss: nan - mean_absolute_error: nan - val_loss: 36.5043 - val_mean_absolute_error: 36.5043\n",
      "Epoch 22/100\n",
      "28/28 [==============================] - ETA: 0s - loss: 43.8614 - mean_absolute_error: 43.861 - ETA: 0s - loss: 38.8475 - mean_absolute_error: 38.847 - ETA: 0s - loss: 37.3599 - mean_absolute_error: 37.359 - ETA: 0s - loss: nan - mean_absolute_error: nan        - 0s 9ms/step - loss: nan - mean_absolute_error: nan - val_loss: 36.0676 - val_mean_absolute_error: 36.0676\n",
      "Epoch 23/100\n",
      "28/28 [==============================] - ETA: 0s - loss: 39.8182 - mean_absolute_error: 39.818 - ETA: 0s - loss: nan - mean_absolute_error: nan        - ETA: 0s - loss: nan - mean_absolute_error: na - ETA: 0s - loss: nan - mean_absolute_error: na - 0s 9ms/step - loss: nan - mean_absolute_error: nan - val_loss: 35.8140 - val_mean_absolute_error: 35.8140\n",
      "Epoch 24/100\n"
     ]
    },
    {
     "name": "stdout",
     "output_type": "stream",
     "text": [
      "28/28 [==============================] - ETA: 0s - loss: 39.9929 - mean_absolute_error: 39.992 - ETA: 0s - loss: 35.5757 - mean_absolute_error: 35.575 - ETA: 0s - loss: 35.7955 - mean_absolute_error: 35.795 - ETA: 0s - loss: nan - mean_absolute_error: nan        - 0s 9ms/step - loss: nan - mean_absolute_error: nan - val_loss: 35.4372 - val_mean_absolute_error: 35.4372\n",
      "Epoch 25/100\n",
      "28/28 [==============================] - ETA: 0s - loss: 19.1894 - mean_absolute_error: 19.189 - ETA: 0s - loss: 32.8795 - mean_absolute_error: 32.879 - ETA: 0s - loss: nan - mean_absolute_error: nan        - ETA: 0s - loss: nan - mean_absolute_error: na - 0s 9ms/step - loss: nan - mean_absolute_error: nan - val_loss: 35.9254 - val_mean_absolute_error: 35.9254\n",
      "Epoch 26/100\n",
      "28/28 [==============================] - ETA: 0s - loss: 27.8003 - mean_absolute_error: 27.800 - ETA: 0s - loss: 38.9705 - mean_absolute_error: 38.970 - ETA: 0s - loss: 37.7054 - mean_absolute_error: 37.705 - ETA: 0s - loss: 36.3255 - mean_absolute_error: 36.325 - ETA: 0s - loss: nan - mean_absolute_error: nan        - 0s 10ms/step - loss: nan - mean_absolute_error: nan - val_loss: 35.3994 - val_mean_absolute_error: 35.3994\n",
      "Epoch 27/100\n",
      "28/28 [==============================] - ETA: 0s - loss: 35.9176 - mean_absolute_error: 35.917 - ETA: 0s - loss: 35.7193 - mean_absolute_error: 35.719 - ETA: 0s - loss: 35.3320 - mean_absolute_error: 35.332 - ETA: 0s - loss: nan - mean_absolute_error: nan        - 0s 10ms/step - loss: nan - mean_absolute_error: nan - val_loss: 34.8551 - val_mean_absolute_error: 34.8551\n",
      "Epoch 28/100\n",
      "28/28 [==============================] - ETA: 0s - loss: nan - mean_absolute_error: na - ETA: 0s - loss: nan - mean_absolute_error: na - ETA: 0s - loss: nan - mean_absolute_error: na - ETA: 0s - loss: nan - mean_absolute_error: na - 0s 8ms/step - loss: nan - mean_absolute_error: nan - val_loss: 34.6566 - val_mean_absolute_error: 34.6566\n",
      "Epoch 29/100\n",
      "28/28 [==============================] - ETA: 0s - loss: 42.7244 - mean_absolute_error: 42.724 - ETA: 0s - loss: nan - mean_absolute_error: nan        - ETA: 0s - loss: nan - mean_absolute_error: na - 0s 7ms/step - loss: nan - mean_absolute_error: nan - val_loss: 34.4526 - val_mean_absolute_error: 34.4526\n",
      "Epoch 30/100\n",
      "28/28 [==============================] - ETA: 0s - loss: 35.0441 - mean_absolute_error: 35.044 - ETA: 0s - loss: 33.0331 - mean_absolute_error: 33.033 - ETA: 0s - loss: nan - mean_absolute_error: nan        - ETA: 0s - loss: nan - mean_absolute_error: na - 0s 10ms/step - loss: nan - mean_absolute_error: nan - val_loss: 34.4354 - val_mean_absolute_error: 34.4354\n",
      "Epoch 31/100\n",
      "28/28 [==============================] - ETA: 0s - loss: 31.4583 - mean_absolute_error: 31.458 - ETA: 0s - loss: 35.1044 - mean_absolute_error: 35.104 - ETA: 0s - loss: 34.9665 - mean_absolute_error: 34.966 - ETA: 0s - loss: nan - mean_absolute_error: nan        - 0s 9ms/step - loss: nan - mean_absolute_error: nan - val_loss: 35.0557 - val_mean_absolute_error: 35.0557\n",
      "Epoch 32/100\n",
      "28/28 [==============================] - ETA: 0s - loss: 33.7910 - mean_absolute_error: 33.791 - ETA: 0s - loss: 34.6524 - mean_absolute_error: 34.652 - ETA: 0s - loss: 32.9646 - mean_absolute_error: 32.964 - ETA: 0s - loss: nan - mean_absolute_error: nan        - ETA: 0s - loss: nan - mean_absolute_error: na - 0s 11ms/step - loss: nan - mean_absolute_error: nan - val_loss: 34.5094 - val_mean_absolute_error: 34.5094\n",
      "Epoch 33/100\n",
      "28/28 [==============================] - ETA: 0s - loss: 37.6550 - mean_absolute_error: 37.655 - ETA: 0s - loss: 35.1492 - mean_absolute_error: 35.149 - ETA: 0s - loss: 34.3124 - mean_absolute_error: 34.312 - ETA: 0s - loss: nan - mean_absolute_error: nan        - 0s 9ms/step - loss: nan - mean_absolute_error: nan - val_loss: 33.8555 - val_mean_absolute_error: 33.8555\n",
      "Epoch 34/100\n",
      "28/28 [==============================] - ETA: 0s - loss: 40.1041 - mean_absolute_error: 40.104 - ETA: 0s - loss: nan - mean_absolute_error: nan        - ETA: 0s - loss: nan - mean_absolute_error: na - ETA: 0s - loss: nan - mean_absolute_error: na - 0s 9ms/step - loss: nan - mean_absolute_error: nan - val_loss: 33.9444 - val_mean_absolute_error: 33.9444\n",
      "Epoch 35/100\n",
      "28/28 [==============================] - ETA: 0s - loss: 31.0334 - mean_absolute_error: 31.033 - ETA: 0s - loss: nan - mean_absolute_error: nan        - ETA: 0s - loss: nan - mean_absolute_error: na - ETA: 0s - loss: nan - mean_absolute_error: na - 0s 9ms/step - loss: nan - mean_absolute_error: nan - val_loss: 33.6537 - val_mean_absolute_error: 33.6537\n",
      "Epoch 36/100\n",
      "28/28 [==============================] - ETA: 0s - loss: 28.0422 - mean_absolute_error: 28.042 - ETA: 0s - loss: nan - mean_absolute_error: nan        - ETA: 0s - loss: nan - mean_absolute_error: na - ETA: 0s - loss: nan - mean_absolute_error: na - 0s 9ms/step - loss: nan - mean_absolute_error: nan - val_loss: 33.6695 - val_mean_absolute_error: 33.6695\n",
      "Epoch 37/100\n",
      "28/28 [==============================] - ETA: 0s - loss: 40.0702 - mean_absolute_error: 40.070 - ETA: 0s - loss: 37.1428 - mean_absolute_error: 37.142 - ETA: 0s - loss: nan - mean_absolute_error: nan        - ETA: 0s - loss: nan - mean_absolute_error: na - 0s 9ms/step - loss: nan - mean_absolute_error: nan - val_loss: 33.4746 - val_mean_absolute_error: 33.4746\n",
      "Epoch 38/100\n",
      "28/28 [==============================] - ETA: 0s - loss: 25.7818 - mean_absolute_error: 25.781 - ETA: 0s - loss: 30.1381 - mean_absolute_error: 30.138 - ETA: 0s - loss: 32.6788 - mean_absolute_error: 32.678 - ETA: 0s - loss: nan - mean_absolute_error: nan        - 0s 9ms/step - loss: nan - mean_absolute_error: nan - val_loss: 33.7265 - val_mean_absolute_error: 33.7265\n",
      "Epoch 39/100\n",
      "28/28 [==============================] - ETA: 0s - loss: 31.9889 - mean_absolute_error: 31.988 - ETA: 0s - loss: nan - mean_absolute_error: nan        - ETA: 0s - loss: nan - mean_absolute_error: na - 0s 7ms/step - loss: nan - mean_absolute_error: nan - val_loss: 33.4941 - val_mean_absolute_error: 33.4941\n",
      "Epoch 40/100\n",
      "28/28 [==============================] - ETA: 0s - loss: 31.7993 - mean_absolute_error: 31.799 - ETA: 0s - loss: 33.8953 - mean_absolute_error: 33.895 - ETA: 0s - loss: 33.8412 - mean_absolute_error: 33.841 - 0s 7ms/step - loss: nan - mean_absolute_error: nan - val_loss: 34.3438 - val_mean_absolute_error: 34.3438\n",
      "Epoch 41/100\n",
      "28/28 [==============================] - ETA: 0s - loss: 33.7598 - mean_absolute_error: 33.759 - ETA: 0s - loss: 33.4086 - mean_absolute_error: 33.408 - ETA: 0s - loss: 32.8779 - mean_absolute_error: 32.877 - ETA: 0s - loss: nan - mean_absolute_error: nan        - 0s 9ms/step - loss: nan - mean_absolute_error: nan - val_loss: 33.4613 - val_mean_absolute_error: 33.4613\n",
      "Epoch 42/100\n",
      "28/28 [==============================] - ETA: 0s - loss: 34.6345 - mean_absolute_error: 34.634 - ETA: 0s - loss: 31.6355 - mean_absolute_error: 31.635 - ETA: 0s - loss: 32.9057 - mean_absolute_error: 32.905 - ETA: 0s - loss: nan - mean_absolute_error: nan        - 0s 9ms/step - loss: nan - mean_absolute_error: nan - val_loss: 33.2073 - val_mean_absolute_error: 33.2073\n",
      "Epoch 43/100\n",
      "28/28 [==============================] - ETA: 0s - loss: 26.0588 - mean_absolute_error: 26.058 - ETA: 0s - loss: nan - mean_absolute_error: nan        - ETA: 0s - loss: nan - mean_absolute_error: na - ETA: 0s - loss: nan - mean_absolute_error: na - 0s 9ms/step - loss: nan - mean_absolute_error: nan - val_loss: 33.4574 - val_mean_absolute_error: 33.4574\n",
      "Epoch 44/100\n",
      "28/28 [==============================] - ETA: 0s - loss: 29.9021 - mean_absolute_error: 29.902 - ETA: 0s - loss: 31.8355 - mean_absolute_error: 31.835 - ETA: 0s - loss: 31.8518 - mean_absolute_error: 31.851 - ETA: 0s - loss: nan - mean_absolute_error: nan        - 0s 9ms/step - loss: nan - mean_absolute_error: nan - val_loss: 33.1159 - val_mean_absolute_error: 33.1159\n",
      "Epoch 45/100\n",
      "28/28 [==============================] - ETA: 0s - loss: 34.2479 - mean_absolute_error: 34.247 - ETA: 0s - loss: 32.5592 - mean_absolute_error: 32.559 - ETA: 0s - loss: nan - mean_absolute_error: nan        - ETA: 0s - loss: nan - mean_absolute_error: na - 0s 8ms/step - loss: nan - mean_absolute_error: nan - val_loss: 32.5543 - val_mean_absolute_error: 32.5543\n"
     ]
    },
    {
     "name": "stdout",
     "output_type": "stream",
     "text": [
      "Epoch 46/100\n",
      "28/28 [==============================] - ETA: 0s - loss: 37.1133 - mean_absolute_error: 37.113 - ETA: 0s - loss: nan - mean_absolute_error: nan        - ETA: 0s - loss: nan - mean_absolute_error: na - 0s 7ms/step - loss: nan - mean_absolute_error: nan - val_loss: 32.7858 - val_mean_absolute_error: 32.7858\n",
      "Epoch 47/100\n",
      "28/28 [==============================] - ETA: 0s - loss: nan - mean_absolute_error: na - ETA: 0s - loss: nan - mean_absolute_error: na - ETA: 0s - loss: nan - mean_absolute_error: na - ETA: 0s - loss: nan - mean_absolute_error: na - 0s 8ms/step - loss: nan - mean_absolute_error: nan - val_loss: 32.8742 - val_mean_absolute_error: 32.8742\n",
      "Epoch 48/100\n",
      "28/28 [==============================] - ETA: 0s - loss: 33.6049 - mean_absolute_error: 33.604 - ETA: 0s - loss: nan - mean_absolute_error: nan        - ETA: 0s - loss: nan - mean_absolute_error: na - ETA: 0s - loss: nan - mean_absolute_error: na - 0s 9ms/step - loss: nan - mean_absolute_error: nan - val_loss: 32.7163 - val_mean_absolute_error: 32.7163\n",
      "Epoch 49/100\n",
      "28/28 [==============================] - ETA: 0s - loss: 44.4734 - mean_absolute_error: 44.473 - ETA: 0s - loss: 35.5190 - mean_absolute_error: 35.519 - ETA: 0s - loss: 33.5134 - mean_absolute_error: 33.513 - ETA: 0s - loss: nan - mean_absolute_error: nan        - ETA: 0s - loss: nan - mean_absolute_error: na - 0s 10ms/step - loss: nan - mean_absolute_error: nan - val_loss: 32.3452 - val_mean_absolute_error: 32.3452\n",
      "Epoch 50/100\n",
      "28/28 [==============================] - ETA: 0s - loss: 34.2951 - mean_absolute_error: 34.295 - ETA: 0s - loss: 33.6412 - mean_absolute_error: 33.641 - ETA: 0s - loss: nan - mean_absolute_error: nan        - ETA: 0s - loss: nan - mean_absolute_error: na - ETA: 0s - loss: nan - mean_absolute_error: na - 0s 11ms/step - loss: nan - mean_absolute_error: nan - val_loss: 32.1136 - val_mean_absolute_error: 32.1136\n",
      "Epoch 51/100\n",
      "28/28 [==============================] - ETA: 0s - loss: 25.8831 - mean_absolute_error: 25.883 - ETA: 0s - loss: 29.5136 - mean_absolute_error: 29.513 - ETA: 0s - loss: 30.9590 - mean_absolute_error: 30.959 - ETA: 0s - loss: 32.3050 - mean_absolute_error: 32.305 - ETA: 0s - loss: nan - mean_absolute_error: nan        - 0s 10ms/step - loss: nan - mean_absolute_error: nan - val_loss: 32.1718 - val_mean_absolute_error: 32.1718\n",
      "Epoch 52/100\n",
      "28/28 [==============================] - ETA: 0s - loss: 25.2888 - mean_absolute_error: 25.288 - ETA: 0s - loss: nan - mean_absolute_error: nan        - ETA: 0s - loss: nan - mean_absolute_error: na - ETA: 0s - loss: nan - mean_absolute_error: na - 0s 9ms/step - loss: nan - mean_absolute_error: nan - val_loss: 32.3864 - val_mean_absolute_error: 32.3864\n",
      "Epoch 53/100\n",
      "28/28 [==============================] - ETA: 0s - loss: 34.8300 - mean_absolute_error: 34.830 - ETA: 0s - loss: 35.3210 - mean_absolute_error: 35.321 - ETA: 0s - loss: nan - mean_absolute_error: nan        - ETA: 0s - loss: nan - mean_absolute_error: na - 0s 9ms/step - loss: nan - mean_absolute_error: nan - val_loss: 32.5195 - val_mean_absolute_error: 32.5195\n",
      "Epoch 54/100\n",
      "28/28 [==============================] - ETA: 0s - loss: 37.2311 - mean_absolute_error: 37.231 - ETA: 0s - loss: 34.6943 - mean_absolute_error: 34.694 - ETA: 0s - loss: nan - mean_absolute_error: nan        - ETA: 0s - loss: nan - mean_absolute_error: na - 0s 9ms/step - loss: nan - mean_absolute_error: nan - val_loss: 32.0020 - val_mean_absolute_error: 32.0020\n",
      "Epoch 55/100\n",
      "28/28 [==============================] - ETA: 0s - loss: nan - mean_absolute_error: na - ETA: 0s - loss: nan - mean_absolute_error: na - ETA: 0s - loss: nan - mean_absolute_error: na - 0s 7ms/step - loss: nan - mean_absolute_error: nan - val_loss: 31.8787 - val_mean_absolute_error: 31.8787\n",
      "Epoch 56/100\n",
      "28/28 [==============================] - ETA: 0s - loss: 25.0627 - mean_absolute_error: 25.062 - ETA: 0s - loss: 32.1741 - mean_absolute_error: 32.174 - ETA: 0s - loss: 32.1063 - mean_absolute_error: 32.106 - ETA: 0s - loss: nan - mean_absolute_error: nan        - 0s 9ms/step - loss: nan - mean_absolute_error: nan - val_loss: 31.8710 - val_mean_absolute_error: 31.8710\n",
      "Epoch 57/100\n",
      "28/28 [==============================] - ETA: 0s - loss: 31.1650 - mean_absolute_error: 31.165 - ETA: 0s - loss: 33.7038 - mean_absolute_error: 33.703 - ETA: 0s - loss: 32.2414 - mean_absolute_error: 32.241 - ETA: 0s - loss: 31.5147 - mean_absolute_error: 31.514 - 0s 10ms/step - loss: nan - mean_absolute_error: nan - val_loss: 32.4857 - val_mean_absolute_error: 32.4857\n",
      "Epoch 58/100\n",
      "28/28 [==============================] - ETA: 0s - loss: 35.1372 - mean_absolute_error: 35.137 - ETA: 0s - loss: 35.8248 - mean_absolute_error: 35.824 - ETA: 0s - loss: nan - mean_absolute_error: nan        - ETA: 0s - loss: nan - mean_absolute_error: na - ETA: 0s - loss: nan - mean_absolute_error: na - 0s 10ms/step - loss: nan - mean_absolute_error: nan - val_loss: 31.5418 - val_mean_absolute_error: 31.5418\n",
      "Epoch 59/100\n",
      "28/28 [==============================] - ETA: 0s - loss: 32.2648 - mean_absolute_error: 32.264 - ETA: 0s - loss: nan - mean_absolute_error: nan        - ETA: 0s - loss: nan - mean_absolute_error: na - ETA: 0s - loss: nan - mean_absolute_error: na - 0s 9ms/step - loss: nan - mean_absolute_error: nan - val_loss: 31.7189 - val_mean_absolute_error: 31.7189\n",
      "Epoch 60/100\n",
      "28/28 [==============================] - ETA: 0s - loss: 22.8902 - mean_absolute_error: 22.890 - ETA: 0s - loss: 29.2922 - mean_absolute_error: 29.292 - ETA: 0s - loss: nan - mean_absolute_error: nan        - ETA: 0s - loss: nan - mean_absolute_error: na - 0s 10ms/step - loss: nan - mean_absolute_error: nan - val_loss: 31.7076 - val_mean_absolute_error: 31.7076\n",
      "Epoch 61/100\n",
      "28/28 [==============================] - ETA: 0s - loss: 33.4415 - mean_absolute_error: 33.441 - ETA: 0s - loss: 31.5392 - mean_absolute_error: 31.539 - ETA: 0s - loss: 32.5590 - mean_absolute_error: 32.559 - ETA: 0s - loss: nan - mean_absolute_error: nan        - 0s 9ms/step - loss: nan - mean_absolute_error: nan - val_loss: 31.3479 - val_mean_absolute_error: 31.3479\n",
      "Epoch 62/100\n",
      "28/28 [==============================] - ETA: 0s - loss: 28.5919 - mean_absolute_error: 28.591 - ETA: 0s - loss: 28.8166 - mean_absolute_error: 28.816 - ETA: 0s - loss: 30.8603 - mean_absolute_error: 30.860 - ETA: 0s - loss: nan - mean_absolute_error: nan        - 0s 9ms/step - loss: nan - mean_absolute_error: nan - val_loss: 31.4931 - val_mean_absolute_error: 31.4931\n",
      "Epoch 63/100\n",
      "28/28 [==============================] - ETA: 0s - loss: 35.2738 - mean_absolute_error: 35.273 - ETA: 0s - loss: nan - mean_absolute_error: nan        - ETA: 0s - loss: nan - mean_absolute_error: na - 0s 7ms/step - loss: nan - mean_absolute_error: nan - val_loss: 31.7419 - val_mean_absolute_error: 31.7419\n",
      "Epoch 64/100\n",
      "28/28 [==============================] - ETA: 0s - loss: 35.2773 - mean_absolute_error: 35.277 - ETA: 0s - loss: 30.9762 - mean_absolute_error: 30.976 - ETA: 0s - loss: nan - mean_absolute_error: nan        - ETA: 0s - loss: nan - mean_absolute_error: na - 0s 9ms/step - loss: nan - mean_absolute_error: nan - val_loss: 32.0616 - val_mean_absolute_error: 32.0616\n",
      "Epoch 65/100\n",
      "28/28 [==============================] - ETA: 0s - loss: 41.0794 - mean_absolute_error: 41.079 - ETA: 0s - loss: nan - mean_absolute_error: nan        - ETA: 0s - loss: nan - mean_absolute_error: na - ETA: 0s - loss: nan - mean_absolute_error: na - 0s 9ms/step - loss: nan - mean_absolute_error: nan - val_loss: 32.8166 - val_mean_absolute_error: 32.8166\n",
      "Epoch 66/100\n",
      "28/28 [==============================] - ETA: 0s - loss: 30.1003 - mean_absolute_error: 30.100 - ETA: 0s - loss: 31.5217 - mean_absolute_error: 31.521 - ETA: 0s - loss: 32.3026 - mean_absolute_error: 32.302 - ETA: 0s - loss: nan - mean_absolute_error: nan        - 0s 9ms/step - loss: nan - mean_absolute_error: nan - val_loss: 30.9713 - val_mean_absolute_error: 30.9713\n",
      "Epoch 67/100\n",
      "28/28 [==============================] - ETA: 0s - loss: 30.8224 - mean_absolute_error: 30.822 - ETA: 0s - loss: nan - mean_absolute_error: nan        - ETA: 0s - loss: nan - mean_absolute_error: na - ETA: 0s - loss: nan - mean_absolute_error: na - 0s 9ms/step - loss: nan - mean_absolute_error: nan - val_loss: 31.0925 - val_mean_absolute_error: 31.0925\n"
     ]
    },
    {
     "name": "stdout",
     "output_type": "stream",
     "text": [
      "Epoch 68/100\n",
      "28/28 [==============================] - ETA: 0s - loss: 38.5126 - mean_absolute_error: 38.512 - ETA: 0s - loss: 30.8683 - mean_absolute_error: 30.868 - ETA: 0s - loss: 29.0158 - mean_absolute_error: 29.015 - ETA: 0s - loss: 28.3289 - mean_absolute_error: 28.328 - 0s 9ms/step - loss: nan - mean_absolute_error: nan - val_loss: 30.8345 - val_mean_absolute_error: 30.8345\n",
      "Epoch 69/100\n",
      "28/28 [==============================] - ETA: 0s - loss: 28.9997 - mean_absolute_error: 28.999 - ETA: 0s - loss: 31.5112 - mean_absolute_error: 31.511 - ETA: 0s - loss: nan - mean_absolute_error: nan        - ETA: 0s - loss: nan - mean_absolute_error: na - 0s 9ms/step - loss: nan - mean_absolute_error: nan - val_loss: 31.0207 - val_mean_absolute_error: 31.0207\n",
      "Epoch 70/100\n",
      "28/28 [==============================] - ETA: 0s - loss: 30.9799 - mean_absolute_error: 30.979 - ETA: 0s - loss: 33.1883 - mean_absolute_error: 33.188 - ETA: 0s - loss: 30.6695 - mean_absolute_error: 30.669 - ETA: 0s - loss: 29.5943 - mean_absolute_error: 29.594 - 0s 9ms/step - loss: nan - mean_absolute_error: nan - val_loss: 30.9189 - val_mean_absolute_error: 30.9189\n",
      "Epoch 71/100\n",
      "28/28 [==============================] - ETA: 0s - loss: 41.0092 - mean_absolute_error: 41.009 - ETA: 0s - loss: 32.4520 - mean_absolute_error: 32.452 - ETA: 0s - loss: 30.3673 - mean_absolute_error: 30.367 - ETA: 0s - loss: 29.6289 - mean_absolute_error: 29.628 - ETA: 0s - loss: nan - mean_absolute_error: nan        - 0s 10ms/step - loss: nan - mean_absolute_error: nan - val_loss: 30.8227 - val_mean_absolute_error: 30.8227\n",
      "Epoch 72/100\n",
      "28/28 [==============================] - ETA: 0s - loss: 17.5493 - mean_absolute_error: 17.549 - ETA: 0s - loss: 26.9229 - mean_absolute_error: 26.922 - ETA: 0s - loss: 29.0478 - mean_absolute_error: 29.047 - ETA: 0s - loss: nan - mean_absolute_error: nan        - ETA: 0s - loss: nan - mean_absolute_error: na - 0s 10ms/step - loss: nan - mean_absolute_error: nan - val_loss: 30.6693 - val_mean_absolute_error: 30.6693\n",
      "Epoch 73/100\n",
      "28/28 [==============================] - ETA: 0s - loss: 25.3623 - mean_absolute_error: 25.362 - ETA: 0s - loss: nan - mean_absolute_error: nan        - ETA: 0s - loss: nan - mean_absolute_error: na - ETA: 0s - loss: nan - mean_absolute_error: na - ETA: 0s - loss: nan - mean_absolute_error: na - 0s 10ms/step - loss: nan - mean_absolute_error: nan - val_loss: 30.7703 - val_mean_absolute_error: 30.7703\n",
      "Epoch 74/100\n",
      "28/28 [==============================] - ETA: 0s - loss: 26.6894 - mean_absolute_error: 26.689 - ETA: 0s - loss: 28.7081 - mean_absolute_error: 28.708 - ETA: 0s - loss: nan - mean_absolute_error: nan        - ETA: 0s - loss: nan - mean_absolute_error: na - 0s 9ms/step - loss: nan - mean_absolute_error: nan - val_loss: 30.2497 - val_mean_absolute_error: 30.2497\n",
      "Epoch 75/100\n",
      "28/28 [==============================] - ETA: 0s - loss: 25.0184 - mean_absolute_error: 25.018 - ETA: 0s - loss: 32.7266 - mean_absolute_error: 32.726 - ETA: 0s - loss: 31.0381 - mean_absolute_error: 31.038 - ETA: 0s - loss: nan - mean_absolute_error: nan        - 0s 9ms/step - loss: nan - mean_absolute_error: nan - val_loss: 30.8314 - val_mean_absolute_error: 30.8314\n",
      "Epoch 76/100\n",
      "28/28 [==============================] - ETA: 0s - loss: 30.0619 - mean_absolute_error: 30.061 - ETA: 0s - loss: 33.3124 - mean_absolute_error: 33.312 - ETA: 0s - loss: nan - mean_absolute_error: nan        - ETA: 0s - loss: nan - mean_absolute_error: na - 0s 9ms/step - loss: nan - mean_absolute_error: nan - val_loss: 30.3866 - val_mean_absolute_error: 30.3866\n",
      "Epoch 77/100\n",
      "28/28 [==============================] - ETA: 0s - loss: 30.7452 - mean_absolute_error: 30.745 - ETA: 0s - loss: 29.7441 - mean_absolute_error: 29.744 - ETA: 0s - loss: 28.9158 - mean_absolute_error: 28.915 - ETA: 0s - loss: nan - mean_absolute_error: nan        - 0s 8ms/step - loss: nan - mean_absolute_error: nan - val_loss: 30.3862 - val_mean_absolute_error: 30.3862\n",
      "Epoch 78/100\n",
      "28/28 [==============================] - ETA: 0s - loss: 38.6077 - mean_absolute_error: 38.607 - ETA: 0s - loss: 29.2757 - mean_absolute_error: 29.275 - ETA: 0s - loss: nan - mean_absolute_error: nan        - 0s 6ms/step - loss: nan - mean_absolute_error: nan - val_loss: 30.2605 - val_mean_absolute_error: 30.2605\n",
      "Epoch 79/100\n",
      "28/28 [==============================] - ETA: 0s - loss: 40.8091 - mean_absolute_error: 40.809 - ETA: 0s - loss: nan - mean_absolute_error: nan        - ETA: 0s - loss: nan - mean_absolute_error: na - ETA: 0s - loss: nan - mean_absolute_error: na - ETA: 0s - loss: nan - mean_absolute_error: na - 0s 10ms/step - loss: nan - mean_absolute_error: nan - val_loss: 30.1937 - val_mean_absolute_error: 30.1937\n",
      "Epoch 80/100\n",
      "28/28 [==============================] - ETA: 0s - loss: 23.9654 - mean_absolute_error: 23.965 - ETA: 0s - loss: 27.2312 - mean_absolute_error: 27.231 - ETA: 0s - loss: nan - mean_absolute_error: nan        - ETA: 0s - loss: nan - mean_absolute_error: na - 0s 9ms/step - loss: nan - mean_absolute_error: nan - val_loss: 30.2151 - val_mean_absolute_error: 30.2151\n",
      "Epoch 81/100\n",
      "28/28 [==============================] - ETA: 0s - loss: 29.3375 - mean_absolute_error: 29.337 - ETA: 0s - loss: 28.8283 - mean_absolute_error: 28.828 - ETA: 0s - loss: nan - mean_absolute_error: nan        - ETA: 0s - loss: nan - mean_absolute_error: na - 0s 9ms/step - loss: nan - mean_absolute_error: nan - val_loss: 29.9208 - val_mean_absolute_error: 29.9208\n",
      "Epoch 82/100\n",
      "28/28 [==============================] - ETA: 0s - loss: nan - mean_absolute_error: na - ETA: 0s - loss: nan - mean_absolute_error: na - ETA: 0s - loss: nan - mean_absolute_error: na - ETA: 0s - loss: nan - mean_absolute_error: na - 0s 9ms/step - loss: nan - mean_absolute_error: nan - val_loss: 30.2583 - val_mean_absolute_error: 30.2583\n",
      "Epoch 83/100\n",
      "28/28 [==============================] - ETA: 0s - loss: 32.3407 - mean_absolute_error: 32.340 - ETA: 0s - loss: nan - mean_absolute_error: nan        - ETA: 0s - loss: nan - mean_absolute_error: na - ETA: 0s - loss: nan - mean_absolute_error: na - 0s 9ms/step - loss: nan - mean_absolute_error: nan - val_loss: 30.4027 - val_mean_absolute_error: 30.4027\n",
      "Epoch 84/100\n",
      "28/28 [==============================] - ETA: 0s - loss: 35.1372 - mean_absolute_error: 35.137 - ETA: 0s - loss: nan - mean_absolute_error: nan        - ETA: 0s - loss: nan - mean_absolute_error: na - ETA: 0s - loss: nan - mean_absolute_error: na - 0s 9ms/step - loss: nan - mean_absolute_error: nan - val_loss: 29.8977 - val_mean_absolute_error: 29.8977\n",
      "Epoch 85/100\n",
      "28/28 [==============================] - ETA: 0s - loss: nan - mean_absolute_error: na - ETA: 0s - loss: nan - mean_absolute_error: na - ETA: 0s - loss: nan - mean_absolute_error: na - ETA: 0s - loss: nan - mean_absolute_error: na - 0s 9ms/step - loss: nan - mean_absolute_error: nan - val_loss: 29.9166 - val_mean_absolute_error: 29.9166\n",
      "Epoch 86/100\n",
      "28/28 [==============================] - ETA: 0s - loss: 35.2012 - mean_absolute_error: 35.201 - ETA: 0s - loss: nan - mean_absolute_error: nan        - ETA: 0s - loss: nan - mean_absolute_error: na - ETA: 0s - loss: nan - mean_absolute_error: na - 0s 9ms/step - loss: nan - mean_absolute_error: nan - val_loss: 30.8780 - val_mean_absolute_error: 30.8780\n",
      "Epoch 87/100\n",
      "28/28 [==============================] - ETA: 0s - loss: 31.9324 - mean_absolute_error: 31.932 - ETA: 0s - loss: 29.9706 - mean_absolute_error: 29.970 - ETA: 0s - loss: nan - mean_absolute_error: nan        - ETA: 0s - loss: nan - mean_absolute_error: na - ETA: 0s - loss: nan - mean_absolute_error: na - 0s 10ms/step - loss: nan - mean_absolute_error: nan - val_loss: 30.4403 - val_mean_absolute_error: 30.4403\n",
      "Epoch 88/100\n",
      "28/28 [==============================] - ETA: 0s - loss: 24.1045 - mean_absolute_error: 24.104 - ETA: 0s - loss: 31.2752 - mean_absolute_error: 31.275 - ETA: 0s - loss: nan - mean_absolute_error: nan        - ETA: 0s - loss: nan - mean_absolute_error: na - 0s 9ms/step - loss: nan - mean_absolute_error: nan - val_loss: 29.7479 - val_mean_absolute_error: 29.7479\n",
      "Epoch 89/100\n"
     ]
    },
    {
     "name": "stdout",
     "output_type": "stream",
     "text": [
      "28/28 [==============================] - ETA: 0s - loss: 39.4077 - mean_absolute_error: 39.407 - ETA: 0s - loss: 28.3447 - mean_absolute_error: 28.344 - ETA: 0s - loss: nan - mean_absolute_error: nan        - ETA: 0s - loss: nan - mean_absolute_error: na - 0s 8ms/step - loss: nan - mean_absolute_error: nan - val_loss: 29.6778 - val_mean_absolute_error: 29.6778\n",
      "Epoch 90/100\n",
      "28/28 [==============================] - ETA: 0s - loss: 25.5095 - mean_absolute_error: 25.509 - ETA: 0s - loss: nan - mean_absolute_error: nan        - ETA: 0s - loss: nan - mean_absolute_error: na - ETA: 0s - loss: nan - mean_absolute_error: na - 0s 10ms/step - loss: nan - mean_absolute_error: nan - val_loss: 29.5706 - val_mean_absolute_error: 29.5706\n",
      "Epoch 91/100\n",
      "28/28 [==============================] - ETA: 0s - loss: 26.3324 - mean_absolute_error: 26.332 - ETA: 0s - loss: 31.1950 - mean_absolute_error: 31.195 - ETA: 0s - loss: 29.4567 - mean_absolute_error: 29.456 - ETA: 0s - loss: nan - mean_absolute_error: nan        - 0s 9ms/step - loss: nan - mean_absolute_error: nan - val_loss: 29.6107 - val_mean_absolute_error: 29.6107\n",
      "Epoch 92/100\n",
      "28/28 [==============================] - ETA: 0s - loss: 33.0799 - mean_absolute_error: 33.079 - ETA: 0s - loss: 29.1784 - mean_absolute_error: 29.178 - ETA: 0s - loss: 27.5963 - mean_absolute_error: 27.596 - ETA: 0s - loss: nan - mean_absolute_error: nan        - 0s 9ms/step - loss: nan - mean_absolute_error: nan - val_loss: 30.0255 - val_mean_absolute_error: 30.0255\n",
      "Epoch 93/100\n",
      "28/28 [==============================] - ETA: 0s - loss: 29.0935 - mean_absolute_error: 29.093 - ETA: 0s - loss: 25.5239 - mean_absolute_error: 25.523 - ETA: 0s - loss: nan - mean_absolute_error: nan        - ETA: 0s - loss: nan - mean_absolute_error: na - 0s 8ms/step - loss: nan - mean_absolute_error: nan - val_loss: 29.5877 - val_mean_absolute_error: 29.5877\n",
      "Epoch 94/100\n",
      "28/28 [==============================] - ETA: 0s - loss: 21.8693 - mean_absolute_error: 21.869 - ETA: 0s - loss: 27.1951 - mean_absolute_error: 27.195 - ETA: 0s - loss: 26.6494 - mean_absolute_error: 26.649 - ETA: 0s - loss: nan - mean_absolute_error: nan        - ETA: 0s - loss: nan - mean_absolute_error: na - 0s 10ms/step - loss: nan - mean_absolute_error: nan - val_loss: 29.7367 - val_mean_absolute_error: 29.7367\n",
      "Epoch 95/100\n",
      "28/28 [==============================] - ETA: 0s - loss: 30.2905 - mean_absolute_error: 30.290 - ETA: 0s - loss: 31.1151 - mean_absolute_error: 31.115 - ETA: 0s - loss: nan - mean_absolute_error: nan        - ETA: 0s - loss: nan - mean_absolute_error: na - 0s 9ms/step - loss: nan - mean_absolute_error: nan - val_loss: 29.2889 - val_mean_absolute_error: 29.2889\n",
      "Epoch 96/100\n",
      "28/28 [==============================] - ETA: 0s - loss: 22.7276 - mean_absolute_error: 22.727 - ETA: 0s - loss: 26.6327 - mean_absolute_error: 26.632 - ETA: 0s - loss: nan - mean_absolute_error: nan        - ETA: 0s - loss: nan - mean_absolute_error: na - 0s 9ms/step - loss: nan - mean_absolute_error: nan - val_loss: 31.1171 - val_mean_absolute_error: 31.1171\n",
      "Epoch 97/100\n",
      "28/28 [==============================] - ETA: 0s - loss: 29.6226 - mean_absolute_error: 29.622 - ETA: 0s - loss: nan - mean_absolute_error: nan        - ETA: 0s - loss: nan - mean_absolute_error: na - ETA: 0s - loss: nan - mean_absolute_error: na - 0s 9ms/step - loss: nan - mean_absolute_error: nan - val_loss: 29.3292 - val_mean_absolute_error: 29.3292\n",
      "Epoch 98/100\n",
      "28/28 [==============================] - ETA: 0s - loss: 31.2381 - mean_absolute_error: 31.238 - ETA: 0s - loss: 24.5332 - mean_absolute_error: 24.533 - ETA: 0s - loss: nan - mean_absolute_error: nan        - ETA: 0s - loss: nan - mean_absolute_error: na - 0s 9ms/step - loss: nan - mean_absolute_error: nan - val_loss: 29.6994 - val_mean_absolute_error: 29.6994\n",
      "Epoch 99/100\n",
      "28/28 [==============================] - ETA: 0s - loss: 35.3501 - mean_absolute_error: 35.350 - ETA: 0s - loss: 28.1542 - mean_absolute_error: 28.154 - ETA: 0s - loss: 26.3972 - mean_absolute_error: 26.397 - ETA: 0s - loss: 26.7425 - mean_absolute_error: 26.742 - ETA: 0s - loss: nan - mean_absolute_error: nan        - 0s 10ms/step - loss: nan - mean_absolute_error: nan - val_loss: 29.7385 - val_mean_absolute_error: 29.7385\n",
      "Epoch 100/100\n",
      "28/28 [==============================] - ETA: 0s - loss: 31.9763 - mean_absolute_error: 31.976 - ETA: 0s - loss: nan - mean_absolute_error: nan        - ETA: 0s - loss: nan - mean_absolute_error: na - ETA: 0s - loss: nan - mean_absolute_error: na - ETA: 0s - loss: nan - mean_absolute_error: na - 0s 10ms/step - loss: nan - mean_absolute_error: nan - val_loss: 29.1216 - val_mean_absolute_error: 29.1216\n"
     ]
    },
    {
     "data": {
      "text/html": [
       "<span style=\"color:#4527A0\"><h1 style=\"font-size:18px\">Trial complete</h1></span>"
      ],
      "text/plain": [
       "<IPython.core.display.HTML object>"
      ]
     },
     "metadata": {},
     "output_type": "display_data"
    },
    {
     "data": {
      "text/html": [
       "<span style=\"color:#4527A0\"><h1 style=\"font-size:18px\">Trial summary</h1></span>"
      ],
      "text/plain": [
       "<IPython.core.display.HTML object>"
      ]
     },
     "metadata": {},
     "output_type": "display_data"
    },
    {
     "data": {
      "text/html": [
       "<span style=\"color:cyan\"> |-Trial ID: 6bcaef2fd5bd0a6b9e7578e61c82aa8b</span>"
      ],
      "text/plain": [
       "<IPython.core.display.HTML object>"
      ]
     },
     "metadata": {},
     "output_type": "display_data"
    },
    {
     "data": {
      "text/html": [
       "<span style=\"color:cyan\"> |-Score: 28.106918970743816</span>"
      ],
      "text/plain": [
       "<IPython.core.display.HTML object>"
      ]
     },
     "metadata": {},
     "output_type": "display_data"
    },
    {
     "data": {
      "text/html": [
       "<span style=\"color:cyan\"> |-Best step: 0</span>"
      ],
      "text/plain": [
       "<IPython.core.display.HTML object>"
      ]
     },
     "metadata": {},
     "output_type": "display_data"
    },
    {
     "data": {
      "text/html": [
       "<span style=\"color:#7E57C2\"><h2 style=\"font-size:16px\">Hyperparameters:</h2></span>"
      ],
      "text/plain": [
       "<IPython.core.display.HTML object>"
      ]
     },
     "metadata": {},
     "output_type": "display_data"
    },
    {
     "data": {
      "text/html": [
       "<span style=\"color:cyan\"> |-learning_rate: 0.0001</span>"
      ],
      "text/plain": [
       "<IPython.core.display.HTML object>"
      ]
     },
     "metadata": {},
     "output_type": "display_data"
    },
    {
     "data": {
      "text/html": [
       "<span style=\"color:blue\"> |-num_layers: 7</span>"
      ],
      "text/plain": [
       "<IPython.core.display.HTML object>"
      ]
     },
     "metadata": {},
     "output_type": "display_data"
    },
    {
     "data": {
      "text/html": [
       "<span style=\"color:cyan\"> |-units_0: 256</span>"
      ],
      "text/plain": [
       "<IPython.core.display.HTML object>"
      ]
     },
     "metadata": {},
     "output_type": "display_data"
    },
    {
     "data": {
      "text/html": [
       "<span style=\"color:blue\"> |-units_1: 384</span>"
      ],
      "text/plain": [
       "<IPython.core.display.HTML object>"
      ]
     },
     "metadata": {},
     "output_type": "display_data"
    },
    {
     "data": {
      "text/html": [
       "<span style=\"color:cyan\"> |-units_2: 320</span>"
      ],
      "text/plain": [
       "<IPython.core.display.HTML object>"
      ]
     },
     "metadata": {},
     "output_type": "display_data"
    },
    {
     "data": {
      "text/html": [
       "<span style=\"color:blue\"> |-units_3: 480</span>"
      ],
      "text/plain": [
       "<IPython.core.display.HTML object>"
      ]
     },
     "metadata": {},
     "output_type": "display_data"
    },
    {
     "data": {
      "text/html": [
       "<span style=\"color:cyan\"> |-units_4: 384</span>"
      ],
      "text/plain": [
       "<IPython.core.display.HTML object>"
      ]
     },
     "metadata": {},
     "output_type": "display_data"
    },
    {
     "data": {
      "text/html": [
       "<span style=\"color:blue\"> |-units_5: 32</span>"
      ],
      "text/plain": [
       "<IPython.core.display.HTML object>"
      ]
     },
     "metadata": {},
     "output_type": "display_data"
    },
    {
     "data": {
      "text/html": [
       "<span style=\"color:cyan\"> |-units_6: 32</span>"
      ],
      "text/plain": [
       "<IPython.core.display.HTML object>"
      ]
     },
     "metadata": {},
     "output_type": "display_data"
    },
    {
     "name": "stdout",
     "output_type": "stream",
     "text": [
      "Epoch 1/100\n",
      "28/28 [==============================] - ETA: 0s - loss: 99.5352 - mean_absolute_error: 99.535 - ETA: 0s - loss: nan - mean_absolute_error: nan        - ETA: 0s - loss: nan - mean_absolute_error: na - ETA: 0s - loss: nan - mean_absolute_error: na - ETA: 0s - loss: nan - mean_absolute_error: na - 1s 30ms/step - loss: nan - mean_absolute_error: nan - val_loss: 104.8756 - val_mean_absolute_error: 104.8756\n",
      "Epoch 2/100\n",
      "28/28 [==============================] - ETA: 0s - loss: 103.7844 - mean_absolute_error: 103.784 - ETA: 0s - loss: 115.4752 - mean_absolute_error: 115.475 - ETA: 0s - loss: 111.4851 - mean_absolute_error: 111.485 - ETA: 0s - loss: 94.0979 - mean_absolute_error: 94.0979  - ETA: 0s - loss: nan - mean_absolute_error: nan        - 1s 20ms/step - loss: nan - mean_absolute_error: nan - val_loss: 50.0157 - val_mean_absolute_error: 50.0157\n",
      "Epoch 3/100\n",
      "28/28 [==============================] - ETA: 0s - loss: 39.9716 - mean_absolute_error: 39.971 - ETA: 0s - loss: 53.7718 - mean_absolute_error: 53.771 - ETA: 0s - loss: 56.1868 - mean_absolute_error: 56.186 - ETA: 0s - loss: nan - mean_absolute_error: nan        - ETA: 0s - loss: nan - mean_absolute_error: na - 1s 20ms/step - loss: nan - mean_absolute_error: nan - val_loss: 41.2686 - val_mean_absolute_error: 41.2686\n",
      "Epoch 4/100\n",
      "28/28 [==============================] - ETA: 0s - loss: 42.7333 - mean_absolute_error: 42.733 - ETA: 0s - loss: nan - mean_absolute_error: nan        - ETA: 0s - loss: nan - mean_absolute_error: na - ETA: 0s - loss: nan - mean_absolute_error: na - ETA: 0s - loss: nan - mean_absolute_error: na - 0s 11ms/step - loss: nan - mean_absolute_error: nan - val_loss: 43.8968 - val_mean_absolute_error: 43.8968\n",
      "Epoch 5/100\n",
      "28/28 [==============================] - ETA: 0s - loss: 39.4187 - mean_absolute_error: 39.418 - ETA: 0s - loss: 40.5776 - mean_absolute_error: 40.577 - ETA: 0s - loss: 39.3175 - mean_absolute_error: 39.317 - ETA: 0s - loss: nan - mean_absolute_error: nan        - ETA: 0s - loss: nan - mean_absolute_error: na - 1s 20ms/step - loss: nan - mean_absolute_error: nan - val_loss: 38.9958 - val_mean_absolute_error: 38.9958\n",
      "Epoch 6/100\n",
      "28/28 [==============================] - ETA: 0s - loss: 31.1309 - mean_absolute_error: 31.130 - ETA: 0s - loss: nan - mean_absolute_error: nan        - ETA: 0s - loss: nan - mean_absolute_error: na - ETA: 0s - loss: nan - mean_absolute_error: na - ETA: 0s - loss: nan - mean_absolute_error: na - 1s 21ms/step - loss: nan - mean_absolute_error: nan - val_loss: 37.7662 - val_mean_absolute_error: 37.7662\n",
      "Epoch 7/100\n",
      "28/28 [==============================] - ETA: 0s - loss: 42.6992 - mean_absolute_error: 42.699 - ETA: 0s - loss: 36.8367 - mean_absolute_error: 36.836 - ETA: 0s - loss: nan - mean_absolute_error: nan        - ETA: 0s - loss: nan - mean_absolute_error: na - ETA: 0s - loss: nan - mean_absolute_error: na - 1s 21ms/step - loss: nan - mean_absolute_error: nan - val_loss: 36.3660 - val_mean_absolute_error: 36.3660\n",
      "Epoch 8/100\n",
      "28/28 [==============================] - ETA: 0s - loss: 52.8962 - mean_absolute_error: 52.896 - ETA: 0s - loss: nan - mean_absolute_error: nan        - ETA: 0s - loss: nan - mean_absolute_error: na - ETA: 0s - loss: nan - mean_absolute_error: na - ETA: 0s - loss: nan - mean_absolute_error: na - 1s 20ms/step - loss: nan - mean_absolute_error: nan - val_loss: 35.5538 - val_mean_absolute_error: 35.5538\n",
      "Epoch 9/100\n",
      "28/28 [==============================] - ETA: 0s - loss: 26.5193 - mean_absolute_error: 26.519 - ETA: 0s - loss: 36.7091 - mean_absolute_error: 36.709 - ETA: 0s - loss: 37.9872 - mean_absolute_error: 37.987 - ETA: 0s - loss: 36.2642 - mean_absolute_error: 36.264 - ETA: 0s - loss: nan - mean_absolute_error: nan        - 1s 20ms/step - loss: nan - mean_absolute_error: nan - val_loss: 34.8413 - val_mean_absolute_error: 34.8413\n",
      "Epoch 10/100\n",
      "28/28 [==============================] - ETA: 0s - loss: 49.1605 - mean_absolute_error: 49.160 - ETA: 0s - loss: 35.8874 - mean_absolute_error: 35.887 - ETA: 0s - loss: nan - mean_absolute_error: nan        - ETA: 0s - loss: nan - mean_absolute_error: na - ETA: 0s - loss: nan - mean_absolute_error: na - 0s 10ms/step - loss: nan - mean_absolute_error: nan - val_loss: 36.4563 - val_mean_absolute_error: 36.4563\n",
      "Epoch 11/100\n",
      "28/28 [==============================] - ETA: 0s - loss: 39.4334 - mean_absolute_error: 39.433 - ETA: 0s - loss: 36.4434 - mean_absolute_error: 36.443 - ETA: 0s - loss: 36.4230 - mean_absolute_error: 36.423 - ETA: 0s - loss: 37.8702 - mean_absolute_error: 37.870 - ETA: 0s - loss: nan - mean_absolute_error: nan        - 0s 10ms/step - loss: nan - mean_absolute_error: nan - val_loss: 46.2607 - val_mean_absolute_error: 46.2607\n",
      "Epoch 12/100\n",
      "28/28 [==============================] - ETA: 0s - loss: 34.0382 - mean_absolute_error: 34.038 - ETA: 0s - loss: nan - mean_absolute_error: nan        - ETA: 0s - loss: nan - mean_absolute_error: na - ETA: 0s - loss: nan - mean_absolute_error: na - 0s 10ms/step - loss: nan - mean_absolute_error: nan - val_loss: 37.4151 - val_mean_absolute_error: 37.4151\n",
      "Epoch 13/100\n",
      "28/28 [==============================] - ETA: 0s - loss: 32.3333 - mean_absolute_error: 32.333 - ETA: 0s - loss: 38.3808 - mean_absolute_error: 38.380 - ETA: 0s - loss: 36.8412 - mean_absolute_error: 36.841 - ETA: 0s - loss: 36.7984 - mean_absolute_error: 36.798 - ETA: 0s - loss: nan - mean_absolute_error: nan        - 1s 20ms/step - loss: nan - mean_absolute_error: nan - val_loss: 32.5360 - val_mean_absolute_error: 32.5360\n",
      "Epoch 14/100\n",
      "28/28 [==============================] - ETA: 0s - loss: 42.6076 - mean_absolute_error: 42.607 - ETA: 0s - loss: 35.9455 - mean_absolute_error: 35.945 - ETA: 0s - loss: nan - mean_absolute_error: nan        - ETA: 0s - loss: nan - mean_absolute_error: na - ETA: 0s - loss: nan - mean_absolute_error: na - 0s 11ms/step - loss: nan - mean_absolute_error: nan - val_loss: 33.3324 - val_mean_absolute_error: 33.3324\n",
      "Epoch 15/100\n",
      "28/28 [==============================] - ETA: 0s - loss: 33.6304 - mean_absolute_error: 33.630 - ETA: 0s - loss: 30.3654 - mean_absolute_error: 30.365 - ETA: 0s - loss: 32.3990 - mean_absolute_error: 32.399 - ETA: 0s - loss: 33.7363 - mean_absolute_error: 33.736 - ETA: 0s - loss: nan - mean_absolute_error: nan        - 0s 11ms/step - loss: nan - mean_absolute_error: nan - val_loss: 33.1684 - val_mean_absolute_error: 33.1684\n",
      "Epoch 16/100\n",
      "28/28 [==============================] - ETA: 0s - loss: 28.8667 - mean_absolute_error: 28.866 - ETA: 0s - loss: nan - mean_absolute_error: nan        - ETA: 0s - loss: nan - mean_absolute_error: na - ETA: 0s - loss: nan - mean_absolute_error: na - ETA: 0s - loss: nan - mean_absolute_error: na - 0s 11ms/step - loss: nan - mean_absolute_error: nan - val_loss: 33.3806 - val_mean_absolute_error: 33.3806\n",
      "Epoch 17/100\n",
      "28/28 [==============================] - ETA: 0s - loss: 30.5549 - mean_absolute_error: 30.554 - ETA: 0s - loss: 34.9774 - mean_absolute_error: 34.977 - ETA: 0s - loss: 34.2972 - mean_absolute_error: 34.297 - ETA: 0s - loss: nan - mean_absolute_error: nan        - 0s 9ms/step - loss: nan - mean_absolute_error: nan - val_loss: 39.7580 - val_mean_absolute_error: 39.7580\n",
      "Epoch 18/100\n",
      "28/28 [==============================] - ETA: 0s - loss: 35.6580 - mean_absolute_error: 35.658 - ETA: 0s - loss: 32.9594 - mean_absolute_error: 32.959 - ETA: 0s - loss: nan - mean_absolute_error: nan        - ETA: 0s - loss: nan - mean_absolute_error: na - ETA: 0s - loss: nan - mean_absolute_error: na - 1s 19ms/step - loss: nan - mean_absolute_error: nan - val_loss: 31.9516 - val_mean_absolute_error: 31.9516\n",
      "Epoch 19/100\n",
      "28/28 [==============================] - ETA: 0s - loss: 36.3593 - mean_absolute_error: 36.359 - ETA: 0s - loss: nan - mean_absolute_error: nan        - ETA: 0s - loss: nan - mean_absolute_error: na - ETA: 0s - loss: nan - mean_absolute_error: na - ETA: 0s - loss: nan - mean_absolute_error: na - 0s 11ms/step - loss: nan - mean_absolute_error: nan - val_loss: 33.8555 - val_mean_absolute_error: 33.8555\n",
      "Epoch 20/100\n"
     ]
    },
    {
     "name": "stdout",
     "output_type": "stream",
     "text": [
      "28/28 [==============================] - ETA: 0s - loss: 32.7526 - mean_absolute_error: 32.752 - ETA: 0s - loss: 32.0559 - mean_absolute_error: 32.055 - ETA: 0s - loss: 31.8653 - mean_absolute_error: 31.865 - ETA: 0s - loss: nan - mean_absolute_error: nan        - ETA: 0s - loss: nan - mean_absolute_error: na - 0s 11ms/step - loss: nan - mean_absolute_error: nan - val_loss: 32.6634 - val_mean_absolute_error: 32.6634\n",
      "Epoch 21/100\n",
      "28/28 [==============================] - ETA: 0s - loss: 24.2102 - mean_absolute_error: 24.210 - ETA: 0s - loss: nan - mean_absolute_error: nan        - ETA: 0s - loss: nan - mean_absolute_error: na - ETA: 0s - loss: nan - mean_absolute_error: na - ETA: 0s - loss: nan - mean_absolute_error: na - 0s 11ms/step - loss: nan - mean_absolute_error: nan - val_loss: 32.5242 - val_mean_absolute_error: 32.5242\n",
      "Epoch 22/100\n",
      "28/28 [==============================] - ETA: 0s - loss: 30.5941 - mean_absolute_error: 30.594 - ETA: 0s - loss: nan - mean_absolute_error: nan        - ETA: 0s - loss: nan - mean_absolute_error: na - ETA: 0s - loss: nan - mean_absolute_error: na - ETA: 0s - loss: nan - mean_absolute_error: na - 1s 22ms/step - loss: nan - mean_absolute_error: nan - val_loss: 31.4927 - val_mean_absolute_error: 31.4927\n",
      "Epoch 23/100\n",
      "28/28 [==============================] - ETA: 0s - loss: 19.3459 - mean_absolute_error: 19.345 - ETA: 0s - loss: 33.0619 - mean_absolute_error: 33.061 - ETA: 0s - loss: 34.2905 - mean_absolute_error: 34.290 - ETA: 0s - loss: 34.8656 - mean_absolute_error: 34.865 - ETA: 0s - loss: nan - mean_absolute_error: nan        - 0s 11ms/step - loss: nan - mean_absolute_error: nan - val_loss: 39.5463 - val_mean_absolute_error: 39.5463\n",
      "Epoch 24/100\n",
      "28/28 [==============================] - ETA: 0s - loss: 41.0843 - mean_absolute_error: 41.084 - ETA: 0s - loss: 34.3953 - mean_absolute_error: 34.395 - ETA: 0s - loss: 32.3113 - mean_absolute_error: 32.311 - ETA: 0s - loss: nan - mean_absolute_error: nan        - ETA: 0s - loss: nan - mean_absolute_error: na - 0s 11ms/step - loss: nan - mean_absolute_error: nan - val_loss: 32.1395 - val_mean_absolute_error: 32.1395\n",
      "Epoch 25/100\n",
      "28/28 [==============================] - ETA: 0s - loss: 36.5959 - mean_absolute_error: 36.595 - ETA: 0s - loss: 33.0760 - mean_absolute_error: 33.076 - ETA: 0s - loss: nan - mean_absolute_error: nan        - ETA: 0s - loss: nan - mean_absolute_error: na - ETA: 0s - loss: nan - mean_absolute_error: na - 0s 11ms/step - loss: nan - mean_absolute_error: nan - val_loss: 33.0126 - val_mean_absolute_error: 33.0126\n",
      "Epoch 26/100\n",
      "28/28 [==============================] - ETA: 0s - loss: nan - mean_absolute_error: na - ETA: 0s - loss: nan - mean_absolute_error: na - ETA: 0s - loss: nan - mean_absolute_error: na - ETA: 0s - loss: nan - mean_absolute_error: na - ETA: 0s - loss: nan - mean_absolute_error: na - 0s 10ms/step - loss: nan - mean_absolute_error: nan - val_loss: 40.1529 - val_mean_absolute_error: 40.1529\n",
      "Epoch 27/100\n",
      "28/28 [==============================] - ETA: 0s - loss: 46.4052 - mean_absolute_error: 46.405 - ETA: 0s - loss: 39.5833 - mean_absolute_error: 39.583 - ETA: 0s - loss: 35.9696 - mean_absolute_error: 35.969 - ETA: 0s - loss: nan - mean_absolute_error: nan        - ETA: 0s - loss: nan - mean_absolute_error: na - 0s 11ms/step - loss: nan - mean_absolute_error: nan - val_loss: 32.2079 - val_mean_absolute_error: 32.2079\n",
      "Epoch 28/100\n",
      "28/28 [==============================] - ETA: 0s - loss: 28.3867 - mean_absolute_error: 28.386 - ETA: 0s - loss: 30.4471 - mean_absolute_error: 30.447 - ETA: 0s - loss: 30.1711 - mean_absolute_error: 30.171 - ETA: 0s - loss: 30.6328 - mean_absolute_error: 30.632 - 0s 9ms/step - loss: nan - mean_absolute_error: nan - val_loss: 32.0758 - val_mean_absolute_error: 32.0758\n",
      "Epoch 29/100\n",
      "28/28 [==============================] - ETA: 0s - loss: 31.8395 - mean_absolute_error: 31.839 - ETA: 0s - loss: 29.0127 - mean_absolute_error: 29.012 - ETA: 0s - loss: nan - mean_absolute_error: nan        - ETA: 0s - loss: nan - mean_absolute_error: na - ETA: 0s - loss: nan - mean_absolute_error: na - 0s 11ms/step - loss: nan - mean_absolute_error: nan - val_loss: 31.7725 - val_mean_absolute_error: 31.7725\n",
      "Epoch 30/100\n",
      "28/28 [==============================] - ETA: 0s - loss: 21.9082 - mean_absolute_error: 21.908 - ETA: 0s - loss: 29.3510 - mean_absolute_error: 29.351 - ETA: 0s - loss: nan - mean_absolute_error: nan        - ETA: 0s - loss: nan - mean_absolute_error: na - ETA: 0s - loss: nan - mean_absolute_error: na - 0s 9ms/step - loss: nan - mean_absolute_error: nan - val_loss: 34.7701 - val_mean_absolute_error: 34.7701\n",
      "Epoch 31/100\n",
      "28/28 [==============================] - ETA: 0s - loss: 32.4558 - mean_absolute_error: 32.455 - ETA: 0s - loss: 31.2251 - mean_absolute_error: 31.225 - ETA: 0s - loss: 29.6844 - mean_absolute_error: 29.684 - ETA: 0s - loss: nan - mean_absolute_error: nan        - ETA: 0s - loss: nan - mean_absolute_error: na - 0s 10ms/step - loss: nan - mean_absolute_error: nan - val_loss: 32.0549 - val_mean_absolute_error: 32.0549\n",
      "Epoch 32/100\n",
      "28/28 [==============================] - ETA: 0s - loss: 33.2343 - mean_absolute_error: 33.234 - ETA: 0s - loss: 31.4825 - mean_absolute_error: 31.482 - ETA: 0s - loss: 30.0785 - mean_absolute_error: 30.078 - ETA: 0s - loss: 30.2625 - mean_absolute_error: 30.262 - ETA: 0s - loss: nan - mean_absolute_error: nan        - 0s 11ms/step - loss: nan - mean_absolute_error: nan - val_loss: 32.7836 - val_mean_absolute_error: 32.7836\n",
      "Epoch 33/100\n",
      "28/28 [==============================] - ETA: 0s - loss: 18.8778 - mean_absolute_error: 18.877 - ETA: 0s - loss: 27.6357 - mean_absolute_error: 27.635 - ETA: 0s - loss: 28.3379 - mean_absolute_error: 28.337 - ETA: 0s - loss: 28.0534 - mean_absolute_error: 28.053 - 0s 9ms/step - loss: nan - mean_absolute_error: nan - val_loss: 31.9581 - val_mean_absolute_error: 31.9581\n",
      "Epoch 34/100\n",
      "28/28 [==============================] - ETA: 0s - loss: 34.2249 - mean_absolute_error: 34.224 - ETA: 0s - loss: 33.9715 - mean_absolute_error: 33.971 - ETA: 0s - loss: 31.1108 - mean_absolute_error: 31.110 - ETA: 0s - loss: nan - mean_absolute_error: nan        - ETA: 0s - loss: nan - mean_absolute_error: na - 0s 11ms/step - loss: nan - mean_absolute_error: nan - val_loss: 33.1621 - val_mean_absolute_error: 33.1621\n",
      "Epoch 35/100\n",
      "28/28 [==============================] - ETA: 0s - loss: 33.3515 - mean_absolute_error: 33.351 - ETA: 0s - loss: 32.4174 - mean_absolute_error: 32.417 - ETA: 0s - loss: 32.4490 - mean_absolute_error: 32.449 - ETA: 0s - loss: nan - mean_absolute_error: nan        - ETA: 0s - loss: nan - mean_absolute_error: na - 0s 11ms/step - loss: nan - mean_absolute_error: nan - val_loss: 34.1088 - val_mean_absolute_error: 34.1088\n",
      "Epoch 36/100\n",
      "28/28 [==============================] - ETA: 0s - loss: 35.6575 - mean_absolute_error: 35.657 - ETA: 0s - loss: 28.8454 - mean_absolute_error: 28.845 - ETA: 0s - loss: 30.2207 - mean_absolute_error: 30.220 - ETA: 0s - loss: nan - mean_absolute_error: nan        - ETA: 0s - loss: nan - mean_absolute_error: na - 0s 11ms/step - loss: nan - mean_absolute_error: nan - val_loss: 32.9307 - val_mean_absolute_error: 32.9307\n",
      "Epoch 37/100\n",
      "28/28 [==============================] - ETA: 0s - loss: 34.6308 - mean_absolute_error: 34.630 - ETA: 0s - loss: 25.8414 - mean_absolute_error: 25.841 - ETA: 0s - loss: nan - mean_absolute_error: nan        - ETA: 0s - loss: nan - mean_absolute_error: na - ETA: 0s - loss: nan - mean_absolute_error: na - 0s 11ms/step - loss: nan - mean_absolute_error: nan - val_loss: 32.0203 - val_mean_absolute_error: 32.0203\n",
      "Epoch 38/100\n",
      "28/28 [==============================] - ETA: 0s - loss: 39.0504 - mean_absolute_error: 39.050 - ETA: 0s - loss: 29.5685 - mean_absolute_error: 29.568 - ETA: 0s - loss: 27.8972 - mean_absolute_error: 27.897 - ETA: 0s - loss: 27.6949 - mean_absolute_error: 27.694 - ETA: 0s - loss: nan - mean_absolute_error: nan        - 0s 11ms/step - loss: nan - mean_absolute_error: nan - val_loss: 32.4234 - val_mean_absolute_error: 32.4234\n",
      "Epoch 39/100\n"
     ]
    },
    {
     "name": "stdout",
     "output_type": "stream",
     "text": [
      "28/28 [==============================] - ETA: 0s - loss: 32.0475 - mean_absolute_error: 32.047 - ETA: 0s - loss: 30.9998 - mean_absolute_error: 30.999 - ETA: 0s - loss: nan - mean_absolute_error: nan        - ETA: 0s - loss: nan - mean_absolute_error: na - ETA: 0s - loss: nan - mean_absolute_error: na - 1s 19ms/step - loss: nan - mean_absolute_error: nan - val_loss: 30.3523 - val_mean_absolute_error: 30.3523\n",
      "Epoch 40/100\n",
      "28/28 [==============================] - ETA: 0s - loss: 22.2892 - mean_absolute_error: 22.289 - ETA: 0s - loss: nan - mean_absolute_error: nan        - ETA: 0s - loss: nan - mean_absolute_error: na - ETA: 0s - loss: nan - mean_absolute_error: na - ETA: 0s - loss: nan - mean_absolute_error: na - 0s 10ms/step - loss: nan - mean_absolute_error: nan - val_loss: 30.6341 - val_mean_absolute_error: 30.6341\n",
      "Epoch 41/100\n",
      "28/28 [==============================] - ETA: 0s - loss: 22.2701 - mean_absolute_error: 22.270 - ETA: 0s - loss: 27.6012 - mean_absolute_error: 27.601 - ETA: 0s - loss: nan - mean_absolute_error: nan        - ETA: 0s - loss: nan - mean_absolute_error: na - ETA: 0s - loss: nan - mean_absolute_error: na - 0s 11ms/step - loss: nan - mean_absolute_error: nan - val_loss: 30.4726 - val_mean_absolute_error: 30.4726\n",
      "Epoch 42/100\n",
      "28/28 [==============================] - ETA: 0s - loss: 25.2805 - mean_absolute_error: 25.280 - ETA: 0s - loss: nan - mean_absolute_error: nan        - ETA: 0s - loss: nan - mean_absolute_error: na - ETA: 0s - loss: nan - mean_absolute_error: na - ETA: 0s - loss: nan - mean_absolute_error: na - 0s 10ms/step - loss: nan - mean_absolute_error: nan - val_loss: 30.5564 - val_mean_absolute_error: 30.5564\n",
      "Epoch 43/100\n",
      "28/28 [==============================] - ETA: 0s - loss: 25.2813 - mean_absolute_error: 25.281 - ETA: 0s - loss: 28.1853 - mean_absolute_error: 28.185 - ETA: 0s - loss: 29.1253 - mean_absolute_error: 29.125 - ETA: 0s - loss: nan - mean_absolute_error: nan        - ETA: 0s - loss: nan - mean_absolute_error: na - 0s 11ms/step - loss: nan - mean_absolute_error: nan - val_loss: 30.4161 - val_mean_absolute_error: 30.4161\n",
      "Epoch 44/100\n",
      "28/28 [==============================] - ETA: 0s - loss: 19.8463 - mean_absolute_error: 19.846 - ETA: 0s - loss: nan - mean_absolute_error: nan        - ETA: 0s - loss: nan - mean_absolute_error: na - ETA: 0s - loss: nan - mean_absolute_error: na - ETA: 0s - loss: nan - mean_absolute_error: na - 0s 11ms/step - loss: nan - mean_absolute_error: nan - val_loss: 34.7908 - val_mean_absolute_error: 34.7908\n",
      "Epoch 45/100\n",
      "28/28 [==============================] - ETA: 0s - loss: 40.6959 - mean_absolute_error: 40.695 - ETA: 0s - loss: 26.2687 - mean_absolute_error: 26.268 - ETA: 0s - loss: nan - mean_absolute_error: nan        - ETA: 0s - loss: nan - mean_absolute_error: na - ETA: 0s - loss: nan - mean_absolute_error: na - 0s 10ms/step - loss: nan - mean_absolute_error: nan - val_loss: 31.1604 - val_mean_absolute_error: 31.1604\n",
      "Epoch 46/100\n",
      "28/28 [==============================] - ETA: 0s - loss: 20.7026 - mean_absolute_error: 20.702 - ETA: 0s - loss: nan - mean_absolute_error: nan        - ETA: 0s - loss: nan - mean_absolute_error: na - ETA: 0s - loss: nan - mean_absolute_error: na - ETA: 0s - loss: nan - mean_absolute_error: na - 0s 10ms/step - loss: nan - mean_absolute_error: nan - val_loss: 30.7878 - val_mean_absolute_error: 30.7878\n",
      "Epoch 47/100\n",
      "28/28 [==============================] - ETA: 0s - loss: 22.0739 - mean_absolute_error: 22.073 - ETA: 0s - loss: 24.3304 - mean_absolute_error: 24.330 - ETA: 0s - loss: 25.3237 - mean_absolute_error: 25.323 - ETA: 0s - loss: nan - mean_absolute_error: nan        - ETA: 0s - loss: nan - mean_absolute_error: na - 0s 18ms/step - loss: nan - mean_absolute_error: nan - val_loss: 29.1565 - val_mean_absolute_error: 29.1565\n",
      "Epoch 48/100\n",
      "28/28 [==============================] - ETA: 0s - loss: 29.7781 - mean_absolute_error: 29.778 - ETA: 0s - loss: 28.6416 - mean_absolute_error: 28.641 - ETA: 0s - loss: 29.0915 - mean_absolute_error: 29.091 - ETA: 0s - loss: nan - mean_absolute_error: nan        - ETA: 0s - loss: nan - mean_absolute_error: na - 0s 10ms/step - loss: nan - mean_absolute_error: nan - val_loss: 29.6665 - val_mean_absolute_error: 29.6665\n",
      "Epoch 49/100\n",
      "28/28 [==============================] - ETA: 0s - loss: 25.3717 - mean_absolute_error: 25.371 - ETA: 0s - loss: nan - mean_absolute_error: nan        - ETA: 0s - loss: nan - mean_absolute_error: na - ETA: 0s - loss: nan - mean_absolute_error: na - ETA: 0s - loss: nan - mean_absolute_error: na - 0s 10ms/step - loss: nan - mean_absolute_error: nan - val_loss: 29.4046 - val_mean_absolute_error: 29.4046\n",
      "Epoch 50/100\n",
      "28/28 [==============================] - ETA: 0s - loss: 34.3330 - mean_absolute_error: 34.333 - ETA: 0s - loss: 25.1475 - mean_absolute_error: 25.147 - ETA: 0s - loss: nan - mean_absolute_error: nan        - ETA: 0s - loss: nan - mean_absolute_error: na - 0s 10ms/step - loss: nan - mean_absolute_error: nan - val_loss: 29.7659 - val_mean_absolute_error: 29.7659\n",
      "Epoch 51/100\n",
      "28/28 [==============================] - ETA: 0s - loss: 28.3722 - mean_absolute_error: 28.372 - ETA: 0s - loss: nan - mean_absolute_error: nan        - ETA: 0s - loss: nan - mean_absolute_error: na - ETA: 0s - loss: nan - mean_absolute_error: na - ETA: 0s - loss: nan - mean_absolute_error: na - 0s 10ms/step - loss: nan - mean_absolute_error: nan - val_loss: 30.8337 - val_mean_absolute_error: 30.8337\n",
      "Epoch 52/100\n",
      "28/28 [==============================] - ETA: 0s - loss: 29.1383 - mean_absolute_error: 29.138 - ETA: 0s - loss: nan - mean_absolute_error: nan        - ETA: 0s - loss: nan - mean_absolute_error: na - ETA: 0s - loss: nan - mean_absolute_error: na - ETA: 0s - loss: nan - mean_absolute_error: na - 0s 11ms/step - loss: nan - mean_absolute_error: nan - val_loss: 32.4780 - val_mean_absolute_error: 32.4780\n",
      "Epoch 53/100\n",
      "28/28 [==============================] - ETA: 0s - loss: 22.2265 - mean_absolute_error: 22.226 - ETA: 0s - loss: 22.1870 - mean_absolute_error: 22.187 - ETA: 0s - loss: nan - mean_absolute_error: nan        - ETA: 0s - loss: nan - mean_absolute_error: na - ETA: 0s - loss: nan - mean_absolute_error: na - 1s 22ms/step - loss: nan - mean_absolute_error: nan - val_loss: 28.1619 - val_mean_absolute_error: 28.1619\n",
      "Epoch 54/100\n",
      "28/28 [==============================] - ETA: 0s - loss: 13.6529 - mean_absolute_error: 13.652 - ETA: 0s - loss: nan - mean_absolute_error: nan        - ETA: 0s - loss: nan - mean_absolute_error: na - ETA: 0s - loss: nan - mean_absolute_error: na - ETA: 0s - loss: nan - mean_absolute_error: na - 0s 11ms/step - loss: nan - mean_absolute_error: nan - val_loss: 28.9379 - val_mean_absolute_error: 28.9379\n",
      "Epoch 55/100\n",
      "28/28 [==============================] - ETA: 0s - loss: 19.2944 - mean_absolute_error: 19.294 - ETA: 0s - loss: 23.5407 - mean_absolute_error: 23.540 - ETA: 0s - loss: nan - mean_absolute_error: nan        - ETA: 0s - loss: nan - mean_absolute_error: na - ETA: 0s - loss: nan - mean_absolute_error: na - 0s 11ms/step - loss: nan - mean_absolute_error: nan - val_loss: 28.3861 - val_mean_absolute_error: 28.3861\n",
      "Epoch 56/100\n",
      "28/28 [==============================] - ETA: 0s - loss: 21.8788 - mean_absolute_error: 21.878 - ETA: 0s - loss: 20.8564 - mean_absolute_error: 20.856 - ETA: 0s - loss: 21.8894 - mean_absolute_error: 21.889 - ETA: 0s - loss: nan - mean_absolute_error: nan        - ETA: 0s - loss: nan - mean_absolute_error: na - 0s 11ms/step - loss: nan - mean_absolute_error: nan - val_loss: 31.3299 - val_mean_absolute_error: 31.3299\n",
      "Epoch 57/100\n",
      "28/28 [==============================] - ETA: 0s - loss: 42.8538 - mean_absolute_error: 42.853 - ETA: 0s - loss: nan - mean_absolute_error: nan        - ETA: 0s - loss: nan - mean_absolute_error: na - ETA: 0s - loss: nan - mean_absolute_error: na - ETA: 0s - loss: nan - mean_absolute_error: na - 1s 20ms/step - loss: nan - mean_absolute_error: nan - val_loss: 27.3658 - val_mean_absolute_error: 27.3658\n",
      "Epoch 58/100\n"
     ]
    },
    {
     "name": "stdout",
     "output_type": "stream",
     "text": [
      "28/28 [==============================] - ETA: 0s - loss: 18.9707 - mean_absolute_error: 18.970 - ETA: 0s - loss: 22.7664 - mean_absolute_error: 22.766 - ETA: 0s - loss: 24.5359 - mean_absolute_error: 24.535 - ETA: 0s - loss: 23.7238 - mean_absolute_error: 23.723 - ETA: 0s - loss: nan - mean_absolute_error: nan        - 0s 11ms/step - loss: nan - mean_absolute_error: nan - val_loss: 31.9923 - val_mean_absolute_error: 31.9923\n",
      "Epoch 59/100\n",
      "28/28 [==============================] - ETA: 0s - loss: 29.7946 - mean_absolute_error: 29.794 - ETA: 0s - loss: 30.4573 - mean_absolute_error: 30.457 - ETA: 0s - loss: nan - mean_absolute_error: nan        - ETA: 0s - loss: nan - mean_absolute_error: na - ETA: 0s - loss: nan - mean_absolute_error: na - 0s 10ms/step - loss: nan - mean_absolute_error: nan - val_loss: 27.5443 - val_mean_absolute_error: 27.5443\n",
      "Epoch 60/100\n",
      "28/28 [==============================] - ETA: 0s - loss: 13.6276 - mean_absolute_error: 13.627 - ETA: 0s - loss: nan - mean_absolute_error: nan        - ETA: 0s - loss: nan - mean_absolute_error: na - ETA: 0s - loss: nan - mean_absolute_error: na - ETA: 0s - loss: nan - mean_absolute_error: na - 0s 11ms/step - loss: nan - mean_absolute_error: nan - val_loss: 28.0152 - val_mean_absolute_error: 28.0152\n",
      "Epoch 61/100\n",
      "28/28 [==============================] - ETA: 0s - loss: 15.0946 - mean_absolute_error: 15.094 - ETA: 0s - loss: 20.2645 - mean_absolute_error: 20.264 - ETA: 0s - loss: 21.2623 - mean_absolute_error: 21.262 - ETA: 0s - loss: nan - mean_absolute_error: nan        - ETA: 0s - loss: nan - mean_absolute_error: na - 0s 11ms/step - loss: nan - mean_absolute_error: nan - val_loss: 27.8780 - val_mean_absolute_error: 27.8780\n",
      "Epoch 62/100\n",
      "28/28 [==============================] - ETA: 0s - loss: 19.5954 - mean_absolute_error: 19.595 - ETA: 0s - loss: 22.5409 - mean_absolute_error: 22.540 - ETA: 0s - loss: 23.1856 - mean_absolute_error: 23.185 - ETA: 0s - loss: 23.0497 - mean_absolute_error: 23.049 - ETA: 0s - loss: nan - mean_absolute_error: nan        - 0s 11ms/step - loss: nan - mean_absolute_error: nan - val_loss: 28.6220 - val_mean_absolute_error: 28.6220\n",
      "Epoch 63/100\n",
      "28/28 [==============================] - ETA: 0s - loss: 21.5323 - mean_absolute_error: 21.532 - ETA: 0s - loss: 24.2591 - mean_absolute_error: 24.259 - ETA: 0s - loss: nan - mean_absolute_error: nan        - ETA: 0s - loss: nan - mean_absolute_error: na - ETA: 0s - loss: nan - mean_absolute_error: na - 0s 11ms/step - loss: nan - mean_absolute_error: nan - val_loss: 30.8794 - val_mean_absolute_error: 30.8794\n",
      "Epoch 64/100\n",
      "28/28 [==============================] - ETA: 0s - loss: 24.2898 - mean_absolute_error: 24.289 - ETA: 0s - loss: 23.7509 - mean_absolute_error: 23.750 - ETA: 0s - loss: 24.2038 - mean_absolute_error: 24.203 - ETA: 0s - loss: 23.9166 - mean_absolute_error: 23.916 - ETA: 0s - loss: 24.2388 - mean_absolute_error: 24.238 - 0s 11ms/step - loss: nan - mean_absolute_error: nan - val_loss: 30.9922 - val_mean_absolute_error: 30.9922\n",
      "Epoch 65/100\n",
      "28/28 [==============================] - ETA: 0s - loss: 28.4202 - mean_absolute_error: 28.420 - ETA: 0s - loss: nan - mean_absolute_error: nan        - ETA: 0s - loss: nan - mean_absolute_error: na - ETA: 0s - loss: nan - mean_absolute_error: na - ETA: 0s - loss: nan - mean_absolute_error: na - 0s 10ms/step - loss: nan - mean_absolute_error: nan - val_loss: 27.7378 - val_mean_absolute_error: 27.7378\n",
      "Epoch 66/100\n",
      "28/28 [==============================] - ETA: 0s - loss: 28.6084 - mean_absolute_error: 28.608 - ETA: 0s - loss: 23.3111 - mean_absolute_error: 23.311 - ETA: 0s - loss: 23.9030 - mean_absolute_error: 23.903 - ETA: 0s - loss: nan - mean_absolute_error: nan        - ETA: 0s - loss: nan - mean_absolute_error: na - 0s 11ms/step - loss: nan - mean_absolute_error: nan - val_loss: 29.4217 - val_mean_absolute_error: 29.4217\n",
      "Epoch 67/100\n",
      "28/28 [==============================] - ETA: 0s - loss: 24.9664 - mean_absolute_error: 24.966 - ETA: 0s - loss: nan - mean_absolute_error: nan        - ETA: 0s - loss: nan - mean_absolute_error: na - ETA: 0s - loss: nan - mean_absolute_error: na - ETA: 0s - loss: nan - mean_absolute_error: na - 0s 11ms/step - loss: nan - mean_absolute_error: nan - val_loss: 27.4173 - val_mean_absolute_error: 27.4173\n",
      "Epoch 68/100\n",
      "28/28 [==============================] - ETA: 0s - loss: 15.8531 - mean_absolute_error: 15.853 - ETA: 0s - loss: 19.2130 - mean_absolute_error: 19.213 - ETA: 0s - loss: 20.3284 - mean_absolute_error: 20.328 - ETA: 0s - loss: 23.1282 - mean_absolute_error: 23.128 - ETA: 0s - loss: nan - mean_absolute_error: nan        - 0s 11ms/step - loss: nan - mean_absolute_error: nan - val_loss: 30.8277 - val_mean_absolute_error: 30.8277\n",
      "Epoch 69/100\n",
      "28/28 [==============================] - ETA: 0s - loss: 27.9268 - mean_absolute_error: 27.926 - ETA: 0s - loss: 20.4338 - mean_absolute_error: 20.433 - ETA: 0s - loss: 20.1145 - mean_absolute_error: 20.114 - ETA: 0s - loss: 20.5189 - mean_absolute_error: 20.518 - ETA: 0s - loss: nan - mean_absolute_error: nan        - 0s 11ms/step - loss: nan - mean_absolute_error: nan - val_loss: 31.3231 - val_mean_absolute_error: 31.3231\n",
      "Epoch 70/100\n",
      "28/28 [==============================] - ETA: 0s - loss: 29.5393 - mean_absolute_error: 29.539 - ETA: 0s - loss: 23.0518 - mean_absolute_error: 23.051 - ETA: 0s - loss: 20.8248 - mean_absolute_error: 20.824 - ETA: 0s - loss: nan - mean_absolute_error: nan        - ETA: 0s - loss: nan - mean_absolute_error: na - 0s 11ms/step - loss: nan - mean_absolute_error: nan - val_loss: 27.6221 - val_mean_absolute_error: 27.6221\n",
      "Epoch 71/100\n",
      "28/28 [==============================] - ETA: 0s - loss: 23.7368 - mean_absolute_error: 23.736 - ETA: 0s - loss: 24.5002 - mean_absolute_error: 24.500 - ETA: 0s - loss: 22.8539 - mean_absolute_error: 22.853 - ETA: 0s - loss: nan - mean_absolute_error: nan        - ETA: 0s - loss: nan - mean_absolute_error: na - 0s 11ms/step - loss: nan - mean_absolute_error: nan - val_loss: 28.2837 - val_mean_absolute_error: 28.2837\n",
      "Epoch 72/100\n",
      "28/28 [==============================] - ETA: 0s - loss: 26.3840 - mean_absolute_error: 26.384 - ETA: 0s - loss: 24.3815 - mean_absolute_error: 24.381 - ETA: 0s - loss: nan - mean_absolute_error: nan        - ETA: 0s - loss: nan - mean_absolute_error: na - ETA: 0s - loss: nan - mean_absolute_error: na - 0s 11ms/step - loss: nan - mean_absolute_error: nan - val_loss: 35.5887 - val_mean_absolute_error: 35.5887\n",
      "Epoch 73/100\n",
      "28/28 [==============================] - ETA: 0s - loss: 30.4793 - mean_absolute_error: 30.479 - ETA: 0s - loss: nan - mean_absolute_error: nan        - ETA: 0s - loss: nan - mean_absolute_error: na - ETA: 0s - loss: nan - mean_absolute_error: na - ETA: 0s - loss: nan - mean_absolute_error: na - 0s 11ms/step - loss: nan - mean_absolute_error: nan - val_loss: 29.2290 - val_mean_absolute_error: 29.2290\n",
      "Epoch 74/100\n",
      "28/28 [==============================] - ETA: 0s - loss: 13.2054 - mean_absolute_error: 13.205 - ETA: 0s - loss: 22.2087 - mean_absolute_error: 22.208 - ETA: 0s - loss: 22.5269 - mean_absolute_error: 22.526 - ETA: 0s - loss: nan - mean_absolute_error: nan        - ETA: 0s - loss: nan - mean_absolute_error: na - 0s 10ms/step - loss: nan - mean_absolute_error: nan - val_loss: 27.4148 - val_mean_absolute_error: 27.4148\n",
      "Epoch 75/100\n",
      "28/28 [==============================] - ETA: 0s - loss: 18.6347 - mean_absolute_error: 18.634 - ETA: 0s - loss: 18.7076 - mean_absolute_error: 18.707 - ETA: 0s - loss: nan - mean_absolute_error: nan        - ETA: 0s - loss: nan - mean_absolute_error: na - ETA: 0s - loss: nan - mean_absolute_error: na - 0s 10ms/step - loss: nan - mean_absolute_error: nan - val_loss: 28.5782 - val_mean_absolute_error: 28.5782\n",
      "Epoch 76/100\n",
      "28/28 [==============================] - ETA: 0s - loss: 15.3500 - mean_absolute_error: 15.350 - ETA: 0s - loss: 20.0436 - mean_absolute_error: 20.043 - ETA: 0s - loss: nan - mean_absolute_error: nan        - ETA: 0s - loss: nan - mean_absolute_error: na - 0s 9ms/step - loss: nan - mean_absolute_error: nan - val_loss: 29.3860 - val_mean_absolute_error: 29.3860\n",
      "Epoch 77/100\n"
     ]
    },
    {
     "name": "stdout",
     "output_type": "stream",
     "text": [
      "28/28 [==============================] - ETA: 0s - loss: 25.8575 - mean_absolute_error: 25.857 - ETA: 0s - loss: 21.1884 - mean_absolute_error: 21.188 - ETA: 0s - loss: 21.4453 - mean_absolute_error: 21.445 - ETA: 0s - loss: 21.3038 - mean_absolute_error: 21.303 - 0s 18ms/step - loss: nan - mean_absolute_error: nan - val_loss: 26.2764 - val_mean_absolute_error: 26.2764\n",
      "Epoch 78/100\n",
      "28/28 [==============================] - ETA: 0s - loss: 28.2550 - mean_absolute_error: 28.255 - ETA: 0s - loss: 20.7400 - mean_absolute_error: 20.740 - ETA: 0s - loss: 19.4384 - mean_absolute_error: 19.438 - ETA: 0s - loss: nan - mean_absolute_error: nan        - ETA: 0s - loss: nan - mean_absolute_error: na - 0s 11ms/step - loss: nan - mean_absolute_error: nan - val_loss: 27.2243 - val_mean_absolute_error: 27.2243\n",
      "Epoch 79/100\n",
      "28/28 [==============================] - ETA: 0s - loss: 14.9657 - mean_absolute_error: 14.965 - ETA: 0s - loss: 16.4970 - mean_absolute_error: 16.497 - ETA: 0s - loss: nan - mean_absolute_error: nan        - ETA: 0s - loss: nan - mean_absolute_error: na - ETA: 0s - loss: nan - mean_absolute_error: na - 0s 10ms/step - loss: nan - mean_absolute_error: nan - val_loss: 28.0421 - val_mean_absolute_error: 28.0421\n",
      "Epoch 80/100\n",
      "28/28 [==============================] - ETA: 0s - loss: 22.6831 - mean_absolute_error: 22.683 - ETA: 0s - loss: nan - mean_absolute_error: nan        - ETA: 0s - loss: nan - mean_absolute_error: na - ETA: 0s - loss: nan - mean_absolute_error: na - ETA: 0s - loss: nan - mean_absolute_error: na - 1s 23ms/step - loss: nan - mean_absolute_error: nan - val_loss: 25.7278 - val_mean_absolute_error: 25.7278\n",
      "Epoch 81/100\n",
      "28/28 [==============================] - ETA: 0s - loss: 16.2905 - mean_absolute_error: 16.290 - ETA: 0s - loss: nan - mean_absolute_error: nan        - ETA: 0s - loss: nan - mean_absolute_error: na - ETA: 0s - loss: nan - mean_absolute_error: na - ETA: 0s - loss: nan - mean_absolute_error: na - 0s 11ms/step - loss: nan - mean_absolute_error: nan - val_loss: 26.3742 - val_mean_absolute_error: 26.3742\n",
      "Epoch 82/100\n",
      "28/28 [==============================] - ETA: 0s - loss: 17.9012 - mean_absolute_error: 17.901 - ETA: 0s - loss: 21.3844 - mean_absolute_error: 21.384 - ETA: 0s - loss: 19.3795 - mean_absolute_error: 19.379 - ETA: 0s - loss: 18.2365 - mean_absolute_error: 18.236 - ETA: 0s - loss: nan - mean_absolute_error: nan        - 0s 11ms/step - loss: nan - mean_absolute_error: nan - val_loss: 28.6323 - val_mean_absolute_error: 28.6323\n",
      "Epoch 83/100\n",
      "28/28 [==============================] - ETA: 0s - loss: 24.5247 - mean_absolute_error: 24.524 - ETA: 0s - loss: nan - mean_absolute_error: nan        - ETA: 0s - loss: nan - mean_absolute_error: na - ETA: 0s - loss: nan - mean_absolute_error: na - ETA: 0s - loss: nan - mean_absolute_error: na - 0s 11ms/step - loss: nan - mean_absolute_error: nan - val_loss: 25.7983 - val_mean_absolute_error: 25.7983\n",
      "Epoch 84/100\n",
      "28/28 [==============================] - ETA: 0s - loss: 14.6338 - mean_absolute_error: 14.633 - ETA: 0s - loss: 16.1896 - mean_absolute_error: 16.189 - ETA: 0s - loss: 16.6606 - mean_absolute_error: 16.660 - ETA: 0s - loss: 17.5080 - mean_absolute_error: 17.508 - ETA: 0s - loss: nan - mean_absolute_error: nan        - 0s 11ms/step - loss: nan - mean_absolute_error: nan - val_loss: 27.4136 - val_mean_absolute_error: 27.4136\n",
      "Epoch 85/100\n",
      "28/28 [==============================] - ETA: 0s - loss: 16.5741 - mean_absolute_error: 16.574 - ETA: 0s - loss: 17.8953 - mean_absolute_error: 17.895 - ETA: 0s - loss: nan - mean_absolute_error: nan        - ETA: 0s - loss: nan - mean_absolute_error: na - ETA: 0s - loss: nan - mean_absolute_error: na - 1s 20ms/step - loss: nan - mean_absolute_error: nan - val_loss: 25.1593 - val_mean_absolute_error: 25.1593\n",
      "Epoch 86/100\n",
      "28/28 [==============================] - ETA: 0s - loss: 11.7810 - mean_absolute_error: 11.781 - ETA: 0s - loss: 18.7873 - mean_absolute_error: 18.787 - ETA: 0s - loss: nan - mean_absolute_error: nan        - ETA: 0s - loss: nan - mean_absolute_error: na - ETA: 0s - loss: nan - mean_absolute_error: na - 1s 22ms/step - loss: nan - mean_absolute_error: nan - val_loss: 24.5143 - val_mean_absolute_error: 24.5143\n",
      "Epoch 87/100\n",
      "28/28 [==============================] - ETA: 0s - loss: 10.8792 - mean_absolute_error: 10.879 - ETA: 0s - loss: 18.0943 - mean_absolute_error: 18.094 - ETA: 0s - loss: nan - mean_absolute_error: nan        - ETA: 0s - loss: nan - mean_absolute_error: na - ETA: 0s - loss: nan - mean_absolute_error: na - 0s 11ms/step - loss: nan - mean_absolute_error: nan - val_loss: 27.6623 - val_mean_absolute_error: 27.6623\n",
      "Epoch 88/100\n",
      "28/28 [==============================] - ETA: 0s - loss: 22.2945 - mean_absolute_error: 22.294 - ETA: 0s - loss: 19.5267 - mean_absolute_error: 19.526 - ETA: 0s - loss: 17.5961 - mean_absolute_error: 17.596 - ETA: 0s - loss: 17.7381 - mean_absolute_error: 17.738 - ETA: 0s - loss: nan - mean_absolute_error: nan        - 1s 22ms/step - loss: nan - mean_absolute_error: nan - val_loss: 23.6205 - val_mean_absolute_error: 23.6205\n",
      "Epoch 89/100\n",
      "28/28 [==============================] - ETA: 0s - loss: 16.9132 - mean_absolute_error: 16.913 - ETA: 0s - loss: nan - mean_absolute_error: nan        - ETA: 0s - loss: nan - mean_absolute_error: na - ETA: 0s - loss: nan - mean_absolute_error: na - ETA: 0s - loss: nan - mean_absolute_error: na - 1s 22ms/step - loss: nan - mean_absolute_error: nan - val_loss: 23.3385 - val_mean_absolute_error: 23.3385\n",
      "Epoch 90/100\n",
      "28/28 [==============================] - ETA: 0s - loss: 16.1640 - mean_absolute_error: 16.164 - ETA: 0s - loss: 14.4706 - mean_absolute_error: 14.470 - ETA: 0s - loss: 15.1496 - mean_absolute_error: 15.149 - ETA: 0s - loss: 15.4333 - mean_absolute_error: 15.433 - ETA: 0s - loss: nan - mean_absolute_error: nan        - 0s 11ms/step - loss: nan - mean_absolute_error: nan - val_loss: 26.4129 - val_mean_absolute_error: 26.4129\n",
      "Epoch 91/100\n",
      "28/28 [==============================] - ETA: 0s - loss: 28.0865 - mean_absolute_error: 28.086 - ETA: 0s - loss: 19.3796 - mean_absolute_error: 19.379 - ETA: 0s - loss: nan - mean_absolute_error: nan        - ETA: 0s - loss: nan - mean_absolute_error: na - ETA: 0s - loss: nan - mean_absolute_error: na - 0s 10ms/step - loss: nan - mean_absolute_error: nan - val_loss: 24.5420 - val_mean_absolute_error: 24.5420\n",
      "Epoch 92/100\n",
      "28/28 [==============================] - ETA: 0s - loss: 20.1636 - mean_absolute_error: 20.163 - ETA: 0s - loss: 18.3736 - mean_absolute_error: 18.373 - ETA: 0s - loss: 16.9310 - mean_absolute_error: 16.931 - ETA: 0s - loss: nan - mean_absolute_error: nan        - ETA: 0s - loss: nan - mean_absolute_error: na - 0s 10ms/step - loss: nan - mean_absolute_error: nan - val_loss: 25.1590 - val_mean_absolute_error: 25.1590\n",
      "Epoch 93/100\n",
      "28/28 [==============================] - ETA: 0s - loss: 15.5435 - mean_absolute_error: 15.543 - ETA: 0s - loss: 15.9741 - mean_absolute_error: 15.974 - ETA: 0s - loss: nan - mean_absolute_error: nan        - ETA: 0s - loss: nan - mean_absolute_error: na - ETA: 0s - loss: nan - mean_absolute_error: na - 0s 11ms/step - loss: nan - mean_absolute_error: nan - val_loss: 25.3501 - val_mean_absolute_error: 25.3501\n",
      "Epoch 94/100\n",
      "28/28 [==============================] - ETA: 0s - loss: 19.1856 - mean_absolute_error: 19.185 - ETA: 0s - loss: 13.0309 - mean_absolute_error: 13.030 - ETA: 0s - loss: 14.6181 - mean_absolute_error: 14.618 - ETA: 0s - loss: 15.4530 - mean_absolute_error: 15.453 - ETA: 0s - loss: nan - mean_absolute_error: nan        - 0s 11ms/step - loss: nan - mean_absolute_error: nan - val_loss: 25.2463 - val_mean_absolute_error: 25.2463\n",
      "Epoch 95/100\n",
      "28/28 [==============================] - ETA: 0s - loss: 14.3461 - mean_absolute_error: 14.346 - ETA: 0s - loss: 17.0126 - mean_absolute_error: 17.012 - ETA: 0s - loss: nan - mean_absolute_error: nan        - ETA: 0s - loss: nan - mean_absolute_error: na - ETA: 0s - loss: nan - mean_absolute_error: na - 0s 10ms/step - loss: nan - mean_absolute_error: nan - val_loss: 26.4994 - val_mean_absolute_error: 26.4994\n",
      "Epoch 96/100\n"
     ]
    },
    {
     "name": "stdout",
     "output_type": "stream",
     "text": [
      "28/28 [==============================] - ETA: 0s - loss: 16.5758 - mean_absolute_error: 16.575 - ETA: 0s - loss: 19.7824 - mean_absolute_error: 19.782 - ETA: 0s - loss: nan - mean_absolute_error: nan        - ETA: 0s - loss: nan - mean_absolute_error: na - ETA: 0s - loss: nan - mean_absolute_error: na - 0s 11ms/step - loss: nan - mean_absolute_error: nan - val_loss: 25.6722 - val_mean_absolute_error: 25.6722\n",
      "Epoch 97/100\n",
      "28/28 [==============================] - ETA: 0s - loss: 11.4233 - mean_absolute_error: 11.423 - ETA: 0s - loss: 16.6361 - mean_absolute_error: 16.636 - ETA: 0s - loss: nan - mean_absolute_error: nan        - ETA: 0s - loss: nan - mean_absolute_error: na - ETA: 0s - loss: nan - mean_absolute_error: na - 0s 11ms/step - loss: nan - mean_absolute_error: nan - val_loss: 24.7577 - val_mean_absolute_error: 24.7577\n",
      "Epoch 98/100\n",
      "28/28 [==============================] - ETA: 0s - loss: 16.4753 - mean_absolute_error: 16.475 - ETA: 0s - loss: 19.2027 - mean_absolute_error: 19.202 - ETA: 0s - loss: 20.1328 - mean_absolute_error: 20.132 - ETA: 0s - loss: 19.1466 - mean_absolute_error: 19.146 - ETA: 0s - loss: nan - mean_absolute_error: nan        - 0s 11ms/step - loss: nan - mean_absolute_error: nan - val_loss: 24.6276 - val_mean_absolute_error: 24.6276\n",
      "Epoch 99/100\n",
      "28/28 [==============================] - ETA: 0s - loss: 21.3735 - mean_absolute_error: 21.373 - ETA: 0s - loss: 15.7447 - mean_absolute_error: 15.744 - ETA: 0s - loss: nan - mean_absolute_error: nan        - ETA: 0s - loss: nan - mean_absolute_error: na - ETA: 0s - loss: nan - mean_absolute_error: na - 0s 11ms/step - loss: nan - mean_absolute_error: nan - val_loss: 25.1751 - val_mean_absolute_error: 25.1751\n",
      "Epoch 100/100\n",
      "28/28 [==============================] - ETA: 0s - loss: 18.1220 - mean_absolute_error: 18.122 - ETA: 0s - loss: nan - mean_absolute_error: nan        - ETA: 0s - loss: nan - mean_absolute_error: na - ETA: 0s - loss: nan - mean_absolute_error: na - ETA: 0s - loss: nan - mean_absolute_error: na - 1s 18ms/step - loss: nan - mean_absolute_error: nan - val_loss: 22.6888 - val_mean_absolute_error: 22.6888\n",
      "Epoch 1/100\n",
      "28/28 [==============================] - ETA: 0s - loss: 130.8883 - mean_absolute_error: 130.888 - ETA: 0s - loss: 112.0893 - mean_absolute_error: 112.089 - ETA: 0s - loss: 108.6744 - mean_absolute_error: 108.674 - ETA: 0s - loss: nan - mean_absolute_error: nan          - ETA: 0s - loss: nan - mean_absolute_error: na - 1s 21ms/step - loss: nan - mean_absolute_error: nan - val_loss: 46.0976 - val_mean_absolute_error: 46.0976\n",
      "Epoch 2/100\n",
      "28/28 [==============================] - ETA: 0s - loss: 53.2536 - mean_absolute_error: 53.253 - ETA: 0s - loss: nan - mean_absolute_error: nan        - ETA: 0s - loss: nan - mean_absolute_error: na - ETA: 0s - loss: nan - mean_absolute_error: na - ETA: 0s - loss: nan - mean_absolute_error: na - 0s 11ms/step - loss: nan - mean_absolute_error: nan - val_loss: 42.1575 - val_mean_absolute_error: 42.1575\n",
      "Epoch 3/100\n",
      "28/28 [==============================] - ETA: 0s - loss: 34.3374 - mean_absolute_error: 34.337 - ETA: 0s - loss: 42.2699 - mean_absolute_error: 42.269 - ETA: 0s - loss: 40.5291 - mean_absolute_error: 40.529 - ETA: 0s - loss: 39.8540 - mean_absolute_error: 39.854 - ETA: 0s - loss: nan - mean_absolute_error: nan        - 0s 11ms/step - loss: nan - mean_absolute_error: nan - val_loss: 41.7568 - val_mean_absolute_error: 41.7568\n",
      "Epoch 4/100\n",
      "28/28 [==============================] - ETA: 0s - loss: nan - mean_absolute_error: na - ETA: 0s - loss: nan - mean_absolute_error: na - ETA: 0s - loss: nan - mean_absolute_error: na - ETA: 0s - loss: nan - mean_absolute_error: na - ETA: 0s - loss: nan - mean_absolute_error: na - 0s 10ms/step - loss: nan - mean_absolute_error: nan - val_loss: 43.3436 - val_mean_absolute_error: 43.3436\n",
      "Epoch 5/100\n",
      "28/28 [==============================] - ETA: 0s - loss: 53.6594 - mean_absolute_error: 53.659 - ETA: 0s - loss: 44.4237 - mean_absolute_error: 44.423 - ETA: 0s - loss: 39.8100 - mean_absolute_error: 39.810 - ETA: 0s - loss: 37.3728 - mean_absolute_error: 37.372 - ETA: 0s - loss: nan - mean_absolute_error: nan        - 0s 11ms/step - loss: nan - mean_absolute_error: nan - val_loss: 42.6545 - val_mean_absolute_error: 42.6545\n",
      "Epoch 6/100\n",
      "28/28 [==============================] - ETA: 0s - loss: 56.2464 - mean_absolute_error: 56.246 - ETA: 0s - loss: 41.7567 - mean_absolute_error: 41.756 - ETA: 0s - loss: 42.0458 - mean_absolute_error: 42.045 - ETA: 0s - loss: nan - mean_absolute_error: nan        - ETA: 0s - loss: nan - mean_absolute_error: na - 0s 11ms/step - loss: nan - mean_absolute_error: nan - val_loss: 35.0990 - val_mean_absolute_error: 35.0990\n",
      "Epoch 7/100\n",
      "28/28 [==============================] - ETA: 0s - loss: 53.8638 - mean_absolute_error: 53.863 - ETA: 0s - loss: 34.4833 - mean_absolute_error: 34.483 - ETA: 0s - loss: nan - mean_absolute_error: nan        - ETA: 0s - loss: nan - mean_absolute_error: na - ETA: 0s - loss: nan - mean_absolute_error: na - 0s 11ms/step - loss: nan - mean_absolute_error: nan - val_loss: 42.7480 - val_mean_absolute_error: 42.7480\n",
      "Epoch 8/100\n",
      "28/28 [==============================] - ETA: 0s - loss: 43.4596 - mean_absolute_error: 43.459 - ETA: 0s - loss: 45.2351 - mean_absolute_error: 45.235 - ETA: 0s - loss: nan - mean_absolute_error: nan        - ETA: 0s - loss: nan - mean_absolute_error: na - 0s 9ms/step - loss: nan - mean_absolute_error: nan - val_loss: 35.6987 - val_mean_absolute_error: 35.6987\n",
      "Epoch 9/100\n",
      "28/28 [==============================] - ETA: 0s - loss: 42.0951 - mean_absolute_error: 42.095 - ETA: 0s - loss: 42.4972 - mean_absolute_error: 42.497 - ETA: 0s - loss: 42.1559 - mean_absolute_error: 42.155 - ETA: 0s - loss: nan - mean_absolute_error: nan        - 0s 9ms/step - loss: nan - mean_absolute_error: nan - val_loss: 37.7146 - val_mean_absolute_error: 37.7146\n",
      "Epoch 10/100\n",
      "28/28 [==============================] - ETA: 0s - loss: 59.1034 - mean_absolute_error: 59.103 - ETA: 0s - loss: 39.5079 - mean_absolute_error: 39.507 - ETA: 0s - loss: 36.7422 - mean_absolute_error: 36.742 - ETA: 0s - loss: nan - mean_absolute_error: nan        - 0s 9ms/step - loss: nan - mean_absolute_error: nan - val_loss: 34.3006 - val_mean_absolute_error: 34.3006\n",
      "Epoch 11/100\n",
      "28/28 [==============================] - ETA: 0s - loss: 30.3927 - mean_absolute_error: 30.392 - ETA: 0s - loss: nan - mean_absolute_error: nan        - ETA: 0s - loss: nan - mean_absolute_error: na - ETA: 0s - loss: nan - mean_absolute_error: na - 0s 9ms/step - loss: nan - mean_absolute_error: nan - val_loss: 33.2155 - val_mean_absolute_error: 33.2155\n",
      "Epoch 12/100\n",
      "28/28 [==============================] - ETA: 0s - loss: 37.9535 - mean_absolute_error: 37.953 - ETA: 0s - loss: nan - mean_absolute_error: nan        - ETA: 0s - loss: nan - mean_absolute_error: na - ETA: 0s - loss: nan - mean_absolute_error: na - 0s 9ms/step - loss: nan - mean_absolute_error: nan - val_loss: 35.0487 - val_mean_absolute_error: 35.0487\n",
      "Epoch 13/100\n",
      "28/28 [==============================] - ETA: 0s - loss: 33.9922 - mean_absolute_error: 33.992 - ETA: 0s - loss: 31.8580 - mean_absolute_error: 31.858 - ETA: 0s - loss: 33.6640 - mean_absolute_error: 33.664 - ETA: 0s - loss: 33.6878 - mean_absolute_error: 33.687 - ETA: 0s - loss: nan - mean_absolute_error: nan        - 0s 11ms/step - loss: nan - mean_absolute_error: nan - val_loss: 32.7023 - val_mean_absolute_error: 32.7023\n",
      "Epoch 14/100\n",
      "28/28 [==============================] - ETA: 0s - loss: 32.2690 - mean_absolute_error: 32.269 - ETA: 0s - loss: nan - mean_absolute_error: nan        - ETA: 0s - loss: nan - mean_absolute_error: na - ETA: 0s - loss: nan - mean_absolute_error: na - ETA: 0s - loss: nan - mean_absolute_error: na - 0s 11ms/step - loss: nan - mean_absolute_error: nan - val_loss: 32.9375 - val_mean_absolute_error: 32.9375\n",
      "Epoch 15/100\n",
      "28/28 [==============================] - ETA: 0s - loss: 39.0458 - mean_absolute_error: 39.045 - ETA: 0s - loss: nan - mean_absolute_error: nan        - ETA: 0s - loss: nan - mean_absolute_error: na - ETA: 0s - loss: nan - mean_absolute_error: na - ETA: 0s - loss: nan - mean_absolute_error: na - 0s 11ms/step - loss: nan - mean_absolute_error: nan - val_loss: 31.8345 - val_mean_absolute_error: 31.8345\n"
     ]
    },
    {
     "name": "stdout",
     "output_type": "stream",
     "text": [
      "Epoch 16/100\n",
      "28/28 [==============================] - ETA: 0s - loss: 28.5137 - mean_absolute_error: 28.513 - ETA: 0s - loss: nan - mean_absolute_error: nan        - ETA: 0s - loss: nan - mean_absolute_error: na - ETA: 0s - loss: nan - mean_absolute_error: na - ETA: 0s - loss: nan - mean_absolute_error: na - 0s 11ms/step - loss: nan - mean_absolute_error: nan - val_loss: 31.3047 - val_mean_absolute_error: 31.3047\n",
      "Epoch 17/100\n",
      "28/28 [==============================] - ETA: 0s - loss: 19.5692 - mean_absolute_error: 19.569 - ETA: 0s - loss: nan - mean_absolute_error: nan        - ETA: 0s - loss: nan - mean_absolute_error: na - ETA: 0s - loss: nan - mean_absolute_error: na - ETA: 0s - loss: nan - mean_absolute_error: na - 0s 11ms/step - loss: nan - mean_absolute_error: nan - val_loss: 34.8363 - val_mean_absolute_error: 34.8363\n",
      "Epoch 18/100\n",
      "28/28 [==============================] - ETA: 0s - loss: 33.2462 - mean_absolute_error: 33.246 - ETA: 0s - loss: 32.0612 - mean_absolute_error: 32.061 - ETA: 0s - loss: nan - mean_absolute_error: nan        - ETA: 0s - loss: nan - mean_absolute_error: na - ETA: 0s - loss: nan - mean_absolute_error: na - 0s 10ms/step - loss: nan - mean_absolute_error: nan - val_loss: 39.9724 - val_mean_absolute_error: 39.9724\n",
      "Epoch 19/100\n",
      "28/28 [==============================] - ETA: 0s - loss: 39.6200 - mean_absolute_error: 39.620 - ETA: 0s - loss: nan - mean_absolute_error: nan        - ETA: 0s - loss: nan - mean_absolute_error: na - ETA: 0s - loss: nan - mean_absolute_error: na - ETA: 0s - loss: nan - mean_absolute_error: na - 0s 11ms/step - loss: nan - mean_absolute_error: nan - val_loss: 31.9501 - val_mean_absolute_error: 31.9501\n",
      "Epoch 20/100\n",
      "28/28 [==============================] - ETA: 0s - loss: 31.5763 - mean_absolute_error: 31.576 - ETA: 0s - loss: 33.6240 - mean_absolute_error: 33.624 - ETA: 0s - loss: 33.5146 - mean_absolute_error: 33.514 - ETA: 0s - loss: 31.7698 - mean_absolute_error: 31.769 - ETA: 0s - loss: nan - mean_absolute_error: nan        - 0s 10ms/step - loss: nan - mean_absolute_error: nan - val_loss: 32.8591 - val_mean_absolute_error: 32.8591\n",
      "Epoch 21/100\n",
      "28/28 [==============================] - ETA: 0s - loss: 34.1494 - mean_absolute_error: 34.149 - ETA: 0s - loss: 33.2112 - mean_absolute_error: 33.211 - ETA: 0s - loss: 34.6700 - mean_absolute_error: 34.670 - ETA: 0s - loss: 34.7004 - mean_absolute_error: 34.700 - ETA: 0s - loss: nan - mean_absolute_error: nan        - 0s 10ms/step - loss: nan - mean_absolute_error: nan - val_loss: 36.7300 - val_mean_absolute_error: 36.7300\n",
      "Epoch 22/100\n",
      "28/28 [==============================] - ETA: 0s - loss: 33.5128 - mean_absolute_error: 33.512 - ETA: 0s - loss: 34.8362 - mean_absolute_error: 34.836 - ETA: 0s - loss: nan - mean_absolute_error: nan        - ETA: 0s - loss: nan - mean_absolute_error: na - ETA: 0s - loss: nan - mean_absolute_error: na - 0s 10ms/step - loss: nan - mean_absolute_error: nan - val_loss: 32.4008 - val_mean_absolute_error: 32.4008\n",
      "Epoch 23/100\n",
      "28/28 [==============================] - ETA: 0s - loss: 31.5513 - mean_absolute_error: 31.551 - ETA: 0s - loss: 31.2001 - mean_absolute_error: 31.200 - ETA: 0s - loss: 30.2458 - mean_absolute_error: 30.245 - ETA: 0s - loss: 32.2020 - mean_absolute_error: 32.202 - ETA: 0s - loss: nan - mean_absolute_error: nan        - 0s 10ms/step - loss: nan - mean_absolute_error: nan - val_loss: 31.0466 - val_mean_absolute_error: 31.0466\n",
      "Epoch 24/100\n",
      "28/28 [==============================] - ETA: 0s - loss: 22.6198 - mean_absolute_error: 22.619 - ETA: 0s - loss: nan - mean_absolute_error: nan        - ETA: 0s - loss: nan - mean_absolute_error: na - ETA: 0s - loss: nan - mean_absolute_error: na - 0s 9ms/step - loss: nan - mean_absolute_error: nan - val_loss: 30.7626 - val_mean_absolute_error: 30.7626\n",
      "Epoch 25/100\n",
      "28/28 [==============================] - ETA: 0s - loss: 41.5309 - mean_absolute_error: 41.530 - ETA: 0s - loss: 29.3961 - mean_absolute_error: 29.396 - ETA: 0s - loss: nan - mean_absolute_error: nan        - ETA: 0s - loss: nan - mean_absolute_error: na - ETA: 0s - loss: nan - mean_absolute_error: na - 0s 11ms/step - loss: nan - mean_absolute_error: nan - val_loss: 32.9604 - val_mean_absolute_error: 32.9604\n",
      "Epoch 26/100\n",
      "28/28 [==============================] - ETA: 0s - loss: 23.1747 - mean_absolute_error: 23.174 - ETA: 0s - loss: nan - mean_absolute_error: nan        - ETA: 0s - loss: nan - mean_absolute_error: na - ETA: 0s - loss: nan - mean_absolute_error: na - ETA: 0s - loss: nan - mean_absolute_error: na - 0s 11ms/step - loss: nan - mean_absolute_error: nan - val_loss: 37.8119 - val_mean_absolute_error: 37.8119\n",
      "Epoch 27/100\n",
      "28/28 [==============================] - ETA: 0s - loss: 41.5417 - mean_absolute_error: 41.541 - ETA: 0s - loss: 29.3112 - mean_absolute_error: 29.311 - ETA: 0s - loss: 28.2595 - mean_absolute_error: 28.259 - ETA: 0s - loss: 29.3472 - mean_absolute_error: 29.347 - ETA: 0s - loss: nan - mean_absolute_error: nan        - 0s 10ms/step - loss: nan - mean_absolute_error: nan - val_loss: 38.8713 - val_mean_absolute_error: 38.8713\n",
      "Epoch 28/100\n",
      "28/28 [==============================] - ETA: 0s - loss: 36.0018 - mean_absolute_error: 36.001 - ETA: 0s - loss: 36.4155 - mean_absolute_error: 36.415 - ETA: 0s - loss: 34.3183 - mean_absolute_error: 34.318 - ETA: 0s - loss: nan - mean_absolute_error: nan        - 0s 9ms/step - loss: nan - mean_absolute_error: nan - val_loss: 32.1707 - val_mean_absolute_error: 32.1707\n",
      "Epoch 29/100\n",
      "28/28 [==============================] - ETA: 0s - loss: 31.6773 - mean_absolute_error: 31.677 - ETA: 0s - loss: nan - mean_absolute_error: nan        - ETA: 0s - loss: nan - mean_absolute_error: na - ETA: 0s - loss: nan - mean_absolute_error: na - 0s 9ms/step - loss: nan - mean_absolute_error: nan - val_loss: 30.4632 - val_mean_absolute_error: 30.4632\n",
      "Epoch 30/100\n",
      "28/28 [==============================] - ETA: 0s - loss: 21.5560 - mean_absolute_error: 21.556 - ETA: 0s - loss: 26.3066 - mean_absolute_error: 26.306 - ETA: 0s - loss: 28.4751 - mean_absolute_error: 28.475 - ETA: 0s - loss: nan - mean_absolute_error: nan        - ETA: 0s - loss: nan - mean_absolute_error: na - 0s 11ms/step - loss: nan - mean_absolute_error: nan - val_loss: 30.2677 - val_mean_absolute_error: 30.2677\n",
      "Epoch 31/100\n",
      "28/28 [==============================] - ETA: 0s - loss: 24.9215 - mean_absolute_error: 24.921 - ETA: 0s - loss: nan - mean_absolute_error: nan        - ETA: 0s - loss: nan - mean_absolute_error: na - ETA: 0s - loss: nan - mean_absolute_error: na - ETA: 0s - loss: nan - mean_absolute_error: na - 0s 11ms/step - loss: nan - mean_absolute_error: nan - val_loss: 30.6226 - val_mean_absolute_error: 30.6226\n",
      "Epoch 32/100\n",
      "28/28 [==============================] - ETA: 0s - loss: 21.3202 - mean_absolute_error: 21.320 - ETA: 0s - loss: 22.6379 - mean_absolute_error: 22.637 - ETA: 0s - loss: nan - mean_absolute_error: nan        - ETA: 0s - loss: nan - mean_absolute_error: na - ETA: 0s - loss: nan - mean_absolute_error: na - 0s 11ms/step - loss: nan - mean_absolute_error: nan - val_loss: 30.2566 - val_mean_absolute_error: 30.2566\n",
      "Epoch 33/100\n",
      "28/28 [==============================] - ETA: 0s - loss: 27.0658 - mean_absolute_error: 27.065 - ETA: 0s - loss: 29.2302 - mean_absolute_error: 29.230 - ETA: 0s - loss: nan - mean_absolute_error: nan        - ETA: 0s - loss: nan - mean_absolute_error: na - ETA: 0s - loss: nan - mean_absolute_error: na - 0s 11ms/step - loss: nan - mean_absolute_error: nan - val_loss: 32.8614 - val_mean_absolute_error: 32.8614\n",
      "Epoch 34/100\n",
      "28/28 [==============================] - ETA: 0s - loss: 28.8796 - mean_absolute_error: 28.879 - ETA: 0s - loss: 30.6789 - mean_absolute_error: 30.678 - ETA: 0s - loss: 28.6915 - mean_absolute_error: 28.691 - ETA: 0s - loss: nan - mean_absolute_error: nan        - ETA: 0s - loss: nan - mean_absolute_error: na - 0s 10ms/step - loss: nan - mean_absolute_error: nan - val_loss: 29.4543 - val_mean_absolute_error: 29.4543\n",
      "Epoch 35/100\n"
     ]
    },
    {
     "name": "stdout",
     "output_type": "stream",
     "text": [
      "28/28 [==============================] - ETA: 0s - loss: 32.8018 - mean_absolute_error: 32.801 - ETA: 0s - loss: nan - mean_absolute_error: nan        - ETA: 0s - loss: nan - mean_absolute_error: na - ETA: 0s - loss: nan - mean_absolute_error: na - ETA: 0s - loss: nan - mean_absolute_error: na - 0s 11ms/step - loss: nan - mean_absolute_error: nan - val_loss: 28.3803 - val_mean_absolute_error: 28.3803\n",
      "Epoch 36/100\n",
      "28/28 [==============================] - ETA: 0s - loss: 23.4490 - mean_absolute_error: 23.449 - ETA: 0s - loss: 25.8125 - mean_absolute_error: 25.812 - ETA: 0s - loss: 27.2679 - mean_absolute_error: 27.267 - ETA: 0s - loss: nan - mean_absolute_error: nan        - ETA: 0s - loss: nan - mean_absolute_error: na - 0s 10ms/step - loss: nan - mean_absolute_error: nan - val_loss: 35.0887 - val_mean_absolute_error: 35.0887\n",
      "Epoch 37/100\n",
      "28/28 [==============================] - ETA: 0s - loss: 33.5734 - mean_absolute_error: 33.573 - ETA: 0s - loss: nan - mean_absolute_error: nan        - ETA: 0s - loss: nan - mean_absolute_error: na - ETA: 0s - loss: nan - mean_absolute_error: na - ETA: 0s - loss: nan - mean_absolute_error: na - 0s 11ms/step - loss: nan - mean_absolute_error: nan - val_loss: 29.4955 - val_mean_absolute_error: 29.4955\n",
      "Epoch 38/100\n",
      "28/28 [==============================] - ETA: 0s - loss: 29.5353 - mean_absolute_error: 29.535 - ETA: 0s - loss: nan - mean_absolute_error: nan        - ETA: 0s - loss: nan - mean_absolute_error: na - ETA: 0s - loss: nan - mean_absolute_error: na - ETA: 0s - loss: nan - mean_absolute_error: na - 0s 11ms/step - loss: nan - mean_absolute_error: nan - val_loss: 36.0391 - val_mean_absolute_error: 36.0391\n",
      "Epoch 39/100\n",
      "28/28 [==============================] - ETA: 0s - loss: 32.2978 - mean_absolute_error: 32.297 - ETA: 0s - loss: 30.6777 - mean_absolute_error: 30.677 - ETA: 0s - loss: 30.0472 - mean_absolute_error: 30.047 - ETA: 0s - loss: nan - mean_absolute_error: nan        - ETA: 0s - loss: nan - mean_absolute_error: na - 0s 11ms/step - loss: nan - mean_absolute_error: nan - val_loss: 33.1389 - val_mean_absolute_error: 33.1389\n",
      "Epoch 40/100\n",
      "28/28 [==============================] - ETA: 0s - loss: 26.6764 - mean_absolute_error: 26.676 - ETA: 0s - loss: 24.2525 - mean_absolute_error: 24.252 - ETA: 0s - loss: 24.3741 - mean_absolute_error: 24.374 - ETA: 0s - loss: nan - mean_absolute_error: nan        - ETA: 0s - loss: nan - mean_absolute_error: na - 0s 11ms/step - loss: nan - mean_absolute_error: nan - val_loss: 29.5139 - val_mean_absolute_error: 29.5139\n",
      "Epoch 41/100\n",
      "28/28 [==============================] - ETA: 0s - loss: 26.0596 - mean_absolute_error: 26.059 - ETA: 0s - loss: 30.7702 - mean_absolute_error: 30.770 - ETA: 0s - loss: 31.9981 - mean_absolute_error: 31.998 - ETA: 0s - loss: nan - mean_absolute_error: nan        - ETA: 0s - loss: nan - mean_absolute_error: na - 0s 11ms/step - loss: nan - mean_absolute_error: nan - val_loss: 28.9660 - val_mean_absolute_error: 28.9660\n",
      "Epoch 42/100\n",
      "28/28 [==============================] - ETA: 0s - loss: 18.5659 - mean_absolute_error: 18.565 - ETA: 0s - loss: nan - mean_absolute_error: nan        - ETA: 0s - loss: nan - mean_absolute_error: na - ETA: 0s - loss: nan - mean_absolute_error: na - 0s 9ms/step - loss: nan - mean_absolute_error: nan - val_loss: 29.6720 - val_mean_absolute_error: 29.6720\n",
      "Epoch 43/100\n",
      "28/28 [==============================] - ETA: 0s - loss: 23.8735 - mean_absolute_error: 23.873 - ETA: 0s - loss: 22.0629 - mean_absolute_error: 22.062 - ETA: 0s - loss: 22.4313 - mean_absolute_error: 22.431 - ETA: 0s - loss: 22.5939 - mean_absolute_error: 22.593 - ETA: 0s - loss: nan - mean_absolute_error: nan        - 0s 10ms/step - loss: nan - mean_absolute_error: nan - val_loss: 32.8689 - val_mean_absolute_error: 32.8689\n",
      "Epoch 44/100\n",
      "28/28 [==============================] - ETA: 0s - loss: 28.6264 - mean_absolute_error: 28.626 - ETA: 0s - loss: 24.2650 - mean_absolute_error: 24.265 - ETA: 0s - loss: 25.6803 - mean_absolute_error: 25.680 - ETA: 0s - loss: 25.7903 - mean_absolute_error: 25.790 - ETA: 0s - loss: nan - mean_absolute_error: nan        - 0s 11ms/step - loss: nan - mean_absolute_error: nan - val_loss: 29.6583 - val_mean_absolute_error: 29.6583\n",
      "Epoch 45/100\n",
      "28/28 [==============================] - ETA: 0s - loss: 28.6349 - mean_absolute_error: 28.634 - ETA: 0s - loss: nan - mean_absolute_error: nan        - ETA: 0s - loss: nan - mean_absolute_error: na - ETA: 0s - loss: nan - mean_absolute_error: na - ETA: 0s - loss: nan - mean_absolute_error: na - 0s 10ms/step - loss: nan - mean_absolute_error: nan - val_loss: 29.4784 - val_mean_absolute_error: 29.4784\n",
      "Epoch 46/100\n",
      "28/28 [==============================] - ETA: 0s - loss: 27.7872 - mean_absolute_error: 27.787 - ETA: 0s - loss: nan - mean_absolute_error: nan        - ETA: 0s - loss: nan - mean_absolute_error: na - ETA: 0s - loss: nan - mean_absolute_error: na - ETA: 0s - loss: nan - mean_absolute_error: na - 0s 10ms/step - loss: nan - mean_absolute_error: nan - val_loss: 48.8441 - val_mean_absolute_error: 48.8441\n",
      "Epoch 47/100\n",
      "28/28 [==============================] - ETA: 0s - loss: 40.5402 - mean_absolute_error: 40.540 - ETA: 0s - loss: 42.8103 - mean_absolute_error: 42.810 - ETA: 0s - loss: 37.2281 - mean_absolute_error: 37.228 - ETA: 0s - loss: nan - mean_absolute_error: nan        - 0s 9ms/step - loss: nan - mean_absolute_error: nan - val_loss: 26.8404 - val_mean_absolute_error: 26.8404\n",
      "Epoch 48/100\n",
      "28/28 [==============================] - ETA: 0s - loss: 16.3055 - mean_absolute_error: 16.305 - ETA: 0s - loss: nan - mean_absolute_error: nan        - ETA: 0s - loss: nan - mean_absolute_error: na - ETA: 0s - loss: nan - mean_absolute_error: na - ETA: 0s - loss: nan - mean_absolute_error: na - 0s 10ms/step - loss: nan - mean_absolute_error: nan - val_loss: 26.4393 - val_mean_absolute_error: 26.4393\n",
      "Epoch 49/100\n",
      "28/28 [==============================] - ETA: 0s - loss: 27.0116 - mean_absolute_error: 27.011 - ETA: 0s - loss: 27.2224 - mean_absolute_error: 27.222 - ETA: 0s - loss: nan - mean_absolute_error: nan        - ETA: 0s - loss: nan - mean_absolute_error: na - ETA: 0s - loss: nan - mean_absolute_error: na - 0s 10ms/step - loss: nan - mean_absolute_error: nan - val_loss: 28.1263 - val_mean_absolute_error: 28.1263\n",
      "Epoch 50/100\n",
      "28/28 [==============================] - ETA: 0s - loss: 22.5509 - mean_absolute_error: 22.550 - ETA: 0s - loss: 24.2578 - mean_absolute_error: 24.257 - ETA: 0s - loss: 23.8305 - mean_absolute_error: 23.830 - ETA: 0s - loss: nan - mean_absolute_error: nan        - 0s 9ms/step - loss: nan - mean_absolute_error: nan - val_loss: 29.0805 - val_mean_absolute_error: 29.0805\n",
      "Epoch 51/100\n",
      "28/28 [==============================] - ETA: 0s - loss: 22.3321 - mean_absolute_error: 22.332 - ETA: 0s - loss: 22.6886 - mean_absolute_error: 22.688 - ETA: 0s - loss: 22.2319 - mean_absolute_error: 22.231 - ETA: 0s - loss: nan - mean_absolute_error: nan        - ETA: 0s - loss: nan - mean_absolute_error: na - 0s 10ms/step - loss: nan - mean_absolute_error: nan - val_loss: 27.9932 - val_mean_absolute_error: 27.9932\n",
      "Epoch 52/100\n",
      "28/28 [==============================] - ETA: 0s - loss: 17.8973 - mean_absolute_error: 17.897 - ETA: 0s - loss: 17.9244 - mean_absolute_error: 17.924 - ETA: 0s - loss: nan - mean_absolute_error: nan        - ETA: 0s - loss: nan - mean_absolute_error: na - ETA: 0s - loss: nan - mean_absolute_error: na - 0s 10ms/step - loss: nan - mean_absolute_error: nan - val_loss: 27.0855 - val_mean_absolute_error: 27.0855\n",
      "Epoch 53/100\n",
      "28/28 [==============================] - ETA: 0s - loss: 27.9267 - mean_absolute_error: 27.926 - ETA: 0s - loss: 27.9310 - mean_absolute_error: 27.931 - ETA: 0s - loss: 27.8237 - mean_absolute_error: 27.823 - ETA: 0s - loss: 27.0124 - mean_absolute_error: 27.012 - 0s 9ms/step - loss: nan - mean_absolute_error: nan - val_loss: 26.6847 - val_mean_absolute_error: 26.6847\n",
      "Epoch 54/100\n",
      "28/28 [==============================] - ETA: 0s - loss: 18.0236 - mean_absolute_error: 18.023 - ETA: 0s - loss: nan - mean_absolute_error: nan        - ETA: 0s - loss: nan - mean_absolute_error: na - ETA: 0s - loss: nan - mean_absolute_error: na - 0s 10ms/step - loss: nan - mean_absolute_error: nan - val_loss: 26.7762 - val_mean_absolute_error: 26.7762\n"
     ]
    },
    {
     "name": "stdout",
     "output_type": "stream",
     "text": [
      "Epoch 55/100\n",
      "28/28 [==============================] - ETA: 0s - loss: 20.0587 - mean_absolute_error: 20.058 - ETA: 0s - loss: nan - mean_absolute_error: nan        - ETA: 0s - loss: nan - mean_absolute_error: na - ETA: 0s - loss: nan - mean_absolute_error: na - 0s 9ms/step - loss: nan - mean_absolute_error: nan - val_loss: 33.1944 - val_mean_absolute_error: 33.1944\n",
      "Epoch 56/100\n",
      "28/28 [==============================] - ETA: 0s - loss: 37.0467 - mean_absolute_error: 37.046 - ETA: 0s - loss: nan - mean_absolute_error: nan        - ETA: 0s - loss: nan - mean_absolute_error: na - ETA: 0s - loss: nan - mean_absolute_error: na - ETA: 0s - loss: nan - mean_absolute_error: na - 0s 10ms/step - loss: nan - mean_absolute_error: nan - val_loss: 27.0618 - val_mean_absolute_error: 27.0618\n",
      "Epoch 57/100\n",
      "28/28 [==============================] - ETA: 0s - loss: 21.5252 - mean_absolute_error: 21.525 - ETA: 0s - loss: 20.0217 - mean_absolute_error: 20.021 - ETA: 0s - loss: nan - mean_absolute_error: nan        - ETA: 0s - loss: nan - mean_absolute_error: na - ETA: 0s - loss: nan - mean_absolute_error: na - 0s 10ms/step - loss: nan - mean_absolute_error: nan - val_loss: 26.1773 - val_mean_absolute_error: 26.1773\n",
      "Epoch 58/100\n",
      "28/28 [==============================] - ETA: 0s - loss: nan - mean_absolute_error: na - ETA: 0s - loss: nan - mean_absolute_error: na - ETA: 0s - loss: nan - mean_absolute_error: na - ETA: 0s - loss: nan - mean_absolute_error: na - 0s 10ms/step - loss: nan - mean_absolute_error: nan - val_loss: 28.8086 - val_mean_absolute_error: 28.8086\n",
      "Epoch 59/100\n",
      "28/28 [==============================] - ETA: 0s - loss: 21.3491 - mean_absolute_error: 21.349 - ETA: 0s - loss: 20.3581 - mean_absolute_error: 20.358 - ETA: 0s - loss: nan - mean_absolute_error: nan        - ETA: 0s - loss: nan - mean_absolute_error: na - ETA: 0s - loss: nan - mean_absolute_error: na - 0s 10ms/step - loss: nan - mean_absolute_error: nan - val_loss: 26.6033 - val_mean_absolute_error: 26.6033\n",
      "Epoch 60/100\n",
      "28/28 [==============================] - ETA: 0s - loss: 20.2176 - mean_absolute_error: 20.217 - ETA: 0s - loss: nan - mean_absolute_error: nan        - ETA: 0s - loss: nan - mean_absolute_error: na - ETA: 0s - loss: nan - mean_absolute_error: na - 0s 7ms/step - loss: nan - mean_absolute_error: nan - val_loss: 31.3406 - val_mean_absolute_error: 31.3406\n",
      "Epoch 61/100\n",
      "28/28 [==============================] - ETA: 0s - loss: 46.1423 - mean_absolute_error: 46.142 - ETA: 0s - loss: 26.1155 - mean_absolute_error: 26.115 - ETA: 0s - loss: nan - mean_absolute_error: nan        - ETA: 0s - loss: nan - mean_absolute_error: na - 0s 8ms/step - loss: nan - mean_absolute_error: nan - val_loss: 27.9115 - val_mean_absolute_error: 27.9115\n",
      "Epoch 62/100\n",
      "28/28 [==============================] - ETA: 0s - loss: 20.8360 - mean_absolute_error: 20.836 - ETA: 0s - loss: 18.8114 - mean_absolute_error: 18.811 - ETA: 0s - loss: nan - mean_absolute_error: nan        - ETA: 0s - loss: nan - mean_absolute_error: na - 0s 8ms/step - loss: nan - mean_absolute_error: nan - val_loss: 26.9793 - val_mean_absolute_error: 26.9793\n",
      "Epoch 63/100\n",
      "28/28 [==============================] - ETA: 0s - loss: 17.0396 - mean_absolute_error: 17.039 - ETA: 0s - loss: 20.5672 - mean_absolute_error: 20.567 - ETA: 0s - loss: 19.3778 - mean_absolute_error: 19.377 - ETA: 0s - loss: nan - mean_absolute_error: nan        - ETA: 0s - loss: nan - mean_absolute_error: na - 0s 10ms/step - loss: nan - mean_absolute_error: nan - val_loss: 25.1200 - val_mean_absolute_error: 25.1200\n",
      "Epoch 64/100\n",
      "28/28 [==============================] - ETA: 0s - loss: 12.3911 - mean_absolute_error: 12.391 - ETA: 0s - loss: 17.9726 - mean_absolute_error: 17.972 - ETA: 0s - loss: 17.2273 - mean_absolute_error: 17.227 - ETA: 0s - loss: nan - mean_absolute_error: nan        - ETA: 0s - loss: nan - mean_absolute_error: na - 0s 10ms/step - loss: nan - mean_absolute_error: nan - val_loss: 29.7518 - val_mean_absolute_error: 29.7518\n",
      "Epoch 65/100\n",
      "28/28 [==============================] - ETA: 0s - loss: 18.3725 - mean_absolute_error: 18.372 - ETA: 0s - loss: 19.7456 - mean_absolute_error: 19.745 - ETA: 0s - loss: 20.7148 - mean_absolute_error: 20.714 - ETA: 0s - loss: 20.7951 - mean_absolute_error: 20.795 - ETA: 0s - loss: nan - mean_absolute_error: nan        - 0s 10ms/step - loss: nan - mean_absolute_error: nan - val_loss: 28.2743 - val_mean_absolute_error: 28.2743\n",
      "Epoch 66/100\n",
      "28/28 [==============================] - ETA: 0s - loss: 26.8925 - mean_absolute_error: 26.892 - ETA: 0s - loss: 20.5668 - mean_absolute_error: 20.566 - ETA: 0s - loss: nan - mean_absolute_error: nan        - ETA: 0s - loss: nan - mean_absolute_error: na - 0s 9ms/step - loss: nan - mean_absolute_error: nan - val_loss: 24.8005 - val_mean_absolute_error: 24.8005\n",
      "Epoch 67/100\n",
      "28/28 [==============================] - ETA: 0s - loss: 15.0562 - mean_absolute_error: 15.056 - ETA: 0s - loss: 17.6444 - mean_absolute_error: 17.644 - ETA: 0s - loss: 19.1625 - mean_absolute_error: 19.162 - ETA: 0s - loss: nan - mean_absolute_error: nan        - 0s 9ms/step - loss: nan - mean_absolute_error: nan - val_loss: 26.2185 - val_mean_absolute_error: 26.2185\n",
      "Epoch 68/100\n",
      "28/28 [==============================] - ETA: 0s - loss: 21.3604 - mean_absolute_error: 21.360 - ETA: 0s - loss: 22.1891 - mean_absolute_error: 22.189 - ETA: 0s - loss: nan - mean_absolute_error: nan        - ETA: 0s - loss: nan - mean_absolute_error: na - 0s 9ms/step - loss: nan - mean_absolute_error: nan - val_loss: 26.5281 - val_mean_absolute_error: 26.5281\n",
      "Epoch 69/100\n",
      "28/28 [==============================] - ETA: 0s - loss: 20.5842 - mean_absolute_error: 20.584 - ETA: 0s - loss: 19.6529 - mean_absolute_error: 19.652 - ETA: 0s - loss: nan - mean_absolute_error: nan        - ETA: 0s - loss: nan - mean_absolute_error: na - ETA: 0s - loss: nan - mean_absolute_error: na - 0s 10ms/step - loss: nan - mean_absolute_error: nan - val_loss: 24.5695 - val_mean_absolute_error: 24.5695\n",
      "Epoch 70/100\n",
      "28/28 [==============================] - ETA: 0s - loss: 12.1609 - mean_absolute_error: 12.160 - ETA: 0s - loss: 14.6313 - mean_absolute_error: 14.631 - ETA: 0s - loss: 16.3297 - mean_absolute_error: 16.329 - ETA: 0s - loss: nan - mean_absolute_error: nan        - 0s 9ms/step - loss: nan - mean_absolute_error: nan - val_loss: 26.5065 - val_mean_absolute_error: 26.5065\n",
      "Epoch 71/100\n",
      "28/28 [==============================] - ETA: 0s - loss: 15.7538 - mean_absolute_error: 15.753 - ETA: 0s - loss: 16.9430 - mean_absolute_error: 16.943 - ETA: 0s - loss: 17.7126 - mean_absolute_error: 17.712 - ETA: 0s - loss: nan - mean_absolute_error: nan        - 0s 9ms/step - loss: nan - mean_absolute_error: nan - val_loss: 26.0408 - val_mean_absolute_error: 26.0408\n",
      "Epoch 72/100\n",
      "28/28 [==============================] - ETA: 0s - loss: 17.2357 - mean_absolute_error: 17.235 - ETA: 0s - loss: 16.3406 - mean_absolute_error: 16.340 - ETA: 0s - loss: nan - mean_absolute_error: nan        - ETA: 0s - loss: nan - mean_absolute_error: na - ETA: 0s - loss: nan - mean_absolute_error: na - 0s 11ms/step - loss: nan - mean_absolute_error: nan - val_loss: 27.9736 - val_mean_absolute_error: 27.9736\n",
      "Epoch 73/100\n",
      "28/28 [==============================] - ETA: 0s - loss: 15.6880 - mean_absolute_error: 15.688 - ETA: 0s - loss: nan - mean_absolute_error: nan        - ETA: 0s - loss: nan - mean_absolute_error: na - ETA: 0s - loss: nan - mean_absolute_error: na - ETA: 0s - loss: nan - mean_absolute_error: na - 0s 11ms/step - loss: nan - mean_absolute_error: nan - val_loss: 25.0487 - val_mean_absolute_error: 25.0487\n",
      "Epoch 74/100\n",
      "28/28 [==============================] - ETA: 0s - loss: 14.4507 - mean_absolute_error: 14.450 - ETA: 0s - loss: 15.5176 - mean_absolute_error: 15.517 - ETA: 0s - loss: 17.7702 - mean_absolute_error: 17.770 - ETA: 0s - loss: nan - mean_absolute_error: nan        - ETA: 0s - loss: nan - mean_absolute_error: na - 0s 11ms/step - loss: nan - mean_absolute_error: nan - val_loss: 24.0415 - val_mean_absolute_error: 24.0415\n",
      "Epoch 75/100\n"
     ]
    },
    {
     "name": "stdout",
     "output_type": "stream",
     "text": [
      "28/28 [==============================] - ETA: 0s - loss: 15.4385 - mean_absolute_error: 15.438 - ETA: 0s - loss: 20.8805 - mean_absolute_error: 20.880 - ETA: 0s - loss: 18.9838 - mean_absolute_error: 18.983 - ETA: 0s - loss: nan - mean_absolute_error: nan        - ETA: 0s - loss: nan - mean_absolute_error: na - 0s 10ms/step - loss: nan - mean_absolute_error: nan - val_loss: 25.5857 - val_mean_absolute_error: 25.5857\n",
      "Epoch 76/100\n",
      "28/28 [==============================] - ETA: 0s - loss: 15.7961 - mean_absolute_error: 15.796 - ETA: 0s - loss: 16.9629 - mean_absolute_error: 16.962 - ETA: 0s - loss: nan - mean_absolute_error: nan        - ETA: 0s - loss: nan - mean_absolute_error: na - 0s 10ms/step - loss: nan - mean_absolute_error: nan - val_loss: 29.6318 - val_mean_absolute_error: 29.6318\n",
      "Epoch 77/100\n",
      "28/28 [==============================] - ETA: 0s - loss: 16.2992 - mean_absolute_error: 16.299 - ETA: 0s - loss: nan - mean_absolute_error: nan        - ETA: 0s - loss: nan - mean_absolute_error: na - ETA: 0s - loss: nan - mean_absolute_error: na - ETA: 0s - loss: nan - mean_absolute_error: na - 0s 11ms/step - loss: nan - mean_absolute_error: nan - val_loss: 25.3097 - val_mean_absolute_error: 25.3097\n",
      "Epoch 78/100\n",
      "28/28 [==============================] - ETA: 0s - loss: 21.1284 - mean_absolute_error: 21.128 - ETA: 0s - loss: 17.0795 - mean_absolute_error: 17.079 - ETA: 0s - loss: nan - mean_absolute_error: nan        - ETA: 0s - loss: nan - mean_absolute_error: na - ETA: 0s - loss: nan - mean_absolute_error: na - 0s 10ms/step - loss: nan - mean_absolute_error: nan - val_loss: 25.7283 - val_mean_absolute_error: 25.7283\n",
      "Epoch 79/100\n",
      "28/28 [==============================] - ETA: 0s - loss: 17.9790 - mean_absolute_error: 17.979 - ETA: 0s - loss: 20.5870 - mean_absolute_error: 20.587 - ETA: 0s - loss: 19.7123 - mean_absolute_error: 19.712 - ETA: 0s - loss: 19.0835 - mean_absolute_error: 19.083 - ETA: 0s - loss: nan - mean_absolute_error: nan        - 0s 11ms/step - loss: nan - mean_absolute_error: nan - val_loss: 24.6046 - val_mean_absolute_error: 24.6046\n",
      "Epoch 80/100\n",
      "28/28 [==============================] - ETA: 0s - loss: 21.5589 - mean_absolute_error: 21.558 - ETA: 0s - loss: 18.6167 - mean_absolute_error: 18.616 - ETA: 0s - loss: nan - mean_absolute_error: nan        - ETA: 0s - loss: nan - mean_absolute_error: na - ETA: 0s - loss: nan - mean_absolute_error: na - 0s 11ms/step - loss: nan - mean_absolute_error: nan - val_loss: 25.5012 - val_mean_absolute_error: 25.5012\n",
      "Epoch 81/100\n",
      "28/28 [==============================] - ETA: 0s - loss: 22.0966 - mean_absolute_error: 22.096 - ETA: 0s - loss: 15.4901 - mean_absolute_error: 15.490 - ETA: 0s - loss: 17.2750 - mean_absolute_error: 17.275 - ETA: 0s - loss: nan - mean_absolute_error: nan        - ETA: 0s - loss: nan - mean_absolute_error: na - 0s 11ms/step - loss: nan - mean_absolute_error: nan - val_loss: 24.3633 - val_mean_absolute_error: 24.3633\n",
      "Epoch 82/100\n",
      "28/28 [==============================] - ETA: 0s - loss: 13.6195 - mean_absolute_error: 13.619 - ETA: 0s - loss: nan - mean_absolute_error: nan        - ETA: 0s - loss: nan - mean_absolute_error: na - ETA: 0s - loss: nan - mean_absolute_error: na - ETA: 0s - loss: nan - mean_absolute_error: na - 0s 10ms/step - loss: nan - mean_absolute_error: nan - val_loss: 31.1217 - val_mean_absolute_error: 31.1217\n",
      "Epoch 83/100\n",
      "28/28 [==============================] - ETA: 0s - loss: 26.7742 - mean_absolute_error: 26.774 - ETA: 0s - loss: 19.1625 - mean_absolute_error: 19.162 - ETA: 0s - loss: 16.8259 - mean_absolute_error: 16.825 - ETA: 0s - loss: 16.5162 - mean_absolute_error: 16.516 - ETA: 0s - loss: nan - mean_absolute_error: nan        - 0s 10ms/step - loss: nan - mean_absolute_error: nan - val_loss: 23.2729 - val_mean_absolute_error: 23.2729\n",
      "Epoch 84/100\n",
      "28/28 [==============================] - ETA: 0s - loss: 17.2754 - mean_absolute_error: 17.275 - ETA: 0s - loss: 16.4118 - mean_absolute_error: 16.411 - ETA: 0s - loss: nan - mean_absolute_error: nan        - ETA: 0s - loss: nan - mean_absolute_error: na - 0s 9ms/step - loss: nan - mean_absolute_error: nan - val_loss: 25.4247 - val_mean_absolute_error: 25.4247\n",
      "Epoch 85/100\n",
      "28/28 [==============================] - ETA: 0s - loss: 29.5726 - mean_absolute_error: 29.572 - ETA: 0s - loss: 15.5064 - mean_absolute_error: 15.506 - ETA: 0s - loss: 15.3980 - mean_absolute_error: 15.398 - ETA: 0s - loss: 15.4879 - mean_absolute_error: 15.487 - ETA: 0s - loss: nan - mean_absolute_error: nan        - 0s 11ms/step - loss: nan - mean_absolute_error: nan - val_loss: 26.4118 - val_mean_absolute_error: 26.4118\n",
      "Epoch 86/100\n",
      "28/28 [==============================] - ETA: 0s - loss: 13.8194 - mean_absolute_error: 13.819 - ETA: 0s - loss: 18.5548 - mean_absolute_error: 18.554 - ETA: 0s - loss: 17.7538 - mean_absolute_error: 17.753 - ETA: 0s - loss: 17.8822 - mean_absolute_error: 17.882 - ETA: 0s - loss: nan - mean_absolute_error: nan        - 0s 11ms/step - loss: nan - mean_absolute_error: nan - val_loss: 29.1600 - val_mean_absolute_error: 29.1600\n",
      "Epoch 87/100\n",
      "28/28 [==============================] - ETA: 0s - loss: 24.6157 - mean_absolute_error: 24.615 - ETA: 0s - loss: 20.4692 - mean_absolute_error: 20.469 - ETA: 0s - loss: 18.3788 - mean_absolute_error: 18.378 - ETA: 0s - loss: 16.8288 - mean_absolute_error: 16.828 - ETA: 0s - loss: nan - mean_absolute_error: nan        - 0s 10ms/step - loss: nan - mean_absolute_error: nan - val_loss: 23.1921 - val_mean_absolute_error: 23.1921\n",
      "Epoch 88/100\n",
      "28/28 [==============================] - ETA: 0s - loss: 11.3365 - mean_absolute_error: 11.336 - ETA: 0s - loss: nan - mean_absolute_error: nan        - ETA: 0s - loss: nan - mean_absolute_error: na - ETA: 0s - loss: nan - mean_absolute_error: na - ETA: 0s - loss: nan - mean_absolute_error: na - 0s 11ms/step - loss: nan - mean_absolute_error: nan - val_loss: 25.6973 - val_mean_absolute_error: 25.6973\n",
      "Epoch 89/100\n",
      "28/28 [==============================] - ETA: 0s - loss: 18.4983 - mean_absolute_error: 18.498 - ETA: 0s - loss: 18.2370 - mean_absolute_error: 18.237 - ETA: 0s - loss: 18.3700 - mean_absolute_error: 18.370 - ETA: 0s - loss: 18.7639 - mean_absolute_error: 18.763 - ETA: 0s - loss: nan - mean_absolute_error: nan        - 0s 10ms/step - loss: nan - mean_absolute_error: nan - val_loss: 24.8676 - val_mean_absolute_error: 24.8676\n",
      "Epoch 90/100\n",
      "28/28 [==============================] - ETA: 0s - loss: 19.0700 - mean_absolute_error: 19.070 - ETA: 0s - loss: nan - mean_absolute_error: nan        - ETA: 0s - loss: nan - mean_absolute_error: na - ETA: 0s - loss: nan - mean_absolute_error: na - ETA: 0s - loss: nan - mean_absolute_error: na - 0s 10ms/step - loss: nan - mean_absolute_error: nan - val_loss: 24.4211 - val_mean_absolute_error: 24.4211\n",
      "Epoch 91/100\n",
      "28/28 [==============================] - ETA: 0s - loss: 12.1829 - mean_absolute_error: 12.182 - ETA: 0s - loss: nan - mean_absolute_error: nan        - ETA: 0s - loss: nan - mean_absolute_error: na - ETA: 0s - loss: nan - mean_absolute_error: na - ETA: 0s - loss: nan - mean_absolute_error: na - 0s 11ms/step - loss: nan - mean_absolute_error: nan - val_loss: 23.3861 - val_mean_absolute_error: 23.3861\n",
      "Epoch 92/100\n",
      "28/28 [==============================] - ETA: 0s - loss: 19.5263 - mean_absolute_error: 19.526 - ETA: 0s - loss: nan - mean_absolute_error: nan        - ETA: 0s - loss: nan - mean_absolute_error: na - ETA: 0s - loss: nan - mean_absolute_error: na - ETA: 0s - loss: nan - mean_absolute_error: na - 0s 11ms/step - loss: nan - mean_absolute_error: nan - val_loss: 23.5501 - val_mean_absolute_error: 23.5501\n",
      "Epoch 93/100\n",
      "28/28 [==============================] - ETA: 0s - loss: 12.9281 - mean_absolute_error: 12.928 - ETA: 0s - loss: 17.0735 - mean_absolute_error: 17.073 - ETA: 0s - loss: 16.9688 - mean_absolute_error: 16.968 - ETA: 0s - loss: nan - mean_absolute_error: nan        - ETA: 0s - loss: nan - mean_absolute_error: na - 0s 11ms/step - loss: nan - mean_absolute_error: nan - val_loss: 25.2316 - val_mean_absolute_error: 25.2316\n",
      "Epoch 94/100\n"
     ]
    },
    {
     "name": "stdout",
     "output_type": "stream",
     "text": [
      "28/28 [==============================] - ETA: 0s - loss: 15.6949 - mean_absolute_error: 15.694 - ETA: 0s - loss: 14.7555 - mean_absolute_error: 14.755 - ETA: 0s - loss: 14.9879 - mean_absolute_error: 14.987 - ETA: 0s - loss: 14.6793 - mean_absolute_error: 14.679 - ETA: 0s - loss: nan - mean_absolute_error: nan        - 0s 10ms/step - loss: nan - mean_absolute_error: nan - val_loss: 26.7507 - val_mean_absolute_error: 26.7507\n",
      "Epoch 95/100\n",
      "28/28 [==============================] - ETA: 0s - loss: 15.3571 - mean_absolute_error: 15.357 - ETA: 0s - loss: 17.2025 - mean_absolute_error: 17.202 - ETA: 0s - loss: nan - mean_absolute_error: nan        - ETA: 0s - loss: nan - mean_absolute_error: na - ETA: 0s - loss: nan - mean_absolute_error: na - 1s 20ms/step - loss: nan - mean_absolute_error: nan - val_loss: 22.6175 - val_mean_absolute_error: 22.6175\n",
      "Epoch 96/100\n",
      "28/28 [==============================] - ETA: 0s - loss: 16.7282 - mean_absolute_error: 16.728 - ETA: 0s - loss: 14.2527 - mean_absolute_error: 14.252 - ETA: 0s - loss: nan - mean_absolute_error: nan        - ETA: 0s - loss: nan - mean_absolute_error: na - ETA: 0s - loss: nan - mean_absolute_error: na - 0s 11ms/step - loss: nan - mean_absolute_error: nan - val_loss: 24.5212 - val_mean_absolute_error: 24.5212\n",
      "Epoch 97/100\n",
      "28/28 [==============================] - ETA: 0s - loss: nan - mean_absolute_error: na - ETA: 0s - loss: nan - mean_absolute_error: na - ETA: 0s - loss: nan - mean_absolute_error: na - ETA: 0s - loss: nan - mean_absolute_error: na - ETA: 0s - loss: nan - mean_absolute_error: na - 0s 10ms/step - loss: nan - mean_absolute_error: nan - val_loss: 29.7509 - val_mean_absolute_error: 29.7509\n",
      "Epoch 98/100\n",
      "28/28 [==============================] - ETA: 0s - loss: 27.8775 - mean_absolute_error: 27.877 - ETA: 0s - loss: 20.8152 - mean_absolute_error: 20.815 - ETA: 0s - loss: nan - mean_absolute_error: nan        - ETA: 0s - loss: nan - mean_absolute_error: na - ETA: 0s - loss: nan - mean_absolute_error: na - 0s 11ms/step - loss: nan - mean_absolute_error: nan - val_loss: 25.0697 - val_mean_absolute_error: 25.0697\n",
      "Epoch 99/100\n",
      "28/28 [==============================] - ETA: 0s - loss: 13.9171 - mean_absolute_error: 13.917 - ETA: 0s - loss: 19.8950 - mean_absolute_error: 19.895 - ETA: 0s - loss: 17.7502 - mean_absolute_error: 17.750 - ETA: 0s - loss: 16.7409 - mean_absolute_error: 16.740 - 0s 9ms/step - loss: nan - mean_absolute_error: nan - val_loss: 23.1363 - val_mean_absolute_error: 23.1363\n",
      "Epoch 100/100\n",
      "28/28 [==============================] - ETA: 0s - loss: 10.5729 - mean_absolute_error: 10.572 - ETA: 0s - loss: 13.0654 - mean_absolute_error: 13.065 - ETA: 0s - loss: nan - mean_absolute_error: nan        - ETA: 0s - loss: nan - mean_absolute_error: na - ETA: 0s - loss: nan - mean_absolute_error: na - 0s 10ms/step - loss: nan - mean_absolute_error: nan - val_loss: 22.7748 - val_mean_absolute_error: 22.7748\n",
      "Epoch 1/100\n",
      "28/28 [==============================] - ETA: 0s - loss: 130.1712 - mean_absolute_error: 130.171 - ETA: 0s - loss: nan - mean_absolute_error: nan          - ETA: 0s - loss: nan - mean_absolute_error: na - ETA: 0s - loss: nan - mean_absolute_error: na - ETA: 0s - loss: nan - mean_absolute_error: na - 1s 20ms/step - loss: nan - mean_absolute_error: nan - val_loss: 57.9026 - val_mean_absolute_error: 57.9026\n",
      "Epoch 2/100\n",
      "28/28 [==============================] - ETA: 0s - loss: 56.4425 - mean_absolute_error: 56.442 - ETA: 0s - loss: nan - mean_absolute_error: nan        - ETA: 0s - loss: nan - mean_absolute_error: na - ETA: 0s - loss: nan - mean_absolute_error: na - ETA: 0s - loss: nan - mean_absolute_error: na - 0s 11ms/step - loss: nan - mean_absolute_error: nan - val_loss: 42.5107 - val_mean_absolute_error: 42.5107\n",
      "Epoch 3/100\n",
      "28/28 [==============================] - ETA: 0s - loss: 36.7596 - mean_absolute_error: 36.759 - ETA: 0s - loss: 41.4778 - mean_absolute_error: 41.477 - ETA: 0s - loss: nan - mean_absolute_error: nan        - ETA: 0s - loss: nan - mean_absolute_error: na - 0s 10ms/step - loss: nan - mean_absolute_error: nan - val_loss: 39.5539 - val_mean_absolute_error: 39.5539\n",
      "Epoch 4/100\n",
      "28/28 [==============================] - ETA: 0s - loss: 40.1929 - mean_absolute_error: 40.192 - ETA: 0s - loss: 34.6281 - mean_absolute_error: 34.628 - ETA: 0s - loss: 39.2494 - mean_absolute_error: 39.249 - ETA: 0s - loss: nan - mean_absolute_error: nan        - 0s 9ms/step - loss: nan - mean_absolute_error: nan - val_loss: 42.7713 - val_mean_absolute_error: 42.7713\n",
      "Epoch 5/100\n",
      "28/28 [==============================] - ETA: 0s - loss: 33.4708 - mean_absolute_error: 33.470 - ETA: 0s - loss: nan - mean_absolute_error: nan        - ETA: 0s - loss: nan - mean_absolute_error: na - ETA: 0s - loss: nan - mean_absolute_error: na - ETA: 0s - loss: nan - mean_absolute_error: na - 0s 11ms/step - loss: nan - mean_absolute_error: nan - val_loss: 41.1121 - val_mean_absolute_error: 41.1121\n",
      "Epoch 6/100\n",
      "28/28 [==============================] - ETA: 0s - loss: 35.7578 - mean_absolute_error: 35.757 - ETA: 0s - loss: 43.4230 - mean_absolute_error: 43.423 - ETA: 0s - loss: nan - mean_absolute_error: nan        - ETA: 0s - loss: nan - mean_absolute_error: na - ETA: 0s - loss: nan - mean_absolute_error: na - 0s 11ms/step - loss: nan - mean_absolute_error: nan - val_loss: 36.0645 - val_mean_absolute_error: 36.0645\n",
      "Epoch 7/100\n",
      "28/28 [==============================] - ETA: 0s - loss: 36.4025 - mean_absolute_error: 36.402 - ETA: 0s - loss: 37.7148 - mean_absolute_error: 37.714 - ETA: 0s - loss: nan - mean_absolute_error: nan        - ETA: 0s - loss: nan - mean_absolute_error: na - ETA: 0s - loss: nan - mean_absolute_error: na - 0s 11ms/step - loss: nan - mean_absolute_error: nan - val_loss: 35.3396 - val_mean_absolute_error: 35.3396\n",
      "Epoch 8/100\n",
      "28/28 [==============================] - ETA: 0s - loss: 35.2064 - mean_absolute_error: 35.206 - ETA: 0s - loss: 38.2560 - mean_absolute_error: 38.256 - ETA: 0s - loss: 39.1702 - mean_absolute_error: 39.170 - ETA: 0s - loss: 39.0214 - mean_absolute_error: 39.021 - ETA: 0s - loss: nan - mean_absolute_error: nan        - 0s 10ms/step - loss: nan - mean_absolute_error: nan - val_loss: 35.1848 - val_mean_absolute_error: 35.1848\n",
      "Epoch 9/100\n",
      "28/28 [==============================] - ETA: 0s - loss: 43.4045 - mean_absolute_error: 43.404 - ETA: 0s - loss: nan - mean_absolute_error: nan        - ETA: 0s - loss: nan - mean_absolute_error: na - ETA: 0s - loss: nan - mean_absolute_error: na - ETA: 0s - loss: nan - mean_absolute_error: na - 0s 11ms/step - loss: nan - mean_absolute_error: nan - val_loss: 39.9287 - val_mean_absolute_error: 39.9287\n",
      "Epoch 10/100\n",
      "28/28 [==============================] - ETA: 0s - loss: 29.4943 - mean_absolute_error: 29.494 - ETA: 0s - loss: 35.7212 - mean_absolute_error: 35.721 - ETA: 0s - loss: nan - mean_absolute_error: nan        - ETA: 0s - loss: nan - mean_absolute_error: na - 0s 10ms/step - loss: nan - mean_absolute_error: nan - val_loss: 33.7749 - val_mean_absolute_error: 33.7749\n",
      "Epoch 11/100\n",
      "28/28 [==============================] - ETA: 0s - loss: 50.4930 - mean_absolute_error: 50.493 - ETA: 0s - loss: 38.2103 - mean_absolute_error: 38.210 - ETA: 0s - loss: 38.3316 - mean_absolute_error: 38.331 - ETA: 0s - loss: 36.7254 - mean_absolute_error: 36.725 - ETA: 0s - loss: nan - mean_absolute_error: nan        - 0s 11ms/step - loss: nan - mean_absolute_error: nan - val_loss: 31.5419 - val_mean_absolute_error: 31.5419\n",
      "Epoch 12/100\n",
      "28/28 [==============================] - ETA: 0s - loss: 49.7519 - mean_absolute_error: 49.751 - ETA: 0s - loss: 33.0666 - mean_absolute_error: 33.066 - ETA: 0s - loss: 34.3361 - mean_absolute_error: 34.336 - ETA: 0s - loss: nan - mean_absolute_error: nan        - 0s 9ms/step - loss: nan - mean_absolute_error: nan - val_loss: 38.9709 - val_mean_absolute_error: 38.9709\n",
      "Epoch 13/100\n",
      "28/28 [==============================] - ETA: 0s - loss: 27.6509 - mean_absolute_error: 27.650 - ETA: 0s - loss: 33.3633 - mean_absolute_error: 33.363 - ETA: 0s - loss: 35.2408 - mean_absolute_error: 35.240 - ETA: 0s - loss: nan - mean_absolute_error: nan        - ETA: 0s - loss: nan - mean_absolute_error: na - 0s 11ms/step - loss: nan - mean_absolute_error: nan - val_loss: 35.3978 - val_mean_absolute_error: 35.3978\n"
     ]
    },
    {
     "name": "stdout",
     "output_type": "stream",
     "text": [
      "Epoch 14/100\n",
      "28/28 [==============================] - ETA: 0s - loss: 31.7843 - mean_absolute_error: 31.784 - ETA: 0s - loss: 37.6153 - mean_absolute_error: 37.615 - ETA: 0s - loss: nan - mean_absolute_error: nan        - ETA: 0s - loss: nan - mean_absolute_error: na - ETA: 0s - loss: nan - mean_absolute_error: na - 0s 11ms/step - loss: nan - mean_absolute_error: nan - val_loss: 35.5299 - val_mean_absolute_error: 35.5299\n",
      "Epoch 15/100\n",
      "28/28 [==============================] - ETA: 0s - loss: 38.0622 - mean_absolute_error: 38.062 - ETA: 0s - loss: 38.5326 - mean_absolute_error: 38.532 - ETA: 0s - loss: nan - mean_absolute_error: nan        - ETA: 0s - loss: nan - mean_absolute_error: na - ETA: 0s - loss: nan - mean_absolute_error: na - 0s 10ms/step - loss: nan - mean_absolute_error: nan - val_loss: 30.7022 - val_mean_absolute_error: 30.7022\n",
      "Epoch 16/100\n",
      "28/28 [==============================] - ETA: 0s - loss: 28.0229 - mean_absolute_error: 28.022 - ETA: 0s - loss: nan - mean_absolute_error: nan        - ETA: 0s - loss: nan - mean_absolute_error: na - ETA: 0s - loss: nan - mean_absolute_error: na - ETA: 0s - loss: nan - mean_absolute_error: na - 0s 11ms/step - loss: nan - mean_absolute_error: nan - val_loss: 33.7299 - val_mean_absolute_error: 33.7299\n",
      "Epoch 17/100\n",
      "28/28 [==============================] - ETA: 0s - loss: 39.1063 - mean_absolute_error: 39.106 - ETA: 0s - loss: 36.0477 - mean_absolute_error: 36.047 - ETA: 0s - loss: nan - mean_absolute_error: nan        - ETA: 0s - loss: nan - mean_absolute_error: na - ETA: 0s - loss: nan - mean_absolute_error: na - 0s 10ms/step - loss: nan - mean_absolute_error: nan - val_loss: 40.4737 - val_mean_absolute_error: 40.4737\n",
      "Epoch 18/100\n",
      "28/28 [==============================] - ETA: 0s - loss: 41.9033 - mean_absolute_error: 41.903 - ETA: 0s - loss: 36.1723 - mean_absolute_error: 36.172 - ETA: 0s - loss: 37.7589 - mean_absolute_error: 37.758 - ETA: 0s - loss: 35.2422 - mean_absolute_error: 35.242 - 0s 9ms/step - loss: nan - mean_absolute_error: nan - val_loss: 32.9331 - val_mean_absolute_error: 32.9331\n",
      "Epoch 19/100\n",
      "28/28 [==============================] - ETA: 0s - loss: 27.8264 - mean_absolute_error: 27.826 - ETA: 0s - loss: nan - mean_absolute_error: nan        - ETA: 0s - loss: nan - mean_absolute_error: na - ETA: 0s - loss: nan - mean_absolute_error: na - ETA: 0s - loss: nan - mean_absolute_error: na - 0s 10ms/step - loss: nan - mean_absolute_error: nan - val_loss: 30.9579 - val_mean_absolute_error: 30.9579\n",
      "Epoch 20/100\n",
      "28/28 [==============================] - ETA: 0s - loss: 22.5095 - mean_absolute_error: 22.509 - ETA: 0s - loss: 30.7661 - mean_absolute_error: 30.766 - ETA: 0s - loss: 32.1320 - mean_absolute_error: 32.132 - ETA: 0s - loss: nan - mean_absolute_error: nan        - 0s 9ms/step - loss: nan - mean_absolute_error: nan - val_loss: 31.0422 - val_mean_absolute_error: 31.0422\n",
      "Epoch 21/100\n",
      "28/28 [==============================] - ETA: 0s - loss: 33.6484 - mean_absolute_error: 33.648 - ETA: 0s - loss: nan - mean_absolute_error: nan        - ETA: 0s - loss: nan - mean_absolute_error: na - ETA: 0s - loss: nan - mean_absolute_error: na - 0s 9ms/step - loss: nan - mean_absolute_error: nan - val_loss: 30.4028 - val_mean_absolute_error: 30.4028\n",
      "Epoch 22/100\n",
      "28/28 [==============================] - ETA: 0s - loss: 28.5561 - mean_absolute_error: 28.556 - ETA: 0s - loss: 26.7950 - mean_absolute_error: 26.795 - ETA: 0s - loss: 30.4932 - mean_absolute_error: 30.493 - ETA: 0s - loss: 31.9579 - mean_absolute_error: 31.957 - 0s 10ms/step - loss: nan - mean_absolute_error: nan - val_loss: 35.9500 - val_mean_absolute_error: 35.9500\n",
      "Epoch 23/100\n",
      "28/28 [==============================] - ETA: 0s - loss: 39.9111 - mean_absolute_error: 39.911 - ETA: 0s - loss: 33.9754 - mean_absolute_error: 33.975 - ETA: 0s - loss: 31.8106 - mean_absolute_error: 31.810 - ETA: 0s - loss: nan - mean_absolute_error: nan        - 0s 9ms/step - loss: nan - mean_absolute_error: nan - val_loss: 30.9692 - val_mean_absolute_error: 30.9692\n",
      "Epoch 24/100\n",
      "28/28 [==============================] - ETA: 0s - loss: 56.5243 - mean_absolute_error: 56.524 - ETA: 0s - loss: 34.0533 - mean_absolute_error: 34.053 - ETA: 0s - loss: nan - mean_absolute_error: nan        - ETA: 0s - loss: nan - mean_absolute_error: na - ETA: 0s - loss: nan - mean_absolute_error: na - 0s 10ms/step - loss: nan - mean_absolute_error: nan - val_loss: 30.3602 - val_mean_absolute_error: 30.3602\n",
      "Epoch 25/100\n",
      "28/28 [==============================] - ETA: 0s - loss: 27.7959 - mean_absolute_error: 27.795 - ETA: 0s - loss: 28.0093 - mean_absolute_error: 28.009 - ETA: 0s - loss: nan - mean_absolute_error: nan        - ETA: 0s - loss: nan - mean_absolute_error: na - ETA: 0s - loss: nan - mean_absolute_error: na - 0s 10ms/step - loss: nan - mean_absolute_error: nan - val_loss: 29.7876 - val_mean_absolute_error: 29.7876\n",
      "Epoch 26/100\n",
      "28/28 [==============================] - ETA: 0s - loss: 19.0992 - mean_absolute_error: 19.099 - ETA: 0s - loss: nan - mean_absolute_error: nan        - ETA: 0s - loss: nan - mean_absolute_error: na - ETA: 0s - loss: nan - mean_absolute_error: na - ETA: 0s - loss: nan - mean_absolute_error: na - 0s 10ms/step - loss: nan - mean_absolute_error: nan - val_loss: 32.2119 - val_mean_absolute_error: 32.2119\n",
      "Epoch 27/100\n",
      "28/28 [==============================] - ETA: 0s - loss: 26.9076 - mean_absolute_error: 26.907 - ETA: 0s - loss: 39.4380 - mean_absolute_error: 39.438 - ETA: 0s - loss: nan - mean_absolute_error: nan        - ETA: 0s - loss: nan - mean_absolute_error: na - 0s 9ms/step - loss: nan - mean_absolute_error: nan - val_loss: 31.0381 - val_mean_absolute_error: 31.0381\n",
      "Epoch 28/100\n",
      "28/28 [==============================] - ETA: 0s - loss: 31.1977 - mean_absolute_error: 31.197 - ETA: 0s - loss: nan - mean_absolute_error: nan        - ETA: 0s - loss: nan - mean_absolute_error: na - ETA: 0s - loss: nan - mean_absolute_error: na - ETA: 0s - loss: nan - mean_absolute_error: na - 0s 11ms/step - loss: nan - mean_absolute_error: nan - val_loss: 29.8135 - val_mean_absolute_error: 29.8135\n",
      "Epoch 29/100\n",
      "28/28 [==============================] - ETA: 0s - loss: 26.5683 - mean_absolute_error: 26.568 - ETA: 0s - loss: 28.9222 - mean_absolute_error: 28.922 - ETA: 0s - loss: nan - mean_absolute_error: nan        - ETA: 0s - loss: nan - mean_absolute_error: na - ETA: 0s - loss: nan - mean_absolute_error: na - 0s 10ms/step - loss: nan - mean_absolute_error: nan - val_loss: 30.0130 - val_mean_absolute_error: 30.0130\n",
      "Epoch 30/100\n",
      "28/28 [==============================] - ETA: 0s - loss: 29.5189 - mean_absolute_error: 29.518 - ETA: 0s - loss: 27.5623 - mean_absolute_error: 27.562 - ETA: 0s - loss: 26.4514 - mean_absolute_error: 26.451 - ETA: 0s - loss: nan - mean_absolute_error: nan        - 0s 9ms/step - loss: nan - mean_absolute_error: nan - val_loss: 31.0452 - val_mean_absolute_error: 31.0452\n",
      "Epoch 31/100\n",
      "28/28 [==============================] - ETA: 0s - loss: 31.0818 - mean_absolute_error: 31.081 - ETA: 0s - loss: 27.7530 - mean_absolute_error: 27.753 - ETA: 0s - loss: 28.3049 - mean_absolute_error: 28.304 - ETA: 0s - loss: nan - mean_absolute_error: nan        - 0s 9ms/step - loss: nan - mean_absolute_error: nan - val_loss: 33.6317 - val_mean_absolute_error: 33.6317\n",
      "Epoch 32/100\n",
      "28/28 [==============================] - ETA: 0s - loss: 38.1936 - mean_absolute_error: 38.193 - ETA: 0s - loss: 33.2376 - mean_absolute_error: 33.237 - ETA: 0s - loss: 32.6855 - mean_absolute_error: 32.685 - ETA: 0s - loss: 32.0524 - mean_absolute_error: 32.052 - ETA: 0s - loss: nan - mean_absolute_error: nan        - 0s 11ms/step - loss: nan - mean_absolute_error: nan - val_loss: 29.6029 - val_mean_absolute_error: 29.6029\n",
      "Epoch 33/100\n",
      "28/28 [==============================] - ETA: 0s - loss: 35.0119 - mean_absolute_error: 35.011 - ETA: 0s - loss: nan - mean_absolute_error: nan        - ETA: 0s - loss: nan - mean_absolute_error: na - ETA: 0s - loss: nan - mean_absolute_error: na - ETA: 0s - loss: nan - mean_absolute_error: na - 0s 10ms/step - loss: nan - mean_absolute_error: nan - val_loss: 30.9564 - val_mean_absolute_error: 30.9564\n",
      "Epoch 34/100\n"
     ]
    },
    {
     "name": "stdout",
     "output_type": "stream",
     "text": [
      "28/28 [==============================] - ETA: 0s - loss: 23.2817 - mean_absolute_error: 23.281 - ETA: 0s - loss: nan - mean_absolute_error: nan        - ETA: 0s - loss: nan - mean_absolute_error: na - ETA: 0s - loss: nan - mean_absolute_error: na - ETA: 0s - loss: nan - mean_absolute_error: na - 0s 11ms/step - loss: nan - mean_absolute_error: nan - val_loss: 31.4659 - val_mean_absolute_error: 31.4659\n",
      "Epoch 35/100\n",
      "28/28 [==============================] - ETA: 0s - loss: 29.1776 - mean_absolute_error: 29.177 - ETA: 0s - loss: 24.7780 - mean_absolute_error: 24.778 - ETA: 0s - loss: 26.9679 - mean_absolute_error: 26.967 - ETA: 0s - loss: nan - mean_absolute_error: nan        - ETA: 0s - loss: nan - mean_absolute_error: na - 0s 10ms/step - loss: nan - mean_absolute_error: nan - val_loss: 29.4231 - val_mean_absolute_error: 29.4231\n",
      "Epoch 36/100\n",
      "28/28 [==============================] - ETA: 0s - loss: 28.8801 - mean_absolute_error: 28.880 - ETA: 0s - loss: nan - mean_absolute_error: nan        - ETA: 0s - loss: nan - mean_absolute_error: na - ETA: 0s - loss: nan - mean_absolute_error: na - ETA: 0s - loss: nan - mean_absolute_error: na - 0s 10ms/step - loss: nan - mean_absolute_error: nan - val_loss: 28.7055 - val_mean_absolute_error: 28.7055\n",
      "Epoch 37/100\n",
      "28/28 [==============================] - ETA: 0s - loss: 25.1993 - mean_absolute_error: 25.199 - ETA: 0s - loss: nan - mean_absolute_error: nan        - ETA: 0s - loss: nan - mean_absolute_error: na - ETA: 0s - loss: nan - mean_absolute_error: na - ETA: 0s - loss: nan - mean_absolute_error: na - 0s 10ms/step - loss: nan - mean_absolute_error: nan - val_loss: 31.8971 - val_mean_absolute_error: 31.8971\n",
      "Epoch 38/100\n",
      "28/28 [==============================] - ETA: 0s - loss: 22.1247 - mean_absolute_error: 22.124 - ETA: 0s - loss: 25.8554 - mean_absolute_error: 25.855 - ETA: 0s - loss: 24.8746 - mean_absolute_error: 24.874 - ETA: 0s - loss: 25.0263 - mean_absolute_error: 25.026 - ETA: 0s - loss: nan - mean_absolute_error: nan        - 0s 11ms/step - loss: nan - mean_absolute_error: nan - val_loss: 29.1479 - val_mean_absolute_error: 29.1479\n",
      "Epoch 39/100\n",
      "28/28 [==============================] - ETA: 0s - loss: 33.1877 - mean_absolute_error: 33.187 - ETA: 0s - loss: nan - mean_absolute_error: nan        - ETA: 0s - loss: nan - mean_absolute_error: na - ETA: 0s - loss: nan - mean_absolute_error: na - ETA: 0s - loss: nan - mean_absolute_error: na - 0s 10ms/step - loss: nan - mean_absolute_error: nan - val_loss: 30.0596 - val_mean_absolute_error: 30.0596\n",
      "Epoch 40/100\n",
      "28/28 [==============================] - ETA: 0s - loss: 22.6725 - mean_absolute_error: 22.672 - ETA: 0s - loss: nan - mean_absolute_error: nan        - ETA: 0s - loss: nan - mean_absolute_error: na - 0s 7ms/step - loss: nan - mean_absolute_error: nan - val_loss: 27.9800 - val_mean_absolute_error: 27.9800\n",
      "Epoch 41/100\n",
      "28/28 [==============================] - ETA: 0s - loss: 26.0687 - mean_absolute_error: 26.068 - ETA: 0s - loss: 24.8490 - mean_absolute_error: 24.849 - ETA: 0s - loss: nan - mean_absolute_error: nan        - 0s 7ms/step - loss: nan - mean_absolute_error: nan - val_loss: 27.4191 - val_mean_absolute_error: 27.4191\n",
      "Epoch 42/100\n",
      "28/28 [==============================] - ETA: 0s - loss: nan - mean_absolute_error: na - ETA: 0s - loss: nan - mean_absolute_error: na - ETA: 0s - loss: nan - mean_absolute_error: na - ETA: 0s - loss: nan - mean_absolute_error: na - 0s 9ms/step - loss: nan - mean_absolute_error: nan - val_loss: 27.5881 - val_mean_absolute_error: 27.5881\n",
      "Epoch 43/100\n",
      "28/28 [==============================] - ETA: 0s - loss: 22.7943 - mean_absolute_error: 22.794 - ETA: 0s - loss: 25.5519 - mean_absolute_error: 25.551 - ETA: 0s - loss: 26.2577 - mean_absolute_error: 26.257 - ETA: 0s - loss: 24.7476 - mean_absolute_error: 24.747 - ETA: 0s - loss: nan - mean_absolute_error: nan        - 0s 11ms/step - loss: nan - mean_absolute_error: nan - val_loss: 26.7498 - val_mean_absolute_error: 26.7498\n",
      "Epoch 44/100\n",
      "28/28 [==============================] - ETA: 0s - loss: 23.7161 - mean_absolute_error: 23.716 - ETA: 0s - loss: 22.9328 - mean_absolute_error: 22.932 - ETA: 0s - loss: 22.5802 - mean_absolute_error: 22.580 - ETA: 0s - loss: nan - mean_absolute_error: nan        - 0s 9ms/step - loss: nan - mean_absolute_error: nan - val_loss: 27.4235 - val_mean_absolute_error: 27.4235\n",
      "Epoch 45/100\n",
      "28/28 [==============================] - ETA: 0s - loss: 30.8606 - mean_absolute_error: 30.860 - ETA: 0s - loss: 25.7154 - mean_absolute_error: 25.715 - ETA: 0s - loss: 25.9513 - mean_absolute_error: 25.951 - ETA: 0s - loss: nan - mean_absolute_error: nan        - ETA: 0s - loss: nan - mean_absolute_error: na - 0s 11ms/step - loss: nan - mean_absolute_error: nan - val_loss: 27.5542 - val_mean_absolute_error: 27.5542\n",
      "Epoch 46/100\n",
      "28/28 [==============================] - ETA: 0s - loss: 24.3350 - mean_absolute_error: 24.335 - ETA: 0s - loss: 21.3228 - mean_absolute_error: 21.322 - ETA: 0s - loss: nan - mean_absolute_error: nan        - ETA: 0s - loss: nan - mean_absolute_error: na - ETA: 0s - loss: nan - mean_absolute_error: na - 0s 10ms/step - loss: nan - mean_absolute_error: nan - val_loss: 28.5396 - val_mean_absolute_error: 28.5396\n",
      "Epoch 47/100\n",
      "28/28 [==============================] - ETA: 0s - loss: 21.7730 - mean_absolute_error: 21.773 - ETA: 0s - loss: nan - mean_absolute_error: nan        - ETA: 0s - loss: nan - mean_absolute_error: na - ETA: 0s - loss: nan - mean_absolute_error: na - 0s 9ms/step - loss: nan - mean_absolute_error: nan - val_loss: 25.4386 - val_mean_absolute_error: 25.4386\n",
      "Epoch 48/100\n",
      "28/28 [==============================] - ETA: 0s - loss: 26.8344 - mean_absolute_error: 26.834 - ETA: 0s - loss: nan - mean_absolute_error: nan        - ETA: 0s - loss: nan - mean_absolute_error: na - ETA: 0s - loss: nan - mean_absolute_error: na - ETA: 0s - loss: nan - mean_absolute_error: na - 0s 10ms/step - loss: nan - mean_absolute_error: nan - val_loss: 25.6882 - val_mean_absolute_error: 25.6882\n",
      "Epoch 49/100\n",
      "28/28 [==============================] - ETA: 0s - loss: 15.4687 - mean_absolute_error: 15.468 - ETA: 0s - loss: 20.2575 - mean_absolute_error: 20.257 - ETA: 0s - loss: 21.0571 - mean_absolute_error: 21.057 - ETA: 0s - loss: 21.1095 - mean_absolute_error: 21.109 - ETA: 0s - loss: 21.0146 - mean_absolute_error: 21.014 - 0s 11ms/step - loss: nan - mean_absolute_error: nan - val_loss: 26.9760 - val_mean_absolute_error: 26.9760\n",
      "Epoch 50/100\n",
      "28/28 [==============================] - ETA: 0s - loss: 15.7416 - mean_absolute_error: 15.741 - ETA: 0s - loss: 21.8733 - mean_absolute_error: 21.873 - ETA: 0s - loss: 21.7411 - mean_absolute_error: 21.741 - ETA: 0s - loss: 20.9167 - mean_absolute_error: 20.916 - ETA: 0s - loss: nan - mean_absolute_error: nan        - 0s 10ms/step - loss: nan - mean_absolute_error: nan - val_loss: 29.4277 - val_mean_absolute_error: 29.4277\n",
      "Epoch 51/100\n",
      "28/28 [==============================] - ETA: 0s - loss: 23.0282 - mean_absolute_error: 23.028 - ETA: 0s - loss: 21.6651 - mean_absolute_error: 21.665 - ETA: 0s - loss: nan - mean_absolute_error: nan        - ETA: 0s - loss: nan - mean_absolute_error: na - ETA: 0s - loss: nan - mean_absolute_error: na - 0s 10ms/step - loss: nan - mean_absolute_error: nan - val_loss: 26.6483 - val_mean_absolute_error: 26.6483\n",
      "Epoch 52/100\n",
      "28/28 [==============================] - ETA: 0s - loss: 22.6662 - mean_absolute_error: 22.666 - ETA: 0s - loss: nan - mean_absolute_error: nan        - ETA: 0s - loss: nan - mean_absolute_error: na - ETA: 0s - loss: nan - mean_absolute_error: na - 0s 9ms/step - loss: nan - mean_absolute_error: nan - val_loss: 25.0778 - val_mean_absolute_error: 25.0778\n",
      "Epoch 53/100\n",
      "28/28 [==============================] - ETA: 0s - loss: 18.7356 - mean_absolute_error: 18.735 - ETA: 0s - loss: 21.4888 - mean_absolute_error: 21.488 - ETA: 0s - loss: 20.8131 - mean_absolute_error: 20.813 - ETA: 0s - loss: nan - mean_absolute_error: nan        - 0s 9ms/step - loss: nan - mean_absolute_error: nan - val_loss: 26.5006 - val_mean_absolute_error: 26.5006\n",
      "Epoch 54/100\n"
     ]
    },
    {
     "name": "stdout",
     "output_type": "stream",
     "text": [
      "28/28 [==============================] - ETA: 0s - loss: 17.1203 - mean_absolute_error: 17.120 - ETA: 0s - loss: 18.1046 - mean_absolute_error: 18.104 - ETA: 0s - loss: 18.7871 - mean_absolute_error: 18.787 - ETA: 0s - loss: 18.8584 - mean_absolute_error: 18.858 - ETA: 0s - loss: nan - mean_absolute_error: nan        - 0s 11ms/step - loss: nan - mean_absolute_error: nan - val_loss: 25.5968 - val_mean_absolute_error: 25.5968\n",
      "Epoch 55/100\n",
      "28/28 [==============================] - ETA: 0s - loss: 11.8095 - mean_absolute_error: 11.809 - ETA: 0s - loss: 18.4783 - mean_absolute_error: 18.478 - ETA: 0s - loss: 20.0217 - mean_absolute_error: 20.021 - ETA: 0s - loss: 20.4116 - mean_absolute_error: 20.411 - ETA: 0s - loss: nan - mean_absolute_error: nan        - 0s 11ms/step - loss: nan - mean_absolute_error: nan - val_loss: 25.9170 - val_mean_absolute_error: 25.9170\n",
      "Epoch 56/100\n",
      "28/28 [==============================] - ETA: 0s - loss: 16.8123 - mean_absolute_error: 16.812 - ETA: 0s - loss: 23.3455 - mean_absolute_error: 23.345 - ETA: 0s - loss: 20.7340 - mean_absolute_error: 20.734 - ETA: 0s - loss: nan - mean_absolute_error: nan        - ETA: 0s - loss: nan - mean_absolute_error: na - 0s 11ms/step - loss: nan - mean_absolute_error: nan - val_loss: 24.4185 - val_mean_absolute_error: 24.4185\n",
      "Epoch 57/100\n",
      "28/28 [==============================] - ETA: 0s - loss: 13.5897 - mean_absolute_error: 13.589 - ETA: 0s - loss: 18.8452 - mean_absolute_error: 18.845 - ETA: 0s - loss: 19.9829 - mean_absolute_error: 19.982 - ETA: 0s - loss: nan - mean_absolute_error: nan        - ETA: 0s - loss: nan - mean_absolute_error: na - 0s 10ms/step - loss: nan - mean_absolute_error: nan - val_loss: 28.4917 - val_mean_absolute_error: 28.4917\n",
      "Epoch 58/100\n",
      "28/28 [==============================] - ETA: 0s - loss: 18.5243 - mean_absolute_error: 18.524 - ETA: 0s - loss: nan - mean_absolute_error: nan        - ETA: 0s - loss: nan - mean_absolute_error: na - ETA: 0s - loss: nan - mean_absolute_error: na - ETA: 0s - loss: nan - mean_absolute_error: na - 0s 11ms/step - loss: nan - mean_absolute_error: nan - val_loss: 27.8575 - val_mean_absolute_error: 27.8575\n",
      "Epoch 59/100\n",
      "28/28 [==============================] - ETA: 0s - loss: 23.5048 - mean_absolute_error: 23.504 - ETA: 0s - loss: 19.0608 - mean_absolute_error: 19.060 - ETA: 0s - loss: 20.6094 - mean_absolute_error: 20.609 - ETA: 0s - loss: 20.2930 - mean_absolute_error: 20.293 - ETA: 0s - loss: nan - mean_absolute_error: nan        - 0s 10ms/step - loss: nan - mean_absolute_error: nan - val_loss: 25.4382 - val_mean_absolute_error: 25.4382\n",
      "Epoch 60/100\n",
      "28/28 [==============================] - ETA: 0s - loss: 23.1923 - mean_absolute_error: 23.192 - ETA: 0s - loss: nan - mean_absolute_error: nan        - ETA: 0s - loss: nan - mean_absolute_error: na - ETA: 0s - loss: nan - mean_absolute_error: na - 0s 9ms/step - loss: nan - mean_absolute_error: nan - val_loss: 28.4476 - val_mean_absolute_error: 28.4476\n",
      "Epoch 61/100\n",
      "28/28 [==============================] - ETA: 0s - loss: 28.5499 - mean_absolute_error: 28.549 - ETA: 0s - loss: 19.6846 - mean_absolute_error: 19.684 - ETA: 0s - loss: nan - mean_absolute_error: nan        - ETA: 0s - loss: nan - mean_absolute_error: na - ETA: 0s - loss: nan - mean_absolute_error: na - 0s 11ms/step - loss: nan - mean_absolute_error: nan - val_loss: 24.5758 - val_mean_absolute_error: 24.5758\n",
      "Epoch 62/100\n",
      "28/28 [==============================] - ETA: 0s - loss: 13.5699 - mean_absolute_error: 13.569 - ETA: 0s - loss: 21.4088 - mean_absolute_error: 21.408 - ETA: 0s - loss: 21.3460 - mean_absolute_error: 21.346 - ETA: 0s - loss: nan - mean_absolute_error: nan        - ETA: 0s - loss: nan - mean_absolute_error: na - 0s 11ms/step - loss: nan - mean_absolute_error: nan - val_loss: 24.4005 - val_mean_absolute_error: 24.4005\n",
      "Epoch 63/100\n",
      "28/28 [==============================] - ETA: 0s - loss: 20.0480 - mean_absolute_error: 20.048 - ETA: 0s - loss: 21.1600 - mean_absolute_error: 21.160 - ETA: 0s - loss: 22.6234 - mean_absolute_error: 22.623 - ETA: 0s - loss: 22.1029 - mean_absolute_error: 22.102 - ETA: 0s - loss: nan - mean_absolute_error: nan        - 0s 11ms/step - loss: nan - mean_absolute_error: nan - val_loss: 29.9443 - val_mean_absolute_error: 29.9443\n",
      "Epoch 64/100\n",
      "28/28 [==============================] - ETA: 0s - loss: 27.5389 - mean_absolute_error: 27.538 - ETA: 0s - loss: nan - mean_absolute_error: nan        - ETA: 0s - loss: nan - mean_absolute_error: na - ETA: 0s - loss: nan - mean_absolute_error: na - ETA: 0s - loss: nan - mean_absolute_error: na - 0s 11ms/step - loss: nan - mean_absolute_error: nan - val_loss: 24.9169 - val_mean_absolute_error: 24.9169\n",
      "Epoch 65/100\n",
      "28/28 [==============================] - ETA: 0s - loss: 16.4290 - mean_absolute_error: 16.429 - ETA: 0s - loss: 18.5257 - mean_absolute_error: 18.525 - ETA: 0s - loss: 19.3600 - mean_absolute_error: 19.360 - ETA: 0s - loss: nan - mean_absolute_error: nan        - ETA: 0s - loss: nan - mean_absolute_error: na - 0s 10ms/step - loss: nan - mean_absolute_error: nan - val_loss: 25.0714 - val_mean_absolute_error: 25.0714\n",
      "Epoch 66/100\n",
      "28/28 [==============================] - ETA: 0s - loss: 22.6626 - mean_absolute_error: 22.662 - ETA: 0s - loss: 19.2488 - mean_absolute_error: 19.248 - ETA: 0s - loss: 17.7758 - mean_absolute_error: 17.775 - ETA: 0s - loss: nan - mean_absolute_error: nan        - ETA: 0s - loss: nan - mean_absolute_error: na - 0s 10ms/step - loss: nan - mean_absolute_error: nan - val_loss: 25.1406 - val_mean_absolute_error: 25.1406\n",
      "Epoch 67/100\n",
      "28/28 [==============================] - ETA: 0s - loss: 15.5527 - mean_absolute_error: 15.552 - ETA: 0s - loss: 20.0660 - mean_absolute_error: 20.066 - ETA: 0s - loss: 19.1689 - mean_absolute_error: 19.168 - ETA: 0s - loss: 18.4314 - mean_absolute_error: 18.431 - 0s 10ms/step - loss: nan - mean_absolute_error: nan - val_loss: 28.0799 - val_mean_absolute_error: 28.0799\n",
      "Epoch 68/100\n",
      "28/28 [==============================] - ETA: 0s - loss: 26.2903 - mean_absolute_error: 26.290 - ETA: 0s - loss: 22.6617 - mean_absolute_error: 22.661 - ETA: 0s - loss: 23.8396 - mean_absolute_error: 23.839 - ETA: 0s - loss: nan - mean_absolute_error: nan        - ETA: 0s - loss: nan - mean_absolute_error: na - 0s 11ms/step - loss: nan - mean_absolute_error: nan - val_loss: 30.2949 - val_mean_absolute_error: 30.2949\n",
      "Epoch 69/100\n",
      "28/28 [==============================] - ETA: 0s - loss: 18.1642 - mean_absolute_error: 18.164 - ETA: 0s - loss: 18.8606 - mean_absolute_error: 18.860 - ETA: 0s - loss: nan - mean_absolute_error: nan        - ETA: 0s - loss: nan - mean_absolute_error: na - 0s 9ms/step - loss: nan - mean_absolute_error: nan - val_loss: 27.3699 - val_mean_absolute_error: 27.3699\n",
      "Epoch 70/100\n",
      "28/28 [==============================] - ETA: 0s - loss: 33.3153 - mean_absolute_error: 33.315 - ETA: 0s - loss: nan - mean_absolute_error: nan        - ETA: 0s - loss: nan - mean_absolute_error: na - ETA: 0s - loss: nan - mean_absolute_error: na - 0s 9ms/step - loss: nan - mean_absolute_error: nan - val_loss: 27.8571 - val_mean_absolute_error: 27.8571\n",
      "Epoch 71/100\n",
      "28/28 [==============================] - ETA: 0s - loss: 21.1827 - mean_absolute_error: 21.182 - ETA: 0s - loss: 19.8330 - mean_absolute_error: 19.833 - ETA: 0s - loss: nan - mean_absolute_error: nan        - ETA: 0s - loss: nan - mean_absolute_error: na - 0s 9ms/step - loss: nan - mean_absolute_error: nan - val_loss: 27.4962 - val_mean_absolute_error: 27.4962\n",
      "Epoch 72/100\n",
      "28/28 [==============================] - ETA: 0s - loss: 22.6151 - mean_absolute_error: 22.615 - ETA: 0s - loss: 20.7244 - mean_absolute_error: 20.724 - ETA: 0s - loss: nan - mean_absolute_error: nan        - ETA: 0s - loss: nan - mean_absolute_error: na - ETA: 0s - loss: nan - mean_absolute_error: na - 0s 11ms/step - loss: nan - mean_absolute_error: nan - val_loss: 27.0553 - val_mean_absolute_error: 27.0553\n",
      "Epoch 73/100\n"
     ]
    },
    {
     "name": "stdout",
     "output_type": "stream",
     "text": [
      "28/28 [==============================] - ETA: 0s - loss: 23.1657 - mean_absolute_error: 23.165 - ETA: 0s - loss: nan - mean_absolute_error: nan        - ETA: 0s - loss: nan - mean_absolute_error: na - ETA: 0s - loss: nan - mean_absolute_error: na - ETA: 0s - loss: nan - mean_absolute_error: na - 0s 11ms/step - loss: nan - mean_absolute_error: nan - val_loss: 28.9739 - val_mean_absolute_error: 28.9739\n",
      "Epoch 74/100\n",
      "28/28 [==============================] - ETA: 0s - loss: 12.8009 - mean_absolute_error: 12.800 - ETA: 0s - loss: 15.9480 - mean_absolute_error: 15.948 - ETA: 0s - loss: nan - mean_absolute_error: nan        - ETA: 0s - loss: nan - mean_absolute_error: na - ETA: 0s - loss: nan - mean_absolute_error: na - 0s 11ms/step - loss: nan - mean_absolute_error: nan - val_loss: 23.7399 - val_mean_absolute_error: 23.7399\n",
      "Epoch 75/100\n",
      "28/28 [==============================] - ETA: 0s - loss: 22.1834 - mean_absolute_error: 22.183 - ETA: 0s - loss: nan - mean_absolute_error: nan        - ETA: 0s - loss: nan - mean_absolute_error: na - ETA: 0s - loss: nan - mean_absolute_error: na - ETA: 0s - loss: nan - mean_absolute_error: na - 0s 11ms/step - loss: nan - mean_absolute_error: nan - val_loss: 23.7543 - val_mean_absolute_error: 23.7543\n",
      "Epoch 76/100\n",
      "28/28 [==============================] - ETA: 0s - loss: 19.3178 - mean_absolute_error: 19.317 - ETA: 0s - loss: 18.0553 - mean_absolute_error: 18.055 - ETA: 0s - loss: 16.9929 - mean_absolute_error: 16.992 - ETA: 0s - loss: 17.9026 - mean_absolute_error: 17.902 - ETA: 0s - loss: nan - mean_absolute_error: nan        - 0s 11ms/step - loss: nan - mean_absolute_error: nan - val_loss: 27.6164 - val_mean_absolute_error: 27.6164\n",
      "Epoch 77/100\n",
      "28/28 [==============================] - ETA: 0s - loss: 22.2837 - mean_absolute_error: 22.283 - ETA: 0s - loss: 16.8760 - mean_absolute_error: 16.876 - ETA: 0s - loss: nan - mean_absolute_error: nan        - ETA: 0s - loss: nan - mean_absolute_error: na - 0s 9ms/step - loss: nan - mean_absolute_error: nan - val_loss: 24.2511 - val_mean_absolute_error: 24.2511\n",
      "Epoch 78/100\n",
      "28/28 [==============================] - ETA: 0s - loss: 16.6917 - mean_absolute_error: 16.691 - ETA: 0s - loss: nan - mean_absolute_error: nan        - ETA: 0s - loss: nan - mean_absolute_error: na - ETA: 0s - loss: nan - mean_absolute_error: na - 0s 9ms/step - loss: nan - mean_absolute_error: nan - val_loss: 24.0771 - val_mean_absolute_error: 24.0771\n",
      "Epoch 79/100\n",
      "28/28 [==============================] - ETA: 0s - loss: 20.3222 - mean_absolute_error: 20.322 - ETA: 0s - loss: 17.1989 - mean_absolute_error: 17.198 - ETA: 0s - loss: nan - mean_absolute_error: nan        - ETA: 0s - loss: nan - mean_absolute_error: na - ETA: 0s - loss: nan - mean_absolute_error: na - 0s 10ms/step - loss: nan - mean_absolute_error: nan - val_loss: 23.0922 - val_mean_absolute_error: 23.0922\n",
      "Epoch 80/100\n",
      "28/28 [==============================] - ETA: 0s - loss: 10.8695 - mean_absolute_error: 10.869 - ETA: 0s - loss: nan - mean_absolute_error: nan        - ETA: 0s - loss: nan - mean_absolute_error: na - ETA: 0s - loss: nan - mean_absolute_error: na - 0s 9ms/step - loss: nan - mean_absolute_error: nan - val_loss: 25.6477 - val_mean_absolute_error: 25.6477\n",
      "Epoch 81/100\n",
      "28/28 [==============================] - ETA: 0s - loss: 18.6755 - mean_absolute_error: 18.675 - ETA: 0s - loss: 17.3322 - mean_absolute_error: 17.332 - ETA: 0s - loss: 18.6062 - mean_absolute_error: 18.606 - ETA: 0s - loss: 18.4778 - mean_absolute_error: 18.477 - ETA: 0s - loss: nan - mean_absolute_error: nan        - 0s 11ms/step - loss: nan - mean_absolute_error: nan - val_loss: 23.9044 - val_mean_absolute_error: 23.9044\n",
      "Epoch 82/100\n",
      "28/28 [==============================] - ETA: 0s - loss: 19.5397 - mean_absolute_error: 19.539 - ETA: 0s - loss: 16.0384 - mean_absolute_error: 16.038 - ETA: 0s - loss: 17.5471 - mean_absolute_error: 17.547 - ETA: 0s - loss: nan - mean_absolute_error: nan        - ETA: 0s - loss: nan - mean_absolute_error: na - 0s 10ms/step - loss: nan - mean_absolute_error: nan - val_loss: 31.6416 - val_mean_absolute_error: 31.6416\n",
      "Epoch 83/100\n",
      "28/28 [==============================] - ETA: 0s - loss: 26.5357 - mean_absolute_error: 26.535 - ETA: 0s - loss: nan - mean_absolute_error: nan        - ETA: 0s - loss: nan - mean_absolute_error: na - ETA: 0s - loss: nan - mean_absolute_error: na - ETA: 0s - loss: nan - mean_absolute_error: na - 0s 10ms/step - loss: nan - mean_absolute_error: nan - val_loss: 23.3130 - val_mean_absolute_error: 23.3130\n",
      "Epoch 84/100\n",
      "28/28 [==============================] - ETA: 0s - loss: 21.9588 - mean_absolute_error: 21.958 - ETA: 0s - loss: 17.0389 - mean_absolute_error: 17.038 - ETA: 0s - loss: nan - mean_absolute_error: nan        - ETA: 0s - loss: nan - mean_absolute_error: na - ETA: 0s - loss: nan - mean_absolute_error: na - 0s 10ms/step - loss: nan - mean_absolute_error: nan - val_loss: 23.5511 - val_mean_absolute_error: 23.5511\n",
      "Epoch 85/100\n",
      "28/28 [==============================] - ETA: 0s - loss: 15.4246 - mean_absolute_error: 15.424 - ETA: 0s - loss: 16.6812 - mean_absolute_error: 16.681 - ETA: 0s - loss: 16.0023 - mean_absolute_error: 16.002 - ETA: 0s - loss: nan - mean_absolute_error: nan        - 0s 9ms/step - loss: nan - mean_absolute_error: nan - val_loss: 22.8985 - val_mean_absolute_error: 22.8985\n",
      "Epoch 86/100\n",
      "28/28 [==============================] - ETA: 0s - loss: 13.1492 - mean_absolute_error: 13.149 - ETA: 0s - loss: 14.0385 - mean_absolute_error: 14.038 - ETA: 0s - loss: nan - mean_absolute_error: nan        - 0s 7ms/step - loss: nan - mean_absolute_error: nan - val_loss: 23.9347 - val_mean_absolute_error: 23.9347\n",
      "Epoch 87/100\n",
      "28/28 [==============================] - ETA: 0s - loss: 14.6023 - mean_absolute_error: 14.602 - ETA: 0s - loss: 14.6167 - mean_absolute_error: 14.616 - ETA: 0s - loss: nan - mean_absolute_error: nan        - ETA: 0s - loss: nan - mean_absolute_error: na - ETA: 0s - loss: nan - mean_absolute_error: na - 0s 10ms/step - loss: nan - mean_absolute_error: nan - val_loss: 23.3401 - val_mean_absolute_error: 23.3401\n",
      "Epoch 88/100\n",
      "28/28 [==============================] - ETA: 0s - loss: 11.2425 - mean_absolute_error: 11.242 - ETA: 0s - loss: 14.6954 - mean_absolute_error: 14.695 - ETA: 0s - loss: 14.7612 - mean_absolute_error: 14.761 - ETA: 0s - loss: 15.4237 - mean_absolute_error: 15.423 - ETA: 0s - loss: nan - mean_absolute_error: nan        - 1s 21ms/step - loss: nan - mean_absolute_error: nan - val_loss: 22.5855 - val_mean_absolute_error: 22.5855\n",
      "Epoch 89/100\n",
      "28/28 [==============================] - ETA: 0s - loss: 19.3791 - mean_absolute_error: 19.379 - ETA: 0s - loss: 17.6261 - mean_absolute_error: 17.626 - ETA: 0s - loss: 15.5851 - mean_absolute_error: 15.585 - ETA: 0s - loss: nan - mean_absolute_error: nan        - ETA: 0s - loss: nan - mean_absolute_error: na - 0s 11ms/step - loss: nan - mean_absolute_error: nan - val_loss: 24.7367 - val_mean_absolute_error: 24.7367\n",
      "Epoch 90/100\n",
      "28/28 [==============================] - ETA: 0s - loss: 8.9444 - mean_absolute_error: 8.944 - ETA: 0s - loss: 16.7303 - mean_absolute_error: 16.730 - ETA: 0s - loss: nan - mean_absolute_error: nan        - ETA: 0s - loss: nan - mean_absolute_error: na - ETA: 0s - loss: nan - mean_absolute_error: na - 0s 10ms/step - loss: nan - mean_absolute_error: nan - val_loss: 22.8198 - val_mean_absolute_error: 22.8198\n",
      "Epoch 91/100\n",
      "28/28 [==============================] - ETA: 0s - loss: 16.0466 - mean_absolute_error: 16.046 - ETA: 0s - loss: nan - mean_absolute_error: nan        - ETA: 0s - loss: nan - mean_absolute_error: na - ETA: 0s - loss: nan - mean_absolute_error: na - ETA: 0s - loss: nan - mean_absolute_error: na - 0s 10ms/step - loss: nan - mean_absolute_error: nan - val_loss: 29.3912 - val_mean_absolute_error: 29.3912\n",
      "Epoch 92/100\n",
      "28/28 [==============================] - ETA: 0s - loss: 20.2746 - mean_absolute_error: 20.274 - ETA: 0s - loss: 14.9143 - mean_absolute_error: 14.914 - ETA: 0s - loss: nan - mean_absolute_error: nan        - ETA: 0s - loss: nan - mean_absolute_error: na - 0s 9ms/step - loss: nan - mean_absolute_error: nan - val_loss: 23.8692 - val_mean_absolute_error: 23.8692\n",
      "Epoch 93/100\n"
     ]
    },
    {
     "name": "stdout",
     "output_type": "stream",
     "text": [
      "28/28 [==============================] - ETA: 0s - loss: nan - mean_absolute_error: na - ETA: 0s - loss: nan - mean_absolute_error: na - ETA: 0s - loss: nan - mean_absolute_error: na - ETA: 0s - loss: nan - mean_absolute_error: na - 0s 9ms/step - loss: nan - mean_absolute_error: nan - val_loss: 26.5344 - val_mean_absolute_error: 26.5344\n",
      "Epoch 94/100\n",
      "28/28 [==============================] - ETA: 0s - loss: 12.5353 - mean_absolute_error: 12.535 - ETA: 0s - loss: 17.3204 - mean_absolute_error: 17.320 - ETA: 0s - loss: 17.3561 - mean_absolute_error: 17.356 - ETA: 0s - loss: nan - mean_absolute_error: nan        - ETA: 0s - loss: nan - mean_absolute_error: na - 0s 11ms/step - loss: nan - mean_absolute_error: nan - val_loss: 23.1050 - val_mean_absolute_error: 23.1050\n",
      "Epoch 95/100\n",
      "28/28 [==============================] - ETA: 0s - loss: 13.2635 - mean_absolute_error: 13.263 - ETA: 0s - loss: nan - mean_absolute_error: nan        - ETA: 0s - loss: nan - mean_absolute_error: na - ETA: 0s - loss: nan - mean_absolute_error: na - ETA: 0s - loss: nan - mean_absolute_error: na - 0s 10ms/step - loss: nan - mean_absolute_error: nan - val_loss: 23.0468 - val_mean_absolute_error: 23.0468\n",
      "Epoch 96/100\n",
      "28/28 [==============================] - ETA: 0s - loss: 15.7328 - mean_absolute_error: 15.732 - ETA: 0s - loss: 13.2641 - mean_absolute_error: 13.264 - ETA: 0s - loss: 14.7323 - mean_absolute_error: 14.732 - ETA: 0s - loss: 14.0858 - mean_absolute_error: 14.085 - ETA: 0s - loss: nan - mean_absolute_error: nan        - 1s 20ms/step - loss: nan - mean_absolute_error: nan - val_loss: 22.5668 - val_mean_absolute_error: 22.5668\n",
      "Epoch 97/100\n",
      "28/28 [==============================] - ETA: 0s - loss: nan - mean_absolute_error: na - ETA: 0s - loss: nan - mean_absolute_error: na - ETA: 0s - loss: nan - mean_absolute_error: na - ETA: 0s - loss: nan - mean_absolute_error: na - ETA: 0s - loss: nan - mean_absolute_error: na - 0s 11ms/step - loss: nan - mean_absolute_error: nan - val_loss: 26.4613 - val_mean_absolute_error: 26.4613\n",
      "Epoch 98/100\n",
      "28/28 [==============================] - ETA: 0s - loss: 17.7404 - mean_absolute_error: 17.740 - ETA: 0s - loss: nan - mean_absolute_error: nan        - ETA: 0s - loss: nan - mean_absolute_error: na - ETA: 0s - loss: nan - mean_absolute_error: na - ETA: 0s - loss: nan - mean_absolute_error: na - 0s 11ms/step - loss: nan - mean_absolute_error: nan - val_loss: 23.0204 - val_mean_absolute_error: 23.0204\n",
      "Epoch 99/100\n",
      "28/28 [==============================] - ETA: 0s - loss: 6.6636 - mean_absolute_error: 6.663 - ETA: 0s - loss: 15.4615 - mean_absolute_error: 15.461 - ETA: 0s - loss: 14.9762 - mean_absolute_error: 14.976 - ETA: 0s - loss: 15.3193 - mean_absolute_error: 15.319 - ETA: 0s - loss: nan - mean_absolute_error: nan        - 0s 11ms/step - loss: nan - mean_absolute_error: nan - val_loss: 24.5768 - val_mean_absolute_error: 24.5768\n",
      "Epoch 100/100\n",
      "28/28 [==============================] - ETA: 0s - loss: 13.4438 - mean_absolute_error: 13.443 - ETA: 0s - loss: 11.3121 - mean_absolute_error: 11.312 - ETA: 0s - loss: 14.5104 - mean_absolute_error: 14.510 - ETA: 0s - loss: 14.2922 - mean_absolute_error: 14.292 - ETA: 0s - loss: nan - mean_absolute_error: nan        - 0s 10ms/step - loss: nan - mean_absolute_error: nan - val_loss: 23.1768 - val_mean_absolute_error: 23.1768\n"
     ]
    },
    {
     "data": {
      "text/html": [
       "<span style=\"color:#4527A0\"><h1 style=\"font-size:18px\">Trial complete</h1></span>"
      ],
      "text/plain": [
       "<IPython.core.display.HTML object>"
      ]
     },
     "metadata": {},
     "output_type": "display_data"
    },
    {
     "data": {
      "text/html": [
       "<span style=\"color:#4527A0\"><h1 style=\"font-size:18px\">Trial summary</h1></span>"
      ],
      "text/plain": [
       "<IPython.core.display.HTML object>"
      ]
     },
     "metadata": {},
     "output_type": "display_data"
    },
    {
     "data": {
      "text/html": [
       "<span style=\"color:cyan\"> |-Trial ID: 6897874729956e030235e29580e84da6</span>"
      ],
      "text/plain": [
       "<IPython.core.display.HTML object>"
      ]
     },
     "metadata": {},
     "output_type": "display_data"
    },
    {
     "data": {
      "text/html": [
       "<span style=\"color:cyan\"> |-Score: 22.624352773030598</span>"
      ],
      "text/plain": [
       "<IPython.core.display.HTML object>"
      ]
     },
     "metadata": {},
     "output_type": "display_data"
    },
    {
     "data": {
      "text/html": [
       "<span style=\"color:cyan\"> |-Best step: 0</span>"
      ],
      "text/plain": [
       "<IPython.core.display.HTML object>"
      ]
     },
     "metadata": {},
     "output_type": "display_data"
    },
    {
     "data": {
      "text/html": [
       "<span style=\"color:#7E57C2\"><h2 style=\"font-size:16px\">Hyperparameters:</h2></span>"
      ],
      "text/plain": [
       "<IPython.core.display.HTML object>"
      ]
     },
     "metadata": {},
     "output_type": "display_data"
    },
    {
     "data": {
      "text/html": [
       "<span style=\"color:cyan\"> |-learning_rate: 0.001</span>"
      ],
      "text/plain": [
       "<IPython.core.display.HTML object>"
      ]
     },
     "metadata": {},
     "output_type": "display_data"
    },
    {
     "data": {
      "text/html": [
       "<span style=\"color:blue\"> |-num_layers: 20</span>"
      ],
      "text/plain": [
       "<IPython.core.display.HTML object>"
      ]
     },
     "metadata": {},
     "output_type": "display_data"
    },
    {
     "data": {
      "text/html": [
       "<span style=\"color:cyan\"> |-units_0: 192</span>"
      ],
      "text/plain": [
       "<IPython.core.display.HTML object>"
      ]
     },
     "metadata": {},
     "output_type": "display_data"
    },
    {
     "data": {
      "text/html": [
       "<span style=\"color:blue\"> |-units_1: 128</span>"
      ],
      "text/plain": [
       "<IPython.core.display.HTML object>"
      ]
     },
     "metadata": {},
     "output_type": "display_data"
    },
    {
     "data": {
      "text/html": [
       "<span style=\"color:cyan\"> |-units_10: 32</span>"
      ],
      "text/plain": [
       "<IPython.core.display.HTML object>"
      ]
     },
     "metadata": {},
     "output_type": "display_data"
    },
    {
     "data": {
      "text/html": [
       "<span style=\"color:blue\"> |-units_11: 32</span>"
      ],
      "text/plain": [
       "<IPython.core.display.HTML object>"
      ]
     },
     "metadata": {},
     "output_type": "display_data"
    },
    {
     "data": {
      "text/html": [
       "<span style=\"color:cyan\"> |-units_12: 32</span>"
      ],
      "text/plain": [
       "<IPython.core.display.HTML object>"
      ]
     },
     "metadata": {},
     "output_type": "display_data"
    },
    {
     "data": {
      "text/html": [
       "<span style=\"color:blue\"> |-units_13: 32</span>"
      ],
      "text/plain": [
       "<IPython.core.display.HTML object>"
      ]
     },
     "metadata": {},
     "output_type": "display_data"
    },
    {
     "data": {
      "text/html": [
       "<span style=\"color:cyan\"> |-units_14: 32</span>"
      ],
      "text/plain": [
       "<IPython.core.display.HTML object>"
      ]
     },
     "metadata": {},
     "output_type": "display_data"
    },
    {
     "data": {
      "text/html": [
       "<span style=\"color:blue\"> |-units_15: 32</span>"
      ],
      "text/plain": [
       "<IPython.core.display.HTML object>"
      ]
     },
     "metadata": {},
     "output_type": "display_data"
    },
    {
     "data": {
      "text/html": [
       "<span style=\"color:cyan\"> |-units_16: 32</span>"
      ],
      "text/plain": [
       "<IPython.core.display.HTML object>"
      ]
     },
     "metadata": {},
     "output_type": "display_data"
    },
    {
     "data": {
      "text/html": [
       "<span style=\"color:blue\"> |-units_17: 32</span>"
      ],
      "text/plain": [
       "<IPython.core.display.HTML object>"
      ]
     },
     "metadata": {},
     "output_type": "display_data"
    },
    {
     "data": {
      "text/html": [
       "<span style=\"color:cyan\"> |-units_18: 32</span>"
      ],
      "text/plain": [
       "<IPython.core.display.HTML object>"
      ]
     },
     "metadata": {},
     "output_type": "display_data"
    },
    {
     "data": {
      "text/html": [
       "<span style=\"color:blue\"> |-units_19: 32</span>"
      ],
      "text/plain": [
       "<IPython.core.display.HTML object>"
      ]
     },
     "metadata": {},
     "output_type": "display_data"
    },
    {
     "data": {
      "text/html": [
       "<span style=\"color:cyan\"> |-units_2: 448</span>"
      ],
      "text/plain": [
       "<IPython.core.display.HTML object>"
      ]
     },
     "metadata": {},
     "output_type": "display_data"
    },
    {
     "data": {
      "text/html": [
       "<span style=\"color:blue\"> |-units_3: 224</span>"
      ],
      "text/plain": [
       "<IPython.core.display.HTML object>"
      ]
     },
     "metadata": {},
     "output_type": "display_data"
    },
    {
     "data": {
      "text/html": [
       "<span style=\"color:cyan\"> |-units_4: 256</span>"
      ],
      "text/plain": [
       "<IPython.core.display.HTML object>"
      ]
     },
     "metadata": {},
     "output_type": "display_data"
    },
    {
     "data": {
      "text/html": [
       "<span style=\"color:blue\"> |-units_5: 384</span>"
      ],
      "text/plain": [
       "<IPython.core.display.HTML object>"
      ]
     },
     "metadata": {},
     "output_type": "display_data"
    },
    {
     "data": {
      "text/html": [
       "<span style=\"color:cyan\"> |-units_6: 416</span>"
      ],
      "text/plain": [
       "<IPython.core.display.HTML object>"
      ]
     },
     "metadata": {},
     "output_type": "display_data"
    },
    {
     "data": {
      "text/html": [
       "<span style=\"color:blue\"> |-units_7: 32</span>"
      ],
      "text/plain": [
       "<IPython.core.display.HTML object>"
      ]
     },
     "metadata": {},
     "output_type": "display_data"
    },
    {
     "data": {
      "text/html": [
       "<span style=\"color:cyan\"> |-units_8: 32</span>"
      ],
      "text/plain": [
       "<IPython.core.display.HTML object>"
      ]
     },
     "metadata": {},
     "output_type": "display_data"
    },
    {
     "data": {
      "text/html": [
       "<span style=\"color:blue\"> |-units_9: 32</span>"
      ],
      "text/plain": [
       "<IPython.core.display.HTML object>"
      ]
     },
     "metadata": {},
     "output_type": "display_data"
    },
    {
     "name": "stdout",
     "output_type": "stream",
     "text": [
      "Epoch 1/100\n",
      "28/28 [==============================] - ETA: 0s - loss: 115.0639 - mean_absolute_error: 115.063 - ETA: 0s - loss: 69.1880 - mean_absolute_error: 69.1880  - 0s 17ms/step - loss: nan - mean_absolute_error: nan - val_loss: 41.8003 - val_mean_absolute_error: 41.8003\n",
      "Epoch 2/100\n",
      "28/28 [==============================] - ETA: 0s - loss: 31.1942 - mean_absolute_error: 31.194 - ETA: 0s - loss: nan - mean_absolute_error: nan        - 0s 11ms/step - loss: nan - mean_absolute_error: nan - val_loss: 38.1324 - val_mean_absolute_error: 38.1324\n",
      "Epoch 3/100\n",
      "28/28 [==============================] - ETA: 0s - loss: 43.8489 - mean_absolute_error: 43.848 - ETA: 0s - loss: nan - mean_absolute_error: nan        - 0s 5ms/step - loss: nan - mean_absolute_error: nan - val_loss: 38.6496 - val_mean_absolute_error: 38.6496\n",
      "Epoch 4/100\n",
      "28/28 [==============================] - ETA: 0s - loss: 32.3357 - mean_absolute_error: 32.335 - ETA: 0s - loss: nan - mean_absolute_error: nan        - 0s 5ms/step - loss: nan - mean_absolute_error: nan - val_loss: 40.0137 - val_mean_absolute_error: 40.0137\n",
      "Epoch 5/100\n",
      "28/28 [==============================] - ETA: 0s - loss: 45.5430 - mean_absolute_error: 45.543 - ETA: 0s - loss: nan - mean_absolute_error: nan        - 0s 10ms/step - loss: nan - mean_absolute_error: nan - val_loss: 37.8836 - val_mean_absolute_error: 37.8836\n",
      "Epoch 6/100\n",
      "28/28 [==============================] - ETA: 0s - loss: 35.5686 - mean_absolute_error: 35.568 - ETA: 0s - loss: nan - mean_absolute_error: nan        - 0s 11ms/step - loss: nan - mean_absolute_error: nan - val_loss: 37.3024 - val_mean_absolute_error: 37.3024\n",
      "Epoch 7/100\n",
      "28/28 [==============================] - ETA: 0s - loss: 41.4339 - mean_absolute_error: 41.433 - ETA: 0s - loss: 35.0602 - mean_absolute_error: 35.060 - 0s 5ms/step - loss: nan - mean_absolute_error: nan - val_loss: 38.4781 - val_mean_absolute_error: 38.4781\n",
      "Epoch 8/100\n",
      "28/28 [==============================] - ETA: 0s - loss: 40.7541 - mean_absolute_error: 40.754 - ETA: 0s - loss: 37.1605 - mean_absolute_error: 37.160 - 0s 11ms/step - loss: nan - mean_absolute_error: nan - val_loss: 35.8304 - val_mean_absolute_error: 35.8304\n",
      "Epoch 9/100\n",
      "28/28 [==============================] - ETA: 0s - loss: 37.9966 - mean_absolute_error: 37.996 - ETA: 0s - loss: 35.0284 - mean_absolute_error: 35.028 - 0s 5ms/step - loss: nan - mean_absolute_error: nan - val_loss: 36.8926 - val_mean_absolute_error: 36.8926\n",
      "Epoch 10/100\n",
      "28/28 [==============================] - ETA: 0s - loss: 33.9767 - mean_absolute_error: 33.976 - ETA: 0s - loss: nan - mean_absolute_error: nan        - 0s 10ms/step - loss: nan - mean_absolute_error: nan - val_loss: 34.1357 - val_mean_absolute_error: 34.1357\n",
      "Epoch 11/100\n",
      "28/28 [==============================] - ETA: 0s - loss: 40.8141 - mean_absolute_error: 40.814 - ETA: 0s - loss: nan - mean_absolute_error: nan        - 0s 5ms/step - loss: nan - mean_absolute_error: nan - val_loss: 34.3264 - val_mean_absolute_error: 34.3264\n",
      "Epoch 12/100\n",
      "28/28 [==============================] - ETA: 0s - loss: 37.7065 - mean_absolute_error: 37.706 - ETA: 0s - loss: 35.4536 - mean_absolute_error: 35.453 - 0s 5ms/step - loss: nan - mean_absolute_error: nan - val_loss: 34.6114 - val_mean_absolute_error: 34.6114\n",
      "Epoch 13/100\n",
      "28/28 [==============================] - ETA: 0s - loss: 44.8342 - mean_absolute_error: 44.834 - ETA: 0s - loss: 35.9855 - mean_absolute_error: 35.985 - 0s 5ms/step - loss: nan - mean_absolute_error: nan - val_loss: 34.7788 - val_mean_absolute_error: 34.7788\n",
      "Epoch 14/100\n",
      "28/28 [==============================] - ETA: 0s - loss: 33.8673 - mean_absolute_error: 33.867 - ETA: 0s - loss: nan - mean_absolute_error: nan        - 0s 5ms/step - loss: nan - mean_absolute_error: nan - val_loss: 34.4404 - val_mean_absolute_error: 34.4404\n",
      "Epoch 15/100\n",
      "28/28 [==============================] - ETA: 0s - loss: 28.9551 - mean_absolute_error: 28.955 - ETA: 0s - loss: nan - mean_absolute_error: nan        - 0s 5ms/step - loss: nan - mean_absolute_error: nan - val_loss: 34.2973 - val_mean_absolute_error: 34.2973\n",
      "Epoch 16/100\n",
      "28/28 [==============================] - ETA: 0s - loss: 28.0935 - mean_absolute_error: 28.093 - ETA: 0s - loss: 35.2270 - mean_absolute_error: 35.227 - 0s 5ms/step - loss: nan - mean_absolute_error: nan - val_loss: 35.0874 - val_mean_absolute_error: 35.0874\n",
      "Epoch 17/100\n",
      "28/28 [==============================] - ETA: 0s - loss: 35.2062 - mean_absolute_error: 35.206 - ETA: 0s - loss: nan - mean_absolute_error: nan        - 0s 9ms/step - loss: nan - mean_absolute_error: nan - val_loss: 32.7102 - val_mean_absolute_error: 32.7102\n",
      "Epoch 18/100\n",
      "28/28 [==============================] - ETA: 0s - loss: 37.6966 - mean_absolute_error: 37.696 - ETA: 0s - loss: nan - mean_absolute_error: nan        - 0s 5ms/step - loss: nan - mean_absolute_error: nan - val_loss: 36.9445 - val_mean_absolute_error: 36.9445\n",
      "Epoch 19/100\n",
      "28/28 [==============================] - ETA: 0s - loss: 28.2856 - mean_absolute_error: 28.285 - ETA: 0s - loss: nan - mean_absolute_error: nan        - 0s 5ms/step - loss: nan - mean_absolute_error: nan - val_loss: 33.2667 - val_mean_absolute_error: 33.2667\n",
      "Epoch 20/100\n",
      "28/28 [==============================] - ETA: 0s - loss: 33.5638 - mean_absolute_error: 33.563 - ETA: 0s - loss: 32.5371 - mean_absolute_error: 32.537 - 0s 5ms/step - loss: nan - mean_absolute_error: nan - val_loss: 33.4797 - val_mean_absolute_error: 33.4797\n",
      "Epoch 21/100\n",
      "28/28 [==============================] - ETA: 0s - loss: 40.1862 - mean_absolute_error: 40.186 - ETA: 0s - loss: 36.4283 - mean_absolute_error: 36.428 - 0s 8ms/step - loss: nan - mean_absolute_error: nan - val_loss: 31.6044 - val_mean_absolute_error: 31.6044\n",
      "Epoch 22/100\n",
      "28/28 [==============================] - ETA: 0s - loss: 31.9790 - mean_absolute_error: 31.979 - ETA: 0s - loss: nan - mean_absolute_error: nan        - 0s 5ms/step - loss: nan - mean_absolute_error: nan - val_loss: 34.8553 - val_mean_absolute_error: 34.8553\n",
      "Epoch 23/100\n",
      "28/28 [==============================] - ETA: 0s - loss: 40.4747 - mean_absolute_error: 40.474 - ETA: 0s - loss: nan - mean_absolute_error: nan        - 0s 5ms/step - loss: nan - mean_absolute_error: nan - val_loss: 35.1753 - val_mean_absolute_error: 35.1753\n",
      "Epoch 24/100\n",
      "28/28 [==============================] - ETA: 0s - loss: 42.7584 - mean_absolute_error: 42.758 - ETA: 0s - loss: 35.4054 - mean_absolute_error: 35.405 - 0s 5ms/step - loss: nan - mean_absolute_error: nan - val_loss: 32.8784 - val_mean_absolute_error: 32.8784\n",
      "Epoch 25/100\n",
      "28/28 [==============================] - ETA: 0s - loss: 40.9053 - mean_absolute_error: 40.905 - ETA: 0s - loss: 32.4754 - mean_absolute_error: 32.475 - 0s 5ms/step - loss: nan - mean_absolute_error: nan - val_loss: 33.7325 - val_mean_absolute_error: 33.7325\n",
      "Epoch 26/100\n",
      "28/28 [==============================] - ETA: 0s - loss: 30.7812 - mean_absolute_error: 30.781 - ETA: 0s - loss: 32.4218 - mean_absolute_error: 32.421 - 0s 5ms/step - loss: nan - mean_absolute_error: nan - val_loss: 33.0198 - val_mean_absolute_error: 33.0198\n",
      "Epoch 27/100\n",
      "28/28 [==============================] - ETA: 0s - loss: 28.4662 - mean_absolute_error: 28.466 - ETA: 0s - loss: 34.7558 - mean_absolute_error: 34.755 - 0s 5ms/step - loss: nan - mean_absolute_error: nan - val_loss: 33.8566 - val_mean_absolute_error: 33.8566\n",
      "Epoch 28/100\n",
      "28/28 [==============================] - ETA: 0s - loss: 26.9077 - mean_absolute_error: 26.907 - ETA: 0s - loss: nan - mean_absolute_error: nan        - 0s 5ms/step - loss: nan - mean_absolute_error: nan - val_loss: 35.4170 - val_mean_absolute_error: 35.4170\n",
      "Epoch 29/100\n",
      "28/28 [==============================] - ETA: 0s - loss: 23.5747 - mean_absolute_error: 23.574 - ETA: 0s - loss: nan - mean_absolute_error: nan        - 0s 5ms/step - loss: nan - mean_absolute_error: nan - val_loss: 35.1779 - val_mean_absolute_error: 35.1779\n",
      "Epoch 30/100\n",
      "28/28 [==============================] - ETA: 0s - loss: 34.0131 - mean_absolute_error: 34.013 - ETA: 0s - loss: 32.4411 - mean_absolute_error: 32.441 - 0s 5ms/step - loss: nan - mean_absolute_error: nan - val_loss: 33.0630 - val_mean_absolute_error: 33.0630\n",
      "Epoch 31/100\n"
     ]
    },
    {
     "name": "stdout",
     "output_type": "stream",
     "text": [
      "28/28 [==============================] - ETA: 0s - loss: 39.2716 - mean_absolute_error: 39.271 - ETA: 0s - loss: nan - mean_absolute_error: nan        - 0s 4ms/step - loss: nan - mean_absolute_error: nan - val_loss: 35.1387 - val_mean_absolute_error: 35.1387\n",
      "Epoch 32/100\n",
      "28/28 [==============================] - ETA: 0s - loss: 36.3854 - mean_absolute_error: 36.385 - ETA: 0s - loss: 33.5846 - mean_absolute_error: 33.584 - 0s 5ms/step - loss: nan - mean_absolute_error: nan - val_loss: 32.7449 - val_mean_absolute_error: 32.7449\n",
      "Epoch 33/100\n",
      "28/28 [==============================] - ETA: 0s - loss: 41.5669 - mean_absolute_error: 41.566 - ETA: 0s - loss: 34.5695 - mean_absolute_error: 34.569 - 0s 10ms/step - loss: nan - mean_absolute_error: nan - val_loss: 30.7626 - val_mean_absolute_error: 30.7626\n",
      "Epoch 34/100\n",
      "28/28 [==============================] - ETA: 0s - loss: 24.9953 - mean_absolute_error: 24.995 - ETA: 0s - loss: nan - mean_absolute_error: nan        - 0s 5ms/step - loss: nan - mean_absolute_error: nan - val_loss: 37.5915 - val_mean_absolute_error: 37.5915\n",
      "Epoch 35/100\n",
      "28/28 [==============================] - ETA: 0s - loss: nan - mean_absolute_error: na - ETA: 0s - loss: nan - mean_absolute_error: na - 0s 5ms/step - loss: nan - mean_absolute_error: nan - val_loss: 33.3040 - val_mean_absolute_error: 33.3040\n",
      "Epoch 36/100\n",
      "28/28 [==============================] - ETA: 0s - loss: 42.2627 - mean_absolute_error: 42.262 - ETA: 0s - loss: 34.6453 - mean_absolute_error: 34.645 - 0s 5ms/step - loss: nan - mean_absolute_error: nan - val_loss: 35.7501 - val_mean_absolute_error: 35.7501\n",
      "Epoch 37/100\n",
      "28/28 [==============================] - ETA: 0s - loss: 46.6389 - mean_absolute_error: 46.638 - ETA: 0s - loss: nan - mean_absolute_error: nan        - 0s 5ms/step - loss: nan - mean_absolute_error: nan - val_loss: 33.1075 - val_mean_absolute_error: 33.1075\n",
      "Epoch 38/100\n",
      "28/28 [==============================] - ETA: 0s - loss: 37.6850 - mean_absolute_error: 37.685 - ETA: 0s - loss: 31.1193 - mean_absolute_error: 31.119 - 0s 5ms/step - loss: nan - mean_absolute_error: nan - val_loss: 32.5802 - val_mean_absolute_error: 32.5802\n",
      "Epoch 39/100\n",
      "28/28 [==============================] - ETA: 0s - loss: 30.5299 - mean_absolute_error: 30.529 - ETA: 0s - loss: 33.2260 - mean_absolute_error: 33.226 - 0s 5ms/step - loss: nan - mean_absolute_error: nan - val_loss: 32.8615 - val_mean_absolute_error: 32.8615\n",
      "Epoch 40/100\n",
      "28/28 [==============================] - ETA: 0s - loss: 30.5010 - mean_absolute_error: 30.501 - ETA: 0s - loss: nan - mean_absolute_error: nan        - 0s 10ms/step - loss: nan - mean_absolute_error: nan - val_loss: 30.7609 - val_mean_absolute_error: 30.7609\n",
      "Epoch 41/100\n",
      "28/28 [==============================] - ETA: 0s - loss: 20.1838 - mean_absolute_error: 20.183 - ETA: 0s - loss: nan - mean_absolute_error: nan        - 0s 5ms/step - loss: nan - mean_absolute_error: nan - val_loss: 32.4060 - val_mean_absolute_error: 32.4060\n",
      "Epoch 42/100\n",
      "28/28 [==============================] - ETA: 0s - loss: 23.1462 - mean_absolute_error: 23.146 - ETA: 0s - loss: nan - mean_absolute_error: nan        - 0s 5ms/step - loss: nan - mean_absolute_error: nan - val_loss: 31.5883 - val_mean_absolute_error: 31.5883\n",
      "Epoch 43/100\n",
      "28/28 [==============================] - ETA: 0s - loss: 32.7530 - mean_absolute_error: 32.753 - ETA: 0s - loss: nan - mean_absolute_error: nan        - 0s 5ms/step - loss: nan - mean_absolute_error: nan - val_loss: 33.4812 - val_mean_absolute_error: 33.4812\n",
      "Epoch 44/100\n",
      "28/28 [==============================] - ETA: 0s - loss: 26.0120 - mean_absolute_error: 26.012 - ETA: 0s - loss: nan - mean_absolute_error: nan        - 0s 5ms/step - loss: nan - mean_absolute_error: nan - val_loss: 31.4403 - val_mean_absolute_error: 31.4403\n",
      "Epoch 45/100\n",
      "28/28 [==============================] - ETA: 0s - loss: 23.4683 - mean_absolute_error: 23.468 - ETA: 0s - loss: nan - mean_absolute_error: nan        - 0s 13ms/step - loss: nan - mean_absolute_error: nan - val_loss: 30.6112 - val_mean_absolute_error: 30.6112\n",
      "Epoch 46/100\n",
      "28/28 [==============================] - ETA: 0s - loss: 25.9454 - mean_absolute_error: 25.945 - ETA: 0s - loss: nan - mean_absolute_error: nan        - 0s 5ms/step - loss: nan - mean_absolute_error: nan - val_loss: 30.6272 - val_mean_absolute_error: 30.6272\n",
      "Epoch 47/100\n",
      "28/28 [==============================] - ETA: 0s - loss: 29.3257 - mean_absolute_error: 29.325 - ETA: 0s - loss: nan - mean_absolute_error: nan        - 0s 5ms/step - loss: nan - mean_absolute_error: nan - val_loss: 36.9242 - val_mean_absolute_error: 36.9242\n",
      "Epoch 48/100\n",
      "28/28 [==============================] - ETA: 0s - loss: 29.8397 - mean_absolute_error: 29.839 - ETA: 0s - loss: nan - mean_absolute_error: nan        - 0s 13ms/step - loss: nan - mean_absolute_error: nan - val_loss: 30.5570 - val_mean_absolute_error: 30.5570\n",
      "Epoch 49/100\n",
      "28/28 [==============================] - ETA: 0s - loss: 37.1946 - mean_absolute_error: 37.194 - ETA: 0s - loss: nan - mean_absolute_error: nan        - 0s 5ms/step - loss: nan - mean_absolute_error: nan - val_loss: 32.9731 - val_mean_absolute_error: 32.9731\n",
      "Epoch 50/100\n",
      "28/28 [==============================] - ETA: 0s - loss: 30.0288 - mean_absolute_error: 30.028 - ETA: 0s - loss: nan - mean_absolute_error: nan        - 0s 5ms/step - loss: nan - mean_absolute_error: nan - val_loss: 31.4206 - val_mean_absolute_error: 31.4206\n",
      "Epoch 51/100\n",
      "28/28 [==============================] - ETA: 0s - loss: 34.0147 - mean_absolute_error: 34.014 - ETA: 0s - loss: nan - mean_absolute_error: nan        - 0s 10ms/step - loss: nan - mean_absolute_error: nan - val_loss: 30.1595 - val_mean_absolute_error: 30.1595\n",
      "Epoch 52/100\n",
      "28/28 [==============================] - ETA: 0s - loss: 26.0073 - mean_absolute_error: 26.007 - ETA: 0s - loss: 28.0530 - mean_absolute_error: 28.053 - 0s 5ms/step - loss: nan - mean_absolute_error: nan - val_loss: 30.1841 - val_mean_absolute_error: 30.1841\n",
      "Epoch 53/100\n",
      "28/28 [==============================] - ETA: 0s - loss: 35.4295 - mean_absolute_error: 35.429 - ETA: 0s - loss: nan - mean_absolute_error: nan        - 0s 5ms/step - loss: nan - mean_absolute_error: nan - val_loss: 30.5957 - val_mean_absolute_error: 30.5957\n",
      "Epoch 54/100\n",
      "28/28 [==============================] - ETA: 0s - loss: 27.4777 - mean_absolute_error: 27.477 - ETA: 0s - loss: 28.1374 - mean_absolute_error: 28.137 - 0s 5ms/step - loss: nan - mean_absolute_error: nan - val_loss: 30.1797 - val_mean_absolute_error: 30.1797\n",
      "Epoch 55/100\n",
      "28/28 [==============================] - ETA: 0s - loss: 30.2682 - mean_absolute_error: 30.268 - ETA: 0s - loss: nan - mean_absolute_error: nan        - 0s 5ms/step - loss: nan - mean_absolute_error: nan - val_loss: 30.7473 - val_mean_absolute_error: 30.7473\n",
      "Epoch 56/100\n",
      "28/28 [==============================] - ETA: 0s - loss: 27.3974 - mean_absolute_error: 27.397 - ETA: 0s - loss: nan - mean_absolute_error: nan        - 0s 9ms/step - loss: nan - mean_absolute_error: nan - val_loss: 29.9533 - val_mean_absolute_error: 29.9533\n",
      "Epoch 57/100\n",
      "28/28 [==============================] - ETA: 0s - loss: 24.9148 - mean_absolute_error: 24.914 - ETA: 0s - loss: nan - mean_absolute_error: nan        - 0s 5ms/step - loss: nan - mean_absolute_error: nan - val_loss: 30.1482 - val_mean_absolute_error: 30.1482\n",
      "Epoch 58/100\n",
      "28/28 [==============================] - ETA: 0s - loss: 22.2203 - mean_absolute_error: 22.220 - ETA: 0s - loss: nan - mean_absolute_error: nan        - 0s 10ms/step - loss: nan - mean_absolute_error: nan - val_loss: 29.9022 - val_mean_absolute_error: 29.9022\n",
      "Epoch 59/100\n",
      "28/28 [==============================] - ETA: 0s - loss: 27.1121 - mean_absolute_error: 27.112 - ETA: 0s - loss: nan - mean_absolute_error: nan        - 0s 10ms/step - loss: nan - mean_absolute_error: nan - val_loss: 29.1066 - val_mean_absolute_error: 29.1066\n",
      "Epoch 60/100\n",
      "28/28 [==============================] - ETA: 0s - loss: 23.2447 - mean_absolute_error: 23.244 - ETA: 0s - loss: 25.9642 - mean_absolute_error: 25.964 - ETA: 0s - loss: nan - mean_absolute_error: nan        - 0s 6ms/step - loss: nan - mean_absolute_error: nan - val_loss: 30.0545 - val_mean_absolute_error: 30.0545\n"
     ]
    },
    {
     "name": "stdout",
     "output_type": "stream",
     "text": [
      "Epoch 61/100\n",
      "28/28 [==============================] - ETA: 0s - loss: 29.5295 - mean_absolute_error: 29.529 - ETA: 0s - loss: 25.4090 - mean_absolute_error: 25.409 - 0s 5ms/step - loss: nan - mean_absolute_error: nan - val_loss: 32.2037 - val_mean_absolute_error: 32.2037\n",
      "Epoch 62/100\n",
      "28/28 [==============================] - ETA: 0s - loss: 20.2968 - mean_absolute_error: 20.296 - ETA: 0s - loss: nan - mean_absolute_error: nan        - 0s 5ms/step - loss: nan - mean_absolute_error: nan - val_loss: 29.4787 - val_mean_absolute_error: 29.4787\n",
      "Epoch 63/100\n",
      "28/28 [==============================] - ETA: 0s - loss: 22.1633 - mean_absolute_error: 22.163 - ETA: 0s - loss: nan - mean_absolute_error: nan        - 0s 5ms/step - loss: nan - mean_absolute_error: nan - val_loss: 32.2285 - val_mean_absolute_error: 32.2285\n",
      "Epoch 64/100\n",
      "28/28 [==============================] - ETA: 0s - loss: 33.5196 - mean_absolute_error: 33.519 - ETA: 0s - loss: nan - mean_absolute_error: nan        - 0s 10ms/step - loss: nan - mean_absolute_error: nan - val_loss: 27.7770 - val_mean_absolute_error: 27.7770\n",
      "Epoch 65/100\n",
      "28/28 [==============================] - ETA: 0s - loss: nan - mean_absolute_error: na - ETA: 0s - loss: nan - mean_absolute_error: na - 0s 5ms/step - loss: nan - mean_absolute_error: nan - val_loss: 29.7050 - val_mean_absolute_error: 29.7050\n",
      "Epoch 66/100\n",
      "28/28 [==============================] - ETA: 0s - loss: 24.8714 - mean_absolute_error: 24.871 - ETA: 0s - loss: 27.4377 - mean_absolute_error: 27.437 - 0s 5ms/step - loss: nan - mean_absolute_error: nan - val_loss: 28.2045 - val_mean_absolute_error: 28.2045\n",
      "Epoch 67/100\n",
      "28/28 [==============================] - ETA: 0s - loss: 27.9264 - mean_absolute_error: 27.926 - ETA: 0s - loss: nan - mean_absolute_error: nan        - 0s 5ms/step - loss: nan - mean_absolute_error: nan - val_loss: 32.2259 - val_mean_absolute_error: 32.2259\n",
      "Epoch 68/100\n",
      "28/28 [==============================] - ETA: 0s - loss: 43.4160 - mean_absolute_error: 43.416 - ETA: 0s - loss: nan - mean_absolute_error: nan        - 0s 9ms/step - loss: nan - mean_absolute_error: nan - val_loss: 26.2542 - val_mean_absolute_error: 26.2542\n",
      "Epoch 69/100\n",
      "28/28 [==============================] - ETA: 0s - loss: 23.4360 - mean_absolute_error: 23.436 - ETA: 0s - loss: 26.9653 - mean_absolute_error: 26.965 - 0s 5ms/step - loss: nan - mean_absolute_error: nan - val_loss: 29.4870 - val_mean_absolute_error: 29.4870\n",
      "Epoch 70/100\n",
      "28/28 [==============================] - ETA: 0s - loss: 30.2775 - mean_absolute_error: 30.277 - ETA: 0s - loss: 23.8490 - mean_absolute_error: 23.849 - 0s 5ms/step - loss: nan - mean_absolute_error: nan - val_loss: 29.5372 - val_mean_absolute_error: 29.5372\n",
      "Epoch 71/100\n",
      "28/28 [==============================] - ETA: 0s - loss: 24.3986 - mean_absolute_error: 24.398 - ETA: 0s - loss: nan - mean_absolute_error: nan        - 0s 5ms/step - loss: nan - mean_absolute_error: nan - val_loss: 27.8694 - val_mean_absolute_error: 27.8694\n",
      "Epoch 72/100\n",
      "28/28 [==============================] - ETA: 0s - loss: 20.8640 - mean_absolute_error: 20.864 - ETA: 0s - loss: nan - mean_absolute_error: nan        - 0s 5ms/step - loss: nan - mean_absolute_error: nan - val_loss: 29.8646 - val_mean_absolute_error: 29.8646\n",
      "Epoch 73/100\n",
      "28/28 [==============================] - ETA: 0s - loss: 33.1163 - mean_absolute_error: 33.116 - ETA: 0s - loss: nan - mean_absolute_error: nan        - 0s 5ms/step - loss: nan - mean_absolute_error: nan - val_loss: 29.1339 - val_mean_absolute_error: 29.1339\n",
      "Epoch 74/100\n",
      "28/28 [==============================] - ETA: 0s - loss: 32.3121 - mean_absolute_error: 32.312 - ETA: 0s - loss: nan - mean_absolute_error: nan        - 0s 5ms/step - loss: nan - mean_absolute_error: nan - val_loss: 29.0936 - val_mean_absolute_error: 29.0936\n",
      "Epoch 75/100\n",
      "28/28 [==============================] - ETA: 0s - loss: 23.5526 - mean_absolute_error: 23.552 - ETA: 0s - loss: 25.6507 - mean_absolute_error: 25.650 - 0s 5ms/step - loss: nan - mean_absolute_error: nan - val_loss: 28.6095 - val_mean_absolute_error: 28.6095\n",
      "Epoch 76/100\n",
      "28/28 [==============================] - ETA: 0s - loss: 14.2559 - mean_absolute_error: 14.255 - ETA: 0s - loss: 24.6797 - mean_absolute_error: 24.679 - 0s 8ms/step - loss: nan - mean_absolute_error: nan - val_loss: 25.7325 - val_mean_absolute_error: 25.7325\n",
      "Epoch 77/100\n",
      "28/28 [==============================] - ETA: 0s - loss: 21.8349 - mean_absolute_error: 21.834 - ETA: 0s - loss: nan - mean_absolute_error: nan        - 0s 5ms/step - loss: nan - mean_absolute_error: nan - val_loss: 35.0300 - val_mean_absolute_error: 35.0300\n",
      "Epoch 78/100\n",
      "28/28 [==============================] - ETA: 0s - loss: 24.6624 - mean_absolute_error: 24.662 - ETA: 0s - loss: nan - mean_absolute_error: nan        - 0s 4ms/step - loss: nan - mean_absolute_error: nan - val_loss: 26.2283 - val_mean_absolute_error: 26.2283\n",
      "Epoch 79/100\n",
      "28/28 [==============================] - ETA: 0s - loss: 23.6366 - mean_absolute_error: 23.636 - ETA: 0s - loss: nan - mean_absolute_error: nan        - 0s 5ms/step - loss: nan - mean_absolute_error: nan - val_loss: 28.7788 - val_mean_absolute_error: 28.7788\n",
      "Epoch 80/100\n",
      "28/28 [==============================] - ETA: 0s - loss: 28.6360 - mean_absolute_error: 28.636 - ETA: 0s - loss: nan - mean_absolute_error: nan        - 0s 5ms/step - loss: nan - mean_absolute_error: nan - val_loss: 28.2915 - val_mean_absolute_error: 28.2915\n",
      "Epoch 81/100\n",
      "28/28 [==============================] - ETA: 0s - loss: 28.5358 - mean_absolute_error: 28.535 - ETA: 0s - loss: nan - mean_absolute_error: nan        - 0s 5ms/step - loss: nan - mean_absolute_error: nan - val_loss: 27.3080 - val_mean_absolute_error: 27.3080\n",
      "Epoch 82/100\n",
      "28/28 [==============================] - ETA: 0s - loss: 38.2936 - mean_absolute_error: 38.293 - ETA: 0s - loss: nan - mean_absolute_error: nan        - 0s 5ms/step - loss: nan - mean_absolute_error: nan - val_loss: 27.8253 - val_mean_absolute_error: 27.8253\n",
      "Epoch 83/100\n",
      "28/28 [==============================] - ETA: 0s - loss: 25.4437 - mean_absolute_error: 25.443 - ETA: 0s - loss: 24.5714 - mean_absolute_error: 24.571 - 0s 5ms/step - loss: nan - mean_absolute_error: nan - val_loss: 29.0630 - val_mean_absolute_error: 29.0630\n",
      "Epoch 84/100\n",
      "28/28 [==============================] - ETA: 0s - loss: 30.2617 - mean_absolute_error: 30.261 - ETA: 0s - loss: 23.7049 - mean_absolute_error: 23.704 - 0s 5ms/step - loss: nan - mean_absolute_error: nan - val_loss: 26.9073 - val_mean_absolute_error: 26.9073\n",
      "Epoch 85/100\n",
      "28/28 [==============================] - ETA: 0s - loss: 26.9160 - mean_absolute_error: 26.916 - ETA: 0s - loss: 24.3710 - mean_absolute_error: 24.371 - 0s 5ms/step - loss: nan - mean_absolute_error: nan - val_loss: 34.0157 - val_mean_absolute_error: 34.0157\n",
      "Epoch 86/100\n",
      "28/28 [==============================] - ETA: 0s - loss: 25.8993 - mean_absolute_error: 25.899 - ETA: 0s - loss: nan - mean_absolute_error: nan        - 0s 5ms/step - loss: nan - mean_absolute_error: nan - val_loss: 26.8332 - val_mean_absolute_error: 26.8332\n",
      "Epoch 87/100\n",
      "28/28 [==============================] - ETA: 0s - loss: 19.7727 - mean_absolute_error: 19.772 - ETA: 0s - loss: 26.7105 - mean_absolute_error: 26.710 - 0s 5ms/step - loss: nan - mean_absolute_error: nan - val_loss: 29.0141 - val_mean_absolute_error: 29.0141\n",
      "Epoch 88/100\n",
      "28/28 [==============================] - ETA: 0s - loss: 20.8640 - mean_absolute_error: 20.864 - ETA: 0s - loss: nan - mean_absolute_error: nan        - 0s 9ms/step - loss: nan - mean_absolute_error: nan - val_loss: 25.7245 - val_mean_absolute_error: 25.7245\n",
      "Epoch 89/100\n",
      "28/28 [==============================] - ETA: 0s - loss: 23.6934 - mean_absolute_error: 23.693 - ETA: 0s - loss: 22.5831 - mean_absolute_error: 22.583 - 0s 5ms/step - loss: nan - mean_absolute_error: nan - val_loss: 32.2291 - val_mean_absolute_error: 32.2291\n",
      "Epoch 90/100\n",
      "28/28 [==============================] - ETA: 0s - loss: 17.7861 - mean_absolute_error: 17.786 - ETA: 0s - loss: nan - mean_absolute_error: nan        - 0s 5ms/step - loss: nan - mean_absolute_error: nan - val_loss: 28.2315 - val_mean_absolute_error: 28.2315\n",
      "Epoch 91/100\n"
     ]
    },
    {
     "name": "stdout",
     "output_type": "stream",
     "text": [
      "28/28 [==============================] - ETA: 0s - loss: 21.2051 - mean_absolute_error: 21.205 - ETA: 0s - loss: nan - mean_absolute_error: nan        - 0s 9ms/step - loss: nan - mean_absolute_error: nan - val_loss: 25.6159 - val_mean_absolute_error: 25.6159\n",
      "Epoch 92/100\n",
      "28/28 [==============================] - ETA: 0s - loss: 19.9384 - mean_absolute_error: 19.938 - ETA: 0s - loss: 22.0824 - mean_absolute_error: 22.082 - 0s 5ms/step - loss: nan - mean_absolute_error: nan - val_loss: 25.6893 - val_mean_absolute_error: 25.6893\n",
      "Epoch 93/100\n",
      "28/28 [==============================] - ETA: 0s - loss: 32.5168 - mean_absolute_error: 32.516 - ETA: 0s - loss: nan - mean_absolute_error: nan        - 0s 5ms/step - loss: nan - mean_absolute_error: nan - val_loss: 26.1855 - val_mean_absolute_error: 26.1855\n",
      "Epoch 94/100\n",
      "28/28 [==============================] - ETA: 0s - loss: 20.4542 - mean_absolute_error: 20.454 - ETA: 0s - loss: nan - mean_absolute_error: nan        - 0s 5ms/step - loss: nan - mean_absolute_error: nan - val_loss: 27.5036 - val_mean_absolute_error: 27.5036\n",
      "Epoch 95/100\n",
      "28/28 [==============================] - ETA: 0s - loss: 19.2670 - mean_absolute_error: 19.267 - ETA: 0s - loss: nan - mean_absolute_error: nan        - 0s 5ms/step - loss: nan - mean_absolute_error: nan - val_loss: 27.4432 - val_mean_absolute_error: 27.4432\n",
      "Epoch 96/100\n",
      "28/28 [==============================] - ETA: 0s - loss: 34.3831 - mean_absolute_error: 34.383 - ETA: 0s - loss: nan - mean_absolute_error: nan        - 0s 10ms/step - loss: nan - mean_absolute_error: nan - val_loss: 25.2206 - val_mean_absolute_error: 25.2206\n",
      "Epoch 97/100\n",
      "28/28 [==============================] - ETA: 0s - loss: 21.7770 - mean_absolute_error: 21.777 - ETA: 0s - loss: 22.6930 - mean_absolute_error: 22.693 - 0s 5ms/step - loss: nan - mean_absolute_error: nan - val_loss: 26.9143 - val_mean_absolute_error: 26.9143\n",
      "Epoch 98/100\n",
      "28/28 [==============================] - ETA: 0s - loss: 21.0779 - mean_absolute_error: 21.077 - ETA: 0s - loss: nan - mean_absolute_error: nan        - 0s 5ms/step - loss: nan - mean_absolute_error: nan - val_loss: 27.5817 - val_mean_absolute_error: 27.5817\n",
      "Epoch 99/100\n",
      "28/28 [==============================] - ETA: 0s - loss: 19.7192 - mean_absolute_error: 19.719 - ETA: 0s - loss: 21.3401 - mean_absolute_error: 21.340 - 0s 5ms/step - loss: nan - mean_absolute_error: nan - val_loss: 26.5921 - val_mean_absolute_error: 26.5921\n",
      "Epoch 100/100\n",
      "28/28 [==============================] - ETA: 0s - loss: 21.8906 - mean_absolute_error: 21.890 - ETA: 0s - loss: 20.7954 - mean_absolute_error: 20.795 - 0s 5ms/step - loss: nan - mean_absolute_error: nan - val_loss: 26.6261 - val_mean_absolute_error: 26.6261\n",
      "Epoch 1/100\n",
      "28/28 [==============================] - ETA: 0s - loss: 117.0344 - mean_absolute_error: 117.034 - ETA: 0s - loss: nan - mean_absolute_error: nan          - 0s 10ms/step - loss: nan - mean_absolute_error: nan - val_loss: 41.1817 - val_mean_absolute_error: 41.1817\n",
      "Epoch 2/100\n",
      "28/28 [==============================] - ETA: 0s - loss: 51.2835 - mean_absolute_error: 51.283 - ETA: 0s - loss: 41.3471 - mean_absolute_error: 41.347 - 0s 5ms/step - loss: nan - mean_absolute_error: nan - val_loss: 40.8657 - val_mean_absolute_error: 40.8657\n",
      "Epoch 3/100\n",
      "28/28 [==============================] - ETA: 0s - loss: 43.5272 - mean_absolute_error: 43.527 - ETA: 0s - loss: nan - mean_absolute_error: nan        - 0s 5ms/step - loss: nan - mean_absolute_error: nan - val_loss: 37.2171 - val_mean_absolute_error: 37.2171\n",
      "Epoch 4/100\n",
      "28/28 [==============================] - ETA: 0s - loss: 42.9493 - mean_absolute_error: 42.949 - ETA: 0s - loss: nan - mean_absolute_error: nan        - 0s 4ms/step - loss: nan - mean_absolute_error: nan - val_loss: 36.5945 - val_mean_absolute_error: 36.5945\n",
      "Epoch 5/100\n",
      "28/28 [==============================] - ETA: 0s - loss: 30.2548 - mean_absolute_error: 30.254 - ETA: 0s - loss: nan - mean_absolute_error: nan        - 0s 5ms/step - loss: nan - mean_absolute_error: nan - val_loss: 37.4271 - val_mean_absolute_error: 37.4271\n",
      "Epoch 6/100\n",
      "28/28 [==============================] - ETA: 0s - loss: 36.6332 - mean_absolute_error: 36.633 - ETA: 0s - loss: nan - mean_absolute_error: nan        - 0s 5ms/step - loss: nan - mean_absolute_error: nan - val_loss: 38.8039 - val_mean_absolute_error: 38.8039\n",
      "Epoch 7/100\n",
      "28/28 [==============================] - ETA: 0s - loss: 40.2706 - mean_absolute_error: 40.270 - ETA: 0s - loss: nan - mean_absolute_error: nan        - 0s 5ms/step - loss: nan - mean_absolute_error: nan - val_loss: 36.1697 - val_mean_absolute_error: 36.1697\n",
      "Epoch 8/100\n",
      "28/28 [==============================] - ETA: 0s - loss: 42.7359 - mean_absolute_error: 42.735 - ETA: 0s - loss: 37.8100 - mean_absolute_error: 37.810 - 0s 4ms/step - loss: nan - mean_absolute_error: nan - val_loss: 36.9911 - val_mean_absolute_error: 36.9911\n",
      "Epoch 9/100\n",
      "28/28 [==============================] - ETA: 0s - loss: 28.0025 - mean_absolute_error: 28.002 - ETA: 0s - loss: nan - mean_absolute_error: nan        - 0s 5ms/step - loss: nan - mean_absolute_error: nan - val_loss: 40.7377 - val_mean_absolute_error: 40.7377\n",
      "Epoch 10/100\n",
      "28/28 [==============================] - ETA: 0s - loss: 35.9173 - mean_absolute_error: 35.917 - ETA: 0s - loss: nan - mean_absolute_error: nan        - 0s 5ms/step - loss: nan - mean_absolute_error: nan - val_loss: 34.6748 - val_mean_absolute_error: 34.6748\n",
      "Epoch 11/100\n",
      "28/28 [==============================] - ETA: 0s - loss: nan - mean_absolute_error: na - ETA: 0s - loss: nan - mean_absolute_error: na - 0s 5ms/step - loss: nan - mean_absolute_error: nan - val_loss: 38.8364 - val_mean_absolute_error: 38.8364\n",
      "Epoch 12/100\n",
      "28/28 [==============================] - ETA: 0s - loss: 42.4076 - mean_absolute_error: 42.407 - ETA: 0s - loss: 37.5098 - mean_absolute_error: 37.509 - 0s 5ms/step - loss: nan - mean_absolute_error: nan - val_loss: 38.0519 - val_mean_absolute_error: 38.0519\n",
      "Epoch 13/100\n",
      "28/28 [==============================] - ETA: 0s - loss: 35.9290 - mean_absolute_error: 35.929 - ETA: 0s - loss: nan - mean_absolute_error: nan        - 0s 5ms/step - loss: nan - mean_absolute_error: nan - val_loss: 37.5550 - val_mean_absolute_error: 37.5550\n",
      "Epoch 14/100\n",
      "28/28 [==============================] - ETA: 0s - loss: 43.0163 - mean_absolute_error: 43.016 - ETA: 0s - loss: nan - mean_absolute_error: nan        - 0s 4ms/step - loss: nan - mean_absolute_error: nan - val_loss: 33.2340 - val_mean_absolute_error: 33.2340\n",
      "Epoch 15/100\n",
      "28/28 [==============================] - ETA: 0s - loss: 41.4262 - mean_absolute_error: 41.426 - ETA: 0s - loss: nan - mean_absolute_error: nan        - 0s 4ms/step - loss: nan - mean_absolute_error: nan - val_loss: 34.6816 - val_mean_absolute_error: 34.6816\n",
      "Epoch 16/100\n",
      "28/28 [==============================] - ETA: 0s - loss: 50.0935 - mean_absolute_error: 50.093 - ETA: 0s - loss: nan - mean_absolute_error: nan        - 0s 5ms/step - loss: nan - mean_absolute_error: nan - val_loss: 33.3313 - val_mean_absolute_error: 33.3313\n",
      "Epoch 17/100\n",
      "28/28 [==============================] - ETA: 0s - loss: 36.3706 - mean_absolute_error: 36.370 - ETA: 0s - loss: 34.4501 - mean_absolute_error: 34.450 - 0s 5ms/step - loss: nan - mean_absolute_error: nan - val_loss: 34.5363 - val_mean_absolute_error: 34.5363\n",
      "Epoch 18/100\n",
      "28/28 [==============================] - ETA: 0s - loss: 31.3228 - mean_absolute_error: 31.322 - ETA: 0s - loss: 36.2301 - mean_absolute_error: 36.230 - 0s 5ms/step - loss: nan - mean_absolute_error: nan - val_loss: 32.6143 - val_mean_absolute_error: 32.6143\n",
      "Epoch 19/100\n",
      "28/28 [==============================] - ETA: 0s - loss: 29.2442 - mean_absolute_error: 29.244 - ETA: 0s - loss: 33.3370 - mean_absolute_error: 33.337 - 0s 5ms/step - loss: nan - mean_absolute_error: nan - val_loss: 34.0175 - val_mean_absolute_error: 34.0175\n",
      "Epoch 20/100\n",
      "28/28 [==============================] - ETA: 0s - loss: 25.0400 - mean_absolute_error: 25.040 - ETA: 0s - loss: 34.5020 - mean_absolute_error: 34.502 - 0s 5ms/step - loss: nan - mean_absolute_error: nan - val_loss: 32.2340 - val_mean_absolute_error: 32.2340\n",
      "Epoch 21/100\n"
     ]
    },
    {
     "name": "stdout",
     "output_type": "stream",
     "text": [
      "28/28 [==============================] - ETA: 0s - loss: 46.1209 - mean_absolute_error: 46.120 - ETA: 0s - loss: 33.1521 - mean_absolute_error: 33.152 - 0s 5ms/step - loss: nan - mean_absolute_error: nan - val_loss: 33.4935 - val_mean_absolute_error: 33.4935\n",
      "Epoch 22/100\n",
      "28/28 [==============================] - ETA: 0s - loss: 32.6045 - mean_absolute_error: 32.604 - ETA: 0s - loss: 31.1941 - mean_absolute_error: 31.194 - 0s 5ms/step - loss: nan - mean_absolute_error: nan - val_loss: 33.1411 - val_mean_absolute_error: 33.1411\n",
      "Epoch 23/100\n",
      "28/28 [==============================] - ETA: 0s - loss: 34.8234 - mean_absolute_error: 34.823 - ETA: 0s - loss: nan - mean_absolute_error: nan        - 0s 5ms/step - loss: nan - mean_absolute_error: nan - val_loss: 42.0415 - val_mean_absolute_error: 42.0415\n",
      "Epoch 24/100\n",
      "28/28 [==============================] - ETA: 0s - loss: 38.9409 - mean_absolute_error: 38.940 - ETA: 0s - loss: 33.6311 - mean_absolute_error: 33.631 - 0s 4ms/step - loss: nan - mean_absolute_error: nan - val_loss: 36.4115 - val_mean_absolute_error: 36.4115\n",
      "Epoch 25/100\n",
      "28/28 [==============================] - ETA: 0s - loss: 34.6462 - mean_absolute_error: 34.646 - ETA: 0s - loss: 36.8703 - mean_absolute_error: 36.870 - 0s 5ms/step - loss: nan - mean_absolute_error: nan - val_loss: 33.8657 - val_mean_absolute_error: 33.8657\n",
      "Epoch 26/100\n",
      "28/28 [==============================] - ETA: 0s - loss: 39.7547 - mean_absolute_error: 39.754 - ETA: 0s - loss: nan - mean_absolute_error: nan        - 0s 4ms/step - loss: nan - mean_absolute_error: nan - val_loss: 32.9307 - val_mean_absolute_error: 32.9307\n",
      "Epoch 27/100\n",
      "28/28 [==============================] - ETA: 0s - loss: 26.1841 - mean_absolute_error: 26.184 - ETA: 0s - loss: nan - mean_absolute_error: nan        - 0s 5ms/step - loss: nan - mean_absolute_error: nan - val_loss: 32.8900 - val_mean_absolute_error: 32.8900\n",
      "Epoch 28/100\n",
      "28/28 [==============================] - ETA: 0s - loss: 34.2879 - mean_absolute_error: 34.287 - ETA: 0s - loss: 35.9343 - mean_absolute_error: 35.934 - 0s 5ms/step - loss: nan - mean_absolute_error: nan - val_loss: 31.5593 - val_mean_absolute_error: 31.5593\n",
      "Epoch 29/100\n",
      "28/28 [==============================] - ETA: 0s - loss: 19.4181 - mean_absolute_error: 19.418 - ETA: 0s - loss: nan - mean_absolute_error: nan        - 0s 5ms/step - loss: nan - mean_absolute_error: nan - val_loss: 32.8450 - val_mean_absolute_error: 32.8450\n",
      "Epoch 30/100\n",
      "28/28 [==============================] - ETA: 0s - loss: 28.6486 - mean_absolute_error: 28.648 - ETA: 0s - loss: nan - mean_absolute_error: nan        - 0s 5ms/step - loss: nan - mean_absolute_error: nan - val_loss: 33.2484 - val_mean_absolute_error: 33.2484\n",
      "Epoch 31/100\n",
      "28/28 [==============================] - ETA: 0s - loss: 23.5087 - mean_absolute_error: 23.508 - ETA: 0s - loss: 29.7671 - mean_absolute_error: 29.767 - 0s 5ms/step - loss: nan - mean_absolute_error: nan - val_loss: 32.3932 - val_mean_absolute_error: 32.3932\n",
      "Epoch 32/100\n",
      "28/28 [==============================] - ETA: 0s - loss: nan - mean_absolute_error: na - ETA: 0s - loss: nan - mean_absolute_error: na - 0s 4ms/step - loss: nan - mean_absolute_error: nan - val_loss: 31.8086 - val_mean_absolute_error: 31.8086\n",
      "Epoch 33/100\n",
      "28/28 [==============================] - ETA: 0s - loss: 34.3436 - mean_absolute_error: 34.343 - ETA: 0s - loss: nan - mean_absolute_error: nan        - 0s 5ms/step - loss: nan - mean_absolute_error: nan - val_loss: 32.2381 - val_mean_absolute_error: 32.2381\n",
      "Epoch 34/100\n",
      "28/28 [==============================] - ETA: 0s - loss: 17.3397 - mean_absolute_error: 17.339 - ETA: 0s - loss: nan - mean_absolute_error: nan        - 0s 5ms/step - loss: nan - mean_absolute_error: nan - val_loss: 33.5812 - val_mean_absolute_error: 33.5812\n",
      "Epoch 35/100\n",
      "28/28 [==============================] - ETA: 0s - loss: 29.0739 - mean_absolute_error: 29.073 - ETA: 0s - loss: nan - mean_absolute_error: nan        - 0s 5ms/step - loss: nan - mean_absolute_error: nan - val_loss: 31.7211 - val_mean_absolute_error: 31.7211\n",
      "Epoch 36/100\n",
      "28/28 [==============================] - ETA: 0s - loss: 33.3129 - mean_absolute_error: 33.312 - ETA: 0s - loss: 29.1408 - mean_absolute_error: 29.140 - 0s 5ms/step - loss: nan - mean_absolute_error: nan - val_loss: 32.3790 - val_mean_absolute_error: 32.3790\n",
      "Epoch 37/100\n",
      "28/28 [==============================] - ETA: 0s - loss: 30.6607 - mean_absolute_error: 30.660 - ETA: 0s - loss: 30.6814 - mean_absolute_error: 30.681 - 0s 5ms/step - loss: nan - mean_absolute_error: nan - val_loss: 37.4502 - val_mean_absolute_error: 37.4502\n",
      "Epoch 38/100\n",
      "28/28 [==============================] - ETA: 0s - loss: 27.6402 - mean_absolute_error: 27.640 - ETA: 0s - loss: 31.4880 - mean_absolute_error: 31.488 - 0s 5ms/step - loss: nan - mean_absolute_error: nan - val_loss: 35.1173 - val_mean_absolute_error: 35.1173\n",
      "Epoch 39/100\n",
      "28/28 [==============================] - ETA: 0s - loss: 26.6969 - mean_absolute_error: 26.696 - ETA: 0s - loss: nan - mean_absolute_error: nan        - 0s 5ms/step - loss: nan - mean_absolute_error: nan - val_loss: 32.5183 - val_mean_absolute_error: 32.5183\n",
      "Epoch 40/100\n",
      "28/28 [==============================] - ETA: 0s - loss: 19.6048 - mean_absolute_error: 19.604 - ETA: 0s - loss: nan - mean_absolute_error: nan        - 0s 4ms/step - loss: nan - mean_absolute_error: nan - val_loss: 31.6683 - val_mean_absolute_error: 31.6683\n",
      "Epoch 41/100\n",
      "28/28 [==============================] - ETA: 0s - loss: 31.7153 - mean_absolute_error: 31.715 - ETA: 0s - loss: nan - mean_absolute_error: nan        - 0s 5ms/step - loss: nan - mean_absolute_error: nan - val_loss: 35.1244 - val_mean_absolute_error: 35.1244\n",
      "Epoch 42/100\n",
      "28/28 [==============================] - ETA: 0s - loss: 25.1286 - mean_absolute_error: 25.128 - ETA: 0s - loss: nan - mean_absolute_error: nan        - 0s 5ms/step - loss: nan - mean_absolute_error: nan - val_loss: 33.2224 - val_mean_absolute_error: 33.2224\n",
      "Epoch 43/100\n",
      "28/28 [==============================] - ETA: 0s - loss: 29.8550 - mean_absolute_error: 29.855 - ETA: 0s - loss: 31.7977 - mean_absolute_error: 31.797 - 0s 5ms/step - loss: nan - mean_absolute_error: nan - val_loss: 31.9857 - val_mean_absolute_error: 31.9857\n",
      "Epoch 44/100\n",
      "28/28 [==============================] - ETA: 0s - loss: 30.8052 - mean_absolute_error: 30.805 - ETA: 0s - loss: 30.1329 - mean_absolute_error: 30.132 - 0s 5ms/step - loss: nan - mean_absolute_error: nan - val_loss: 31.6919 - val_mean_absolute_error: 31.6919\n",
      "Epoch 45/100\n",
      "28/28 [==============================] - ETA: 0s - loss: 32.0613 - mean_absolute_error: 32.061 - ETA: 0s - loss: nan - mean_absolute_error: nan        - 0s 5ms/step - loss: nan - mean_absolute_error: nan - val_loss: 37.4977 - val_mean_absolute_error: 37.4977\n",
      "Epoch 46/100\n",
      "28/28 [==============================] - ETA: 0s - loss: 28.5140 - mean_absolute_error: 28.514 - ETA: 0s - loss: 30.0629 - mean_absolute_error: 30.062 - 0s 5ms/step - loss: nan - mean_absolute_error: nan - val_loss: 30.3687 - val_mean_absolute_error: 30.3687\n",
      "Epoch 47/100\n",
      "28/28 [==============================] - ETA: 0s - loss: 34.9938 - mean_absolute_error: 34.993 - ETA: 0s - loss: nan - mean_absolute_error: nan        - 0s 5ms/step - loss: nan - mean_absolute_error: nan - val_loss: 34.0447 - val_mean_absolute_error: 34.0447\n",
      "Epoch 48/100\n",
      "28/28 [==============================] - ETA: 0s - loss: 28.1958 - mean_absolute_error: 28.195 - ETA: 0s - loss: nan - mean_absolute_error: nan        - 0s 5ms/step - loss: nan - mean_absolute_error: nan - val_loss: 30.0545 - val_mean_absolute_error: 30.0545\n",
      "Epoch 49/100\n",
      "28/28 [==============================] - ETA: 0s - loss: 21.4602 - mean_absolute_error: 21.460 - ETA: 0s - loss: nan - mean_absolute_error: nan        - 0s 5ms/step - loss: nan - mean_absolute_error: nan - val_loss: 32.7003 - val_mean_absolute_error: 32.7003\n",
      "Epoch 50/100\n",
      "28/28 [==============================] - ETA: 0s - loss: 21.2192 - mean_absolute_error: 21.219 - ETA: 0s - loss: nan - mean_absolute_error: nan        - 0s 5ms/step - loss: nan - mean_absolute_error: nan - val_loss: 32.7544 - val_mean_absolute_error: 32.7544\n",
      "Epoch 51/100\n"
     ]
    },
    {
     "name": "stdout",
     "output_type": "stream",
     "text": [
      "28/28 [==============================] - ETA: 0s - loss: 34.7611 - mean_absolute_error: 34.761 - ETA: 0s - loss: nan - mean_absolute_error: nan        - 0s 5ms/step - loss: nan - mean_absolute_error: nan - val_loss: 30.1135 - val_mean_absolute_error: 30.1135\n",
      "Epoch 52/100\n",
      "28/28 [==============================] - ETA: 0s - loss: 31.6367 - mean_absolute_error: 31.636 - ETA: 0s - loss: 26.3357 - mean_absolute_error: 26.335 - 0s 5ms/step - loss: nan - mean_absolute_error: nan - val_loss: 31.0591 - val_mean_absolute_error: 31.0591\n",
      "Epoch 53/100\n",
      "28/28 [==============================] - ETA: 0s - loss: 23.4851 - mean_absolute_error: 23.485 - ETA: 0s - loss: 27.0182 - mean_absolute_error: 27.018 - 0s 5ms/step - loss: nan - mean_absolute_error: nan - val_loss: 30.0785 - val_mean_absolute_error: 30.0785\n",
      "Epoch 54/100\n",
      "28/28 [==============================] - ETA: 0s - loss: 25.4241 - mean_absolute_error: 25.424 - ETA: 0s - loss: nan - mean_absolute_error: nan        - 0s 5ms/step - loss: nan - mean_absolute_error: nan - val_loss: 32.3526 - val_mean_absolute_error: 32.3526\n",
      "Epoch 55/100\n",
      "28/28 [==============================] - ETA: 0s - loss: nan - mean_absolute_error: na - ETA: 0s - loss: nan - mean_absolute_error: na - 0s 5ms/step - loss: nan - mean_absolute_error: nan - val_loss: 32.5695 - val_mean_absolute_error: 32.5695\n",
      "Epoch 56/100\n",
      "28/28 [==============================] - ETA: 0s - loss: 29.4622 - mean_absolute_error: 29.462 - ETA: 0s - loss: nan - mean_absolute_error: nan        - 0s 5ms/step - loss: nan - mean_absolute_error: nan - val_loss: 28.8705 - val_mean_absolute_error: 28.8705\n",
      "Epoch 57/100\n",
      "28/28 [==============================] - ETA: 0s - loss: 19.1483 - mean_absolute_error: 19.148 - ETA: 0s - loss: nan - mean_absolute_error: nan        - 0s 5ms/step - loss: nan - mean_absolute_error: nan - val_loss: 29.8214 - val_mean_absolute_error: 29.8214\n",
      "Epoch 58/100\n",
      "28/28 [==============================] - ETA: 0s - loss: 32.4965 - mean_absolute_error: 32.496 - ETA: 0s - loss: nan - mean_absolute_error: nan        - 0s 5ms/step - loss: nan - mean_absolute_error: nan - val_loss: 29.3558 - val_mean_absolute_error: 29.3558\n",
      "Epoch 59/100\n",
      "28/28 [==============================] - ETA: 0s - loss: 20.0908 - mean_absolute_error: 20.090 - ETA: 0s - loss: 25.8634 - mean_absolute_error: 25.863 - 0s 5ms/step - loss: nan - mean_absolute_error: nan - val_loss: 30.3502 - val_mean_absolute_error: 30.3502\n",
      "Epoch 60/100\n",
      "28/28 [==============================] - ETA: 0s - loss: 29.1849 - mean_absolute_error: 29.184 - ETA: 0s - loss: nan - mean_absolute_error: nan        - 0s 5ms/step - loss: nan - mean_absolute_error: nan - val_loss: 31.2978 - val_mean_absolute_error: 31.2978\n",
      "Epoch 61/100\n",
      "28/28 [==============================] - ETA: 0s - loss: 26.6328 - mean_absolute_error: 26.632 - ETA: 0s - loss: 26.9069 - mean_absolute_error: 26.906 - 0s 5ms/step - loss: nan - mean_absolute_error: nan - val_loss: 30.5725 - val_mean_absolute_error: 30.5725\n",
      "Epoch 62/100\n",
      "28/28 [==============================] - ETA: 0s - loss: 29.1193 - mean_absolute_error: 29.119 - ETA: 0s - loss: 27.0272 - mean_absolute_error: 27.027 - 0s 5ms/step - loss: nan - mean_absolute_error: nan - val_loss: 31.3862 - val_mean_absolute_error: 31.3862\n",
      "Epoch 63/100\n",
      "28/28 [==============================] - ETA: 0s - loss: 30.9999 - mean_absolute_error: 30.999 - ETA: 0s - loss: nan - mean_absolute_error: nan        - 0s 4ms/step - loss: nan - mean_absolute_error: nan - val_loss: 26.9868 - val_mean_absolute_error: 26.9868\n",
      "Epoch 64/100\n",
      "28/28 [==============================] - ETA: 0s - loss: 28.0558 - mean_absolute_error: 28.055 - ETA: 0s - loss: nan - mean_absolute_error: nan        - 0s 5ms/step - loss: nan - mean_absolute_error: nan - val_loss: 27.3062 - val_mean_absolute_error: 27.3062\n",
      "Epoch 65/100\n",
      "28/28 [==============================] - ETA: 0s - loss: 14.1431 - mean_absolute_error: 14.143 - ETA: 0s - loss: nan - mean_absolute_error: nan        - 0s 5ms/step - loss: nan - mean_absolute_error: nan - val_loss: 32.8864 - val_mean_absolute_error: 32.8864\n",
      "Epoch 66/100\n",
      "28/28 [==============================] - ETA: 0s - loss: 22.5670 - mean_absolute_error: 22.567 - ETA: 0s - loss: 29.6315 - mean_absolute_error: 29.631 - 0s 5ms/step - loss: nan - mean_absolute_error: nan - val_loss: 31.7179 - val_mean_absolute_error: 31.7179\n",
      "Epoch 67/100\n",
      "28/28 [==============================] - ETA: 0s - loss: 20.9347 - mean_absolute_error: 20.934 - ETA: 0s - loss: nan - mean_absolute_error: nan        - 0s 5ms/step - loss: nan - mean_absolute_error: nan - val_loss: 29.2085 - val_mean_absolute_error: 29.2085\n",
      "Epoch 68/100\n",
      "28/28 [==============================] - ETA: 0s - loss: 20.0368 - mean_absolute_error: 20.036 - ETA: 0s - loss: nan - mean_absolute_error: nan        - 0s 5ms/step - loss: nan - mean_absolute_error: nan - val_loss: 28.3354 - val_mean_absolute_error: 28.3354\n",
      "Epoch 69/100\n",
      "28/28 [==============================] - ETA: 0s - loss: 26.8340 - mean_absolute_error: 26.834 - ETA: 0s - loss: nan - mean_absolute_error: nan        - 0s 5ms/step - loss: nan - mean_absolute_error: nan - val_loss: 31.1954 - val_mean_absolute_error: 31.1954\n",
      "Epoch 70/100\n",
      "28/28 [==============================] - ETA: 0s - loss: 29.7022 - mean_absolute_error: 29.702 - ETA: 0s - loss: nan - mean_absolute_error: nan        - 0s 5ms/step - loss: nan - mean_absolute_error: nan - val_loss: 29.4174 - val_mean_absolute_error: 29.4174\n",
      "Epoch 71/100\n",
      "28/28 [==============================] - ETA: 0s - loss: 22.4072 - mean_absolute_error: 22.407 - ETA: 0s - loss: nan - mean_absolute_error: nan        - 0s 4ms/step - loss: nan - mean_absolute_error: nan - val_loss: 31.3727 - val_mean_absolute_error: 31.3727\n",
      "Epoch 72/100\n",
      "28/28 [==============================] - ETA: 0s - loss: 14.2197 - mean_absolute_error: 14.219 - ETA: 0s - loss: nan - mean_absolute_error: nan        - 0s 5ms/step - loss: nan - mean_absolute_error: nan - val_loss: 26.8124 - val_mean_absolute_error: 26.8124\n",
      "Epoch 73/100\n",
      "28/28 [==============================] - ETA: 0s - loss: 27.0495 - mean_absolute_error: 27.049 - ETA: 0s - loss: nan - mean_absolute_error: nan        - 0s 5ms/step - loss: nan - mean_absolute_error: nan - val_loss: 29.0874 - val_mean_absolute_error: 29.0874\n",
      "Epoch 74/100\n",
      "28/28 [==============================] - ETA: 0s - loss: 30.7818 - mean_absolute_error: 30.781 - ETA: 0s - loss: nan - mean_absolute_error: nan        - 0s 5ms/step - loss: nan - mean_absolute_error: nan - val_loss: 30.0957 - val_mean_absolute_error: 30.0957\n",
      "Epoch 75/100\n",
      "28/28 [==============================] - ETA: 0s - loss: 19.9930 - mean_absolute_error: 19.993 - ETA: 0s - loss: nan - mean_absolute_error: nan        - 0s 4ms/step - loss: nan - mean_absolute_error: nan - val_loss: 26.9192 - val_mean_absolute_error: 26.9192\n",
      "Epoch 76/100\n",
      "28/28 [==============================] - ETA: 0s - loss: 26.2401 - mean_absolute_error: 26.240 - ETA: 0s - loss: 21.7370 - mean_absolute_error: 21.737 - 0s 5ms/step - loss: nan - mean_absolute_error: nan - val_loss: 29.7620 - val_mean_absolute_error: 29.7620\n",
      "Epoch 77/100\n",
      "28/28 [==============================] - ETA: 0s - loss: 19.1109 - mean_absolute_error: 19.110 - ETA: 0s - loss: nan - mean_absolute_error: nan        - 0s 5ms/step - loss: nan - mean_absolute_error: nan - val_loss: 29.0403 - val_mean_absolute_error: 29.0403\n",
      "Epoch 78/100\n",
      "28/28 [==============================] - ETA: 0s - loss: 21.3055 - mean_absolute_error: 21.305 - ETA: 0s - loss: nan - mean_absolute_error: nan        - 0s 5ms/step - loss: nan - mean_absolute_error: nan - val_loss: 27.4588 - val_mean_absolute_error: 27.4588\n",
      "Epoch 79/100\n",
      "28/28 [==============================] - ETA: 0s - loss: 20.3694 - mean_absolute_error: 20.369 - ETA: 0s - loss: nan - mean_absolute_error: nan        - 0s 5ms/step - loss: nan - mean_absolute_error: nan - val_loss: 26.5707 - val_mean_absolute_error: 26.5707\n",
      "Epoch 80/100\n",
      "28/28 [==============================] - ETA: 0s - loss: 19.5020 - mean_absolute_error: 19.502 - ETA: 0s - loss: 24.6409 - mean_absolute_error: 24.640 - 0s 5ms/step - loss: nan - mean_absolute_error: nan - val_loss: 28.4320 - val_mean_absolute_error: 28.4320\n",
      "Epoch 81/100\n"
     ]
    },
    {
     "name": "stdout",
     "output_type": "stream",
     "text": [
      "28/28 [==============================] - ETA: 0s - loss: 19.1774 - mean_absolute_error: 19.177 - ETA: 0s - loss: 23.6017 - mean_absolute_error: 23.601 - 0s 5ms/step - loss: nan - mean_absolute_error: nan - val_loss: 28.3802 - val_mean_absolute_error: 28.3802\n",
      "Epoch 82/100\n",
      "28/28 [==============================] - ETA: 0s - loss: 35.2575 - mean_absolute_error: 35.257 - ETA: 0s - loss: 23.7386 - mean_absolute_error: 23.738 - 0s 4ms/step - loss: nan - mean_absolute_error: nan - val_loss: 28.1310 - val_mean_absolute_error: 28.1310\n",
      "Epoch 83/100\n",
      "28/28 [==============================] - ETA: 0s - loss: 24.5240 - mean_absolute_error: 24.524 - ETA: 0s - loss: nan - mean_absolute_error: nan        - 0s 5ms/step - loss: nan - mean_absolute_error: nan - val_loss: 34.0476 - val_mean_absolute_error: 34.0476\n",
      "Epoch 84/100\n",
      "28/28 [==============================] - ETA: 0s - loss: 32.5681 - mean_absolute_error: 32.568 - ETA: 0s - loss: nan - mean_absolute_error: nan        - 0s 5ms/step - loss: nan - mean_absolute_error: nan - val_loss: 28.1217 - val_mean_absolute_error: 28.1217\n",
      "Epoch 85/100\n",
      "28/28 [==============================] - ETA: 0s - loss: 18.1793 - mean_absolute_error: 18.179 - ETA: 0s - loss: nan - mean_absolute_error: nan        - 0s 5ms/step - loss: nan - mean_absolute_error: nan - val_loss: 25.7696 - val_mean_absolute_error: 25.7696\n",
      "Epoch 86/100\n",
      "28/28 [==============================] - ETA: 0s - loss: 22.1519 - mean_absolute_error: 22.151 - ETA: 0s - loss: nan - mean_absolute_error: nan        - 0s 4ms/step - loss: nan - mean_absolute_error: nan - val_loss: 30.0675 - val_mean_absolute_error: 30.0675\n",
      "Epoch 87/100\n",
      "28/28 [==============================] - ETA: 0s - loss: 22.5036 - mean_absolute_error: 22.503 - ETA: 0s - loss: nan - mean_absolute_error: nan        - 0s 4ms/step - loss: nan - mean_absolute_error: nan - val_loss: 27.5324 - val_mean_absolute_error: 27.5324\n",
      "Epoch 88/100\n",
      "28/28 [==============================] - ETA: 0s - loss: 19.2921 - mean_absolute_error: 19.292 - ETA: 0s - loss: nan - mean_absolute_error: nan        - 0s 4ms/step - loss: nan - mean_absolute_error: nan - val_loss: 25.5295 - val_mean_absolute_error: 25.5295\n",
      "Epoch 89/100\n",
      "28/28 [==============================] - ETA: 0s - loss: 19.5740 - mean_absolute_error: 19.574 - ETA: 0s - loss: nan - mean_absolute_error: nan        - 0s 5ms/step - loss: nan - mean_absolute_error: nan - val_loss: 27.4249 - val_mean_absolute_error: 27.4249\n",
      "Epoch 90/100\n",
      "28/28 [==============================] - ETA: 0s - loss: 27.8438 - mean_absolute_error: 27.843 - ETA: 0s - loss: nan - mean_absolute_error: nan        - 0s 9ms/step - loss: nan - mean_absolute_error: nan - val_loss: 24.8663 - val_mean_absolute_error: 24.8663\n",
      "Epoch 91/100\n",
      "28/28 [==============================] - ETA: 0s - loss: 24.5955 - mean_absolute_error: 24.595 - ETA: 0s - loss: 20.9635 - mean_absolute_error: 20.963 - 0s 5ms/step - loss: nan - mean_absolute_error: nan - val_loss: 27.7583 - val_mean_absolute_error: 27.7583\n",
      "Epoch 92/100\n",
      "28/28 [==============================] - ETA: 0s - loss: 25.9576 - mean_absolute_error: 25.957 - ETA: 0s - loss: 22.0788 - mean_absolute_error: 22.078 - 0s 5ms/step - loss: nan - mean_absolute_error: nan - val_loss: 28.1210 - val_mean_absolute_error: 28.1210\n",
      "Epoch 93/100\n",
      "28/28 [==============================] - ETA: 0s - loss: 21.0307 - mean_absolute_error: 21.030 - ETA: 0s - loss: nan - mean_absolute_error: nan        - 0s 5ms/step - loss: nan - mean_absolute_error: nan - val_loss: 26.5754 - val_mean_absolute_error: 26.5754\n",
      "Epoch 94/100\n",
      "28/28 [==============================] - ETA: 0s - loss: 16.6766 - mean_absolute_error: 16.676 - ETA: 0s - loss: nan - mean_absolute_error: nan        - 0s 5ms/step - loss: nan - mean_absolute_error: nan - val_loss: 28.8163 - val_mean_absolute_error: 28.8163\n",
      "Epoch 95/100\n",
      "28/28 [==============================] - ETA: 0s - loss: 31.2449 - mean_absolute_error: 31.244 - ETA: 0s - loss: nan - mean_absolute_error: nan        - 0s 5ms/step - loss: nan - mean_absolute_error: nan - val_loss: 27.1130 - val_mean_absolute_error: 27.1130\n",
      "Epoch 96/100\n",
      "28/28 [==============================] - ETA: 0s - loss: 21.3412 - mean_absolute_error: 21.341 - ETA: 0s - loss: 20.7897 - mean_absolute_error: 20.789 - 0s 5ms/step - loss: nan - mean_absolute_error: nan - val_loss: 27.5921 - val_mean_absolute_error: 27.5921\n",
      "Epoch 97/100\n",
      "28/28 [==============================] - ETA: 0s - loss: 15.5705 - mean_absolute_error: 15.570 - ETA: 0s - loss: 20.0721 - mean_absolute_error: 20.072 - 0s 5ms/step - loss: nan - mean_absolute_error: nan - val_loss: 26.7603 - val_mean_absolute_error: 26.7603\n",
      "Epoch 98/100\n",
      "28/28 [==============================] - ETA: 0s - loss: 16.9007 - mean_absolute_error: 16.900 - ETA: 0s - loss: 19.8282 - mean_absolute_error: 19.828 - 0s 9ms/step - loss: nan - mean_absolute_error: nan - val_loss: 24.6616 - val_mean_absolute_error: 24.6616\n",
      "Epoch 99/100\n",
      "28/28 [==============================] - ETA: 0s - loss: 16.6749 - mean_absolute_error: 16.674 - ETA: 0s - loss: nan - mean_absolute_error: nan        - 0s 4ms/step - loss: nan - mean_absolute_error: nan - val_loss: 25.8945 - val_mean_absolute_error: 25.8945\n",
      "Epoch 100/100\n",
      "28/28 [==============================] - ETA: 0s - loss: 15.2843 - mean_absolute_error: 15.284 - ETA: 0s - loss: 19.7868 - mean_absolute_error: 19.786 - 0s 4ms/step - loss: nan - mean_absolute_error: nan - val_loss: 26.9200 - val_mean_absolute_error: 26.9200\n",
      "Epoch 1/100\n",
      "28/28 [==============================] - ETA: 0s - loss: 108.2810 - mean_absolute_error: 108.281 - ETA: 0s - loss: 72.6170 - mean_absolute_error: 72.6170  - 0s 10ms/step - loss: nan - mean_absolute_error: nan - val_loss: 44.7412 - val_mean_absolute_error: 44.7412\n",
      "Epoch 2/100\n",
      "28/28 [==============================] - ETA: 0s - loss: nan - mean_absolute_error: na - ETA: 0s - loss: nan - mean_absolute_error: na - 0s 5ms/step - loss: nan - mean_absolute_error: nan - val_loss: 37.2834 - val_mean_absolute_error: 37.2834\n",
      "Epoch 3/100\n",
      "28/28 [==============================] - ETA: 0s - loss: 48.5333 - mean_absolute_error: 48.533 - ETA: 0s - loss: 39.8681 - mean_absolute_error: 39.868 - 0s 5ms/step - loss: nan - mean_absolute_error: nan - val_loss: 41.0101 - val_mean_absolute_error: 41.0101\n",
      "Epoch 4/100\n",
      "28/28 [==============================] - ETA: 0s - loss: 42.5403 - mean_absolute_error: 42.540 - ETA: 0s - loss: nan - mean_absolute_error: nan        - 0s 5ms/step - loss: nan - mean_absolute_error: nan - val_loss: 42.2263 - val_mean_absolute_error: 42.2263\n",
      "Epoch 5/100\n",
      "28/28 [==============================] - ETA: 0s - loss: 34.8290 - mean_absolute_error: 34.829 - ETA: 0s - loss: nan - mean_absolute_error: nan        - 0s 5ms/step - loss: nan - mean_absolute_error: nan - val_loss: 37.6698 - val_mean_absolute_error: 37.6698\n",
      "Epoch 6/100\n",
      "28/28 [==============================] - ETA: 0s - loss: 43.3105 - mean_absolute_error: 43.310 - ETA: 0s - loss: nan - mean_absolute_error: nan        - 0s 4ms/step - loss: nan - mean_absolute_error: nan - val_loss: 40.1183 - val_mean_absolute_error: 40.1183\n",
      "Epoch 7/100\n",
      "28/28 [==============================] - ETA: 0s - loss: 32.7819 - mean_absolute_error: 32.781 - ETA: 0s - loss: nan - mean_absolute_error: nan        - 0s 5ms/step - loss: nan - mean_absolute_error: nan - val_loss: 38.0649 - val_mean_absolute_error: 38.0649\n",
      "Epoch 8/100\n",
      "28/28 [==============================] - ETA: 0s - loss: 63.5780 - mean_absolute_error: 63.578 - ETA: 0s - loss: nan - mean_absolute_error: nan        - 0s 6ms/step - loss: nan - mean_absolute_error: nan - val_loss: 35.9866 - val_mean_absolute_error: 35.9866\n",
      "Epoch 9/100\n",
      "28/28 [==============================] - ETA: 0s - loss: 51.2737 - mean_absolute_error: 51.273 - ETA: 0s - loss: nan - mean_absolute_error: nan        - 0s 5ms/step - loss: nan - mean_absolute_error: nan - val_loss: 36.5995 - val_mean_absolute_error: 36.5995\n",
      "Epoch 10/100\n",
      "28/28 [==============================] - ETA: 0s - loss: 36.2851 - mean_absolute_error: 36.285 - ETA: 0s - loss: nan - mean_absolute_error: nan        - 0s 5ms/step - loss: nan - mean_absolute_error: nan - val_loss: 36.6827 - val_mean_absolute_error: 36.6827\n",
      "Epoch 11/100\n"
     ]
    },
    {
     "name": "stdout",
     "output_type": "stream",
     "text": [
      "28/28 [==============================] - ETA: 0s - loss: 45.5220 - mean_absolute_error: 45.522 - ETA: 0s - loss: 35.6894 - mean_absolute_error: 35.689 - 0s 5ms/step - loss: nan - mean_absolute_error: nan - val_loss: 36.3667 - val_mean_absolute_error: 36.3667\n",
      "Epoch 12/100\n",
      "28/28 [==============================] - ETA: 0s - loss: 35.4098 - mean_absolute_error: 35.409 - ETA: 0s - loss: 35.6694 - mean_absolute_error: 35.669 - 0s 5ms/step - loss: nan - mean_absolute_error: nan - val_loss: 36.7896 - val_mean_absolute_error: 36.7896\n",
      "Epoch 13/100\n",
      "28/28 [==============================] - ETA: 0s - loss: 40.3177 - mean_absolute_error: 40.317 - ETA: 0s - loss: 35.1662 - mean_absolute_error: 35.166 - 0s 5ms/step - loss: nan - mean_absolute_error: nan - val_loss: 35.2020 - val_mean_absolute_error: 35.2020\n",
      "Epoch 14/100\n",
      "28/28 [==============================] - ETA: 0s - loss: 40.0907 - mean_absolute_error: 40.090 - ETA: 0s - loss: 36.1779 - mean_absolute_error: 36.177 - 0s 5ms/step - loss: nan - mean_absolute_error: nan - val_loss: 34.9237 - val_mean_absolute_error: 34.9237\n",
      "Epoch 15/100\n",
      "28/28 [==============================] - ETA: 0s - loss: 36.8739 - mean_absolute_error: 36.873 - ETA: 0s - loss: nan - mean_absolute_error: nan        - 0s 5ms/step - loss: nan - mean_absolute_error: nan - val_loss: 33.6892 - val_mean_absolute_error: 33.6892\n",
      "Epoch 16/100\n",
      "28/28 [==============================] - ETA: 0s - loss: 34.6901 - mean_absolute_error: 34.690 - ETA: 0s - loss: nan - mean_absolute_error: nan        - 0s 5ms/step - loss: nan - mean_absolute_error: nan - val_loss: 35.3690 - val_mean_absolute_error: 35.3690\n",
      "Epoch 17/100\n",
      "28/28 [==============================] - ETA: 0s - loss: 43.5770 - mean_absolute_error: 43.577 - ETA: 0s - loss: nan - mean_absolute_error: nan        - 0s 5ms/step - loss: nan - mean_absolute_error: nan - val_loss: 33.3112 - val_mean_absolute_error: 33.3112\n",
      "Epoch 18/100\n",
      "28/28 [==============================] - ETA: 0s - loss: 33.5002 - mean_absolute_error: 33.500 - ETA: 0s - loss: 34.3104 - mean_absolute_error: 34.310 - 0s 5ms/step - loss: nan - mean_absolute_error: nan - val_loss: 32.3969 - val_mean_absolute_error: 32.3969\n",
      "Epoch 19/100\n",
      "28/28 [==============================] - ETA: 0s - loss: 42.1735 - mean_absolute_error: 42.173 - ETA: 0s - loss: 33.3735 - mean_absolute_error: 33.373 - 0s 5ms/step - loss: nan - mean_absolute_error: nan - val_loss: 33.3396 - val_mean_absolute_error: 33.3396\n",
      "Epoch 20/100\n",
      "28/28 [==============================] - ETA: 0s - loss: 26.6069 - mean_absolute_error: 26.606 - ETA: 0s - loss: nan - mean_absolute_error: nan        - 0s 5ms/step - loss: nan - mean_absolute_error: nan - val_loss: 33.7807 - val_mean_absolute_error: 33.7807\n",
      "Epoch 21/100\n",
      "28/28 [==============================] - ETA: 0s - loss: 36.9419 - mean_absolute_error: 36.941 - ETA: 0s - loss: 36.3205 - mean_absolute_error: 36.320 - 0s 5ms/step - loss: nan - mean_absolute_error: nan - val_loss: 33.2244 - val_mean_absolute_error: 33.2244\n",
      "Epoch 22/100\n",
      "28/28 [==============================] - ETA: 0s - loss: 34.3146 - mean_absolute_error: 34.314 - ETA: 0s - loss: 31.6188 - mean_absolute_error: 31.618 - 0s 5ms/step - loss: nan - mean_absolute_error: nan - val_loss: 31.5469 - val_mean_absolute_error: 31.5469\n",
      "Epoch 23/100\n",
      "28/28 [==============================] - ETA: 0s - loss: 32.5680 - mean_absolute_error: 32.568 - ETA: 0s - loss: nan - mean_absolute_error: nan        - 0s 5ms/step - loss: nan - mean_absolute_error: nan - val_loss: 32.9412 - val_mean_absolute_error: 32.9412\n",
      "Epoch 24/100\n",
      "28/28 [==============================] - ETA: 0s - loss: 44.3696 - mean_absolute_error: 44.369 - ETA: 0s - loss: nan - mean_absolute_error: nan        - 0s 5ms/step - loss: nan - mean_absolute_error: nan - val_loss: 31.7523 - val_mean_absolute_error: 31.7523\n",
      "Epoch 25/100\n",
      "28/28 [==============================] - ETA: 0s - loss: 27.5147 - mean_absolute_error: 27.514 - ETA: 0s - loss: nan - mean_absolute_error: nan        - 0s 5ms/step - loss: nan - mean_absolute_error: nan - val_loss: 32.2657 - val_mean_absolute_error: 32.2657\n",
      "Epoch 26/100\n",
      "28/28 [==============================] - ETA: 0s - loss: 37.7642 - mean_absolute_error: 37.764 - ETA: 0s - loss: 33.3161 - mean_absolute_error: 33.316 - 0s 5ms/step - loss: nan - mean_absolute_error: nan - val_loss: 30.8679 - val_mean_absolute_error: 30.8679\n",
      "Epoch 27/100\n",
      "28/28 [==============================] - ETA: 0s - loss: 39.1757 - mean_absolute_error: 39.175 - ETA: 0s - loss: nan - mean_absolute_error: nan        - 0s 5ms/step - loss: nan - mean_absolute_error: nan - val_loss: 32.5064 - val_mean_absolute_error: 32.5064\n",
      "Epoch 28/100\n",
      "28/28 [==============================] - ETA: 0s - loss: 34.8668 - mean_absolute_error: 34.866 - ETA: 0s - loss: 30.9856 - mean_absolute_error: 30.985 - 0s 5ms/step - loss: nan - mean_absolute_error: nan - val_loss: 31.4355 - val_mean_absolute_error: 31.4355\n",
      "Epoch 29/100\n",
      "28/28 [==============================] - ETA: 0s - loss: nan - mean_absolute_error: na - ETA: 0s - loss: nan - mean_absolute_error: na - 0s 5ms/step - loss: nan - mean_absolute_error: nan - val_loss: 29.9487 - val_mean_absolute_error: 29.9487\n",
      "Epoch 30/100\n",
      "28/28 [==============================] - ETA: 0s - loss: nan - mean_absolute_error: na - ETA: 0s - loss: nan - mean_absolute_error: na - 0s 5ms/step - loss: nan - mean_absolute_error: nan - val_loss: 32.5452 - val_mean_absolute_error: 32.5452\n",
      "Epoch 31/100\n",
      "28/28 [==============================] - ETA: 0s - loss: 33.0413 - mean_absolute_error: 33.041 - ETA: 0s - loss: 33.9326 - mean_absolute_error: 33.932 - 0s 5ms/step - loss: nan - mean_absolute_error: nan - val_loss: 32.5387 - val_mean_absolute_error: 32.5387\n",
      "Epoch 32/100\n",
      "28/28 [==============================] - ETA: 0s - loss: 31.2091 - mean_absolute_error: 31.209 - ETA: 0s - loss: nan - mean_absolute_error: nan        - 0s 5ms/step - loss: nan - mean_absolute_error: nan - val_loss: 32.3219 - val_mean_absolute_error: 32.3219\n",
      "Epoch 33/100\n",
      "28/28 [==============================] - ETA: 0s - loss: 20.3382 - mean_absolute_error: 20.338 - ETA: 0s - loss: 29.7087 - mean_absolute_error: 29.708 - 0s 4ms/step - loss: nan - mean_absolute_error: nan - val_loss: 30.4082 - val_mean_absolute_error: 30.4082\n",
      "Epoch 34/100\n",
      "28/28 [==============================] - ETA: 0s - loss: 31.1705 - mean_absolute_error: 31.170 - ETA: 0s - loss: nan - mean_absolute_error: nan        - 0s 5ms/step - loss: nan - mean_absolute_error: nan - val_loss: 29.6414 - val_mean_absolute_error: 29.6414\n",
      "Epoch 35/100\n",
      "28/28 [==============================] - ETA: 0s - loss: 28.3056 - mean_absolute_error: 28.305 - ETA: 0s - loss: nan - mean_absolute_error: nan        - 0s 5ms/step - loss: nan - mean_absolute_error: nan - val_loss: 32.3620 - val_mean_absolute_error: 32.3620\n",
      "Epoch 36/100\n",
      "28/28 [==============================] - ETA: 0s - loss: 32.6036 - mean_absolute_error: 32.603 - ETA: 0s - loss: 29.4843 - mean_absolute_error: 29.484 - 0s 4ms/step - loss: nan - mean_absolute_error: nan - val_loss: 30.9083 - val_mean_absolute_error: 30.9083\n",
      "Epoch 37/100\n",
      "28/28 [==============================] - ETA: 0s - loss: 19.9614 - mean_absolute_error: 19.961 - ETA: 0s - loss: 29.4503 - mean_absolute_error: 29.450 - 0s 5ms/step - loss: nan - mean_absolute_error: nan - val_loss: 30.8380 - val_mean_absolute_error: 30.8380\n",
      "Epoch 38/100\n",
      "28/28 [==============================] - ETA: 0s - loss: 37.6640 - mean_absolute_error: 37.664 - ETA: 0s - loss: nan - mean_absolute_error: nan        - 0s 5ms/step - loss: nan - mean_absolute_error: nan - val_loss: 31.8886 - val_mean_absolute_error: 31.8886\n",
      "Epoch 39/100\n",
      "28/28 [==============================] - ETA: 0s - loss: 27.2188 - mean_absolute_error: 27.218 - ETA: 0s - loss: 30.2742 - mean_absolute_error: 30.274 - 0s 5ms/step - loss: nan - mean_absolute_error: nan - val_loss: 29.7987 - val_mean_absolute_error: 29.7987\n",
      "Epoch 40/100\n",
      "28/28 [==============================] - ETA: 0s - loss: 31.4678 - mean_absolute_error: 31.467 - ETA: 0s - loss: nan - mean_absolute_error: nan        - 0s 4ms/step - loss: nan - mean_absolute_error: nan - val_loss: 32.1024 - val_mean_absolute_error: 32.1024\n",
      "Epoch 41/100\n"
     ]
    },
    {
     "name": "stdout",
     "output_type": "stream",
     "text": [
      "28/28 [==============================] - ETA: 0s - loss: 36.5762 - mean_absolute_error: 36.576 - ETA: 0s - loss: nan - mean_absolute_error: nan        - 0s 5ms/step - loss: nan - mean_absolute_error: nan - val_loss: 31.3027 - val_mean_absolute_error: 31.3027\n",
      "Epoch 42/100\n",
      "28/28 [==============================] - ETA: 0s - loss: 33.3208 - mean_absolute_error: 33.320 - ETA: 0s - loss: 29.9567 - mean_absolute_error: 29.956 - 0s 5ms/step - loss: nan - mean_absolute_error: nan - val_loss: 31.0590 - val_mean_absolute_error: 31.0590\n",
      "Epoch 43/100\n",
      "28/28 [==============================] - ETA: 0s - loss: 21.0980 - mean_absolute_error: 21.098 - ETA: 0s - loss: nan - mean_absolute_error: nan        - 0s 5ms/step - loss: nan - mean_absolute_error: nan - val_loss: 31.1655 - val_mean_absolute_error: 31.1655\n",
      "Epoch 44/100\n",
      "28/28 [==============================] - ETA: 0s - loss: 20.6733 - mean_absolute_error: 20.673 - ETA: 0s - loss: nan - mean_absolute_error: nan        - 0s 5ms/step - loss: nan - mean_absolute_error: nan - val_loss: 30.4610 - val_mean_absolute_error: 30.4610\n",
      "Epoch 45/100\n",
      "28/28 [==============================] - ETA: 0s - loss: nan - mean_absolute_error: na - ETA: 0s - loss: nan - mean_absolute_error: na - 0s 5ms/step - loss: nan - mean_absolute_error: nan - val_loss: 32.1392 - val_mean_absolute_error: 32.1392\n",
      "Epoch 46/100\n",
      "28/28 [==============================] - ETA: 0s - loss: 30.5450 - mean_absolute_error: 30.545 - ETA: 0s - loss: nan - mean_absolute_error: nan        - 0s 5ms/step - loss: nan - mean_absolute_error: nan - val_loss: 28.4040 - val_mean_absolute_error: 28.4040\n",
      "Epoch 47/100\n",
      "28/28 [==============================] - ETA: 0s - loss: 26.7527 - mean_absolute_error: 26.752 - ETA: 0s - loss: nan - mean_absolute_error: nan        - 0s 5ms/step - loss: nan - mean_absolute_error: nan - val_loss: 30.6796 - val_mean_absolute_error: 30.6796\n",
      "Epoch 48/100\n",
      "28/28 [==============================] - ETA: 0s - loss: 23.2386 - mean_absolute_error: 23.238 - ETA: 0s - loss: nan - mean_absolute_error: nan        - 0s 5ms/step - loss: nan - mean_absolute_error: nan - val_loss: 28.9815 - val_mean_absolute_error: 28.9815\n",
      "Epoch 49/100\n",
      "28/28 [==============================] - ETA: 0s - loss: nan - mean_absolute_error: na - ETA: 0s - loss: nan - mean_absolute_error: na - 0s 5ms/step - loss: nan - mean_absolute_error: nan - val_loss: 30.4901 - val_mean_absolute_error: 30.4901\n",
      "Epoch 50/100\n",
      "28/28 [==============================] - ETA: 0s - loss: 26.0897 - mean_absolute_error: 26.089 - ETA: 0s - loss: nan - mean_absolute_error: nan        - 0s 5ms/step - loss: nan - mean_absolute_error: nan - val_loss: 30.1679 - val_mean_absolute_error: 30.1679\n",
      "Epoch 51/100\n",
      "28/28 [==============================] - ETA: 0s - loss: 33.6687 - mean_absolute_error: 33.668 - ETA: 0s - loss: nan - mean_absolute_error: nan        - 0s 5ms/step - loss: nan - mean_absolute_error: nan - val_loss: 28.9790 - val_mean_absolute_error: 28.9790\n",
      "Epoch 52/100\n",
      "28/28 [==============================] - ETA: 0s - loss: 41.0786 - mean_absolute_error: 41.078 - ETA: 0s - loss: 29.0938 - mean_absolute_error: 29.093 - 0s 5ms/step - loss: nan - mean_absolute_error: nan - val_loss: 29.6236 - val_mean_absolute_error: 29.6236\n",
      "Epoch 53/100\n",
      "28/28 [==============================] - ETA: 0s - loss: 23.9142 - mean_absolute_error: 23.914 - ETA: 0s - loss: nan - mean_absolute_error: nan        - 0s 5ms/step - loss: nan - mean_absolute_error: nan - val_loss: 28.3320 - val_mean_absolute_error: 28.3320\n",
      "Epoch 54/100\n",
      "28/28 [==============================] - ETA: 0s - loss: 31.9930 - mean_absolute_error: 31.993 - ETA: 0s - loss: 27.4164 - mean_absolute_error: 27.416 - 0s 5ms/step - loss: nan - mean_absolute_error: nan - val_loss: 32.2810 - val_mean_absolute_error: 32.2810\n",
      "Epoch 55/100\n",
      "28/28 [==============================] - ETA: 0s - loss: 27.8638 - mean_absolute_error: 27.863 - ETA: 0s - loss: nan - mean_absolute_error: nan        - 0s 5ms/step - loss: nan - mean_absolute_error: nan - val_loss: 28.4144 - val_mean_absolute_error: 28.4144\n",
      "Epoch 56/100\n",
      "28/28 [==============================] - ETA: 0s - loss: 22.8656 - mean_absolute_error: 22.865 - ETA: 0s - loss: nan - mean_absolute_error: nan        - 0s 5ms/step - loss: nan - mean_absolute_error: nan - val_loss: 29.4407 - val_mean_absolute_error: 29.4407\n",
      "Epoch 57/100\n",
      "28/28 [==============================] - ETA: 0s - loss: 25.5744 - mean_absolute_error: 25.574 - ETA: 0s - loss: nan - mean_absolute_error: nan        - 0s 5ms/step - loss: nan - mean_absolute_error: nan - val_loss: 35.8335 - val_mean_absolute_error: 35.8335\n",
      "Epoch 58/100\n",
      "28/28 [==============================] - ETA: 0s - loss: 26.5677 - mean_absolute_error: 26.567 - ETA: 0s - loss: 29.2969 - mean_absolute_error: 29.296 - 0s 5ms/step - loss: nan - mean_absolute_error: nan - val_loss: 27.9627 - val_mean_absolute_error: 27.9627\n",
      "Epoch 59/100\n",
      "28/28 [==============================] - ETA: 0s - loss: 24.8565 - mean_absolute_error: 24.856 - ETA: 0s - loss: 25.6952 - mean_absolute_error: 25.695 - 0s 5ms/step - loss: nan - mean_absolute_error: nan - val_loss: 27.7468 - val_mean_absolute_error: 27.7468\n",
      "Epoch 60/100\n",
      "28/28 [==============================] - ETA: 0s - loss: 37.9033 - mean_absolute_error: 37.903 - ETA: 0s - loss: 26.9818 - mean_absolute_error: 26.981 - 0s 5ms/step - loss: nan - mean_absolute_error: nan - val_loss: 27.2516 - val_mean_absolute_error: 27.2516\n",
      "Epoch 61/100\n",
      "28/28 [==============================] - ETA: 0s - loss: 21.3099 - mean_absolute_error: 21.309 - ETA: 0s - loss: nan - mean_absolute_error: nan        - 0s 5ms/step - loss: nan - mean_absolute_error: nan - val_loss: 30.1744 - val_mean_absolute_error: 30.1744\n",
      "Epoch 62/100\n",
      "28/28 [==============================] - ETA: 0s - loss: 19.8929 - mean_absolute_error: 19.892 - ETA: 0s - loss: nan - mean_absolute_error: nan        - 0s 5ms/step - loss: nan - mean_absolute_error: nan - val_loss: 33.6077 - val_mean_absolute_error: 33.6077\n",
      "Epoch 63/100\n",
      "28/28 [==============================] - ETA: 0s - loss: 34.4078 - mean_absolute_error: 34.407 - ETA: 0s - loss: 26.3055 - mean_absolute_error: 26.305 - 0s 5ms/step - loss: nan - mean_absolute_error: nan - val_loss: 28.6178 - val_mean_absolute_error: 28.6178\n",
      "Epoch 64/100\n",
      "28/28 [==============================] - ETA: 0s - loss: 20.7585 - mean_absolute_error: 20.758 - ETA: 0s - loss: 26.1696 - mean_absolute_error: 26.169 - 0s 4ms/step - loss: nan - mean_absolute_error: nan - val_loss: 28.5089 - val_mean_absolute_error: 28.5089\n",
      "Epoch 65/100\n",
      "28/28 [==============================] - ETA: 0s - loss: 22.0357 - mean_absolute_error: 22.035 - ETA: 0s - loss: 24.6153 - mean_absolute_error: 24.615 - 0s 5ms/step - loss: nan - mean_absolute_error: nan - val_loss: 28.4279 - val_mean_absolute_error: 28.4279\n",
      "Epoch 66/100\n",
      "28/28 [==============================] - ETA: 0s - loss: 28.0824 - mean_absolute_error: 28.082 - ETA: 0s - loss: nan - mean_absolute_error: nan        - 0s 5ms/step - loss: nan - mean_absolute_error: nan - val_loss: 27.6048 - val_mean_absolute_error: 27.6048\n",
      "Epoch 67/100\n",
      "28/28 [==============================] - ETA: 0s - loss: 22.1103 - mean_absolute_error: 22.110 - ETA: 0s - loss: nan - mean_absolute_error: nan        - 0s 5ms/step - loss: nan - mean_absolute_error: nan - val_loss: 27.1543 - val_mean_absolute_error: 27.1543\n",
      "Epoch 68/100\n",
      "28/28 [==============================] - ETA: 0s - loss: 17.4477 - mean_absolute_error: 17.447 - ETA: 0s - loss: nan - mean_absolute_error: nan        - 0s 4ms/step - loss: nan - mean_absolute_error: nan - val_loss: 27.2626 - val_mean_absolute_error: 27.2626\n",
      "Epoch 69/100\n",
      "28/28 [==============================] - ETA: 0s - loss: 12.9647 - mean_absolute_error: 12.964 - ETA: 0s - loss: nan - mean_absolute_error: nan        - 0s 5ms/step - loss: nan - mean_absolute_error: nan - val_loss: 28.9004 - val_mean_absolute_error: 28.9004\n",
      "Epoch 70/100\n",
      "28/28 [==============================] - ETA: 0s - loss: 26.6607 - mean_absolute_error: 26.660 - ETA: 0s - loss: 24.4320 - mean_absolute_error: 24.432 - 0s 5ms/step - loss: nan - mean_absolute_error: nan - val_loss: 27.0455 - val_mean_absolute_error: 27.0455\n",
      "Epoch 71/100\n"
     ]
    },
    {
     "name": "stdout",
     "output_type": "stream",
     "text": [
      "28/28 [==============================] - ETA: 0s - loss: 23.8177 - mean_absolute_error: 23.817 - ETA: 0s - loss: nan - mean_absolute_error: nan        - 0s 4ms/step - loss: nan - mean_absolute_error: nan - val_loss: 32.3192 - val_mean_absolute_error: 32.3192\n",
      "Epoch 72/100\n",
      "28/28 [==============================] - ETA: 0s - loss: 25.0336 - mean_absolute_error: 25.033 - ETA: 0s - loss: nan - mean_absolute_error: nan        - 0s 5ms/step - loss: nan - mean_absolute_error: nan - val_loss: 29.1993 - val_mean_absolute_error: 29.1993\n",
      "Epoch 73/100\n",
      "28/28 [==============================] - ETA: 0s - loss: 29.3677 - mean_absolute_error: 29.367 - ETA: 0s - loss: 25.3892 - mean_absolute_error: 25.389 - 0s 4ms/step - loss: nan - mean_absolute_error: nan - val_loss: 27.6457 - val_mean_absolute_error: 27.6457\n",
      "Epoch 74/100\n",
      "28/28 [==============================] - ETA: 0s - loss: 26.3752 - mean_absolute_error: 26.375 - ETA: 0s - loss: 24.7784 - mean_absolute_error: 24.778 - 0s 5ms/step - loss: nan - mean_absolute_error: nan - val_loss: 28.9443 - val_mean_absolute_error: 28.9443\n",
      "Epoch 75/100\n",
      "28/28 [==============================] - ETA: 0s - loss: 25.7306 - mean_absolute_error: 25.730 - ETA: 0s - loss: 22.7690 - mean_absolute_error: 22.769 - 0s 5ms/step - loss: nan - mean_absolute_error: nan - val_loss: 29.3747 - val_mean_absolute_error: 29.3747\n",
      "Epoch 76/100\n",
      "28/28 [==============================] - ETA: 0s - loss: 30.2674 - mean_absolute_error: 30.267 - ETA: 0s - loss: nan - mean_absolute_error: nan        - 0s 5ms/step - loss: nan - mean_absolute_error: nan - val_loss: 29.7493 - val_mean_absolute_error: 29.7493\n",
      "Epoch 77/100\n",
      "28/28 [==============================] - ETA: 0s - loss: 19.0218 - mean_absolute_error: 19.021 - ETA: 0s - loss: 22.4394 - mean_absolute_error: 22.439 - 0s 5ms/step - loss: nan - mean_absolute_error: nan - val_loss: 26.9478 - val_mean_absolute_error: 26.9478\n",
      "Epoch 78/100\n",
      "28/28 [==============================] - ETA: 0s - loss: 30.9368 - mean_absolute_error: 30.936 - ETA: 0s - loss: 23.9840 - mean_absolute_error: 23.984 - 0s 5ms/step - loss: nan - mean_absolute_error: nan - val_loss: 29.2195 - val_mean_absolute_error: 29.2195\n",
      "Epoch 79/100\n",
      "28/28 [==============================] - ETA: 0s - loss: 20.0968 - mean_absolute_error: 20.096 - ETA: 0s - loss: nan - mean_absolute_error: nan        - 0s 5ms/step - loss: nan - mean_absolute_error: nan - val_loss: 27.2291 - val_mean_absolute_error: 27.2291\n",
      "Epoch 80/100\n",
      "28/28 [==============================] - ETA: 0s - loss: 22.4583 - mean_absolute_error: 22.458 - ETA: 0s - loss: 21.5849 - mean_absolute_error: 21.584 - 0s 5ms/step - loss: nan - mean_absolute_error: nan - val_loss: 31.5453 - val_mean_absolute_error: 31.5453\n",
      "Epoch 81/100\n",
      "28/28 [==============================] - ETA: 0s - loss: 16.2494 - mean_absolute_error: 16.249 - ETA: 0s - loss: nan - mean_absolute_error: nan        - 0s 5ms/step - loss: nan - mean_absolute_error: nan - val_loss: 27.0507 - val_mean_absolute_error: 27.0507\n",
      "Epoch 82/100\n",
      "28/28 [==============================] - ETA: 0s - loss: 18.3496 - mean_absolute_error: 18.349 - ETA: 0s - loss: nan - mean_absolute_error: nan        - 0s 5ms/step - loss: nan - mean_absolute_error: nan - val_loss: 26.8785 - val_mean_absolute_error: 26.8785\n",
      "Epoch 83/100\n",
      "28/28 [==============================] - ETA: 0s - loss: 17.9660 - mean_absolute_error: 17.966 - ETA: 0s - loss: nan - mean_absolute_error: nan        - 0s 4ms/step - loss: nan - mean_absolute_error: nan - val_loss: 27.4510 - val_mean_absolute_error: 27.4510\n",
      "Epoch 84/100\n",
      "28/28 [==============================] - ETA: 0s - loss: 22.1923 - mean_absolute_error: 22.192 - ETA: 0s - loss: nan - mean_absolute_error: nan        - 0s 5ms/step - loss: nan - mean_absolute_error: nan - val_loss: 26.6558 - val_mean_absolute_error: 26.6558\n",
      "Epoch 85/100\n",
      "28/28 [==============================] - ETA: 0s - loss: 17.3896 - mean_absolute_error: 17.389 - ETA: 0s - loss: nan - mean_absolute_error: nan        - 0s 5ms/step - loss: nan - mean_absolute_error: nan - val_loss: 27.1350 - val_mean_absolute_error: 27.1350\n",
      "Epoch 86/100\n",
      "28/28 [==============================] - ETA: 0s - loss: 19.1803 - mean_absolute_error: 19.180 - ETA: 0s - loss: 22.0142 - mean_absolute_error: 22.014 - 0s 4ms/step - loss: nan - mean_absolute_error: nan - val_loss: 29.6933 - val_mean_absolute_error: 29.6933\n",
      "Epoch 87/100\n",
      "28/28 [==============================] - ETA: 0s - loss: 22.8522 - mean_absolute_error: 22.852 - ETA: 0s - loss: 21.2790 - mean_absolute_error: 21.279 - 0s 5ms/step - loss: nan - mean_absolute_error: nan - val_loss: 28.7460 - val_mean_absolute_error: 28.7460\n",
      "Epoch 88/100\n",
      "28/28 [==============================] - ETA: 0s - loss: 25.0381 - mean_absolute_error: 25.038 - ETA: 0s - loss: nan - mean_absolute_error: nan        - 0s 5ms/step - loss: nan - mean_absolute_error: nan - val_loss: 28.5026 - val_mean_absolute_error: 28.5026\n",
      "Epoch 89/100\n",
      "28/28 [==============================] - ETA: 0s - loss: 21.5381 - mean_absolute_error: 21.538 - ETA: 0s - loss: 21.7456 - mean_absolute_error: 21.745 - 0s 5ms/step - loss: nan - mean_absolute_error: nan - val_loss: 27.5524 - val_mean_absolute_error: 27.5524\n",
      "Epoch 90/100\n",
      "28/28 [==============================] - ETA: 0s - loss: 21.0360 - mean_absolute_error: 21.036 - ETA: 0s - loss: nan - mean_absolute_error: nan        - 0s 5ms/step - loss: nan - mean_absolute_error: nan - val_loss: 27.0605 - val_mean_absolute_error: 27.0605\n",
      "Epoch 91/100\n",
      "28/28 [==============================] - ETA: 0s - loss: 19.2659 - mean_absolute_error: 19.265 - ETA: 0s - loss: 22.0488 - mean_absolute_error: 22.048 - 0s 5ms/step - loss: nan - mean_absolute_error: nan - val_loss: 27.2351 - val_mean_absolute_error: 27.2351\n",
      "Epoch 92/100\n",
      "28/28 [==============================] - ETA: 0s - loss: 19.3605 - mean_absolute_error: 19.360 - ETA: 0s - loss: nan - mean_absolute_error: nan        - 0s 5ms/step - loss: nan - mean_absolute_error: nan - val_loss: 26.4042 - val_mean_absolute_error: 26.4042\n",
      "Epoch 93/100\n",
      "28/28 [==============================] - ETA: 0s - loss: 21.7985 - mean_absolute_error: 21.798 - ETA: 0s - loss: 19.9562 - mean_absolute_error: 19.956 - 0s 5ms/step - loss: nan - mean_absolute_error: nan - val_loss: 27.4437 - val_mean_absolute_error: 27.4437\n",
      "Epoch 94/100\n",
      "28/28 [==============================] - ETA: 0s - loss: 19.4327 - mean_absolute_error: 19.432 - ETA: 0s - loss: nan - mean_absolute_error: nan        - 0s 5ms/step - loss: nan - mean_absolute_error: nan - val_loss: 26.4395 - val_mean_absolute_error: 26.4395\n",
      "Epoch 95/100\n",
      "28/28 [==============================] - ETA: 0s - loss: 15.5998 - mean_absolute_error: 15.599 - ETA: 0s - loss: nan - mean_absolute_error: nan        - 0s 4ms/step - loss: nan - mean_absolute_error: nan - val_loss: 28.1701 - val_mean_absolute_error: 28.1701\n",
      "Epoch 96/100\n",
      "28/28 [==============================] - ETA: 0s - loss: 21.2992 - mean_absolute_error: 21.299 - ETA: 0s - loss: nan - mean_absolute_error: nan        - 0s 5ms/step - loss: nan - mean_absolute_error: nan - val_loss: 26.6647 - val_mean_absolute_error: 26.6647\n",
      "Epoch 97/100\n",
      "28/28 [==============================] - ETA: 0s - loss: 26.7557 - mean_absolute_error: 26.755 - ETA: 0s - loss: nan - mean_absolute_error: nan        - 0s 5ms/step - loss: nan - mean_absolute_error: nan - val_loss: 25.6823 - val_mean_absolute_error: 25.6823\n",
      "Epoch 98/100\n",
      "28/28 [==============================] - ETA: 0s - loss: 27.1791 - mean_absolute_error: 27.179 - ETA: 0s - loss: nan - mean_absolute_error: nan        - 0s 5ms/step - loss: nan - mean_absolute_error: nan - val_loss: 26.4435 - val_mean_absolute_error: 26.4435\n",
      "Epoch 99/100\n",
      "28/28 [==============================] - ETA: 0s - loss: 24.3133 - mean_absolute_error: 24.313 - ETA: 0s - loss: nan - mean_absolute_error: nan        - 0s 4ms/step - loss: nan - mean_absolute_error: nan - val_loss: 26.3331 - val_mean_absolute_error: 26.3331\n",
      "Epoch 100/100\n",
      "28/28 [==============================] - ETA: 0s - loss: 21.8493 - mean_absolute_error: 21.849 - ETA: 0s - loss: nan - mean_absolute_error: nan        - 0s 5ms/step - loss: nan - mean_absolute_error: nan - val_loss: 26.3751 - val_mean_absolute_error: 26.3751\n"
     ]
    },
    {
     "data": {
      "text/html": [
       "<span style=\"color:#4527A0\"><h1 style=\"font-size:18px\">Trial complete</h1></span>"
      ],
      "text/plain": [
       "<IPython.core.display.HTML object>"
      ]
     },
     "metadata": {},
     "output_type": "display_data"
    },
    {
     "data": {
      "text/html": [
       "<span style=\"color:#4527A0\"><h1 style=\"font-size:18px\">Trial summary</h1></span>"
      ],
      "text/plain": [
       "<IPython.core.display.HTML object>"
      ]
     },
     "metadata": {},
     "output_type": "display_data"
    },
    {
     "data": {
      "text/html": [
       "<span style=\"color:cyan\"> |-Trial ID: dbb4c09d368c7532e718c3cd675299e2</span>"
      ],
      "text/plain": [
       "<IPython.core.display.HTML object>"
      ]
     },
     "metadata": {},
     "output_type": "display_data"
    },
    {
     "data": {
      "text/html": [
       "<span style=\"color:cyan\"> |-Score: 25.188175201416016</span>"
      ],
      "text/plain": [
       "<IPython.core.display.HTML object>"
      ]
     },
     "metadata": {},
     "output_type": "display_data"
    },
    {
     "data": {
      "text/html": [
       "<span style=\"color:cyan\"> |-Best step: 0</span>"
      ],
      "text/plain": [
       "<IPython.core.display.HTML object>"
      ]
     },
     "metadata": {},
     "output_type": "display_data"
    },
    {
     "data": {
      "text/html": [
       "<span style=\"color:#7E57C2\"><h2 style=\"font-size:16px\">Hyperparameters:</h2></span>"
      ],
      "text/plain": [
       "<IPython.core.display.HTML object>"
      ]
     },
     "metadata": {},
     "output_type": "display_data"
    },
    {
     "data": {
      "text/html": [
       "<span style=\"color:cyan\"> |-learning_rate: 0.01</span>"
      ],
      "text/plain": [
       "<IPython.core.display.HTML object>"
      ]
     },
     "metadata": {},
     "output_type": "display_data"
    },
    {
     "data": {
      "text/html": [
       "<span style=\"color:blue\"> |-num_layers: 3</span>"
      ],
      "text/plain": [
       "<IPython.core.display.HTML object>"
      ]
     },
     "metadata": {},
     "output_type": "display_data"
    },
    {
     "data": {
      "text/html": [
       "<span style=\"color:cyan\"> |-units_0: 512</span>"
      ],
      "text/plain": [
       "<IPython.core.display.HTML object>"
      ]
     },
     "metadata": {},
     "output_type": "display_data"
    },
    {
     "data": {
      "text/html": [
       "<span style=\"color:blue\"> |-units_1: 96</span>"
      ],
      "text/plain": [
       "<IPython.core.display.HTML object>"
      ]
     },
     "metadata": {},
     "output_type": "display_data"
    },
    {
     "data": {
      "text/html": [
       "<span style=\"color:cyan\"> |-units_10: 448</span>"
      ],
      "text/plain": [
       "<IPython.core.display.HTML object>"
      ]
     },
     "metadata": {},
     "output_type": "display_data"
    },
    {
     "data": {
      "text/html": [
       "<span style=\"color:blue\"> |-units_11: 224</span>"
      ],
      "text/plain": [
       "<IPython.core.display.HTML object>"
      ]
     },
     "metadata": {},
     "output_type": "display_data"
    },
    {
     "data": {
      "text/html": [
       "<span style=\"color:cyan\"> |-units_12: 96</span>"
      ],
      "text/plain": [
       "<IPython.core.display.HTML object>"
      ]
     },
     "metadata": {},
     "output_type": "display_data"
    },
    {
     "data": {
      "text/html": [
       "<span style=\"color:blue\"> |-units_13: 64</span>"
      ],
      "text/plain": [
       "<IPython.core.display.HTML object>"
      ]
     },
     "metadata": {},
     "output_type": "display_data"
    },
    {
     "data": {
      "text/html": [
       "<span style=\"color:cyan\"> |-units_14: 192</span>"
      ],
      "text/plain": [
       "<IPython.core.display.HTML object>"
      ]
     },
     "metadata": {},
     "output_type": "display_data"
    },
    {
     "data": {
      "text/html": [
       "<span style=\"color:blue\"> |-units_15: 192</span>"
      ],
      "text/plain": [
       "<IPython.core.display.HTML object>"
      ]
     },
     "metadata": {},
     "output_type": "display_data"
    },
    {
     "data": {
      "text/html": [
       "<span style=\"color:cyan\"> |-units_16: 256</span>"
      ],
      "text/plain": [
       "<IPython.core.display.HTML object>"
      ]
     },
     "metadata": {},
     "output_type": "display_data"
    },
    {
     "data": {
      "text/html": [
       "<span style=\"color:blue\"> |-units_17: 480</span>"
      ],
      "text/plain": [
       "<IPython.core.display.HTML object>"
      ]
     },
     "metadata": {},
     "output_type": "display_data"
    },
    {
     "data": {
      "text/html": [
       "<span style=\"color:cyan\"> |-units_18: 512</span>"
      ],
      "text/plain": [
       "<IPython.core.display.HTML object>"
      ]
     },
     "metadata": {},
     "output_type": "display_data"
    },
    {
     "data": {
      "text/html": [
       "<span style=\"color:blue\"> |-units_19: 256</span>"
      ],
      "text/plain": [
       "<IPython.core.display.HTML object>"
      ]
     },
     "metadata": {},
     "output_type": "display_data"
    },
    {
     "data": {
      "text/html": [
       "<span style=\"color:cyan\"> |-units_2: 64</span>"
      ],
      "text/plain": [
       "<IPython.core.display.HTML object>"
      ]
     },
     "metadata": {},
     "output_type": "display_data"
    },
    {
     "data": {
      "text/html": [
       "<span style=\"color:blue\"> |-units_3: 160</span>"
      ],
      "text/plain": [
       "<IPython.core.display.HTML object>"
      ]
     },
     "metadata": {},
     "output_type": "display_data"
    },
    {
     "data": {
      "text/html": [
       "<span style=\"color:cyan\"> |-units_4: 160</span>"
      ],
      "text/plain": [
       "<IPython.core.display.HTML object>"
      ]
     },
     "metadata": {},
     "output_type": "display_data"
    },
    {
     "data": {
      "text/html": [
       "<span style=\"color:blue\"> |-units_5: 192</span>"
      ],
      "text/plain": [
       "<IPython.core.display.HTML object>"
      ]
     },
     "metadata": {},
     "output_type": "display_data"
    },
    {
     "data": {
      "text/html": [
       "<span style=\"color:cyan\"> |-units_6: 384</span>"
      ],
      "text/plain": [
       "<IPython.core.display.HTML object>"
      ]
     },
     "metadata": {},
     "output_type": "display_data"
    },
    {
     "data": {
      "text/html": [
       "<span style=\"color:blue\"> |-units_7: 96</span>"
      ],
      "text/plain": [
       "<IPython.core.display.HTML object>"
      ]
     },
     "metadata": {},
     "output_type": "display_data"
    },
    {
     "data": {
      "text/html": [
       "<span style=\"color:cyan\"> |-units_8: 96</span>"
      ],
      "text/plain": [
       "<IPython.core.display.HTML object>"
      ]
     },
     "metadata": {},
     "output_type": "display_data"
    },
    {
     "data": {
      "text/html": [
       "<span style=\"color:blue\"> |-units_9: 128</span>"
      ],
      "text/plain": [
       "<IPython.core.display.HTML object>"
      ]
     },
     "metadata": {},
     "output_type": "display_data"
    },
    {
     "name": "stdout",
     "output_type": "stream",
     "text": [
      "Epoch 1/100\n",
      "28/28 [==============================] - ETA: 0s - loss: 118.6332 - mean_absolute_error: 118.633 - ETA: 0s - loss: 9194.9287 - mean_absolute_error: 9194.928 - ETA: 0s - loss: nan - mean_absolute_error: nan            - ETA: 0s - loss: nan - mean_absolute_error: na - ETA: 0s - loss: nan - mean_absolute_error: na - ETA: 0s - loss: nan - mean_absolute_error: na - ETA: 0s - loss: nan - mean_absolute_error: na - ETA: 0s - loss: nan - mean_absolute_error: na - ETA: 0s - loss: nan - mean_absolute_error: na - 1s 41ms/step - loss: nan - mean_absolute_error: nan - val_loss: 63.4087 - val_mean_absolute_error: 63.4087\n",
      "Epoch 2/100\n",
      "28/28 [==============================] - ETA: 0s - loss: 53.9742 - mean_absolute_error: 53.974 - ETA: 0s - loss: 75.5017 - mean_absolute_error: 75.501 - ETA: 0s - loss: 73.8413 - mean_absolute_error: 73.841 - ETA: 0s - loss: 74.9613 - mean_absolute_error: 74.961 - ETA: 0s - loss: nan - mean_absolute_error: nan        - ETA: 0s - loss: nan - mean_absolute_error: na - ETA: 0s - loss: nan - mean_absolute_error: na - ETA: 0s - loss: nan - mean_absolute_error: na - 1s 18ms/step - loss: nan - mean_absolute_error: nan - val_loss: 64.0208 - val_mean_absolute_error: 64.0208\n",
      "Epoch 3/100\n",
      "28/28 [==============================] - ETA: 0s - loss: 57.2082 - mean_absolute_error: 57.208 - ETA: 0s - loss: 66.6684 - mean_absolute_error: 66.668 - ETA: 0s - loss: 67.0344 - mean_absolute_error: 67.034 - ETA: 0s - loss: 65.0302 - mean_absolute_error: 65.030 - ETA: 0s - loss: 64.7097 - mean_absolute_error: 64.709 - ETA: 0s - loss: 67.1768 - mean_absolute_error: 67.176 - ETA: 0s - loss: nan - mean_absolute_error: nan        - ETA: 0s - loss: nan - mean_absolute_error: na - 0s 18ms/step - loss: nan - mean_absolute_error: nan - val_loss: 64.0123 - val_mean_absolute_error: 64.0123\n",
      "Epoch 4/100\n",
      "28/28 [==============================] - ETA: 0s - loss: 57.9868 - mean_absolute_error: 57.986 - ETA: 0s - loss: 68.9406 - mean_absolute_error: 68.940 - ETA: 0s - loss: nan - mean_absolute_error: nan        - ETA: 0s - loss: nan - mean_absolute_error: na - ETA: 0s - loss: nan - mean_absolute_error: na - ETA: 0s - loss: nan - mean_absolute_error: na - ETA: 0s - loss: nan - mean_absolute_error: na - ETA: 0s - loss: nan - mean_absolute_error: na - 0s 18ms/step - loss: nan - mean_absolute_error: nan - val_loss: 64.1483 - val_mean_absolute_error: 64.1483\n",
      "Epoch 5/100\n",
      "28/28 [==============================] - ETA: 0s - loss: 70.2946 - mean_absolute_error: 70.294 - ETA: 0s - loss: 71.9949 - mean_absolute_error: 71.994 - ETA: 0s - loss: nan - mean_absolute_error: nan        - ETA: 0s - loss: nan - mean_absolute_error: na - ETA: 0s - loss: nan - mean_absolute_error: na - ETA: 0s - loss: nan - mean_absolute_error: na - ETA: 0s - loss: nan - mean_absolute_error: na - ETA: 0s - loss: nan - mean_absolute_error: na - 1s 18ms/step - loss: nan - mean_absolute_error: nan - val_loss: 63.6073 - val_mean_absolute_error: 63.6073\n",
      "Epoch 6/100\n",
      "28/28 [==============================] - ETA: 0s - loss: 47.7701 - mean_absolute_error: 47.770 - ETA: 0s - loss: 65.7504 - mean_absolute_error: 65.750 - ETA: 0s - loss: 66.6510 - mean_absolute_error: 66.651 - ETA: 0s - loss: 68.9930 - mean_absolute_error: 68.993 - ETA: 0s - loss: nan - mean_absolute_error: nan        - ETA: 0s - loss: nan - mean_absolute_error: na - ETA: 0s - loss: nan - mean_absolute_error: na - ETA: 0s - loss: nan - mean_absolute_error: na - 0s 18ms/step - loss: nan - mean_absolute_error: nan - val_loss: 73.3968 - val_mean_absolute_error: 73.3968\n",
      "Epoch 7/100\n",
      "28/28 [==============================] - ETA: 0s - loss: 67.5765 - mean_absolute_error: 67.576 - ETA: 0s - loss: 72.6311 - mean_absolute_error: 72.631 - ETA: 0s - loss: 68.3841 - mean_absolute_error: 68.384 - ETA: 0s - loss: nan - mean_absolute_error: nan        - ETA: 0s - loss: nan - mean_absolute_error: na - ETA: 0s - loss: nan - mean_absolute_error: na - ETA: 0s - loss: nan - mean_absolute_error: na - 0s 18ms/step - loss: nan - mean_absolute_error: nan - val_loss: 68.7460 - val_mean_absolute_error: 68.7460\n",
      "Epoch 8/100\n",
      "28/28 [==============================] - ETA: 0s - loss: 68.3886 - mean_absolute_error: 68.388 - ETA: 0s - loss: 75.6365 - mean_absolute_error: 75.636 - ETA: 0s - loss: 68.6350 - mean_absolute_error: 68.635 - ETA: 0s - loss: 67.3300 - mean_absolute_error: 67.330 - ETA: 0s - loss: nan - mean_absolute_error: nan        - ETA: 0s - loss: nan - mean_absolute_error: na - ETA: 0s - loss: nan - mean_absolute_error: na - 0s 17ms/step - loss: nan - mean_absolute_error: nan - val_loss: 63.6308 - val_mean_absolute_error: 63.6308\n",
      "Epoch 9/100\n",
      "28/28 [==============================] - ETA: 0s - loss: 82.8381 - mean_absolute_error: 82.838 - ETA: 0s - loss: 75.5269 - mean_absolute_error: 75.526 - ETA: 0s - loss: 70.9311 - mean_absolute_error: 70.931 - ETA: 0s - loss: 70.3438 - mean_absolute_error: 70.343 - ETA: 0s - loss: 67.3205 - mean_absolute_error: 67.320 - ETA: 0s - loss: 68.9195 - mean_absolute_error: 68.919 - ETA: 0s - loss: 68.2321 - mean_absolute_error: 68.232 - 0s 17ms/step - loss: nan - mean_absolute_error: nan - val_loss: 64.8057 - val_mean_absolute_error: 64.8057\n",
      "Epoch 10/100\n",
      "28/28 [==============================] - ETA: 0s - loss: 81.4383 - mean_absolute_error: 81.438 - ETA: 0s - loss: 75.2080 - mean_absolute_error: 75.208 - ETA: 0s - loss: 70.6444 - mean_absolute_error: 70.644 - ETA: 0s - loss: 69.5778 - mean_absolute_error: 69.577 - ETA: 0s - loss: nan - mean_absolute_error: nan        - ETA: 0s - loss: nan - mean_absolute_error: na - ETA: 0s - loss: nan - mean_absolute_error: na - 0s 17ms/step - loss: nan - mean_absolute_error: nan - val_loss: 64.0452 - val_mean_absolute_error: 64.0452\n",
      "Epoch 11/100\n",
      "28/28 [==============================] - ETA: 0s - loss: 87.0283 - mean_absolute_error: 87.028 - ETA: 0s - loss: 76.0431 - mean_absolute_error: 76.043 - ETA: 0s - loss: 71.2773 - mean_absolute_error: 71.277 - ETA: 0s - loss: 67.2570 - mean_absolute_error: 67.257 - ETA: 0s - loss: 67.0398 - mean_absolute_error: 67.039 - ETA: 0s - loss: 66.6240 - mean_absolute_error: 66.624 - ETA: 0s - loss: 66.5104 - mean_absolute_error: 66.510 - ETA: 0s - loss: nan - mean_absolute_error: nan        - 1s 18ms/step - loss: nan - mean_absolute_error: nan - val_loss: 64.4841 - val_mean_absolute_error: 64.4841\n",
      "Epoch 12/100\n",
      "28/28 [==============================] - ETA: 0s - loss: 46.4503 - mean_absolute_error: 46.450 - ETA: 0s - loss: 56.8559 - mean_absolute_error: 56.855 - ETA: 0s - loss: 67.3530 - mean_absolute_error: 67.353 - ETA: 0s - loss: 70.6786 - mean_absolute_error: 70.678 - ETA: 0s - loss: nan - mean_absolute_error: nan        - ETA: 0s - loss: nan - mean_absolute_error: na - ETA: 0s - loss: nan - mean_absolute_error: na - 0s 16ms/step - loss: nan - mean_absolute_error: nan - val_loss: 63.9293 - val_mean_absolute_error: 63.9293\n",
      "Epoch 13/100\n",
      "28/28 [==============================] - ETA: 0s - loss: 61.6327 - mean_absolute_error: 61.632 - ETA: 0s - loss: 66.6204 - mean_absolute_error: 66.620 - ETA: 0s - loss: 71.1516 - mean_absolute_error: 71.151 - ETA: 0s - loss: 68.3810 - mean_absolute_error: 68.381 - ETA: 0s - loss: 67.9509 - mean_absolute_error: 67.950 - ETA: 0s - loss: nan - mean_absolute_error: nan        - 0s 13ms/step - loss: nan - mean_absolute_error: nan - val_loss: 64.4432 - val_mean_absolute_error: 64.4432\n",
      "Epoch 14/100\n",
      "28/28 [==============================] - ETA: 0s - loss: 57.0759 - mean_absolute_error: 57.075 - ETA: 0s - loss: nan - mean_absolute_error: nan        - ETA: 0s - loss: nan - mean_absolute_error: na - ETA: 0s - loss: nan - mean_absolute_error: na - ETA: 0s - loss: nan - mean_absolute_error: na - ETA: 0s - loss: nan - mean_absolute_error: na - ETA: 0s - loss: nan - mean_absolute_error: na - 0s 16ms/step - loss: nan - mean_absolute_error: nan - val_loss: 64.0533 - val_mean_absolute_error: 64.0533\n",
      "Epoch 15/100\n"
     ]
    },
    {
     "name": "stdout",
     "output_type": "stream",
     "text": [
      "28/28 [==============================] - ETA: 0s - loss: 73.9994 - mean_absolute_error: 73.999 - ETA: 0s - loss: 69.3727 - mean_absolute_error: 69.372 - ETA: 0s - loss: 66.8031 - mean_absolute_error: 66.803 - ETA: 0s - loss: 66.4660 - mean_absolute_error: 66.466 - ETA: 0s - loss: 66.0417 - mean_absolute_error: 66.041 - ETA: 0s - loss: 64.7135 - mean_absolute_error: 64.713 - ETA: 0s - loss: 65.5511 - mean_absolute_error: 65.551 - ETA: 0s - loss: nan - mean_absolute_error: nan        - 0s 18ms/step - loss: nan - mean_absolute_error: nan - val_loss: 65.3993 - val_mean_absolute_error: 65.3993\n",
      "Epoch 16/100\n",
      "28/28 [==============================] - ETA: 0s - loss: 72.4431 - mean_absolute_error: 72.443 - ETA: 0s - loss: nan - mean_absolute_error: nan        - ETA: 0s - loss: nan - mean_absolute_error: na - ETA: 0s - loss: nan - mean_absolute_error: na - ETA: 0s - loss: nan - mean_absolute_error: na - ETA: 0s - loss: nan - mean_absolute_error: na - ETA: 0s - loss: nan - mean_absolute_error: na - ETA: 0s - loss: nan - mean_absolute_error: na - 1s 18ms/step - loss: nan - mean_absolute_error: nan - val_loss: 63.5856 - val_mean_absolute_error: 63.5856\n",
      "Epoch 17/100\n",
      "28/28 [==============================] - ETA: 0s - loss: 56.5945 - mean_absolute_error: 56.594 - ETA: 0s - loss: nan - mean_absolute_error: nan        - ETA: 0s - loss: nan - mean_absolute_error: na - ETA: 0s - loss: nan - mean_absolute_error: na - ETA: 0s - loss: nan - mean_absolute_error: na - ETA: 0s - loss: nan - mean_absolute_error: na - ETA: 0s - loss: nan - mean_absolute_error: na - ETA: 0s - loss: nan - mean_absolute_error: na - 0s 17ms/step - loss: nan - mean_absolute_error: nan - val_loss: 63.5147 - val_mean_absolute_error: 63.5147\n",
      "Epoch 18/100\n",
      "28/28 [==============================] - ETA: 0s - loss: 59.6113 - mean_absolute_error: 59.611 - ETA: 0s - loss: 68.0679 - mean_absolute_error: 68.067 - ETA: 0s - loss: 65.9129 - mean_absolute_error: 65.912 - ETA: 0s - loss: nan - mean_absolute_error: nan        - ETA: 0s - loss: nan - mean_absolute_error: na - ETA: 0s - loss: nan - mean_absolute_error: na - ETA: 0s - loss: nan - mean_absolute_error: na - 0s 15ms/step - loss: nan - mean_absolute_error: nan - val_loss: 64.9853 - val_mean_absolute_error: 64.9853\n",
      "Epoch 19/100\n",
      "28/28 [==============================] - ETA: 0s - loss: 63.7348 - mean_absolute_error: 63.734 - ETA: 0s - loss: 71.6381 - mean_absolute_error: 71.638 - ETA: 0s - loss: 70.3769 - mean_absolute_error: 70.376 - ETA: 0s - loss: 68.5490 - mean_absolute_error: 68.549 - ETA: 0s - loss: 69.1919 - mean_absolute_error: 69.191 - ETA: 0s - loss: 67.7068 - mean_absolute_error: 67.706 - 0s 14ms/step - loss: nan - mean_absolute_error: nan - val_loss: 64.4570 - val_mean_absolute_error: 64.4570\n",
      "Epoch 20/100\n",
      "28/28 [==============================] - ETA: 0s - loss: 68.6704 - mean_absolute_error: 68.670 - ETA: 0s - loss: 61.2288 - mean_absolute_error: 61.228 - ETA: 0s - loss: 61.4065 - mean_absolute_error: 61.406 - ETA: 0s - loss: 63.5676 - mean_absolute_error: 63.567 - ETA: 0s - loss: 64.6619 - mean_absolute_error: 64.661 - ETA: 0s - loss: nan - mean_absolute_error: nan        - ETA: 0s - loss: nan - mean_absolute_error: na - 0s 17ms/step - loss: nan - mean_absolute_error: nan - val_loss: 63.5083 - val_mean_absolute_error: 63.5083\n",
      "Epoch 21/100\n",
      "28/28 [==============================] - ETA: 0s - loss: 60.0820 - mean_absolute_error: 60.082 - ETA: 0s - loss: 62.5184 - mean_absolute_error: 62.518 - ETA: 0s - loss: 63.7913 - mean_absolute_error: 63.791 - ETA: 0s - loss: 65.9897 - mean_absolute_error: 65.989 - ETA: 0s - loss: 66.9536 - mean_absolute_error: 66.953 - ETA: 0s - loss: 67.0681 - mean_absolute_error: 67.068 - ETA: 0s - loss: 67.0949 - mean_absolute_error: 67.094 - ETA: 0s - loss: nan - mean_absolute_error: nan        - 1s 18ms/step - loss: nan - mean_absolute_error: nan - val_loss: 64.1713 - val_mean_absolute_error: 64.1713\n",
      "Epoch 22/100\n",
      "28/28 [==============================] - ETA: 0s - loss: 72.8037 - mean_absolute_error: 72.803 - ETA: 0s - loss: 62.8192 - mean_absolute_error: 62.819 - ETA: 0s - loss: nan - mean_absolute_error: nan        - ETA: 0s - loss: nan - mean_absolute_error: na - ETA: 0s - loss: nan - mean_absolute_error: na - ETA: 0s - loss: nan - mean_absolute_error: na - ETA: 0s - loss: nan - mean_absolute_error: na - 0s 17ms/step - loss: nan - mean_absolute_error: nan - val_loss: 64.1677 - val_mean_absolute_error: 64.1677\n",
      "Epoch 23/100\n",
      "28/28 [==============================] - ETA: 0s - loss: 49.2960 - mean_absolute_error: 49.296 - ETA: 0s - loss: 67.0728 - mean_absolute_error: 67.072 - ETA: 0s - loss: 67.9993 - mean_absolute_error: 67.999 - ETA: 0s - loss: 66.0884 - mean_absolute_error: 66.088 - ETA: 0s - loss: nan - mean_absolute_error: nan        - ETA: 0s - loss: nan - mean_absolute_error: na - ETA: 0s - loss: nan - mean_absolute_error: na - 0s 16ms/step - loss: nan - mean_absolute_error: nan - val_loss: 66.0999 - val_mean_absolute_error: 66.0999\n",
      "Epoch 24/100\n",
      "28/28 [==============================] - ETA: 0s - loss: 61.3226 - mean_absolute_error: 61.322 - ETA: 0s - loss: 59.0987 - mean_absolute_error: 59.098 - ETA: 0s - loss: 59.4828 - mean_absolute_error: 59.482 - ETA: 0s - loss: 61.4131 - mean_absolute_error: 61.413 - ETA: 0s - loss: 63.3825 - mean_absolute_error: 63.382 - ETA: 0s - loss: nan - mean_absolute_error: nan        - 0s 13ms/step - loss: nan - mean_absolute_error: nan - val_loss: 67.2767 - val_mean_absolute_error: 67.2767\n",
      "Epoch 25/100\n",
      "28/28 [==============================] - ETA: 0s - loss: 81.6132 - mean_absolute_error: 81.613 - ETA: 0s - loss: nan - mean_absolute_error: nan        - ETA: 0s - loss: nan - mean_absolute_error: na - ETA: 0s - loss: nan - mean_absolute_error: na - ETA: 0s - loss: nan - mean_absolute_error: na - ETA: 0s - loss: nan - mean_absolute_error: na - 0s 15ms/step - loss: nan - mean_absolute_error: nan - val_loss: 66.1774 - val_mean_absolute_error: 66.1774\n",
      "Epoch 26/100\n",
      "28/28 [==============================] - ETA: 0s - loss: 67.9643 - mean_absolute_error: 67.964 - ETA: 0s - loss: 67.9610 - mean_absolute_error: 67.961 - ETA: 0s - loss: 65.1673 - mean_absolute_error: 65.167 - ETA: 0s - loss: 67.1817 - mean_absolute_error: 67.181 - ETA: 0s - loss: 66.7407 - mean_absolute_error: 66.740 - ETA: 0s - loss: 66.2618 - mean_absolute_error: 66.261 - ETA: 0s - loss: 67.5515 - mean_absolute_error: 67.551 - ETA: 0s - loss: nan - mean_absolute_error: nan        - 1s 18ms/step - loss: nan - mean_absolute_error: nan - val_loss: 66.2231 - val_mean_absolute_error: 66.2231\n",
      "Epoch 27/100\n",
      "28/28 [==============================] - ETA: 0s - loss: 50.7587 - mean_absolute_error: 50.758 - ETA: 0s - loss: nan - mean_absolute_error: nan        - ETA: 0s - loss: nan - mean_absolute_error: na - ETA: 0s - loss: nan - mean_absolute_error: na - ETA: 0s - loss: nan - mean_absolute_error: na - ETA: 0s - loss: nan - mean_absolute_error: na - ETA: 0s - loss: nan - mean_absolute_error: na - ETA: 0s - loss: nan - mean_absolute_error: na - 0s 18ms/step - loss: nan - mean_absolute_error: nan - val_loss: 65.0197 - val_mean_absolute_error: 65.0197\n",
      "Epoch 28/100\n",
      "28/28 [==============================] - ETA: 0s - loss: 81.4313 - mean_absolute_error: 81.431 - ETA: 0s - loss: 74.1986 - mean_absolute_error: 74.198 - ETA: 0s - loss: nan - mean_absolute_error: nan        - ETA: 0s - loss: nan - mean_absolute_error: na - ETA: 0s - loss: nan - mean_absolute_error: na - ETA: 0s - loss: nan - mean_absolute_error: na - ETA: 0s - loss: nan - mean_absolute_error: na - 0s 15ms/step - loss: nan - mean_absolute_error: nan - val_loss: 65.9417 - val_mean_absolute_error: 65.9417\n",
      "Epoch 29/100\n",
      "28/28 [==============================] - ETA: 0s - loss: 71.2862 - mean_absolute_error: 71.286 - ETA: 0s - loss: 73.5255 - mean_absolute_error: 73.525 - ETA: 0s - loss: 71.9900 - mean_absolute_error: 71.990 - ETA: 0s - loss: 67.7146 - mean_absolute_error: 67.714 - ETA: 0s - loss: 66.6605 - mean_absolute_error: 66.660 - ETA: 0s - loss: nan - mean_absolute_error: nan        - 0s 13ms/step - loss: nan - mean_absolute_error: nan - val_loss: 63.6585 - val_mean_absolute_error: 63.6585\n",
      "Epoch 30/100\n"
     ]
    },
    {
     "name": "stdout",
     "output_type": "stream",
     "text": [
      "28/28 [==============================] - ETA: 0s - loss: 47.8795 - mean_absolute_error: 47.879 - ETA: 0s - loss: nan - mean_absolute_error: nan        - ETA: 0s - loss: nan - mean_absolute_error: na - ETA: 0s - loss: nan - mean_absolute_error: na - ETA: 0s - loss: nan - mean_absolute_error: na - ETA: 0s - loss: nan - mean_absolute_error: na - ETA: 0s - loss: nan - mean_absolute_error: na - 0s 17ms/step - loss: nan - mean_absolute_error: nan - val_loss: 63.7284 - val_mean_absolute_error: 63.7284\n",
      "Epoch 31/100\n",
      "28/28 [==============================] - ETA: 0s - loss: 64.0450 - mean_absolute_error: 64.045 - ETA: 0s - loss: 67.9985 - mean_absolute_error: 67.998 - ETA: 0s - loss: 65.6501 - mean_absolute_error: 65.650 - ETA: 0s - loss: 64.7501 - mean_absolute_error: 64.750 - ETA: 0s - loss: 64.1328 - mean_absolute_error: 64.132 - ETA: 0s - loss: 63.7522 - mean_absolute_error: 63.752 - ETA: 0s - loss: nan - mean_absolute_error: nan        - ETA: 0s - loss: nan - mean_absolute_error: na - 1s 18ms/step - loss: nan - mean_absolute_error: nan - val_loss: 64.9323 - val_mean_absolute_error: 64.9323\n",
      "Epoch 32/100\n",
      "28/28 [==============================] - ETA: 0s - loss: 57.8525 - mean_absolute_error: 57.852 - ETA: 0s - loss: 52.2902 - mean_absolute_error: 52.290 - ETA: 0s - loss: 59.8347 - mean_absolute_error: 59.834 - ETA: 0s - loss: nan - mean_absolute_error: nan        - ETA: 0s - loss: nan - mean_absolute_error: na - ETA: 0s - loss: nan - mean_absolute_error: na - ETA: 0s - loss: nan - mean_absolute_error: na - 0s 16ms/step - loss: nan - mean_absolute_error: nan - val_loss: 63.8718 - val_mean_absolute_error: 63.8718\n",
      "Epoch 33/100\n",
      "28/28 [==============================] - ETA: 0s - loss: 58.6961 - mean_absolute_error: 58.696 - ETA: 0s - loss: nan - mean_absolute_error: nan        - ETA: 0s - loss: nan - mean_absolute_error: na - ETA: 0s - loss: nan - mean_absolute_error: na - ETA: 0s - loss: nan - mean_absolute_error: na - ETA: 0s - loss: nan - mean_absolute_error: na - 0s 13ms/step - loss: nan - mean_absolute_error: nan - val_loss: 63.4107 - val_mean_absolute_error: 63.4107\n",
      "Epoch 34/100\n",
      "28/28 [==============================] - ETA: 0s - loss: 60.1044 - mean_absolute_error: 60.104 - ETA: 0s - loss: 58.2849 - mean_absolute_error: 58.284 - ETA: 0s - loss: 63.8217 - mean_absolute_error: 63.821 - ETA: 0s - loss: 65.6631 - mean_absolute_error: 65.663 - ETA: 0s - loss: 65.5998 - mean_absolute_error: 65.599 - ETA: 0s - loss: 66.1982 - mean_absolute_error: 66.198 - ETA: 0s - loss: nan - mean_absolute_error: nan        - ETA: 0s - loss: nan - mean_absolute_error: na - 1s 18ms/step - loss: nan - mean_absolute_error: nan - val_loss: 63.7230 - val_mean_absolute_error: 63.7230\n",
      "Epoch 35/100\n",
      "28/28 [==============================] - ETA: 0s - loss: nan - mean_absolute_error: na - ETA: 0s - loss: nan - mean_absolute_error: na - ETA: 0s - loss: nan - mean_absolute_error: na - ETA: 0s - loss: nan - mean_absolute_error: na - ETA: 0s - loss: nan - mean_absolute_error: na - ETA: 0s - loss: nan - mean_absolute_error: na - ETA: 0s - loss: nan - mean_absolute_error: na - ETA: 0s - loss: nan - mean_absolute_error: na - 0s 17ms/step - loss: nan - mean_absolute_error: nan - val_loss: 63.9504 - val_mean_absolute_error: 63.9504\n",
      "Epoch 36/100\n",
      "28/28 [==============================] - ETA: 0s - loss: 51.0202 - mean_absolute_error: 51.020 - ETA: 0s - loss: 65.0592 - mean_absolute_error: 65.059 - ETA: 0s - loss: 66.8959 - mean_absolute_error: 66.895 - ETA: 0s - loss: 67.8691 - mean_absolute_error: 67.869 - ETA: 0s - loss: nan - mean_absolute_error: nan        - ETA: 0s - loss: nan - mean_absolute_error: na - 0s 13ms/step - loss: nan - mean_absolute_error: nan - val_loss: 63.5939 - val_mean_absolute_error: 63.5939\n",
      "Epoch 37/100\n",
      "28/28 [==============================] - ETA: 0s - loss: 63.4079 - mean_absolute_error: 63.407 - ETA: 0s - loss: 66.2464 - mean_absolute_error: 66.246 - ETA: 0s - loss: 66.6455 - mean_absolute_error: 66.645 - ETA: 0s - loss: 65.6411 - mean_absolute_error: 65.641 - ETA: 0s - loss: 64.8419 - mean_absolute_error: 64.841 - ETA: 0s - loss: 65.6820 - mean_absolute_error: 65.682 - ETA: 0s - loss: nan - mean_absolute_error: nan        - ETA: 0s - loss: nan - mean_absolute_error: na - 0s 18ms/step - loss: nan - mean_absolute_error: nan - val_loss: 63.5869 - val_mean_absolute_error: 63.5869\n",
      "Epoch 38/100\n",
      "28/28 [==============================] - ETA: 0s - loss: 56.5535 - mean_absolute_error: 56.553 - ETA: 0s - loss: 62.9926 - mean_absolute_error: 62.992 - ETA: 0s - loss: 64.0082 - mean_absolute_error: 64.008 - ETA: 0s - loss: 64.6896 - mean_absolute_error: 64.689 - ETA: 0s - loss: 64.4719 - mean_absolute_error: 64.471 - ETA: 0s - loss: 67.4794 - mean_absolute_error: 67.479 - ETA: 0s - loss: 66.8631 - mean_absolute_error: 66.863 - ETA: 0s - loss: nan - mean_absolute_error: nan        - 0s 18ms/step - loss: nan - mean_absolute_error: nan - val_loss: 63.6124 - val_mean_absolute_error: 63.6124\n",
      "Epoch 39/100\n",
      "28/28 [==============================] - ETA: 0s - loss: 68.7383 - mean_absolute_error: 68.738 - ETA: 0s - loss: 58.7451 - mean_absolute_error: 58.745 - ETA: 0s - loss: nan - mean_absolute_error: nan        - ETA: 0s - loss: nan - mean_absolute_error: na - ETA: 0s - loss: nan - mean_absolute_error: na - ETA: 0s - loss: nan - mean_absolute_error: na - 0s 13ms/step - loss: nan - mean_absolute_error: nan - val_loss: 63.4131 - val_mean_absolute_error: 63.4131\n",
      "Epoch 40/100\n",
      "28/28 [==============================] - ETA: 0s - loss: 57.1964 - mean_absolute_error: 57.196 - ETA: 0s - loss: 61.8790 - mean_absolute_error: 61.879 - ETA: 0s - loss: nan - mean_absolute_error: nan        - ETA: 0s - loss: nan - mean_absolute_error: na - ETA: 0s - loss: nan - mean_absolute_error: na - ETA: 0s - loss: nan - mean_absolute_error: na - ETA: 0s - loss: nan - mean_absolute_error: na - 0s 17ms/step - loss: nan - mean_absolute_error: nan - val_loss: 63.5801 - val_mean_absolute_error: 63.5801\n",
      "Epoch 41/100\n",
      "28/28 [==============================] - ETA: 0s - loss: 70.6550 - mean_absolute_error: 70.655 - ETA: 0s - loss: 69.0068 - mean_absolute_error: 69.006 - ETA: 0s - loss: 65.6589 - mean_absolute_error: 65.658 - ETA: 0s - loss: 65.5126 - mean_absolute_error: 65.512 - ETA: 0s - loss: nan - mean_absolute_error: nan        - ETA: 0s - loss: nan - mean_absolute_error: na - ETA: 0s - loss: nan - mean_absolute_error: na - 0s 15ms/step - loss: nan - mean_absolute_error: nan - val_loss: 63.8221 - val_mean_absolute_error: 63.8221\n",
      "Epoch 42/100\n",
      "28/28 [==============================] - ETA: 0s - loss: 58.8962 - mean_absolute_error: 58.896 - ETA: 0s - loss: 62.3255 - mean_absolute_error: 62.325 - ETA: 0s - loss: nan - mean_absolute_error: nan        - ETA: 0s - loss: nan - mean_absolute_error: na - ETA: 0s - loss: nan - mean_absolute_error: na - ETA: 0s - loss: nan - mean_absolute_error: na - ETA: 0s - loss: nan - mean_absolute_error: na - ETA: 0s - loss: nan - mean_absolute_error: na - 0s 18ms/step - loss: nan - mean_absolute_error: nan - val_loss: 66.4955 - val_mean_absolute_error: 66.4955\n",
      "Epoch 43/100\n",
      "28/28 [==============================] - ETA: 0s - loss: 78.8857 - mean_absolute_error: 78.885 - ETA: 0s - loss: 69.3571 - mean_absolute_error: 69.357 - ETA: 0s - loss: 64.7506 - mean_absolute_error: 64.750 - ETA: 0s - loss: nan - mean_absolute_error: nan        - ETA: 0s - loss: nan - mean_absolute_error: na - ETA: 0s - loss: nan - mean_absolute_error: na - ETA: 0s - loss: nan - mean_absolute_error: na - 0s 15ms/step - loss: nan - mean_absolute_error: nan - val_loss: 64.4016 - val_mean_absolute_error: 64.4016\n",
      "Epoch 44/100\n",
      "28/28 [==============================] - ETA: 0s - loss: 64.8585 - mean_absolute_error: 64.858 - ETA: 0s - loss: 70.4611 - mean_absolute_error: 70.461 - ETA: 0s - loss: nan - mean_absolute_error: nan        - ETA: 0s - loss: nan - mean_absolute_error: na - ETA: 0s - loss: nan - mean_absolute_error: na - ETA: 0s - loss: nan - mean_absolute_error: na - ETA: 0s - loss: nan - mean_absolute_error: na - 0s 16ms/step - loss: nan - mean_absolute_error: nan - val_loss: 63.4530 - val_mean_absolute_error: 63.4530\n",
      "Epoch 45/100\n"
     ]
    },
    {
     "name": "stdout",
     "output_type": "stream",
     "text": [
      "28/28 [==============================] - ETA: 0s - loss: 72.9318 - mean_absolute_error: 72.931 - ETA: 0s - loss: 67.6433 - mean_absolute_error: 67.643 - ETA: 0s - loss: nan - mean_absolute_error: nan        - ETA: 0s - loss: nan - mean_absolute_error: na - ETA: 0s - loss: nan - mean_absolute_error: na - ETA: 0s - loss: nan - mean_absolute_error: na - ETA: 0s - loss: nan - mean_absolute_error: na - ETA: 0s - loss: nan - mean_absolute_error: na - 0s 17ms/step - loss: nan - mean_absolute_error: nan - val_loss: 63.6190 - val_mean_absolute_error: 63.6190\n",
      "Epoch 46/100\n",
      "28/28 [==============================] - ETA: 0s - loss: 69.2024 - mean_absolute_error: 69.202 - ETA: 0s - loss: 66.9060 - mean_absolute_error: 66.906 - ETA: 0s - loss: 68.7349 - mean_absolute_error: 68.734 - ETA: 0s - loss: 69.8049 - mean_absolute_error: 69.804 - ETA: 0s - loss: nan - mean_absolute_error: nan        - ETA: 0s - loss: nan - mean_absolute_error: na - ETA: 0s - loss: nan - mean_absolute_error: na - 0s 16ms/step - loss: nan - mean_absolute_error: nan - val_loss: 63.5723 - val_mean_absolute_error: 63.5723\n",
      "Epoch 47/100\n",
      "28/28 [==============================] - ETA: 0s - loss: 79.8500 - mean_absolute_error: 79.850 - ETA: 0s - loss: 67.1019 - mean_absolute_error: 67.101 - ETA: 0s - loss: 68.1845 - mean_absolute_error: 68.184 - ETA: 0s - loss: nan - mean_absolute_error: nan        - ETA: 0s - loss: nan - mean_absolute_error: na - ETA: 0s - loss: nan - mean_absolute_error: na - ETA: 0s - loss: nan - mean_absolute_error: na - 0s 16ms/step - loss: nan - mean_absolute_error: nan - val_loss: 63.5498 - val_mean_absolute_error: 63.5498\n",
      "Epoch 48/100\n",
      "28/28 [==============================] - ETA: 0s - loss: 77.2820 - mean_absolute_error: 77.282 - ETA: 0s - loss: 68.9430 - mean_absolute_error: 68.943 - ETA: 0s - loss: 65.7353 - mean_absolute_error: 65.735 - ETA: 0s - loss: nan - mean_absolute_error: nan        - ETA: 0s - loss: nan - mean_absolute_error: na - ETA: 0s - loss: nan - mean_absolute_error: na - ETA: 0s - loss: nan - mean_absolute_error: na - 0s 16ms/step - loss: nan - mean_absolute_error: nan - val_loss: 63.5352 - val_mean_absolute_error: 63.5352\n",
      "Epoch 49/100\n",
      "28/28 [==============================] - ETA: 0s - loss: 42.9805 - mean_absolute_error: 42.980 - ETA: 0s - loss: 56.8999 - mean_absolute_error: 56.899 - ETA: 0s - loss: nan - mean_absolute_error: nan        - ETA: 0s - loss: nan - mean_absolute_error: na - ETA: 0s - loss: nan - mean_absolute_error: na - ETA: 0s - loss: nan - mean_absolute_error: na - ETA: 0s - loss: nan - mean_absolute_error: na - ETA: 0s - loss: nan - mean_absolute_error: na - 0s 18ms/step - loss: nan - mean_absolute_error: nan - val_loss: 63.4126 - val_mean_absolute_error: 63.4126\n",
      "Epoch 50/100\n",
      "28/28 [==============================] - ETA: 0s - loss: 66.6556 - mean_absolute_error: 66.655 - ETA: 0s - loss: 69.5822 - mean_absolute_error: 69.582 - ETA: 0s - loss: 64.9279 - mean_absolute_error: 64.927 - ETA: 0s - loss: nan - mean_absolute_error: nan        - ETA: 0s - loss: nan - mean_absolute_error: na - ETA: 0s - loss: nan - mean_absolute_error: na - ETA: 0s - loss: nan - mean_absolute_error: na - 0s 17ms/step - loss: nan - mean_absolute_error: nan - val_loss: 63.7892 - val_mean_absolute_error: 63.7892\n",
      "Epoch 51/100\n",
      "28/28 [==============================] - ETA: 0s - loss: 72.2411 - mean_absolute_error: 72.241 - ETA: 0s - loss: 64.8377 - mean_absolute_error: 64.837 - ETA: 0s - loss: nan - mean_absolute_error: nan        - ETA: 0s - loss: nan - mean_absolute_error: na - ETA: 0s - loss: nan - mean_absolute_error: na - ETA: 0s - loss: nan - mean_absolute_error: na - ETA: 0s - loss: nan - mean_absolute_error: na - 0s 16ms/step - loss: nan - mean_absolute_error: nan - val_loss: 63.5088 - val_mean_absolute_error: 63.5088\n",
      "Epoch 52/100\n",
      "28/28 [==============================] - ETA: 0s - loss: 67.5240 - mean_absolute_error: 67.524 - ETA: 0s - loss: 68.4221 - mean_absolute_error: 68.422 - ETA: 0s - loss: 70.3144 - mean_absolute_error: 70.314 - ETA: 0s - loss: 68.0786 - mean_absolute_error: 68.078 - ETA: 0s - loss: 66.5761 - mean_absolute_error: 66.576 - ETA: 0s - loss: 67.5431 - mean_absolute_error: 67.543 - ETA: 0s - loss: nan - mean_absolute_error: nan        - 0s 15ms/step - loss: nan - mean_absolute_error: nan - val_loss: 64.0851 - val_mean_absolute_error: 64.0851\n",
      "Epoch 53/100\n",
      "28/28 [==============================] - ETA: 0s - loss: 79.6466 - mean_absolute_error: 79.646 - ETA: 0s - loss: nan - mean_absolute_error: nan        - ETA: 0s - loss: nan - mean_absolute_error: na - ETA: 0s - loss: nan - mean_absolute_error: na - ETA: 0s - loss: nan - mean_absolute_error: na - ETA: 0s - loss: nan - mean_absolute_error: na - ETA: 0s - loss: nan - mean_absolute_error: na - ETA: 0s - loss: nan - mean_absolute_error: na - 0s 17ms/step - loss: nan - mean_absolute_error: nan - val_loss: 63.4413 - val_mean_absolute_error: 63.4413\n",
      "Epoch 54/100\n",
      "28/28 [==============================] - ETA: 0s - loss: 67.7654 - mean_absolute_error: 67.765 - ETA: 0s - loss: 67.9709 - mean_absolute_error: 67.970 - ETA: 0s - loss: 70.1369 - mean_absolute_error: 70.136 - ETA: 0s - loss: 69.4835 - mean_absolute_error: 69.483 - ETA: 0s - loss: 67.8539 - mean_absolute_error: 67.853 - ETA: 0s - loss: 68.3279 - mean_absolute_error: 68.327 - ETA: 0s - loss: nan - mean_absolute_error: nan        - ETA: 0s - loss: nan - mean_absolute_error: na - ETA: 0s - loss: nan - mean_absolute_error: na - 1s 19ms/step - loss: nan - mean_absolute_error: nan - val_loss: 63.4891 - val_mean_absolute_error: 63.4891\n",
      "Epoch 55/100\n",
      "28/28 [==============================] - ETA: 0s - loss: 56.6920 - mean_absolute_error: 56.692 - ETA: 0s - loss: 60.4371 - mean_absolute_error: 60.437 - ETA: 0s - loss: 63.1302 - mean_absolute_error: 63.130 - ETA: 0s - loss: 65.9240 - mean_absolute_error: 65.924 - ETA: 0s - loss: 66.5464 - mean_absolute_error: 66.546 - ETA: 0s - loss: 66.9668 - mean_absolute_error: 66.966 - ETA: 0s - loss: nan - mean_absolute_error: nan        - 0s 15ms/step - loss: nan - mean_absolute_error: nan - val_loss: 63.7451 - val_mean_absolute_error: 63.7451\n",
      "Epoch 56/100\n",
      "28/28 [==============================] - ETA: 0s - loss: 81.7363 - mean_absolute_error: 81.736 - ETA: 0s - loss: nan - mean_absolute_error: nan        - ETA: 0s - loss: nan - mean_absolute_error: na - ETA: 0s - loss: nan - mean_absolute_error: na - ETA: 0s - loss: nan - mean_absolute_error: na - ETA: 0s - loss: nan - mean_absolute_error: na - ETA: 0s - loss: nan - mean_absolute_error: na - 0s 17ms/step - loss: nan - mean_absolute_error: nan - val_loss: 63.6562 - val_mean_absolute_error: 63.6562\n",
      "Epoch 57/100\n",
      "28/28 [==============================] - ETA: 0s - loss: 73.8550 - mean_absolute_error: 73.855 - ETA: 0s - loss: 73.0074 - mean_absolute_error: 73.007 - ETA: 0s - loss: 69.6785 - mean_absolute_error: 69.678 - ETA: 0s - loss: 69.7504 - mean_absolute_error: 69.750 - ETA: 0s - loss: 69.7726 - mean_absolute_error: 69.772 - ETA: 0s - loss: 67.5987 - mean_absolute_error: 67.598 - ETA: 0s - loss: nan - mean_absolute_error: nan        - ETA: 0s - loss: nan - mean_absolute_error: na - 0s 17ms/step - loss: nan - mean_absolute_error: nan - val_loss: 64.9974 - val_mean_absolute_error: 64.9974\n",
      "Epoch 58/100\n",
      "28/28 [==============================] - ETA: 0s - loss: 85.6618 - mean_absolute_error: 85.661 - ETA: 0s - loss: 71.9419 - mean_absolute_error: 71.941 - ETA: 0s - loss: 73.8544 - mean_absolute_error: 73.854 - ETA: 0s - loss: 73.8878 - mean_absolute_error: 73.887 - ETA: 0s - loss: nan - mean_absolute_error: nan        - ETA: 0s - loss: nan - mean_absolute_error: na - ETA: 0s - loss: nan - mean_absolute_error: na - 0s 16ms/step - loss: nan - mean_absolute_error: nan - val_loss: 63.4465 - val_mean_absolute_error: 63.4465\n",
      "Epoch 59/100\n",
      "28/28 [==============================] - ETA: 0s - loss: 53.5230 - mean_absolute_error: 53.523 - ETA: 0s - loss: 67.8523 - mean_absolute_error: 67.852 - ETA: 0s - loss: 65.8800 - mean_absolute_error: 65.880 - ETA: 0s - loss: 69.2499 - mean_absolute_error: 69.249 - ETA: 0s - loss: 68.9193 - mean_absolute_error: 68.919 - ETA: 0s - loss: 68.0112 - mean_absolute_error: 68.011 - ETA: 0s - loss: 67.9940 - mean_absolute_error: 67.994 - 0s 16ms/step - loss: nan - mean_absolute_error: nan - val_loss: 63.6800 - val_mean_absolute_error: 63.6800\n"
     ]
    },
    {
     "name": "stdout",
     "output_type": "stream",
     "text": [
      "Epoch 60/100\n",
      "28/28 [==============================] - ETA: 0s - loss: 68.8781 - mean_absolute_error: 68.878 - ETA: 0s - loss: 72.6053 - mean_absolute_error: 72.605 - ETA: 0s - loss: nan - mean_absolute_error: nan        - ETA: 0s - loss: nan - mean_absolute_error: na - ETA: 0s - loss: nan - mean_absolute_error: na - ETA: 0s - loss: nan - mean_absolute_error: na - ETA: 0s - loss: nan - mean_absolute_error: na - 0s 16ms/step - loss: nan - mean_absolute_error: nan - val_loss: 64.3647 - val_mean_absolute_error: 64.3647\n",
      "Epoch 61/100\n",
      "28/28 [==============================] - ETA: 0s - loss: 59.3936 - mean_absolute_error: 59.393 - ETA: 0s - loss: nan - mean_absolute_error: nan        - ETA: 0s - loss: nan - mean_absolute_error: na - ETA: 0s - loss: nan - mean_absolute_error: na - ETA: 0s - loss: nan - mean_absolute_error: na - ETA: 0s - loss: nan - mean_absolute_error: na - ETA: 0s - loss: nan - mean_absolute_error: na - 0s 16ms/step - loss: nan - mean_absolute_error: nan - val_loss: 63.9205 - val_mean_absolute_error: 63.9205\n",
      "Epoch 62/100\n",
      "28/28 [==============================] - ETA: 0s - loss: 63.1502 - mean_absolute_error: 63.150 - ETA: 0s - loss: 65.7656 - mean_absolute_error: 65.765 - ETA: 0s - loss: 66.3221 - mean_absolute_error: 66.322 - ETA: 0s - loss: 67.0350 - mean_absolute_error: 67.035 - ETA: 0s - loss: 65.7363 - mean_absolute_error: 65.736 - ETA: 0s - loss: 65.8624 - mean_absolute_error: 65.862 - ETA: 0s - loss: nan - mean_absolute_error: nan        - 0s 16ms/step - loss: nan - mean_absolute_error: nan - val_loss: 63.5002 - val_mean_absolute_error: 63.5002\n",
      "Epoch 63/100\n",
      "28/28 [==============================] - ETA: 0s - loss: 64.5132 - mean_absolute_error: 64.513 - ETA: 0s - loss: 69.3859 - mean_absolute_error: 69.385 - ETA: 0s - loss: 66.2514 - mean_absolute_error: 66.251 - ETA: 0s - loss: nan - mean_absolute_error: nan        - ETA: 0s - loss: nan - mean_absolute_error: na - ETA: 0s - loss: nan - mean_absolute_error: na - ETA: 0s - loss: nan - mean_absolute_error: na - ETA: 0s - loss: nan - mean_absolute_error: na - ETA: 0s - loss: nan - mean_absolute_error: na - 1s 20ms/step - loss: nan - mean_absolute_error: nan - val_loss: 63.6405 - val_mean_absolute_error: 63.6405\n",
      "Epoch 64/100\n",
      "28/28 [==============================] - ETA: 0s - loss: 63.4500 - mean_absolute_error: 63.450 - ETA: 0s - loss: nan - mean_absolute_error: nan        - ETA: 0s - loss: nan - mean_absolute_error: na - ETA: 0s - loss: nan - mean_absolute_error: na - ETA: 0s - loss: nan - mean_absolute_error: na - ETA: 0s - loss: nan - mean_absolute_error: na - ETA: 0s - loss: nan - mean_absolute_error: na - 0s 16ms/step - loss: nan - mean_absolute_error: nan - val_loss: 65.8358 - val_mean_absolute_error: 65.8358\n",
      "Epoch 65/100\n",
      "28/28 [==============================] - ETA: 0s - loss: 60.0372 - mean_absolute_error: 60.037 - ETA: 0s - loss: 64.4740 - mean_absolute_error: 64.474 - ETA: 0s - loss: 67.6261 - mean_absolute_error: 67.626 - ETA: 0s - loss: nan - mean_absolute_error: nan        - ETA: 0s - loss: nan - mean_absolute_error: na - ETA: 0s - loss: nan - mean_absolute_error: na - ETA: 0s - loss: nan - mean_absolute_error: na - 0s 15ms/step - loss: nan - mean_absolute_error: nan - val_loss: 63.4720 - val_mean_absolute_error: 63.4720\n",
      "Epoch 66/100\n",
      "28/28 [==============================] - ETA: 0s - loss: 74.2181 - mean_absolute_error: 74.218 - ETA: 0s - loss: 70.9323 - mean_absolute_error: 70.932 - ETA: 0s - loss: 70.5676 - mean_absolute_error: 70.567 - ETA: 0s - loss: 69.4865 - mean_absolute_error: 69.486 - ETA: 0s - loss: nan - mean_absolute_error: nan        - ETA: 0s - loss: nan - mean_absolute_error: na - ETA: 0s - loss: nan - mean_absolute_error: na - ETA: 0s - loss: nan - mean_absolute_error: na - 0s 17ms/step - loss: nan - mean_absolute_error: nan - val_loss: 64.2906 - val_mean_absolute_error: 64.2906\n",
      "Epoch 67/100\n",
      "28/28 [==============================] - ETA: 0s - loss: 70.6837 - mean_absolute_error: 70.683 - ETA: 0s - loss: nan - mean_absolute_error: nan        - ETA: 0s - loss: nan - mean_absolute_error: na - ETA: 0s - loss: nan - mean_absolute_error: na - ETA: 0s - loss: nan - mean_absolute_error: na - ETA: 0s - loss: nan - mean_absolute_error: na - ETA: 0s - loss: nan - mean_absolute_error: na - 0s 16ms/step - loss: nan - mean_absolute_error: nan - val_loss: 63.4732 - val_mean_absolute_error: 63.4732\n",
      "Epoch 68/100\n",
      "28/28 [==============================] - ETA: 0s - loss: 67.8690 - mean_absolute_error: 67.869 - ETA: 0s - loss: 62.8302 - mean_absolute_error: 62.830 - ETA: 0s - loss: 68.2565 - mean_absolute_error: 68.256 - ETA: 0s - loss: 65.1303 - mean_absolute_error: 65.130 - ETA: 0s - loss: 65.8450 - mean_absolute_error: 65.845 - ETA: 0s - loss: 66.8898 - mean_absolute_error: 66.889 - ETA: 0s - loss: nan - mean_absolute_error: nan        - 0s 15ms/step - loss: nan - mean_absolute_error: nan - val_loss: 65.2875 - val_mean_absolute_error: 65.2875\n",
      "Epoch 69/100\n",
      "28/28 [==============================] - ETA: 0s - loss: 72.7927 - mean_absolute_error: 72.792 - ETA: 0s - loss: nan - mean_absolute_error: nan        - ETA: 0s - loss: nan - mean_absolute_error: na - ETA: 0s - loss: nan - mean_absolute_error: na - ETA: 0s - loss: nan - mean_absolute_error: na - ETA: 0s - loss: nan - mean_absolute_error: na - ETA: 0s - loss: nan - mean_absolute_error: na - 0s 16ms/step - loss: nan - mean_absolute_error: nan - val_loss: 63.5003 - val_mean_absolute_error: 63.5003\n",
      "Epoch 70/100\n",
      "28/28 [==============================] - ETA: 0s - loss: 80.5684 - mean_absolute_error: 80.568 - ETA: 0s - loss: nan - mean_absolute_error: nan        - ETA: 0s - loss: nan - mean_absolute_error: na - ETA: 0s - loss: nan - mean_absolute_error: na - ETA: 0s - loss: nan - mean_absolute_error: na - ETA: 0s - loss: nan - mean_absolute_error: na - ETA: 0s - loss: nan - mean_absolute_error: na - 0s 16ms/step - loss: nan - mean_absolute_error: nan - val_loss: 64.5060 - val_mean_absolute_error: 64.5060\n",
      "Epoch 71/100\n",
      "28/28 [==============================] - ETA: 0s - loss: 54.1160 - mean_absolute_error: 54.116 - ETA: 0s - loss: 64.7095 - mean_absolute_error: 64.709 - ETA: 0s - loss: 66.4147 - mean_absolute_error: 66.414 - ETA: 0s - loss: 67.2773 - mean_absolute_error: 67.277 - ETA: 0s - loss: nan - mean_absolute_error: nan        - ETA: 0s - loss: nan - mean_absolute_error: na - ETA: 0s - loss: nan - mean_absolute_error: na - 0s 16ms/step - loss: nan - mean_absolute_error: nan - val_loss: 64.2602 - val_mean_absolute_error: 64.2602\n",
      "Epoch 72/100\n",
      "28/28 [==============================] - ETA: 0s - loss: 74.0895 - mean_absolute_error: 74.089 - ETA: 0s - loss: 69.1764 - mean_absolute_error: 69.176 - ETA: 0s - loss: nan - mean_absolute_error: nan        - ETA: 0s - loss: nan - mean_absolute_error: na - ETA: 0s - loss: nan - mean_absolute_error: na - ETA: 0s - loss: nan - mean_absolute_error: na - ETA: 0s - loss: nan - mean_absolute_error: na - 0s 15ms/step - loss: nan - mean_absolute_error: nan - val_loss: 63.4694 - val_mean_absolute_error: 63.4694\n",
      "Epoch 73/100\n",
      "28/28 [==============================] - ETA: 0s - loss: 66.1508 - mean_absolute_error: 66.150 - ETA: 0s - loss: 66.0880 - mean_absolute_error: 66.088 - ETA: 0s - loss: 63.7835 - mean_absolute_error: 63.783 - ETA: 0s - loss: nan - mean_absolute_error: nan        - ETA: 0s - loss: nan - mean_absolute_error: na - ETA: 0s - loss: nan - mean_absolute_error: na - ETA: 0s - loss: nan - mean_absolute_error: na - 0s 17ms/step - loss: nan - mean_absolute_error: nan - val_loss: 65.6257 - val_mean_absolute_error: 65.6257\n",
      "Epoch 74/100\n",
      "28/28 [==============================] - ETA: 0s - loss: 84.6983 - mean_absolute_error: 84.698 - ETA: 0s - loss: 68.1959 - mean_absolute_error: 68.195 - ETA: 0s - loss: 68.1040 - mean_absolute_error: 68.104 - ETA: 0s - loss: 65.7372 - mean_absolute_error: 65.737 - ETA: 0s - loss: 66.2031 - mean_absolute_error: 66.203 - ETA: 0s - loss: nan - mean_absolute_error: nan        - ETA: 0s - loss: nan - mean_absolute_error: na - ETA: 0s - loss: nan - mean_absolute_error: na - 0s 18ms/step - loss: nan - mean_absolute_error: nan - val_loss: 65.0192 - val_mean_absolute_error: 65.0192\n",
      "Epoch 75/100\n"
     ]
    },
    {
     "name": "stdout",
     "output_type": "stream",
     "text": [
      "28/28 [==============================] - ETA: 0s - loss: 50.4499 - mean_absolute_error: 50.449 - ETA: 0s - loss: 65.8302 - mean_absolute_error: 65.830 - ETA: 0s - loss: 64.8632 - mean_absolute_error: 64.863 - ETA: 0s - loss: nan - mean_absolute_error: nan        - ETA: 0s - loss: nan - mean_absolute_error: na - ETA: 0s - loss: nan - mean_absolute_error: na - ETA: 0s - loss: nan - mean_absolute_error: na - 0s 15ms/step - loss: nan - mean_absolute_error: nan - val_loss: 63.5248 - val_mean_absolute_error: 63.5248\n",
      "Epoch 76/100\n",
      "28/28 [==============================] - ETA: 0s - loss: 68.1641 - mean_absolute_error: 68.164 - ETA: 0s - loss: 66.6819 - mean_absolute_error: 66.681 - ETA: 0s - loss: 65.2192 - mean_absolute_error: 65.219 - ETA: 0s - loss: 65.0638 - mean_absolute_error: 65.063 - ETA: 0s - loss: 66.2361 - mean_absolute_error: 66.236 - ETA: 0s - loss: 66.1188 - mean_absolute_error: 66.118 - ETA: 0s - loss: 66.3609 - mean_absolute_error: 66.360 - 0s 16ms/step - loss: nan - mean_absolute_error: nan - val_loss: 63.7374 - val_mean_absolute_error: 63.7374\n",
      "Epoch 77/100\n",
      "28/28 [==============================] - ETA: 0s - loss: 68.8174 - mean_absolute_error: 68.817 - ETA: 0s - loss: 71.7919 - mean_absolute_error: 71.791 - ETA: 0s - loss: 69.9481 - mean_absolute_error: 69.948 - ETA: 0s - loss: 68.5785 - mean_absolute_error: 68.578 - ETA: 0s - loss: nan - mean_absolute_error: nan        - ETA: 0s - loss: nan - mean_absolute_error: na - ETA: 0s - loss: nan - mean_absolute_error: na - ETA: 0s - loss: nan - mean_absolute_error: na - 0s 17ms/step - loss: nan - mean_absolute_error: nan - val_loss: 63.7337 - val_mean_absolute_error: 63.7337\n",
      "Epoch 78/100\n",
      "28/28 [==============================] - ETA: 0s - loss: 79.6489 - mean_absolute_error: 79.648 - ETA: 0s - loss: 66.0846 - mean_absolute_error: 66.084 - ETA: 0s - loss: 62.9710 - mean_absolute_error: 62.971 - ETA: 0s - loss: 67.8014 - mean_absolute_error: 67.801 - ETA: 0s - loss: 67.2309 - mean_absolute_error: 67.230 - ETA: 0s - loss: nan - mean_absolute_error: nan        - ETA: 0s - loss: nan - mean_absolute_error: na - 0s 16ms/step - loss: nan - mean_absolute_error: nan - val_loss: 63.4161 - val_mean_absolute_error: 63.4161\n",
      "Epoch 79/100\n",
      "28/28 [==============================] - ETA: 0s - loss: 59.6106 - mean_absolute_error: 59.610 - ETA: 0s - loss: 63.3321 - mean_absolute_error: 63.332 - ETA: 0s - loss: nan - mean_absolute_error: nan        - ETA: 0s - loss: nan - mean_absolute_error: na - ETA: 0s - loss: nan - mean_absolute_error: na - ETA: 0s - loss: nan - mean_absolute_error: na - ETA: 0s - loss: nan - mean_absolute_error: na - 0s 15ms/step - loss: nan - mean_absolute_error: nan - val_loss: 63.6605 - val_mean_absolute_error: 63.6605\n",
      "Epoch 80/100\n",
      "28/28 [==============================] - ETA: 0s - loss: 59.8207 - mean_absolute_error: 59.820 - ETA: 0s - loss: 67.0040 - mean_absolute_error: 67.004 - ETA: 0s - loss: 67.2193 - mean_absolute_error: 67.219 - ETA: 0s - loss: 67.3468 - mean_absolute_error: 67.346 - ETA: 0s - loss: 67.0527 - mean_absolute_error: 67.052 - ETA: 0s - loss: nan - mean_absolute_error: nan        - ETA: 0s - loss: nan - mean_absolute_error: na - 0s 16ms/step - loss: nan - mean_absolute_error: nan - val_loss: 63.7410 - val_mean_absolute_error: 63.7410\n",
      "Epoch 81/100\n",
      "28/28 [==============================] - ETA: 0s - loss: 64.1399 - mean_absolute_error: 64.139 - ETA: 0s - loss: 65.9685 - mean_absolute_error: 65.968 - ETA: 0s - loss: nan - mean_absolute_error: nan        - ETA: 0s - loss: nan - mean_absolute_error: na - ETA: 0s - loss: nan - mean_absolute_error: na - ETA: 0s - loss: nan - mean_absolute_error: na - ETA: 0s - loss: nan - mean_absolute_error: na - 0s 16ms/step - loss: nan - mean_absolute_error: nan - val_loss: 63.9692 - val_mean_absolute_error: 63.9692\n",
      "Epoch 82/100\n",
      "28/28 [==============================] - ETA: 0s - loss: 63.7989 - mean_absolute_error: 63.798 - ETA: 0s - loss: 66.1479 - mean_absolute_error: 66.147 - ETA: 0s - loss: nan - mean_absolute_error: nan        - ETA: 0s - loss: nan - mean_absolute_error: na - ETA: 0s - loss: nan - mean_absolute_error: na - ETA: 0s - loss: nan - mean_absolute_error: na - ETA: 0s - loss: nan - mean_absolute_error: na - 1s 28ms/step - loss: nan - mean_absolute_error: nan - val_loss: 63.4068 - val_mean_absolute_error: 63.4068\n",
      "Epoch 83/100\n",
      "28/28 [==============================] - ETA: 0s - loss: 78.9919 - mean_absolute_error: 78.991 - ETA: 0s - loss: 72.9034 - mean_absolute_error: 72.903 - ETA: 0s - loss: 69.4896 - mean_absolute_error: 69.489 - ETA: 0s - loss: 69.8170 - mean_absolute_error: 69.817 - ETA: 0s - loss: nan - mean_absolute_error: nan        - ETA: 0s - loss: nan - mean_absolute_error: na - ETA: 0s - loss: nan - mean_absolute_error: na - ETA: 0s - loss: nan - mean_absolute_error: na - ETA: 0s - loss: nan - mean_absolute_error: na - 1s 20ms/step - loss: nan - mean_absolute_error: nan - val_loss: 63.5388 - val_mean_absolute_error: 63.5388\n",
      "Epoch 84/100\n",
      "28/28 [==============================] - ETA: 0s - loss: 71.5602 - mean_absolute_error: 71.560 - ETA: 0s - loss: 76.1966 - mean_absolute_error: 76.196 - ETA: 0s - loss: 71.0232 - mean_absolute_error: 71.023 - ETA: 0s - loss: 70.7659 - mean_absolute_error: 70.765 - ETA: 0s - loss: 70.9331 - mean_absolute_error: 70.933 - ETA: 0s - loss: nan - mean_absolute_error: nan        - ETA: 0s - loss: nan - mean_absolute_error: na - ETA: 0s - loss: nan - mean_absolute_error: na - ETA: 0s - loss: nan - mean_absolute_error: na - 1s 20ms/step - loss: nan - mean_absolute_error: nan - val_loss: 63.7351 - val_mean_absolute_error: 63.7351\n",
      "Epoch 85/100\n",
      "28/28 [==============================] - ETA: 0s - loss: 65.6946 - mean_absolute_error: 65.694 - ETA: 0s - loss: 63.9805 - mean_absolute_error: 63.980 - ETA: 0s - loss: 63.1290 - mean_absolute_error: 63.129 - ETA: 0s - loss: 63.4531 - mean_absolute_error: 63.453 - ETA: 0s - loss: 64.1728 - mean_absolute_error: 64.172 - ETA: 0s - loss: nan - mean_absolute_error: nan        - ETA: 0s - loss: nan - mean_absolute_error: na - ETA: 0s - loss: nan - mean_absolute_error: na - 1s 19ms/step - loss: nan - mean_absolute_error: nan - val_loss: 64.1873 - val_mean_absolute_error: 64.1873\n",
      "Epoch 86/100\n",
      "28/28 [==============================] - ETA: 0s - loss: 82.8939 - mean_absolute_error: 82.893 - ETA: 0s - loss: 65.2176 - mean_absolute_error: 65.217 - ETA: 0s - loss: 64.2753 - mean_absolute_error: 64.275 - ETA: 0s - loss: nan - mean_absolute_error: nan        - ETA: 0s - loss: nan - mean_absolute_error: na - ETA: 0s - loss: nan - mean_absolute_error: na - ETA: 0s - loss: nan - mean_absolute_error: na - ETA: 0s - loss: nan - mean_absolute_error: na - 0s 18ms/step - loss: nan - mean_absolute_error: nan - val_loss: 63.7252 - val_mean_absolute_error: 63.7252\n",
      "Epoch 87/100\n",
      "28/28 [==============================] - ETA: 0s - loss: 67.6625 - mean_absolute_error: 67.662 - ETA: 0s - loss: 71.2168 - mean_absolute_error: 71.216 - ETA: 0s - loss: 66.2886 - mean_absolute_error: 66.288 - ETA: 0s - loss: 67.3518 - mean_absolute_error: 67.351 - ETA: 0s - loss: 66.3768 - mean_absolute_error: 66.376 - ETA: 0s - loss: 66.8103 - mean_absolute_error: 66.810 - ETA: 0s - loss: nan - mean_absolute_error: nan        - 1s 18ms/step - loss: nan - mean_absolute_error: nan - val_loss: 63.6037 - val_mean_absolute_error: 63.6037\n",
      "Epoch 88/100\n",
      "28/28 [==============================] - ETA: 0s - loss: 65.1713 - mean_absolute_error: 65.171 - ETA: 0s - loss: 64.4580 - mean_absolute_error: 64.458 - ETA: 0s - loss: 63.8786 - mean_absolute_error: 63.878 - ETA: 0s - loss: 66.4106 - mean_absolute_error: 66.410 - ETA: 0s - loss: 67.9598 - mean_absolute_error: 67.959 - ETA: 0s - loss: nan - mean_absolute_error: nan        - ETA: 0s - loss: nan - mean_absolute_error: na - 0s 16ms/step - loss: nan - mean_absolute_error: nan - val_loss: 63.4982 - val_mean_absolute_error: 63.4982\n",
      "Epoch 89/100\n"
     ]
    },
    {
     "name": "stdout",
     "output_type": "stream",
     "text": [
      "28/28 [==============================] - ETA: 0s - loss: 76.4820 - mean_absolute_error: 76.482 - ETA: 0s - loss: 64.8584 - mean_absolute_error: 64.858 - ETA: 0s - loss: 64.6205 - mean_absolute_error: 64.620 - ETA: 0s - loss: nan - mean_absolute_error: nan        - ETA: 0s - loss: nan - mean_absolute_error: na - ETA: 0s - loss: nan - mean_absolute_error: na - 0s 14ms/step - loss: nan - mean_absolute_error: nan - val_loss: 63.7256 - val_mean_absolute_error: 63.7256\n",
      "Epoch 90/100\n",
      "28/28 [==============================] - ETA: 0s - loss: 62.5657 - mean_absolute_error: 62.565 - ETA: 0s - loss: 65.1309 - mean_absolute_error: 65.130 - ETA: 0s - loss: nan - mean_absolute_error: nan        - ETA: 0s - loss: nan - mean_absolute_error: na - ETA: 0s - loss: nan - mean_absolute_error: na - ETA: 0s - loss: nan - mean_absolute_error: na - 0s 13ms/step - loss: nan - mean_absolute_error: nan - val_loss: 64.0434 - val_mean_absolute_error: 64.0434\n",
      "Epoch 91/100\n",
      "28/28 [==============================] - ETA: 0s - loss: 72.4200 - mean_absolute_error: 72.420 - ETA: 0s - loss: 67.5071 - mean_absolute_error: 67.507 - ETA: 0s - loss: nan - mean_absolute_error: nan        - ETA: 0s - loss: nan - mean_absolute_error: na - ETA: 0s - loss: nan - mean_absolute_error: na - ETA: 0s - loss: nan - mean_absolute_error: na - ETA: 0s - loss: nan - mean_absolute_error: na - 0s 16ms/step - loss: nan - mean_absolute_error: nan - val_loss: 63.4480 - val_mean_absolute_error: 63.4480\n",
      "Epoch 92/100\n",
      "28/28 [==============================] - ETA: 0s - loss: 69.1650 - mean_absolute_error: 69.165 - ETA: 0s - loss: 69.1472 - mean_absolute_error: 69.147 - ETA: 0s - loss: 66.3534 - mean_absolute_error: 66.353 - ETA: 0s - loss: 66.9736 - mean_absolute_error: 66.973 - ETA: 0s - loss: 66.4516 - mean_absolute_error: 66.451 - ETA: 0s - loss: nan - mean_absolute_error: nan        - ETA: 0s - loss: nan - mean_absolute_error: na - ETA: 0s - loss: nan - mean_absolute_error: na - 1s 18ms/step - loss: nan - mean_absolute_error: nan - val_loss: 63.6678 - val_mean_absolute_error: 63.6678\n",
      "Epoch 93/100\n",
      "28/28 [==============================] - ETA: 0s - loss: 76.6866 - mean_absolute_error: 76.686 - ETA: 0s - loss: nan - mean_absolute_error: nan        - ETA: 0s - loss: nan - mean_absolute_error: na - ETA: 0s - loss: nan - mean_absolute_error: na - ETA: 0s - loss: nan - mean_absolute_error: na - ETA: 0s - loss: nan - mean_absolute_error: na - ETA: 0s - loss: nan - mean_absolute_error: na - ETA: 0s - loss: nan - mean_absolute_error: na - 0s 18ms/step - loss: nan - mean_absolute_error: nan - val_loss: 64.6100 - val_mean_absolute_error: 64.6100\n",
      "Epoch 94/100\n",
      "28/28 [==============================] - ETA: 0s - loss: 53.6303 - mean_absolute_error: 53.630 - ETA: 0s - loss: 67.7596 - mean_absolute_error: 67.759 - ETA: 0s - loss: 63.8045 - mean_absolute_error: 63.804 - ETA: 0s - loss: 65.0710 - mean_absolute_error: 65.071 - ETA: 0s - loss: nan - mean_absolute_error: nan        - ETA: 0s - loss: nan - mean_absolute_error: na - ETA: 0s - loss: nan - mean_absolute_error: na - 0s 15ms/step - loss: nan - mean_absolute_error: nan - val_loss: 64.6061 - val_mean_absolute_error: 64.6061\n",
      "Epoch 95/100\n",
      "28/28 [==============================] - ETA: 0s - loss: 74.9832 - mean_absolute_error: 74.983 - ETA: 0s - loss: 63.1471 - mean_absolute_error: 63.147 - ETA: 0s - loss: 66.0785 - mean_absolute_error: 66.078 - ETA: 0s - loss: 68.8598 - mean_absolute_error: 68.859 - ETA: 0s - loss: nan - mean_absolute_error: nan        - ETA: 0s - loss: nan - mean_absolute_error: na - 0s 14ms/step - loss: nan - mean_absolute_error: nan - val_loss: 63.4086 - val_mean_absolute_error: 63.4086\n",
      "Epoch 96/100\n",
      "28/28 [==============================] - ETA: 0s - loss: 50.0848 - mean_absolute_error: 50.084 - ETA: 0s - loss: 67.2674 - mean_absolute_error: 67.267 - ETA: 0s - loss: nan - mean_absolute_error: nan        - ETA: 0s - loss: nan - mean_absolute_error: na - ETA: 0s - loss: nan - mean_absolute_error: na - ETA: 0s - loss: nan - mean_absolute_error: na - ETA: 0s - loss: nan - mean_absolute_error: na - ETA: 0s - loss: nan - mean_absolute_error: na - 0s 17ms/step - loss: nan - mean_absolute_error: nan - val_loss: 64.5100 - val_mean_absolute_error: 64.5100\n",
      "Epoch 97/100\n",
      "28/28 [==============================] - ETA: 0s - loss: 65.3491 - mean_absolute_error: 65.349 - ETA: 0s - loss: 72.9334 - mean_absolute_error: 72.933 - ETA: 0s - loss: 68.5701 - mean_absolute_error: 68.570 - ETA: 0s - loss: 67.9527 - mean_absolute_error: 67.952 - ETA: 0s - loss: 67.8840 - mean_absolute_error: 67.884 - ETA: 0s - loss: 67.6788 - mean_absolute_error: 67.678 - ETA: 0s - loss: nan - mean_absolute_error: nan        - 0s 17ms/step - loss: nan - mean_absolute_error: nan - val_loss: 65.4618 - val_mean_absolute_error: 65.4618\n",
      "Epoch 98/100\n",
      "28/28 [==============================] - ETA: 0s - loss: 61.1103 - mean_absolute_error: 61.110 - ETA: 0s - loss: 68.9785 - mean_absolute_error: 68.978 - ETA: 0s - loss: nan - mean_absolute_error: nan        - ETA: 0s - loss: nan - mean_absolute_error: na - ETA: 0s - loss: nan - mean_absolute_error: na - ETA: 0s - loss: nan - mean_absolute_error: na - ETA: 0s - loss: nan - mean_absolute_error: na - ETA: 0s - loss: nan - mean_absolute_error: na - 0s 17ms/step - loss: nan - mean_absolute_error: nan - val_loss: 63.4377 - val_mean_absolute_error: 63.4377\n",
      "Epoch 99/100\n",
      "28/28 [==============================] - ETA: 0s - loss: 58.4703 - mean_absolute_error: 58.470 - ETA: 0s - loss: 68.5980 - mean_absolute_error: 68.598 - ETA: 0s - loss: 69.6702 - mean_absolute_error: 69.670 - ETA: 0s - loss: nan - mean_absolute_error: nan        - ETA: 0s - loss: nan - mean_absolute_error: na - ETA: 0s - loss: nan - mean_absolute_error: na - 0s 13ms/step - loss: nan - mean_absolute_error: nan - val_loss: 63.8531 - val_mean_absolute_error: 63.8531\n",
      "Epoch 100/100\n",
      "28/28 [==============================] - ETA: 0s - loss: 63.2638 - mean_absolute_error: 63.263 - ETA: 0s - loss: 66.6305 - mean_absolute_error: 66.630 - ETA: 0s - loss: nan - mean_absolute_error: nan        - ETA: 0s - loss: nan - mean_absolute_error: na - ETA: 0s - loss: nan - mean_absolute_error: na - ETA: 0s - loss: nan - mean_absolute_error: na - ETA: 0s - loss: nan - mean_absolute_error: na - 0s 16ms/step - loss: nan - mean_absolute_error: nan - val_loss: 64.0266 - val_mean_absolute_error: 64.0266\n",
      "Epoch 1/100\n",
      "28/28 [==============================] - ETA: 0s - loss: 127.2990 - mean_absolute_error: 127.299 - ETA: 0s - loss: 2410.1006 - mean_absolute_error: 2410.100 - ETA: 0s - loss: nan - mean_absolute_error: nan            - ETA: 0s - loss: nan - mean_absolute_error: na - ETA: 0s - loss: nan - mean_absolute_error: na - ETA: 0s - loss: nan - mean_absolute_error: na - ETA: 0s - loss: nan - mean_absolute_error: na - ETA: 0s - loss: nan - mean_absolute_error: na - 1s 27ms/step - loss: nan - mean_absolute_error: nan - val_loss: 63.6809 - val_mean_absolute_error: 63.6809\n",
      "Epoch 2/100\n",
      "28/28 [==============================] - ETA: 0s - loss: 75.7595 - mean_absolute_error: 75.759 - ETA: 0s - loss: 68.8912 - mean_absolute_error: 68.891 - ETA: 0s - loss: 67.3689 - mean_absolute_error: 67.368 - ETA: 0s - loss: 66.7955 - mean_absolute_error: 66.795 - ETA: 0s - loss: nan - mean_absolute_error: nan        - ETA: 0s - loss: nan - mean_absolute_error: na - ETA: 0s - loss: nan - mean_absolute_error: na - ETA: 0s - loss: nan - mean_absolute_error: na - 0s 17ms/step - loss: nan - mean_absolute_error: nan - val_loss: 66.1286 - val_mean_absolute_error: 66.1286\n",
      "Epoch 3/100\n",
      "28/28 [==============================] - ETA: 0s - loss: 66.2800 - mean_absolute_error: 66.280 - ETA: 0s - loss: 74.6076 - mean_absolute_error: 74.607 - ETA: 0s - loss: 71.9422 - mean_absolute_error: 71.942 - ETA: 0s - loss: 72.5515 - mean_absolute_error: 72.551 - ETA: 0s - loss: 70.8006 - mean_absolute_error: 70.800 - ETA: 0s - loss: 70.7046 - mean_absolute_error: 70.704 - ETA: 0s - loss: 68.6506 - mean_absolute_error: 68.650 - 0s 17ms/step - loss: nan - mean_absolute_error: nan - val_loss: 63.5859 - val_mean_absolute_error: 63.5859\n",
      "Epoch 4/100\n"
     ]
    },
    {
     "name": "stdout",
     "output_type": "stream",
     "text": [
      "28/28 [==============================] - ETA: 0s - loss: 62.1000 - mean_absolute_error: 62.100 - ETA: 0s - loss: 65.7813 - mean_absolute_error: 65.781 - ETA: 0s - loss: 65.7122 - mean_absolute_error: 65.712 - ETA: 0s - loss: nan - mean_absolute_error: nan        - ETA: 0s - loss: nan - mean_absolute_error: na - ETA: 0s - loss: nan - mean_absolute_error: na - ETA: 0s - loss: nan - mean_absolute_error: na - 0s 16ms/step - loss: nan - mean_absolute_error: nan - val_loss: 65.5832 - val_mean_absolute_error: 65.5832\n",
      "Epoch 5/100\n",
      "28/28 [==============================] - ETA: 0s - loss: 69.3173 - mean_absolute_error: 69.317 - ETA: 0s - loss: 67.5528 - mean_absolute_error: 67.552 - ETA: 0s - loss: nan - mean_absolute_error: nan        - ETA: 0s - loss: nan - mean_absolute_error: na - ETA: 0s - loss: nan - mean_absolute_error: na - ETA: 0s - loss: nan - mean_absolute_error: na - ETA: 0s - loss: nan - mean_absolute_error: na - 0s 17ms/step - loss: nan - mean_absolute_error: nan - val_loss: 63.7944 - val_mean_absolute_error: 63.7944\n",
      "Epoch 6/100\n",
      "28/28 [==============================] - ETA: 0s - loss: 56.7878 - mean_absolute_error: 56.787 - ETA: 0s - loss: 66.9646 - mean_absolute_error: 66.964 - ETA: 0s - loss: 70.8736 - mean_absolute_error: 70.873 - ETA: 0s - loss: 68.8571 - mean_absolute_error: 68.857 - ETA: 0s - loss: 67.3078 - mean_absolute_error: 67.307 - ETA: 0s - loss: 66.5357 - mean_absolute_error: 66.535 - ETA: 0s - loss: 67.9918 - mean_absolute_error: 67.991 - ETA: 0s - loss: nan - mean_absolute_error: nan        - ETA: 0s - loss: nan - mean_absolute_error: na - 1s 19ms/step - loss: nan - mean_absolute_error: nan - val_loss: 65.3599 - val_mean_absolute_error: 65.3599\n",
      "Epoch 7/100\n",
      "28/28 [==============================] - ETA: 0s - loss: 60.2400 - mean_absolute_error: 60.240 - ETA: 0s - loss: 59.4042 - mean_absolute_error: 59.404 - ETA: 0s - loss: 59.4318 - mean_absolute_error: 59.431 - ETA: 0s - loss: 66.7010 - mean_absolute_error: 66.701 - ETA: 0s - loss: 69.0303 - mean_absolute_error: 69.030 - ETA: 0s - loss: nan - mean_absolute_error: nan        - ETA: 0s - loss: nan - mean_absolute_error: na - ETA: 0s - loss: nan - mean_absolute_error: na - 1s 18ms/step - loss: nan - mean_absolute_error: nan - val_loss: 66.2692 - val_mean_absolute_error: 66.2692\n",
      "Epoch 8/100\n",
      "28/28 [==============================] - ETA: 0s - loss: 75.8483 - mean_absolute_error: 75.848 - ETA: 0s - loss: 69.3552 - mean_absolute_error: 69.355 - ETA: 0s - loss: 68.9154 - mean_absolute_error: 68.915 - ETA: 0s - loss: 69.6837 - mean_absolute_error: 69.683 - ETA: 0s - loss: 67.1830 - mean_absolute_error: 67.183 - ETA: 0s - loss: 68.4027 - mean_absolute_error: 68.402 - ETA: 0s - loss: 67.9786 - mean_absolute_error: 67.978 - ETA: 0s - loss: nan - mean_absolute_error: nan        - 0s 17ms/step - loss: nan - mean_absolute_error: nan - val_loss: 68.5743 - val_mean_absolute_error: 68.5743\n",
      "Epoch 9/100\n",
      "28/28 [==============================] - ETA: 0s - loss: 58.1382 - mean_absolute_error: 58.138 - ETA: 0s - loss: 59.7185 - mean_absolute_error: 59.718 - ETA: 0s - loss: 64.9541 - mean_absolute_error: 64.954 - ETA: 0s - loss: 67.6738 - mean_absolute_error: 67.673 - ETA: 0s - loss: 67.1553 - mean_absolute_error: 67.155 - ETA: 0s - loss: 67.6280 - mean_absolute_error: 67.628 - ETA: 0s - loss: 67.8956 - mean_absolute_error: 67.895 - ETA: 0s - loss: nan - mean_absolute_error: nan        - 0s 17ms/step - loss: nan - mean_absolute_error: nan - val_loss: 63.4181 - val_mean_absolute_error: 63.4181\n",
      "Epoch 10/100\n",
      "28/28 [==============================] - ETA: 0s - loss: 62.5414 - mean_absolute_error: 62.541 - ETA: 0s - loss: 68.5099 - mean_absolute_error: 68.509 - ETA: 0s - loss: 68.9080 - mean_absolute_error: 68.908 - ETA: 0s - loss: 68.6472 - mean_absolute_error: 68.647 - ETA: 0s - loss: 67.0934 - mean_absolute_error: 67.093 - ETA: 0s - loss: nan - mean_absolute_error: nan        - ETA: 0s - loss: nan - mean_absolute_error: na - 0s 17ms/step - loss: nan - mean_absolute_error: nan - val_loss: 64.4267 - val_mean_absolute_error: 64.4267\n",
      "Epoch 11/100\n",
      "28/28 [==============================] - ETA: 0s - loss: 76.2359 - mean_absolute_error: 76.235 - ETA: 0s - loss: 62.2605 - mean_absolute_error: 62.260 - ETA: 0s - loss: 63.2305 - mean_absolute_error: 63.230 - ETA: 0s - loss: 65.0429 - mean_absolute_error: 65.042 - ETA: 0s - loss: nan - mean_absolute_error: nan        - ETA: 0s - loss: nan - mean_absolute_error: na - ETA: 0s - loss: nan - mean_absolute_error: na - 0s 16ms/step - loss: nan - mean_absolute_error: nan - val_loss: 64.2142 - val_mean_absolute_error: 64.2142\n",
      "Epoch 12/100\n",
      "28/28 [==============================] - ETA: 0s - loss: 62.8863 - mean_absolute_error: 62.886 - ETA: 0s - loss: 70.1166 - mean_absolute_error: 70.116 - ETA: 0s - loss: 67.6231 - mean_absolute_error: 67.623 - ETA: 0s - loss: 66.7937 - mean_absolute_error: 66.793 - ETA: 0s - loss: nan - mean_absolute_error: nan        - ETA: 0s - loss: nan - mean_absolute_error: na - 0s 13ms/step - loss: nan - mean_absolute_error: nan - val_loss: 63.7074 - val_mean_absolute_error: 63.7074\n",
      "Epoch 13/100\n",
      "28/28 [==============================] - ETA: 0s - loss: 73.9897 - mean_absolute_error: 73.989 - ETA: 0s - loss: nan - mean_absolute_error: nan        - ETA: 0s - loss: nan - mean_absolute_error: na - ETA: 0s - loss: nan - mean_absolute_error: na - ETA: 0s - loss: nan - mean_absolute_error: na - ETA: 0s - loss: nan - mean_absolute_error: na - 0s 13ms/step - loss: nan - mean_absolute_error: nan - val_loss: 63.4124 - val_mean_absolute_error: 63.4124\n",
      "Epoch 14/100\n",
      "28/28 [==============================] - ETA: 0s - loss: 69.4330 - mean_absolute_error: 69.433 - ETA: 0s - loss: 64.0202 - mean_absolute_error: 64.020 - ETA: 0s - loss: 61.6588 - mean_absolute_error: 61.658 - ETA: 0s - loss: 66.7888 - mean_absolute_error: 66.788 - ETA: 0s - loss: nan - mean_absolute_error: nan        - ETA: 0s - loss: nan - mean_absolute_error: na - ETA: 0s - loss: nan - mean_absolute_error: na - 0s 16ms/step - loss: nan - mean_absolute_error: nan - val_loss: 64.2350 - val_mean_absolute_error: 64.2350\n",
      "Epoch 15/100\n",
      "28/28 [==============================] - ETA: 0s - loss: 62.6717 - mean_absolute_error: 62.671 - ETA: 0s - loss: 72.0329 - mean_absolute_error: 72.032 - ETA: 0s - loss: 71.2262 - mean_absolute_error: 71.226 - ETA: 0s - loss: 69.2620 - mean_absolute_error: 69.262 - ETA: 0s - loss: 67.0981 - mean_absolute_error: 67.098 - ETA: 0s - loss: 67.1846 - mean_absolute_error: 67.184 - ETA: 0s - loss: nan - mean_absolute_error: nan        - ETA: 0s - loss: nan - mean_absolute_error: na - 0s 18ms/step - loss: nan - mean_absolute_error: nan - val_loss: 64.6298 - val_mean_absolute_error: 64.6298\n",
      "Epoch 16/100\n",
      "28/28 [==============================] - ETA: 0s - loss: 66.9003 - mean_absolute_error: 66.900 - ETA: 0s - loss: 68.2761 - mean_absolute_error: 68.276 - ETA: 0s - loss: 69.4731 - mean_absolute_error: 69.473 - ETA: 0s - loss: 69.6457 - mean_absolute_error: 69.645 - ETA: 0s - loss: nan - mean_absolute_error: nan        - ETA: 0s - loss: nan - mean_absolute_error: na - ETA: 0s - loss: nan - mean_absolute_error: na - 0s 16ms/step - loss: nan - mean_absolute_error: nan - val_loss: 63.6662 - val_mean_absolute_error: 63.6662\n",
      "Epoch 17/100\n",
      "28/28 [==============================] - ETA: 0s - loss: 72.7243 - mean_absolute_error: 72.724 - ETA: 0s - loss: 68.3317 - mean_absolute_error: 68.331 - ETA: 0s - loss: 66.5292 - mean_absolute_error: 66.529 - ETA: 0s - loss: 69.8241 - mean_absolute_error: 69.824 - ETA: 0s - loss: 68.5185 - mean_absolute_error: 68.518 - ETA: 0s - loss: nan - mean_absolute_error: nan        - ETA: 0s - loss: nan - mean_absolute_error: na - 0s 17ms/step - loss: nan - mean_absolute_error: nan - val_loss: 63.9129 - val_mean_absolute_error: 63.9129\n",
      "Epoch 18/100\n",
      "28/28 [==============================] - ETA: 0s - loss: 67.7524 - mean_absolute_error: 67.752 - ETA: 0s - loss: 71.9576 - mean_absolute_error: 71.957 - ETA: 0s - loss: 69.5504 - mean_absolute_error: 69.550 - ETA: 0s - loss: 70.4433 - mean_absolute_error: 70.443 - ETA: 0s - loss: 69.0437 - mean_absolute_error: 69.043 - ETA: 0s - loss: nan - mean_absolute_error: nan        - 0s 13ms/step - loss: nan - mean_absolute_error: nan - val_loss: 63.4079 - val_mean_absolute_error: 63.4079\n"
     ]
    },
    {
     "name": "stdout",
     "output_type": "stream",
     "text": [
      "Epoch 19/100\n",
      "28/28 [==============================] - ETA: 0s - loss: 57.2491 - mean_absolute_error: 57.249 - ETA: 0s - loss: 62.1042 - mean_absolute_error: 62.104 - ETA: 0s - loss: 66.0721 - mean_absolute_error: 66.072 - ETA: 0s - loss: 65.5042 - mean_absolute_error: 65.504 - ETA: 0s - loss: 65.7388 - mean_absolute_error: 65.738 - ETA: 0s - loss: nan - mean_absolute_error: nan        - 0s 13ms/step - loss: nan - mean_absolute_error: nan - val_loss: 63.9699 - val_mean_absolute_error: 63.9699\n",
      "Epoch 20/100\n",
      "28/28 [==============================] - ETA: 0s - loss: 76.7944 - mean_absolute_error: 76.794 - ETA: 0s - loss: 61.7227 - mean_absolute_error: 61.722 - ETA: 0s - loss: 63.3727 - mean_absolute_error: 63.372 - ETA: 0s - loss: 67.1988 - mean_absolute_error: 67.198 - ETA: 0s - loss: 67.2591 - mean_absolute_error: 67.259 - ETA: 0s - loss: 66.9790 - mean_absolute_error: 66.979 - ETA: 0s - loss: 67.0920 - mean_absolute_error: 67.092 - ETA: 0s - loss: nan - mean_absolute_error: nan        - 0s 18ms/step - loss: nan - mean_absolute_error: nan - val_loss: 64.0692 - val_mean_absolute_error: 64.0692\n",
      "Epoch 21/100\n",
      "28/28 [==============================] - ETA: 0s - loss: nan - mean_absolute_error: na - ETA: 0s - loss: nan - mean_absolute_error: na - ETA: 0s - loss: nan - mean_absolute_error: na - ETA: 0s - loss: nan - mean_absolute_error: na - ETA: 0s - loss: nan - mean_absolute_error: na - ETA: 0s - loss: nan - mean_absolute_error: na - ETA: 0s - loss: nan - mean_absolute_error: na - 0s 17ms/step - loss: nan - mean_absolute_error: nan - val_loss: 63.8472 - val_mean_absolute_error: 63.8472\n",
      "Epoch 22/100\n",
      "28/28 [==============================] - ETA: 0s - loss: 71.4734 - mean_absolute_error: 71.473 - ETA: 0s - loss: 68.4416 - mean_absolute_error: 68.441 - ETA: 0s - loss: nan - mean_absolute_error: nan        - ETA: 0s - loss: nan - mean_absolute_error: na - ETA: 0s - loss: nan - mean_absolute_error: na - ETA: 0s - loss: nan - mean_absolute_error: na - ETA: 0s - loss: nan - mean_absolute_error: na - ETA: 0s - loss: nan - mean_absolute_error: na - 1s 18ms/step - loss: nan - mean_absolute_error: nan - val_loss: 65.7196 - val_mean_absolute_error: 65.7196\n",
      "Epoch 23/100\n",
      "28/28 [==============================] - ETA: 0s - loss: 60.2635 - mean_absolute_error: 60.263 - ETA: 0s - loss: nan - mean_absolute_error: nan        - ETA: 0s - loss: nan - mean_absolute_error: na - ETA: 0s - loss: nan - mean_absolute_error: na - ETA: 0s - loss: nan - mean_absolute_error: na - ETA: 0s - loss: nan - mean_absolute_error: na - 0s 13ms/step - loss: nan - mean_absolute_error: nan - val_loss: 63.4255 - val_mean_absolute_error: 63.4255\n",
      "Epoch 24/100\n",
      "28/28 [==============================] - ETA: 0s - loss: 60.5240 - mean_absolute_error: 60.524 - ETA: 0s - loss: 64.8790 - mean_absolute_error: 64.879 - ETA: 0s - loss: 64.8099 - mean_absolute_error: 64.809 - ETA: 0s - loss: 64.7857 - mean_absolute_error: 64.785 - ETA: 0s - loss: nan - mean_absolute_error: nan        - ETA: 0s - loss: nan - mean_absolute_error: na - 0s 14ms/step - loss: nan - mean_absolute_error: nan - val_loss: 65.5001 - val_mean_absolute_error: 65.5001\n",
      "Epoch 25/100\n",
      "28/28 [==============================] - ETA: 0s - loss: 69.3183 - mean_absolute_error: 69.318 - ETA: 0s - loss: 66.0580 - mean_absolute_error: 66.058 - ETA: 0s - loss: 69.6963 - mean_absolute_error: 69.696 - ETA: 0s - loss: nan - mean_absolute_error: nan        - ETA: 0s - loss: nan - mean_absolute_error: na - ETA: 0s - loss: nan - mean_absolute_error: na - ETA: 0s - loss: nan - mean_absolute_error: na - ETA: 0s - loss: nan - mean_absolute_error: na - 1s 18ms/step - loss: nan - mean_absolute_error: nan - val_loss: 63.9048 - val_mean_absolute_error: 63.9048\n",
      "Epoch 26/100\n",
      "28/28 [==============================] - ETA: 0s - loss: 64.3751 - mean_absolute_error: 64.375 - ETA: 0s - loss: 66.9904 - mean_absolute_error: 66.990 - ETA: 0s - loss: nan - mean_absolute_error: nan        - ETA: 0s - loss: nan - mean_absolute_error: na - ETA: 0s - loss: nan - mean_absolute_error: na - ETA: 0s - loss: nan - mean_absolute_error: na - ETA: 0s - loss: nan - mean_absolute_error: na - ETA: 0s - loss: nan - mean_absolute_error: na - ETA: 0s - loss: nan - mean_absolute_error: na - 1s 20ms/step - loss: nan - mean_absolute_error: nan - val_loss: 63.9198 - val_mean_absolute_error: 63.9198\n",
      "Epoch 27/100\n",
      "28/28 [==============================] - ETA: 0s - loss: 57.8867 - mean_absolute_error: 57.886 - ETA: 0s - loss: 60.7517 - mean_absolute_error: 60.751 - ETA: 0s - loss: 61.2547 - mean_absolute_error: 61.254 - ETA: 0s - loss: 63.2918 - mean_absolute_error: 63.291 - ETA: 0s - loss: 67.1635 - mean_absolute_error: 67.163 - ETA: 0s - loss: 66.2565 - mean_absolute_error: 66.256 - ETA: 0s - loss: nan - mean_absolute_error: nan        - 0s 14ms/step - loss: nan - mean_absolute_error: nan - val_loss: 63.4292 - val_mean_absolute_error: 63.4292\n",
      "Epoch 28/100\n",
      "28/28 [==============================] - ETA: 0s - loss: 68.1927 - mean_absolute_error: 68.192 - ETA: 0s - loss: nan - mean_absolute_error: nan        - ETA: 0s - loss: nan - mean_absolute_error: na - ETA: 0s - loss: nan - mean_absolute_error: na - ETA: 0s - loss: nan - mean_absolute_error: na - ETA: 0s - loss: nan - mean_absolute_error: na - ETA: 0s - loss: nan - mean_absolute_error: na - 0s 15ms/step - loss: nan - mean_absolute_error: nan - val_loss: 63.8105 - val_mean_absolute_error: 63.8105\n",
      "Epoch 29/100\n",
      "28/28 [==============================] - ETA: 0s - loss: 57.4640 - mean_absolute_error: 57.464 - ETA: 0s - loss: nan - mean_absolute_error: nan        - ETA: 0s - loss: nan - mean_absolute_error: na - ETA: 0s - loss: nan - mean_absolute_error: na - ETA: 0s - loss: nan - mean_absolute_error: na - ETA: 0s - loss: nan - mean_absolute_error: na - ETA: 0s - loss: nan - mean_absolute_error: na - ETA: 0s - loss: nan - mean_absolute_error: na - ETA: 0s - loss: nan - mean_absolute_error: na - 1s 19ms/step - loss: nan - mean_absolute_error: nan - val_loss: 64.0401 - val_mean_absolute_error: 64.0401\n",
      "Epoch 30/100\n",
      "28/28 [==============================] - ETA: 0s - loss: 51.2833 - mean_absolute_error: 51.283 - ETA: 0s - loss: nan - mean_absolute_error: nan        - ETA: 0s - loss: nan - mean_absolute_error: na - ETA: 0s - loss: nan - mean_absolute_error: na - ETA: 0s - loss: nan - mean_absolute_error: na - ETA: 0s - loss: nan - mean_absolute_error: na - ETA: 0s - loss: nan - mean_absolute_error: na - ETA: 0s - loss: nan - mean_absolute_error: na - ETA: 0s - loss: nan - mean_absolute_error: na - 1s 19ms/step - loss: nan - mean_absolute_error: nan - val_loss: 67.7542 - val_mean_absolute_error: 67.7542\n",
      "Epoch 31/100\n",
      "28/28 [==============================] - ETA: 0s - loss: 57.3584 - mean_absolute_error: 57.358 - ETA: 0s - loss: 66.4798 - mean_absolute_error: 66.479 - ETA: 0s - loss: 69.0304 - mean_absolute_error: 69.030 - ETA: 0s - loss: nan - mean_absolute_error: nan        - ETA: 0s - loss: nan - mean_absolute_error: na - ETA: 0s - loss: nan - mean_absolute_error: na - ETA: 0s - loss: nan - mean_absolute_error: na - 1s 31ms/step - loss: nan - mean_absolute_error: nan - val_loss: 63.4066 - val_mean_absolute_error: 63.4066\n",
      "Epoch 32/100\n",
      "28/28 [==============================] - ETA: 0s - loss: 78.4375 - mean_absolute_error: 78.437 - ETA: 0s - loss: 70.8596 - mean_absolute_error: 70.859 - ETA: 0s - loss: 71.3694 - mean_absolute_error: 71.369 - ETA: 0s - loss: 71.1646 - mean_absolute_error: 71.164 - ETA: 0s - loss: 69.8852 - mean_absolute_error: 69.885 - ETA: 0s - loss: 69.8725 - mean_absolute_error: 69.872 - ETA: 0s - loss: 68.8764 - mean_absolute_error: 68.876 - ETA: 0s - loss: 68.0182 - mean_absolute_error: 68.018 - ETA: 0s - loss: 68.2554 - mean_absolute_error: 68.255 - ETA: 0s - loss: nan - mean_absolute_error: nan        - 1s 22ms/step - loss: nan - mean_absolute_error: nan - val_loss: 63.5022 - val_mean_absolute_error: 63.5022\n",
      "Epoch 33/100\n"
     ]
    },
    {
     "name": "stdout",
     "output_type": "stream",
     "text": [
      "28/28 [==============================] - ETA: 0s - loss: 71.4141 - mean_absolute_error: 71.414 - ETA: 0s - loss: 71.7372 - mean_absolute_error: 71.737 - ETA: 0s - loss: 70.7384 - mean_absolute_error: 70.738 - ETA: 0s - loss: 71.5305 - mean_absolute_error: 71.530 - ETA: 0s - loss: 70.6346 - mean_absolute_error: 70.634 - ETA: 0s - loss: nan - mean_absolute_error: nan        - ETA: 0s - loss: nan - mean_absolute_error: na - ETA: 0s - loss: nan - mean_absolute_error: na - ETA: 0s - loss: nan - mean_absolute_error: na - 1s 21ms/step - loss: nan - mean_absolute_error: nan - val_loss: 64.1959 - val_mean_absolute_error: 64.1959\n",
      "Epoch 34/100\n",
      "28/28 [==============================] - ETA: 0s - loss: 71.8991 - mean_absolute_error: 71.899 - ETA: 0s - loss: 67.0239 - mean_absolute_error: 67.023 - ETA: 0s - loss: 69.7378 - mean_absolute_error: 69.737 - ETA: 0s - loss: 68.7092 - mean_absolute_error: 68.709 - ETA: 0s - loss: 67.5877 - mean_absolute_error: 67.587 - ETA: 0s - loss: nan - mean_absolute_error: nan        - ETA: 0s - loss: nan - mean_absolute_error: na - ETA: 0s - loss: nan - mean_absolute_error: na - 1s 18ms/step - loss: nan - mean_absolute_error: nan - val_loss: 63.7886 - val_mean_absolute_error: 63.7886\n",
      "Epoch 35/100\n",
      "28/28 [==============================] - ETA: 0s - loss: 68.7648 - mean_absolute_error: 68.764 - ETA: 0s - loss: 65.7438 - mean_absolute_error: 65.743 - ETA: 0s - loss: 64.9588 - mean_absolute_error: 64.958 - ETA: 0s - loss: 68.1072 - mean_absolute_error: 68.107 - ETA: 0s - loss: 66.6227 - mean_absolute_error: 66.622 - ETA: 0s - loss: 66.0733 - mean_absolute_error: 66.073 - ETA: 0s - loss: nan - mean_absolute_error: nan        - 0s 15ms/step - loss: nan - mean_absolute_error: nan - val_loss: 63.6712 - val_mean_absolute_error: 63.6712\n",
      "Epoch 36/100\n",
      "28/28 [==============================] - ETA: 0s - loss: 86.2295 - mean_absolute_error: 86.229 - ETA: 0s - loss: 75.1985 - mean_absolute_error: 75.198 - ETA: 0s - loss: 69.5650 - mean_absolute_error: 69.565 - ETA: 0s - loss: 68.3081 - mean_absolute_error: 68.308 - ETA: 0s - loss: 67.7046 - mean_absolute_error: 67.704 - ETA: 0s - loss: nan - mean_absolute_error: nan        - 0s 13ms/step - loss: nan - mean_absolute_error: nan - val_loss: 65.8194 - val_mean_absolute_error: 65.8194\n",
      "Epoch 37/100\n",
      "28/28 [==============================] - ETA: 0s - loss: 60.2885 - mean_absolute_error: 60.288 - ETA: 0s - loss: 72.1227 - mean_absolute_error: 72.122 - ETA: 0s - loss: 64.1856 - mean_absolute_error: 64.185 - ETA: 0s - loss: 65.0273 - mean_absolute_error: 65.027 - ETA: 0s - loss: 65.6758 - mean_absolute_error: 65.675 - ETA: 0s - loss: nan - mean_absolute_error: nan        - ETA: 0s - loss: nan - mean_absolute_error: na - 0s 14ms/step - loss: nan - mean_absolute_error: nan - val_loss: 67.2021 - val_mean_absolute_error: 67.2021\n",
      "Epoch 38/100\n",
      "28/28 [==============================] - ETA: 0s - loss: 62.2887 - mean_absolute_error: 62.288 - ETA: 0s - loss: nan - mean_absolute_error: nan        - ETA: 0s - loss: nan - mean_absolute_error: na - ETA: 0s - loss: nan - mean_absolute_error: na - ETA: 0s - loss: nan - mean_absolute_error: na - ETA: 0s - loss: nan - mean_absolute_error: na - 0s 15ms/step - loss: nan - mean_absolute_error: nan - val_loss: 63.4342 - val_mean_absolute_error: 63.4342\n",
      "Epoch 39/100\n",
      "28/28 [==============================] - ETA: 0s - loss: 78.3622 - mean_absolute_error: 78.362 - ETA: 0s - loss: nan - mean_absolute_error: nan        - ETA: 0s - loss: nan - mean_absolute_error: na - ETA: 0s - loss: nan - mean_absolute_error: na - ETA: 0s - loss: nan - mean_absolute_error: na - ETA: 0s - loss: nan - mean_absolute_error: na - ETA: 0s - loss: nan - mean_absolute_error: na - 0s 17ms/step - loss: nan - mean_absolute_error: nan - val_loss: 63.6916 - val_mean_absolute_error: 63.6916\n",
      "Epoch 40/100\n",
      "28/28 [==============================] - ETA: 0s - loss: 50.1408 - mean_absolute_error: 50.140 - ETA: 0s - loss: 64.0266 - mean_absolute_error: 64.026 - ETA: 0s - loss: nan - mean_absolute_error: nan        - ETA: 0s - loss: nan - mean_absolute_error: na - ETA: 0s - loss: nan - mean_absolute_error: na - ETA: 0s - loss: nan - mean_absolute_error: na - ETA: 0s - loss: nan - mean_absolute_error: na - ETA: 0s - loss: nan - mean_absolute_error: na - 0s 17ms/step - loss: nan - mean_absolute_error: nan - val_loss: 64.1082 - val_mean_absolute_error: 64.1082\n",
      "Epoch 41/100\n",
      "28/28 [==============================] - ETA: 0s - loss: 69.1379 - mean_absolute_error: 69.137 - ETA: 0s - loss: 63.1815 - mean_absolute_error: 63.181 - ETA: 0s - loss: 66.7117 - mean_absolute_error: 66.711 - ETA: 0s - loss: nan - mean_absolute_error: nan        - ETA: 0s - loss: nan - mean_absolute_error: na - ETA: 0s - loss: nan - mean_absolute_error: na - ETA: 0s - loss: nan - mean_absolute_error: na - ETA: 0s - loss: nan - mean_absolute_error: na - ETA: 0s - loss: nan - mean_absolute_error: na - ETA: 0s - loss: nan - mean_absolute_error: na - 1s 21ms/step - loss: nan - mean_absolute_error: nan - val_loss: 63.5772 - val_mean_absolute_error: 63.5772\n",
      "Epoch 42/100\n",
      "28/28 [==============================] - ETA: 0s - loss: 53.6777 - mean_absolute_error: 53.677 - ETA: 0s - loss: 68.4266 - mean_absolute_error: 68.426 - ETA: 0s - loss: nan - mean_absolute_error: nan        - ETA: 0s - loss: nan - mean_absolute_error: na - ETA: 0s - loss: nan - mean_absolute_error: na - ETA: 0s - loss: nan - mean_absolute_error: na - ETA: 0s - loss: nan - mean_absolute_error: na - 0s 15ms/step - loss: nan - mean_absolute_error: nan - val_loss: 66.2728 - val_mean_absolute_error: 66.2728\n",
      "Epoch 43/100\n",
      "28/28 [==============================] - ETA: 0s - loss: 65.3261 - mean_absolute_error: 65.326 - ETA: 0s - loss: 65.5394 - mean_absolute_error: 65.539 - ETA: 0s - loss: nan - mean_absolute_error: nan        - ETA: 0s - loss: nan - mean_absolute_error: na - ETA: 0s - loss: nan - mean_absolute_error: na - ETA: 0s - loss: nan - mean_absolute_error: na - 0s 14ms/step - loss: nan - mean_absolute_error: nan - val_loss: 63.5322 - val_mean_absolute_error: 63.5322\n",
      "Epoch 44/100\n",
      "28/28 [==============================] - ETA: 0s - loss: 57.4139 - mean_absolute_error: 57.413 - ETA: 0s - loss: nan - mean_absolute_error: nan        - ETA: 0s - loss: nan - mean_absolute_error: na - ETA: 0s - loss: nan - mean_absolute_error: na - ETA: 0s - loss: nan - mean_absolute_error: na - ETA: 0s - loss: nan - mean_absolute_error: na - ETA: 0s - loss: nan - mean_absolute_error: na - ETA: 0s - loss: nan - mean_absolute_error: na - 0s 17ms/step - loss: nan - mean_absolute_error: nan - val_loss: 63.7667 - val_mean_absolute_error: 63.7667\n",
      "Epoch 45/100\n",
      "28/28 [==============================] - ETA: 0s - loss: 73.8252 - mean_absolute_error: 73.825 - ETA: 0s - loss: 70.0781 - mean_absolute_error: 70.078 - ETA: 0s - loss: 65.6845 - mean_absolute_error: 65.684 - ETA: 0s - loss: 67.9954 - mean_absolute_error: 67.995 - ETA: 0s - loss: 66.9156 - mean_absolute_error: 66.915 - ETA: 0s - loss: 67.8095 - mean_absolute_error: 67.809 - ETA: 0s - loss: 67.1523 - mean_absolute_error: 67.152 - 0s 17ms/step - loss: nan - mean_absolute_error: nan - val_loss: 63.5753 - val_mean_absolute_error: 63.5753\n",
      "Epoch 46/100\n",
      "28/28 [==============================] - ETA: 0s - loss: 67.6168 - mean_absolute_error: 67.616 - ETA: 0s - loss: 67.2992 - mean_absolute_error: 67.299 - ETA: 0s - loss: 63.4894 - mean_absolute_error: 63.489 - ETA: 0s - loss: 67.2661 - mean_absolute_error: 67.266 - ETA: 0s - loss: 68.1661 - mean_absolute_error: 68.166 - ETA: 0s - loss: nan - mean_absolute_error: nan        - ETA: 0s - loss: nan - mean_absolute_error: na - ETA: 0s - loss: nan - mean_absolute_error: na - ETA: 0s - loss: nan - mean_absolute_error: na - 1s 20ms/step - loss: nan - mean_absolute_error: nan - val_loss: 63.5253 - val_mean_absolute_error: 63.5253\n",
      "Epoch 47/100\n"
     ]
    },
    {
     "name": "stdout",
     "output_type": "stream",
     "text": [
      "28/28 [==============================] - ETA: 0s - loss: 77.1665 - mean_absolute_error: 77.166 - ETA: 0s - loss: 63.0765 - mean_absolute_error: 63.076 - ETA: 0s - loss: 64.4422 - mean_absolute_error: 64.442 - ETA: 0s - loss: 66.0846 - mean_absolute_error: 66.084 - ETA: 0s - loss: 66.6644 - mean_absolute_error: 66.664 - ETA: 0s - loss: 67.9267 - mean_absolute_error: 67.926 - ETA: 0s - loss: nan - mean_absolute_error: nan        - ETA: 0s - loss: nan - mean_absolute_error: na - 0s 17ms/step - loss: nan - mean_absolute_error: nan - val_loss: 64.9274 - val_mean_absolute_error: 64.9274\n",
      "Epoch 48/100\n",
      "28/28 [==============================] - ETA: 0s - loss: 54.5841 - mean_absolute_error: 54.584 - ETA: 0s - loss: 63.0232 - mean_absolute_error: 63.023 - ETA: 0s - loss: 65.9734 - mean_absolute_error: 65.973 - ETA: 0s - loss: nan - mean_absolute_error: nan        - ETA: 0s - loss: nan - mean_absolute_error: na - ETA: 0s - loss: nan - mean_absolute_error: na - ETA: 0s - loss: nan - mean_absolute_error: na - ETA: 0s - loss: nan - mean_absolute_error: na - 0s 18ms/step - loss: nan - mean_absolute_error: nan - val_loss: 63.4093 - val_mean_absolute_error: 63.4093\n",
      "Epoch 49/100\n",
      "28/28 [==============================] - ETA: 0s - loss: 62.3773 - mean_absolute_error: 62.377 - ETA: 0s - loss: 73.4959 - mean_absolute_error: 73.495 - ETA: 0s - loss: 69.0622 - mean_absolute_error: 69.062 - ETA: 0s - loss: 70.2252 - mean_absolute_error: 70.225 - ETA: 0s - loss: nan - mean_absolute_error: nan        - ETA: 0s - loss: nan - mean_absolute_error: na - ETA: 0s - loss: nan - mean_absolute_error: na - 0s 16ms/step - loss: nan - mean_absolute_error: nan - val_loss: 63.7558 - val_mean_absolute_error: 63.7558\n",
      "Epoch 50/100\n",
      "28/28 [==============================] - ETA: 0s - loss: 57.3160 - mean_absolute_error: 57.316 - ETA: 0s - loss: 63.5882 - mean_absolute_error: 63.588 - ETA: 0s - loss: 66.5407 - mean_absolute_error: 66.540 - ETA: 0s - loss: nan - mean_absolute_error: nan        - ETA: 0s - loss: nan - mean_absolute_error: na - ETA: 0s - loss: nan - mean_absolute_error: na - ETA: 0s - loss: nan - mean_absolute_error: na - ETA: 0s - loss: nan - mean_absolute_error: na - 0s 18ms/step - loss: nan - mean_absolute_error: nan - val_loss: 64.4271 - val_mean_absolute_error: 64.4271\n",
      "Epoch 51/100\n",
      "28/28 [==============================] - ETA: 0s - loss: 60.6342 - mean_absolute_error: 60.634 - ETA: 0s - loss: nan - mean_absolute_error: nan        - ETA: 0s - loss: nan - mean_absolute_error: na - ETA: 0s - loss: nan - mean_absolute_error: na - ETA: 0s - loss: nan - mean_absolute_error: na - ETA: 0s - loss: nan - mean_absolute_error: na - ETA: 0s - loss: nan - mean_absolute_error: na - 0s 17ms/step - loss: nan - mean_absolute_error: nan - val_loss: 63.8974 - val_mean_absolute_error: 63.8974\n",
      "Epoch 52/100\n",
      "28/28 [==============================] - ETA: 0s - loss: 92.5134 - mean_absolute_error: 92.513 - ETA: 0s - loss: 72.2523 - mean_absolute_error: 72.252 - ETA: 0s - loss: 69.2421 - mean_absolute_error: 69.242 - ETA: 0s - loss: 67.0172 - mean_absolute_error: 67.017 - ETA: 0s - loss: nan - mean_absolute_error: nan        - ETA: 0s - loss: nan - mean_absolute_error: na - ETA: 0s - loss: nan - mean_absolute_error: na - 0s 15ms/step - loss: nan - mean_absolute_error: nan - val_loss: 66.7094 - val_mean_absolute_error: 66.7094\n",
      "Epoch 53/100\n",
      "28/28 [==============================] - ETA: 0s - loss: 78.6051 - mean_absolute_error: 78.605 - ETA: 0s - loss: 64.4029 - mean_absolute_error: 64.402 - ETA: 0s - loss: 66.4391 - mean_absolute_error: 66.439 - ETA: 0s - loss: 69.2594 - mean_absolute_error: 69.259 - ETA: 0s - loss: 67.5835 - mean_absolute_error: 67.583 - ETA: 0s - loss: nan - mean_absolute_error: nan        - 0s 14ms/step - loss: nan - mean_absolute_error: nan - val_loss: 63.4117 - val_mean_absolute_error: 63.4117\n",
      "Epoch 54/100\n",
      "28/28 [==============================] - ETA: 0s - loss: 62.4040 - mean_absolute_error: 62.404 - ETA: 0s - loss: nan - mean_absolute_error: nan        - ETA: 0s - loss: nan - mean_absolute_error: na - ETA: 0s - loss: nan - mean_absolute_error: na - ETA: 0s - loss: nan - mean_absolute_error: na - ETA: 0s - loss: nan - mean_absolute_error: na - ETA: 0s - loss: nan - mean_absolute_error: na - 0s 17ms/step - loss: nan - mean_absolute_error: nan - val_loss: 63.4216 - val_mean_absolute_error: 63.4216\n",
      "Epoch 55/100\n",
      "28/28 [==============================] - ETA: 0s - loss: 73.5696 - mean_absolute_error: 73.569 - ETA: 0s - loss: 60.5953 - mean_absolute_error: 60.595 - ETA: 0s - loss: 67.2610 - mean_absolute_error: 67.261 - ETA: 0s - loss: nan - mean_absolute_error: nan        - ETA: 0s - loss: nan - mean_absolute_error: na - ETA: 0s - loss: nan - mean_absolute_error: na - ETA: 0s - loss: nan - mean_absolute_error: na - ETA: 0s - loss: nan - mean_absolute_error: na - 0s 17ms/step - loss: nan - mean_absolute_error: nan - val_loss: 63.5112 - val_mean_absolute_error: 63.5112\n",
      "Epoch 56/100\n",
      "28/28 [==============================] - ETA: 0s - loss: 56.0752 - mean_absolute_error: 56.075 - ETA: 0s - loss: 61.6852 - mean_absolute_error: 61.685 - ETA: 0s - loss: 63.1305 - mean_absolute_error: 63.130 - ETA: 0s - loss: 65.7869 - mean_absolute_error: 65.786 - ETA: 0s - loss: 65.6357 - mean_absolute_error: 65.635 - ETA: 0s - loss: nan - mean_absolute_error: nan        - 0s 13ms/step - loss: nan - mean_absolute_error: nan - val_loss: 65.1550 - val_mean_absolute_error: 65.1550\n",
      "Epoch 57/100\n",
      "28/28 [==============================] - ETA: 0s - loss: 77.9128 - mean_absolute_error: 77.912 - ETA: 0s - loss: 63.3539 - mean_absolute_error: 63.353 - ETA: 0s - loss: 68.1345 - mean_absolute_error: 68.134 - ETA: 0s - loss: 67.0975 - mean_absolute_error: 67.097 - ETA: 0s - loss: 68.3134 - mean_absolute_error: 68.313 - ETA: 0s - loss: 66.8851 - mean_absolute_error: 66.885 - ETA: 0s - loss: 67.1085 - mean_absolute_error: 67.108 - ETA: 0s - loss: nan - mean_absolute_error: nan        - 0s 18ms/step - loss: nan - mean_absolute_error: nan - val_loss: 63.4433 - val_mean_absolute_error: 63.4433\n",
      "Epoch 58/100\n",
      "28/28 [==============================] - ETA: 0s - loss: 52.7788 - mean_absolute_error: 52.778 - ETA: 0s - loss: 67.0673 - mean_absolute_error: 67.067 - ETA: 0s - loss: 66.9514 - mean_absolute_error: 66.951 - ETA: 0s - loss: 66.4771 - mean_absolute_error: 66.477 - ETA: 0s - loss: 67.9804 - mean_absolute_error: 67.980 - ETA: 0s - loss: 67.5916 - mean_absolute_error: 67.591 - ETA: 0s - loss: nan - mean_absolute_error: nan        - 0s 17ms/step - loss: nan - mean_absolute_error: nan - val_loss: 63.5280 - val_mean_absolute_error: 63.5280\n",
      "Epoch 59/100\n",
      "28/28 [==============================] - ETA: 0s - loss: 59.7719 - mean_absolute_error: 59.771 - ETA: 0s - loss: 70.7473 - mean_absolute_error: 70.747 - ETA: 0s - loss: nan - mean_absolute_error: nan        - ETA: 0s - loss: nan - mean_absolute_error: na - ETA: 0s - loss: nan - mean_absolute_error: na - ETA: 0s - loss: nan - mean_absolute_error: na - 0s 13ms/step - loss: nan - mean_absolute_error: nan - val_loss: 63.9005 - val_mean_absolute_error: 63.9005\n",
      "Epoch 60/100\n",
      "28/28 [==============================] - ETA: 0s - loss: 77.0850 - mean_absolute_error: 77.085 - ETA: 0s - loss: 76.1456 - mean_absolute_error: 76.145 - ETA: 0s - loss: 67.2120 - mean_absolute_error: 67.212 - ETA: 0s - loss: 66.8320 - mean_absolute_error: 66.832 - ETA: 0s - loss: 66.2645 - mean_absolute_error: 66.264 - ETA: 0s - loss: nan - mean_absolute_error: nan        - ETA: 0s - loss: nan - mean_absolute_error: na - ETA: 0s - loss: nan - mean_absolute_error: na - 0s 17ms/step - loss: nan - mean_absolute_error: nan - val_loss: 63.4126 - val_mean_absolute_error: 63.4126\n",
      "Epoch 61/100\n",
      "28/28 [==============================] - ETA: 0s - loss: 75.7753 - mean_absolute_error: 75.775 - ETA: 0s - loss: 67.6075 - mean_absolute_error: 67.607 - ETA: 0s - loss: 66.2649 - mean_absolute_error: 66.264 - ETA: 0s - loss: nan - mean_absolute_error: nan        - ETA: 0s - loss: nan - mean_absolute_error: na - ETA: 0s - loss: nan - mean_absolute_error: na - ETA: 0s - loss: nan - mean_absolute_error: na - 0s 16ms/step - loss: nan - mean_absolute_error: nan - val_loss: 65.7102 - val_mean_absolute_error: 65.7102\n",
      "Epoch 62/100\n"
     ]
    },
    {
     "name": "stdout",
     "output_type": "stream",
     "text": [
      "28/28 [==============================] - ETA: 0s - loss: 86.2510 - mean_absolute_error: 86.251 - ETA: 0s - loss: 69.6383 - mean_absolute_error: 69.638 - ETA: 0s - loss: 68.6551 - mean_absolute_error: 68.655 - ETA: 0s - loss: 66.1638 - mean_absolute_error: 66.163 - ETA: 0s - loss: 66.2287 - mean_absolute_error: 66.228 - ETA: 0s - loss: nan - mean_absolute_error: nan        - ETA: 0s - loss: nan - mean_absolute_error: na - 0s 17ms/step - loss: nan - mean_absolute_error: nan - val_loss: 64.4877 - val_mean_absolute_error: 64.4877\n",
      "Epoch 63/100\n",
      "28/28 [==============================] - ETA: 0s - loss: 57.4177 - mean_absolute_error: 57.417 - ETA: 0s - loss: 62.8227 - mean_absolute_error: 62.822 - ETA: 0s - loss: nan - mean_absolute_error: nan        - ETA: 0s - loss: nan - mean_absolute_error: na - ETA: 0s - loss: nan - mean_absolute_error: na - ETA: 0s - loss: nan - mean_absolute_error: na - ETA: 0s - loss: nan - mean_absolute_error: na - ETA: 0s - loss: nan - mean_absolute_error: na - 0s 17ms/step - loss: nan - mean_absolute_error: nan - val_loss: 63.4162 - val_mean_absolute_error: 63.4162\n",
      "Epoch 64/100\n",
      "28/28 [==============================] - ETA: 0s - loss: 81.2299 - mean_absolute_error: 81.229 - ETA: 0s - loss: 70.2396 - mean_absolute_error: 70.239 - ETA: 0s - loss: 70.6212 - mean_absolute_error: 70.621 - ETA: 0s - loss: 68.8819 - mean_absolute_error: 68.881 - ETA: 0s - loss: 69.8934 - mean_absolute_error: 69.893 - ETA: 0s - loss: 68.3935 - mean_absolute_error: 68.393 - ETA: 0s - loss: nan - mean_absolute_error: nan        - ETA: 0s - loss: nan - mean_absolute_error: na - 0s 17ms/step - loss: nan - mean_absolute_error: nan - val_loss: 63.6619 - val_mean_absolute_error: 63.6619\n",
      "Epoch 65/100\n",
      "28/28 [==============================] - ETA: 0s - loss: 53.6232 - mean_absolute_error: 53.623 - ETA: 0s - loss: nan - mean_absolute_error: nan        - ETA: 0s - loss: nan - mean_absolute_error: na - ETA: 0s - loss: nan - mean_absolute_error: na - ETA: 0s - loss: nan - mean_absolute_error: na - ETA: 0s - loss: nan - mean_absolute_error: na - 0s 13ms/step - loss: nan - mean_absolute_error: nan - val_loss: 64.0012 - val_mean_absolute_error: 64.0012\n",
      "Epoch 66/100\n",
      "28/28 [==============================] - ETA: 0s - loss: 66.6148 - mean_absolute_error: 66.614 - ETA: 0s - loss: 62.3858 - mean_absolute_error: 62.385 - ETA: 0s - loss: 66.7321 - mean_absolute_error: 66.732 - ETA: 0s - loss: nan - mean_absolute_error: nan        - ETA: 0s - loss: nan - mean_absolute_error: na - ETA: 0s - loss: nan - mean_absolute_error: na - ETA: 0s - loss: nan - mean_absolute_error: na - 0s 15ms/step - loss: nan - mean_absolute_error: nan - val_loss: 63.4220 - val_mean_absolute_error: 63.4220\n",
      "Epoch 67/100\n",
      "28/28 [==============================] - ETA: 0s - loss: 53.5204 - mean_absolute_error: 53.520 - ETA: 0s - loss: 65.5490 - mean_absolute_error: 65.549 - ETA: 0s - loss: 62.3979 - mean_absolute_error: 62.397 - ETA: 0s - loss: 62.0668 - mean_absolute_error: 62.066 - ETA: 0s - loss: 65.0386 - mean_absolute_error: 65.038 - ETA: 0s - loss: 65.6125 - mean_absolute_error: 65.612 - ETA: 0s - loss: nan - mean_absolute_error: nan        - 0s 17ms/step - loss: nan - mean_absolute_error: nan - val_loss: 63.9288 - val_mean_absolute_error: 63.9288\n",
      "Epoch 68/100\n",
      "28/28 [==============================] - ETA: 0s - loss: 56.1350 - mean_absolute_error: 56.135 - ETA: 0s - loss: 54.6399 - mean_absolute_error: 54.639 - ETA: 0s - loss: 60.9104 - mean_absolute_error: 60.910 - ETA: 0s - loss: 68.2745 - mean_absolute_error: 68.274 - ETA: 0s - loss: 68.4167 - mean_absolute_error: 68.416 - ETA: 0s - loss: nan - mean_absolute_error: nan        - ETA: 0s - loss: nan - mean_absolute_error: na - ETA: 0s - loss: nan - mean_absolute_error: na - 1s 18ms/step - loss: nan - mean_absolute_error: nan - val_loss: 64.0730 - val_mean_absolute_error: 64.0730\n",
      "Epoch 69/100\n",
      "28/28 [==============================] - ETA: 0s - loss: 74.5946 - mean_absolute_error: 74.594 - ETA: 0s - loss: 71.8633 - mean_absolute_error: 71.863 - ETA: 0s - loss: 67.3975 - mean_absolute_error: 67.397 - ETA: 0s - loss: 68.4729 - mean_absolute_error: 68.472 - ETA: 0s - loss: nan - mean_absolute_error: nan        - ETA: 0s - loss: nan - mean_absolute_error: na - 0s 14ms/step - loss: nan - mean_absolute_error: nan - val_loss: 63.4105 - val_mean_absolute_error: 63.4105\n",
      "Epoch 70/100\n",
      "28/28 [==============================] - ETA: 0s - loss: 69.6098 - mean_absolute_error: 69.609 - ETA: 0s - loss: nan - mean_absolute_error: nan        - ETA: 0s - loss: nan - mean_absolute_error: na - ETA: 0s - loss: nan - mean_absolute_error: na - ETA: 0s - loss: nan - mean_absolute_error: na - ETA: 0s - loss: nan - mean_absolute_error: na - ETA: 0s - loss: nan - mean_absolute_error: na - ETA: 0s - loss: nan - mean_absolute_error: na - 0s 17ms/step - loss: nan - mean_absolute_error: nan - val_loss: 63.4099 - val_mean_absolute_error: 63.4099\n",
      "Epoch 71/100\n",
      "28/28 [==============================] - ETA: 0s - loss: 67.7606 - mean_absolute_error: 67.760 - ETA: 0s - loss: nan - mean_absolute_error: nan        - ETA: 0s - loss: nan - mean_absolute_error: na - ETA: 0s - loss: nan - mean_absolute_error: na - ETA: 0s - loss: nan - mean_absolute_error: na - ETA: 0s - loss: nan - mean_absolute_error: na - ETA: 0s - loss: nan - mean_absolute_error: na - ETA: 0s - loss: nan - mean_absolute_error: na - 1s 18ms/step - loss: nan - mean_absolute_error: nan - val_loss: 64.5378 - val_mean_absolute_error: 64.5378\n",
      "Epoch 72/100\n",
      "28/28 [==============================] - ETA: 0s - loss: 69.7515 - mean_absolute_error: 69.751 - ETA: 0s - loss: 68.2966 - mean_absolute_error: 68.296 - ETA: 0s - loss: 62.3671 - mean_absolute_error: 62.367 - ETA: 0s - loss: 64.6431 - mean_absolute_error: 64.643 - ETA: 0s - loss: 65.6166 - mean_absolute_error: 65.616 - ETA: 0s - loss: nan - mean_absolute_error: nan        - 0s 13ms/step - loss: nan - mean_absolute_error: nan - val_loss: 63.4147 - val_mean_absolute_error: 63.4147\n",
      "Epoch 73/100\n",
      "28/28 [==============================] - ETA: 0s - loss: 59.6612 - mean_absolute_error: 59.661 - ETA: 0s - loss: 64.0389 - mean_absolute_error: 64.038 - ETA: 0s - loss: 64.7861 - mean_absolute_error: 64.786 - ETA: 0s - loss: 67.2998 - mean_absolute_error: 67.299 - ETA: 0s - loss: 66.8063 - mean_absolute_error: 66.806 - ETA: 0s - loss: 67.6882 - mean_absolute_error: 67.688 - ETA: 0s - loss: nan - mean_absolute_error: nan        - ETA: 0s - loss: nan - mean_absolute_error: na - 0s 17ms/step - loss: nan - mean_absolute_error: nan - val_loss: 63.7513 - val_mean_absolute_error: 63.7513\n",
      "Epoch 74/100\n",
      "28/28 [==============================] - ETA: 0s - loss: 63.8124 - mean_absolute_error: 63.812 - ETA: 0s - loss: 62.9493 - mean_absolute_error: 62.949 - ETA: 0s - loss: nan - mean_absolute_error: nan        - ETA: 0s - loss: nan - mean_absolute_error: na - ETA: 0s - loss: nan - mean_absolute_error: na - ETA: 0s - loss: nan - mean_absolute_error: na - ETA: 0s - loss: nan - mean_absolute_error: na - 0s 16ms/step - loss: nan - mean_absolute_error: nan - val_loss: 63.8870 - val_mean_absolute_error: 63.8870\n",
      "Epoch 75/100\n",
      "28/28 [==============================] - ETA: 0s - loss: 62.1827 - mean_absolute_error: 62.182 - ETA: 0s - loss: 67.2757 - mean_absolute_error: 67.275 - ETA: 0s - loss: 66.4814 - mean_absolute_error: 66.481 - ETA: 0s - loss: 66.0677 - mean_absolute_error: 66.067 - ETA: 0s - loss: 66.7832 - mean_absolute_error: 66.783 - ETA: 0s - loss: 66.0099 - mean_absolute_error: 66.009 - ETA: 0s - loss: nan - mean_absolute_error: nan        - 0s 17ms/step - loss: nan - mean_absolute_error: nan - val_loss: 63.4633 - val_mean_absolute_error: 63.4633\n",
      "Epoch 76/100\n",
      "28/28 [==============================] - ETA: 0s - loss: 55.8407 - mean_absolute_error: 55.840 - ETA: 0s - loss: 61.1634 - mean_absolute_error: 61.163 - ETA: 0s - loss: 63.2166 - mean_absolute_error: 63.216 - ETA: 0s - loss: 66.0409 - mean_absolute_error: 66.040 - ETA: 0s - loss: 66.0558 - mean_absolute_error: 66.055 - ETA: 0s - loss: 66.2022 - mean_absolute_error: 66.202 - ETA: 0s - loss: nan - mean_absolute_error: nan        - ETA: 0s - loss: nan - mean_absolute_error: na - 0s 17ms/step - loss: nan - mean_absolute_error: nan - val_loss: 63.8821 - val_mean_absolute_error: 63.8821\n"
     ]
    },
    {
     "name": "stdout",
     "output_type": "stream",
     "text": [
      "Epoch 77/100\n",
      "28/28 [==============================] - ETA: 0s - loss: 61.5037 - mean_absolute_error: 61.503 - ETA: 0s - loss: 67.1833 - mean_absolute_error: 67.183 - ETA: 0s - loss: 67.5059 - mean_absolute_error: 67.505 - ETA: 0s - loss: 69.3447 - mean_absolute_error: 69.344 - ETA: 0s - loss: 67.4414 - mean_absolute_error: 67.441 - ETA: 0s - loss: nan - mean_absolute_error: nan        - 0s 13ms/step - loss: nan - mean_absolute_error: nan - val_loss: 63.7235 - val_mean_absolute_error: 63.7235\n",
      "Epoch 78/100\n",
      "28/28 [==============================] - ETA: 0s - loss: 56.2310 - mean_absolute_error: 56.231 - ETA: 0s - loss: nan - mean_absolute_error: nan        - ETA: 0s - loss: nan - mean_absolute_error: na - ETA: 0s - loss: nan - mean_absolute_error: na - ETA: 0s - loss: nan - mean_absolute_error: na - ETA: 0s - loss: nan - mean_absolute_error: na - ETA: 0s - loss: nan - mean_absolute_error: na - 0s 16ms/step - loss: nan - mean_absolute_error: nan - val_loss: 63.4959 - val_mean_absolute_error: 63.4959\n",
      "Epoch 79/100\n",
      "28/28 [==============================] - ETA: 0s - loss: 62.6553 - mean_absolute_error: 62.655 - ETA: 0s - loss: nan - mean_absolute_error: nan        - ETA: 0s - loss: nan - mean_absolute_error: na - ETA: 0s - loss: nan - mean_absolute_error: na - ETA: 0s - loss: nan - mean_absolute_error: na - ETA: 0s - loss: nan - mean_absolute_error: na - ETA: 0s - loss: nan - mean_absolute_error: na - ETA: 0s - loss: nan - mean_absolute_error: na - 0s 18ms/step - loss: nan - mean_absolute_error: nan - val_loss: 64.4707 - val_mean_absolute_error: 64.4707\n",
      "Epoch 80/100\n",
      "28/28 [==============================] - ETA: 0s - loss: 66.0116 - mean_absolute_error: 66.011 - ETA: 0s - loss: 64.8925 - mean_absolute_error: 64.892 - ETA: 0s - loss: 65.2737 - mean_absolute_error: 65.273 - ETA: 0s - loss: 66.2267 - mean_absolute_error: 66.226 - ETA: 0s - loss: 66.4716 - mean_absolute_error: 66.471 - ETA: 0s - loss: nan - mean_absolute_error: nan        - ETA: 0s - loss: nan - mean_absolute_error: na - 0s 16ms/step - loss: nan - mean_absolute_error: nan - val_loss: 63.9131 - val_mean_absolute_error: 63.9131\n",
      "Epoch 81/100\n",
      "28/28 [==============================] - ETA: 0s - loss: 60.1435 - mean_absolute_error: 60.143 - ETA: 0s - loss: 68.8871 - mean_absolute_error: 68.887 - ETA: 0s - loss: nan - mean_absolute_error: nan        - ETA: 0s - loss: nan - mean_absolute_error: na - ETA: 0s - loss: nan - mean_absolute_error: na - ETA: 0s - loss: nan - mean_absolute_error: na - ETA: 0s - loss: nan - mean_absolute_error: na - ETA: 0s - loss: nan - mean_absolute_error: na - 1s 19ms/step - loss: nan - mean_absolute_error: nan - val_loss: 63.5924 - val_mean_absolute_error: 63.5924\n",
      "Epoch 82/100\n",
      "28/28 [==============================] - ETA: 0s - loss: 60.5232 - mean_absolute_error: 60.523 - ETA: 0s - loss: 62.0245 - mean_absolute_error: 62.024 - ETA: 0s - loss: 65.2130 - mean_absolute_error: 65.213 - ETA: 0s - loss: 67.4541 - mean_absolute_error: 67.454 - ETA: 0s - loss: nan - mean_absolute_error: nan        - ETA: 0s - loss: nan - mean_absolute_error: na - ETA: 0s - loss: nan - mean_absolute_error: na - ETA: 0s - loss: nan - mean_absolute_error: na - 0s 18ms/step - loss: nan - mean_absolute_error: nan - val_loss: 64.1195 - val_mean_absolute_error: 64.1195\n",
      "Epoch 83/100\n",
      "28/28 [==============================] - ETA: 0s - loss: 56.7172 - mean_absolute_error: 56.717 - ETA: 0s - loss: 62.9844 - mean_absolute_error: 62.984 - ETA: 0s - loss: 65.8036 - mean_absolute_error: 65.803 - ETA: 0s - loss: 65.9912 - mean_absolute_error: 65.991 - ETA: 0s - loss: 67.6920 - mean_absolute_error: 67.692 - ETA: 0s - loss: nan - mean_absolute_error: nan        - ETA: 0s - loss: nan - mean_absolute_error: na - 0s 15ms/step - loss: nan - mean_absolute_error: nan - val_loss: 63.4128 - val_mean_absolute_error: 63.4128\n",
      "Epoch 84/100\n",
      "28/28 [==============================] - ETA: 0s - loss: 46.5805 - mean_absolute_error: 46.580 - ETA: 0s - loss: 69.6496 - mean_absolute_error: 69.649 - ETA: 0s - loss: 66.2474 - mean_absolute_error: 66.247 - ETA: 0s - loss: 65.1443 - mean_absolute_error: 65.144 - ETA: 0s - loss: 65.5199 - mean_absolute_error: 65.519 - ETA: 0s - loss: 65.7594 - mean_absolute_error: 65.759 - 0s 14ms/step - loss: nan - mean_absolute_error: nan - val_loss: 65.0359 - val_mean_absolute_error: 65.0359\n",
      "Epoch 85/100\n",
      "28/28 [==============================] - ETA: 0s - loss: 67.4315 - mean_absolute_error: 67.431 - ETA: 0s - loss: 70.1412 - mean_absolute_error: 70.141 - ETA: 0s - loss: 68.1013 - mean_absolute_error: 68.101 - ETA: 0s - loss: 66.2400 - mean_absolute_error: 66.240 - ETA: 0s - loss: 66.6610 - mean_absolute_error: 66.661 - ETA: 0s - loss: 65.8869 - mean_absolute_error: 65.886 - ETA: 0s - loss: nan - mean_absolute_error: nan        - ETA: 0s - loss: nan - mean_absolute_error: na - 1s 18ms/step - loss: nan - mean_absolute_error: nan - val_loss: 63.4122 - val_mean_absolute_error: 63.4122\n",
      "Epoch 86/100\n",
      "28/28 [==============================] - ETA: 0s - loss: 65.4630 - mean_absolute_error: 65.463 - ETA: 0s - loss: 64.7207 - mean_absolute_error: 64.720 - ETA: 0s - loss: 63.8363 - mean_absolute_error: 63.836 - ETA: 0s - loss: 64.7721 - mean_absolute_error: 64.772 - ETA: 0s - loss: 65.6099 - mean_absolute_error: 65.609 - ETA: 0s - loss: 67.2377 - mean_absolute_error: 67.237 - ETA: 0s - loss: nan - mean_absolute_error: nan        - ETA: 0s - loss: nan - mean_absolute_error: na - 1s 19ms/step - loss: nan - mean_absolute_error: nan - val_loss: 63.8387 - val_mean_absolute_error: 63.8387\n",
      "Epoch 87/100\n",
      "28/28 [==============================] - ETA: 0s - loss: 66.8437 - mean_absolute_error: 66.843 - ETA: 0s - loss: 60.4696 - mean_absolute_error: 60.469 - ETA: 0s - loss: 62.2230 - mean_absolute_error: 62.223 - ETA: 0s - loss: 62.7183 - mean_absolute_error: 62.718 - ETA: 0s - loss: 65.6948 - mean_absolute_error: 65.694 - ETA: 0s - loss: 65.0136 - mean_absolute_error: 65.013 - ETA: 0s - loss: nan - mean_absolute_error: nan        - 0s 15ms/step - loss: nan - mean_absolute_error: nan - val_loss: 67.8923 - val_mean_absolute_error: 67.8923\n",
      "Epoch 88/100\n",
      "28/28 [==============================] - ETA: 0s - loss: 75.1145 - mean_absolute_error: 75.114 - ETA: 0s - loss: 65.1816 - mean_absolute_error: 65.181 - ETA: 0s - loss: nan - mean_absolute_error: nan        - ETA: 0s - loss: nan - mean_absolute_error: na - ETA: 0s - loss: nan - mean_absolute_error: na - ETA: 0s - loss: nan - mean_absolute_error: na - 0s 14ms/step - loss: nan - mean_absolute_error: nan - val_loss: 63.4139 - val_mean_absolute_error: 63.4139\n",
      "Epoch 89/100\n",
      "28/28 [==============================] - ETA: 0s - loss: 60.7329 - mean_absolute_error: 60.732 - ETA: 0s - loss: nan - mean_absolute_error: nan        - ETA: 0s - loss: nan - mean_absolute_error: na - ETA: 0s - loss: nan - mean_absolute_error: na - ETA: 0s - loss: nan - mean_absolute_error: na - ETA: 0s - loss: nan - mean_absolute_error: na - ETA: 0s - loss: nan - mean_absolute_error: na - ETA: 0s - loss: nan - mean_absolute_error: na - 0s 17ms/step - loss: nan - mean_absolute_error: nan - val_loss: 63.6775 - val_mean_absolute_error: 63.6775\n",
      "Epoch 90/100\n",
      "28/28 [==============================] - ETA: 0s - loss: 55.2317 - mean_absolute_error: 55.231 - ETA: 0s - loss: 63.2913 - mean_absolute_error: 63.291 - ETA: 0s - loss: 65.5178 - mean_absolute_error: 65.517 - ETA: 0s - loss: 65.8698 - mean_absolute_error: 65.869 - ETA: 0s - loss: 68.2788 - mean_absolute_error: 68.278 - ETA: 0s - loss: 67.4128 - mean_absolute_error: 67.412 - ETA: 0s - loss: nan - mean_absolute_error: nan        - ETA: 0s - loss: nan - mean_absolute_error: na - 0s 17ms/step - loss: nan - mean_absolute_error: nan - val_loss: 63.9318 - val_mean_absolute_error: 63.9318\n",
      "Epoch 91/100\n",
      "28/28 [==============================] - ETA: 0s - loss: 82.1362 - mean_absolute_error: 82.136 - ETA: 0s - loss: nan - mean_absolute_error: nan        - ETA: 0s - loss: nan - mean_absolute_error: na - ETA: 0s - loss: nan - mean_absolute_error: na - ETA: 0s - loss: nan - mean_absolute_error: na - ETA: 0s - loss: nan - mean_absolute_error: na - 0s 13ms/step - loss: nan - mean_absolute_error: nan - val_loss: 63.4122 - val_mean_absolute_error: 63.4122\n",
      "Epoch 92/100\n"
     ]
    },
    {
     "name": "stdout",
     "output_type": "stream",
     "text": [
      "28/28 [==============================] - ETA: 0s - loss: 63.3804 - mean_absolute_error: 63.380 - ETA: 0s - loss: 70.7977 - mean_absolute_error: 70.797 - ETA: 0s - loss: nan - mean_absolute_error: nan        - ETA: 0s - loss: nan - mean_absolute_error: na - ETA: 0s - loss: nan - mean_absolute_error: na - ETA: 0s - loss: nan - mean_absolute_error: na - ETA: 0s - loss: nan - mean_absolute_error: na - 0s 16ms/step - loss: nan - mean_absolute_error: nan - val_loss: 63.6847 - val_mean_absolute_error: 63.6847\n",
      "Epoch 93/100\n",
      "28/28 [==============================] - ETA: 0s - loss: 56.4248 - mean_absolute_error: 56.424 - ETA: 0s - loss: 67.6300 - mean_absolute_error: 67.630 - ETA: 0s - loss: nan - mean_absolute_error: nan        - ETA: 0s - loss: nan - mean_absolute_error: na - ETA: 0s - loss: nan - mean_absolute_error: na - ETA: 0s - loss: nan - mean_absolute_error: na - ETA: 0s - loss: nan - mean_absolute_error: na - 0s 17ms/step - loss: nan - mean_absolute_error: nan - val_loss: 64.6157 - val_mean_absolute_error: 64.6157\n",
      "Epoch 94/100\n",
      "28/28 [==============================] - ETA: 0s - loss: 72.8757 - mean_absolute_error: 72.875 - ETA: 0s - loss: 65.5445 - mean_absolute_error: 65.544 - ETA: 0s - loss: 71.2753 - mean_absolute_error: 71.275 - ETA: 0s - loss: 68.9172 - mean_absolute_error: 68.917 - ETA: 0s - loss: 67.8137 - mean_absolute_error: 67.813 - ETA: 0s - loss: 67.0503 - mean_absolute_error: 67.050 - ETA: 0s - loss: nan - mean_absolute_error: nan        - 0s 17ms/step - loss: nan - mean_absolute_error: nan - val_loss: 63.5369 - val_mean_absolute_error: 63.5369\n",
      "Epoch 95/100\n",
      "28/28 [==============================] - ETA: 0s - loss: 67.1336 - mean_absolute_error: 67.133 - ETA: 0s - loss: nan - mean_absolute_error: nan        - ETA: 0s - loss: nan - mean_absolute_error: na - ETA: 0s - loss: nan - mean_absolute_error: na - ETA: 0s - loss: nan - mean_absolute_error: na - ETA: 0s - loss: nan - mean_absolute_error: na - ETA: 0s - loss: nan - mean_absolute_error: na - 0s 15ms/step - loss: nan - mean_absolute_error: nan - val_loss: 64.2484 - val_mean_absolute_error: 64.2484\n",
      "Epoch 96/100\n",
      "28/28 [==============================] - ETA: 0s - loss: 61.8247 - mean_absolute_error: 61.824 - ETA: 0s - loss: 67.6582 - mean_absolute_error: 67.658 - ETA: 0s - loss: 68.6877 - mean_absolute_error: 68.687 - ETA: 0s - loss: 66.4104 - mean_absolute_error: 66.410 - ETA: 0s - loss: nan - mean_absolute_error: nan        - ETA: 0s - loss: nan - mean_absolute_error: na - ETA: 0s - loss: nan - mean_absolute_error: na - 0s 16ms/step - loss: nan - mean_absolute_error: nan - val_loss: 63.9312 - val_mean_absolute_error: 63.9312\n",
      "Epoch 97/100\n",
      "28/28 [==============================] - ETA: 0s - loss: 73.0211 - mean_absolute_error: 73.021 - ETA: 0s - loss: 62.2338 - mean_absolute_error: 62.233 - ETA: 0s - loss: 66.3754 - mean_absolute_error: 66.375 - ETA: 0s - loss: 62.8684 - mean_absolute_error: 62.868 - ETA: 0s - loss: 65.5443 - mean_absolute_error: 65.544 - ETA: 0s - loss: nan - mean_absolute_error: nan        - ETA: 0s - loss: nan - mean_absolute_error: na - 0s 15ms/step - loss: nan - mean_absolute_error: nan - val_loss: 63.4182 - val_mean_absolute_error: 63.4182\n",
      "Epoch 98/100\n",
      "28/28 [==============================] - ETA: 0s - loss: 55.1539 - mean_absolute_error: 55.153 - ETA: 0s - loss: 64.0312 - mean_absolute_error: 64.031 - ETA: 0s - loss: 64.7321 - mean_absolute_error: 64.732 - ETA: 0s - loss: 63.6871 - mean_absolute_error: 63.687 - ETA: 0s - loss: 65.0879 - mean_absolute_error: 65.087 - ETA: 0s - loss: nan - mean_absolute_error: nan        - ETA: 0s - loss: nan - mean_absolute_error: na - 0s 16ms/step - loss: nan - mean_absolute_error: nan - val_loss: 66.6739 - val_mean_absolute_error: 66.6739\n",
      "Epoch 99/100\n",
      "28/28 [==============================] - ETA: 0s - loss: 57.0172 - mean_absolute_error: 57.017 - ETA: 0s - loss: nan - mean_absolute_error: nan        - ETA: 0s - loss: nan - mean_absolute_error: na - ETA: 0s - loss: nan - mean_absolute_error: na - ETA: 0s - loss: nan - mean_absolute_error: na - ETA: 0s - loss: nan - mean_absolute_error: na - ETA: 0s - loss: nan - mean_absolute_error: na - ETA: 0s - loss: nan - mean_absolute_error: na - 1s 18ms/step - loss: nan - mean_absolute_error: nan - val_loss: 63.7153 - val_mean_absolute_error: 63.7153\n",
      "Epoch 100/100\n",
      "28/28 [==============================] - ETA: 0s - loss: 77.3731 - mean_absolute_error: 77.373 - ETA: 0s - loss: 72.8137 - mean_absolute_error: 72.813 - ETA: 0s - loss: 71.6299 - mean_absolute_error: 71.629 - ETA: 0s - loss: 69.4341 - mean_absolute_error: 69.434 - ETA: 0s - loss: 70.8798 - mean_absolute_error: 70.879 - ETA: 0s - loss: 68.4462 - mean_absolute_error: 68.446 - ETA: 0s - loss: 68.3649 - mean_absolute_error: 68.364 - ETA: 0s - loss: nan - mean_absolute_error: nan        - 0s 18ms/step - loss: nan - mean_absolute_error: nan - val_loss: 63.4096 - val_mean_absolute_error: 63.4096\n",
      "Epoch 1/100\n",
      "28/28 [==============================] - ETA: 0s - loss: 107.9067 - mean_absolute_error: 107.906 - ETA: 0s - loss: nan - mean_absolute_error: nan          - ETA: 0s - loss: nan - mean_absolute_error: na - ETA: 0s - loss: nan - mean_absolute_error: na - ETA: 0s - loss: nan - mean_absolute_error: na - ETA: 0s - loss: nan - mean_absolute_error: na - ETA: 0s - loss: nan - mean_absolute_error: na - ETA: 0s - loss: nan - mean_absolute_error: na - 1s 28ms/step - loss: nan - mean_absolute_error: nan - val_loss: 63.5881 - val_mean_absolute_error: 63.5881\n",
      "Epoch 2/100\n",
      "28/28 [==============================] - ETA: 0s - loss: 59.4931 - mean_absolute_error: 59.493 - ETA: 0s - loss: 74.3708 - mean_absolute_error: 74.370 - ETA: 0s - loss: 70.0791 - mean_absolute_error: 70.079 - ETA: 0s - loss: 68.3284 - mean_absolute_error: 68.328 - ETA: 0s - loss: 67.0987 - mean_absolute_error: 67.098 - ETA: 0s - loss: 67.5596 - mean_absolute_error: 67.559 - ETA: 0s - loss: 66.7907 - mean_absolute_error: 66.790 - ETA: 0s - loss: nan - mean_absolute_error: nan        - ETA: 0s - loss: nan - mean_absolute_error: na - 1s 21ms/step - loss: nan - mean_absolute_error: nan - val_loss: 64.0493 - val_mean_absolute_error: 64.0493\n",
      "Epoch 3/100\n",
      "28/28 [==============================] - ETA: 0s - loss: 67.1812 - mean_absolute_error: 67.181 - ETA: 0s - loss: nan - mean_absolute_error: nan        - ETA: 0s - loss: nan - mean_absolute_error: na - ETA: 0s - loss: nan - mean_absolute_error: na - ETA: 0s - loss: nan - mean_absolute_error: na - ETA: 0s - loss: nan - mean_absolute_error: na - ETA: 0s - loss: nan - mean_absolute_error: na - ETA: 0s - loss: nan - mean_absolute_error: na - ETA: 0s - loss: nan - mean_absolute_error: na - 1s 20ms/step - loss: nan - mean_absolute_error: nan - val_loss: 65.0789 - val_mean_absolute_error: 65.0789\n",
      "Epoch 4/100\n",
      "28/28 [==============================] - ETA: 0s - loss: 49.8655 - mean_absolute_error: 49.865 - ETA: 0s - loss: 63.0753 - mean_absolute_error: 63.075 - ETA: 0s - loss: 62.5374 - mean_absolute_error: 62.537 - ETA: 0s - loss: nan - mean_absolute_error: nan        - ETA: 0s - loss: nan - mean_absolute_error: na - ETA: 0s - loss: nan - mean_absolute_error: na - ETA: 0s - loss: nan - mean_absolute_error: na - ETA: 0s - loss: nan - mean_absolute_error: na - ETA: 0s - loss: nan - mean_absolute_error: na - 1s 20ms/step - loss: nan - mean_absolute_error: nan - val_loss: 65.1591 - val_mean_absolute_error: 65.1591\n",
      "Epoch 5/100\n",
      "28/28 [==============================] - ETA: 0s - loss: 76.6135 - mean_absolute_error: 76.613 - ETA: 0s - loss: 64.4164 - mean_absolute_error: 64.416 - ETA: 0s - loss: 65.1918 - mean_absolute_error: 65.191 - ETA: 0s - loss: 67.7619 - mean_absolute_error: 67.761 - ETA: 0s - loss: nan - mean_absolute_error: nan        - ETA: 0s - loss: nan - mean_absolute_error: na - ETA: 0s - loss: nan - mean_absolute_error: na - ETA: 0s - loss: nan - mean_absolute_error: na - 1s 18ms/step - loss: nan - mean_absolute_error: nan - val_loss: 63.5904 - val_mean_absolute_error: 63.5904\n",
      "Epoch 6/100\n"
     ]
    },
    {
     "name": "stdout",
     "output_type": "stream",
     "text": [
      "28/28 [==============================] - ETA: 0s - loss: 62.0742 - mean_absolute_error: 62.074 - ETA: 0s - loss: 71.2100 - mean_absolute_error: 71.210 - ETA: 0s - loss: 71.4479 - mean_absolute_error: 71.447 - ETA: 0s - loss: 69.7100 - mean_absolute_error: 69.710 - ETA: 0s - loss: 69.0613 - mean_absolute_error: 69.061 - ETA: 0s - loss: 68.1622 - mean_absolute_error: 68.162 - ETA: 0s - loss: nan - mean_absolute_error: nan        - ETA: 0s - loss: nan - mean_absolute_error: na - 1s 20ms/step - loss: nan - mean_absolute_error: nan - val_loss: 68.9674 - val_mean_absolute_error: 68.9674\n",
      "Epoch 7/100\n",
      "28/28 [==============================] - ETA: 0s - loss: 55.7103 - mean_absolute_error: 55.710 - ETA: 0s - loss: 63.1393 - mean_absolute_error: 63.139 - ETA: 0s - loss: 64.0680 - mean_absolute_error: 64.068 - ETA: 0s - loss: nan - mean_absolute_error: nan        - ETA: 0s - loss: nan - mean_absolute_error: na - ETA: 0s - loss: nan - mean_absolute_error: na - ETA: 0s - loss: nan - mean_absolute_error: na - ETA: 0s - loss: nan - mean_absolute_error: na - 1s 19ms/step - loss: nan - mean_absolute_error: nan - val_loss: 64.3054 - val_mean_absolute_error: 64.3054\n",
      "Epoch 8/100\n",
      "28/28 [==============================] - ETA: 0s - loss: 64.8401 - mean_absolute_error: 64.840 - ETA: 0s - loss: 69.6173 - mean_absolute_error: 69.617 - ETA: 0s - loss: 68.3349 - mean_absolute_error: 68.334 - ETA: 0s - loss: nan - mean_absolute_error: nan        - ETA: 0s - loss: nan - mean_absolute_error: na - ETA: 0s - loss: nan - mean_absolute_error: na - ETA: 0s - loss: nan - mean_absolute_error: na - 0s 16ms/step - loss: nan - mean_absolute_error: nan - val_loss: 64.2080 - val_mean_absolute_error: 64.2080\n",
      "Epoch 9/100\n",
      "28/28 [==============================] - ETA: 0s - loss: 86.8923 - mean_absolute_error: 86.892 - ETA: 0s - loss: nan - mean_absolute_error: nan        - ETA: 0s - loss: nan - mean_absolute_error: na - ETA: 0s - loss: nan - mean_absolute_error: na - ETA: 0s - loss: nan - mean_absolute_error: na - ETA: 0s - loss: nan - mean_absolute_error: na - 0s 13ms/step - loss: nan - mean_absolute_error: nan - val_loss: 63.8567 - val_mean_absolute_error: 63.8567\n",
      "Epoch 10/100\n",
      "28/28 [==============================] - ETA: 0s - loss: 91.3811 - mean_absolute_error: 91.381 - ETA: 0s - loss: 69.7212 - mean_absolute_error: 69.721 - ETA: 0s - loss: nan - mean_absolute_error: nan        - ETA: 0s - loss: nan - mean_absolute_error: na - ETA: 0s - loss: nan - mean_absolute_error: na - ETA: 0s - loss: nan - mean_absolute_error: na - 0s 13ms/step - loss: nan - mean_absolute_error: nan - val_loss: 68.7111 - val_mean_absolute_error: 68.7111\n",
      "Epoch 11/100\n",
      "28/28 [==============================] - ETA: 0s - loss: 80.5629 - mean_absolute_error: 80.562 - ETA: 0s - loss: 69.2031 - mean_absolute_error: 69.203 - ETA: 0s - loss: 68.8351 - mean_absolute_error: 68.835 - ETA: 0s - loss: 66.6699 - mean_absolute_error: 66.669 - ETA: 0s - loss: 64.9606 - mean_absolute_error: 64.960 - ETA: 0s - loss: nan - mean_absolute_error: nan        - ETA: 0s - loss: nan - mean_absolute_error: na - ETA: 0s - loss: nan - mean_absolute_error: na - 1s 19ms/step - loss: nan - mean_absolute_error: nan - val_loss: 65.5900 - val_mean_absolute_error: 65.5900\n",
      "Epoch 12/100\n",
      "28/28 [==============================] - ETA: 0s - loss: 84.2437 - mean_absolute_error: 84.243 - ETA: 0s - loss: 70.9099 - mean_absolute_error: 70.909 - ETA: 0s - loss: 70.1763 - mean_absolute_error: 70.176 - ETA: 0s - loss: 69.2966 - mean_absolute_error: 69.296 - ETA: 0s - loss: 67.1024 - mean_absolute_error: 67.102 - ETA: 0s - loss: 67.2590 - mean_absolute_error: 67.259 - ETA: 0s - loss: 67.2300 - mean_absolute_error: 67.230 - ETA: 0s - loss: nan - mean_absolute_error: nan        - ETA: 0s - loss: nan - mean_absolute_error: na - 1s 20ms/step - loss: nan - mean_absolute_error: nan - val_loss: 68.2722 - val_mean_absolute_error: 68.2722\n",
      "Epoch 13/100\n",
      "28/28 [==============================] - ETA: 0s - loss: 59.3293 - mean_absolute_error: 59.329 - ETA: 0s - loss: nan - mean_absolute_error: nan        - ETA: 0s - loss: nan - mean_absolute_error: na - ETA: 0s - loss: nan - mean_absolute_error: na - ETA: 0s - loss: nan - mean_absolute_error: na - ETA: 0s - loss: nan - mean_absolute_error: na - ETA: 0s - loss: nan - mean_absolute_error: na - ETA: 0s - loss: nan - mean_absolute_error: na - ETA: 0s - loss: nan - mean_absolute_error: na - 1s 19ms/step - loss: nan - mean_absolute_error: nan - val_loss: 63.9839 - val_mean_absolute_error: 63.9839\n",
      "Epoch 14/100\n",
      "28/28 [==============================] - ETA: 0s - loss: 66.9838 - mean_absolute_error: 66.983 - ETA: 0s - loss: 62.2543 - mean_absolute_error: 62.254 - ETA: 0s - loss: 69.3154 - mean_absolute_error: 69.315 - ETA: 0s - loss: 67.6085 - mean_absolute_error: 67.608 - ETA: 0s - loss: 69.9484 - mean_absolute_error: 69.948 - ETA: 0s - loss: nan - mean_absolute_error: nan        - 0s 13ms/step - loss: nan - mean_absolute_error: nan - val_loss: 63.9725 - val_mean_absolute_error: 63.9725\n",
      "Epoch 15/100\n",
      "28/28 [==============================] - ETA: 0s - loss: 76.3848 - mean_absolute_error: 76.384 - ETA: 0s - loss: 77.7360 - mean_absolute_error: 77.736 - ETA: 0s - loss: 69.9992 - mean_absolute_error: 69.999 - ETA: 0s - loss: nan - mean_absolute_error: nan        - ETA: 0s - loss: nan - mean_absolute_error: na - ETA: 0s - loss: nan - mean_absolute_error: na - ETA: 0s - loss: nan - mean_absolute_error: na - 0s 14ms/step - loss: nan - mean_absolute_error: nan - val_loss: 63.6846 - val_mean_absolute_error: 63.6846\n",
      "Epoch 16/100\n",
      "28/28 [==============================] - ETA: 0s - loss: 65.2445 - mean_absolute_error: 65.244 - ETA: 0s - loss: 63.7671 - mean_absolute_error: 63.767 - ETA: 0s - loss: nan - mean_absolute_error: nan        - ETA: 0s - loss: nan - mean_absolute_error: na - ETA: 0s - loss: nan - mean_absolute_error: na - ETA: 0s - loss: nan - mean_absolute_error: na - ETA: 0s - loss: nan - mean_absolute_error: na - ETA: 0s - loss: nan - mean_absolute_error: na - 1s 18ms/step - loss: nan - mean_absolute_error: nan - val_loss: 63.6859 - val_mean_absolute_error: 63.6859\n",
      "Epoch 17/100\n",
      "28/28 [==============================] - ETA: 0s - loss: 41.6012 - mean_absolute_error: 41.601 - ETA: 0s - loss: 60.4119 - mean_absolute_error: 60.411 - ETA: 0s - loss: 60.1201 - mean_absolute_error: 60.120 - ETA: 0s - loss: 63.4938 - mean_absolute_error: 63.493 - ETA: 0s - loss: nan - mean_absolute_error: nan        - ETA: 0s - loss: nan - mean_absolute_error: na - ETA: 0s - loss: nan - mean_absolute_error: na - ETA: 0s - loss: nan - mean_absolute_error: na - 1s 18ms/step - loss: nan - mean_absolute_error: nan - val_loss: 63.5918 - val_mean_absolute_error: 63.5918\n",
      "Epoch 18/100\n",
      "28/28 [==============================] - ETA: 0s - loss: 85.0657 - mean_absolute_error: 85.065 - ETA: 0s - loss: nan - mean_absolute_error: nan        - ETA: 0s - loss: nan - mean_absolute_error: na - ETA: 0s - loss: nan - mean_absolute_error: na - ETA: 0s - loss: nan - mean_absolute_error: na - ETA: 0s - loss: nan - mean_absolute_error: na - ETA: 0s - loss: nan - mean_absolute_error: na - 0s 16ms/step - loss: nan - mean_absolute_error: nan - val_loss: 63.5749 - val_mean_absolute_error: 63.5749\n",
      "Epoch 19/100\n",
      "28/28 [==============================] - ETA: 0s - loss: 65.7999 - mean_absolute_error: 65.799 - ETA: 0s - loss: nan - mean_absolute_error: nan        - ETA: 0s - loss: nan - mean_absolute_error: na - ETA: 0s - loss: nan - mean_absolute_error: na - ETA: 0s - loss: nan - mean_absolute_error: na - ETA: 0s - loss: nan - mean_absolute_error: na - ETA: 0s - loss: nan - mean_absolute_error: na - 0s 15ms/step - loss: nan - mean_absolute_error: nan - val_loss: 63.7177 - val_mean_absolute_error: 63.7177\n",
      "Epoch 20/100\n",
      "28/28 [==============================] - ETA: 0s - loss: 79.5877 - mean_absolute_error: 79.587 - ETA: 0s - loss: nan - mean_absolute_error: nan        - ETA: 0s - loss: nan - mean_absolute_error: na - ETA: 0s - loss: nan - mean_absolute_error: na - ETA: 0s - loss: nan - mean_absolute_error: na - ETA: 0s - loss: nan - mean_absolute_error: na - ETA: 0s - loss: nan - mean_absolute_error: na - 0s 16ms/step - loss: nan - mean_absolute_error: nan - val_loss: 63.4114 - val_mean_absolute_error: 63.4114\n"
     ]
    },
    {
     "name": "stdout",
     "output_type": "stream",
     "text": [
      "Epoch 21/100\n",
      "28/28 [==============================] - ETA: 0s - loss: 49.0293 - mean_absolute_error: 49.029 - ETA: 0s - loss: 66.0151 - mean_absolute_error: 66.015 - ETA: 0s - loss: 67.9559 - mean_absolute_error: 67.955 - ETA: 0s - loss: 65.9164 - mean_absolute_error: 65.916 - ETA: 0s - loss: nan - mean_absolute_error: nan        - ETA: 0s - loss: nan - mean_absolute_error: na - ETA: 0s - loss: nan - mean_absolute_error: na - ETA: 0s - loss: nan - mean_absolute_error: na - 1s 19ms/step - loss: nan - mean_absolute_error: nan - val_loss: 63.4083 - val_mean_absolute_error: 63.4083\n",
      "Epoch 22/100\n",
      "28/28 [==============================] - ETA: 0s - loss: 51.1273 - mean_absolute_error: 51.127 - ETA: 0s - loss: 60.2345 - mean_absolute_error: 60.234 - ETA: 0s - loss: 65.7909 - mean_absolute_error: 65.790 - ETA: 0s - loss: 65.8919 - mean_absolute_error: 65.891 - ETA: 0s - loss: nan - mean_absolute_error: nan        - ETA: 0s - loss: nan - mean_absolute_error: na - ETA: 0s - loss: nan - mean_absolute_error: na - 0s 17ms/step - loss: nan - mean_absolute_error: nan - val_loss: 63.7629 - val_mean_absolute_error: 63.7629\n",
      "Epoch 23/100\n",
      "28/28 [==============================] - ETA: 0s - loss: 74.8629 - mean_absolute_error: 74.862 - ETA: 0s - loss: 60.0512 - mean_absolute_error: 60.051 - ETA: 0s - loss: 64.0600 - mean_absolute_error: 64.060 - ETA: 0s - loss: 67.9820 - mean_absolute_error: 67.982 - ETA: 0s - loss: nan - mean_absolute_error: nan        - ETA: 0s - loss: nan - mean_absolute_error: na - 0s 13ms/step - loss: nan - mean_absolute_error: nan - val_loss: 63.4404 - val_mean_absolute_error: 63.4404\n",
      "Epoch 24/100\n",
      "28/28 [==============================] - ETA: 0s - loss: 80.0596 - mean_absolute_error: 80.059 - ETA: 0s - loss: nan - mean_absolute_error: nan        - ETA: 0s - loss: nan - mean_absolute_error: na - ETA: 0s - loss: nan - mean_absolute_error: na - ETA: 0s - loss: nan - mean_absolute_error: na - ETA: 0s - loss: nan - mean_absolute_error: na - ETA: 0s - loss: nan - mean_absolute_error: na - 0s 16ms/step - loss: nan - mean_absolute_error: nan - val_loss: 63.5107 - val_mean_absolute_error: 63.5107\n",
      "Epoch 25/100\n",
      "28/28 [==============================] - ETA: 0s - loss: 65.0036 - mean_absolute_error: 65.003 - ETA: 0s - loss: 66.7181 - mean_absolute_error: 66.718 - ETA: 0s - loss: 64.9474 - mean_absolute_error: 64.947 - ETA: 0s - loss: 63.3580 - mean_absolute_error: 63.358 - ETA: 0s - loss: nan - mean_absolute_error: nan        - ETA: 0s - loss: nan - mean_absolute_error: na - ETA: 0s - loss: nan - mean_absolute_error: na - ETA: 0s - loss: nan - mean_absolute_error: na - 0s 18ms/step - loss: nan - mean_absolute_error: nan - val_loss: 64.0443 - val_mean_absolute_error: 64.0443\n",
      "Epoch 26/100\n",
      "28/28 [==============================] - ETA: 0s - loss: nan - mean_absolute_error: na - ETA: 0s - loss: nan - mean_absolute_error: na - ETA: 0s - loss: nan - mean_absolute_error: na - ETA: 0s - loss: nan - mean_absolute_error: na - ETA: 0s - loss: nan - mean_absolute_error: na - ETA: 0s - loss: nan - mean_absolute_error: na - ETA: 0s - loss: nan - mean_absolute_error: na - 0s 15ms/step - loss: nan - mean_absolute_error: nan - val_loss: 63.4621 - val_mean_absolute_error: 63.4621\n",
      "Epoch 27/100\n",
      "28/28 [==============================] - ETA: 0s - loss: 64.3354 - mean_absolute_error: 64.335 - ETA: 0s - loss: 64.9714 - mean_absolute_error: 64.971 - ETA: 0s - loss: 66.7485 - mean_absolute_error: 66.748 - ETA: 0s - loss: 63.7498 - mean_absolute_error: 63.749 - ETA: 0s - loss: 66.0242 - mean_absolute_error: 66.024 - ETA: 0s - loss: 66.5176 - mean_absolute_error: 66.517 - ETA: 0s - loss: 66.7103 - mean_absolute_error: 66.710 - ETA: 0s - loss: nan - mean_absolute_error: nan        - 0s 18ms/step - loss: nan - mean_absolute_error: nan - val_loss: 64.4708 - val_mean_absolute_error: 64.4708\n",
      "Epoch 28/100\n",
      "28/28 [==============================] - ETA: 0s - loss: 66.0796 - mean_absolute_error: 66.079 - ETA: 0s - loss: nan - mean_absolute_error: nan        - ETA: 0s - loss: nan - mean_absolute_error: na - ETA: 0s - loss: nan - mean_absolute_error: na - ETA: 0s - loss: nan - mean_absolute_error: na - ETA: 0s - loss: nan - mean_absolute_error: na - ETA: 0s - loss: nan - mean_absolute_error: na - ETA: 0s - loss: nan - mean_absolute_error: na - ETA: 0s - loss: nan - mean_absolute_error: na - 1s 19ms/step - loss: nan - mean_absolute_error: nan - val_loss: 64.0919 - val_mean_absolute_error: 64.0919\n",
      "Epoch 29/100\n",
      "28/28 [==============================] - ETA: 0s - loss: 67.9746 - mean_absolute_error: 67.974 - ETA: 0s - loss: 73.1467 - mean_absolute_error: 73.146 - ETA: 0s - loss: nan - mean_absolute_error: nan        - ETA: 0s - loss: nan - mean_absolute_error: na - ETA: 0s - loss: nan - mean_absolute_error: na - ETA: 0s - loss: nan - mean_absolute_error: na - ETA: 0s - loss: nan - mean_absolute_error: na - ETA: 0s - loss: nan - mean_absolute_error: na - 1s 18ms/step - loss: nan - mean_absolute_error: nan - val_loss: 64.0529 - val_mean_absolute_error: 64.0529\n",
      "Epoch 30/100\n",
      "28/28 [==============================] - ETA: 0s - loss: 74.5890 - mean_absolute_error: 74.589 - ETA: 0s - loss: 66.6909 - mean_absolute_error: 66.690 - ETA: 0s - loss: nan - mean_absolute_error: nan        - ETA: 0s - loss: nan - mean_absolute_error: na - ETA: 0s - loss: nan - mean_absolute_error: na - ETA: 0s - loss: nan - mean_absolute_error: na - ETA: 0s - loss: nan - mean_absolute_error: na - 0s 16ms/step - loss: nan - mean_absolute_error: nan - val_loss: 63.6672 - val_mean_absolute_error: 63.6672\n",
      "Epoch 31/100\n",
      "28/28 [==============================] - ETA: 0s - loss: 58.5254 - mean_absolute_error: 58.525 - ETA: 0s - loss: 63.1333 - mean_absolute_error: 63.133 - ETA: 0s - loss: nan - mean_absolute_error: nan        - ETA: 0s - loss: nan - mean_absolute_error: na - ETA: 0s - loss: nan - mean_absolute_error: na - ETA: 0s - loss: nan - mean_absolute_error: na - 0s 13ms/step - loss: nan - mean_absolute_error: nan - val_loss: 65.5988 - val_mean_absolute_error: 65.5988\n",
      "Epoch 32/100\n",
      "28/28 [==============================] - ETA: 0s - loss: 85.2746 - mean_absolute_error: 85.274 - ETA: 0s - loss: 71.1301 - mean_absolute_error: 71.130 - ETA: 0s - loss: 71.1073 - mean_absolute_error: 71.107 - ETA: 0s - loss: 68.8183 - mean_absolute_error: 68.818 - ETA: 0s - loss: 68.6560 - mean_absolute_error: 68.656 - ETA: 0s - loss: 66.4556 - mean_absolute_error: 66.455 - ETA: 0s - loss: nan - mean_absolute_error: nan        - ETA: 0s - loss: nan - mean_absolute_error: na - ETA: 0s - loss: nan - mean_absolute_error: na - 1s 20ms/step - loss: nan - mean_absolute_error: nan - val_loss: 63.4112 - val_mean_absolute_error: 63.4112\n",
      "Epoch 33/100\n",
      "28/28 [==============================] - ETA: 0s - loss: 55.7387 - mean_absolute_error: 55.738 - ETA: 0s - loss: 62.3979 - mean_absolute_error: 62.397 - ETA: 0s - loss: 66.5869 - mean_absolute_error: 66.586 - ETA: 0s - loss: 66.4739 - mean_absolute_error: 66.473 - ETA: 0s - loss: 65.6760 - mean_absolute_error: 65.676 - ETA: 0s - loss: nan - mean_absolute_error: nan        - ETA: 0s - loss: nan - mean_absolute_error: na - ETA: 0s - loss: nan - mean_absolute_error: na - 1s 18ms/step - loss: nan - mean_absolute_error: nan - val_loss: 63.8698 - val_mean_absolute_error: 63.8698\n",
      "Epoch 34/100\n",
      "28/28 [==============================] - ETA: 0s - loss: 64.3433 - mean_absolute_error: 64.343 - ETA: 0s - loss: 73.4353 - mean_absolute_error: 73.435 - ETA: 0s - loss: nan - mean_absolute_error: nan        - ETA: 0s - loss: nan - mean_absolute_error: na - ETA: 0s - loss: nan - mean_absolute_error: na - ETA: 0s - loss: nan - mean_absolute_error: na - ETA: 0s - loss: nan - mean_absolute_error: na - ETA: 0s - loss: nan - mean_absolute_error: na - 0s 17ms/step - loss: nan - mean_absolute_error: nan - val_loss: 63.4165 - val_mean_absolute_error: 63.4165\n",
      "Epoch 35/100\n"
     ]
    },
    {
     "name": "stdout",
     "output_type": "stream",
     "text": [
      "28/28 [==============================] - ETA: 0s - loss: 58.1372 - mean_absolute_error: 58.137 - ETA: 0s - loss: 69.7439 - mean_absolute_error: 69.743 - ETA: 0s - loss: 69.6952 - mean_absolute_error: 69.695 - ETA: 0s - loss: nan - mean_absolute_error: nan        - ETA: 0s - loss: nan - mean_absolute_error: na - ETA: 0s - loss: nan - mean_absolute_error: na - ETA: 0s - loss: nan - mean_absolute_error: na - 0s 14ms/step - loss: nan - mean_absolute_error: nan - val_loss: 63.7828 - val_mean_absolute_error: 63.7828\n",
      "Epoch 36/100\n",
      "28/28 [==============================] - ETA: 0s - loss: 58.7510 - mean_absolute_error: 58.751 - ETA: 0s - loss: 71.2098 - mean_absolute_error: 71.209 - ETA: 0s - loss: 70.3777 - mean_absolute_error: 70.377 - ETA: 0s - loss: 66.8501 - mean_absolute_error: 66.850 - ETA: 0s - loss: 67.2314 - mean_absolute_error: 67.231 - ETA: 0s - loss: nan - mean_absolute_error: nan        - 0s 13ms/step - loss: nan - mean_absolute_error: nan - val_loss: 63.7664 - val_mean_absolute_error: 63.7664\n",
      "Epoch 37/100\n",
      "28/28 [==============================] - ETA: 0s - loss: 57.5404 - mean_absolute_error: 57.540 - ETA: 0s - loss: 66.0306 - mean_absolute_error: 66.030 - ETA: 0s - loss: nan - mean_absolute_error: nan        - ETA: 0s - loss: nan - mean_absolute_error: na - ETA: 0s - loss: nan - mean_absolute_error: na - ETA: 0s - loss: nan - mean_absolute_error: na - ETA: 0s - loss: nan - mean_absolute_error: na - 0s 17ms/step - loss: nan - mean_absolute_error: nan - val_loss: 65.2666 - val_mean_absolute_error: 65.2666\n",
      "Epoch 38/100\n",
      "28/28 [==============================] - ETA: 0s - loss: 52.0289 - mean_absolute_error: 52.028 - ETA: 0s - loss: nan - mean_absolute_error: nan        - ETA: 0s - loss: nan - mean_absolute_error: na - ETA: 0s - loss: nan - mean_absolute_error: na - ETA: 0s - loss: nan - mean_absolute_error: na - ETA: 0s - loss: nan - mean_absolute_error: na - ETA: 0s - loss: nan - mean_absolute_error: na - ETA: 0s - loss: nan - mean_absolute_error: na - 0s 18ms/step - loss: nan - mean_absolute_error: nan - val_loss: 68.8559 - val_mean_absolute_error: 68.8559\n",
      "Epoch 39/100\n",
      "28/28 [==============================] - ETA: 0s - loss: 83.7914 - mean_absolute_error: 83.791 - ETA: 0s - loss: 68.6994 - mean_absolute_error: 68.699 - ETA: 0s - loss: 65.5718 - mean_absolute_error: 65.571 - ETA: 0s - loss: 66.8899 - mean_absolute_error: 66.889 - ETA: 0s - loss: nan - mean_absolute_error: nan        - ETA: 0s - loss: nan - mean_absolute_error: na - ETA: 0s - loss: nan - mean_absolute_error: na - 0s 15ms/step - loss: nan - mean_absolute_error: nan - val_loss: 65.2529 - val_mean_absolute_error: 65.2529\n",
      "Epoch 40/100\n",
      "28/28 [==============================] - ETA: 0s - loss: 60.8462 - mean_absolute_error: 60.846 - ETA: 0s - loss: 65.1051 - mean_absolute_error: 65.105 - ETA: 0s - loss: 65.9843 - mean_absolute_error: 65.984 - ETA: 0s - loss: nan - mean_absolute_error: nan        - ETA: 0s - loss: nan - mean_absolute_error: na - ETA: 0s - loss: nan - mean_absolute_error: na - ETA: 0s - loss: nan - mean_absolute_error: na - 0s 14ms/step - loss: nan - mean_absolute_error: nan - val_loss: 63.4158 - val_mean_absolute_error: 63.4158\n",
      "Epoch 41/100\n",
      "28/28 [==============================] - ETA: 0s - loss: 60.5258 - mean_absolute_error: 60.525 - ETA: 0s - loss: 62.9638 - mean_absolute_error: 62.963 - ETA: 0s - loss: 61.3546 - mean_absolute_error: 61.354 - ETA: 0s - loss: 63.2899 - mean_absolute_error: 63.289 - ETA: 0s - loss: 64.2302 - mean_absolute_error: 64.230 - ETA: 0s - loss: 66.0563 - mean_absolute_error: 66.056 - ETA: 0s - loss: 66.2029 - mean_absolute_error: 66.202 - ETA: 0s - loss: nan - mean_absolute_error: nan        - 0s 18ms/step - loss: nan - mean_absolute_error: nan - val_loss: 64.9523 - val_mean_absolute_error: 64.9523\n",
      "Epoch 42/100\n",
      "28/28 [==============================] - ETA: 0s - loss: 73.0012 - mean_absolute_error: 73.001 - ETA: 0s - loss: 71.8310 - mean_absolute_error: 71.831 - ETA: 0s - loss: 69.2335 - mean_absolute_error: 69.233 - ETA: 0s - loss: 69.9236 - mean_absolute_error: 69.923 - ETA: 0s - loss: 69.9295 - mean_absolute_error: 69.929 - ETA: 0s - loss: nan - mean_absolute_error: nan        - ETA: 0s - loss: nan - mean_absolute_error: na - ETA: 0s - loss: nan - mean_absolute_error: na - 0s 17ms/step - loss: nan - mean_absolute_error: nan - val_loss: 64.9539 - val_mean_absolute_error: 64.9539\n",
      "Epoch 43/100\n",
      "28/28 [==============================] - ETA: 0s - loss: 67.5840 - mean_absolute_error: 67.584 - ETA: 0s - loss: 68.1478 - mean_absolute_error: 68.147 - ETA: 0s - loss: nan - mean_absolute_error: nan        - ETA: 0s - loss: nan - mean_absolute_error: na - ETA: 0s - loss: nan - mean_absolute_error: na - ETA: 0s - loss: nan - mean_absolute_error: na - 0s 14ms/step - loss: nan - mean_absolute_error: nan - val_loss: 63.5086 - val_mean_absolute_error: 63.5086\n",
      "Epoch 44/100\n",
      "28/28 [==============================] - ETA: 0s - loss: 64.3877 - mean_absolute_error: 64.387 - ETA: 0s - loss: 63.9380 - mean_absolute_error: 63.938 - ETA: 0s - loss: 68.5472 - mean_absolute_error: 68.547 - ETA: 0s - loss: 68.1993 - mean_absolute_error: 68.199 - ETA: 0s - loss: 68.4581 - mean_absolute_error: 68.458 - ETA: 0s - loss: 68.8691 - mean_absolute_error: 68.869 - ETA: 0s - loss: nan - mean_absolute_error: nan        - 0s 16ms/step - loss: nan - mean_absolute_error: nan - val_loss: 63.5885 - val_mean_absolute_error: 63.5885\n",
      "Epoch 45/100\n",
      "28/28 [==============================] - ETA: 0s - loss: 84.3329 - mean_absolute_error: 84.332 - ETA: 0s - loss: 73.0484 - mean_absolute_error: 73.048 - ETA: 0s - loss: nan - mean_absolute_error: nan        - ETA: 0s - loss: nan - mean_absolute_error: na - ETA: 0s - loss: nan - mean_absolute_error: na - ETA: 0s - loss: nan - mean_absolute_error: na - ETA: 0s - loss: nan - mean_absolute_error: na - ETA: 0s - loss: nan - mean_absolute_error: na - 0s 18ms/step - loss: nan - mean_absolute_error: nan - val_loss: 63.4067 - val_mean_absolute_error: 63.4067\n",
      "Epoch 46/100\n",
      "28/28 [==============================] - ETA: 0s - loss: 67.0711 - mean_absolute_error: 67.071 - ETA: 0s - loss: 63.2107 - mean_absolute_error: 63.210 - ETA: 0s - loss: 68.0645 - mean_absolute_error: 68.064 - ETA: 0s - loss: 65.9791 - mean_absolute_error: 65.979 - ETA: 0s - loss: 65.8543 - mean_absolute_error: 65.854 - ETA: 0s - loss: 67.3010 - mean_absolute_error: 67.301 - ETA: 0s - loss: nan - mean_absolute_error: nan        - ETA: 0s - loss: nan - mean_absolute_error: na - 0s 17ms/step - loss: nan - mean_absolute_error: nan - val_loss: 64.9192 - val_mean_absolute_error: 64.9192\n",
      "Epoch 47/100\n",
      "28/28 [==============================] - ETA: 0s - loss: 64.5509 - mean_absolute_error: 64.550 - ETA: 0s - loss: nan - mean_absolute_error: nan        - ETA: 0s - loss: nan - mean_absolute_error: na - ETA: 0s - loss: nan - mean_absolute_error: na - ETA: 0s - loss: nan - mean_absolute_error: na - ETA: 0s - loss: nan - mean_absolute_error: na - ETA: 0s - loss: nan - mean_absolute_error: na - ETA: 0s - loss: nan - mean_absolute_error: na - 0s 18ms/step - loss: nan - mean_absolute_error: nan - val_loss: 63.4737 - val_mean_absolute_error: 63.4737\n",
      "Epoch 48/100\n",
      "28/28 [==============================] - ETA: 0s - loss: 63.3414 - mean_absolute_error: 63.341 - ETA: 0s - loss: 67.9384 - mean_absolute_error: 67.938 - ETA: 0s - loss: 63.7412 - mean_absolute_error: 63.741 - ETA: 0s - loss: nan - mean_absolute_error: nan        - ETA: 0s - loss: nan - mean_absolute_error: na - ETA: 0s - loss: nan - mean_absolute_error: na - ETA: 0s - loss: nan - mean_absolute_error: na - 0s 15ms/step - loss: nan - mean_absolute_error: nan - val_loss: 63.7858 - val_mean_absolute_error: 63.7858\n",
      "Epoch 49/100\n",
      "28/28 [==============================] - ETA: 0s - loss: 65.2617 - mean_absolute_error: 65.261 - ETA: 0s - loss: 70.8008 - mean_absolute_error: 70.800 - ETA: 0s - loss: nan - mean_absolute_error: nan        - ETA: 0s - loss: nan - mean_absolute_error: na - ETA: 0s - loss: nan - mean_absolute_error: na - ETA: 0s - loss: nan - mean_absolute_error: na - ETA: 0s - loss: nan - mean_absolute_error: na - 0s 17ms/step - loss: nan - mean_absolute_error: nan - val_loss: 63.7369 - val_mean_absolute_error: 63.7369\n",
      "Epoch 50/100\n"
     ]
    },
    {
     "name": "stdout",
     "output_type": "stream",
     "text": [
      "28/28 [==============================] - ETA: 0s - loss: 55.3897 - mean_absolute_error: 55.389 - ETA: 0s - loss: 70.3698 - mean_absolute_error: 70.369 - ETA: 0s - loss: 65.0036 - mean_absolute_error: 65.003 - ETA: 0s - loss: 65.7101 - mean_absolute_error: 65.710 - ETA: 0s - loss: 63.6113 - mean_absolute_error: 63.611 - ETA: 0s - loss: nan - mean_absolute_error: nan        - ETA: 0s - loss: nan - mean_absolute_error: na - 0s 16ms/step - loss: nan - mean_absolute_error: nan - val_loss: 64.0021 - val_mean_absolute_error: 64.0021\n",
      "Epoch 51/100\n",
      "28/28 [==============================] - ETA: 0s - loss: 62.0123 - mean_absolute_error: 62.012 - ETA: 0s - loss: nan - mean_absolute_error: nan        - ETA: 0s - loss: nan - mean_absolute_error: na - ETA: 0s - loss: nan - mean_absolute_error: na - ETA: 0s - loss: nan - mean_absolute_error: na - ETA: 0s - loss: nan - mean_absolute_error: na - ETA: 0s - loss: nan - mean_absolute_error: na - 0s 16ms/step - loss: nan - mean_absolute_error: nan - val_loss: 63.4803 - val_mean_absolute_error: 63.4803\n",
      "Epoch 52/100\n",
      "28/28 [==============================] - ETA: 0s - loss: 68.6852 - mean_absolute_error: 68.685 - ETA: 0s - loss: 65.3210 - mean_absolute_error: 65.321 - ETA: 0s - loss: 66.3123 - mean_absolute_error: 66.312 - ETA: 0s - loss: 67.8079 - mean_absolute_error: 67.807 - ETA: 0s - loss: nan - mean_absolute_error: nan        - ETA: 0s - loss: nan - mean_absolute_error: na - ETA: 0s - loss: nan - mean_absolute_error: na - 0s 15ms/step - loss: nan - mean_absolute_error: nan - val_loss: 64.3572 - val_mean_absolute_error: 64.3572\n",
      "Epoch 53/100\n",
      "28/28 [==============================] - ETA: 0s - loss: 64.2571 - mean_absolute_error: 64.257 - ETA: 0s - loss: nan - mean_absolute_error: nan        - ETA: 0s - loss: nan - mean_absolute_error: na - ETA: 0s - loss: nan - mean_absolute_error: na - ETA: 0s - loss: nan - mean_absolute_error: na - ETA: 0s - loss: nan - mean_absolute_error: na - ETA: 0s - loss: nan - mean_absolute_error: na - ETA: 0s - loss: nan - mean_absolute_error: na - 0s 17ms/step - loss: nan - mean_absolute_error: nan - val_loss: 63.7383 - val_mean_absolute_error: 63.7383\n",
      "Epoch 54/100\n",
      "28/28 [==============================] - ETA: 0s - loss: 78.3045 - mean_absolute_error: 78.304 - ETA: 0s - loss: 63.6359 - mean_absolute_error: 63.635 - ETA: 0s - loss: 65.5097 - mean_absolute_error: 65.509 - ETA: 0s - loss: 67.2851 - mean_absolute_error: 67.285 - ETA: 0s - loss: 66.1055 - mean_absolute_error: 66.105 - ETA: 0s - loss: 66.3274 - mean_absolute_error: 66.327 - ETA: 0s - loss: nan - mean_absolute_error: nan        - 0s 15ms/step - loss: nan - mean_absolute_error: nan - val_loss: 64.1886 - val_mean_absolute_error: 64.1886\n",
      "Epoch 55/100\n",
      "28/28 [==============================] - ETA: 0s - loss: 78.4511 - mean_absolute_error: 78.451 - ETA: 0s - loss: 73.1313 - mean_absolute_error: 73.131 - ETA: 0s - loss: nan - mean_absolute_error: nan        - ETA: 0s - loss: nan - mean_absolute_error: na - ETA: 0s - loss: nan - mean_absolute_error: na - ETA: 0s - loss: nan - mean_absolute_error: na - ETA: 0s - loss: nan - mean_absolute_error: na - 0s 16ms/step - loss: nan - mean_absolute_error: nan - val_loss: 65.3153 - val_mean_absolute_error: 65.3153\n",
      "Epoch 56/100\n",
      "28/28 [==============================] - ETA: 0s - loss: 60.7919 - mean_absolute_error: 60.791 - ETA: 0s - loss: 67.0428 - mean_absolute_error: 67.042 - ETA: 0s - loss: 68.2771 - mean_absolute_error: 68.277 - ETA: 0s - loss: 65.3160 - mean_absolute_error: 65.316 - ETA: 0s - loss: 64.3329 - mean_absolute_error: 64.332 - ETA: 0s - loss: 66.0100 - mean_absolute_error: 66.010 - ETA: 0s - loss: 65.7881 - mean_absolute_error: 65.788 - ETA: 0s - loss: 66.7071 - mean_absolute_error: 66.707 - 0s 18ms/step - loss: nan - mean_absolute_error: nan - val_loss: 64.3129 - val_mean_absolute_error: 64.3129\n",
      "Epoch 57/100\n",
      "28/28 [==============================] - ETA: 0s - loss: 69.3886 - mean_absolute_error: 69.388 - ETA: 0s - loss: 62.1789 - mean_absolute_error: 62.178 - ETA: 0s - loss: nan - mean_absolute_error: nan        - ETA: 0s - loss: nan - mean_absolute_error: na - ETA: 0s - loss: nan - mean_absolute_error: na - ETA: 0s - loss: nan - mean_absolute_error: na - ETA: 0s - loss: nan - mean_absolute_error: na - ETA: 0s - loss: nan - mean_absolute_error: na - 0s 18ms/step - loss: nan - mean_absolute_error: nan - val_loss: 63.7339 - val_mean_absolute_error: 63.7339\n",
      "Epoch 58/100\n",
      "28/28 [==============================] - ETA: 0s - loss: 57.2096 - mean_absolute_error: 57.209 - ETA: 0s - loss: nan - mean_absolute_error: nan        - ETA: 0s - loss: nan - mean_absolute_error: na - ETA: 0s - loss: nan - mean_absolute_error: na - ETA: 0s - loss: nan - mean_absolute_error: na - ETA: 0s - loss: nan - mean_absolute_error: na - ETA: 0s - loss: nan - mean_absolute_error: na - ETA: 0s - loss: nan - mean_absolute_error: na - 0s 17ms/step - loss: nan - mean_absolute_error: nan - val_loss: 65.4574 - val_mean_absolute_error: 65.4574\n",
      "Epoch 59/100\n",
      "28/28 [==============================] - ETA: 0s - loss: nan - mean_absolute_error: na - ETA: 0s - loss: nan - mean_absolute_error: na - ETA: 0s - loss: nan - mean_absolute_error: na - ETA: 0s - loss: nan - mean_absolute_error: na - ETA: 0s - loss: nan - mean_absolute_error: na - ETA: 0s - loss: nan - mean_absolute_error: na - ETA: 0s - loss: nan - mean_absolute_error: na - ETA: 0s - loss: nan - mean_absolute_error: na - 0s 17ms/step - loss: nan - mean_absolute_error: nan - val_loss: 63.7734 - val_mean_absolute_error: 63.7734\n",
      "Epoch 60/100\n",
      "28/28 [==============================] - ETA: 0s - loss: 53.2457 - mean_absolute_error: 53.245 - ETA: 0s - loss: 63.4899 - mean_absolute_error: 63.489 - ETA: 0s - loss: 67.9968 - mean_absolute_error: 67.996 - ETA: 0s - loss: 67.1875 - mean_absolute_error: 67.187 - ETA: 0s - loss: 67.9880 - mean_absolute_error: 67.988 - ETA: 0s - loss: nan - mean_absolute_error: nan        - ETA: 0s - loss: nan - mean_absolute_error: na - 0s 16ms/step - loss: nan - mean_absolute_error: nan - val_loss: 63.4808 - val_mean_absolute_error: 63.4808\n",
      "Epoch 61/100\n",
      "28/28 [==============================] - ETA: 0s - loss: 63.4339 - mean_absolute_error: 63.433 - ETA: 0s - loss: nan - mean_absolute_error: nan        - ETA: 0s - loss: nan - mean_absolute_error: na - ETA: 0s - loss: nan - mean_absolute_error: na - ETA: 0s - loss: nan - mean_absolute_error: na - ETA: 0s - loss: nan - mean_absolute_error: na - ETA: 0s - loss: nan - mean_absolute_error: na - 0s 16ms/step - loss: nan - mean_absolute_error: nan - val_loss: 65.4230 - val_mean_absolute_error: 65.4230\n",
      "Epoch 62/100\n",
      "28/28 [==============================] - ETA: 0s - loss: nan - mean_absolute_error: na - ETA: 0s - loss: nan - mean_absolute_error: na - ETA: 0s - loss: nan - mean_absolute_error: na - ETA: 0s - loss: nan - mean_absolute_error: na - ETA: 0s - loss: nan - mean_absolute_error: na - ETA: 0s - loss: nan - mean_absolute_error: na - ETA: 0s - loss: nan - mean_absolute_error: na - 0s 17ms/step - loss: nan - mean_absolute_error: nan - val_loss: 63.4700 - val_mean_absolute_error: 63.4700\n",
      "Epoch 63/100\n",
      "28/28 [==============================] - ETA: 0s - loss: 53.0511 - mean_absolute_error: 53.051 - ETA: 0s - loss: nan - mean_absolute_error: nan        - ETA: 0s - loss: nan - mean_absolute_error: na - ETA: 0s - loss: nan - mean_absolute_error: na - ETA: 0s - loss: nan - mean_absolute_error: na - ETA: 0s - loss: nan - mean_absolute_error: na - ETA: 0s - loss: nan - mean_absolute_error: na - 0s 16ms/step - loss: nan - mean_absolute_error: nan - val_loss: 64.1944 - val_mean_absolute_error: 64.1944\n",
      "Epoch 64/100\n",
      "28/28 [==============================] - ETA: 0s - loss: 65.0231 - mean_absolute_error: 65.023 - ETA: 0s - loss: 60.6257 - mean_absolute_error: 60.625 - ETA: 0s - loss: 64.2542 - mean_absolute_error: 64.254 - ETA: 0s - loss: 63.2691 - mean_absolute_error: 63.269 - ETA: 0s - loss: 64.0959 - mean_absolute_error: 64.095 - ETA: 0s - loss: nan - mean_absolute_error: nan        - ETA: 0s - loss: nan - mean_absolute_error: na - 0s 16ms/step - loss: nan - mean_absolute_error: nan - val_loss: 65.8560 - val_mean_absolute_error: 65.8560\n",
      "Epoch 65/100\n"
     ]
    },
    {
     "name": "stdout",
     "output_type": "stream",
     "text": [
      "28/28 [==============================] - ETA: 0s - loss: 53.5336 - mean_absolute_error: 53.533 - ETA: 0s - loss: 66.6932 - mean_absolute_error: 66.693 - ETA: 0s - loss: 66.5327 - mean_absolute_error: 66.532 - ETA: 0s - loss: 65.7906 - mean_absolute_error: 65.790 - ETA: 0s - loss: nan - mean_absolute_error: nan        - ETA: 0s - loss: nan - mean_absolute_error: na - ETA: 0s - loss: nan - mean_absolute_error: na - 0s 16ms/step - loss: nan - mean_absolute_error: nan - val_loss: 63.7336 - val_mean_absolute_error: 63.7336\n",
      "Epoch 66/100\n",
      "28/28 [==============================] - ETA: 0s - loss: 74.0413 - mean_absolute_error: 74.041 - ETA: 0s - loss: 63.6365 - mean_absolute_error: 63.636 - ETA: 0s - loss: 68.4538 - mean_absolute_error: 68.453 - ETA: 0s - loss: 70.5209 - mean_absolute_error: 70.520 - ETA: 0s - loss: 68.1901 - mean_absolute_error: 68.190 - ETA: 0s - loss: nan - mean_absolute_error: nan        - ETA: 0s - loss: nan - mean_absolute_error: na - 0s 15ms/step - loss: nan - mean_absolute_error: nan - val_loss: 63.5528 - val_mean_absolute_error: 63.5528\n",
      "Epoch 67/100\n",
      "28/28 [==============================] - ETA: 0s - loss: 49.9933 - mean_absolute_error: 49.993 - ETA: 0s - loss: 62.9240 - mean_absolute_error: 62.924 - ETA: 0s - loss: 65.4498 - mean_absolute_error: 65.449 - ETA: 0s - loss: nan - mean_absolute_error: nan        - ETA: 0s - loss: nan - mean_absolute_error: na - ETA: 0s - loss: nan - mean_absolute_error: na - ETA: 0s - loss: nan - mean_absolute_error: na - ETA: 0s - loss: nan - mean_absolute_error: na - 0s 17ms/step - loss: nan - mean_absolute_error: nan - val_loss: 64.0639 - val_mean_absolute_error: 64.0639\n",
      "Epoch 68/100\n",
      "28/28 [==============================] - ETA: 0s - loss: 54.2981 - mean_absolute_error: 54.298 - ETA: 0s - loss: 60.3249 - mean_absolute_error: 60.324 - ETA: 0s - loss: 63.5675 - mean_absolute_error: 63.567 - ETA: 0s - loss: 65.7726 - mean_absolute_error: 65.772 - ETA: 0s - loss: 65.7802 - mean_absolute_error: 65.780 - ETA: 0s - loss: nan - mean_absolute_error: nan        - ETA: 0s - loss: nan - mean_absolute_error: na - ETA: 0s - loss: nan - mean_absolute_error: na - 0s 17ms/step - loss: nan - mean_absolute_error: nan - val_loss: 64.3329 - val_mean_absolute_error: 64.3329\n",
      "Epoch 69/100\n",
      "28/28 [==============================] - ETA: 0s - loss: 84.7905 - mean_absolute_error: 84.790 - ETA: 0s - loss: 70.7663 - mean_absolute_error: 70.766 - ETA: 0s - loss: nan - mean_absolute_error: nan        - ETA: 0s - loss: nan - mean_absolute_error: na - ETA: 0s - loss: nan - mean_absolute_error: na - ETA: 0s - loss: nan - mean_absolute_error: na - ETA: 0s - loss: nan - mean_absolute_error: na - 0s 16ms/step - loss: nan - mean_absolute_error: nan - val_loss: 64.3566 - val_mean_absolute_error: 64.3566\n",
      "Epoch 70/100\n",
      "28/28 [==============================] - ETA: 0s - loss: 51.1753 - mean_absolute_error: 51.175 - ETA: 0s - loss: nan - mean_absolute_error: nan        - ETA: 0s - loss: nan - mean_absolute_error: na - ETA: 0s - loss: nan - mean_absolute_error: na - ETA: 0s - loss: nan - mean_absolute_error: na - ETA: 0s - loss: nan - mean_absolute_error: na - ETA: 0s - loss: nan - mean_absolute_error: na - 0s 17ms/step - loss: nan - mean_absolute_error: nan - val_loss: 63.5019 - val_mean_absolute_error: 63.5019\n",
      "Epoch 71/100\n",
      "28/28 [==============================] - ETA: 0s - loss: 59.2324 - mean_absolute_error: 59.232 - ETA: 0s - loss: nan - mean_absolute_error: nan        - ETA: 0s - loss: nan - mean_absolute_error: na - ETA: 0s - loss: nan - mean_absolute_error: na - ETA: 0s - loss: nan - mean_absolute_error: na - ETA: 0s - loss: nan - mean_absolute_error: na - ETA: 0s - loss: nan - mean_absolute_error: na - 0s 15ms/step - loss: nan - mean_absolute_error: nan - val_loss: 63.4086 - val_mean_absolute_error: 63.4086\n",
      "Epoch 72/100\n",
      "28/28 [==============================] - ETA: 0s - loss: 54.6972 - mean_absolute_error: 54.697 - ETA: 0s - loss: 66.4378 - mean_absolute_error: 66.437 - ETA: 0s - loss: 68.8253 - mean_absolute_error: 68.825 - ETA: 0s - loss: nan - mean_absolute_error: nan        - ETA: 0s - loss: nan - mean_absolute_error: na - ETA: 0s - loss: nan - mean_absolute_error: na - ETA: 0s - loss: nan - mean_absolute_error: na - 0s 17ms/step - loss: nan - mean_absolute_error: nan - val_loss: 63.4911 - val_mean_absolute_error: 63.4911\n",
      "Epoch 73/100\n",
      "28/28 [==============================] - ETA: 0s - loss: 49.5697 - mean_absolute_error: 49.569 - ETA: 0s - loss: nan - mean_absolute_error: nan        - ETA: 0s - loss: nan - mean_absolute_error: na - ETA: 0s - loss: nan - mean_absolute_error: na - ETA: 0s - loss: nan - mean_absolute_error: na - ETA: 0s - loss: nan - mean_absolute_error: na - ETA: 0s - loss: nan - mean_absolute_error: na - 0s 16ms/step - loss: nan - mean_absolute_error: nan - val_loss: 63.4536 - val_mean_absolute_error: 63.4536\n",
      "Epoch 74/100\n",
      "28/28 [==============================] - ETA: 0s - loss: 61.0605 - mean_absolute_error: 61.060 - ETA: 0s - loss: 72.0968 - mean_absolute_error: 72.096 - ETA: 0s - loss: 63.6924 - mean_absolute_error: 63.692 - ETA: 0s - loss: 68.2644 - mean_absolute_error: 68.264 - ETA: 0s - loss: nan - mean_absolute_error: nan        - ETA: 0s - loss: nan - mean_absolute_error: na - ETA: 0s - loss: nan - mean_absolute_error: na - 0s 16ms/step - loss: nan - mean_absolute_error: nan - val_loss: 63.4184 - val_mean_absolute_error: 63.4184\n",
      "Epoch 75/100\n",
      "28/28 [==============================] - ETA: 0s - loss: 66.3812 - mean_absolute_error: 66.381 - ETA: 0s - loss: 68.9839 - mean_absolute_error: 68.983 - ETA: 0s - loss: nan - mean_absolute_error: nan        - ETA: 0s - loss: nan - mean_absolute_error: na - ETA: 0s - loss: nan - mean_absolute_error: na - ETA: 0s - loss: nan - mean_absolute_error: na - ETA: 0s - loss: nan - mean_absolute_error: na - 0s 17ms/step - loss: nan - mean_absolute_error: nan - val_loss: 63.9885 - val_mean_absolute_error: 63.9885\n",
      "Epoch 76/100\n",
      "28/28 [==============================] - ETA: 0s - loss: 55.6792 - mean_absolute_error: 55.679 - ETA: 0s - loss: nan - mean_absolute_error: nan        - ETA: 0s - loss: nan - mean_absolute_error: na - ETA: 0s - loss: nan - mean_absolute_error: na - ETA: 0s - loss: nan - mean_absolute_error: na - ETA: 0s - loss: nan - mean_absolute_error: na - ETA: 0s - loss: nan - mean_absolute_error: na - 0s 17ms/step - loss: nan - mean_absolute_error: nan - val_loss: 64.3965 - val_mean_absolute_error: 64.3965\n",
      "Epoch 77/100\n",
      "28/28 [==============================] - ETA: 0s - loss: 58.0426 - mean_absolute_error: 58.042 - ETA: 0s - loss: nan - mean_absolute_error: nan        - ETA: 0s - loss: nan - mean_absolute_error: na - ETA: 0s - loss: nan - mean_absolute_error: na - ETA: 0s - loss: nan - mean_absolute_error: na - ETA: 0s - loss: nan - mean_absolute_error: na - ETA: 0s - loss: nan - mean_absolute_error: na - 0s 16ms/step - loss: nan - mean_absolute_error: nan - val_loss: 63.7648 - val_mean_absolute_error: 63.7648\n",
      "Epoch 78/100\n",
      "28/28 [==============================] - ETA: 0s - loss: 55.3132 - mean_absolute_error: 55.313 - ETA: 0s - loss: 59.0710 - mean_absolute_error: 59.071 - ETA: 0s - loss: 64.0702 - mean_absolute_error: 64.070 - ETA: 0s - loss: 67.0408 - mean_absolute_error: 67.040 - ETA: 0s - loss: 68.1660 - mean_absolute_error: 68.166 - ETA: 0s - loss: 67.0496 - mean_absolute_error: 67.049 - ETA: 0s - loss: 66.5205 - mean_absolute_error: 66.520 - ETA: 0s - loss: nan - mean_absolute_error: nan        - 0s 17ms/step - loss: nan - mean_absolute_error: nan - val_loss: 63.8515 - val_mean_absolute_error: 63.8515\n",
      "Epoch 79/100\n",
      "28/28 [==============================] - ETA: 0s - loss: 67.8642 - mean_absolute_error: 67.864 - ETA: 0s - loss: 63.7287 - mean_absolute_error: 63.728 - ETA: 0s - loss: 65.7138 - mean_absolute_error: 65.713 - ETA: 0s - loss: 65.7233 - mean_absolute_error: 65.723 - ETA: 0s - loss: 66.0304 - mean_absolute_error: 66.030 - ETA: 0s - loss: 66.7704 - mean_absolute_error: 66.770 - ETA: 0s - loss: nan - mean_absolute_error: nan        - ETA: 0s - loss: nan - mean_absolute_error: na - 0s 17ms/step - loss: nan - mean_absolute_error: nan - val_loss: 63.4866 - val_mean_absolute_error: 63.4866\n",
      "Epoch 80/100\n"
     ]
    },
    {
     "name": "stdout",
     "output_type": "stream",
     "text": [
      "28/28 [==============================] - ETA: 0s - loss: 76.4438 - mean_absolute_error: 76.443 - ETA: 0s - loss: nan - mean_absolute_error: nan        - ETA: 0s - loss: nan - mean_absolute_error: na - ETA: 0s - loss: nan - mean_absolute_error: na - ETA: 0s - loss: nan - mean_absolute_error: na - ETA: 0s - loss: nan - mean_absolute_error: na - ETA: 0s - loss: nan - mean_absolute_error: na - ETA: 0s - loss: nan - mean_absolute_error: na - 0s 17ms/step - loss: nan - mean_absolute_error: nan - val_loss: 67.8786 - val_mean_absolute_error: 67.8786\n",
      "Epoch 81/100\n",
      "28/28 [==============================] - ETA: 0s - loss: 80.8531 - mean_absolute_error: 80.853 - ETA: 0s - loss: 67.9172 - mean_absolute_error: 67.917 - ETA: 0s - loss: 68.8895 - mean_absolute_error: 68.889 - ETA: 0s - loss: 66.8233 - mean_absolute_error: 66.823 - ETA: 0s - loss: nan - mean_absolute_error: nan        - ETA: 0s - loss: nan - mean_absolute_error: na - ETA: 0s - loss: nan - mean_absolute_error: na - 0s 16ms/step - loss: nan - mean_absolute_error: nan - val_loss: 64.3779 - val_mean_absolute_error: 64.3779\n",
      "Epoch 82/100\n",
      "28/28 [==============================] - ETA: 0s - loss: 53.7904 - mean_absolute_error: 53.790 - ETA: 0s - loss: 66.6310 - mean_absolute_error: 66.631 - ETA: 0s - loss: 64.4186 - mean_absolute_error: 64.418 - ETA: 0s - loss: 63.2630 - mean_absolute_error: 63.263 - ETA: 0s - loss: 64.3239 - mean_absolute_error: 64.323 - ETA: 0s - loss: nan - mean_absolute_error: nan        - ETA: 0s - loss: nan - mean_absolute_error: na - 0s 16ms/step - loss: nan - mean_absolute_error: nan - val_loss: 64.5675 - val_mean_absolute_error: 64.5675\n",
      "Epoch 83/100\n",
      "28/28 [==============================] - ETA: 0s - loss: 66.5227 - mean_absolute_error: 66.522 - ETA: 0s - loss: nan - mean_absolute_error: nan        - ETA: 0s - loss: nan - mean_absolute_error: na - ETA: 0s - loss: nan - mean_absolute_error: na - ETA: 0s - loss: nan - mean_absolute_error: na - ETA: 0s - loss: nan - mean_absolute_error: na - ETA: 0s - loss: nan - mean_absolute_error: na - 0s 15ms/step - loss: nan - mean_absolute_error: nan - val_loss: 63.5696 - val_mean_absolute_error: 63.5696\n",
      "Epoch 84/100\n",
      "28/28 [==============================] - ETA: 0s - loss: 64.4876 - mean_absolute_error: 64.487 - ETA: 0s - loss: 64.0265 - mean_absolute_error: 64.026 - ETA: 0s - loss: 67.9884 - mean_absolute_error: 67.988 - ETA: 0s - loss: 67.7805 - mean_absolute_error: 67.780 - ETA: 0s - loss: nan - mean_absolute_error: nan        - ETA: 0s - loss: nan - mean_absolute_error: na - ETA: 0s - loss: nan - mean_absolute_error: na - ETA: 0s - loss: nan - mean_absolute_error: na - 1s 18ms/step - loss: nan - mean_absolute_error: nan - val_loss: 64.0941 - val_mean_absolute_error: 64.0941\n",
      "Epoch 85/100\n",
      "28/28 [==============================] - ETA: 0s - loss: 83.9438 - mean_absolute_error: 83.943 - ETA: 0s - loss: 66.5506 - mean_absolute_error: 66.550 - ETA: 0s - loss: 65.9357 - mean_absolute_error: 65.935 - ETA: 0s - loss: 66.9255 - mean_absolute_error: 66.925 - ETA: 0s - loss: nan - mean_absolute_error: nan        - ETA: 0s - loss: nan - mean_absolute_error: na - ETA: 0s - loss: nan - mean_absolute_error: na - 0s 16ms/step - loss: nan - mean_absolute_error: nan - val_loss: 64.7691 - val_mean_absolute_error: 64.7691\n",
      "Epoch 86/100\n",
      "28/28 [==============================] - ETA: 0s - loss: 65.7708 - mean_absolute_error: 65.770 - ETA: 0s - loss: 69.1483 - mean_absolute_error: 69.148 - ETA: 0s - loss: 62.9775 - mean_absolute_error: 62.977 - ETA: 0s - loss: 64.2749 - mean_absolute_error: 64.274 - ETA: 0s - loss: 65.5061 - mean_absolute_error: 65.506 - ETA: 0s - loss: nan - mean_absolute_error: nan        - ETA: 0s - loss: nan - mean_absolute_error: na - 0s 15ms/step - loss: nan - mean_absolute_error: nan - val_loss: 66.8073 - val_mean_absolute_error: 66.8073\n",
      "Epoch 87/100\n",
      "28/28 [==============================] - ETA: 0s - loss: 73.6070 - mean_absolute_error: 73.607 - ETA: 0s - loss: 67.0747 - mean_absolute_error: 67.074 - ETA: 0s - loss: 67.8006 - mean_absolute_error: 67.800 - ETA: 0s - loss: 67.9319 - mean_absolute_error: 67.931 - ETA: 0s - loss: nan - mean_absolute_error: nan        - ETA: 0s - loss: nan - mean_absolute_error: na - ETA: 0s - loss: nan - mean_absolute_error: na - 0s 17ms/step - loss: nan - mean_absolute_error: nan - val_loss: 63.7163 - val_mean_absolute_error: 63.7163\n",
      "Epoch 88/100\n",
      "28/28 [==============================] - ETA: 0s - loss: 58.3006 - mean_absolute_error: 58.300 - ETA: 0s - loss: 62.6046 - mean_absolute_error: 62.604 - ETA: 0s - loss: 67.7169 - mean_absolute_error: 67.716 - ETA: 0s - loss: 67.8635 - mean_absolute_error: 67.863 - ETA: 0s - loss: nan - mean_absolute_error: nan        - ETA: 0s - loss: nan - mean_absolute_error: na - 0s 15ms/step - loss: nan - mean_absolute_error: nan - val_loss: 63.5725 - val_mean_absolute_error: 63.5725\n",
      "Epoch 89/100\n",
      "28/28 [==============================] - ETA: 0s - loss: 69.3870 - mean_absolute_error: 69.387 - ETA: 0s - loss: 64.1304 - mean_absolute_error: 64.130 - ETA: 0s - loss: 62.9190 - mean_absolute_error: 62.919 - ETA: 0s - loss: nan - mean_absolute_error: nan        - ETA: 0s - loss: nan - mean_absolute_error: na - ETA: 0s - loss: nan - mean_absolute_error: na - ETA: 0s - loss: nan - mean_absolute_error: na - ETA: 0s - loss: nan - mean_absolute_error: na - ETA: 0s - loss: nan - mean_absolute_error: na - 1s 19ms/step - loss: nan - mean_absolute_error: nan - val_loss: 63.6324 - val_mean_absolute_error: 63.6324\n",
      "Epoch 90/100\n",
      "28/28 [==============================] - ETA: 0s - loss: 79.2376 - mean_absolute_error: 79.237 - ETA: 0s - loss: 64.6505 - mean_absolute_error: 64.650 - ETA: 0s - loss: 66.4027 - mean_absolute_error: 66.402 - ETA: 0s - loss: 63.8962 - mean_absolute_error: 63.896 - ETA: 0s - loss: nan - mean_absolute_error: nan        - ETA: 0s - loss: nan - mean_absolute_error: na - 0s 14ms/step - loss: nan - mean_absolute_error: nan - val_loss: 64.1713 - val_mean_absolute_error: 64.1713\n",
      "Epoch 91/100\n",
      "28/28 [==============================] - ETA: 0s - loss: 65.0169 - mean_absolute_error: 65.016 - ETA: 0s - loss: nan - mean_absolute_error: nan        - ETA: 0s - loss: nan - mean_absolute_error: na - ETA: 0s - loss: nan - mean_absolute_error: na - ETA: 0s - loss: nan - mean_absolute_error: na - ETA: 0s - loss: nan - mean_absolute_error: na - ETA: 0s - loss: nan - mean_absolute_error: na - ETA: 0s - loss: nan - mean_absolute_error: na - 1s 18ms/step - loss: nan - mean_absolute_error: nan - val_loss: 63.5526 - val_mean_absolute_error: 63.5526\n",
      "Epoch 92/100\n",
      "28/28 [==============================] - ETA: 0s - loss: 67.9989 - mean_absolute_error: 67.998 - ETA: 0s - loss: 67.9114 - mean_absolute_error: 67.911 - ETA: 0s - loss: 65.1261 - mean_absolute_error: 65.126 - ETA: 0s - loss: 65.7836 - mean_absolute_error: 65.783 - ETA: 0s - loss: 65.5255 - mean_absolute_error: 65.525 - ETA: 0s - loss: nan - mean_absolute_error: nan        - 0s 14ms/step - loss: nan - mean_absolute_error: nan - val_loss: 63.9636 - val_mean_absolute_error: 63.9636\n",
      "Epoch 93/100\n",
      "28/28 [==============================] - ETA: 0s - loss: 75.8553 - mean_absolute_error: 75.855 - ETA: 0s - loss: 64.7119 - mean_absolute_error: 64.711 - ETA: 0s - loss: nan - mean_absolute_error: nan        - ETA: 0s - loss: nan - mean_absolute_error: na - ETA: 0s - loss: nan - mean_absolute_error: na - ETA: 0s - loss: nan - mean_absolute_error: na - ETA: 0s - loss: nan - mean_absolute_error: na - ETA: 0s - loss: nan - mean_absolute_error: na - ETA: 0s - loss: nan - mean_absolute_error: na - 1s 20ms/step - loss: nan - mean_absolute_error: nan - val_loss: 63.7286 - val_mean_absolute_error: 63.7286\n",
      "Epoch 94/100\n",
      "28/28 [==============================] - ETA: 0s - loss: 70.2799 - mean_absolute_error: 70.279 - ETA: 0s - loss: 68.3866 - mean_absolute_error: 68.386 - ETA: 0s - loss: 65.4008 - mean_absolute_error: 65.400 - ETA: 0s - loss: 69.7016 - mean_absolute_error: 69.701 - ETA: 0s - loss: 67.0829 - mean_absolute_error: 67.082 - ETA: 0s - loss: 67.6523 - mean_absolute_error: 67.652 - ETA: 0s - loss: 67.2953 - mean_absolute_error: 67.295 - ETA: 0s - loss: nan - mean_absolute_error: nan        - 0s 17ms/step - loss: nan - mean_absolute_error: nan - val_loss: 64.6973 - val_mean_absolute_error: 64.6973\n"
     ]
    },
    {
     "name": "stdout",
     "output_type": "stream",
     "text": [
      "Epoch 95/100\n",
      "28/28 [==============================] - ETA: 0s - loss: 64.1862 - mean_absolute_error: 64.186 - ETA: 0s - loss: 65.8140 - mean_absolute_error: 65.814 - ETA: 0s - loss: 66.2438 - mean_absolute_error: 66.243 - ETA: 0s - loss: 66.4600 - mean_absolute_error: 66.460 - ETA: 0s - loss: nan - mean_absolute_error: nan        - ETA: 0s - loss: nan - mean_absolute_error: na - 0s 14ms/step - loss: nan - mean_absolute_error: nan - val_loss: 64.1479 - val_mean_absolute_error: 64.1479\n",
      "Epoch 96/100\n",
      "28/28 [==============================] - ETA: 0s - loss: 81.4204 - mean_absolute_error: 81.420 - ETA: 0s - loss: 71.7339 - mean_absolute_error: 71.733 - ETA: 0s - loss: 67.7903 - mean_absolute_error: 67.790 - ETA: 0s - loss: nan - mean_absolute_error: nan        - ETA: 0s - loss: nan - mean_absolute_error: na - ETA: 0s - loss: nan - mean_absolute_error: na - ETA: 0s - loss: nan - mean_absolute_error: na - 0s 17ms/step - loss: nan - mean_absolute_error: nan - val_loss: 63.6046 - val_mean_absolute_error: 63.6046\n",
      "Epoch 97/100\n",
      "28/28 [==============================] - ETA: 0s - loss: 56.1928 - mean_absolute_error: 56.192 - ETA: 0s - loss: nan - mean_absolute_error: nan        - ETA: 0s - loss: nan - mean_absolute_error: na - ETA: 0s - loss: nan - mean_absolute_error: na - ETA: 0s - loss: nan - mean_absolute_error: na - ETA: 0s - loss: nan - mean_absolute_error: na - ETA: 0s - loss: nan - mean_absolute_error: na - 0s 15ms/step - loss: nan - mean_absolute_error: nan - val_loss: 63.4836 - val_mean_absolute_error: 63.4836\n",
      "Epoch 98/100\n",
      "28/28 [==============================] - ETA: 0s - loss: 61.1068 - mean_absolute_error: 61.106 - ETA: 0s - loss: 61.2998 - mean_absolute_error: 61.299 - ETA: 0s - loss: 64.2981 - mean_absolute_error: 64.298 - ETA: 0s - loss: 64.0791 - mean_absolute_error: 64.079 - ETA: 0s - loss: 65.2201 - mean_absolute_error: 65.220 - ETA: 0s - loss: nan - mean_absolute_error: nan        - ETA: 0s - loss: nan - mean_absolute_error: na - 0s 16ms/step - loss: nan - mean_absolute_error: nan - val_loss: 63.4107 - val_mean_absolute_error: 63.4107\n",
      "Epoch 99/100\n",
      "28/28 [==============================] - ETA: 0s - loss: 69.9995 - mean_absolute_error: 69.999 - ETA: 0s - loss: 64.5093 - mean_absolute_error: 64.509 - ETA: 0s - loss: 70.6700 - mean_absolute_error: 70.670 - ETA: 0s - loss: 67.1186 - mean_absolute_error: 67.118 - ETA: 0s - loss: 65.6348 - mean_absolute_error: 65.634 - ETA: 0s - loss: 65.7521 - mean_absolute_error: 65.752 - ETA: 0s - loss: 67.3506 - mean_absolute_error: 67.350 - ETA: 0s - loss: nan - mean_absolute_error: nan        - ETA: 0s - loss: nan - mean_absolute_error: na - 1s 19ms/step - loss: nan - mean_absolute_error: nan - val_loss: 64.3282 - val_mean_absolute_error: 64.3282\n",
      "Epoch 100/100\n",
      "28/28 [==============================] - ETA: 0s - loss: 75.8232 - mean_absolute_error: 75.823 - ETA: 0s - loss: 61.6299 - mean_absolute_error: 61.629 - ETA: 0s - loss: 61.0709 - mean_absolute_error: 61.070 - ETA: 0s - loss: nan - mean_absolute_error: nan        - ETA: 0s - loss: nan - mean_absolute_error: na - ETA: 0s - loss: nan - mean_absolute_error: na - ETA: 0s - loss: nan - mean_absolute_error: na - ETA: 0s - loss: nan - mean_absolute_error: na - 0s 17ms/step - loss: nan - mean_absolute_error: nan - val_loss: 64.3714 - val_mean_absolute_error: 64.3714\n"
     ]
    },
    {
     "data": {
      "text/html": [
       "<span style=\"color:#4527A0\"><h1 style=\"font-size:18px\">Trial complete</h1></span>"
      ],
      "text/plain": [
       "<IPython.core.display.HTML object>"
      ]
     },
     "metadata": {},
     "output_type": "display_data"
    },
    {
     "data": {
      "text/html": [
       "<span style=\"color:#4527A0\"><h1 style=\"font-size:18px\">Trial summary</h1></span>"
      ],
      "text/plain": [
       "<IPython.core.display.HTML object>"
      ]
     },
     "metadata": {},
     "output_type": "display_data"
    },
    {
     "data": {
      "text/html": [
       "<span style=\"color:cyan\"> |-Trial ID: 34047fc8424c9cf700cff10e28c6c894</span>"
      ],
      "text/plain": [
       "<IPython.core.display.HTML object>"
      ]
     },
     "metadata": {},
     "output_type": "display_data"
    },
    {
     "data": {
      "text/html": [
       "<span style=\"color:cyan\"> |-Score: 63.40670267740885</span>"
      ],
      "text/plain": [
       "<IPython.core.display.HTML object>"
      ]
     },
     "metadata": {},
     "output_type": "display_data"
    },
    {
     "data": {
      "text/html": [
       "<span style=\"color:cyan\"> |-Best step: 0</span>"
      ],
      "text/plain": [
       "<IPython.core.display.HTML object>"
      ]
     },
     "metadata": {},
     "output_type": "display_data"
    },
    {
     "data": {
      "text/html": [
       "<span style=\"color:#7E57C2\"><h2 style=\"font-size:16px\">Hyperparameters:</h2></span>"
      ],
      "text/plain": [
       "<IPython.core.display.HTML object>"
      ]
     },
     "metadata": {},
     "output_type": "display_data"
    },
    {
     "data": {
      "text/html": [
       "<span style=\"color:cyan\"> |-learning_rate: 0.01</span>"
      ],
      "text/plain": [
       "<IPython.core.display.HTML object>"
      ]
     },
     "metadata": {},
     "output_type": "display_data"
    },
    {
     "data": {
      "text/html": [
       "<span style=\"color:blue\"> |-num_layers: 18</span>"
      ],
      "text/plain": [
       "<IPython.core.display.HTML object>"
      ]
     },
     "metadata": {},
     "output_type": "display_data"
    },
    {
     "data": {
      "text/html": [
       "<span style=\"color:cyan\"> |-units_0: 320</span>"
      ],
      "text/plain": [
       "<IPython.core.display.HTML object>"
      ]
     },
     "metadata": {},
     "output_type": "display_data"
    },
    {
     "data": {
      "text/html": [
       "<span style=\"color:blue\"> |-units_1: 64</span>"
      ],
      "text/plain": [
       "<IPython.core.display.HTML object>"
      ]
     },
     "metadata": {},
     "output_type": "display_data"
    },
    {
     "data": {
      "text/html": [
       "<span style=\"color:cyan\"> |-units_10: 160</span>"
      ],
      "text/plain": [
       "<IPython.core.display.HTML object>"
      ]
     },
     "metadata": {},
     "output_type": "display_data"
    },
    {
     "data": {
      "text/html": [
       "<span style=\"color:blue\"> |-units_11: 384</span>"
      ],
      "text/plain": [
       "<IPython.core.display.HTML object>"
      ]
     },
     "metadata": {},
     "output_type": "display_data"
    },
    {
     "data": {
      "text/html": [
       "<span style=\"color:cyan\"> |-units_12: 320</span>"
      ],
      "text/plain": [
       "<IPython.core.display.HTML object>"
      ]
     },
     "metadata": {},
     "output_type": "display_data"
    },
    {
     "data": {
      "text/html": [
       "<span style=\"color:blue\"> |-units_13: 320</span>"
      ],
      "text/plain": [
       "<IPython.core.display.HTML object>"
      ]
     },
     "metadata": {},
     "output_type": "display_data"
    },
    {
     "data": {
      "text/html": [
       "<span style=\"color:cyan\"> |-units_14: 512</span>"
      ],
      "text/plain": [
       "<IPython.core.display.HTML object>"
      ]
     },
     "metadata": {},
     "output_type": "display_data"
    },
    {
     "data": {
      "text/html": [
       "<span style=\"color:blue\"> |-units_15: 416</span>"
      ],
      "text/plain": [
       "<IPython.core.display.HTML object>"
      ]
     },
     "metadata": {},
     "output_type": "display_data"
    },
    {
     "data": {
      "text/html": [
       "<span style=\"color:cyan\"> |-units_16: 416</span>"
      ],
      "text/plain": [
       "<IPython.core.display.HTML object>"
      ]
     },
     "metadata": {},
     "output_type": "display_data"
    },
    {
     "data": {
      "text/html": [
       "<span style=\"color:blue\"> |-units_17: 96</span>"
      ],
      "text/plain": [
       "<IPython.core.display.HTML object>"
      ]
     },
     "metadata": {},
     "output_type": "display_data"
    },
    {
     "data": {
      "text/html": [
       "<span style=\"color:cyan\"> |-units_18: 128</span>"
      ],
      "text/plain": [
       "<IPython.core.display.HTML object>"
      ]
     },
     "metadata": {},
     "output_type": "display_data"
    },
    {
     "data": {
      "text/html": [
       "<span style=\"color:blue\"> |-units_19: 160</span>"
      ],
      "text/plain": [
       "<IPython.core.display.HTML object>"
      ]
     },
     "metadata": {},
     "output_type": "display_data"
    },
    {
     "data": {
      "text/html": [
       "<span style=\"color:cyan\"> |-units_2: 416</span>"
      ],
      "text/plain": [
       "<IPython.core.display.HTML object>"
      ]
     },
     "metadata": {},
     "output_type": "display_data"
    },
    {
     "data": {
      "text/html": [
       "<span style=\"color:blue\"> |-units_3: 160</span>"
      ],
      "text/plain": [
       "<IPython.core.display.HTML object>"
      ]
     },
     "metadata": {},
     "output_type": "display_data"
    },
    {
     "data": {
      "text/html": [
       "<span style=\"color:cyan\"> |-units_4: 192</span>"
      ],
      "text/plain": [
       "<IPython.core.display.HTML object>"
      ]
     },
     "metadata": {},
     "output_type": "display_data"
    },
    {
     "data": {
      "text/html": [
       "<span style=\"color:blue\"> |-units_5: 64</span>"
      ],
      "text/plain": [
       "<IPython.core.display.HTML object>"
      ]
     },
     "metadata": {},
     "output_type": "display_data"
    },
    {
     "data": {
      "text/html": [
       "<span style=\"color:cyan\"> |-units_6: 512</span>"
      ],
      "text/plain": [
       "<IPython.core.display.HTML object>"
      ]
     },
     "metadata": {},
     "output_type": "display_data"
    },
    {
     "data": {
      "text/html": [
       "<span style=\"color:blue\"> |-units_7: 96</span>"
      ],
      "text/plain": [
       "<IPython.core.display.HTML object>"
      ]
     },
     "metadata": {},
     "output_type": "display_data"
    },
    {
     "data": {
      "text/html": [
       "<span style=\"color:cyan\"> |-units_8: 224</span>"
      ],
      "text/plain": [
       "<IPython.core.display.HTML object>"
      ]
     },
     "metadata": {},
     "output_type": "display_data"
    },
    {
     "data": {
      "text/html": [
       "<span style=\"color:blue\"> |-units_9: 480</span>"
      ],
      "text/plain": [
       "<IPython.core.display.HTML object>"
      ]
     },
     "metadata": {},
     "output_type": "display_data"
    },
    {
     "name": "stdout",
     "output_type": "stream",
     "text": [
      "INFO:tensorflow:Oracle triggered exit\n"
     ]
    }
   ],
   "source": [
    "tuner.search(x_train, y_train,\n",
    "             epochs=100,\n",
    "             validation_data=(x_test, y_test))"
   ]
  },
  {
   "cell_type": "code",
   "execution_count": 13,
   "metadata": {},
   "outputs": [
    {
     "name": "stdout",
     "output_type": "stream",
     "text": [
      "WARNING:tensorflow:Unresolved object in checkpoint: (root).layer_with_weights-0._inbound_nodes\n",
      "WARNING:tensorflow:Unresolved object in checkpoint: (root).layer_with_weights-0.kernel\n",
      "WARNING:tensorflow:Unresolved object in checkpoint: (root).layer_with_weights-0.bias\n",
      "WARNING:tensorflow:Unresolved object in checkpoint: (root).layer_with_weights-1._inbound_nodes\n",
      "WARNING:tensorflow:Unresolved object in checkpoint: (root).layer_with_weights-1.kernel\n",
      "WARNING:tensorflow:Unresolved object in checkpoint: (root).layer_with_weights-1.bias\n",
      "WARNING:tensorflow:Unresolved object in checkpoint: (root).layer_with_weights-2._inbound_nodes\n",
      "WARNING:tensorflow:Unresolved object in checkpoint: (root).layer_with_weights-2.kernel\n",
      "WARNING:tensorflow:Unresolved object in checkpoint: (root).layer_with_weights-2.bias\n",
      "WARNING:tensorflow:Unresolved object in checkpoint: (root).layer_with_weights-3._inbound_nodes\n",
      "WARNING:tensorflow:Unresolved object in checkpoint: (root).layer_with_weights-3.kernel\n",
      "WARNING:tensorflow:Unresolved object in checkpoint: (root).layer_with_weights-3.bias\n",
      "WARNING:tensorflow:Unresolved object in checkpoint: (root).optimizer.iter\n",
      "WARNING:tensorflow:Unresolved object in checkpoint: (root).optimizer.beta_1\n",
      "WARNING:tensorflow:Unresolved object in checkpoint: (root).optimizer.beta_2\n",
      "WARNING:tensorflow:Unresolved object in checkpoint: (root).optimizer.decay\n",
      "WARNING:tensorflow:Unresolved object in checkpoint: (root).optimizer.learning_rate\n",
      "WARNING:tensorflow:Unresolved object in checkpoint: (root).optimizer's state 'm' for (root).layer_with_weights-0.kernel\n",
      "WARNING:tensorflow:Unresolved object in checkpoint: (root).optimizer's state 'm' for (root).layer_with_weights-0.bias\n",
      "WARNING:tensorflow:Unresolved object in checkpoint: (root).optimizer's state 'm' for (root).layer_with_weights-1.kernel\n",
      "WARNING:tensorflow:Unresolved object in checkpoint: (root).optimizer's state 'm' for (root).layer_with_weights-1.bias\n",
      "WARNING:tensorflow:Unresolved object in checkpoint: (root).optimizer's state 'm' for (root).layer_with_weights-2.kernel\n",
      "WARNING:tensorflow:Unresolved object in checkpoint: (root).optimizer's state 'm' for (root).layer_with_weights-2.bias\n",
      "WARNING:tensorflow:Unresolved object in checkpoint: (root).optimizer's state 'm' for (root).layer_with_weights-3.kernel\n",
      "WARNING:tensorflow:Unresolved object in checkpoint: (root).optimizer's state 'm' for (root).layer_with_weights-3.bias\n",
      "WARNING:tensorflow:Unresolved object in checkpoint: (root).optimizer's state 'v' for (root).layer_with_weights-0.kernel\n",
      "WARNING:tensorflow:Unresolved object in checkpoint: (root).optimizer's state 'v' for (root).layer_with_weights-0.bias\n",
      "WARNING:tensorflow:Unresolved object in checkpoint: (root).optimizer's state 'v' for (root).layer_with_weights-1.kernel\n",
      "WARNING:tensorflow:Unresolved object in checkpoint: (root).optimizer's state 'v' for (root).layer_with_weights-1.bias\n",
      "WARNING:tensorflow:Unresolved object in checkpoint: (root).optimizer's state 'v' for (root).layer_with_weights-2.kernel\n",
      "WARNING:tensorflow:Unresolved object in checkpoint: (root).optimizer's state 'v' for (root).layer_with_weights-2.bias\n",
      "WARNING:tensorflow:Unresolved object in checkpoint: (root).optimizer's state 'v' for (root).layer_with_weights-3.kernel\n",
      "WARNING:tensorflow:Unresolved object in checkpoint: (root).optimizer's state 'v' for (root).layer_with_weights-3.bias\n",
      "WARNING:tensorflow:A checkpoint was restored (e.g. tf.train.Checkpoint.restore or tf.keras.Model.load_weights) but not all checkpointed values were used. See above for specific issues. Use expect_partial() on the load status object, e.g. tf.train.Checkpoint.restore(...).expect_partial(), to silence these warnings, or use assert_consumed() to make the check explicit. See https://www.tensorflow.org/guide/checkpoint#loading_mechanics for details.\n"
     ]
    }
   ],
   "source": [
    "model = tuner.get_best_models(num_models=2)[0] # Best model"
   ]
  },
  {
   "cell_type": "code",
   "execution_count": 14,
   "metadata": {},
   "outputs": [
    {
     "data": {
      "text/html": [
       "<span style=\"color:#4527A0\"><h1 style=\"font-size:18px\">Results summary</h1></span>"
      ],
      "text/plain": [
       "<IPython.core.display.HTML object>"
      ]
     },
     "metadata": {},
     "output_type": "display_data"
    },
    {
     "data": {
      "text/html": [
       "<span style=\"color:cyan\"> |-Results in my_dir\\Models</span>"
      ],
      "text/plain": [
       "<IPython.core.display.HTML object>"
      ]
     },
     "metadata": {},
     "output_type": "display_data"
    },
    {
     "data": {
      "text/html": [
       "<span style=\"color:cyan\"> |-Showing 10 best trials</span>"
      ],
      "text/plain": [
       "<IPython.core.display.HTML object>"
      ]
     },
     "metadata": {},
     "output_type": "display_data"
    },
    {
     "data": {
      "text/html": [
       "<span style=\"color:cyan\"> |-Objective(name='val_mean_absolute_error', direction='min')</span>"
      ],
      "text/plain": [
       "<IPython.core.display.HTML object>"
      ]
     },
     "metadata": {},
     "output_type": "display_data"
    },
    {
     "data": {
      "text/html": [
       "<span style=\"color:#4527A0\"><h1 style=\"font-size:18px\">Trial summary</h1></span>"
      ],
      "text/plain": [
       "<IPython.core.display.HTML object>"
      ]
     },
     "metadata": {},
     "output_type": "display_data"
    },
    {
     "data": {
      "text/html": [
       "<span style=\"color:cyan\"> |-Trial ID: 6897874729956e030235e29580e84da6</span>"
      ],
      "text/plain": [
       "<IPython.core.display.HTML object>"
      ]
     },
     "metadata": {},
     "output_type": "display_data"
    },
    {
     "data": {
      "text/html": [
       "<span style=\"color:cyan\"> |-Score: 22.624352773030598</span>"
      ],
      "text/plain": [
       "<IPython.core.display.HTML object>"
      ]
     },
     "metadata": {},
     "output_type": "display_data"
    },
    {
     "data": {
      "text/html": [
       "<span style=\"color:cyan\"> |-Best step: 0</span>"
      ],
      "text/plain": [
       "<IPython.core.display.HTML object>"
      ]
     },
     "metadata": {},
     "output_type": "display_data"
    },
    {
     "data": {
      "text/html": [
       "<span style=\"color:#7E57C2\"><h2 style=\"font-size:16px\">Hyperparameters:</h2></span>"
      ],
      "text/plain": [
       "<IPython.core.display.HTML object>"
      ]
     },
     "metadata": {},
     "output_type": "display_data"
    },
    {
     "data": {
      "text/html": [
       "<span style=\"color:cyan\"> |-learning_rate: 0.001</span>"
      ],
      "text/plain": [
       "<IPython.core.display.HTML object>"
      ]
     },
     "metadata": {},
     "output_type": "display_data"
    },
    {
     "data": {
      "text/html": [
       "<span style=\"color:blue\"> |-num_layers: 20</span>"
      ],
      "text/plain": [
       "<IPython.core.display.HTML object>"
      ]
     },
     "metadata": {},
     "output_type": "display_data"
    },
    {
     "data": {
      "text/html": [
       "<span style=\"color:cyan\"> |-units_0: 192</span>"
      ],
      "text/plain": [
       "<IPython.core.display.HTML object>"
      ]
     },
     "metadata": {},
     "output_type": "display_data"
    },
    {
     "data": {
      "text/html": [
       "<span style=\"color:blue\"> |-units_1: 128</span>"
      ],
      "text/plain": [
       "<IPython.core.display.HTML object>"
      ]
     },
     "metadata": {},
     "output_type": "display_data"
    },
    {
     "data": {
      "text/html": [
       "<span style=\"color:cyan\"> |-units_10: 32</span>"
      ],
      "text/plain": [
       "<IPython.core.display.HTML object>"
      ]
     },
     "metadata": {},
     "output_type": "display_data"
    },
    {
     "data": {
      "text/html": [
       "<span style=\"color:blue\"> |-units_11: 32</span>"
      ],
      "text/plain": [
       "<IPython.core.display.HTML object>"
      ]
     },
     "metadata": {},
     "output_type": "display_data"
    },
    {
     "data": {
      "text/html": [
       "<span style=\"color:cyan\"> |-units_12: 32</span>"
      ],
      "text/plain": [
       "<IPython.core.display.HTML object>"
      ]
     },
     "metadata": {},
     "output_type": "display_data"
    },
    {
     "data": {
      "text/html": [
       "<span style=\"color:blue\"> |-units_13: 32</span>"
      ],
      "text/plain": [
       "<IPython.core.display.HTML object>"
      ]
     },
     "metadata": {},
     "output_type": "display_data"
    },
    {
     "data": {
      "text/html": [
       "<span style=\"color:cyan\"> |-units_14: 32</span>"
      ],
      "text/plain": [
       "<IPython.core.display.HTML object>"
      ]
     },
     "metadata": {},
     "output_type": "display_data"
    },
    {
     "data": {
      "text/html": [
       "<span style=\"color:blue\"> |-units_15: 32</span>"
      ],
      "text/plain": [
       "<IPython.core.display.HTML object>"
      ]
     },
     "metadata": {},
     "output_type": "display_data"
    },
    {
     "data": {
      "text/html": [
       "<span style=\"color:cyan\"> |-units_16: 32</span>"
      ],
      "text/plain": [
       "<IPython.core.display.HTML object>"
      ]
     },
     "metadata": {},
     "output_type": "display_data"
    },
    {
     "data": {
      "text/html": [
       "<span style=\"color:blue\"> |-units_17: 32</span>"
      ],
      "text/plain": [
       "<IPython.core.display.HTML object>"
      ]
     },
     "metadata": {},
     "output_type": "display_data"
    },
    {
     "data": {
      "text/html": [
       "<span style=\"color:cyan\"> |-units_18: 32</span>"
      ],
      "text/plain": [
       "<IPython.core.display.HTML object>"
      ]
     },
     "metadata": {},
     "output_type": "display_data"
    },
    {
     "data": {
      "text/html": [
       "<span style=\"color:blue\"> |-units_19: 32</span>"
      ],
      "text/plain": [
       "<IPython.core.display.HTML object>"
      ]
     },
     "metadata": {},
     "output_type": "display_data"
    },
    {
     "data": {
      "text/html": [
       "<span style=\"color:cyan\"> |-units_2: 448</span>"
      ],
      "text/plain": [
       "<IPython.core.display.HTML object>"
      ]
     },
     "metadata": {},
     "output_type": "display_data"
    },
    {
     "data": {
      "text/html": [
       "<span style=\"color:blue\"> |-units_3: 224</span>"
      ],
      "text/plain": [
       "<IPython.core.display.HTML object>"
      ]
     },
     "metadata": {},
     "output_type": "display_data"
    },
    {
     "data": {
      "text/html": [
       "<span style=\"color:cyan\"> |-units_4: 256</span>"
      ],
      "text/plain": [
       "<IPython.core.display.HTML object>"
      ]
     },
     "metadata": {},
     "output_type": "display_data"
    },
    {
     "data": {
      "text/html": [
       "<span style=\"color:blue\"> |-units_5: 384</span>"
      ],
      "text/plain": [
       "<IPython.core.display.HTML object>"
      ]
     },
     "metadata": {},
     "output_type": "display_data"
    },
    {
     "data": {
      "text/html": [
       "<span style=\"color:cyan\"> |-units_6: 416</span>"
      ],
      "text/plain": [
       "<IPython.core.display.HTML object>"
      ]
     },
     "metadata": {},
     "output_type": "display_data"
    },
    {
     "data": {
      "text/html": [
       "<span style=\"color:blue\"> |-units_7: 32</span>"
      ],
      "text/plain": [
       "<IPython.core.display.HTML object>"
      ]
     },
     "metadata": {},
     "output_type": "display_data"
    },
    {
     "data": {
      "text/html": [
       "<span style=\"color:cyan\"> |-units_8: 32</span>"
      ],
      "text/plain": [
       "<IPython.core.display.HTML object>"
      ]
     },
     "metadata": {},
     "output_type": "display_data"
    },
    {
     "data": {
      "text/html": [
       "<span style=\"color:blue\"> |-units_9: 32</span>"
      ],
      "text/plain": [
       "<IPython.core.display.HTML object>"
      ]
     },
     "metadata": {},
     "output_type": "display_data"
    },
    {
     "data": {
      "text/html": [
       "<span style=\"color:#4527A0\"><h1 style=\"font-size:18px\">Trial summary</h1></span>"
      ],
      "text/plain": [
       "<IPython.core.display.HTML object>"
      ]
     },
     "metadata": {},
     "output_type": "display_data"
    },
    {
     "data": {
      "text/html": [
       "<span style=\"color:cyan\"> |-Trial ID: dbb4c09d368c7532e718c3cd675299e2</span>"
      ],
      "text/plain": [
       "<IPython.core.display.HTML object>"
      ]
     },
     "metadata": {},
     "output_type": "display_data"
    },
    {
     "data": {
      "text/html": [
       "<span style=\"color:cyan\"> |-Score: 25.188175201416016</span>"
      ],
      "text/plain": [
       "<IPython.core.display.HTML object>"
      ]
     },
     "metadata": {},
     "output_type": "display_data"
    },
    {
     "data": {
      "text/html": [
       "<span style=\"color:cyan\"> |-Best step: 0</span>"
      ],
      "text/plain": [
       "<IPython.core.display.HTML object>"
      ]
     },
     "metadata": {},
     "output_type": "display_data"
    },
    {
     "data": {
      "text/html": [
       "<span style=\"color:#7E57C2\"><h2 style=\"font-size:16px\">Hyperparameters:</h2></span>"
      ],
      "text/plain": [
       "<IPython.core.display.HTML object>"
      ]
     },
     "metadata": {},
     "output_type": "display_data"
    },
    {
     "data": {
      "text/html": [
       "<span style=\"color:cyan\"> |-learning_rate: 0.01</span>"
      ],
      "text/plain": [
       "<IPython.core.display.HTML object>"
      ]
     },
     "metadata": {},
     "output_type": "display_data"
    },
    {
     "data": {
      "text/html": [
       "<span style=\"color:blue\"> |-num_layers: 3</span>"
      ],
      "text/plain": [
       "<IPython.core.display.HTML object>"
      ]
     },
     "metadata": {},
     "output_type": "display_data"
    },
    {
     "data": {
      "text/html": [
       "<span style=\"color:cyan\"> |-units_0: 512</span>"
      ],
      "text/plain": [
       "<IPython.core.display.HTML object>"
      ]
     },
     "metadata": {},
     "output_type": "display_data"
    },
    {
     "data": {
      "text/html": [
       "<span style=\"color:blue\"> |-units_1: 96</span>"
      ],
      "text/plain": [
       "<IPython.core.display.HTML object>"
      ]
     },
     "metadata": {},
     "output_type": "display_data"
    },
    {
     "data": {
      "text/html": [
       "<span style=\"color:cyan\"> |-units_10: 448</span>"
      ],
      "text/plain": [
       "<IPython.core.display.HTML object>"
      ]
     },
     "metadata": {},
     "output_type": "display_data"
    },
    {
     "data": {
      "text/html": [
       "<span style=\"color:blue\"> |-units_11: 224</span>"
      ],
      "text/plain": [
       "<IPython.core.display.HTML object>"
      ]
     },
     "metadata": {},
     "output_type": "display_data"
    },
    {
     "data": {
      "text/html": [
       "<span style=\"color:cyan\"> |-units_12: 96</span>"
      ],
      "text/plain": [
       "<IPython.core.display.HTML object>"
      ]
     },
     "metadata": {},
     "output_type": "display_data"
    },
    {
     "data": {
      "text/html": [
       "<span style=\"color:blue\"> |-units_13: 64</span>"
      ],
      "text/plain": [
       "<IPython.core.display.HTML object>"
      ]
     },
     "metadata": {},
     "output_type": "display_data"
    },
    {
     "data": {
      "text/html": [
       "<span style=\"color:cyan\"> |-units_14: 192</span>"
      ],
      "text/plain": [
       "<IPython.core.display.HTML object>"
      ]
     },
     "metadata": {},
     "output_type": "display_data"
    },
    {
     "data": {
      "text/html": [
       "<span style=\"color:blue\"> |-units_15: 192</span>"
      ],
      "text/plain": [
       "<IPython.core.display.HTML object>"
      ]
     },
     "metadata": {},
     "output_type": "display_data"
    },
    {
     "data": {
      "text/html": [
       "<span style=\"color:cyan\"> |-units_16: 256</span>"
      ],
      "text/plain": [
       "<IPython.core.display.HTML object>"
      ]
     },
     "metadata": {},
     "output_type": "display_data"
    },
    {
     "data": {
      "text/html": [
       "<span style=\"color:blue\"> |-units_17: 480</span>"
      ],
      "text/plain": [
       "<IPython.core.display.HTML object>"
      ]
     },
     "metadata": {},
     "output_type": "display_data"
    },
    {
     "data": {
      "text/html": [
       "<span style=\"color:cyan\"> |-units_18: 512</span>"
      ],
      "text/plain": [
       "<IPython.core.display.HTML object>"
      ]
     },
     "metadata": {},
     "output_type": "display_data"
    },
    {
     "data": {
      "text/html": [
       "<span style=\"color:blue\"> |-units_19: 256</span>"
      ],
      "text/plain": [
       "<IPython.core.display.HTML object>"
      ]
     },
     "metadata": {},
     "output_type": "display_data"
    },
    {
     "data": {
      "text/html": [
       "<span style=\"color:cyan\"> |-units_2: 64</span>"
      ],
      "text/plain": [
       "<IPython.core.display.HTML object>"
      ]
     },
     "metadata": {},
     "output_type": "display_data"
    },
    {
     "data": {
      "text/html": [
       "<span style=\"color:blue\"> |-units_3: 160</span>"
      ],
      "text/plain": [
       "<IPython.core.display.HTML object>"
      ]
     },
     "metadata": {},
     "output_type": "display_data"
    },
    {
     "data": {
      "text/html": [
       "<span style=\"color:cyan\"> |-units_4: 160</span>"
      ],
      "text/plain": [
       "<IPython.core.display.HTML object>"
      ]
     },
     "metadata": {},
     "output_type": "display_data"
    },
    {
     "data": {
      "text/html": [
       "<span style=\"color:blue\"> |-units_5: 192</span>"
      ],
      "text/plain": [
       "<IPython.core.display.HTML object>"
      ]
     },
     "metadata": {},
     "output_type": "display_data"
    },
    {
     "data": {
      "text/html": [
       "<span style=\"color:cyan\"> |-units_6: 384</span>"
      ],
      "text/plain": [
       "<IPython.core.display.HTML object>"
      ]
     },
     "metadata": {},
     "output_type": "display_data"
    },
    {
     "data": {
      "text/html": [
       "<span style=\"color:blue\"> |-units_7: 96</span>"
      ],
      "text/plain": [
       "<IPython.core.display.HTML object>"
      ]
     },
     "metadata": {},
     "output_type": "display_data"
    },
    {
     "data": {
      "text/html": [
       "<span style=\"color:cyan\"> |-units_8: 96</span>"
      ],
      "text/plain": [
       "<IPython.core.display.HTML object>"
      ]
     },
     "metadata": {},
     "output_type": "display_data"
    },
    {
     "data": {
      "text/html": [
       "<span style=\"color:blue\"> |-units_9: 128</span>"
      ],
      "text/plain": [
       "<IPython.core.display.HTML object>"
      ]
     },
     "metadata": {},
     "output_type": "display_data"
    },
    {
     "data": {
      "text/html": [
       "<span style=\"color:#4527A0\"><h1 style=\"font-size:18px\">Trial summary</h1></span>"
      ],
      "text/plain": [
       "<IPython.core.display.HTML object>"
      ]
     },
     "metadata": {},
     "output_type": "display_data"
    },
    {
     "data": {
      "text/html": [
       "<span style=\"color:cyan\"> |-Trial ID: 6bcaef2fd5bd0a6b9e7578e61c82aa8b</span>"
      ],
      "text/plain": [
       "<IPython.core.display.HTML object>"
      ]
     },
     "metadata": {},
     "output_type": "display_data"
    },
    {
     "data": {
      "text/html": [
       "<span style=\"color:cyan\"> |-Score: 28.106918970743816</span>"
      ],
      "text/plain": [
       "<IPython.core.display.HTML object>"
      ]
     },
     "metadata": {},
     "output_type": "display_data"
    },
    {
     "data": {
      "text/html": [
       "<span style=\"color:cyan\"> |-Best step: 0</span>"
      ],
      "text/plain": [
       "<IPython.core.display.HTML object>"
      ]
     },
     "metadata": {},
     "output_type": "display_data"
    },
    {
     "data": {
      "text/html": [
       "<span style=\"color:#7E57C2\"><h2 style=\"font-size:16px\">Hyperparameters:</h2></span>"
      ],
      "text/plain": [
       "<IPython.core.display.HTML object>"
      ]
     },
     "metadata": {},
     "output_type": "display_data"
    },
    {
     "data": {
      "text/html": [
       "<span style=\"color:cyan\"> |-learning_rate: 0.0001</span>"
      ],
      "text/plain": [
       "<IPython.core.display.HTML object>"
      ]
     },
     "metadata": {},
     "output_type": "display_data"
    },
    {
     "data": {
      "text/html": [
       "<span style=\"color:blue\"> |-num_layers: 7</span>"
      ],
      "text/plain": [
       "<IPython.core.display.HTML object>"
      ]
     },
     "metadata": {},
     "output_type": "display_data"
    },
    {
     "data": {
      "text/html": [
       "<span style=\"color:cyan\"> |-units_0: 256</span>"
      ],
      "text/plain": [
       "<IPython.core.display.HTML object>"
      ]
     },
     "metadata": {},
     "output_type": "display_data"
    },
    {
     "data": {
      "text/html": [
       "<span style=\"color:blue\"> |-units_1: 384</span>"
      ],
      "text/plain": [
       "<IPython.core.display.HTML object>"
      ]
     },
     "metadata": {},
     "output_type": "display_data"
    },
    {
     "data": {
      "text/html": [
       "<span style=\"color:cyan\"> |-units_2: 320</span>"
      ],
      "text/plain": [
       "<IPython.core.display.HTML object>"
      ]
     },
     "metadata": {},
     "output_type": "display_data"
    },
    {
     "data": {
      "text/html": [
       "<span style=\"color:blue\"> |-units_3: 480</span>"
      ],
      "text/plain": [
       "<IPython.core.display.HTML object>"
      ]
     },
     "metadata": {},
     "output_type": "display_data"
    },
    {
     "data": {
      "text/html": [
       "<span style=\"color:cyan\"> |-units_4: 384</span>"
      ],
      "text/plain": [
       "<IPython.core.display.HTML object>"
      ]
     },
     "metadata": {},
     "output_type": "display_data"
    },
    {
     "data": {
      "text/html": [
       "<span style=\"color:blue\"> |-units_5: 32</span>"
      ],
      "text/plain": [
       "<IPython.core.display.HTML object>"
      ]
     },
     "metadata": {},
     "output_type": "display_data"
    },
    {
     "data": {
      "text/html": [
       "<span style=\"color:cyan\"> |-units_6: 32</span>"
      ],
      "text/plain": [
       "<IPython.core.display.HTML object>"
      ]
     },
     "metadata": {},
     "output_type": "display_data"
    },
    {
     "data": {
      "text/html": [
       "<span style=\"color:#4527A0\"><h1 style=\"font-size:18px\">Trial summary</h1></span>"
      ],
      "text/plain": [
       "<IPython.core.display.HTML object>"
      ]
     },
     "metadata": {},
     "output_type": "display_data"
    },
    {
     "data": {
      "text/html": [
       "<span style=\"color:cyan\"> |-Trial ID: 13eb66a04a75014f5ce9c07856da2fa8</span>"
      ],
      "text/plain": [
       "<IPython.core.display.HTML object>"
      ]
     },
     "metadata": {},
     "output_type": "display_data"
    },
    {
     "data": {
      "text/html": [
       "<span style=\"color:cyan\"> |-Score: 29.81553840637207</span>"
      ],
      "text/plain": [
       "<IPython.core.display.HTML object>"
      ]
     },
     "metadata": {},
     "output_type": "display_data"
    },
    {
     "data": {
      "text/html": [
       "<span style=\"color:cyan\"> |-Best step: 0</span>"
      ],
      "text/plain": [
       "<IPython.core.display.HTML object>"
      ]
     },
     "metadata": {},
     "output_type": "display_data"
    },
    {
     "data": {
      "text/html": [
       "<span style=\"color:#7E57C2\"><h2 style=\"font-size:16px\">Hyperparameters:</h2></span>"
      ],
      "text/plain": [
       "<IPython.core.display.HTML object>"
      ]
     },
     "metadata": {},
     "output_type": "display_data"
    },
    {
     "data": {
      "text/html": [
       "<span style=\"color:cyan\"> |-learning_rate: 0.001</span>"
      ],
      "text/plain": [
       "<IPython.core.display.HTML object>"
      ]
     },
     "metadata": {},
     "output_type": "display_data"
    },
    {
     "data": {
      "text/html": [
       "<span style=\"color:blue\"> |-num_layers: 5</span>"
      ],
      "text/plain": [
       "<IPython.core.display.HTML object>"
      ]
     },
     "metadata": {},
     "output_type": "display_data"
    },
    {
     "data": {
      "text/html": [
       "<span style=\"color:cyan\"> |-units_0: 320</span>"
      ],
      "text/plain": [
       "<IPython.core.display.HTML object>"
      ]
     },
     "metadata": {},
     "output_type": "display_data"
    },
    {
     "data": {
      "text/html": [
       "<span style=\"color:blue\"> |-units_1: 128</span>"
      ],
      "text/plain": [
       "<IPython.core.display.HTML object>"
      ]
     },
     "metadata": {},
     "output_type": "display_data"
    },
    {
     "data": {
      "text/html": [
       "<span style=\"color:cyan\"> |-units_2: 32</span>"
      ],
      "text/plain": [
       "<IPython.core.display.HTML object>"
      ]
     },
     "metadata": {},
     "output_type": "display_data"
    },
    {
     "data": {
      "text/html": [
       "<span style=\"color:blue\"> |-units_3: 32</span>"
      ],
      "text/plain": [
       "<IPython.core.display.HTML object>"
      ]
     },
     "metadata": {},
     "output_type": "display_data"
    },
    {
     "data": {
      "text/html": [
       "<span style=\"color:cyan\"> |-units_4: 32</span>"
      ],
      "text/plain": [
       "<IPython.core.display.HTML object>"
      ]
     },
     "metadata": {},
     "output_type": "display_data"
    },
    {
     "data": {
      "text/html": [
       "<span style=\"color:#4527A0\"><h1 style=\"font-size:18px\">Trial summary</h1></span>"
      ],
      "text/plain": [
       "<IPython.core.display.HTML object>"
      ]
     },
     "metadata": {},
     "output_type": "display_data"
    },
    {
     "data": {
      "text/html": [
       "<span style=\"color:cyan\"> |-Trial ID: 34047fc8424c9cf700cff10e28c6c894</span>"
      ],
      "text/plain": [
       "<IPython.core.display.HTML object>"
      ]
     },
     "metadata": {},
     "output_type": "display_data"
    },
    {
     "data": {
      "text/html": [
       "<span style=\"color:cyan\"> |-Score: 63.40670267740885</span>"
      ],
      "text/plain": [
       "<IPython.core.display.HTML object>"
      ]
     },
     "metadata": {},
     "output_type": "display_data"
    },
    {
     "data": {
      "text/html": [
       "<span style=\"color:cyan\"> |-Best step: 0</span>"
      ],
      "text/plain": [
       "<IPython.core.display.HTML object>"
      ]
     },
     "metadata": {},
     "output_type": "display_data"
    },
    {
     "data": {
      "text/html": [
       "<span style=\"color:#7E57C2\"><h2 style=\"font-size:16px\">Hyperparameters:</h2></span>"
      ],
      "text/plain": [
       "<IPython.core.display.HTML object>"
      ]
     },
     "metadata": {},
     "output_type": "display_data"
    },
    {
     "data": {
      "text/html": [
       "<span style=\"color:cyan\"> |-learning_rate: 0.01</span>"
      ],
      "text/plain": [
       "<IPython.core.display.HTML object>"
      ]
     },
     "metadata": {},
     "output_type": "display_data"
    },
    {
     "data": {
      "text/html": [
       "<span style=\"color:blue\"> |-num_layers: 18</span>"
      ],
      "text/plain": [
       "<IPython.core.display.HTML object>"
      ]
     },
     "metadata": {},
     "output_type": "display_data"
    },
    {
     "data": {
      "text/html": [
       "<span style=\"color:cyan\"> |-units_0: 320</span>"
      ],
      "text/plain": [
       "<IPython.core.display.HTML object>"
      ]
     },
     "metadata": {},
     "output_type": "display_data"
    },
    {
     "data": {
      "text/html": [
       "<span style=\"color:blue\"> |-units_1: 64</span>"
      ],
      "text/plain": [
       "<IPython.core.display.HTML object>"
      ]
     },
     "metadata": {},
     "output_type": "display_data"
    },
    {
     "data": {
      "text/html": [
       "<span style=\"color:cyan\"> |-units_10: 160</span>"
      ],
      "text/plain": [
       "<IPython.core.display.HTML object>"
      ]
     },
     "metadata": {},
     "output_type": "display_data"
    },
    {
     "data": {
      "text/html": [
       "<span style=\"color:blue\"> |-units_11: 384</span>"
      ],
      "text/plain": [
       "<IPython.core.display.HTML object>"
      ]
     },
     "metadata": {},
     "output_type": "display_data"
    },
    {
     "data": {
      "text/html": [
       "<span style=\"color:cyan\"> |-units_12: 320</span>"
      ],
      "text/plain": [
       "<IPython.core.display.HTML object>"
      ]
     },
     "metadata": {},
     "output_type": "display_data"
    },
    {
     "data": {
      "text/html": [
       "<span style=\"color:blue\"> |-units_13: 320</span>"
      ],
      "text/plain": [
       "<IPython.core.display.HTML object>"
      ]
     },
     "metadata": {},
     "output_type": "display_data"
    },
    {
     "data": {
      "text/html": [
       "<span style=\"color:cyan\"> |-units_14: 512</span>"
      ],
      "text/plain": [
       "<IPython.core.display.HTML object>"
      ]
     },
     "metadata": {},
     "output_type": "display_data"
    },
    {
     "data": {
      "text/html": [
       "<span style=\"color:blue\"> |-units_15: 416</span>"
      ],
      "text/plain": [
       "<IPython.core.display.HTML object>"
      ]
     },
     "metadata": {},
     "output_type": "display_data"
    },
    {
     "data": {
      "text/html": [
       "<span style=\"color:cyan\"> |-units_16: 416</span>"
      ],
      "text/plain": [
       "<IPython.core.display.HTML object>"
      ]
     },
     "metadata": {},
     "output_type": "display_data"
    },
    {
     "data": {
      "text/html": [
       "<span style=\"color:blue\"> |-units_17: 96</span>"
      ],
      "text/plain": [
       "<IPython.core.display.HTML object>"
      ]
     },
     "metadata": {},
     "output_type": "display_data"
    },
    {
     "data": {
      "text/html": [
       "<span style=\"color:cyan\"> |-units_18: 128</span>"
      ],
      "text/plain": [
       "<IPython.core.display.HTML object>"
      ]
     },
     "metadata": {},
     "output_type": "display_data"
    },
    {
     "data": {
      "text/html": [
       "<span style=\"color:blue\"> |-units_19: 160</span>"
      ],
      "text/plain": [
       "<IPython.core.display.HTML object>"
      ]
     },
     "metadata": {},
     "output_type": "display_data"
    },
    {
     "data": {
      "text/html": [
       "<span style=\"color:cyan\"> |-units_2: 416</span>"
      ],
      "text/plain": [
       "<IPython.core.display.HTML object>"
      ]
     },
     "metadata": {},
     "output_type": "display_data"
    },
    {
     "data": {
      "text/html": [
       "<span style=\"color:blue\"> |-units_3: 160</span>"
      ],
      "text/plain": [
       "<IPython.core.display.HTML object>"
      ]
     },
     "metadata": {},
     "output_type": "display_data"
    },
    {
     "data": {
      "text/html": [
       "<span style=\"color:cyan\"> |-units_4: 192</span>"
      ],
      "text/plain": [
       "<IPython.core.display.HTML object>"
      ]
     },
     "metadata": {},
     "output_type": "display_data"
    },
    {
     "data": {
      "text/html": [
       "<span style=\"color:blue\"> |-units_5: 64</span>"
      ],
      "text/plain": [
       "<IPython.core.display.HTML object>"
      ]
     },
     "metadata": {},
     "output_type": "display_data"
    },
    {
     "data": {
      "text/html": [
       "<span style=\"color:cyan\"> |-units_6: 512</span>"
      ],
      "text/plain": [
       "<IPython.core.display.HTML object>"
      ]
     },
     "metadata": {},
     "output_type": "display_data"
    },
    {
     "data": {
      "text/html": [
       "<span style=\"color:blue\"> |-units_7: 96</span>"
      ],
      "text/plain": [
       "<IPython.core.display.HTML object>"
      ]
     },
     "metadata": {},
     "output_type": "display_data"
    },
    {
     "data": {
      "text/html": [
       "<span style=\"color:cyan\"> |-units_8: 224</span>"
      ],
      "text/plain": [
       "<IPython.core.display.HTML object>"
      ]
     },
     "metadata": {},
     "output_type": "display_data"
    },
    {
     "data": {
      "text/html": [
       "<span style=\"color:blue\"> |-units_9: 480</span>"
      ],
      "text/plain": [
       "<IPython.core.display.HTML object>"
      ]
     },
     "metadata": {},
     "output_type": "display_data"
    }
   ],
   "source": [
    "tuner.results_summary()"
   ]
  },
  {
   "cell_type": "code",
   "execution_count": 15,
   "metadata": {},
   "outputs": [
    {
     "data": {
      "text/plain": [
       "<tensorflow.python.keras.engine.sequential.Sequential at 0x2ab32f1fa88>"
      ]
     },
     "execution_count": 15,
     "metadata": {},
     "output_type": "execute_result"
    }
   ],
   "source": [
    "model"
   ]
  },
  {
   "cell_type": "code",
   "execution_count": 16,
   "metadata": {},
   "outputs": [
    {
     "name": "stdout",
     "output_type": "stream",
     "text": [
      "7/7 [==============================] - ETA: 0s - loss: 21.0879 - mean_absolute_error: 21.087 - 0s 3ms/step - loss: 22.5668 - mean_absolute_error: 22.5668\n"
     ]
    }
   ],
   "source": [
    "# Evaluate the model\n",
    "\n",
    "loss, accuracy = model.evaluate(x_test, y_test) # Test the accuracy on test data"
   ]
  },
  {
   "cell_type": "code",
   "execution_count": 17,
   "metadata": {},
   "outputs": [
    {
     "name": "stdout",
     "output_type": "stream",
     "text": [
      "22.566816329956055 22.566816329956055\n"
     ]
    }
   ],
   "source": [
    "print(loss, accuracy)"
   ]
  },
  {
   "cell_type": "code",
   "execution_count": 18,
   "metadata": {},
   "outputs": [
    {
     "data": {
      "text/plain": [
       "['loss', 'mean_absolute_error']"
      ]
     },
     "execution_count": 18,
     "metadata": {},
     "output_type": "execute_result"
    }
   ],
   "source": [
    "model.metrics_names"
   ]
  },
  {
   "cell_type": "markdown",
   "metadata": {},
   "source": [
    "## Save Model"
   ]
  },
  {
   "cell_type": "code",
   "execution_count": 19,
   "metadata": {},
   "outputs": [],
   "source": [
    "model.save('Model.h5')"
   ]
  },
  {
   "cell_type": "markdown",
   "metadata": {},
   "source": [
    "## Single Prediction"
   ]
  },
  {
   "cell_type": "code",
   "execution_count": 20,
   "metadata": {},
   "outputs": [],
   "source": [
    "T = 7.4\n",
    "TM = 9.8\n",
    "Tm = 4.8\n",
    "SLP = 1017.6\n",
    "H = 93.0\n",
    "VV = 0.5\n",
    "V = 4.3\n",
    "VM = 9.4\n",
    "\n",
    "data = ss.transform([[T, TM, Tm, SLP, H, VV, V, VM]])"
   ]
  },
  {
   "cell_type": "code",
   "execution_count": 21,
   "metadata": {},
   "outputs": [
    {
     "data": {
      "text/plain": [
       "array([[-2.57159622, -3.4210371 , -1.96667138,  1.25630887,  1.90387122,\n",
       "        -2.05010366, -0.62192   , -0.89038409]])"
      ]
     },
     "execution_count": 21,
     "metadata": {},
     "output_type": "execute_result"
    }
   ],
   "source": [
    "data"
   ]
  },
  {
   "cell_type": "code",
   "execution_count": 22,
   "metadata": {},
   "outputs": [
    {
     "data": {
      "text/plain": [
       "array([[209.89272]], dtype=float32)"
      ]
     },
     "execution_count": 22,
     "metadata": {},
     "output_type": "execute_result"
    }
   ],
   "source": [
    "model.predict(data)"
   ]
  }
 ],
 "metadata": {
  "kernelspec": {
   "display_name": "Python 3",
   "language": "python",
   "name": "python3"
  },
  "language_info": {
   "codemirror_mode": {
    "name": "ipython",
    "version": 3
   },
   "file_extension": ".py",
   "mimetype": "text/x-python",
   "name": "python",
   "nbconvert_exporter": "python",
   "pygments_lexer": "ipython3",
   "version": "3.7.9"
  }
 },
 "nbformat": 4,
 "nbformat_minor": 4
}
